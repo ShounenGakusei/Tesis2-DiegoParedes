{
 "cells": [
  {
   "cell_type": "code",
   "execution_count": 1,
   "id": "431cbf63",
   "metadata": {},
   "outputs": [],
   "source": [
    "\"\"\"\n",
    "Se creara las carpetas para el proyecto\n",
    "\"\"\"\n",
    "import os"
   ]
  },
  {
   "cell_type": "code",
   "execution_count": 2,
   "id": "3cdc7337",
   "metadata": {},
   "outputs": [
    {
     "data": {
      "text/plain": [
       "'C:/Users/Shounen/Desktop/Ciclo XI/Tesis 2/NewTesis'"
      ]
     },
     "execution_count": 2,
     "metadata": {},
     "output_type": "execute_result"
    }
   ],
   "source": [
    "\"\"\"\n",
    "DEFINIMOS EL PATH BASE DEL PROYECTO\n",
    "\"\"\"\n",
    "with open('../path_base.txt') as f:\n",
    "    path_base = f.read()\n",
    "path_base    "
   ]
  },
  {
   "cell_type": "code",
   "execution_count": 3,
   "id": "779a3e5f",
   "metadata": {},
   "outputs": [],
   "source": [
    "# Crea una carpeta en path\n",
    "def crearDir(path, newDir):\n",
    "    try:\n",
    "        pathT = os.path.join(path, newDir)\n",
    "        os.mkdir(pathT)\n",
    "        return pathT\n",
    "    except FileExistsError:\n",
    "        return pathT       \n",
    "    except:\n",
    "        print(f\"No se pudo crear el directorio: {newDir}\")\n",
    "        pritn(f'Path base: {path}')\n",
    "        pritn(f'Nuevo    : {newDir}')        \n",
    "        return None"
   ]
  },
  {
   "cell_type": "code",
   "execution_count": 4,
   "id": "4f4b53be",
   "metadata": {},
   "outputs": [],
   "source": [
    "# En este directorio se guardara el conjunto de datos PROCESADOS para el entrenamiento, validacion y pruebas\n",
    "# Estos estarán organizados por modelo-experimento\n",
    "def crearDatasetDir(path_base,modelos):\n",
    "    print(f'Creando directorio de dataset...', end =' ')\n",
    "    path_ds = crearDir(path_base,'Dataset')\n",
    "    \n",
    "    for modelo in modelos:\n",
    "        path_modelo = crearDir(path_ds,modelo)\n",
    "        \n",
    "        path_train = crearDir(path_modelo,'Entrenamiento')\n",
    "        path_prueba = crearDir(path_modelo,'Pruebas')\n",
    "        path_vald = crearDir(path_modelo,'Validacion')\n",
    "    print('DONE')"
   ]
  },
  {
   "cell_type": "code",
   "execution_count": 5,
   "id": "453c9c0a",
   "metadata": {},
   "outputs": [],
   "source": [
    "\n",
    "# En este directorio se guardaran los resultados de los experimentos (entrenamiento de los modelos), \n",
    "# estarán organizados por modelo-experimento\n",
    "def crearResultadosDir(path_base,modelos):\n",
    "    print(f'Creando directorio de resutlados...', end =' ')\n",
    "    path_result = crearDir(path_base,'Resultados')  \n",
    "    \n",
    "    for modelo in modelos:\n",
    "        path_modelo = crearDir(path_result,modelo)\n",
    "        \n",
    "    print('DONE')"
   ]
  },
  {
   "cell_type": "code",
   "execution_count": 6,
   "id": "3e9930ef",
   "metadata": {},
   "outputs": [],
   "source": [
    "# En este directorio se guardaran los reportes: Analisis de datos, comparacion de resultados, plots, etc.\n",
    "def crearReportesDir(path_base,modelos):\n",
    "    print(f'Creando directorio de reportes...', end =' ')\n",
    "    path_rep = crearDir(path_base,'Reportes')  \n",
    "    path_plot = crearDir(path_rep,'Plots')\n",
    "    path_analisis = crearDir(path_rep,'Datos')\n",
    "    path_pruebas = crearDir(path_rep,'Pruebas')\n",
    "    \n",
    "    path_train = crearDir(path_rep,'Entrenamiento')\n",
    "    \n",
    "    for modelo in modelos:\n",
    "        path_modelo = crearDir(path_train,modelo)    \n",
    "    \n",
    "    print('DONE')"
   ]
  },
  {
   "cell_type": "code",
   "execution_count": 7,
   "id": "6c54aa14",
   "metadata": {},
   "outputs": [],
   "source": [
    "# Crea todos los directorios para el proyecto\n",
    "def inicializarProyecto(path_base,modelos):\n",
    "    print(f'Inicializando carpetas del proyecto para {modelos}...')    \n",
    "    path_archivos = crearDir(path_base,'Archivos')\n",
    "    crearDir(path_archivos,'Inicial')\n",
    "        \n",
    "    crearDatasetDir(path_archivos,modelos)\n",
    "    crearResultadosDir(path_archivos,modelos)\n",
    "    crearReportesDir(path_archivos,modelos)    \n",
    "    print('Inicializacion terminada')"
   ]
  },
  {
   "cell_type": "code",
   "execution_count": 8,
   "id": "7e98cc7a",
   "metadata": {},
   "outputs": [
    {
     "name": "stdout",
     "output_type": "stream",
     "text": [
      "Inicializando carpetas del proyecto para ['Clasificacion', 'Regresion']...\n",
      "Creando directorio de dataset... DONE\n",
      "Creando directorio de resutlados... DONE\n",
      "Creando directorio de reportes... DONE\n",
      "Inicializacion terminada\n"
     ]
    }
   ],
   "source": [
    "modelos = ['Clasificacion', 'Regresion']\n",
    "inicializarProyecto(path_base,modelos)"
   ]
  },
  {
   "cell_type": "code",
   "execution_count": null,
   "id": "f8632d3b",
   "metadata": {},
   "outputs": [],
   "source": []
  }
 ],
 "metadata": {
  "kernelspec": {
   "display_name": "Python 3 (ipykernel)",
   "language": "python",
   "name": "python3"
  },
  "language_info": {
   "codemirror_mode": {
    "name": "ipython",
    "version": 3
   },
   "file_extension": ".py",
   "mimetype": "text/x-python",
   "name": "python",
   "nbconvert_exporter": "python",
   "pygments_lexer": "ipython3",
   "version": "3.9.11"
  }
 },
 "nbformat": 4,
 "nbformat_minor": 5
}
