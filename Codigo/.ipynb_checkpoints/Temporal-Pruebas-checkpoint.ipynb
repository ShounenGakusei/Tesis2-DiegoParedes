{
 "cells": [
  {
   "cell_type": "code",
   "execution_count": null,
   "id": "3e3c7c82",
   "metadata": {},
   "outputs": [],
   "source": [
    "\"\"\"\n",
    "Visualizamos con imagenes satelitales\n",
    "\"\"\""
   ]
  },
  {
   "cell_type": "code",
   "execution_count": null,
   "id": "e281058e",
   "metadata": {},
   "outputs": [],
   "source": [
    "#Se obtiene la matriz que representa la imagen satelital con nombre \"filename\"\n",
    "def getMatriz(filename, imprimir=0):    \n",
    "    start_time = time.time()\n",
    "    try:\n",
    "        ds = Dataset(filename)\n",
    "    except:\n",
    "        print(\"No se pudo leer el archivo\")\n",
    "        print(filename)\n",
    "        return np.asarray([-1])\n",
    "    \n",
    "    #Obteine los datos de la imagen satelital\n",
    "    field = ds.variables['CMI'][:].data.astype(np.uint8)\n",
    "        \n",
    "    if imprimir:\n",
    "        print(f\"Tiempo en leer imagen satelital: %.5fs\" % (time.time() - start_time))\n",
    "        \n",
    "    return field"
   ]
  },
  {
   "cell_type": "code",
   "execution_count": null,
   "id": "0db6652d",
   "metadata": {},
   "outputs": [],
   "source": [
    "#Devuelve np.Array de las matrices de colores de cada producto en products (C08,C07 o C13)\n",
    "def leerImagenArea(fecha,path_imagenes, products,times ,imprimir=0): \n",
    "    try:   \n",
    "        year,month,day,hour = fecha.split('-')        \n",
    "   \n",
    "    except:\n",
    "        print(\"No se pudo leer la fecha\")\n",
    "        print(fecha)\n",
    "        return [-1]\n",
    "       \n",
    "    #Se define el producto \n",
    "    mapaArrays = []  \n",
    "    dimTime = len(times) \n",
    "    \n",
    "    start_time = time.time()\n",
    "    for j in range(6):\n",
    "        filename = path_imagenes + 'PNG/' + fecha + '/' + fecha + '_' + str(j) + '.png'\n",
    "        image = Image.open(filename)          \n",
    "        mapaArrays.append(np.asarray(image))\n",
    "    \n",
    "    #img = [Image.fromarray(img) for img in mapaArrays]\n",
    "    img = np.stack(mapaArrays, axis=0)\n",
    "        \n",
    "    \n",
    "    \n",
    "    if imprimir:\n",
    "        print(f\"Tiempo tomado en obtener matrices de un dato para {len(products)} productos: %.2fs\" % (time.time() - start_time))\n",
    "       \n",
    "    \n",
    "    return img       "
   ]
  },
  {
   "cell_type": "code",
   "execution_count": null,
   "id": "abf71c46",
   "metadata": {},
   "outputs": [],
   "source": [
    "#Para un conjunto de estaciones (dataframe), agrega su posicion XO(longitud), XA(latitud)\n",
    "\n",
    "#Como input recibe un string que es el directoeio de una imagen satelital (.nc),\n",
    "#devuelve la matriz que representa esta imagen numpy.array(1200,950)\n",
    "def getMapFile(imagenFile,mersh=0,imprimir=0):    \n",
    "    try:\n",
    "        ds = Dataset(imagenFile)      \n",
    "    except:\n",
    "        print(\"No se pudo leer los archivos de imagen\")\n",
    "        print(imagenFile)\n",
    "        return -1,-1\n",
    "\n",
    "    # convierte el formato de la variable de Int16 a Float32 y guarda el resultado\n",
    "    field = ds.variables['CMI'][:].data.astype(np.float32)/100.0\n",
    "\n",
    "    # obtiene las coordenadas de los pixeles\n",
    "    lons = ds.variables['longitude'][:].data\n",
    "    lats = ds.variables['latitude'][:].data\n",
    "    if imprimir:\n",
    "        dibujar(lons,lats,field,mersh)\n",
    "        \n",
    "    return lons, lats , field  "
   ]
  },
  {
   "cell_type": "code",
   "execution_count": null,
   "id": "9edb9de1",
   "metadata": {},
   "outputs": [],
   "source": [
    "def dibujar(lons,lats,field,estaciones,codigo,mersh=1):    \n",
    "    if mersh:\n",
    "        #field=  np.resize(f,(len(lats),len(lons)))\n",
    "        lons, lats = np.meshgrid(lons, lats)  \n",
    "    else:\n",
    "        field = field\n",
    "    \n",
    "    x,y = getCoord(estaciones, codigo)\n",
    "    print(x,y)\n",
    "    \n",
    "    # realiza el grafico\n",
    "    fig = plt.figure('ABI', figsize=(4,4), dpi=150)\n",
    "    ax = fig.add_axes([0.1,0.1,0.8,0.8], projection=ccrs.PlateCarree())\n",
    "    ax.add_feature(cf.COASTLINE)\n",
    "    ax.add_feature(cf.BORDERS)\n",
    "    img = ax.pcolormesh(lons, lats, field, cmap=plt.cm.Greys, transform=ccrs.PlateCarree())\n",
    "    plt.plot(x,y, marker='o', color='red',alpha=0.45)  \n",
    "    plt.colorbar(img)    \n",
    "      \n",
    "    #plt.clf()\n",
    "    plt.show()    \n",
    "    return "
   ]
  },
  {
   "cell_type": "code",
   "execution_count": null,
   "id": "f0f98bef",
   "metadata": {},
   "outputs": [],
   "source": [
    "def getCoord(estaciones, codigo):\n",
    "    est = pd.read_csv(estaciones)\n",
    "    X = est[est['CODE']==f'X{codigo}'].iloc[0]    \n",
    "    return X['LON'], X['LAT']    "
   ]
  },
  {
   "cell_type": "code",
   "execution_count": null,
   "id": "e2281900",
   "metadata": {},
   "outputs": [],
   "source": [
    "def graficarMALOS(df, Festaciones, imagenTest, path_imagenes, products, times):\n",
    "    for i in df.index: \n",
    "        fecha = datetime.datetime.strptime(df['FECHA'][i], '%d/%m/%Y').strftime('%Y-%m-%d') + '-' + df['HORA'][i].split(':')[0]        \n",
    "        xT = leerImagenArea(fecha,path_imagenes, products,times)\n",
    "        lons, lats , field  = getMapFile(imagenTest)  \n",
    "        dibujar(lons,lats,xT[0,:,:,0],Festaciones,df['CODIGO'][i])  \n",
    "        return xT, lons, lats\n",
    "        "
   ]
  },
  {
   "cell_type": "code",
   "execution_count": null,
   "id": "ffd95efd",
   "metadata": {},
   "outputs": [],
   "source": [
    "xT, lons, lats = graficarMALOS(d0.head(2), Festaciones, imagenTest, path_imagenes, products, times)"
   ]
  },
  {
   "cell_type": "code",
   "execution_count": null,
   "id": "6f156cd6",
   "metadata": {},
   "outputs": [],
   "source": []
  },
  {
   "cell_type": "code",
   "execution_count": null,
   "id": "af1ebfeb",
   "metadata": {},
   "outputs": [],
   "source": []
  }
 ],
 "metadata": {
  "kernelspec": {
   "display_name": "Python 3 (ipykernel)",
   "language": "python",
   "name": "python3"
  },
  "language_info": {
   "codemirror_mode": {
    "name": "ipython",
    "version": 3
   },
   "file_extension": ".py",
   "mimetype": "text/x-python",
   "name": "python",
   "nbconvert_exporter": "python",
   "pygments_lexer": "ipython3",
   "version": "3.9.11"
  }
 },
 "nbformat": 4,
 "nbformat_minor": 5
}
