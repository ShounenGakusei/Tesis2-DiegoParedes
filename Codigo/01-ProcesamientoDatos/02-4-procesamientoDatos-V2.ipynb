{
 "cells": [
  {
   "cell_type": "code",
   "execution_count": 108,
   "id": "e91fd014",
   "metadata": {},
   "outputs": [],
   "source": [
    "\"\"\"\n",
    "OBJETIVO : Seleccionar una muestra de datos para el entrenamiento. Este proceso se realiza por cada \n",
    "            modelo (Regresion y clasifiacion). Ademas, se realiza una limpieza de datos, y se divide\n",
    "            el DS para lso modelos de clasifiacion, para asi balancear las calses.\n",
    "TERMINOS:\n",
    "- REG = Regresion\n",
    "- CLAS = Clasifiacion\n",
    "- EST = Seleccion por Estaciones\n",
    "- DUD = Solo datos dusosos en flag V2\n",
    "            \n",
    "\"\"\"\n",
    "Autor='Diego Paredes'"
   ]
  },
  {
   "cell_type": "code",
   "execution_count": 109,
   "id": "df4b9330",
   "metadata": {},
   "outputs": [],
   "source": [
    "# Leer imagenes satelitales (.nc) \n",
    "from netCDF4 import Dataset, num2date\n",
    "\n",
    "# Graficos y visualizaciones\n",
    "import cartopy.crs as ccrs\n",
    "import cartopy.feature as cfw\n",
    "import matplotlib.pyplot as plt\n",
    "\n",
    "# Liberias para manejo de datos\n",
    "from sklearn.utils import shuffle\n",
    "from sklearn.model_selection import train_test_split\n",
    "import pandas as pd\n",
    "import numpy as np\n",
    "\n",
    "# Liberias estandar\n",
    "import re\n",
    "import time\n",
    "import os"
   ]
  },
  {
   "cell_type": "code",
   "execution_count": 110,
   "id": "70311502",
   "metadata": {},
   "outputs": [
    {
     "data": {
      "text/plain": [
       "'C:/Users/Shounen/Desktop/Ciclo XI/Tesis 2/NewTesis'"
      ]
     },
     "execution_count": 110,
     "metadata": {},
     "output_type": "execute_result"
    }
   ],
   "source": [
    "\"\"\"\n",
    "DEFINIMOS EL PATH DEL PROYECTO \n",
    "\"\"\"\n",
    "with open('../../path_base.txt') as f:\n",
    "    path_base = f.read()\n",
    "path_base"
   ]
  },
  {
   "cell_type": "code",
   "execution_count": 111,
   "id": "caf93a80",
   "metadata": {},
   "outputs": [],
   "source": [
    "path_imagenes = 'F:/GOES/' \n",
    "\n",
    "dsName = 'dsCompletoPP_V2'\n",
    "listDataset = [f'{path_base}/Archivos/Inicial/{dsName}.csv']           \n",
    "\n",
    "#Variables generales\n",
    "products = ['C07','C08','C13']\n",
    "times   = ['10','20','30','40','50','00']\n"
   ]
  },
  {
   "cell_type": "code",
   "execution_count": 112,
   "id": "f8d8a3a5",
   "metadata": {},
   "outputs": [
    {
     "data": {
      "text/plain": [
       "'\\nObtenemos datasets grandes\\n'"
      ]
     },
     "execution_count": 112,
     "metadata": {},
     "output_type": "execute_result"
    }
   ],
   "source": [
    "\"\"\"\n",
    "Obtenemos datasets grandes\n",
    "\"\"\""
   ]
  },
  {
   "cell_type": "code",
   "execution_count": 113,
   "id": "3c4fe832",
   "metadata": {},
   "outputs": [],
   "source": [
    "def limpiarDatos(listNames, path_imagenes, p, read=True):\n",
    "    \n",
    "    df = []\n",
    "    start_time = time.time()\n",
    "    print(f'Se leera los archivos de datasets...')\n",
    "    if read:\n",
    "        for name in listNames:\n",
    "            try:\n",
    "                df.append(pd.read_csv(name))   \n",
    "            except:\n",
    "                print(f'No se pudo leer el archivo {name} de dataset')\n",
    "                return -1\n",
    "\n",
    "        if len(df)>1:\n",
    "            dsCompleto =  pd.concat(df, ignore_index=True) \n",
    "        else:\n",
    "            dsCompleto =  df[0]\n",
    "    else:\n",
    "        dsCompleto = listNames\n",
    "        \n",
    "        \n",
    "    print(\"Tiempo tomado: %.2fs\" % (time.time() - start_time))\n",
    "    print(f'+Cantidad de datos leidos {len(dsCompleto)}')\n",
    "    \n",
    "    # Quitamos los NA valores, negativos y mayores a 400\n",
    "    print(f'\\nSe elimnara los valores nulos y dudosos')\n",
    "    dsCompleto.dropna(subset=['dato'], axis='index', inplace=True)    \n",
    "    dsCompleto = dsCompleto[dsCompleto['flag']!='ND']\n",
    "    dsCompleto = dsCompleto[dsCompleto['dato']>=0]\n",
    "    dsCompleto = dsCompleto[dsCompleto['dato']<400]\n",
    "    print(\"Tiempo tomado: %.2fs\" % (time.time() - start_time))\n",
    "    print(f'+Cantidad de datos luego de elimnar nulos {len(dsCompleto)}')\n",
    "              \n",
    "    \n",
    "    # Seleccionamos FLAGS\n",
    "    if p['flags']:\n",
    "        dsCompleto = dsCompleto[dsCompleto['flag'].isin(p['flags'])]    \n",
    "    if p['flagV2']:\n",
    "        dsCompleto = dsCompleto[dsCompleto['flagV2'].isin(p['flagV2'])]                   \n",
    "                             \n",
    "    print(f'-------> CANTIDAD FINAL DE DATOS :  {len(dsCompleto)} <--------------')  \n",
    "    print(\"Tiempo total: %.2fs\" % (time.time() - start_time))\n",
    "    return shuffle(dsCompleto)"
   ]
  },
  {
   "cell_type": "code",
   "execution_count": 114,
   "id": "25cfdacb",
   "metadata": {},
   "outputs": [],
   "source": [
    "def getBalancedDataset(df,porc):\n",
    "    listP = []\n",
    "    listT = []    \n",
    "    \n",
    "    df0 = df[df['dato']==0]\n",
    "    df01 = df[(df['dato']>0) & (df['dato']<=1)]\n",
    "    df1 = df[df['dato']>1]\n",
    "    \n",
    "    if not df0.empty:\n",
    "        dsT0, dsP0 = train_test_split(df0, test_size=porc, shuffle=True)  \n",
    "        listT.append(dsT0)\n",
    "        listP.append(dsP0)        \n",
    "        \n",
    "    if not df01.empty:\n",
    "        dsT1,dsP1 = train_test_split(df01, test_size=porc, shuffle=True)\n",
    "        listT.append(dsT1)\n",
    "        listP.append(dsP1)\n",
    "        \n",
    "    if not df1.empty:\n",
    "        dsT_, dsP_ =  train_test_split(df1, test_size=porc, shuffle=True)\n",
    "        listT.append(dsT_)\n",
    "        listP.append(dsP_)\n",
    "    \n",
    "   \n",
    "    dfTrain = pd.concat(listT, ignore_index=True) \n",
    "    dfPrueba = pd.concat(listP, ignore_index=True)\n",
    "    return dfTrain, dfPrueba    "
   ]
  },
  {
   "cell_type": "code",
   "execution_count": 115,
   "id": "2381206b",
   "metadata": {},
   "outputs": [],
   "source": [
    "def obtenerDSPruebas(df, porc, tipo='Clasificacion'):\n",
    "    \"\"\"\n",
    "    Separamos el dataset en 3 partes, y se ecoje un porcentaje de los tres\n",
    "    - Datos : 0\n",
    "    - Dato  : < 0,1 ]\n",
    "    - Dato  : <1 , --]\n",
    "    \"\"\"\n",
    "    \n",
    "    if tipo=='Clasificacion':\n",
    "        dfC02 = df[df['flag']=='C0000002'] \n",
    "        dfM02 = df[df['flag']=='M0000002']\n",
    "    \n",
    "        C02T,C02P = getBalancedDataset(dfC02,porc)\n",
    "        M02T,M02P = getBalancedDataset(dfM02,porc)   \n",
    "    \n",
    "   \n",
    "        dfTrain = pd.concat([C02T,M02T], ignore_index=True) \n",
    "        dfPrueba = pd.concat([C02P,M02P], ignore_index=True) \n",
    "        \n",
    "        return dfTrain, dfPrueba\n",
    "        \n",
    "    else:        \n",
    "        return getBalancedDataset(df,porc)\n",
    "    \n",
    "    return -1"
   ]
  },
  {
   "cell_type": "code",
   "execution_count": 116,
   "id": "19220ebe",
   "metadata": {},
   "outputs": [],
   "source": [
    "def getModelo_DS(listNames, path_imagenes, p,comentario='', read=True):\n",
    "    print(f'Tipo de dataset: {p[\"redTipo\"]}')\n",
    "    # Limpiamos en dataset\n",
    "    dfLimpio = limpiarDatos(listNames, path_imagenes, p, read)    \n",
    "    #dfLimpio = pd.read_csv(listNames[0])\n",
    "    dfLimpio.to_csv(f'{p[\"path_base\"]}/Archivos/Dataset/{p[\"redTipo\"]}/{p[\"nameDS\"]}_CompletoDS.csv')\n",
    "    \n",
    "    if p['estaciones']:\n",
    "        print(f'Se limitara el DS a {len(p[\"estaciones\"])} estaciones')\n",
    "        dfLimpio = dfLimpio[dfLimpio['codigo'].isin(p['estaciones'])]\n",
    "    \n",
    "    if p['redTipo'] == 'Clasificacion':\n",
    "        dfLimpio[p['claseName']] = (dfLimpio[p['condicion_1'][0]]==p['condicion_1'][1]).astype(int)       \n",
    "        \n",
    "    \n",
    "    # Separamos los datasets (entrenamiento, validacion y test)\n",
    "    _dsTrain, _dsTest = obtenerDSPruebas(dfLimpio, p['pruebas'], tipo=p['redTipo']) \n",
    "    _dsTrain, _dsValid = obtenerDSPruebas(_dsTrain, p['validacion'], tipo =p['redTipo'])\n",
    "    \n",
    "    # Guardamos los archivos    \n",
    "    _dsTest.to_csv(f'{p[\"path_base\"]}/Archivos/Dataset/{p[\"redTipo\"]}/Pruebas/{p[\"nameDS\"]}_PruebasDS.csv')\n",
    "    _dsValid.to_csv(f'{p[\"path_base\"]}/Archivos/Dataset/{p[\"redTipo\"]}/Validacion/{p[\"nameDS\"]}_ValidacionDS.csv')\n",
    "    _dsTrain.to_csv(f'{p[\"path_base\"]}/Archivos/Dataset/{p[\"redTipo\"]}/Entrenamiento/{p[\"nameDS\"]}_TrainDS.csv')\n",
    "    \n",
    "    print('Tamaño de los datasets: ')\n",
    "    print(f'TRAIN   : {len(_dsTrain)}')\n",
    "    print(f'VALID   : {len(_dsValid)}')\n",
    "    print(f'PRUEBAS : {len(_dsTest)}')\n",
    "\n",
    "    # Guardamos el comentario (Informacion de lso datasets)\n",
    "\n",
    "    with open(f'{p[\"path_base\"]}/Archivos/Dataset/{p[\"redTipo\"]}/{p[\"nameDS\"]}_comentario.txt', 'w') as file:\n",
    "        file.write(f'Archivos iniciales que se uso : {str(listNames)}\\n')\n",
    "        file.write(comentario)\n",
    "        file.write(' A continuacion se muestra los parametros que se usaron:\\n')        \n",
    "        file.write(str(p))\n",
    "    statsDS(dfLimpio, p['nameDS'], tipo=p[\"redTipo\"])\n",
    "    visualizarEstaciones(dfLimpio, name = p['nameDS'],imagenTest='')\n",
    "    return dfLimpio"
   ]
  },
  {
   "cell_type": "code",
   "execution_count": 117,
   "id": "756cc730",
   "metadata": {},
   "outputs": [],
   "source": [
    "def visualizarEstaciones(df, name = '',imagenTest='', xCode=True, row='codigo'):\n",
    "    if not imagenTest:\n",
    "        imagenTest = 'F:/GOES/C08/2021/01/G16_C08_Cyl_20210101-0020.nc'\n",
    "    \n",
    "    ds = Dataset(imagenTest)\n",
    "    field = ds.variables['CMI'][:].data.astype(np.float32)/100.0\n",
    "\n",
    "    # obtiene las coordenadas de los pixeles\n",
    "    lons = ds.variables['longitude'][:].data\n",
    "    lats = ds.variables['latitude'][:].data\n",
    "    #lons, lats = np.meshgrid(lons, lats)\n",
    "    \n",
    "    Festaciones = f'{path_base}/Archivos/Inicial/estaciones.csv'\n",
    "    dfEstaciones = pd.read_csv(Festaciones)\n",
    "    dfCod = df[row].unique()\n",
    "    dfCod = pd.DataFrame({row:dfCod.tolist()})\n",
    "\n",
    "    #Graficomos las estaciones para el ds de regresion\n",
    "    ax = plt.axes(projection=ccrs.PlateCarree())\n",
    "    plt.title(f'{name} - Peru ({len(dfCod)} estaciones)')\n",
    "    ax.set_extent([lons.min(), lons.max(), lats.min(),lats.max()], ccrs.PlateCarree())\n",
    "\n",
    "    for x in dfCod.index:\n",
    "        if xCode:\n",
    "            st = dfEstaciones[dfEstaciones['CODE'] == f'X{dfCod[row][x]}']\n",
    "        else:\n",
    "            st = dfEstaciones[dfEstaciones['CODE'] == f'{dfCod[row][x]}']    \n",
    "        if not st.empty:    \n",
    "            x = st['LON']#.iloc[0]\n",
    "            y = st['LAT']#.iloc[0]\n",
    "            plt.plot(x, y,  1, marker='o', color='red',alpha=0.45)    \n",
    "\n",
    "    ax.coastlines(resolution='110m')\n",
    "    \n",
    "    plt.savefig(f'{path_base}/Archivos/Reportes/Plots/MAPA_{name}.png')\n",
    "    plt.show()"
   ]
  },
  {
   "cell_type": "code",
   "execution_count": 130,
   "id": "04d27b32",
   "metadata": {},
   "outputs": [],
   "source": [
    "def statsDS(df, name='ds', tipo='Clasificacion'):\n",
    "    print(f'           ESTADISCIAS DEL {name} \\n')  \n",
    "    print(f'Flags       : {df[\"flag\"].unique()}')\n",
    "    print(f'Estaciones  : {len(df[\"codigo\"].unique())}')\n",
    "    print(f'Totales     : {df[\"dato\"].count()}')\n",
    "    print(f'Ceros       : {df[df[\"dato\"]==0][\"dato\"].count()}')\n",
    "    if tipo=='Clasificacion':\n",
    "        print(f'Clase 0(M02): {df[df[\"flag\"]==\"M0000002\"][\"dato\"].count()}')\n",
    "        print(f'Clase 1(C02): {df[df[\"flag\"]==\"C0000002\"][\"dato\"].count()}')\n",
    "    else:\n",
    "        print(f'Dato menor 1: {df[df[\"dato\"]<1][\"dato\"].count()}')\n",
    "        print(f'Dato mayor 1: {df[df[\"dato\"]>1][\"dato\"].count()}')\n",
    "    print(f'Maximo      : {df[\"dato\"].max()}')\n",
    "    print(f'Media       : {df[\"dato\"].mean()}')\n",
    "    print(f'STD         : {df[\"dato\"].std()}')\n",
    "\n",
    "    #_dataset[_dataset[\"dato\"]!=0][\"dato\"].hist(legend=True)\n",
    "    #_dataset[_dataset[\"dato\"]>1][\"dato\"].hist(legend=True)\n",
    "    if tipo=='Clasificacion':\n",
    "        df['flag'].hist(legend=True)    \n",
    "    else:\n",
    "        df['dato'].hist(legend=True)   \n",
    "    plt.show()"
   ]
  },
  {
   "cell_type": "code",
   "execution_count": 119,
   "id": "3a304994",
   "metadata": {},
   "outputs": [],
   "source": [
    "\"\"\"\n",
    "Clasificacion\n",
    "\"\"\"\n",
    "comentarioCLAS = 'El dataset es para lso modelos de clasificaicon, se usa como clase 1 los datos con flag = C02\\\n",
    "               y todos los flags M02 como clase 0.\\n- V2: V2 del joinDataset'\n",
    "p_clas = {    \n",
    "    # parametros del proyecto\n",
    "    'products'   : products,\n",
    "    'times'      : times,\n",
    "    'path_base'  : path_base,\n",
    "\n",
    "    # parametros del dataset\n",
    "    'ceros'      : 0.10,   \n",
    "    'flags'      : ['C0000002','M0000002'],\n",
    "    'flagV2'     : ['D01','D02','C01'],    \n",
    "    'estaciones' : [],\n",
    "    'delete'     : True,\n",
    "    \n",
    "    # Split\n",
    "    'pruebas'    : 0.01,\n",
    "    'validacion' : 0.1,\n",
    "    \n",
    "    # Modelo\n",
    "    'redTipo'    : 'Clasificacion',\n",
    "    \n",
    "    # PARA MODELOS DE CLASIFICACION\n",
    "    'claseName'  : 'clase',\n",
    "    'condicion_1': ['flag','C0000002'],    \n",
    "    \n",
    "    # Nombres\n",
    "    'nameDS'     : 'ClaseV2',       \n",
    "}"
   ]
  },
  {
   "cell_type": "code",
   "execution_count": 83,
   "id": "ba8c2eb1",
   "metadata": {},
   "outputs": [
    {
     "name": "stdout",
     "output_type": "stream",
     "text": [
      "Tipo de dataset: Clasificacion\n",
      "Se leera los archivos de datasets...\n",
      "Tiempo tomado: 0.14s\n",
      "+Cantidad de datos leidos 50084\n",
      "\n",
      "Se elimnara los valores nulos y dudosos\n",
      "Tiempo tomado: 0.18s\n",
      "+Cantidad de datos luego de elimnar nulos 50084\n",
      "-------> CANTIDAD FINAL DE DATOS :  43270 <--------------\n",
      "Tiempo total: 0.20s\n",
      "Tamaño de los datasets: \n",
      "TRAIN   : 38548\n",
      "VALID   : 4287\n",
      "PRUEBAS : 435\n",
      "           ESTADISCIAS DEL ClaseV2 \n",
      "\n",
      "Flags       : ['C0000002' 'M0000002']\n",
      "Estaciones  : 153\n",
      "Totales     : 43270\n",
      "Ceros       : 9560\n",
      "Clase 0(M02): 2802\n",
      "Clase 1(C02): 40468\n",
      "Maximo      : 337.5\n",
      "Media       : 1.458711116246822\n",
      "STD         : 7.199059693367714\n"
     ]
    },
    {
     "data": {
      "image/png": "[encoded data removed]",
      "text/plain": [
       "<Figure size 432x288 with 1 Axes>"
      ]
     },
     "metadata": {
      "needs_background": "light"
     },
     "output_type": "display_data"
    },
    {
     "data": {
      "image/png": "[encoded data removed]",
      "text/plain": [
       "<Figure size 432x288 with 1 Axes>"
      ]
     },
     "metadata": {
      "needs_background": "light"
     },
     "output_type": "display_data"
    },
    {
     "data": {
      "text/html": [
       "<div>\n",
       "<style scoped>\n",
       "    .dataframe tbody tr th:only-of-type {\n",
       "        vertical-align: middle;\n",
       "    }\n",
       "\n",
       "    .dataframe tbody tr th {\n",
       "        vertical-align: top;\n",
       "    }\n",
       "\n",
       "    .dataframe thead th {\n",
       "        text-align: right;\n",
       "    }\n",
       "</style>\n",
       "<table border=\"1\" class=\"dataframe\">\n",
       "  <thead>\n",
       "    <tr style=\"text-align: right;\">\n",
       "      <th></th>\n",
       "      <th>nombre</th>\n",
       "      <th>codigo</th>\n",
       "      <th>XO</th>\n",
       "      <th>XA</th>\n",
       "      <th>longitud</th>\n",
       "      <th>latitud</th>\n",
       "      <th>altura</th>\n",
       "      <th>dato</th>\n",
       "      <th>90%</th>\n",
       "      <th>99%</th>\n",
       "      <th>75%</th>\n",
       "      <th>umb1</th>\n",
       "      <th>umb2</th>\n",
       "      <th>fecha</th>\n",
       "      <th>flag</th>\n",
       "      <th>flagV2</th>\n",
       "      <th>imagen</th>\n",
       "      <th>clase</th>\n",
       "    </tr>\n",
       "  </thead>\n",
       "  <tbody>\n",
       "    <tr>\n",
       "      <th>43994</th>\n",
       "      <td>COSPAN</td>\n",
       "      <td>472D4658</td>\n",
       "      <td>278</td>\n",
       "      <td>489</td>\n",
       "      <td>-78.54106</td>\n",
       "      <td>-7.42856</td>\n",
       "      <td>2423.0</td>\n",
       "      <td>0.0</td>\n",
       "      <td>0.1</td>\n",
       "      <td>2.747</td>\n",
       "      <td>0.0</td>\n",
       "      <td>4.3</td>\n",
       "      <td>8.4</td>\n",
       "      <td>2021-12-04-16</td>\n",
       "      <td>C0000002</td>\n",
       "      <td>C01</td>\n",
       "      <td>278--489--2021-12-04-16</td>\n",
       "      <td>1</td>\n",
       "    </tr>\n",
       "    <tr>\n",
       "      <th>5127</th>\n",
       "      <td>LA FORTUNA</td>\n",
       "      <td>107131</td>\n",
       "      <td>286</td>\n",
       "      <td>502</td>\n",
       "      <td>-78.40242</td>\n",
       "      <td>-7.67042</td>\n",
       "      <td>3343.0</td>\n",
       "      <td>0.0</td>\n",
       "      <td>0.4</td>\n",
       "      <td>5.275</td>\n",
       "      <td>0.0</td>\n",
       "      <td>8.9</td>\n",
       "      <td>17.9</td>\n",
       "      <td>2021-12-21-00</td>\n",
       "      <td>C0000002</td>\n",
       "      <td>C01</td>\n",
       "      <td>286--502--2021-12-21-00</td>\n",
       "      <td>1</td>\n",
       "    </tr>\n",
       "  </tbody>\n",
       "</table>\n",
       "</div>"
      ],
      "text/plain": [
       "           nombre    codigo   XO   XA  longitud  latitud  altura  dato  90%  \\\n",
       "43994      COSPAN  472D4658  278  489 -78.54106 -7.42856  2423.0   0.0  0.1   \n",
       "5127   LA FORTUNA    107131  286  502 -78.40242 -7.67042  3343.0   0.0  0.4   \n",
       "\n",
       "         99%  75%  umb1  umb2          fecha      flag flagV2  \\\n",
       "43994  2.747  0.0   4.3   8.4  2021-12-04-16  C0000002    C01   \n",
       "5127   5.275  0.0   8.9  17.9  2021-12-21-00  C0000002    C01   \n",
       "\n",
       "                        imagen  clase  \n",
       "43994  278--489--2021-12-04-16      1  \n",
       "5127   286--502--2021-12-21-00      1  "
      ]
     },
     "execution_count": 83,
     "metadata": {},
     "output_type": "execute_result"
    }
   ],
   "source": [
    "dfLimpioCLAS = getModelo_DS(listDataset, path_imagenes, p_clas,comentario=comentarioCLAS)\n",
    "dfLimpioCLAS.head(2)"
   ]
  },
  {
   "cell_type": "code",
   "execution_count": 84,
   "id": "835e7bcb",
   "metadata": {},
   "outputs": [],
   "source": [
    "\"\"\"\n",
    "Regresion\n",
    "\"\"\"\n",
    "comentarioREG = 'El dataset es para lso modelos de regresion, se usa como output el dato \\\n",
    "            Se ha realizado una limpieza de datos (quitado datos malos 1 y verificado que exista \\\n",
    "            las imagenes satelitales). Ademas se ha validado con el flagV2 los datos erroneos V2: Juntar archivos y Analisis V2'\n",
    "\n",
    "p_reg = {    \n",
    "    # parametros del proyecto\n",
    "    'products'   : products,\n",
    "    'times'      : times,\n",
    "    'path_base'  : path_base,\n",
    "\n",
    "    # parametros del dataset\n",
    "    'ceros'      : 0.10,   \n",
    "    'flags'      : ['C0000002'],\n",
    "    'flagV2'     : ['D01','D02','C01'],   \n",
    "    'estaciones' : [],\n",
    "    'delete'     : True,\n",
    "    \n",
    "    # Split\n",
    "    'pruebas'    : 0.01,\n",
    "    'validacion' : 0.2,\n",
    "    \n",
    "    # Modelo\n",
    "    'redTipo'    : 'Regresion',\n",
    "    \n",
    "    # PARA MODELOS DE CLASIFICACION\n",
    "    'claseName'  : '',\n",
    "    'condicion_1': [],    \n",
    "    \n",
    "    # Nombres\n",
    "    'nameDS'     : 'REGV2',       \n",
    "}"
   ]
  },
  {
   "cell_type": "code",
   "execution_count": 85,
   "id": "2c70ad6a",
   "metadata": {},
   "outputs": [
    {
     "name": "stdout",
     "output_type": "stream",
     "text": [
      "Tipo de dataset: Regresion\n",
      "Se leera los archivos de datasets...\n",
      "Tiempo tomado: 0.14s\n",
      "+Cantidad de datos leidos 50084\n",
      "\n",
      "Se elimnara los valores nulos y dudosos\n",
      "Tiempo tomado: 0.18s\n",
      "+Cantidad de datos luego de elimnar nulos 50084\n",
      "-------> CANTIDAD FINAL DE DATOS :  40468 <--------------\n",
      "Tiempo total: 0.20s\n",
      "Tamaño de los datasets: \n",
      "TRAIN   : 32048\n",
      "VALID   : 8014\n",
      "PRUEBAS : 406\n",
      "           ESTADISCIAS DEL REGV2 \n",
      "\n",
      "Flags       : ['C0000002']\n",
      "Estaciones  : 152\n",
      "Totales     : 40468\n",
      "Ceros       : 7498\n",
      "Clase 0(M02): 0\n",
      "Clase 1(C02): 40468\n",
      "Maximo      : 66.9\n",
      "Media       : 1.36543491153504\n",
      "STD         : 2.95607456796997\n"
     ]
    },
    {
     "data": {
      "image/png": "[encoded data removed]",
      "text/plain": [
       "<Figure size 432x288 with 1 Axes>"
      ]
     },
     "metadata": {
      "needs_background": "light"
     },
     "output_type": "display_data"
    },
    {
     "data": {
      "image/png": "[encoded data removed]",
      "text/plain": [
       "<Figure size 432x288 with 1 Axes>"
      ]
     },
     "metadata": {
      "needs_background": "light"
     },
     "output_type": "display_data"
    },
    {
     "data": {
      "text/html": [
       "<div>\n",
       "<style scoped>\n",
       "    .dataframe tbody tr th:only-of-type {\n",
       "        vertical-align: middle;\n",
       "    }\n",
       "\n",
       "    .dataframe tbody tr th {\n",
       "        vertical-align: top;\n",
       "    }\n",
       "\n",
       "    .dataframe thead th {\n",
       "        text-align: right;\n",
       "    }\n",
       "</style>\n",
       "<table border=\"1\" class=\"dataframe\">\n",
       "  <thead>\n",
       "    <tr style=\"text-align: right;\">\n",
       "      <th></th>\n",
       "      <th>nombre</th>\n",
       "      <th>codigo</th>\n",
       "      <th>XO</th>\n",
       "      <th>XA</th>\n",
       "      <th>longitud</th>\n",
       "      <th>latitud</th>\n",
       "      <th>altura</th>\n",
       "      <th>dato</th>\n",
       "      <th>90%</th>\n",
       "      <th>99%</th>\n",
       "      <th>75%</th>\n",
       "      <th>umb1</th>\n",
       "      <th>umb2</th>\n",
       "      <th>fecha</th>\n",
       "      <th>flag</th>\n",
       "      <th>flagV2</th>\n",
       "      <th>imagen</th>\n",
       "    </tr>\n",
       "  </thead>\n",
       "  <tbody>\n",
       "    <tr>\n",
       "      <th>42350</th>\n",
       "      <td>MAGUNCHAL</td>\n",
       "      <td>472B2370</td>\n",
       "      <td>298</td>\n",
       "      <td>403</td>\n",
       "      <td>-78.18667</td>\n",
       "      <td>-5.88667</td>\n",
       "      <td>675.0</td>\n",
       "      <td>0.5</td>\n",
       "      <td>0.0</td>\n",
       "      <td>1.016</td>\n",
       "      <td>0.0</td>\n",
       "      <td>0.6</td>\n",
       "      <td>3.0</td>\n",
       "      <td>2021-05-15-21</td>\n",
       "      <td>C0000002</td>\n",
       "      <td>D01</td>\n",
       "      <td>298--403--2021-05-15-21</td>\n",
       "    </tr>\n",
       "    <tr>\n",
       "      <th>41008</th>\n",
       "      <td>EL TAMBO</td>\n",
       "      <td>47E0A2A8</td>\n",
       "      <td>269</td>\n",
       "      <td>497</td>\n",
       "      <td>-78.70694</td>\n",
       "      <td>-7.57417</td>\n",
       "      <td>700.0</td>\n",
       "      <td>0.0</td>\n",
       "      <td>0.0</td>\n",
       "      <td>0.200</td>\n",
       "      <td>0.0</td>\n",
       "      <td>0.6</td>\n",
       "      <td>2.6</td>\n",
       "      <td>2021-12-15-23</td>\n",
       "      <td>C0000002</td>\n",
       "      <td>C01</td>\n",
       "      <td>269--497--2021-12-15-23</td>\n",
       "    </tr>\n",
       "  </tbody>\n",
       "</table>\n",
       "</div>"
      ],
      "text/plain": [
       "          nombre    codigo   XO   XA  longitud  latitud  altura  dato  90%  \\\n",
       "42350  MAGUNCHAL  472B2370  298  403 -78.18667 -5.88667   675.0   0.5  0.0   \n",
       "41008   EL TAMBO  47E0A2A8  269  497 -78.70694 -7.57417   700.0   0.0  0.0   \n",
       "\n",
       "         99%  75%  umb1  umb2          fecha      flag flagV2  \\\n",
       "42350  1.016  0.0   0.6   3.0  2021-05-15-21  C0000002    D01   \n",
       "41008  0.200  0.0   0.6   2.6  2021-12-15-23  C0000002    C01   \n",
       "\n",
       "                        imagen  \n",
       "42350  298--403--2021-05-15-21  \n",
       "41008  269--497--2021-12-15-23  "
      ]
     },
     "execution_count": 85,
     "metadata": {},
     "output_type": "execute_result"
    }
   ],
   "source": [
    "dfLimpioREG = getModelo_DS(listDataset, path_imagenes, p_reg ,comentario=comentarioREG)\n",
    "dfLimpioREG.head(2)"
   ]
  },
  {
   "cell_type": "code",
   "execution_count": 86,
   "id": "3dde8ab5",
   "metadata": {},
   "outputs": [
    {
     "data": {
      "text/html": [
       "<div>\n",
       "<style scoped>\n",
       "    .dataframe tbody tr th:only-of-type {\n",
       "        vertical-align: middle;\n",
       "    }\n",
       "\n",
       "    .dataframe tbody tr th {\n",
       "        vertical-align: top;\n",
       "    }\n",
       "\n",
       "    .dataframe thead th {\n",
       "        text-align: right;\n",
       "    }\n",
       "</style>\n",
       "<table border=\"1\" class=\"dataframe\">\n",
       "  <thead>\n",
       "    <tr style=\"text-align: right;\">\n",
       "      <th></th>\n",
       "      <th>count</th>\n",
       "      <th>mean</th>\n",
       "      <th>std</th>\n",
       "      <th>min</th>\n",
       "      <th>25%</th>\n",
       "      <th>50%</th>\n",
       "      <th>75%</th>\n",
       "      <th>max</th>\n",
       "      <th>FechaMax</th>\n",
       "      <th>FechaMin</th>\n",
       "      <th>...</th>\n",
       "      <th>cantM02</th>\n",
       "      <th>cantD01</th>\n",
       "      <th>75mayor</th>\n",
       "      <th>90mayor</th>\n",
       "      <th>90%</th>\n",
       "      <th>99mayor</th>\n",
       "      <th>99%</th>\n",
       "      <th>LON</th>\n",
       "      <th>LAT</th>\n",
       "      <th>ALT</th>\n",
       "    </tr>\n",
       "  </thead>\n",
       "  <tbody>\n",
       "    <tr>\n",
       "      <th>0</th>\n",
       "      <td>15298</td>\n",
       "      <td>0.045169</td>\n",
       "      <td>1.962420</td>\n",
       "      <td>0.0</td>\n",
       "      <td>0.0</td>\n",
       "      <td>0.0</td>\n",
       "      <td>0.0</td>\n",
       "      <td>234.0</td>\n",
       "      <td>31/12/2021</td>\n",
       "      <td>01/01/2021</td>\n",
       "      <td>...</td>\n",
       "      <td>0</td>\n",
       "      <td>79</td>\n",
       "      <td>330</td>\n",
       "      <td>330</td>\n",
       "      <td>0.0</td>\n",
       "      <td>144</td>\n",
       "      <td>0.3</td>\n",
       "      <td>-80.39788</td>\n",
       "      <td>-4.48047</td>\n",
       "      <td>116.0</td>\n",
       "    </tr>\n",
       "    <tr>\n",
       "      <th>1</th>\n",
       "      <td>9123</td>\n",
       "      <td>0.046092</td>\n",
       "      <td>0.664392</td>\n",
       "      <td>0.0</td>\n",
       "      <td>0.0</td>\n",
       "      <td>0.0</td>\n",
       "      <td>0.0</td>\n",
       "      <td>36.0</td>\n",
       "      <td>31/12/2021</td>\n",
       "      <td>01/01/2021</td>\n",
       "      <td>...</td>\n",
       "      <td>0</td>\n",
       "      <td>123</td>\n",
       "      <td>240</td>\n",
       "      <td>240</td>\n",
       "      <td>0.0</td>\n",
       "      <td>90</td>\n",
       "      <td>0.6</td>\n",
       "      <td>-80.39014</td>\n",
       "      <td>-4.48956</td>\n",
       "      <td>116.0</td>\n",
       "    </tr>\n",
       "  </tbody>\n",
       "</table>\n",
       "<p>2 rows × 27 columns</p>\n",
       "</div>"
      ],
      "text/plain": [
       "   count      mean       std  min  25%  50%  75%    max    FechaMax  \\\n",
       "0  15298  0.045169  1.962420  0.0  0.0  0.0  0.0  234.0  31/12/2021   \n",
       "1   9123  0.046092  0.664392  0.0  0.0  0.0  0.0   36.0  31/12/2021   \n",
       "\n",
       "     FechaMin  ... cantM02 cantD01  75mayor  90mayor  90%  99mayor  99%  \\\n",
       "0  01/01/2021  ...       0      79      330      330  0.0      144  0.3   \n",
       "1  01/01/2021  ...       0     123      240      240  0.0       90  0.6   \n",
       "\n",
       "        LON      LAT    ALT  \n",
       "0 -80.39788 -4.48047  116.0  \n",
       "1 -80.39014 -4.48956  116.0  \n",
       "\n",
       "[2 rows x 27 columns]"
      ]
     },
     "execution_count": 86,
     "metadata": {},
     "output_type": "execute_result"
    }
   ],
   "source": [
    "\"\"\"\n",
    "Escojemos las mejores estaciones (por cantidad de datos conformes, estadisticas , etc)\n",
    "\"\"\"\n",
    "analisisTotal = f'{path_base}/Archivos/Reportes/Datos/analisis_Total.csv'\n",
    "dfAnaTotal = pd.read_csv(analisisTotal)\n",
    "dfAnaTotal.head(2)"
   ]
  },
  {
   "cell_type": "code",
   "execution_count": 87,
   "id": "dc36ea21",
   "metadata": {},
   "outputs": [
    {
     "data": {
      "text/html": [
       "<div>\n",
       "<style scoped>\n",
       "    .dataframe tbody tr th:only-of-type {\n",
       "        vertical-align: middle;\n",
       "    }\n",
       "\n",
       "    .dataframe tbody tr th {\n",
       "        vertical-align: top;\n",
       "    }\n",
       "\n",
       "    .dataframe thead th {\n",
       "        text-align: right;\n",
       "    }\n",
       "</style>\n",
       "<table border=\"1\" class=\"dataframe\">\n",
       "  <thead>\n",
       "    <tr style=\"text-align: right;\">\n",
       "      <th></th>\n",
       "      <th>Codigo</th>\n",
       "      <th>count</th>\n",
       "      <th>POR_NO_C01</th>\n",
       "      <th>mean</th>\n",
       "      <th>cantM01</th>\n",
       "      <th>cantM02</th>\n",
       "      <th>cantC01</th>\n",
       "      <th>cantC02</th>\n",
       "      <th>cantD01</th>\n",
       "    </tr>\n",
       "  </thead>\n",
       "  <tbody>\n",
       "    <tr>\n",
       "      <th>134</th>\n",
       "      <td>X47E86310</td>\n",
       "      <td>4277</td>\n",
       "      <td>0.058920</td>\n",
       "      <td>0.211083</td>\n",
       "      <td>0</td>\n",
       "      <td>0</td>\n",
       "      <td>4025</td>\n",
       "      <td>139</td>\n",
       "      <td>113</td>\n",
       "    </tr>\n",
       "    <tr>\n",
       "      <th>189</th>\n",
       "      <td>X109093</td>\n",
       "      <td>7516</td>\n",
       "      <td>0.063465</td>\n",
       "      <td>0.247006</td>\n",
       "      <td>0</td>\n",
       "      <td>0</td>\n",
       "      <td>7039</td>\n",
       "      <td>240</td>\n",
       "      <td>237</td>\n",
       "    </tr>\n",
       "  </tbody>\n",
       "</table>\n",
       "</div>"
      ],
      "text/plain": [
       "        Codigo  count  POR_NO_C01      mean  cantM01  cantM02  cantC01  \\\n",
       "134  X47E86310   4277    0.058920  0.211083        0        0     4025   \n",
       "189    X109093   7516    0.063465  0.247006        0        0     7039   \n",
       "\n",
       "     cantC02  cantD01  \n",
       "134      139      113  \n",
       "189      240      237  "
      ]
     },
     "execution_count": 87,
     "metadata": {},
     "output_type": "execute_result"
    }
   ],
   "source": [
    "bestMean = 30\n",
    "bestConf = 20\n",
    "\n",
    "dfMejor = dfAnaTotal.sort_values('mean',ascending=False).head(bestMean)\n",
    "dfMejor['POR_NO_C01'] = 1 - dfAnaTotal['cantC01'] / dfAnaTotal['count']\n",
    "dfMejor = dfMejor.sort_values(['cantM01','POR_NO_C01'], ascending=True).head(bestConf)[['Codigo','count','POR_NO_C01','mean','cantM01','cantM02','cantC01','cantC02','cantD01']]\n",
    "\n",
    "dfMejor.head(2)"
   ]
  },
  {
   "cell_type": "code",
   "execution_count": 88,
   "id": "1d46b5f1",
   "metadata": {},
   "outputs": [],
   "source": [
    "dfGraficar = dfMejor[0:19]"
   ]
  },
  {
   "cell_type": "code",
   "execution_count": 89,
   "id": "8316501b",
   "metadata": {},
   "outputs": [
    {
     "data": {
      "image/png": "[encoded data removed]",
      "text/plain": [
       "<Figure size 432x288 with 1 Axes>"
      ]
     },
     "metadata": {
      "needs_background": "light"
     },
     "output_type": "display_data"
    }
   ],
   "source": [
    "visualizarEstaciones(dfGraficar, name = 'dfStMejores_19', xCode = False, row='Codigo')"
   ]
  },
  {
   "cell_type": "code",
   "execution_count": 90,
   "id": "88baa5dd",
   "metadata": {},
   "outputs": [],
   "source": [
    "\"\"\"\n",
    "Regresion\n",
    "\"\"\"\n",
    "comentarioREG_EST = 'El dataset es para lso modelos de regresion, se usa como output el dato \\\n",
    "            Se ha realizado una limpieza de datos (quitado datos malos 1 y verificado que exista \\\n",
    "            las imagenes satelitales). ADICIONALMENTE, se esta limitando los datos a estaciones especificas,\\\n",
    "            las cuales fueron escogidas luego del analisis- V2: Juntar archivos y Analisis V2'\n",
    "\n",
    "p_reg_est = {    \n",
    "    # parametros del proyecto\n",
    "    'products'   : products,\n",
    "    'times'      : times,\n",
    "    'path_base'  : path_base,\n",
    "\n",
    "    # parametros del dataset\n",
    "    'ceros'      : 0.8,   \n",
    "    'flags'      : ['C0000002'],\n",
    "    'flagV2'     : ['D01','D02','C01'],\n",
    "    'estaciones' : [x[1:] for x in dfGraficar['Codigo'].unique().tolist()],\n",
    "    'delete'     : True,\n",
    "    \n",
    "    # Split\n",
    "    'pruebas'    : 0.01,\n",
    "    'validacion' : 0.2,\n",
    "    \n",
    "    # Modelo\n",
    "    'redTipo'    : 'Regresion',\n",
    "    \n",
    "    # PARA MODELOS DE CLASIFICACION\n",
    "    'claseName'  : '',\n",
    "    'condicion_1': [],    \n",
    "    \n",
    "    # Nombres\n",
    "    'nameDS'     : 'Dato_EST_V2',       \n",
    "}"
   ]
  },
  {
   "cell_type": "code",
   "execution_count": 91,
   "id": "09b6f0bf",
   "metadata": {},
   "outputs": [
    {
     "name": "stdout",
     "output_type": "stream",
     "text": [
      "Tipo de dataset: Regresion\n",
      "Se leera los archivos de datasets...\n",
      "Tiempo tomado: 0.14s\n",
      "+Cantidad de datos leidos 50084\n",
      "\n",
      "Se elimnara los valores nulos y dudosos\n",
      "Tiempo tomado: 0.17s\n",
      "+Cantidad de datos luego de elimnar nulos 50084\n",
      "-------> CANTIDAD FINAL DE DATOS :  40468 <--------------\n",
      "Tiempo total: 0.18s\n",
      "Se limitara el DS a 19 estaciones\n",
      "Tamaño de los datasets: \n",
      "TRAIN   : 3873\n",
      "VALID   : 970\n",
      "PRUEBAS : 50\n",
      "           ESTADISCIAS DEL Dato_EST_V2 \n",
      "\n",
      "Flags       : ['C0000002']\n",
      "Estaciones  : 16\n",
      "Totales     : 4893\n",
      "Ceros       : 535\n",
      "Clase 0(M02): 0\n",
      "Clase 1(C02): 4893\n",
      "Maximo      : 66.9\n",
      "Media       : 3.0920498671571637\n",
      "STD         : 5.40526946682217\n"
     ]
    },
    {
     "data": {
      "image/png": "[encoded data removed]",
      "text/plain": [
       "<Figure size 432x288 with 1 Axes>"
      ]
     },
     "metadata": {
      "needs_background": "light"
     },
     "output_type": "display_data"
    },
    {
     "data": {
      "image/png": "[encoded data removed]",
      "text/plain": [
       "<Figure size 432x288 with 1 Axes>"
      ]
     },
     "metadata": {
      "needs_background": "light"
     },
     "output_type": "display_data"
    },
    {
     "data": {
      "text/html": [
       "<div>\n",
       "<style scoped>\n",
       "    .dataframe tbody tr th:only-of-type {\n",
       "        vertical-align: middle;\n",
       "    }\n",
       "\n",
       "    .dataframe tbody tr th {\n",
       "        vertical-align: top;\n",
       "    }\n",
       "\n",
       "    .dataframe thead th {\n",
       "        text-align: right;\n",
       "    }\n",
       "</style>\n",
       "<table border=\"1\" class=\"dataframe\">\n",
       "  <thead>\n",
       "    <tr style=\"text-align: right;\">\n",
       "      <th></th>\n",
       "      <th>nombre</th>\n",
       "      <th>codigo</th>\n",
       "      <th>XO</th>\n",
       "      <th>XA</th>\n",
       "      <th>longitud</th>\n",
       "      <th>latitud</th>\n",
       "      <th>altura</th>\n",
       "      <th>dato</th>\n",
       "      <th>90%</th>\n",
       "      <th>99%</th>\n",
       "      <th>75%</th>\n",
       "      <th>umb1</th>\n",
       "      <th>umb2</th>\n",
       "      <th>fecha</th>\n",
       "      <th>flag</th>\n",
       "      <th>flagV2</th>\n",
       "      <th>imagen</th>\n",
       "    </tr>\n",
       "  </thead>\n",
       "  <tbody>\n",
       "    <tr>\n",
       "      <th>43486</th>\n",
       "      <td>PUERTO BERMUDEZ</td>\n",
       "      <td>109093</td>\n",
       "      <td>478</td>\n",
       "      <td>647</td>\n",
       "      <td>-74.94356</td>\n",
       "      <td>-10.28619</td>\n",
       "      <td>267.0</td>\n",
       "      <td>1.1</td>\n",
       "      <td>0.0</td>\n",
       "      <td>6.040</td>\n",
       "      <td>0.0</td>\n",
       "      <td>3.7</td>\n",
       "      <td>21.2</td>\n",
       "      <td>2020-12-05-12</td>\n",
       "      <td>C0000002</td>\n",
       "      <td>D01</td>\n",
       "      <td>478--647--2020-12-05-12</td>\n",
       "    </tr>\n",
       "    <tr>\n",
       "      <th>36559</th>\n",
       "      <td>LA FORTUNA</td>\n",
       "      <td>107131</td>\n",
       "      <td>286</td>\n",
       "      <td>502</td>\n",
       "      <td>-78.40242</td>\n",
       "      <td>-7.67042</td>\n",
       "      <td>3343.0</td>\n",
       "      <td>0.3</td>\n",
       "      <td>0.4</td>\n",
       "      <td>5.275</td>\n",
       "      <td>0.0</td>\n",
       "      <td>8.9</td>\n",
       "      <td>17.9</td>\n",
       "      <td>2021-10-19-02</td>\n",
       "      <td>C0000002</td>\n",
       "      <td>D01</td>\n",
       "      <td>286--502--2021-10-19-02</td>\n",
       "    </tr>\n",
       "  </tbody>\n",
       "</table>\n",
       "</div>"
      ],
      "text/plain": [
       "                nombre  codigo   XO   XA  longitud   latitud  altura  dato  \\\n",
       "43486  PUERTO BERMUDEZ  109093  478  647 -74.94356 -10.28619   267.0   1.1   \n",
       "36559       LA FORTUNA  107131  286  502 -78.40242  -7.67042  3343.0   0.3   \n",
       "\n",
       "       90%    99%  75%  umb1  umb2          fecha      flag flagV2  \\\n",
       "43486  0.0  6.040  0.0   3.7  21.2  2020-12-05-12  C0000002    D01   \n",
       "36559  0.4  5.275  0.0   8.9  17.9  2021-10-19-02  C0000002    D01   \n",
       "\n",
       "                        imagen  \n",
       "43486  478--647--2020-12-05-12  \n",
       "36559  286--502--2021-10-19-02  "
      ]
     },
     "execution_count": 91,
     "metadata": {},
     "output_type": "execute_result"
    }
   ],
   "source": [
    "dfLimpioREG_EST = getModelo_DS(listDataset, path_imagenes, p_reg_est ,comentario=comentarioREG_EST)\n",
    "dfLimpioREG_EST.head(2)"
   ]
  },
  {
   "cell_type": "code",
   "execution_count": 120,
   "id": "a9b88d15",
   "metadata": {},
   "outputs": [],
   "source": [
    "\"\"\"\n",
    "Clasificacion\n",
    "\"\"\"\n",
    "comentarioCLAS_DUD = 'El dataset es para lso modelos de clasificaicon, se usa como clase 1 los datos con flag = C02\\\n",
    "               y todos los flags M02 como clase 0.\\n- V2: V2 del joinDataset - DUD: Solo se escoje los dudsoso flag v2'\n",
    "p_clas_dud = {    \n",
    "    # parametros del proyecto\n",
    "    'products'   : products,\n",
    "    'times'      : times,\n",
    "    'path_base'  : path_base,\n",
    "\n",
    "    # parametros del dataset  \n",
    "    'flags'      : ['C0000002','M0000002'],\n",
    "    'flagV2'     : ['D01','D02'],\n",
    "    'estaciones' : [],\n",
    "    'delete'     : True,\n",
    "    \n",
    "    # Split\n",
    "    'pruebas'    : 0.01,\n",
    "    'validacion' : 0.1,\n",
    "    \n",
    "    # Modelo\n",
    "    'redTipo'    : 'Clasificacion',\n",
    "    \n",
    "    # PARA MODELOS DE CLASIFICACION\n",
    "    'claseName'  : 'clase',\n",
    "    'condicion_1': ['flag','C0000002'],    \n",
    "    \n",
    "    # Nombres\n",
    "    'nameDS'     : 'ClaseV2_DUD',       \n",
    "}"
   ]
  },
  {
   "cell_type": "code",
   "execution_count": 121,
   "id": "5f25c53f",
   "metadata": {},
   "outputs": [
    {
     "name": "stdout",
     "output_type": "stream",
     "text": [
      "Tipo de dataset: Clasificacion\n",
      "Se leera los archivos de datasets...\n",
      "Tiempo tomado: 0.19s\n",
      "+Cantidad de datos leidos 50084\n",
      "\n",
      "Se elimnara los valores nulos y dudosos\n",
      "Tiempo tomado: 0.22s\n",
      "+Cantidad de datos luego de elimnar nulos 50084\n",
      "-------> CANTIDAD FINAL DE DATOS :  32376 <--------------\n",
      "Tiempo total: 0.24s\n",
      "Tamaño de los datasets: \n",
      "TRAIN   : 28843\n",
      "VALID   : 3207\n",
      "PRUEBAS : 326\n",
      "           ESTADISCIAS DEL ClaseV2_DUD \n",
      "\n",
      "Flags       : ['C0000002' 'M0000002']\n",
      "Estaciones  : 153\n",
      "Totales     : 32376\n",
      "Ceros       : 0\n",
      "Clase 0(M02): 496\n",
      "Clase 1(C02): 31880\n",
      "Maximo      : 337.5\n",
      "Media       : 1.9300756733382751\n",
      "STD         : 8.268104718866944\n"
     ]
    },
    {
     "data": {
      "image/png": "[encoded data removed]",
      "text/plain": [
       "<Figure size 432x288 with 1 Axes>"
      ]
     },
     "metadata": {
      "needs_background": "light"
     },
     "output_type": "display_data"
    },
    {
     "data": {
      "image/png": "[encoded data removed]",
      "text/plain": [
       "<Figure size 432x288 with 1 Axes>"
      ]
     },
     "metadata": {
      "needs_background": "light"
     },
     "output_type": "display_data"
    },
    {
     "data": {
      "text/html": [
       "<div>\n",
       "<style scoped>\n",
       "    .dataframe tbody tr th:only-of-type {\n",
       "        vertical-align: middle;\n",
       "    }\n",
       "\n",
       "    .dataframe tbody tr th {\n",
       "        vertical-align: top;\n",
       "    }\n",
       "\n",
       "    .dataframe thead th {\n",
       "        text-align: right;\n",
       "    }\n",
       "</style>\n",
       "<table border=\"1\" class=\"dataframe\">\n",
       "  <thead>\n",
       "    <tr style=\"text-align: right;\">\n",
       "      <th></th>\n",
       "      <th>nombre</th>\n",
       "      <th>codigo</th>\n",
       "      <th>XO</th>\n",
       "      <th>XA</th>\n",
       "      <th>longitud</th>\n",
       "      <th>latitud</th>\n",
       "      <th>altura</th>\n",
       "      <th>dato</th>\n",
       "      <th>90%</th>\n",
       "      <th>99%</th>\n",
       "      <th>75%</th>\n",
       "      <th>umb1</th>\n",
       "      <th>umb2</th>\n",
       "      <th>fecha</th>\n",
       "      <th>flag</th>\n",
       "      <th>flagV2</th>\n",
       "      <th>imagen</th>\n",
       "      <th>clase</th>\n",
       "    </tr>\n",
       "  </thead>\n",
       "  <tbody>\n",
       "    <tr>\n",
       "      <th>30815</th>\n",
       "      <td>HUALCUY</td>\n",
       "      <td>47E281B0</td>\n",
       "      <td>219</td>\n",
       "      <td>340</td>\n",
       "      <td>-79.61317</td>\n",
       "      <td>-4.74767</td>\n",
       "      <td>1970.0</td>\n",
       "      <td>0.2</td>\n",
       "      <td>0.1</td>\n",
       "      <td>2.7</td>\n",
       "      <td>0.0</td>\n",
       "      <td>1.7</td>\n",
       "      <td>8.7</td>\n",
       "      <td>2021-05-07-04</td>\n",
       "      <td>C0000002</td>\n",
       "      <td>D01</td>\n",
       "      <td>219--340--2021-05-07-04</td>\n",
       "      <td>1</td>\n",
       "    </tr>\n",
       "    <tr>\n",
       "      <th>47048</th>\n",
       "      <td>HUALLAPE</td>\n",
       "      <td>472A571A</td>\n",
       "      <td>269</td>\n",
       "      <td>379</td>\n",
       "      <td>-78.69759</td>\n",
       "      <td>-5.45077</td>\n",
       "      <td>409.0</td>\n",
       "      <td>0.2</td>\n",
       "      <td>0.0</td>\n",
       "      <td>1.5</td>\n",
       "      <td>0.0</td>\n",
       "      <td>0.4</td>\n",
       "      <td>3.7</td>\n",
       "      <td>2021-06-08-15</td>\n",
       "      <td>C0000002</td>\n",
       "      <td>D02</td>\n",
       "      <td>269--379--2021-06-08-15</td>\n",
       "      <td>1</td>\n",
       "    </tr>\n",
       "  </tbody>\n",
       "</table>\n",
       "</div>"
      ],
      "text/plain": [
       "         nombre    codigo   XO   XA  longitud  latitud  altura  dato  90%  \\\n",
       "30815   HUALCUY  47E281B0  219  340 -79.61317 -4.74767  1970.0   0.2  0.1   \n",
       "47048  HUALLAPE  472A571A  269  379 -78.69759 -5.45077   409.0   0.2  0.0   \n",
       "\n",
       "       99%  75%  umb1  umb2          fecha      flag flagV2  \\\n",
       "30815  2.7  0.0   1.7   8.7  2021-05-07-04  C0000002    D01   \n",
       "47048  1.5  0.0   0.4   3.7  2021-06-08-15  C0000002    D02   \n",
       "\n",
       "                        imagen  clase  \n",
       "30815  219--340--2021-05-07-04      1  \n",
       "47048  269--379--2021-06-08-15      1  "
      ]
     },
     "execution_count": 121,
     "metadata": {},
     "output_type": "execute_result"
    }
   ],
   "source": [
    "dfLimpioCLAS_DUD = getModelo_DS(listDataset, path_imagenes, p_clas_dud ,comentario=comentarioCLAS_DUD)\n",
    "dfLimpioCLAS_DUD.head(2)"
   ]
  },
  {
   "cell_type": "code",
   "execution_count": 131,
   "id": "79a78886",
   "metadata": {},
   "outputs": [
    {
     "name": "stdout",
     "output_type": "stream",
     "text": [
      "           ESTADISCIAS DEL ds_clas_M02 \n",
      "\n",
      "Flags       : ['M0000002']\n",
      "Estaciones  : 34\n",
      "Totales     : 496\n",
      "Ceros       : 0\n",
      "Dato menor 1: 347\n",
      "Dato mayor 1: 144\n",
      "Maximo      : 337.5\n",
      "Media       : 15.78046370967742\n",
      "STD         : 59.99939456248994\n"
     ]
    },
    {
     "data": {
      "image/png": "[encoded data removed]",
      "text/plain": [
       "<Figure size 432x288 with 1 Axes>"
      ]
     },
     "metadata": {
      "needs_background": "light"
     },
     "output_type": "display_data"
    },
    {
     "data": {
      "image/png": "[encoded data removed]",
      "text/plain": [
       "<Figure size 432x288 with 1 Axes>"
      ]
     },
     "metadata": {
      "needs_background": "light"
     },
     "output_type": "display_data"
    }
   ],
   "source": [
    "dfMALO02 = dfLimpioCLAS_DUD[dfLimpioCLAS_DUD['clase']==0]\n",
    "statsDS(dfMALO02, name='ds_clas_M02', tipo='Regresion')\n",
    "visualizarEstaciones(dfMALO02, name = 'ds_clas_M02',xCode=True, row='codigo')"
   ]
  },
  {
   "cell_type": "code",
   "execution_count": 132,
   "id": "15d5a4c3",
   "metadata": {},
   "outputs": [
    {
     "name": "stdout",
     "output_type": "stream",
     "text": [
      "           ESTADISCIAS DEL ds_clas_C02 \n",
      "\n",
      "Flags       : ['C0000002']\n",
      "Estaciones  : 152\n",
      "Totales     : 31880\n",
      "Ceros       : 0\n",
      "Dato menor 1: 18438\n",
      "Dato mayor 1: 12479\n",
      "Maximo      : 66.9\n",
      "Media       : 1.7145865746549562\n",
      "STD         : 3.239799968338469\n"
     ]
    },
    {
     "data": {
      "image/png": "[encoded data removed]",
      "text/plain": [
       "<Figure size 432x288 with 1 Axes>"
      ]
     },
     "metadata": {
      "needs_background": "light"
     },
     "output_type": "display_data"
    },
    {
     "data": {
      "image/png": "[encoded data removed]",
      "text/plain": [
       "<Figure size 432x288 with 1 Axes>"
      ]
     },
     "metadata": {
      "needs_background": "light"
     },
     "output_type": "display_data"
    }
   ],
   "source": [
    "dfCONF02 = dfLimpioCLAS_DUD[dfLimpioCLAS_DUD['clase']==1]\n",
    "statsDS(dfCONF02, name='ds_clas_C02', tipo='Regresion')\n",
    "visualizarEstaciones(dfCONF02, name = 'ds_clas_C02',xCode=True, row='codigo')"
   ]
  },
  {
   "cell_type": "code",
   "execution_count": 133,
   "id": "afc981da",
   "metadata": {},
   "outputs": [
    {
     "name": "stdout",
     "output_type": "stream",
     "text": [
      "           ESTADISCIAS DEL ds_clas_C02_10 \n",
      "\n",
      "Flags       : ['C0000002']\n",
      "Estaciones  : 64\n",
      "Totales     : 793\n",
      "Ceros       : 0\n",
      "Dato menor 1: 0\n",
      "Dato mayor 1: 793\n",
      "Maximo      : 66.9\n",
      "Media       : 17.38298865069357\n",
      "STD         : 7.86592836617139\n"
     ]
    },
    {
     "data": {
      "image/png": "[encoded data removed]",
      "text/plain": [
       "<Figure size 432x288 with 1 Axes>"
      ]
     },
     "metadata": {
      "needs_background": "light"
     },
     "output_type": "display_data"
    },
    {
     "data": {
      "image/png": "[encoded data removed]",
      "text/plain": [
       "<Figure size 432x288 with 1 Axes>"
      ]
     },
     "metadata": {
      "needs_background": "light"
     },
     "output_type": "display_data"
    }
   ],
   "source": [
    "dfCONF02_10 = dfCONF02[dfCONF02['dato']>10]\n",
    "statsDS(dfCONF02_10, name='ds_clas_C02_10', tipo='Regresion')\n",
    "visualizarEstaciones(dfCONF02_10, name = 'ds_clas_C02_10',xCode=True, row='codigo')"
   ]
  },
  {
   "cell_type": "code",
   "execution_count": 134,
   "id": "f19bf2c3",
   "metadata": {},
   "outputs": [
    {
     "name": "stdout",
     "output_type": "stream",
     "text": [
      "           ESTADISCIAS DEL ds_clas_C02_1m \n",
      "\n",
      "Flags       : ['C0000002']\n",
      "Estaciones  : 150\n",
      "Totales     : 18438\n",
      "Ceros       : 0\n",
      "Dato menor 1: 18438\n",
      "Dato mayor 1: 0\n",
      "Maximo      : 0.9\n",
      "Media       : 0.35225295585204464\n",
      "STD         : 0.24814316258526167\n"
     ]
    },
    {
     "data": {
      "image/png": "[encoded data removed]",
      "text/plain": [
       "<Figure size 432x288 with 1 Axes>"
      ]
     },
     "metadata": {
      "needs_background": "light"
     },
     "output_type": "display_data"
    },
    {
     "data": {
      "image/png": "[encoded data removed]",
      "text/plain": [
       "<Figure size 432x288 with 1 Axes>"
      ]
     },
     "metadata": {
      "needs_background": "light"
     },
     "output_type": "display_data"
    }
   ],
   "source": [
    "dfCONF02_1m = dfCONF02[dfCONF02['dato']<1]\n",
    "statsDS(dfCONF02_1m, name='ds_clas_C02_1m', tipo='Regresion')\n",
    "visualizarEstaciones(dfCONF02_1m, name = 'ds_clas_C02_1m',xCode=True, row='codigo')"
   ]
  },
  {
   "cell_type": "code",
   "execution_count": 138,
   "id": "9f5df012",
   "metadata": {},
   "outputs": [],
   "source": [
    "tempTotal = pd.read_csv(listDataset[0])"
   ]
  },
  {
   "cell_type": "code",
   "execution_count": 141,
   "id": "31525c4b",
   "metadata": {},
   "outputs": [
    {
     "data": {
      "text/html": [
       "<div>\n",
       "<style scoped>\n",
       "    .dataframe tbody tr th:only-of-type {\n",
       "        vertical-align: middle;\n",
       "    }\n",
       "\n",
       "    .dataframe tbody tr th {\n",
       "        vertical-align: top;\n",
       "    }\n",
       "\n",
       "    .dataframe thead th {\n",
       "        text-align: right;\n",
       "    }\n",
       "</style>\n",
       "<table border=\"1\" class=\"dataframe\">\n",
       "  <thead>\n",
       "    <tr style=\"text-align: right;\">\n",
       "      <th></th>\n",
       "      <th>nombre</th>\n",
       "      <th>codigo</th>\n",
       "      <th>XO</th>\n",
       "      <th>XA</th>\n",
       "      <th>longitud</th>\n",
       "      <th>latitud</th>\n",
       "      <th>altura</th>\n",
       "      <th>dato</th>\n",
       "      <th>90%</th>\n",
       "      <th>99%</th>\n",
       "      <th>75%</th>\n",
       "      <th>umb1</th>\n",
       "      <th>umb2</th>\n",
       "      <th>fecha</th>\n",
       "      <th>flag</th>\n",
       "      <th>flagV2</th>\n",
       "      <th>imagen</th>\n",
       "    </tr>\n",
       "  </thead>\n",
       "  <tbody>\n",
       "    <tr>\n",
       "      <th>14298</th>\n",
       "      <td>CACHICOTO</td>\n",
       "      <td>47E845FC</td>\n",
       "      <td>400</td>\n",
       "      <td>586</td>\n",
       "      <td>-76.35028</td>\n",
       "      <td>-9.18361</td>\n",
       "      <td>1109.0</td>\n",
       "      <td>20.0</td>\n",
       "      <td>0.2</td>\n",
       "      <td>8.400</td>\n",
       "      <td>0.0</td>\n",
       "      <td>5.5</td>\n",
       "      <td>28.6</td>\n",
       "      <td>2021-12-05-04</td>\n",
       "      <td>C0000002</td>\n",
       "      <td>D02</td>\n",
       "      <td>400--586--2021-12-05-04</td>\n",
       "    </tr>\n",
       "    <tr>\n",
       "      <th>42488</th>\n",
       "      <td>TINGO MARIA</td>\n",
       "      <td>47270400</td>\n",
       "      <td>419</td>\n",
       "      <td>592</td>\n",
       "      <td>-76.00207</td>\n",
       "      <td>-9.29601</td>\n",
       "      <td>646.0</td>\n",
       "      <td>20.0</td>\n",
       "      <td>0.2</td>\n",
       "      <td>9.906</td>\n",
       "      <td>0.0</td>\n",
       "      <td>2.7</td>\n",
       "      <td>13.2</td>\n",
       "      <td>2021-01-15-02</td>\n",
       "      <td>C0000002</td>\n",
       "      <td>D02</td>\n",
       "      <td>419--592--2021-01-15-02</td>\n",
       "    </tr>\n",
       "    <tr>\n",
       "      <th>43127</th>\n",
       "      <td>SAN MARTIN</td>\n",
       "      <td>4720EB14</td>\n",
       "      <td>377</td>\n",
       "      <td>598</td>\n",
       "      <td>-76.76482</td>\n",
       "      <td>-9.40385</td>\n",
       "      <td>3528.0</td>\n",
       "      <td>20.0</td>\n",
       "      <td>0.0</td>\n",
       "      <td>2.100</td>\n",
       "      <td>0.0</td>\n",
       "      <td>1.8</td>\n",
       "      <td>4.1</td>\n",
       "      <td>2020-12-30-20</td>\n",
       "      <td>C0000002</td>\n",
       "      <td>D02</td>\n",
       "      <td>377--598--2020-12-30-20</td>\n",
       "    </tr>\n",
       "    <tr>\n",
       "      <th>46654</th>\n",
       "      <td>TUNEL CHOTANO</td>\n",
       "      <td>47E1F02E</td>\n",
       "      <td>265</td>\n",
       "      <td>440</td>\n",
       "      <td>-78.78432</td>\n",
       "      <td>-6.54049</td>\n",
       "      <td>2027.0</td>\n",
       "      <td>20.0</td>\n",
       "      <td>0.1</td>\n",
       "      <td>3.976</td>\n",
       "      <td>0.0</td>\n",
       "      <td>0.5</td>\n",
       "      <td>4.0</td>\n",
       "      <td>2021-10-04-17</td>\n",
       "      <td>C0000002</td>\n",
       "      <td>D02</td>\n",
       "      <td>265--440--2021-10-04-17</td>\n",
       "    </tr>\n",
       "    <tr>\n",
       "      <th>46709</th>\n",
       "      <td>PUERTO BERMUDEZ</td>\n",
       "      <td>109093</td>\n",
       "      <td>478</td>\n",
       "      <td>647</td>\n",
       "      <td>-74.94356</td>\n",
       "      <td>-10.28619</td>\n",
       "      <td>267.0</td>\n",
       "      <td>20.0</td>\n",
       "      <td>0.0</td>\n",
       "      <td>6.040</td>\n",
       "      <td>0.0</td>\n",
       "      <td>3.7</td>\n",
       "      <td>21.2</td>\n",
       "      <td>2020-12-23-05</td>\n",
       "      <td>C0000002</td>\n",
       "      <td>D01</td>\n",
       "      <td>478--647--2020-12-23-05</td>\n",
       "    </tr>\n",
       "  </tbody>\n",
       "</table>\n",
       "</div>"
      ],
      "text/plain": [
       "                nombre    codigo   XO   XA  longitud   latitud  altura  dato  \\\n",
       "14298        CACHICOTO  47E845FC  400  586 -76.35028  -9.18361  1109.0  20.0   \n",
       "42488      TINGO MARIA  47270400  419  592 -76.00207  -9.29601   646.0  20.0   \n",
       "43127       SAN MARTIN  4720EB14  377  598 -76.76482  -9.40385  3528.0  20.0   \n",
       "46654    TUNEL CHOTANO  47E1F02E  265  440 -78.78432  -6.54049  2027.0  20.0   \n",
       "46709  PUERTO BERMUDEZ    109093  478  647 -74.94356 -10.28619   267.0  20.0   \n",
       "\n",
       "       90%    99%  75%  umb1  umb2          fecha      flag flagV2  \\\n",
       "14298  0.2  8.400  0.0   5.5  28.6  2021-12-05-04  C0000002    D02   \n",
       "42488  0.2  9.906  0.0   2.7  13.2  2021-01-15-02  C0000002    D02   \n",
       "43127  0.0  2.100  0.0   1.8   4.1  2020-12-30-20  C0000002    D02   \n",
       "46654  0.1  3.976  0.0   0.5   4.0  2021-10-04-17  C0000002    D02   \n",
       "46709  0.0  6.040  0.0   3.7  21.2  2020-12-23-05  C0000002    D01   \n",
       "\n",
       "                        imagen  \n",
       "14298  400--586--2021-12-05-04  \n",
       "42488  419--592--2021-01-15-02  \n",
       "43127  377--598--2020-12-30-20  \n",
       "46654  265--440--2021-10-04-17  \n",
       "46709  478--647--2020-12-23-05  "
      ]
     },
     "execution_count": 141,
     "metadata": {},
     "output_type": "execute_result"
    }
   ],
   "source": [
    "tempTotal[tempTotal['dato']==20]"
   ]
  },
  {
   "cell_type": "code",
   "execution_count": 142,
   "id": "178404ac",
   "metadata": {},
   "outputs": [
    {
     "name": "stdout",
     "output_type": "stream",
     "text": [
      "           ESTADISCIAS DEL clas_val_dud \n",
      "\n",
      "Flags       : ['C0000002' 'M0000002']\n",
      "Estaciones  : 141\n",
      "Totales     : 3207\n",
      "Ceros       : 0\n",
      "Dato menor 1: 1858\n",
      "Dato mayor 1: 1251\n",
      "Maximo      : 305.5\n",
      "Media       : 2.0297349547864045\n",
      "STD         : 9.157064688541894\n"
     ]
    },
    {
     "data": {
      "image/png": "[encoded data removed]",
      "text/plain": [
       "<Figure size 432x288 with 1 Axes>"
      ]
     },
     "metadata": {
      "needs_background": "light"
     },
     "output_type": "display_data"
    },
    {
     "data": {
      "image/png": "[encoded data removed]",
      "text/plain": [
       "<Figure size 432x288 with 1 Axes>"
      ]
     },
     "metadata": {
      "needs_background": "light"
     },
     "output_type": "display_data"
    }
   ],
   "source": [
    "clas_val_dud = pd.read_csv(f'{path_base}/Archivos/Dataset/Clasificacion/Validacion/ClaseV2_DUD_ValidacionDS.csv')\n",
    "statsDS(clas_val_dud, name='clas_val_dud', tipo='Regresion')\n",
    "visualizarEstaciones(clas_val_dud, name = 'clas_val_dud',xCode=True, row='codigo')"
   ]
  },
  {
   "cell_type": "code",
   "execution_count": 143,
   "id": "8ec88094",
   "metadata": {},
   "outputs": [
    {
     "name": "stdout",
     "output_type": "stream",
     "text": [
      "           ESTADISCIAS DEL clas_val_dud \n",
      "\n",
      "Flags       : ['C0000002' 'M0000002']\n",
      "Estaciones  : 141\n",
      "Totales     : 3207\n",
      "Ceros       : 0\n",
      "Clase 0(M02): 50\n",
      "Clase 1(C02): 3157\n",
      "Maximo      : 305.5\n",
      "Media       : 2.0297349547864045\n",
      "STD         : 9.157064688541894\n"
     ]
    },
    {
     "data": {
      "image/png": "[encoded data removed]",
      "text/plain": [
       "<Figure size 432x288 with 1 Axes>"
      ]
     },
     "metadata": {
      "needs_background": "light"
     },
     "output_type": "display_data"
    }
   ],
   "source": [
    "statsDS(clas_val_dud, name='clas_val_dud', tipo='Clasificacion')"
   ]
  },
  {
   "cell_type": "code",
   "execution_count": null,
   "id": "6330adb2",
   "metadata": {},
   "outputs": [],
   "source": []
  }
 ],
 "metadata": {
  "kernelspec": {
   "display_name": "Python 3 (ipykernel)",
   "language": "python",
   "name": "python3"
  },
  "language_info": {
   "codemirror_mode": {
    "name": "ipython",
    "version": 3
   },
   "file_extension": ".py",
   "mimetype": "text/x-python",
   "name": "python",
   "nbconvert_exporter": "python",
   "pygments_lexer": "ipython3",
   "version": "3.9.11"
  }
 },
 "nbformat": 4,
 "nbformat_minor": 5
}
