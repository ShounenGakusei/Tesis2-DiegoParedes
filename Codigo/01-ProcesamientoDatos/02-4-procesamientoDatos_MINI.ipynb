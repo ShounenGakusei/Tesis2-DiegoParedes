{
 "cells": [
  {
   "cell_type": "code",
   "execution_count": 1,
   "id": "e91fd014",
   "metadata": {},
   "outputs": [],
   "source": [
    "\"\"\"\n",
    "OBJETIVO : Dividir los datasets princiaples en peuqeños datasets mas selectos, o solo modificaciones de los principales\n",
    "\n",
    "TERMINOS: \n",
    "- DA = Data augmentation\n",
    "- 01 = Datos entre 0 y 1\n",
    "- 19 = Datos mayor a 1\n",
    "- FDA = False data augemntation, consiste en cambiar el valor de preciptiacion para convertirlo de conforme a malo-\n",
    "        \n",
    "\"\"\"\n",
    "Autor='Diego Paredes'"
   ]
  },
  {
   "cell_type": "code",
   "execution_count": 2,
   "id": "df4b9330",
   "metadata": {},
   "outputs": [],
   "source": [
    "# Leer imagenes satelitales (.nc) \n",
    "from netCDF4 import Dataset, num2date\n",
    "\n",
    "# Graficos y visualizaciones\n",
    "import cartopy.crs as ccrs\n",
    "import cartopy.feature as cfw\n",
    "import matplotlib.pyplot as plt\n",
    "\n",
    "# Liberias para manejo de datos\n",
    "from sklearn.utils import shuffle\n",
    "from sklearn.model_selection import train_test_split\n",
    "import pandas as pd\n",
    "import numpy as np\n",
    "\n",
    "# Liberias estandar\n",
    "import re\n",
    "import time\n",
    "import os"
   ]
  },
  {
   "cell_type": "code",
   "execution_count": 3,
   "id": "70311502",
   "metadata": {},
   "outputs": [
    {
     "data": {
      "text/plain": [
       "'C:/Users/Shounen/Desktop/Ciclo XI/Tesis 2/NewTesis'"
      ]
     },
     "execution_count": 3,
     "metadata": {},
     "output_type": "execute_result"
    }
   ],
   "source": [
    "\"\"\"\n",
    "DEFINIMOS EL PATH DEL PROYECTO \n",
    "\"\"\"\n",
    "with open('../../path_base.txt') as f:\n",
    "    path_base = f.read()\n",
    "path_base"
   ]
  },
  {
   "cell_type": "code",
   "execution_count": 4,
   "id": "956904a2",
   "metadata": {},
   "outputs": [],
   "source": [
    "#Nombre de archivos\n",
    "#dfLimpio.to_csv(f'{p[\"path_base\"]}/Archivos/Dataset/{p[\"redTipo\"]}/{p[\"nameDS\"]}_CompletoDS.csv')\n",
    "#_dsTest.to_csv(f'{p[\"path_base\"]}/Archivos/Dataset/{p[\"redTipo\"]}/Pruebas/{p[\"nameDS\"]}_PruebasDS.csv')\n",
    "#_dsValid.to_csv(f'{p[\"path_base\"]}/Archivos/Dataset/{p[\"redTipo\"]}/Validacion/{p[\"nameDS\"]}_ValidacionDS.csv')\n",
    "#_dsTrain.to_csv(f'{p[\"path_base\"]}/Archivos/Dataset/{p[\"redTipo\"]}/Entrenamiento/{p[\"nameDS\"]}_TrainDS.csv')"
   ]
  },
  {
   "cell_type": "code",
   "execution_count": 5,
   "id": "caf93a80",
   "metadata": {},
   "outputs": [],
   "source": [
    "\"\"\"\n",
    "Variables generales\n",
    "\"\"\"\n",
    "path_imagenes = 'F:/GOES/' \n",
    "\n",
    "# Archivos de datasets\n",
    "dsName = 'dsCompletoPP_V2'\n",
    "\n",
    "#Variables generales\n",
    "products = ['C07','C08','C13']\n",
    "times   = ['10','20','30','40','50','00']"
   ]
  },
  {
   "cell_type": "code",
   "execution_count": 6,
   "id": "1bb82afb",
   "metadata": {},
   "outputs": [],
   "source": [
    "#Archivos adicionales\n",
    "Festaciones = f'{path_base}/Archivos/Inicial/estaciones.csv'\n",
    "FflagV2 = f'{path_base}/Archivos/Dataset/dsFLAGV2.csv'\n",
    "\n",
    "imagenTest = 'F:/GOES/C08/2021/01/G16_C08_Cyl_20210101-0020.nc'\n",
    "Fanalisis = f'{path_base}/Archivos/Reportes/Datos/analisis_Total.csv'"
   ]
  },
  {
   "cell_type": "code",
   "execution_count": 7,
   "id": "756cc730",
   "metadata": {},
   "outputs": [],
   "source": [
    "def visualizarEstaciones(df, name = '',imagenTest='', xCode=True, row='codigo'):\n",
    "    if not imagenTest:\n",
    "        imagenTest = 'F:/GOES/C08/2021/01/G16_C08_Cyl_20210101-0020.nc'\n",
    "    \n",
    "    ds = Dataset(imagenTest)\n",
    "    field = ds.variables['CMI'][:].data.astype(np.float32)/100.0\n",
    "\n",
    "    # obtiene las coordenadas de los pixeles\n",
    "    lons = ds.variables['longitude'][:].data\n",
    "    lats = ds.variables['latitude'][:].data\n",
    "    #lons, lats = np.meshgrid(lons, lats)\n",
    "    \n",
    "    Festaciones = f'{path_base}/Archivos/Inicial/estaciones.csv'\n",
    "    dfEstaciones = pd.read_csv(Festaciones)\n",
    "    dfCod = df[row].unique()\n",
    "    dfCod = pd.DataFrame({row:dfCod.tolist()})\n",
    "\n",
    "    #Graficomos las estaciones para el ds de regresion\n",
    "    ax = plt.axes(projection=ccrs.PlateCarree())\n",
    "    plt.title(f'{name} - Peru ({len(dfCod)} estaciones)')\n",
    "    ax.set_extent([lons.min(), lons.max(), lats.min(),lats.max()], ccrs.PlateCarree())\n",
    "\n",
    "    for x in dfCod.index:\n",
    "        if xCode:\n",
    "            st = dfEstaciones[dfEstaciones['CODE'] == f'X{dfCod[row][x]}']\n",
    "        else:\n",
    "            st = dfEstaciones[dfEstaciones['CODE'] == f'{dfCod[row][x]}']    \n",
    "        if not st.empty:    \n",
    "            x = st['LON']#.iloc[0]\n",
    "            y = st['LAT']#.iloc[0]\n",
    "            plt.plot(x, y,  1, marker='o', color='red',alpha=0.45)    \n",
    "\n",
    "    ax.coastlines(resolution='110m')\n",
    "    \n",
    "    plt.savefig(f'{path_base}/Archivos/Reportes/Plots/MAPA_{name}.png')\n",
    "    plt.show()"
   ]
  },
  {
   "cell_type": "code",
   "execution_count": 8,
   "id": "41dd99c9",
   "metadata": {},
   "outputs": [],
   "source": [
    "def statsDS(df, name='ds', tipo='Clasificacion'):    \n",
    "    print(f'           ESTADISCIAS DEL {name} \\n')  \n",
    "    print(f'Flags       : {df[\"flag\"].unique()}')\n",
    "    print(f'Estaciones  : {len(df[\"codigo\"].unique())}')\n",
    "    print(f'Totales     : {df[\"dato\"].count()}')\n",
    "    print(f'Ceros       : {df[df[\"dato\"]==0][\"dato\"].count()}')    \n",
    "    if tipo=='Regresion':\n",
    "        print(f'Menor a 1   : {df[df[\"dato\"]<1][\"dato\"].count()}')\n",
    "        print(f'Mayor a 1   : {df[df[\"dato\"]>1][\"dato\"].count()}')\n",
    "    else:\n",
    "        print(f'Clase 0(M02): {df[df[\"flag\"]==\"M0000002\"][\"dato\"].count()}')\n",
    "        print(f'Clase 1(C02): {df[df[\"flag\"]==\"C0000002\"][\"dato\"].count()}')\n",
    "    print(f'Maximo      : {df[\"dato\"].max()}')\n",
    "    print(f'Media       : {df[\"dato\"].mean()}')\n",
    "    print(f'STD         : {df[\"dato\"].std()}')\n",
    "\n",
    "    #_dataset[_dataset[\"dato\"]!=0][\"dato\"].hist(legend=True)\n",
    "    #_dataset[_dataset[\"dato\"]>1][\"dato\"].hist(legend=True)\n",
    "    if tipo=='Clasificacion':\n",
    "        df['flag'].hist(legend=True)\n",
    "        plt.xlabel('FLAG')\n",
    "        plt.ylabel('Cantidad')\n",
    "        plt.title('Histograma de FLAG')\n",
    "    else:\n",
    "        df['dato'].hist(legend=True)   \n",
    "        plt.xlabel('Valor')\n",
    "        plt.ylabel('Cantidad')\n",
    "        plt.title('Histograma de Precipitacion')\n",
    "    plt.show()"
   ]
  },
  {
   "cell_type": "code",
   "execution_count": 9,
   "id": "d6d2e317",
   "metadata": {},
   "outputs": [
    {
     "data": {
      "text/plain": [
       "'\\nMetodos para balancear las clases en los datasets\\n'"
      ]
     },
     "execution_count": 9,
     "metadata": {},
     "output_type": "execute_result"
    }
   ],
   "source": [
    "\"\"\"\n",
    "Metodos para balancear las clases en los datasets\n",
    "\"\"\""
   ]
  },
  {
   "cell_type": "code",
   "execution_count": 10,
   "id": "2b6228cb",
   "metadata": {},
   "outputs": [],
   "source": [
    "# Aplica data augmentation en un df, aumentando solo la clase (columna) minoritaria maximo 3 (DA) veces\n",
    "def applyDA(df, columna='clase', DA=3):\n",
    "    df['DA'] = 0\n",
    "    dfs = [df[df[columna]==0], df[df[columna]==1]]    \n",
    "    posM = 0 if len(dfs[0])>len(dfs[1]) else 1\n",
    "    \n",
    "    # Clase minoritaria = M^1\n",
    "    # Se va aumentar lm\n",
    "    dfMenor0 = dfs[posM^1].copy()\n",
    "    \n",
    "    dfMenor1 = dfs[posM^1].copy()\n",
    "    dfMenor1['DA'] = 1\n",
    "    \n",
    "    dfMenor2 = dfs[posM^1].copy()\n",
    "    dfMenor2['DA'] = 2\n",
    "    \n",
    "    dfMenor3 = dfs[posM^1].copy()\n",
    "    dfMenor3['DA'] = 3\n",
    "    \n",
    "     \n",
    "    dfMenos = [dfMenor0,dfMenor1,dfMenor2,dfMenor3,dfs[posM]]\n",
    "    train = pd.concat(dfMenos)    \n",
    "    \n",
    "    return train"
   ]
  },
  {
   "cell_type": "code",
   "execution_count": 11,
   "id": "9adebdcc",
   "metadata": {},
   "outputs": [],
   "source": [
    "# Aplica false data augmentation en un df, aumentando solo la clase (columna) minoritaria \n",
    "# hasta alcanzar el FDA porciento de la clase mayoritaria\n",
    "# Si delete = True, lo convertido de la clase mayoritaria, se borra de la clase mayoritaria\n",
    "def applyFA(df, columna='clase', FDA=1, umbralSep = 20, delete=False , porcAlta = 10):  \n",
    "    # No se le aplicado DFA al dataset\n",
    "    df['DFA'] = 0\n",
    "    \n",
    "    # Encontramos la clase mayoritaria y minoritaria\n",
    "    dfs = [df[df[columna]==0], df[df[columna]==1]]\n",
    "    posM = 0 if len(dfs[0])>len(dfs[1]) else 1\n",
    "    \n",
    "    # Calculamos cuantos datos se necesitan aplicar DFA\n",
    "    cantFinal = FDA * len(dfs[posM])\n",
    "    cantActual = len(dfs[posM^1])\n",
    "    if delete:\n",
    "        cantNeeded = (cantFinal - cantActual) / 2\n",
    "    else:\n",
    "        cantNeeded = cantFinal - cantActual\n",
    "    \n",
    "    # Calculamos los grupos de preciptiacion leve y fuerte en la clase mayoritaria\n",
    "    dfLeve = dfs[posM].copy()\n",
    "    dfLeve = dfLeve[dfLeve['dato']<1]\n",
    "    cantLeve = (len(dfLeve))/len(dfs[posM]) * cantNeeded\n",
    "    \n",
    "    dfAlta = dfs[posM].copy()\n",
    "    dfTemp = dfAlta[(dfAlta['dato']<=umbralSep) & (dfAlta['dato']>=1)]\n",
    "    dfAlta = dfAlta[dfAlta['dato']>umbralSep]    \n",
    "    cantAlta = (len(dfAlta))/len(dfs[posM]) * cantNeeded\n",
    "    \n",
    "    print(f'Cantidad de clase mayoritaria : {len(dfs[posM])}')\n",
    "    print(f'Cantidad de clase minoritaria : {len(dfs[posM^1])}')\n",
    "    print(f'Total a aumentar              : {cantNeeded}')\n",
    "    print(f'Cantidad leve                 : {len(dfLeve)}')\n",
    "    print(f'Cantidad alta                 : {len(dfAlta)}')\n",
    "    \n",
    "    \n",
    "    fracA = int(cantNeeded/len(dfs[posM]) * len(dfAlta))   \n",
    "    fracL = int(cantNeeded/len(dfs[posM]) * len(dfAlta)) * porcAlta\n",
    "    \n",
    "    # Obtenemso el DS de DFA\n",
    "    if delete:\n",
    "        \n",
    "        print(f'Cantidad a tomar de leve      : {fracL}')\n",
    "        dfDFAleve, tempL = train_test_split(dfLeve, train_size = fracL)# dfLeve.sample(frac=fracL)\n",
    "    else:\n",
    "        dfDFAleve = dfLeve.sample(n=int(cantLeve))\n",
    "    \n",
    "    dfDFAleve['dato'] = dfDFAleve['dato'] + umbralSep\n",
    "    dfDFAleve['clase'] = 0\n",
    "    dfDFAleve['flag'] = 'M0000002'\n",
    "    dfDFAleve['DFA'] = 1\n",
    "    \n",
    "    if delete:      \n",
    "        print(f'Cantidad a tomar de alto      : {fracA}')\n",
    "        dfDFAAlto, tempA  = train_test_split(dfAlta, train_size =fracA )#dfAlta.sample(n=int(cantAlta))\n",
    "    else:\n",
    "        dfDFAAlto = dfAlta.sample(n=int(cantAlta))\n",
    "    \n",
    "    dfDFAAlto['dato'] = dfDFAAlto['dato'] - umbralSep\n",
    "    dfDFAAlto['clase'] = 0\n",
    "    dfDFAAlto['flag'] = 'M0000002'\n",
    "    dfDFAAlto['DFA'] = 1\n",
    "    \n",
    "    \n",
    "    \n",
    "    if delete:\n",
    "        train = pd.concat([tempA,tempL,dfTemp,dfDFAleve,dfDFAAlto,dfs[posM^1]])\n",
    "        print(f'Diferencia final              : { len(dfDFAleve) + len(dfDFAAlto) - len(tempA) - len(tempL) - len(dfs[posM^1])}')\n",
    "    else:\n",
    "        train = pd.concat([dfs[posM],dfs[posM^1],dfDFAleve,dfDFAAlto])\n",
    "        print(f'Diferencia final              : { len(dfs[posM]) - len(dfs[posM^1]) - (int(cantLeve) + int(cantAlta))}')\n",
    "        \n",
    "    return train"
   ]
  },
  {
   "cell_type": "code",
   "execution_count": 12,
   "id": "c743b420",
   "metadata": {},
   "outputs": [],
   "source": [
    "# Metodo de eliminar datos de la clase mayoritaria, elimna datos manteneindo el balance en lso niveles de precipitacion\n",
    "def disminuirMayoritario(df, porc=0.2, umbralSep = 1, columna='clase'):\n",
    "    dfs = [df[df[columna]==0], df[df[columna]==1]]\n",
    "    posM = 0 if len(dfs[0])>len(dfs[1]) else 1\n",
    "    \n",
    "    # Calculamos los grupos de preciptiacion leve y fuerte en la clase mayoritaria\n",
    "    dfLeve = dfs[posM].copy()\n",
    "    dfLeve = dfLeve[dfLeve['dato']<umbralSep]    \n",
    "    \n",
    "    dfAlta = dfs[posM].copy()    \n",
    "    dfAlta = dfAlta[dfAlta['dato']>=umbralSep]    \n",
    "    \n",
    "    dfDFLeve = dfLeve.sample(frac=porc)\n",
    "    dfDFAlta = dfAlta.sample(frac=porc)\n",
    "    \n",
    "    train = pd.concat([dfDFLeve,dfDFAlta,dfs[posM^1]])\n",
    "    \n",
    "    return train"
   ]
  },
  {
   "cell_type": "code",
   "execution_count": 13,
   "id": "d377ca28",
   "metadata": {},
   "outputs": [],
   "source": [
    "# Aplica el metodo de split, ademas este split se realiza tambien balanceando los niveles de precipiacion en cada grupo\n",
    "def splitTrainDS(_dataset, redTipo, path_base, newDir='Split', DA=0, comentario=' '):      \n",
    "    tipo = redTipo[0]\n",
    "    output = redTipo[1]\n",
    "    if DA:\n",
    "        print('Se le aplicará DA al dataset')\n",
    "        _dataset = applyDA(_dataset, output, 3)\n",
    "        \n",
    "    dfs = [_dataset[_dataset[output]==0], _dataset[_dataset[output]==1]]    \n",
    "    posM = 0 if len(dfs[0])>len(dfs[1]) else 1\n",
    "    lM = len(dfs[posM])\n",
    "    lm = len(dfs[posM^1])\n",
    "    \n",
    "    try:\n",
    "        path = os.path.join(f'{path_base}/Archivos/Dataset/{tipo}/Entrenamiento/', newDir)\n",
    "        os.mkdir(path)        \n",
    "    except FileExistsError:\n",
    "        pass\n",
    "    except:\n",
    "        print(f\"No se pudo crear la carpeta {newDir}\")\n",
    "    \n",
    "    \n",
    "    n = int(lM/lm) + (lM % lm > 0)    \n",
    "    splitted = []\n",
    "    \n",
    "    for i in range(n):\n",
    "        if i == (n-1):\n",
    "            tempDF1 = dfs[posM][i*lm:i*lm+lm]\n",
    "            tempDF2 = dfs[posM][0:i*lm].sample(n=(lm-len(tempDF1)))            \n",
    "            splitted.append(pd.concat([tempDF1,tempDF2,dfs[posM^1]], ignore_index=True))            \n",
    "        else:\n",
    "            tempDF = dfs[posM][i*lm:i*lm+lm]            \n",
    "            splitted.append(pd.concat([tempDF,dfs[posM^1]], ignore_index=True))\n",
    "            \n",
    "    print(f'Se ha divido el dataset en {len(splitted)} partes')\n",
    "    i = 0    \n",
    "    for df in splitted:        \n",
    "        df.to_csv(f'{path_base}/Archivos/Dataset/{tipo}/Entrenamiento/{newDir}/{output.upper()}_TrainDS_{i}.csv')\n",
    "        i+=1\n",
    " \n",
    "    text_comentario = open(f'{path_base}/Archivos/Dataset/{tipo}/Entrenamiento/{newDir}/comentario.txt', \"w\")\n",
    "    text_comentario.write(comentario) \n",
    "    text_comentario.close()\n",
    "    \n",
    "    return splitted"
   ]
  },
  {
   "cell_type": "code",
   "execution_count": 14,
   "id": "fb1a802f",
   "metadata": {},
   "outputs": [],
   "source": [
    "# Metodo auxiliar que elimina ceros hasta obtener el porcentaje deseado de ceros (porc)\n",
    "def disminuirCeros(df, porc=0.2, columna='clase'):    \n",
    "    cerosC02 = df[(df[columna]==1) & (df['dato']==0)]\n",
    "    cerosM02 = df[(df[columna]==0) & (df['dato']==0)]\n",
    "    \n",
    "    cerosC02 = cerosC02.sample(frac=porc)\n",
    "    cerosM02 = cerosM02.sample(frac=porc)\n",
    "    \n",
    "    dfSinCeros = df[df['dato']!=0]\n",
    "    \n",
    "    train = pd.concat([dfSinCeros, cerosC02, cerosM02])\n",
    "    return train    "
   ]
  },
  {
   "cell_type": "code",
   "execution_count": 16,
   "id": "ed2a9d24",
   "metadata": {},
   "outputs": [],
   "source": [
    "# Leemos el datasets de entrenamiento Clasifiacion\n",
    "dsV_ = 'ClaseV2_DUD_TrainDS.csv'\n",
    "fileTrain_DUD_DS = f'{path_base}/Archivos/Dataset/Clasificacion/Entrenamiento/{dsV_}'\n",
    "fileTrain_V2_DS = f'{path_base}/Archivos/Dataset/Clasificacion/Entrenamiento/ClaseV2_TrainDS.csv'\n",
    "fileVal = f'{path_base}/Archivos/Dataset/Clasificacion/Validacion/ClaseV2_DUD_ValidacionDS.csv'\n",
    "filePrueba = f'{path_base}/Archivos/Dataset/Clasificacion/Pruebas/ClaseV2_DUD_PruebasDS.csv'\n",
    "\n",
    "dsTrainCLAS_V2 = pd.read_csv(fileTrain_V2_DS)\n",
    "dsTrainCLAS_DUD = pd.read_csv(fileTrain_DUD_DS)\n",
    "dsValCLAS_DUD = pd.read_csv(fileVal)\n",
    "dsPruebaCLAS_DUD = pd.read_csv(filePrueba)"
   ]
  },
  {
   "cell_type": "code",
   "execution_count": 24,
   "id": "a875469b",
   "metadata": {},
   "outputs": [
    {
     "data": {
      "text/plain": [
       "<AxesSubplot:>"
      ]
     },
     "execution_count": 24,
     "metadata": {},
     "output_type": "execute_result"
    },
    {
     "data": {
      "image/png": "[encoded data removed]",
      "text/plain": [
       "<Figure size 432x288 with 1 Axes>"
      ]
     },
     "metadata": {
      "needs_background": "light"
     },
     "output_type": "display_data"
    }
   ],
   "source": [
    "dsTrainCLAS_DUD[dsTrainCLAS_DUD['dato']<1]['dato'].hist()"
   ]
  },
  {
   "cell_type": "code",
   "execution_count": null,
   "id": "1a290916",
   "metadata": {},
   "outputs": [],
   "source": [
    "#statsDS(dsTrainCLAS_V2, name='CONJUNTO DE DATOS', tipo='Clasificacion')"
   ]
  },
  {
   "cell_type": "code",
   "execution_count": 17,
   "id": "34e63479",
   "metadata": {},
   "outputs": [],
   "source": [
    "#statsDS(dsTrainCLAS_DUD[dsTrainCLAS_DUD['clase']==1], name='CONJUNTO DE DATOS', tipo='Regresion')"
   ]
  },
  {
   "cell_type": "code",
   "execution_count": 18,
   "id": "8cf97c97",
   "metadata": {},
   "outputs": [],
   "source": [
    "#dsTrainCLAS_DUD['flag'].hist()\n",
    "#statsDS(DUDTrain_DA_DFAD[DUDTrain_DA_DFAD['clase']==0], name='CONJUNTO DE DATOS', tipo='Regresion')"
   ]
  },
  {
   "cell_type": "code",
   "execution_count": null,
   "id": "c4af0bbb",
   "metadata": {},
   "outputs": [],
   "source": [
    "\"\"\"\n",
    "DS_V2: Diminuir ceros al 20% + DA + DFAD + split\n",
    "\"\"\""
   ]
  },
  {
   "cell_type": "code",
   "execution_count": 71,
   "id": "b3f140b5",
   "metadata": {},
   "outputs": [
    {
     "name": "stdout",
     "output_type": "stream",
     "text": [
      "Se ha divido el dataset en 2 partes\n",
      "           ESTADISCIAS DEL SplitConDA_C20POR_DM_V2 \n",
      "\n",
      "Flags       : ['M0000002' 'C0000002']\n",
      "Estaciones  : 141\n",
      "Totales     : 6140\n",
      "Ceros       : 1248\n",
      "Clase 0(M02): 3070\n",
      "Clase 1(C02): 3070\n",
      "Maximo      : 337.5\n",
      "Media       : 4.084195439739413\n",
      "STD         : 27.76920410424823\n"
     ]
    },
    {
     "data": {
      "image/png": "[encoded data removed]",
      "text/plain": [
       "<Figure size 432x288 with 1 Axes>"
      ]
     },
     "metadata": {
      "needs_background": "light"
     },
     "output_type": "display_data"
    }
   ],
   "source": [
    "# DS CLasificacion, sin DA \n",
    "com_V2_DM_DA_DFAD = f\"Clase V2 , Este dataset es para el modelo de clasificacion con output clase, SI se le esta aplicando DataAugmentation (DA). \\\n",
    "                al dataset se divide en varias partes de tal forma de balancear las clases. \\\n",
    "              SOLO uso el datasset clas_dud como base. \\\n",
    "              delete =True, proporcion a tomar de alto - leve = 1 - 1 y DM = 0.1, ceros = 20%\"\n",
    "\n",
    "\n",
    "V2Train_20C = disminuirCeros(dsTrainCLAS_V2, porc=0.2, columna='clase')\n",
    "V2Train_20C_DA = applyDA(V2Train_20C, columna='clase', DA=3)\n",
    "#V2Train_20C_DA_DFAD = applyFA(V2Train_20C_DA, columna='clase', FDA=0.05, umbralSep = 20, delete=True, porcAlta = 1)\n",
    "V2Train_20C_DA_DM = disminuirMayoritario(V2Train_20C_DA, porc=0.1)\n",
    "    \n",
    "splittedDF_DUD_DA_DM = splitTrainDS(V2Train_20C_DA_DM,['Clasificacion','clase'], path_base, newDir='SplitConDA_C20POR_DM_V2', DA= 0, comentario=com_V2_DM_DA_DFAD) \n",
    "\n",
    "# Visualimamos un datasets\n",
    "#visualizarEstaciones(splittedDF_DUD_DA_DM_DFAD[0], name = 'SplitConDA_DM_DFAD_20C_V1',xCode=True, row='codigo')\n",
    "statsDS(splittedDF_DUD_DA_DM[0], name='SplitConDA_C20POR_DM_V2')"
   ]
  },
  {
   "cell_type": "code",
   "execution_count": null,
   "id": "357f6e3a",
   "metadata": {},
   "outputs": [],
   "source": [
    "\"\"\"\n",
    "DS_V2: Diminuir ceros al 10% + DA + DFAD + split\n",
    "\"\"\""
   ]
  },
  {
   "cell_type": "code",
   "execution_count": 52,
   "id": "aa03d988",
   "metadata": {},
   "outputs": [
    {
     "name": "stdout",
     "output_type": "stream",
     "text": [
      "Se ha divido el dataset en 2 partes\n",
      "           ESTADISCIAS DEL SplitConDA_DM_20C_V2 \n",
      "\n",
      "Flags       : ['M0000002' 'C0000002']\n",
      "Estaciones  : 142\n",
      "Totales     : 6008\n",
      "Ceros       : 622\n",
      "Clase 0(M02): 3004\n",
      "Clase 1(C02): 3004\n",
      "Maximo      : 337.5\n",
      "Media       : 4.2079127829560585\n",
      "STD         : 28.06618251389613\n"
     ]
    },
    {
     "data": {
      "image/png": "[encoded data removed]",
      "text/plain": [
       "<Figure size 432x288 with 1 Axes>"
      ]
     },
     "metadata": {
      "needs_background": "light"
     },
     "output_type": "display_data"
    }
   ],
   "source": [
    "# DS CLasificacion, sin DA \n",
    "com_V2_DM_DA_DFAD = f\"Clase V2 , Este dataset es para el modelo de clasificacion con output clase, SI se le esta aplicando DataAugmentation (DA). \\\n",
    "                al dataset se divide en varias partes de tal forma de balancear las clases. \\\n",
    "              SOLO uso el datasset clas_dud como base. \\\n",
    "              delete =True, proporcion a tomar de alto - leve = 1 - 1 y DM = 0.1, ceros = 10%\"\n",
    "\n",
    "\n",
    "V2Train_20C = disminuirCeros(dsTrainCLAS_V2, porc=0.1, columna='clase')\n",
    "V2Train_20C_DA = applyDA(V2Train_20C, columna='clase', DA=3)\n",
    "#V2Train_20C_DA_DFAD = applyFA(V2Train_20C_DA, columna='clase', FDA=0.05, umbralSep = 20, delete=True, porcAlta = 1)\n",
    "V2Train_20C_DA_DM = disminuirMayoritario(V2Train_20C_DA, porc=0.1)\n",
    "    \n",
    "splittedDF_DUD_DA_DM = splitTrainDS(V2Train_20C_DA_DM,['Clasificacion','clase'], path_base, newDir='SplitConDA_20C_DM_V2', DA= 0, comentario=com_V2_DM_DA_DFAD) \n",
    "\n",
    "# Visualimamos un datasets\n",
    "#visualizarEstaciones(splittedDF_DUD_DA_DM_DFAD[0], name = 'SplitConDA_DM_DFAD_20C_V1',xCode=True, row='codigo')\n",
    "statsDS(splittedDF_DUD_DA_DM[0], name='SplitConDA_DM_20C_V2')"
   ]
  },
  {
   "cell_type": "code",
   "execution_count": 53,
   "id": "338f8559",
   "metadata": {},
   "outputs": [
    {
     "name": "stdout",
     "output_type": "stream",
     "text": [
      "Estaciones  : 142\n",
      "Estaciones  : 142\n"
     ]
    }
   ],
   "source": [
    "for df in splittedDF_DUD_DA_DM:\n",
    "    print(f'Estaciones  : {len(df[\"codigo\"].unique())}')"
   ]
  },
  {
   "cell_type": "code",
   "execution_count": null,
   "id": "f9646043",
   "metadata": {},
   "outputs": [],
   "source": [
    "\"\"\"\n",
    "Disminuir la clase Mayoritaria + DA + DFAD + Split\n",
    "\"\"\""
   ]
  },
  {
   "cell_type": "code",
   "execution_count": 40,
   "id": "49804460",
   "metadata": {},
   "outputs": [
    {
     "name": "stdout",
     "output_type": "stream",
     "text": [
      "Cantidad de clase mayoritaria : 28403\n",
      "Cantidad de clase minoritaria : 1760\n",
      "Total a aumentar              : 1960.3000000000002\n",
      "Cantidad leve                 : 16424\n",
      "Cantidad alta                 : 712\n",
      "Cantidad a tomar de leve      : 49\n",
      "Cantidad a tomar de alto      : 49\n",
      "Diferencia final              : -18700\n",
      "Se ha divido el dataset en 4 partes\n"
     ]
    },
    {
     "data": {
      "image/png": "[encoded data removed]",
      "text/plain": [
       "<Figure size 432x288 with 1 Axes>"
      ]
     },
     "metadata": {
      "needs_background": "light"
     },
     "output_type": "display_data"
    },
    {
     "name": "stdout",
     "output_type": "stream",
     "text": [
      "           ESTADISCIAS DEL SplitConDA_DM_DFAD_DUD \n",
      "\n",
      "Flags       : ['C0000002' 'M0000002']\n",
      "Estaciones  : 144\n",
      "Totales     : 3716\n",
      "Ceros       : 0\n",
      "Clase 0(M02): 1858\n",
      "Clase 1(C02): 1858\n",
      "Maximo      : 337.5\n",
      "Media       : 8.2008853606028\n",
      "STD         : 43.21833336863061\n"
     ]
    },
    {
     "data": {
      "image/png": "[encoded data removed]",
      "text/plain": [
       "<Figure size 432x288 with 1 Axes>"
      ]
     },
     "metadata": {
      "needs_background": "light"
     },
     "output_type": "display_data"
    }
   ],
   "source": [
    "# DS CLasificacion, sin DA \n",
    "com_DUD_DM_DA_DFAD = f\"Este dataset es para el modelo de clasificacion con output clase, SI se le esta aplicando DataAugmentation (DA). \\\n",
    "                al dataset se divide en varias partes de tal forma de balancear las clases. \\\n",
    "              SOLO uso el datasset clas_dud como base. FDA = 0.2,  Umbral de DFA =  10, \\\n",
    "              delete =True, proporcion a tomar de alto - leve = 1 - 1 y DM = 0.2\"\n",
    "\n",
    "DUDTrain_DA = applyDA(dsTrainCLAS_DUD, columna='clase', DA=3)\n",
    "DUDTrain_DA_DFAD = applyFA(DUDTrain_DA, columna='clase', FDA=0.2, umbralSep = 10, delete=True, porcAlta = 1)\n",
    "DUDTrain_DA_DM_DFAD = disminuirMayoritario(DUDTrain_DA_DFAD, porc=0.2)\n",
    "    \n",
    "splittedDF_DUD_DA_DM_DFAD = splitTrainDS(DUDTrain_DA_DM_DFAD,['Clasificacion','clase'], path_base, newDir='SplitConDA_DM_DFAD_DUD', DA= 0, comentario=com_DUD_DM_DA_DFAD) \n",
    "\n",
    "# Visualimamos un datasets\n",
    "visualizarEstaciones(DUDTrain_DA_DFAD, name = 'SplitConDA_DM_DFAD_DUD',xCode=True, row='codigo')\n",
    "statsDS(splittedDF_DUD_DA_DM_DFAD[0], name='SplitConDA_DM_DFAD_DUD')"
   ]
  },
  {
   "cell_type": "code",
   "execution_count": 39,
   "id": "3799a457",
   "metadata": {},
   "outputs": [
    {
     "name": "stdout",
     "output_type": "stream",
     "text": [
      "Estaciones  : 142\n",
      "Estaciones  : 141\n",
      "Estaciones  : 135\n",
      "Estaciones  : 140\n"
     ]
    }
   ],
   "source": [
    "for df in splittedDF_DUD_DA_DM_DFAD:\n",
    "    print(f'Estaciones  : {len(df[\"codigo\"].unique())}')"
   ]
  },
  {
   "cell_type": "code",
   "execution_count": null,
   "id": "584fa1c7",
   "metadata": {},
   "outputs": [],
   "source": [
    "\"\"\"\n",
    "Aplicando DA , DFAD y Split\n",
    "\"\"\""
   ]
  },
  {
   "cell_type": "code",
   "execution_count": 132,
   "id": "802aeb71",
   "metadata": {},
   "outputs": [
    {
     "name": "stdout",
     "output_type": "stream",
     "text": [
      "Cantidad de clase mayoritaria : 28403\n",
      "Cantidad de clase minoritaria : 1760\n",
      "Total a aumentar              : 6220.75\n",
      "Cantidad leve                 : 16424\n",
      "Cantidad alta                 : 712\n",
      "Cantidad a tomar de leve      : 3100\n",
      "Cantidad a tomar de alto      : 155\n",
      "Diferencia final              : -12386\n",
      "Se ha divido el dataset en 6 partes\n"
     ]
    },
    {
     "data": {
      "image/png": "[encoded data removed]",
      "text/plain": [
       "<Figure size 432x288 with 1 Axes>"
      ]
     },
     "metadata": {
      "needs_background": "light"
     },
     "output_type": "display_data"
    },
    {
     "name": "stdout",
     "output_type": "stream",
     "text": [
      "           ESTADISCIAS DEL SplitConDA_DFAD_DUD \n",
      "\n",
      "Flags       : ['C0000002' 'M0000002']\n",
      "Estaciones  : 149\n",
      "Totales     : 10030\n",
      "Ceros       : 0\n",
      "Clase 0(M02): 5015\n",
      "Clase 1(C02): 5015\n",
      "Maximo      : 337.5\n",
      "Media       : 7.320242273180458\n",
      "STD         : 26.789648921031468\n"
     ]
    },
    {
     "data": {
      "image/png": "[encoded data removed]",
      "text/plain": [
       "<Figure size 432x288 with 1 Axes>"
      ]
     },
     "metadata": {
      "needs_background": "light"
     },
     "output_type": "display_data"
    }
   ],
   "source": [
    "# DS CLasificacion, sin DA \n",
    "com_DUD_DA_DFAD = f\"Este dataset es para el modelo de clasificacion con output clase, SI se le esta aplicando DataAugmentation (DA). \\\n",
    "                al dataset se divide en varias partes de tal forma de balancear las clases. \\\n",
    "              SOLO uso el datasset clas_dud como base. FDA = 0.5,  Umbral de DFA =  20, delete =True, proporcion a tomar de alto - leve = 20 - 1\"\n",
    "\n",
    "DUDTrain_DA = applyDA(dsTrainCLAS_DUD, columna='clase', DA=3)\n",
    "DUDTrain_DA_DFAD = applyFA(DUDTrain_DA, columna='clase', FDA=0.5, umbralSep = 10, delete=True, porcAlta = 20)\n",
    "\n",
    "splittedDF_DUD_DA_DFAD = splitTrainDS(DUDTrain_DA_DFAD,['Clasificacion','clase'], path_base, newDir='SplitConDA_DFAD_DUD', DA= 0, comentario=com_DUD_DA_DFAD) \n",
    "\n",
    "# Visualimamos un datasets\n",
    "visualizarEstaciones(splittedDF_DUD_DA_DFAD[0], name = 'SplitConDA_DFAD_DUD',xCode=True, row='codigo')\n",
    "statsDS(splittedDF_DUD_DA_DFAD[0], name='SplitConDA_DFAD_DUD')"
   ]
  },
  {
   "cell_type": "code",
   "execution_count": 133,
   "id": "b27814bc",
   "metadata": {},
   "outputs": [
    {
     "name": "stdout",
     "output_type": "stream",
     "text": [
      "Estaciones  : 149\n",
      "Estaciones  : 146\n",
      "Estaciones  : 148\n",
      "Estaciones  : 147\n",
      "Estaciones  : 148\n",
      "Estaciones  : 149\n"
     ]
    }
   ],
   "source": [
    "for df in splittedDF_DUD_DA_DFAD:\n",
    "    print(f'Estaciones  : {len(df[\"codigo\"].unique())}')"
   ]
  },
  {
   "cell_type": "code",
   "execution_count": null,
   "id": "551746a7",
   "metadata": {},
   "outputs": [],
   "source": [
    "\"\"\" \n",
    "Aplicando DFA y  Split\n",
    "\"\"\""
   ]
  },
  {
   "cell_type": "code",
   "execution_count": 23,
   "id": "ada7750c",
   "metadata": {},
   "outputs": [
    {
     "name": "stdout",
     "output_type": "stream",
     "text": [
      "Cantidad de clase mayoritaria : 28403\n",
      "Cantidad de clase minoritaria : 440\n",
      "Total a aumentar              : 1402\n",
      "Diferencia final              : 26561\n",
      "Se ha divido el dataset en 16 partes\n"
     ]
    },
    {
     "data": {
      "image/png": "[encoded data removed]",
      "text/plain": [
       "<Figure size 432x288 with 1 Axes>"
      ]
     },
     "metadata": {
      "needs_background": "light"
     },
     "output_type": "display_data"
    },
    {
     "name": "stdout",
     "output_type": "stream",
     "text": [
      "           ESTADISCIAS DEL SplitSinDA_DFA10_DUD \n",
      "\n",
      "Flags       : ['C0000002' 'M0000002']\n",
      "Estaciones  : 145\n",
      "Totales     : 3684\n",
      "Ceros       : 0\n",
      "Clase 0(M02): 1842\n",
      "Clase 1(C02): 1842\n",
      "Maximo      : 337.5\n",
      "Media       : 9.853968512486428\n",
      "STD         : 23.38765570476748\n"
     ]
    },
    {
     "data": {
      "image/png": "[encoded data removed]",
      "text/plain": [
       "<Figure size 432x288 with 1 Axes>"
      ]
     },
     "metadata": {
      "needs_background": "light"
     },
     "output_type": "display_data"
    }
   ],
   "source": [
    "# DS CLasificacion, sin DA \n",
    "com_DUD = f\"Este dataset es para el modelo de clasificacion con output clase, NO se le esta aplicando DataAugmentation (DA). \\\n",
    "              Solo se le esta aplicando DFA hasta igual el 10% del dataset mayoritario\\\n",
    "                al dataset se divide en varias partes de tal forma de balancear las clases. \\\n",
    "              SOLO uso el datasset clas_dud como base. Umbral de DFA =  20\"\n",
    "\n",
    "DUDTrain_DFA = applyFA(dsTrainCLAS_DUD, columna='clase', FDA=0.1, umbralSep = 20)\n",
    "splittedDF_DUD = splitTrainDS(DUDTrain_DFA,['Clasificacion','clase'], path_base, newDir='SplitSinDA_DFA10_DUD', DA= 0, comentario=com_DUD) \n",
    "\n",
    "# Visualimamos un datasets\n",
    "visualizarEstaciones(splittedDF_DUD[0], name = 'SplitSinDA_DFA10_DUD',xCode=True, row='codigo')\n",
    "statsDS(splittedDF_DUD[0], name='SplitSinDA_DFA10_DUD')"
   ]
  },
  {
   "cell_type": "code",
   "execution_count": 18,
   "id": "3488f7bb",
   "metadata": {},
   "outputs": [
    {
     "name": "stdout",
     "output_type": "stream",
     "text": [
      "Estaciones  : 146\n",
      "Estaciones  : 144\n",
      "Estaciones  : 147\n",
      "Estaciones  : 146\n",
      "Estaciones  : 147\n",
      "Estaciones  : 144\n",
      "Estaciones  : 144\n",
      "Estaciones  : 145\n",
      "Estaciones  : 147\n",
      "Estaciones  : 146\n",
      "Estaciones  : 145\n",
      "Estaciones  : 146\n",
      "Estaciones  : 147\n",
      "Estaciones  : 146\n",
      "Estaciones  : 145\n",
      "Estaciones  : 145\n"
     ]
    }
   ],
   "source": [
    "for df in splittedDF_DUD:\n",
    "    print(f'Estaciones  : {len(df[\"codigo\"].unique())}')"
   ]
  },
  {
   "cell_type": "code",
   "execution_count": 120,
   "id": "b0881c04",
   "metadata": {},
   "outputs": [
    {
     "data": {
      "text/plain": [
       "' \\nAplicando DA + DFA (Solo aumentado clase minoritaria)\\n'"
      ]
     },
     "execution_count": 120,
     "metadata": {},
     "output_type": "execute_result"
    }
   ],
   "source": [
    "\"\"\" \n",
    "Aplicando DA + DFA (Solo aumentado clase minoritaria)\n",
    "\"\"\""
   ]
  },
  {
   "cell_type": "code",
   "execution_count": 130,
   "id": "4d47f9a2",
   "metadata": {},
   "outputs": [
    {
     "name": "stdout",
     "output_type": "stream",
     "text": [
      "Cantidad de clase mayoritaria : 28403\n",
      "Cantidad de clase minoritaria : 1760\n",
      "Total a aumentar              : 15566\n",
      "Diferencia final              : 11077\n",
      "Se ha divido el dataset en 2 partes\n"
     ]
    },
    {
     "data": {
      "image/png": "[encoded data removed]",
      "text/plain": [
       "<Figure size 432x288 with 1 Axes>"
      ]
     },
     "metadata": {
      "needs_background": "light"
     },
     "output_type": "display_data"
    },
    {
     "name": "stdout",
     "output_type": "stream",
     "text": [
      "           ESTADISCIAS DEL ClasSplit_DA_DFA_DUD \n",
      "\n",
      "Flags       : ['C0000002' 'M0000002']\n",
      "Estaciones  : 150\n",
      "Totales     : 34652\n",
      "Ceros       : 0\n",
      "Clase 0(M02): 17326\n",
      "Clase 1(C02): 17326\n",
      "Maximo      : 337.5\n",
      "Media       : 10.055985224518066\n",
      "STD         : 16.622801032582892\n"
     ]
    },
    {
     "data": {
      "image/png": "[encoded data removed]",
      "text/plain": [
       "<Figure size 432x288 with 1 Axes>"
      ]
     },
     "metadata": {
      "needs_background": "light"
     },
     "output_type": "display_data"
    }
   ],
   "source": [
    "# Aplicamso DA al ds train\n",
    "DUDTrain_DA = applyDA(dsTrainCLAS_DUD, columna='clase', DA=3)\n",
    "#statsDS(DUDTrain_DA, name='Clas_DA_DUD')\n",
    "\n",
    "# Aplicamos FDA hasta completar la clase mayoritaria\n",
    "DUDTrain_DA_DFA = applyFA(DUDTrain_DA, columna='clase', FDA=1, umbralSep = 20)\n",
    "#statsDS(DUDTrain_DA_DFA, name='Clas_DA__DFA_DUD')\n",
    "\n",
    "# Realizmos el split para nivelar las clases\n",
    "# DS CLasificacion, sin DA \n",
    "comDA_DFA_DUD = f\"Este dataset es para el modelo de clasificacion con output clase, Se le ha aplicaod DA, y luego FDA.\\\n",
    "             Sin embargo, ya que no se logro nivelar completamente las clases, se aplicará un split\"\n",
    "                \n",
    "\n",
    "splittedDF_DUD_DA_DFA = splitTrainDS(DUDTrain_DA_DFA,['Clasificacion','clase'], path_base, newDir='SplitConDA_DFA_DUD', DA= 0, comentario=comDA_DFA_DUD) \n",
    "\n",
    "# Visualimamos un datasets\n",
    "visualizarEstaciones(splittedDF_DUD_DA_DFA[0], name = 'ClasSplit_DA_DFA_DUD',xCode=True, row='codigo')\n",
    "statsDS(splittedDF_DUD_DA_DFA[0], name='ClasSplit_DA_DFA_DUD')"
   ]
  },
  {
   "cell_type": "code",
   "execution_count": null,
   "id": "8c0aa4ea",
   "metadata": {},
   "outputs": [],
   "source": [
    "\"\"\"\n",
    "Split para dataset de clasificacion DUD (Usando FDA)\n",
    "\"\"\""
   ]
  },
  {
   "cell_type": "code",
   "execution_count": null,
   "id": "50762c30",
   "metadata": {},
   "outputs": [],
   "source": [
    "# DS CLasificacion, sin DA \n",
    "comDA_DUD = f\"Este dataset es para el modelo de clasificacion con output clase, SI se le esta aplicando DataAugmentation (DA). \\\n",
    "              al dataset se divide en varias partes de tal forma de balancear las clases. \\\n",
    "              Datset original usado : {fileDS} V2: Analisis V2 - SOLO uso el datasset clas_dud como base\"\n",
    "\n",
    "splittedDF_DUD_DA = splitTrainDS(dsTrainCLAS_DUD,['Clasificacion','clase'], path_base, newDir='SplitConDA_DUD', DA= 3, comentario=comDA_DUD) \n",
    "\n",
    "# Visualimamos un datasets\n",
    "visualizarEstaciones(splittedDF_DUD_DA[0], name = 'ClasSplit_DA_DUD',xCode=True, row='codigo')\n",
    "statsDS(splittedDF_DUD_DA[0], name='ClasSplit_DA_DUD')"
   ]
  },
  {
   "cell_type": "code",
   "execution_count": 108,
   "id": "3d952d04",
   "metadata": {},
   "outputs": [
    {
     "data": {
      "text/plain": [
       "'\\nSplit para dataset de clasificacion DUD (Usando DA)\\n'"
      ]
     },
     "execution_count": 108,
     "metadata": {},
     "output_type": "execute_result"
    }
   ],
   "source": [
    "\"\"\"\n",
    "Split para dataset de clasificacion DUD (Usando DA)\n",
    "\"\"\""
   ]
  },
  {
   "cell_type": "code",
   "execution_count": 109,
   "id": "15fa413d",
   "metadata": {},
   "outputs": [
    {
     "name": "stdout",
     "output_type": "stream",
     "text": [
      "Se le aplicará DA al dataset\n",
      "Se ha divido el dataset en 17 partes\n"
     ]
    },
    {
     "data": {
      "image/png": "[encoded data removed]",
      "text/plain": [
       "<Figure size 432x288 with 1 Axes>"
      ]
     },
     "metadata": {
      "needs_background": "light"
     },
     "output_type": "display_data"
    },
    {
     "name": "stdout",
     "output_type": "stream",
     "text": [
      "           ESTADISCIAS DEL ClasSplit_DA_DUD \n",
      "\n",
      "Flags       : ['C0000002' 'M0000002']\n",
      "Estaciones  : 138\n",
      "Totales     : 3520\n",
      "Ceros       : 0\n",
      "Clase 0(M02): 1760\n",
      "Clase 1(C02): 1760\n",
      "Maximo      : 337.5\n",
      "Media       : 7.8031761363636365\n",
      "STD         : 42.828279217547724\n"
     ]
    },
    {
     "data": {
      "image/png": "[encoded data removed]",
      "text/plain": [
       "<Figure size 432x288 with 1 Axes>"
      ]
     },
     "metadata": {
      "needs_background": "light"
     },
     "output_type": "display_data"
    }
   ],
   "source": [
    "# DS CLasificacion, sin DA \n",
    "comDA_DUD = f\"Este dataset es para el modelo de clasificacion con output clase, SI se le esta aplicando DataAugmentation (DA). \\\n",
    "              al dataset se divide en varias partes de tal forma de balancear las clases. \\\n",
    "              Datset original usado : {fileDS} V2: Analisis V2 - SOLO uso el datasset clas_dud como base\"\n",
    "\n",
    "splittedDF_DUD_DA = splitTrainDS(dsTrainCLAS_DUD,['Clasificacion','clase'], path_base, newDir='SplitConDA_DUD', DA= 3, comentario=comDA_DUD) \n",
    "\n",
    "# Visualimamos un datasets\n",
    "visualizarEstaciones(splittedDF_DUD_DA[0], name = 'ClasSplit_DA_DUD',xCode=True, row='codigo')\n",
    "statsDS(splittedDF_DUD_DA[0], name='ClasSplit_DA_DUD')"
   ]
  },
  {
   "cell_type": "code",
   "execution_count": null,
   "id": "b5043174",
   "metadata": {},
   "outputs": [],
   "source": []
  },
  {
   "cell_type": "code",
   "execution_count": 59,
   "id": "a415f13b",
   "metadata": {},
   "outputs": [
    {
     "name": "stdout",
     "output_type": "stream",
     "text": [
      "Estaciones  : 138\n",
      "Estaciones  : 141\n",
      "Estaciones  : 141\n",
      "Estaciones  : 140\n",
      "Estaciones  : 142\n",
      "Estaciones  : 139\n",
      "Estaciones  : 140\n",
      "Estaciones  : 141\n",
      "Estaciones  : 141\n",
      "Estaciones  : 143\n",
      "Estaciones  : 126\n",
      "Estaciones  : 124\n",
      "Estaciones  : 130\n",
      "Estaciones  : 131\n",
      "Estaciones  : 127\n",
      "Estaciones  : 129\n",
      "Estaciones  : 136\n"
     ]
    }
   ],
   "source": [
    "for df in splittedDF_DUD_DA:\n",
    "    print(f'Estaciones  : {len(df[\"codigo\"].unique())}')"
   ]
  },
  {
   "cell_type": "code",
   "execution_count": null,
   "id": "09b27532",
   "metadata": {},
   "outputs": [],
   "source": [
    "\"\"\"\n",
    "Split para dataset de clasificacion V2 (Usando DA y sin DA)\n",
    "\"\"\""
   ]
  },
  {
   "cell_type": "code",
   "execution_count": 45,
   "id": "1f75de11",
   "metadata": {},
   "outputs": [],
   "source": [
    "# Leemos el datasets de entrenamiento Clasifiacion\n",
    "dsV_ = 'ClaseV2_TrainDS.csv'\n",
    "fileDS = f'{path_base}/Archivos/Dataset/Clasificacion/Entrenamiento/{dsV_}'\n",
    "dsTrainCLAS = pd.read_csv(fileDS)"
   ]
  },
  {
   "cell_type": "code",
   "execution_count": 46,
   "id": "ddb5e255",
   "metadata": {},
   "outputs": [
    {
     "name": "stdout",
     "output_type": "stream",
     "text": [
      "Se ha divido el dataset en 15 partes\n"
     ]
    },
    {
     "data": {
      "image/png": "[encoded data removed]",
      "text/plain": [
       "<Figure size 432x288 with 1 Axes>"
      ]
     },
     "metadata": {
      "needs_background": "light"
     },
     "output_type": "display_data"
    },
    {
     "name": "stdout",
     "output_type": "stream",
     "text": [
      "           ESTADISCIAS DEL ClasSplit_V2 \n",
      "\n",
      "Flags       : ['C0000002' 'M0000002']\n",
      "Estaciones  : 44\n",
      "Totales     : 4988\n",
      "Ceros       : 4330\n",
      "Clase 0(M02): 2494\n",
      "Clase 1(C02): 2494\n",
      "Maximo      : 337.5\n",
      "Media       : 1.395437048917402\n",
      "STD         : 18.20983053084647\n"
     ]
    },
    {
     "data": {
      "image/png": "[encoded data removed]",
      "text/plain": [
       "<Figure size 432x288 with 1 Axes>"
      ]
     },
     "metadata": {
      "needs_background": "light"
     },
     "output_type": "display_data"
    }
   ],
   "source": [
    "# DS CLasificacion, sin DA \n",
    "comDA = f\"Este dataset es para el modelo de clasificacion con output clase, NO se le esta aplicando DataAugmentation (DA). \\\n",
    "              al dataset se divide en varias partes de tal forma de balancear las clases. Version 1\\\n",
    "              Datset original usado : {fileDS} V2: Analisis V2\"\n",
    "\n",
    "splittedDF = splitTrainDS(dsTrainCLAS,['Clasificacion','clase'], path_base, newDir='SplitSinDA_V2', DA= 0, comentario=comDA) \n",
    "\n",
    "# Visualimamos un datasets\n",
    "visualizarEstaciones(splittedDF[0], name = 'ClasSplit_V2',xCode=True, row='codigo')\n",
    "statsDS(splittedDF[0], name='ClasSplit_V2')"
   ]
  },
  {
   "cell_type": "code",
   "execution_count": 60,
   "id": "6d635070",
   "metadata": {},
   "outputs": [
    {
     "name": "stdout",
     "output_type": "stream",
     "text": [
      "Estaciones  : 44\n",
      "Estaciones  : 43\n",
      "Estaciones  : 133\n",
      "Estaciones  : 142\n",
      "Estaciones  : 142\n",
      "Estaciones  : 145\n",
      "Estaciones  : 143\n",
      "Estaciones  : 143\n",
      "Estaciones  : 145\n",
      "Estaciones  : 143\n",
      "Estaciones  : 135\n",
      "Estaciones  : 127\n",
      "Estaciones  : 132\n",
      "Estaciones  : 133\n",
      "Estaciones  : 141\n"
     ]
    }
   ],
   "source": [
    "for df in splittedDF:\n",
    "    print(f'Estaciones  : {len(df[\"codigo\"].unique())}')"
   ]
  },
  {
   "cell_type": "code",
   "execution_count": 47,
   "id": "00503fea",
   "metadata": {},
   "outputs": [
    {
     "name": "stdout",
     "output_type": "stream",
     "text": [
      "Se le aplicará DA al dataset\n",
      "Se ha divido el dataset en 4 partes\n"
     ]
    },
    {
     "data": {
      "image/png": "[encoded data removed]",
      "text/plain": [
       "<Figure size 432x288 with 1 Axes>"
      ]
     },
     "metadata": {
      "needs_background": "light"
     },
     "output_type": "display_data"
    },
    {
     "name": "stdout",
     "output_type": "stream",
     "text": [
      "           ESTADISCIAS DEL ClasSplit_DA_V2 \n",
      "\n",
      "Flags       : ['C0000002' 'M0000002']\n",
      "Estaciones  : 143\n",
      "Totales     : 19952\n",
      "Ceros       : 14024\n",
      "Clase 0(M02): 9976\n",
      "Clase 1(C02): 9976\n",
      "Maximo      : 337.5\n",
      "Media       : 1.4583751002405771\n",
      "STD         : 18.204542458216697\n"
     ]
    },
    {
     "data": {
      "image/png": "[encoded data removed]",
      "text/plain": [
       "<Figure size 432x288 with 1 Axes>"
      ]
     },
     "metadata": {
      "needs_background": "light"
     },
     "output_type": "display_data"
    }
   ],
   "source": [
    "# DS CLasificacion, con DA \n",
    "comNODA = f\"Este dataset es para el modelo de clasificacion con output clase, SI se le esta aplicando DataAugmentation (DA) = 3. \\\n",
    "              al dataset se divide en varias partes de tal forma de balancear las clases. Version 1\\\n",
    "              Datset original usado : {fileDS} V2: Analisis V2\"\n",
    "\n",
    "splittedDF_DA = splitTrainDS(dsTrainCLAS,['Clasificacion','clase'], path_base, newDir='SplitConDA_V2', DA= 3, comentario=comNODA)  \n",
    "\n",
    "# Visualimamos un datasets\n",
    "visualizarEstaciones(splittedDF_DA[0], name = 'ClasSplit_DA_V2',xCode=True, row='codigo')\n",
    "statsDS(splittedDF_DA[0], name='ClasSplit_DA_V2')"
   ]
  },
  {
   "cell_type": "code",
   "execution_count": 61,
   "id": "39bed96c",
   "metadata": {},
   "outputs": [
    {
     "name": "stdout",
     "output_type": "stream",
     "text": [
      "Estaciones  : 143\n",
      "Estaciones  : 149\n",
      "Estaciones  : 150\n",
      "Estaciones  : 147\n"
     ]
    }
   ],
   "source": [
    "for df in splittedDF_DA:\n",
    "    print(f'Estaciones  : {len(df[\"codigo\"].unique())}')"
   ]
  },
  {
   "cell_type": "code",
   "execution_count": 48,
   "id": "7f62e902",
   "metadata": {},
   "outputs": [
    {
     "data": {
      "text/plain": [
       "'\\nRegresion, datasets entre 0 y 1\\n'"
      ]
     },
     "execution_count": 48,
     "metadata": {},
     "output_type": "execute_result"
    }
   ],
   "source": [
    "\"\"\"\n",
    "Regresion, datasets entre 0 y 1\n",
    "\"\"\""
   ]
  },
  {
   "cell_type": "code",
   "execution_count": 49,
   "id": "ad3b0bbf",
   "metadata": {},
   "outputs": [],
   "source": [
    "# Leemos el datasets de entrenamiento Regresion\n",
    "dsV_ = 'REGV2_TrainDS.csv'\n",
    "fileDS = f'{path_base}/Archivos/Dataset/Regresion/Entrenamiento/{dsV_}'\n",
    "dsTrainREGV2 = pd.read_csv(fileDS)"
   ]
  },
  {
   "cell_type": "code",
   "execution_count": 52,
   "id": "353fc2b4",
   "metadata": {},
   "outputs": [
    {
     "data": {
      "image/png": "[encoded data removed]",
      "text/plain": [
       "<Figure size 432x288 with 1 Axes>"
      ]
     },
     "metadata": {
      "needs_background": "light"
     },
     "output_type": "display_data"
    },
    {
     "name": "stdout",
     "output_type": "stream",
     "text": [
      "           ESTADISCIAS DEL REGV2_01 \n",
      "\n",
      "Flags       : ['C0000002']\n",
      "Estaciones  : 149\n",
      "Totales     : 21250\n",
      "Ceros       : 5938\n",
      "Clase 0(M02): 0\n",
      "Clase 1(C02): 21250\n",
      "Maximo      : 0.9\n",
      "Media       : 0.2512263529411765\n",
      "STD         : 0.2614685230886519\n"
     ]
    },
    {
     "data": {
      "image/png": "[encoded data removed]",
      "text/plain": [
       "<Figure size 432x288 with 1 Axes>"
      ]
     },
     "metadata": {
      "needs_background": "light"
     },
     "output_type": "display_data"
    }
   ],
   "source": [
    "ds0_1 = dsTrainREGV2[dsTrainREGV2['dato']<1]\n",
    "ds0_1.to_csv(f'{path_base}/Archivos/Dataset/Regresion/Entrenamiento/REGV2_Train01.csv')\n",
    "# Visualimamos un datasets\n",
    "visualizarEstaciones(ds0_1, name = 'REG_V2_01',xCode=True, row='codigo')\n",
    "statsDS(ds0_1, name='REGV2_01' , tipo='Regresion')"
   ]
  },
  {
   "cell_type": "code",
   "execution_count": 51,
   "id": "823efb9f",
   "metadata": {},
   "outputs": [
    {
     "data": {
      "text/plain": [
       "'\\nRegresion, datasets mayores a 1\\n'"
      ]
     },
     "execution_count": 51,
     "metadata": {},
     "output_type": "execute_result"
    }
   ],
   "source": [
    "\"\"\"\n",
    "Regresion, datasets mayores a 1\n",
    "\"\"\""
   ]
  },
  {
   "cell_type": "code",
   "execution_count": 53,
   "id": "3a6f8185",
   "metadata": {},
   "outputs": [
    {
     "data": {
      "image/png": "[encoded data removed]",
      "text/plain": [
       "<Figure size 432x288 with 1 Axes>"
      ]
     },
     "metadata": {
      "needs_background": "light"
     },
     "output_type": "display_data"
    },
    {
     "name": "stdout",
     "output_type": "stream",
     "text": [
      "           ESTADISCIAS DEL REGV2_19 \n",
      "\n",
      "Flags       : ['C0000002']\n",
      "Estaciones  : 143\n",
      "Totales     : 10006\n",
      "Ceros       : 0\n",
      "Clase 0(M02): 0\n",
      "Clase 1(C02): 10006\n",
      "Maximo      : 66.9\n",
      "Media       : 3.7524405356785926\n",
      "STD         : 4.435697211863565\n"
     ]
    },
    {
     "data": {
      "image/png": "[encoded data removed]",
      "text/plain": [
       "<Figure size 432x288 with 1 Axes>"
      ]
     },
     "metadata": {
      "needs_background": "light"
     },
     "output_type": "display_data"
    }
   ],
   "source": [
    "ds1_9 = dsTrainREGV2[dsTrainREGV2['dato']>1]\n",
    "ds1_9.to_csv(f'{path_base}/Archivos/Dataset/Regresion/Entrenamiento/REGV2_Train19.csv')\n",
    "\n",
    "# Visualimamos un datasets\n",
    "visualizarEstaciones(ds1_9, name = 'REG_V2_19',xCode=True, row='codigo')\n",
    "statsDS(ds1_9, name='REGV2_19' , tipo='Regresion')"
   ]
  }
 ],
 "metadata": {
  "kernelspec": {
   "display_name": "Python 3 (ipykernel)",
   "language": "python",
   "name": "python3"
  },
  "language_info": {
   "codemirror_mode": {
    "name": "ipython",
    "version": 3
   },
   "file_extension": ".py",
   "mimetype": "text/x-python",
   "name": "python",
   "nbconvert_exporter": "python",
   "pygments_lexer": "ipython3",
   "version": "3.9.11"
  }
 },
 "nbformat": 4,
 "nbformat_minor": 5
}
