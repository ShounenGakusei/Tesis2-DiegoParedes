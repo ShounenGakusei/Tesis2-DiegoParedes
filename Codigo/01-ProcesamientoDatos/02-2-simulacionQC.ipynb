{
 "cells": [
  {
   "cell_type": "code",
   "execution_count": 1,
   "id": "e05965e2",
   "metadata": {},
   "outputs": [
    {
     "data": {
      "text/plain": [
       "'\\nOBJETIVO : Realizar el QC de SENAMHI en los datos, con la finalidad de\\nidentificar lso datos erroneos, conformes y dudosos.\\n'"
      ]
     },
     "execution_count": 1,
     "metadata": {},
     "output_type": "execute_result"
    }
   ],
   "source": [
    "\"\"\"\n",
    "OBJETIVO : Realizar el QC de SENAMHI en los datos, con la finalidad de\n",
    "identificar lso datos erroneos, conformes y dudosos.\n",
    "\"\"\""
   ]
  },
  {
   "cell_type": "code",
   "execution_count": 2,
   "id": "dd00290b",
   "metadata": {},
   "outputs": [],
   "source": [
    "# Graficos y visualizaciones\n",
    "import matplotlib.pyplot as plt\n",
    "\n",
    "#from sklearn.utils import shuffle\n",
    "#from PIL import Image\n",
    "\n",
    "# Liberias para manejo de datos\n",
    "import pandas as pd\n",
    "import numpy as np\n",
    "\n",
    "# Liberias estandar\n",
    "import time\n",
    "import os"
   ]
  },
  {
   "cell_type": "code",
   "execution_count": 3,
   "id": "bc146dba",
   "metadata": {},
   "outputs": [
    {
     "data": {
      "text/plain": [
       "'C:/Users/Shounen/Desktop/Ciclo XI/Tesis 2/NewTesis'"
      ]
     },
     "execution_count": 3,
     "metadata": {},
     "output_type": "execute_result"
    }
   ],
   "source": [
    "\"\"\"\n",
    "DEFINIMOS EL PATH DEL PROYECTO \n",
    "\"\"\"\n",
    "with open('../../path_base.txt') as f:\n",
    "    path_base = f.read()\n",
    "path_base"
   ]
  },
  {
   "cell_type": "code",
   "execution_count": 4,
   "id": "bad9e8e2",
   "metadata": {},
   "outputs": [],
   "source": [
    "\"\"\"\n",
    "Directorio de imagenes\n",
    "\"\"\"\n",
    "path_imagenes = 'F:/GOES/' \n",
    "imagenTest = 'D:/GOES/C13/2020/03/G16_C13_Cyl_20200320-2000.nc'\n",
    "Festaciones = f'{path_base}/Archivos/Inicial/estaciones.csv'\n",
    "\n",
    "#Variables generales\n",
    "products = ['C07','C08','C13']\n",
    "\n",
    "#!El '00' debe ir al final!\n",
    "times = ['10','20','30','40','50','00']"
   ]
  },
  {
   "cell_type": "code",
   "execution_count": 5,
   "id": "3c63af7b",
   "metadata": {},
   "outputs": [],
   "source": [
    "def changeUmbralesFileName(DUmbrales):\n",
    "    FUmbrales = os.listdir(DUmbrales)\n",
    "    start_time = time.time()\n",
    "    errors = []\n",
    "    for umbName in FUmbrales:\n",
    "        tempUmb = pd.read_csv(f'{DUmbrales}/{umbName}', nrows=5, sep=';')\n",
    "        try:\n",
    "            os.rename(f'{DUmbrales}/{umbName}', f'{DUmbrales}/UMBRAL-{tempUmb[\"IDESTACION\"][0]}.csv')\n",
    "        except:\n",
    "            errors.append(tempUmb)\n",
    "    \n",
    "    print(f'Cantidad de archivos procesados:       {len(FUmbrales)}')\n",
    "    print(f'Archivos que no se pudieron renombrar: {len(errors)}')\n",
    "    print(f\"Tiempo tomado en renombrar:             %.5fs\" % (time.time() - start_time))\n",
    "    return errors\n",
    "    "
   ]
  },
  {
   "cell_type": "code",
   "execution_count": 6,
   "id": "427afa6c",
   "metadata": {},
   "outputs": [],
   "source": [
    "\"\"\"\n",
    "Clasificacion V2\n",
    " - NC\n",
    " - ND\n",
    " - M01\n",
    " - D01\n",
    " - D02\n",
    " - C01 \n",
    "\"\"\"\n",
    "def getFlagV2(x, umbrales):\n",
    "    dato = x['PRECIPITACION']\n",
    "    \n",
    "    # No existe dato\n",
    "    if pd.isna(dato):\n",
    "        return 'ND'\n",
    "    \n",
    "    # Test DUROS\n",
    "    elif dato<0 or dato>=401:\n",
    "        return 'M01'\n",
    "    \n",
    "    codigo = str(x['CODIGO'])\n",
    "    mes =  int(x['FECHA'].split('/')[1]) -1\n",
    "    hora = int(x['HORA'].split(':')[0])\n",
    "    \n",
    "    if not codigo in list(umbrales.keys()):\n",
    "        val1 = -1\n",
    "        val2 = -1\n",
    "    else:\n",
    "        val1 = umbrales[codigo][mes][hora][0]\n",
    "        val2 = umbrales[codigo][mes][hora][1]\n",
    "    \n",
    "    # No existe umbrales\n",
    "    if (val1==-1) and (val2==-1):\n",
    "        return 'NC'\n",
    "    \n",
    "    \n",
    "    # Umbral 2\n",
    "    if dato > val2:\n",
    "        return 'D02'\n",
    "    \n",
    "    # Umbral 1\n",
    "    if dato > val1:\n",
    "        return 'D01'       \n",
    "    \n",
    "    # Conforme    \n",
    "    return 'C01'\n",
    "    "
   ]
  },
  {
   "cell_type": "code",
   "execution_count": 7,
   "id": "d73cbfd5",
   "metadata": {},
   "outputs": [],
   "source": [
    "def applyFlagV2(listDS, umbrales):\n",
    "    df = []\n",
    "    start_time = time.time()\n",
    "    print(f'Se leera los archivos de datasets...')\n",
    "    for name in listDS:\n",
    "        try:\n",
    "            df.append(pd.read_csv(name,encoding='latin-1'))   \n",
    "        except:\n",
    "            print(f'No se pudo leer el archivo {name} de dataset')\n",
    "            return -1\n",
    "        \n",
    "    if len(df)>1:\n",
    "        dsCompleto =  pd.concat(df, ignore_index=True) \n",
    "    else:\n",
    "        dsCompleto =  df[0]\n",
    "        \n",
    "    print(\"Tiempo tomadoen leer los archivos: %.2fs\" % (time.time() - start_time))\n",
    "    \n",
    "    \n",
    "    \n",
    "    dsCompleto['FLAGV2'] = dsCompleto.apply(lambda x: getFlagV2(x, umbrales),axis=1)\n",
    "    \n",
    "    print(\"Tiempo tomado en procesar el dataset: %.2fs\" % (time.time() - start_time))\n",
    "    print(f'+Cantidad de datos leidos {len(dsCompleto)}')\n",
    "    \n",
    "    \n",
    "    return dsCompleto\n",
    "    "
   ]
  },
  {
   "cell_type": "code",
   "execution_count": 8,
   "id": "f58cc1bd",
   "metadata": {},
   "outputs": [],
   "source": [
    "def getUmbralesResumen(DUmbrales,verb=20):\n",
    "    umbrales = {}\n",
    "    errors = []\n",
    "    noMayor = []\n",
    "    FUmbrales = os.listdir(DUmbrales)\n",
    "    completos = 0\n",
    "    \n",
    "    start_time = time.time()\n",
    "    print(f'Se procesaran  {len(FUmbrales)} archivos ...')    \n",
    "    for files in FUmbrales:\n",
    "        if not completos % verb:\n",
    "            print(\"Progreso: %.2f %s en %.2fs\"%(completos/len(FUmbrales)*100, '%',time.time() - start_time))\n",
    "            \n",
    "        dfUmb = pd.read_csv(f'{DUmbrales}/{files}', sep=';')\n",
    "        codigo = str(dfUmb[\"IDESTACION\"][0])\n",
    "        umbrales[codigo] = [[[-1,-1] for j in range(24)] for e in range(12)]\n",
    "        \n",
    "        n = 0\n",
    "        months = {0:'ENERO',1:'FEBRERO',2:'MARZO',3:'ABRIL',4:'MAYO',5:'JUNIO',6:'JULIO',\n",
    "                  7:'AGOSTO',8:'SETIEMBRE',9:'OCTUBRE',10:'NOVIEMBRE',11:'DICIEMBRE'}\n",
    "        for i in dfUmb.index:\n",
    "            month = months[int(n/24)]\n",
    "            hour = f'{int(n%24)}:00:00'              \n",
    "            if month==dfUmb['DETALLEPERIODO'][i] and hour == dfUmb['DETHORA'][i]:\n",
    "                umbrales[codigo][int(n/24)][int(n%24)][0] = dfUmb['VALORMAXIMO1'][i]\n",
    "                umbrales[codigo][int(n/24)][int(n%24)][1] = dfUmb['VALORMAXIMO2'][i]\n",
    "                \n",
    "                # Verificamos que el umbral 2 sea mayor al 1\n",
    "                if dfUmb['VALORMAXIMO2'][i] < dfUmb['VALORMAXIMO1'][i]:\n",
    "                    noMayor.append(f'{codigo}-{i}')\n",
    "            else:\n",
    "                errors.append(f'{codigo}-{i}')\n",
    "                \n",
    "            n=n+1\n",
    "        completos = completos + 1\n",
    "        \n",
    "    print(\"Tiempo total tomado: %.2fs\" % (time.time() - start_time))\n",
    "    print(f'Umbrales con valmax1 mayor a valmax2:  {len(noMayor)}')    \n",
    "    print(f'Umbrales que no se encontraron:        {len(errors)}')        \n",
    "    return umbrales, noMayor, errors        "
   ]
  },
  {
   "cell_type": "code",
   "execution_count": 9,
   "id": "8758e212",
   "metadata": {},
   "outputs": [],
   "source": [
    "Fdatos2021 = f'{path_base}/Archivos/Inicial/REPORTE_SGD_2021.csv'\n",
    "Fdatos2020 = f'{path_base}/Archivos/Inicial/REPORTE_SGD_2020.csv'\n",
    "DUmbrales = f'{path_base}/Archivos/Inicial/UMBRALES/'"
   ]
  },
  {
   "cell_type": "code",
   "execution_count": 13,
   "id": "6a9230f2",
   "metadata": {},
   "outputs": [
    {
     "name": "stdout",
     "output_type": "stream",
     "text": [
      "CPU times: total: 797 ms\n",
      "Wall time: 841 ms\n"
     ]
    },
    {
     "data": {
      "text/html": [
       "<div>\n",
       "<style scoped>\n",
       "    .dataframe tbody tr th:only-of-type {\n",
       "        vertical-align: middle;\n",
       "    }\n",
       "\n",
       "    .dataframe tbody tr th {\n",
       "        vertical-align: top;\n",
       "    }\n",
       "\n",
       "    .dataframe thead th {\n",
       "        text-align: right;\n",
       "    }\n",
       "</style>\n",
       "<table border=\"1\" class=\"dataframe\">\n",
       "  <thead>\n",
       "    <tr style=\"text-align: right;\">\n",
       "      <th></th>\n",
       "      <th>Codigo</th>\n",
       "      <th>Umbral1</th>\n",
       "      <th>Umbral2</th>\n",
       "      <th>min1</th>\n",
       "      <th>min2</th>\n",
       "    </tr>\n",
       "  </thead>\n",
       "  <tbody>\n",
       "    <tr>\n",
       "      <th>0</th>\n",
       "      <td>107131</td>\n",
       "      <td>8.9</td>\n",
       "      <td>17.9</td>\n",
       "      <td>0</td>\n",
       "      <td>0</td>\n",
       "    </tr>\n",
       "    <tr>\n",
       "      <th>1</th>\n",
       "      <td>109091</td>\n",
       "      <td>3.6</td>\n",
       "      <td>8.3</td>\n",
       "      <td>0</td>\n",
       "      <td>0</td>\n",
       "    </tr>\n",
       "    <tr>\n",
       "      <th>2</th>\n",
       "      <td>109093</td>\n",
       "      <td>3.7</td>\n",
       "      <td>21.2</td>\n",
       "      <td>0</td>\n",
       "      <td>0</td>\n",
       "    </tr>\n",
       "    <tr>\n",
       "      <th>3</th>\n",
       "      <td>109096</td>\n",
       "      <td>0.4</td>\n",
       "      <td>0.5</td>\n",
       "      <td>0</td>\n",
       "      <td>0</td>\n",
       "    </tr>\n",
       "    <tr>\n",
       "      <th>4</th>\n",
       "      <td>110137</td>\n",
       "      <td>2.2</td>\n",
       "      <td>4.6</td>\n",
       "      <td>0</td>\n",
       "      <td>0</td>\n",
       "    </tr>\n",
       "    <tr>\n",
       "      <th>...</th>\n",
       "      <td>...</td>\n",
       "      <td>...</td>\n",
       "      <td>...</td>\n",
       "      <td>...</td>\n",
       "      <td>...</td>\n",
       "    </tr>\n",
       "    <tr>\n",
       "      <th>214</th>\n",
       "      <td>47E880E2</td>\n",
       "      <td>4.2</td>\n",
       "      <td>24.0</td>\n",
       "      <td>0</td>\n",
       "      <td>0</td>\n",
       "    </tr>\n",
       "    <tr>\n",
       "      <th>215</th>\n",
       "      <td>47E89394</td>\n",
       "      <td>2.2</td>\n",
       "      <td>37.5</td>\n",
       "      <td>0</td>\n",
       "      <td>0</td>\n",
       "    </tr>\n",
       "    <tr>\n",
       "      <th>216</th>\n",
       "      <td>47E8B578</td>\n",
       "      <td>1.8</td>\n",
       "      <td>4.7</td>\n",
       "      <td>0</td>\n",
       "      <td>0</td>\n",
       "    </tr>\n",
       "    <tr>\n",
       "      <th>217</th>\n",
       "      <td>47E9177A</td>\n",
       "      <td>2.2</td>\n",
       "      <td>11.2</td>\n",
       "      <td>0</td>\n",
       "      <td>0</td>\n",
       "    </tr>\n",
       "    <tr>\n",
       "      <th>218</th>\n",
       "      <td>47E94706</td>\n",
       "      <td>0.5</td>\n",
       "      <td>5.7</td>\n",
       "      <td>0</td>\n",
       "      <td>0</td>\n",
       "    </tr>\n",
       "  </tbody>\n",
       "</table>\n",
       "<p>219 rows × 5 columns</p>\n",
       "</div>"
      ],
      "text/plain": [
       "       Codigo  Umbral1  Umbral2  min1  min2\n",
       "0      107131      8.9     17.9     0     0\n",
       "1      109091      3.6      8.3     0     0\n",
       "2      109093      3.7     21.2     0     0\n",
       "3      109096      0.4      0.5     0     0\n",
       "4      110137      2.2      4.6     0     0\n",
       "..        ...      ...      ...   ...   ...\n",
       "214  47E880E2      4.2     24.0     0     0\n",
       "215  47E89394      2.2     37.5     0     0\n",
       "216  47E8B578      1.8      4.7     0     0\n",
       "217  47E9177A      2.2     11.2     0     0\n",
       "218  47E94706      0.5      5.7     0     0\n",
       "\n",
       "[219 rows x 5 columns]"
      ]
     },
     "execution_count": 13,
     "metadata": {},
     "output_type": "execute_result"
    }
   ],
   "source": [
    "%%time\n",
    "dfUmbrales = {'Codigo':[],'Umbral1':[], 'Umbral2':[], 'min1' :[], 'min2':[]}\n",
    "FUmbrales = os.listdir(DUmbrales)\n",
    "for fileU in FUmbrales:\n",
    "    tempUmb = pd.read_csv(f'{DUmbrales}{fileU}',sep=';')\n",
    "    dfUmbrales['Codigo'].append(tempUmb['IDESTACION'][0])\n",
    "    dfUmbrales['min1'].append(tempUmb['VALORMINIMO1'].max())\n",
    "    dfUmbrales['min2'].append(tempUmb['VALORMINIMO2'].max())  \n",
    "    dfUmbrales['Umbral1'].append(tempUmb['VALORMAXIMO1'].max())\n",
    "    dfUmbrales['Umbral2'].append(tempUmb['VALORMAXIMO2'].max())  \n",
    "    \n",
    "dfUmbrales = pd.DataFrame(dfUmbrales)\n",
    "dfUmbrales.to_csv(f'{path_base}/Archivos/Reportes/Datos/analisis_umbrales.csv',index=False)\n",
    "dfUmbrales"
   ]
  },
  {
   "cell_type": "code",
   "execution_count": 15,
   "id": "7b705e14",
   "metadata": {},
   "outputs": [
    {
     "data": {
      "text/plain": [
       "0"
      ]
     },
     "execution_count": 15,
     "metadata": {},
     "output_type": "execute_result"
    }
   ],
   "source": [
    "dfUmbrales['min2'].max()"
   ]
  },
  {
   "cell_type": "code",
   "execution_count": 18,
   "id": "0965da82",
   "metadata": {},
   "outputs": [
    {
     "name": "stdout",
     "output_type": "stream",
     "text": [
      "74.5 0.0\n"
     ]
    },
    {
     "data": {
      "text/plain": [
       "<AxesSubplot:>"
      ]
     },
     "execution_count": 18,
     "metadata": {},
     "output_type": "execute_result"
    },
    {
     "data": {
      "image/png": "[encoded data removed]",
      "text/plain": [
       "<Figure size 432x288 with 1 Axes>"
      ]
     },
     "metadata": {
      "needs_background": "light"
     },
     "output_type": "display_data"
    }
   ],
   "source": [
    "print(dfUmbrales['Umbral1'].max(),dfUmbrales['Umbral1'].min())\n",
    "dfUmbrales['Umbral1'].hist(legend=True)"
   ]
  },
  {
   "cell_type": "code",
   "execution_count": 19,
   "id": "2d502273",
   "metadata": {},
   "outputs": [
    {
     "name": "stdout",
     "output_type": "stream",
     "text": [
      "305.5 0.0\n"
     ]
    },
    {
     "data": {
      "text/plain": [
       "<AxesSubplot:>"
      ]
     },
     "execution_count": 19,
     "metadata": {},
     "output_type": "execute_result"
    },
    {
     "data": {
      "image/png": "[encoded data removed]",
      "text/plain": [
       "<Figure size 432x288 with 1 Axes>"
      ]
     },
     "metadata": {
      "needs_background": "light"
     },
     "output_type": "display_data"
    }
   ],
   "source": [
    "print(dfUmbrales['Umbral2'].max(),dfUmbrales['Umbral2'].min())\n",
    "dfUmbrales['Umbral2'].hist(legend=True)"
   ]
  },
  {
   "cell_type": "code",
   "execution_count": 38,
   "id": "a0ebbb37",
   "metadata": {},
   "outputs": [
    {
     "name": "stdout",
     "output_type": "stream",
     "text": [
      "Se procesaran  219 archivos ...\n",
      "Progreso: 0.00 % en 0.00s\n",
      "Progreso: 31.96 % en 0.66s\n",
      "Progreso: 63.93 % en 1.32s\n",
      "Progreso: 95.89 % en 2.04s\n",
      "Tiempo total tomado: 2.13s\n",
      "Umbrales con valmax1 mayor a valmax2:  0\n",
      "Umbrales que no se encontraron:        0\n"
     ]
    }
   ],
   "source": [
    "#errorsUmbrales = changeUmbralesFileName(DUmbrales)\n",
    "umbrales, noMayor, errors = getUmbralesResumen(DUmbrales,verb=70)"
   ]
  },
  {
   "cell_type": "code",
   "execution_count": 39,
   "id": "e3fbe6de",
   "metadata": {},
   "outputs": [
    {
     "name": "stdout",
     "output_type": "stream",
     "text": [
      "Se leera los archivos de datasets...\n",
      "Tiempo tomadoen leer los archivos: 1.86s\n",
      "Tiempo tomado en procesar el dataset: 62.71s\n",
      "+Cantidad de datos leidos 3485658\n"
     ]
    }
   ],
   "source": [
    "# Realizamos el QC para hallar el flagV2\n",
    "dsCompleto = applyFlagV2([Fdatos2021,Fdatos2020], umbrales)\n",
    "dsCompleto.to_csv(f'{path_base}/Archivos/Dataset/dsFLAGV2.csv')"
   ]
  },
  {
   "cell_type": "code",
   "execution_count": 9,
   "id": "3195cf7f",
   "metadata": {},
   "outputs": [
    {
     "data": {
      "text/html": [
       "<div>\n",
       "<style scoped>\n",
       "    .dataframe tbody tr th:only-of-type {\n",
       "        vertical-align: middle;\n",
       "    }\n",
       "\n",
       "    .dataframe tbody tr th {\n",
       "        vertical-align: top;\n",
       "    }\n",
       "\n",
       "    .dataframe thead th {\n",
       "        text-align: right;\n",
       "    }\n",
       "</style>\n",
       "<table border=\"1\" class=\"dataframe\">\n",
       "  <thead>\n",
       "    <tr style=\"text-align: right;\">\n",
       "      <th></th>\n",
       "      <th>Unnamed: 0</th>\n",
       "      <th>CODIGO</th>\n",
       "      <th>NOMBRE</th>\n",
       "      <th>FECHA</th>\n",
       "      <th>HORA</th>\n",
       "      <th>PRECIPITACION</th>\n",
       "      <th>FLAG</th>\n",
       "      <th>FLAGV2</th>\n",
       "    </tr>\n",
       "  </thead>\n",
       "  <tbody>\n",
       "    <tr>\n",
       "      <th>0</th>\n",
       "      <td>0</td>\n",
       "      <td>4722A338</td>\n",
       "      <td>ACJANACO</td>\n",
       "      <td>01/01/2021</td>\n",
       "      <td>00:00:00</td>\n",
       "      <td>0.1</td>\n",
       "      <td>C0000001</td>\n",
       "      <td>C01</td>\n",
       "    </tr>\n",
       "    <tr>\n",
       "      <th>1</th>\n",
       "      <td>1</td>\n",
       "      <td>4722A338</td>\n",
       "      <td>ACJANACO</td>\n",
       "      <td>01/01/2021</td>\n",
       "      <td>01:00:00</td>\n",
       "      <td>0.0</td>\n",
       "      <td>C0000001</td>\n",
       "      <td>C01</td>\n",
       "    </tr>\n",
       "    <tr>\n",
       "      <th>2</th>\n",
       "      <td>2</td>\n",
       "      <td>4722A338</td>\n",
       "      <td>ACJANACO</td>\n",
       "      <td>01/01/2021</td>\n",
       "      <td>02:00:00</td>\n",
       "      <td>0.0</td>\n",
       "      <td>C0000001</td>\n",
       "      <td>C01</td>\n",
       "    </tr>\n",
       "    <tr>\n",
       "      <th>3</th>\n",
       "      <td>3</td>\n",
       "      <td>4722A338</td>\n",
       "      <td>ACJANACO</td>\n",
       "      <td>01/01/2021</td>\n",
       "      <td>03:00:00</td>\n",
       "      <td>0.0</td>\n",
       "      <td>C0000001</td>\n",
       "      <td>C01</td>\n",
       "    </tr>\n",
       "    <tr>\n",
       "      <th>4</th>\n",
       "      <td>4</td>\n",
       "      <td>4722A338</td>\n",
       "      <td>ACJANACO</td>\n",
       "      <td>01/01/2021</td>\n",
       "      <td>04:00:00</td>\n",
       "      <td>0.0</td>\n",
       "      <td>C0000001</td>\n",
       "      <td>C01</td>\n",
       "    </tr>\n",
       "  </tbody>\n",
       "</table>\n",
       "</div>"
      ],
      "text/plain": [
       "   Unnamed: 0    CODIGO     NOMBRE       FECHA      HORA  PRECIPITACION  \\\n",
       "0           0  4722A338  ACJANACO   01/01/2021  00:00:00            0.1   \n",
       "1           1  4722A338  ACJANACO   01/01/2021  01:00:00            0.0   \n",
       "2           2  4722A338  ACJANACO   01/01/2021  02:00:00            0.0   \n",
       "3           3  4722A338  ACJANACO   01/01/2021  03:00:00            0.0   \n",
       "4           4  4722A338  ACJANACO   01/01/2021  04:00:00            0.0   \n",
       "\n",
       "       FLAG FLAGV2  \n",
       "0  C0000001    C01  \n",
       "1  C0000001    C01  \n",
       "2  C0000001    C01  \n",
       "3  C0000001    C01  \n",
       "4  C0000001    C01  "
      ]
     },
     "execution_count": 9,
     "metadata": {},
     "output_type": "execute_result"
    }
   ],
   "source": [
    "# Visualizamos\n",
    "dsCompleto =pd.read_csv(f'{path_base}/Archivos/Dataset/dsFLAGV2.csv')\n",
    "dsCompleto.head(5)"
   ]
  },
  {
   "cell_type": "code",
   "execution_count": 11,
   "id": "987c6cb6",
   "metadata": {},
   "outputs": [
    {
     "data": {
      "text/plain": [
       "array(['C01', 'M01', 'ND', 'D01', 'D02', 'NC'], dtype=object)"
      ]
     },
     "execution_count": 11,
     "metadata": {},
     "output_type": "execute_result"
    }
   ],
   "source": [
    "dsCompleto['FLAGV2'].unique()"
   ]
  },
  {
   "cell_type": "code",
   "execution_count": null,
   "id": "8b96df60",
   "metadata": {},
   "outputs": [],
   "source": []
  }
 ],
 "metadata": {
  "kernelspec": {
   "display_name": "Python 3 (ipykernel)",
   "language": "python",
   "name": "python3"
  },
  "language_info": {
   "codemirror_mode": {
    "name": "ipython",
    "version": 3
   },
   "file_extension": ".py",
   "mimetype": "text/x-python",
   "name": "python",
   "nbconvert_exporter": "python",
   "pygments_lexer": "ipython3",
   "version": "3.9.11"
  }
 },
 "nbformat": 4,
 "nbformat_minor": 5
}
