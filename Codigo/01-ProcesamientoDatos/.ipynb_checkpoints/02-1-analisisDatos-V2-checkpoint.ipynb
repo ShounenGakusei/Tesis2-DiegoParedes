{
 "cells": [
  {
   "cell_type": "code",
   "execution_count": 1,
   "id": "54a30443",
   "metadata": {},
   "outputs": [],
   "source": [
    "# Graficos y visualizaciones\n",
    "import matplotlib.pyplot as plt\n",
    "import plotly.express as px\n",
    "\n",
    "# Liberias para manejo de datos\n",
    "import pandas as pd\n",
    "\n",
    "# Liberias estandar\n",
    "import time\n",
    "import os"
   ]
  },
  {
   "cell_type": "code",
   "execution_count": 2,
   "id": "c592d703",
   "metadata": {},
   "outputs": [
    {
     "data": {
      "text/plain": [
       "'C:/Users/Shounen/Desktop/Ciclo XI/Tesis 2/FinalTesis/Tesis2-DiegoParedes'"
      ]
     },
     "execution_count": 2,
     "metadata": {},
     "output_type": "execute_result"
    }
   ],
   "source": [
    "\"\"\"\n",
    "DEFINIMOS EL PATH DEL PROYECTO \n",
    "\"\"\"\n",
    "with open('../../path_base.txt') as f:\n",
    "    path_base = f.read()\n",
    "path_base"
   ]
  },
  {
   "cell_type": "code",
   "execution_count": null,
   "id": "7f92da6a-e934-4a7d-9036-e7b4df3c1537",
   "metadata": {},
   "outputs": [],
   "source": []
  },
  {
   "cell_type": "code",
   "execution_count": 3,
   "id": "5717f958",
   "metadata": {},
   "outputs": [],
   "source": [
    "# Realiza un grafico de dispersion (Tipo = 1) o boxplit (Tipo = 2)\n",
    "def Grafico(df,filename,tipo):    \n",
    "    x = df.index\n",
    "    y = df['dato']   \n",
    "    \n",
    "    if tipo==1:\n",
    "        plt.clf()\n",
    "        plt.scatter(x=x,y=y, alpha=0.1)\n",
    "    if tipo==2:\n",
    "        plt.clf()\n",
    "        plt.boxplot(x=y)\n",
    "        \n",
    "    plt.xlabel(\"Indices\")\n",
    "    plt.ylabel(\"Precipitacion (mm/h)\")\n",
    "    plt.title(f\"{filename.split('/')[-1][:-4]}\")\n",
    "    plt.axhline(y=y.quantile(0.99), color='r', linestyle='-')\n",
    "    \n",
    "    plt.savefig(filename)\n",
    "    plt.clf()\n",
    "    #plt.show()\n",
    "\n",
    "    return True"
   ]
  },
  {
   "cell_type": "code",
   "execution_count": 4,
   "id": "22894a6b",
   "metadata": {},
   "outputs": [],
   "source": [
    "# Crea una carpeta (newDir) en path\n",
    "def crearDir(path, newDir):\n",
    "    try:\n",
    "        pathT = os.path.join(path, newDir)\n",
    "        os.mkdir(pathT)\n",
    "        return pathT\n",
    "    except FileExistsError:\n",
    "        return pathT       \n",
    "    except:\n",
    "        print(f\"No se pudo crear el directorio: {newDir}\")\n",
    "        pritn(f'Path base: {path}')\n",
    "        pritn(f'Nuevo    : {newDir}')        \n",
    "        return None"
   ]
  },
  {
   "cell_type": "code",
   "execution_count": 5,
   "id": "ebf2ea41",
   "metadata": {},
   "outputs": [],
   "source": [
    "#Por cada estacion se hallara:\n",
    "#- Cantidad de datos,- Promedio,- Varianza,- Valor min ,- Valor max\n",
    "#- Fecha minima,- Fecha Maxima,- Cantidad de datos atipicos (Mayores a 99%)\n",
    "#- Cantidad de NA,- Cantidad de ceros\n",
    "#- Cantidad de malos, conformes y dudosos\n",
    "#Graficos\n",
    "#- Boxplot,- Dispersion\n",
    "\n",
    "# Si existe listDir, obtendra los datos de precipitacion en esta lista,\n",
    "# caso contrario usara lo definido en dfDatos\n",
    "def resumenStats(path_base,estacionesF,dfDatos,year,grafico=0, listDir=''):       \n",
    "    stations = pd.read_csv(estacionesF)\n",
    "    \n",
    "    if listDir:\n",
    "        listDF = []\n",
    "        for file in listDir:\n",
    "            listDF.append(pd.read_csv(file,encoding='latin-1'))\n",
    "        datos = pd.concat(listDF, ignore_index=True)           \n",
    "        \n",
    "    else:\n",
    "        datos = dfDatos   \n",
    "        \n",
    "    start_time = time.time() \n",
    "    resultado = []\n",
    "    \n",
    "    #Auxiliares    \n",
    "    total = len(stations.index)\n",
    "    completados = 1 \n",
    "    \n",
    "    path_plot = crearDir(f'{path_base}/Archivos/Reportes/Plots/', year)\n",
    "\n",
    "    #Por cada estacion se realizara lso graficos\n",
    "    for i in stations.index:    \n",
    "        station = stations['ESTACION'][i]\n",
    "        code = stations['CODE'][i]\n",
    "        LON = stations['LON'][i]\n",
    "        LAT = stations['LAT'][i]\n",
    "        ALT = stations['ALT'][i]\n",
    "\n",
    "        tempDato = datos.loc[datos['NOMBRE']==station]    \n",
    "        cantNA = tempDato.loc[tempDato['PRECIPITACION'].isna()].count()[0]\n",
    "\n",
    "        #Eliminamos todos los NA antes de realizar las estadisticas        \n",
    "        tempDato = tempDato.dropna(axis='index',subset=['PRECIPITACION'])   \n",
    "        \n",
    "        \n",
    "        cantC02 = tempDato.loc[tempDato['FLAG'].isin(['C0000002'])].count()[0]\n",
    "        cantC01 = tempDato.loc[tempDato['FLAG'].isin(['C0000001'])].count()[0] \n",
    "        cantM01 = tempDato.loc[tempDato['FLAG'].isin(['M0000001','M0000001, M0110302','M0110302'])].count()[0]\n",
    "        cantM02 = tempDato.loc[tempDato['FLAG'].isin(['M0000002','DIM00001'])].count()[0]\n",
    "        cantD01 = tempDato.loc[tempDato['FLAG'].isin(['D0220301','D0230301','D0230303'])].count()[0]\n",
    "        \n",
    "        #Eliminamos los valores valores mayor a 401 o menor a 0\n",
    "        tempDato = tempDato[tempDato['PRECIPITACION']<=401]\n",
    "        tempDato = tempDato[tempDato['PRECIPITACION']>=0]\n",
    "    \n",
    "        \n",
    "\n",
    "        stats = tempDato['PRECIPITACION'].describe()\n",
    "        stats = stats.to_dict()    \n",
    "        fmin = tempDato['FECHA'].min()\n",
    "        fmax = tempDato['FECHA'].max()    \n",
    "        stats['FechaMax'] = fmax\n",
    "        stats['count'] = int(stats['count'])\n",
    "        stats['FechaMin'] = fmin    \n",
    "        stats['Nombre'] = station\n",
    "        stats['Codigo'] = code\n",
    "        stats['ceros'] = tempDato.loc[tempDato['PRECIPITACION']==0].count()[0]\n",
    "        stats['NA'] = cantNA\n",
    "        \n",
    "        stats['cantC02'] = cantC02\n",
    "        stats['cantC01'] = cantC01\n",
    "        stats['cantM01'] = cantM01\n",
    "        stats['cantM02'] = cantM02\n",
    "        stats['cantD01'] = cantD01\n",
    "        \n",
    "        stats['75mayor'] = tempDato.loc[tempDato['PRECIPITACION']>stats['75%']].count()[0]\n",
    "        stats['90mayor'] = tempDato.loc[tempDato['PRECIPITACION']>tempDato['PRECIPITACION'].quantile(0.90)].count()[0]\n",
    "        stats['90%'] =  tempDato['PRECIPITACION'].quantile(0.90)\n",
    "        stats['99mayor'] = tempDato.loc[tempDato['PRECIPITACION']>tempDato['PRECIPITACION'].quantile(0.99)].count()[0]\n",
    "        stats['99%'] =  tempDato['PRECIPITACION'].quantile(0.99)\n",
    "        stats['LON'] = LON\n",
    "        stats['LAT'] = LAT\n",
    "        stats['ALT'] = ALT\n",
    "        resultado.append(stats)\n",
    "        \n",
    "        if grafico:\n",
    "            Grafico(tempDato,f'{path_plot}/{code}_scatter.png',1)   \n",
    "            Grafico(tempDato,f'{path_plot}/{code}_box.png',2)   \n",
    "        \n",
    "        completados = completados +1\n",
    "        if not completados % 50:\n",
    "            progreso = completados/total*100\n",
    "            f = '{0:.3g}'.format(progreso)\n",
    "            print(f\"Procesando - {f}%\")\n",
    "            \n",
    "\n",
    "    print(\"Time taken: %.2fs\" % (time.time() - start_time)) \n",
    "    \n",
    "    #Borramos las estaciones que no tengan datos\n",
    "    df = pd.DataFrame(resultado)\n",
    "    df = df[df['count']!=0]\n",
    "\n",
    "    #Guardamso las estadisticas\n",
    "    df = df.astype({\"count\":int})\n",
    "    df.to_csv(f'{path_base}/Archivos/Reportes/Datos/analisis_{year}.csv',index=False)\n",
    "\n",
    "    return resultado\n"
   ]
  },
  {
   "cell_type": "code",
   "execution_count": 6,
   "id": "18918dce",
   "metadata": {},
   "outputs": [],
   "source": [
    "# Lista de los flags en orden de fase\n",
    "listaFases = [\n",
    "    'ND',    'C0000001',    'M0000001',    'M0000001, M0110302' ,    'M0110302',\n",
    "    'D0210301',    'D0210302',    'D0210303',    'D0210304',    'D0220301',\n",
    "    'D0230301',    'D0230302',    'D0230303',    'D0230304',    'C0000002',\n",
    "    'DIM00001',    'M0000002', 'NC'\n",
    "]\n",
    "dfFases = pd.DataFrame({'FLAG' : listaFases})\n",
    "dfFases = dfFases.reset_index().set_index('FLAG')"
   ]
  },
  {
   "cell_type": "code",
   "execution_count": 7,
   "id": "19a35690",
   "metadata": {},
   "outputs": [],
   "source": [
    "# Nombre de los archivos\n",
    "Festaciones = f'{path_base}/Archivos/Inicial/estaciones.csv'\n",
    "\n",
    "Fdatos2021 = f'{path_base}/Archivos/Inicial/REPORTE_SGD_2021.csv'\n",
    "Fdatos2020 = f'{path_base}/Archivos/Inicial/REPORTE_SGD_2020.csv'\n",
    "\n",
    "df20 = pd.read_csv(Fdatos2020,encoding='latin-1')\n",
    "df21 = pd.read_csv(Fdatos2021,encoding='latin-1')\n",
    "\n",
    "# Unimos los dos años de precipitaciones en un solo DataFrame\n",
    "dfPrecipitacion = pd.concat([df20,df21], ignore_index=True) "
   ]
  },
  {
   "cell_type": "code",
   "execution_count": 8,
   "id": "21edcdd4",
   "metadata": {},
   "outputs": [
    {
     "data": {
      "text/html": [
       "<div>\n",
       "<style scoped>\n",
       "    .dataframe tbody tr th:only-of-type {\n",
       "        vertical-align: middle;\n",
       "    }\n",
       "\n",
       "    .dataframe tbody tr th {\n",
       "        vertical-align: top;\n",
       "    }\n",
       "\n",
       "    .dataframe thead th {\n",
       "        text-align: right;\n",
       "    }\n",
       "</style>\n",
       "<table border=\"1\" class=\"dataframe\">\n",
       "  <thead>\n",
       "    <tr style=\"text-align: right;\">\n",
       "      <th></th>\n",
       "      <th>FLAG</th>\n",
       "      <th>Cantidad</th>\n",
       "      <th>Fase</th>\n",
       "      <th>porc%</th>\n",
       "    </tr>\n",
       "  </thead>\n",
       "  <tbody>\n",
       "    <tr>\n",
       "      <th>10</th>\n",
       "      <td>ND</td>\n",
       "      <td>462645</td>\n",
       "      <td>0</td>\n",
       "      <td>13.272817</td>\n",
       "    </tr>\n",
       "    <tr>\n",
       "      <th>0</th>\n",
       "      <td>C0000001</td>\n",
       "      <td>2877873</td>\n",
       "      <td>1</td>\n",
       "      <td>82.563264</td>\n",
       "    </tr>\n",
       "    <tr>\n",
       "      <th>6</th>\n",
       "      <td>M0000001</td>\n",
       "      <td>17</td>\n",
       "      <td>2</td>\n",
       "      <td>0.000488</td>\n",
       "    </tr>\n",
       "    <tr>\n",
       "      <th>7</th>\n",
       "      <td>M0000001, M0110302</td>\n",
       "      <td>5646</td>\n",
       "      <td>3</td>\n",
       "      <td>0.161978</td>\n",
       "    </tr>\n",
       "    <tr>\n",
       "      <th>9</th>\n",
       "      <td>M0110302</td>\n",
       "      <td>554</td>\n",
       "      <td>4</td>\n",
       "      <td>0.015894</td>\n",
       "    </tr>\n",
       "    <tr>\n",
       "      <th>2</th>\n",
       "      <td>D0220301</td>\n",
       "      <td>24744</td>\n",
       "      <td>9</td>\n",
       "      <td>0.709880</td>\n",
       "    </tr>\n",
       "    <tr>\n",
       "      <th>3</th>\n",
       "      <td>D0230301</td>\n",
       "      <td>21440</td>\n",
       "      <td>10</td>\n",
       "      <td>0.615092</td>\n",
       "    </tr>\n",
       "    <tr>\n",
       "      <th>4</th>\n",
       "      <td>D0230303</td>\n",
       "      <td>25826</td>\n",
       "      <td>12</td>\n",
       "      <td>0.740922</td>\n",
       "    </tr>\n",
       "    <tr>\n",
       "      <th>1</th>\n",
       "      <td>C0000002</td>\n",
       "      <td>58364</td>\n",
       "      <td>14</td>\n",
       "      <td>1.674404</td>\n",
       "    </tr>\n",
       "    <tr>\n",
       "      <th>5</th>\n",
       "      <td>DIM00001</td>\n",
       "      <td>2</td>\n",
       "      <td>15</td>\n",
       "      <td>0.000057</td>\n",
       "    </tr>\n",
       "    <tr>\n",
       "      <th>8</th>\n",
       "      <td>M0000002</td>\n",
       "      <td>8547</td>\n",
       "      <td>16</td>\n",
       "      <td>0.245205</td>\n",
       "    </tr>\n",
       "  </tbody>\n",
       "</table>\n",
       "</div>"
      ],
      "text/plain": [
       "                  FLAG  Cantidad  Fase      porc%\n",
       "10                  ND    462645     0  13.272817\n",
       "0             C0000001   2877873     1  82.563264\n",
       "6             M0000001        17     2   0.000488\n",
       "7   M0000001, M0110302      5646     3   0.161978\n",
       "9             M0110302       554     4   0.015894\n",
       "2             D0220301     24744     9   0.709880\n",
       "3             D0230301     21440    10   0.615092\n",
       "4             D0230303     25826    12   0.740922\n",
       "1             C0000002     58364    14   1.674404\n",
       "5             DIM00001         2    15   0.000057\n",
       "8             M0000002      8547    16   0.245205"
      ]
     },
     "execution_count": 8,
     "metadata": {},
     "output_type": "execute_result"
    }
   ],
   "source": [
    "#Revisamos la cantidad de datos por flag\n",
    "dfFlag = dfPrecipitacion.groupby(['FLAG'], dropna = False).size().reset_index(name='Cantidad')\n",
    "dfFlag['Fase'] = dfFlag['FLAG'].map(dfFases['index'])\n",
    "dfFlag = dfFlag.sort_values(by=['Fase'])\n",
    "dfFlag['porc%'] = dfFlag['Cantidad'] / dfFlag['Cantidad'].sum() * 100\n",
    "\n",
    "dfFlag"
   ]
  },
  {
   "cell_type": "code",
   "execution_count": 21,
   "id": "b7bd0cfc-ea1e-4236-8bd6-e738024e5ecc",
   "metadata": {},
   "outputs": [
    {
     "data": {
      "application/vnd.plotly.v1+json": {
       "config": {
        "plotlyServerURL": "https://plot.ly"
       },
       "data": [
        {
         "alignmentgroup": "True",
         "cliponaxis": false,
         "hovertemplate": "FLAG=%{x}<br>Cantidad=%{y}<br>text=%{text}<extra></extra>",
         "legendgroup": "",
         "marker": {
          "color": "#636efa",
          "pattern": {
           "shape": ""
          }
         },
         "name": "",
         "offsetgroup": "",
         "orientation": "v",
         "showlegend": false,
         "text": [
          "0.18%",
          "0.25%",
          "82.56%",
          "1.67%",
          "13.27%",
          "2.07%"
         ],
         "textangle": 0,
         "textfont": {
          "size": 12
         },
         "textposition": "outside",
         "type": "bar",
         "x": [
          "B1",
          "B2",
          "C1",
          "C2",
          "NC",
          "S"
         ],
         "xaxis": "x",
         "y": [
          6200,
          8547,
          2877873,
          58364,
          462645,
          72010
         ],
         "yaxis": "y"
        }
       ],
       "layout": {
        "barmode": "relative",
        "font": {
         "size": 20
        },
        "height": 400,
        "legend": {
         "tracegroupgap": 0
        },
        "margin": {
         "t": 60
        },
        "template": {
         "data": {
          "bar": [
           {
            "error_x": {
             "color": "#2a3f5f"
            },
            "error_y": {
             "color": "#2a3f5f"
            },
            "marker": {
             "line": {
              "color": "#E5ECF6",
              "width": 0.5
             },
             "pattern": {
              "fillmode": "overlay",
              "size": 10,
              "solidity": 0.2
             }
            },
            "type": "bar"
           }
          ],
          "barpolar": [
           {
            "marker": {
             "line": {
              "color": "#E5ECF6",
              "width": 0.5
             },
             "pattern": {
              "fillmode": "overlay",
              "size": 10,
              "solidity": 0.2
             }
            },
            "type": "barpolar"
           }
          ],
          "carpet": [
           {
            "aaxis": {
             "endlinecolor": "#2a3f5f",
             "gridcolor": "white",
             "linecolor": "white",
             "minorgridcolor": "white",
             "startlinecolor": "#2a3f5f"
            },
            "baxis": {
             "endlinecolor": "#2a3f5f",
             "gridcolor": "white",
             "linecolor": "white",
             "minorgridcolor": "white",
             "startlinecolor": "#2a3f5f"
            },
            "type": "carpet"
           }
          ],
          "choropleth": [
           {
            "colorbar": {
             "outlinewidth": 0,
             "ticks": ""
            },
            "type": "choropleth"
           }
          ],
          "contour": [
           {
            "colorbar": {
             "outlinewidth": 0,
             "ticks": ""
            },
            "colorscale": [
             [
              0,
              "#0d0887"
             ],
             [
              0.1111111111111111,
              "#46039f"
             ],
             [
              0.2222222222222222,
              "#7201a8"
             ],
             [
              0.3333333333333333,
              "#9c179e"
             ],
             [
              0.4444444444444444,
              "#bd3786"
             ],
             [
              0.5555555555555556,
              "#d8576b"
             ],
             [
              0.6666666666666666,
              "#ed7953"
             ],
             [
              0.7777777777777778,
              "#fb9f3a"
             ],
             [
              0.8888888888888888,
              "#fdca26"
             ],
             [
              1,
              "#f0f921"
             ]
            ],
            "type": "contour"
           }
          ],
          "contourcarpet": [
           {
            "colorbar": {
             "outlinewidth": 0,
             "ticks": ""
            },
            "type": "contourcarpet"
           }
          ],
          "heatmap": [
           {
            "colorbar": {
             "outlinewidth": 0,
             "ticks": ""
            },
            "colorscale": [
             [
              0,
              "#0d0887"
             ],
             [
              0.1111111111111111,
              "#46039f"
             ],
             [
              0.2222222222222222,
              "#7201a8"
             ],
             [
              0.3333333333333333,
              "#9c179e"
             ],
             [
              0.4444444444444444,
              "#bd3786"
             ],
             [
              0.5555555555555556,
              "#d8576b"
             ],
             [
              0.6666666666666666,
              "#ed7953"
             ],
             [
              0.7777777777777778,
              "#fb9f3a"
             ],
             [
              0.8888888888888888,
              "#fdca26"
             ],
             [
              1,
              "#f0f921"
             ]
            ],
            "type": "heatmap"
           }
          ],
          "heatmapgl": [
           {
            "colorbar": {
             "outlinewidth": 0,
             "ticks": ""
            },
            "colorscale": [
             [
              0,
              "#0d0887"
             ],
             [
              0.1111111111111111,
              "#46039f"
             ],
             [
              0.2222222222222222,
              "#7201a8"
             ],
             [
              0.3333333333333333,
              "#9c179e"
             ],
             [
              0.4444444444444444,
              "#bd3786"
             ],
             [
              0.5555555555555556,
              "#d8576b"
             ],
             [
              0.6666666666666666,
              "#ed7953"
             ],
             [
              0.7777777777777778,
              "#fb9f3a"
             ],
             [
              0.8888888888888888,
              "#fdca26"
             ],
             [
              1,
              "#f0f921"
             ]
            ],
            "type": "heatmapgl"
           }
          ],
          "histogram": [
           {
            "marker": {
             "pattern": {
              "fillmode": "overlay",
              "size": 10,
              "solidity": 0.2
             }
            },
            "type": "histogram"
           }
          ],
          "histogram2d": [
           {
            "colorbar": {
             "outlinewidth": 0,
             "ticks": ""
            },
            "colorscale": [
             [
              0,
              "#0d0887"
             ],
             [
              0.1111111111111111,
              "#46039f"
             ],
             [
              0.2222222222222222,
              "#7201a8"
             ],
             [
              0.3333333333333333,
              "#9c179e"
             ],
             [
              0.4444444444444444,
              "#bd3786"
             ],
             [
              0.5555555555555556,
              "#d8576b"
             ],
             [
              0.6666666666666666,
              "#ed7953"
             ],
             [
              0.7777777777777778,
              "#fb9f3a"
             ],
             [
              0.8888888888888888,
              "#fdca26"
             ],
             [
              1,
              "#f0f921"
             ]
            ],
            "type": "histogram2d"
           }
          ],
          "histogram2dcontour": [
           {
            "colorbar": {
             "outlinewidth": 0,
             "ticks": ""
            },
            "colorscale": [
             [
              0,
              "#0d0887"
             ],
             [
              0.1111111111111111,
              "#46039f"
             ],
             [
              0.2222222222222222,
              "#7201a8"
             ],
             [
              0.3333333333333333,
              "#9c179e"
             ],
             [
              0.4444444444444444,
              "#bd3786"
             ],
             [
              0.5555555555555556,
              "#d8576b"
             ],
             [
              0.6666666666666666,
              "#ed7953"
             ],
             [
              0.7777777777777778,
              "#fb9f3a"
             ],
             [
              0.8888888888888888,
              "#fdca26"
             ],
             [
              1,
              "#f0f921"
             ]
            ],
            "type": "histogram2dcontour"
           }
          ],
          "mesh3d": [
           {
            "colorbar": {
             "outlinewidth": 0,
             "ticks": ""
            },
            "type": "mesh3d"
           }
          ],
          "parcoords": [
           {
            "line": {
             "colorbar": {
              "outlinewidth": 0,
              "ticks": ""
             }
            },
            "type": "parcoords"
           }
          ],
          "pie": [
           {
            "automargin": true,
            "type": "pie"
           }
          ],
          "scatter": [
           {
            "fillpattern": {
             "fillmode": "overlay",
             "size": 10,
             "solidity": 0.2
            },
            "type": "scatter"
           }
          ],
          "scatter3d": [
           {
            "line": {
             "colorbar": {
              "outlinewidth": 0,
              "ticks": ""
             }
            },
            "marker": {
             "colorbar": {
              "outlinewidth": 0,
              "ticks": ""
             }
            },
            "type": "scatter3d"
           }
          ],
          "scattercarpet": [
           {
            "marker": {
             "colorbar": {
              "outlinewidth": 0,
              "ticks": ""
             }
            },
            "type": "scattercarpet"
           }
          ],
          "scattergeo": [
           {
            "marker": {
             "colorbar": {
              "outlinewidth": 0,
              "ticks": ""
             }
            },
            "type": "scattergeo"
           }
          ],
          "scattergl": [
           {
            "marker": {
             "colorbar": {
              "outlinewidth": 0,
              "ticks": ""
             }
            },
            "type": "scattergl"
           }
          ],
          "scattermapbox": [
           {
            "marker": {
             "colorbar": {
              "outlinewidth": 0,
              "ticks": ""
             }
            },
            "type": "scattermapbox"
           }
          ],
          "scatterpolar": [
           {
            "marker": {
             "colorbar": {
              "outlinewidth": 0,
              "ticks": ""
             }
            },
            "type": "scatterpolar"
           }
          ],
          "scatterpolargl": [
           {
            "marker": {
             "colorbar": {
              "outlinewidth": 0,
              "ticks": ""
             }
            },
            "type": "scatterpolargl"
           }
          ],
          "scatterternary": [
           {
            "marker": {
             "colorbar": {
              "outlinewidth": 0,
              "ticks": ""
             }
            },
            "type": "scatterternary"
           }
          ],
          "surface": [
           {
            "colorbar": {
             "outlinewidth": 0,
             "ticks": ""
            },
            "colorscale": [
             [
              0,
              "#0d0887"
             ],
             [
              0.1111111111111111,
              "#46039f"
             ],
             [
              0.2222222222222222,
              "#7201a8"
             ],
             [
              0.3333333333333333,
              "#9c179e"
             ],
             [
              0.4444444444444444,
              "#bd3786"
             ],
             [
              0.5555555555555556,
              "#d8576b"
             ],
             [
              0.6666666666666666,
              "#ed7953"
             ],
             [
              0.7777777777777778,
              "#fb9f3a"
             ],
             [
              0.8888888888888888,
              "#fdca26"
             ],
             [
              1,
              "#f0f921"
             ]
            ],
            "type": "surface"
           }
          ],
          "table": [
           {
            "cells": {
             "fill": {
              "color": "#EBF0F8"
             },
             "line": {
              "color": "white"
             }
            },
            "header": {
             "fill": {
              "color": "#C8D4E3"
             },
             "line": {
              "color": "white"
             }
            },
            "type": "table"
           }
          ]
         },
         "layout": {
          "annotationdefaults": {
           "arrowcolor": "#2a3f5f",
           "arrowhead": 0,
           "arrowwidth": 1
          },
          "autotypenumbers": "strict",
          "coloraxis": {
           "colorbar": {
            "outlinewidth": 0,
            "ticks": ""
           }
          },
          "colorscale": {
           "diverging": [
            [
             0,
             "#8e0152"
            ],
            [
             0.1,
             "#c51b7d"
            ],
            [
             0.2,
             "#de77ae"
            ],
            [
             0.3,
             "#f1b6da"
            ],
            [
             0.4,
             "#fde0ef"
            ],
            [
             0.5,
             "#f7f7f7"
            ],
            [
             0.6,
             "#e6f5d0"
            ],
            [
             0.7,
             "#b8e186"
            ],
            [
             0.8,
             "#7fbc41"
            ],
            [
             0.9,
             "#4d9221"
            ],
            [
             1,
             "#276419"
            ]
           ],
           "sequential": [
            [
             0,
             "#0d0887"
            ],
            [
             0.1111111111111111,
             "#46039f"
            ],
            [
             0.2222222222222222,
             "#7201a8"
            ],
            [
             0.3333333333333333,
             "#9c179e"
            ],
            [
             0.4444444444444444,
             "#bd3786"
            ],
            [
             0.5555555555555556,
             "#d8576b"
            ],
            [
             0.6666666666666666,
             "#ed7953"
            ],
            [
             0.7777777777777778,
             "#fb9f3a"
            ],
            [
             0.8888888888888888,
             "#fdca26"
            ],
            [
             1,
             "#f0f921"
            ]
           ],
           "sequentialminus": [
            [
             0,
             "#0d0887"
            ],
            [
             0.1111111111111111,
             "#46039f"
            ],
            [
             0.2222222222222222,
             "#7201a8"
            ],
            [
             0.3333333333333333,
             "#9c179e"
            ],
            [
             0.4444444444444444,
             "#bd3786"
            ],
            [
             0.5555555555555556,
             "#d8576b"
            ],
            [
             0.6666666666666666,
             "#ed7953"
            ],
            [
             0.7777777777777778,
             "#fb9f3a"
            ],
            [
             0.8888888888888888,
             "#fdca26"
            ],
            [
             1,
             "#f0f921"
            ]
           ]
          },
          "colorway": [
           "#636efa",
           "#EF553B",
           "#00cc96",
           "#ab63fa",
           "#FFA15A",
           "#19d3f3",
           "#FF6692",
           "#B6E880",
           "#FF97FF",
           "#FECB52"
          ],
          "font": {
           "color": "#2a3f5f"
          },
          "geo": {
           "bgcolor": "white",
           "lakecolor": "white",
           "landcolor": "#E5ECF6",
           "showlakes": true,
           "showland": true,
           "subunitcolor": "white"
          },
          "hoverlabel": {
           "align": "left"
          },
          "hovermode": "closest",
          "mapbox": {
           "style": "light"
          },
          "paper_bgcolor": "white",
          "plot_bgcolor": "#E5ECF6",
          "polar": {
           "angularaxis": {
            "gridcolor": "white",
            "linecolor": "white",
            "ticks": ""
           },
           "bgcolor": "#E5ECF6",
           "radialaxis": {
            "gridcolor": "white",
            "linecolor": "white",
            "ticks": ""
           }
          },
          "scene": {
           "xaxis": {
            "backgroundcolor": "#E5ECF6",
            "gridcolor": "white",
            "gridwidth": 2,
            "linecolor": "white",
            "showbackground": true,
            "ticks": "",
            "zerolinecolor": "white"
           },
           "yaxis": {
            "backgroundcolor": "#E5ECF6",
            "gridcolor": "white",
            "gridwidth": 2,
            "linecolor": "white",
            "showbackground": true,
            "ticks": "",
            "zerolinecolor": "white"
           },
           "zaxis": {
            "backgroundcolor": "#E5ECF6",
            "gridcolor": "white",
            "gridwidth": 2,
            "linecolor": "white",
            "showbackground": true,
            "ticks": "",
            "zerolinecolor": "white"
           }
          },
          "shapedefaults": {
           "line": {
            "color": "#2a3f5f"
           }
          },
          "ternary": {
           "aaxis": {
            "gridcolor": "white",
            "linecolor": "white",
            "ticks": ""
           },
           "baxis": {
            "gridcolor": "white",
            "linecolor": "white",
            "ticks": ""
           },
           "bgcolor": "#E5ECF6",
           "caxis": {
            "gridcolor": "white",
            "linecolor": "white",
            "ticks": ""
           }
          },
          "title": {
           "x": 0.05
          },
          "xaxis": {
           "automargin": true,
           "gridcolor": "white",
           "linecolor": "white",
           "ticks": "",
           "title": {
            "standoff": 15
           },
           "zerolinecolor": "white",
           "zerolinewidth": 2
          },
          "yaxis": {
           "automargin": true,
           "gridcolor": "white",
           "linecolor": "white",
           "ticks": "",
           "title": {
            "standoff": 15
           },
           "zerolinecolor": "white",
           "zerolinewidth": 2
          }
         }
        },
        "title": {
         "text": "2020~2021 Precipitation Data ",
         "x": 0.5,
         "xanchor": "center"
        },
        "width": 800,
        "xaxis": {
         "anchor": "y",
         "autorange": true,
         "domain": [
          0,
          1
         ],
         "range": [
          -0.5,
          5.5
         ],
         "title": {
          "text": "FLAG"
         },
         "type": "category"
        },
        "yaxis": {
         "anchor": "x",
         "autorange": true,
         "domain": [
          0,
          1
         ],
         "range": [
          0,
          3029340
         ],
         "title": {
          "text": "Total"
         },
         "type": "linear"
        }
       }
      },
      "image/png": "[encoded data removed]",
      "text/html": [
       "<div>                            <div id=\"baadc62d-c107-4c11-95f7-e8d5528d995e\" class=\"plotly-graph-div\" style=\"height:400px; width:800px;\"></div>            <script type=\"text/javascript\">                require([\"plotly\"], function(Plotly) {                    window.PLOTLYENV=window.PLOTLYENV || {};                                    if (document.getElementById(\"baadc62d-c107-4c11-95f7-e8d5528d995e\")) {                    Plotly.newPlot(                        \"baadc62d-c107-4c11-95f7-e8d5528d995e\",                        [{\"alignmentgroup\":\"True\",\"hovertemplate\":\"FLAG=%{x}<br>Cantidad=%{y}<br>text=%{text}<extra></extra>\",\"legendgroup\":\"\",\"marker\":{\"color\":\"#636efa\",\"pattern\":{\"shape\":\"\"}},\"name\":\"\",\"offsetgroup\":\"\",\"orientation\":\"v\",\"showlegend\":false,\"text\":[\"0.18%\",\"0.25%\",\"82.56%\",\"1.67%\",\"13.27%\",\"2.07%\"],\"textposition\":\"outside\",\"x\":[\"B1\",\"B2\",\"C1\",\"C2\",\"NC\",\"S\"],\"xaxis\":\"x\",\"y\":[6200,8547,2877873,58364,462645,72010],\"yaxis\":\"y\",\"type\":\"bar\",\"textfont\":{\"size\":12},\"cliponaxis\":false,\"textangle\":0}],                        {\"template\":{\"data\":{\"histogram2dcontour\":[{\"type\":\"histogram2dcontour\",\"colorbar\":{\"outlinewidth\":0,\"ticks\":\"\"},\"colorscale\":[[0.0,\"#0d0887\"],[0.1111111111111111,\"#46039f\"],[0.2222222222222222,\"#7201a8\"],[0.3333333333333333,\"#9c179e\"],[0.4444444444444444,\"#bd3786\"],[0.5555555555555556,\"#d8576b\"],[0.6666666666666666,\"#ed7953\"],[0.7777777777777778,\"#fb9f3a\"],[0.8888888888888888,\"#fdca26\"],[1.0,\"#f0f921\"]]}],\"choropleth\":[{\"type\":\"choropleth\",\"colorbar\":{\"outlinewidth\":0,\"ticks\":\"\"}}],\"histogram2d\":[{\"type\":\"histogram2d\",\"colorbar\":{\"outlinewidth\":0,\"ticks\":\"\"},\"colorscale\":[[0.0,\"#0d0887\"],[0.1111111111111111,\"#46039f\"],[0.2222222222222222,\"#7201a8\"],[0.3333333333333333,\"#9c179e\"],[0.4444444444444444,\"#bd3786\"],[0.5555555555555556,\"#d8576b\"],[0.6666666666666666,\"#ed7953\"],[0.7777777777777778,\"#fb9f3a\"],[0.8888888888888888,\"#fdca26\"],[1.0,\"#f0f921\"]]}],\"heatmap\":[{\"type\":\"heatmap\",\"colorbar\":{\"outlinewidth\":0,\"ticks\":\"\"},\"colorscale\":[[0.0,\"#0d0887\"],[0.1111111111111111,\"#46039f\"],[0.2222222222222222,\"#7201a8\"],[0.3333333333333333,\"#9c179e\"],[0.4444444444444444,\"#bd3786\"],[0.5555555555555556,\"#d8576b\"],[0.6666666666666666,\"#ed7953\"],[0.7777777777777778,\"#fb9f3a\"],[0.8888888888888888,\"#fdca26\"],[1.0,\"#f0f921\"]]}],\"heatmapgl\":[{\"type\":\"heatmapgl\",\"colorbar\":{\"outlinewidth\":0,\"ticks\":\"\"},\"colorscale\":[[0.0,\"#0d0887\"],[0.1111111111111111,\"#46039f\"],[0.2222222222222222,\"#7201a8\"],[0.3333333333333333,\"#9c179e\"],[0.4444444444444444,\"#bd3786\"],[0.5555555555555556,\"#d8576b\"],[0.6666666666666666,\"#ed7953\"],[0.7777777777777778,\"#fb9f3a\"],[0.8888888888888888,\"#fdca26\"],[1.0,\"#f0f921\"]]}],\"contourcarpet\":[{\"type\":\"contourcarpet\",\"colorbar\":{\"outlinewidth\":0,\"ticks\":\"\"}}],\"contour\":[{\"type\":\"contour\",\"colorbar\":{\"outlinewidth\":0,\"ticks\":\"\"},\"colorscale\":[[0.0,\"#0d0887\"],[0.1111111111111111,\"#46039f\"],[0.2222222222222222,\"#7201a8\"],[0.3333333333333333,\"#9c179e\"],[0.4444444444444444,\"#bd3786\"],[0.5555555555555556,\"#d8576b\"],[0.6666666666666666,\"#ed7953\"],[0.7777777777777778,\"#fb9f3a\"],[0.8888888888888888,\"#fdca26\"],[1.0,\"#f0f921\"]]}],\"surface\":[{\"type\":\"surface\",\"colorbar\":{\"outlinewidth\":0,\"ticks\":\"\"},\"colorscale\":[[0.0,\"#0d0887\"],[0.1111111111111111,\"#46039f\"],[0.2222222222222222,\"#7201a8\"],[0.3333333333333333,\"#9c179e\"],[0.4444444444444444,\"#bd3786\"],[0.5555555555555556,\"#d8576b\"],[0.6666666666666666,\"#ed7953\"],[0.7777777777777778,\"#fb9f3a\"],[0.8888888888888888,\"#fdca26\"],[1.0,\"#f0f921\"]]}],\"mesh3d\":[{\"type\":\"mesh3d\",\"colorbar\":{\"outlinewidth\":0,\"ticks\":\"\"}}],\"scatter\":[{\"fillpattern\":{\"fillmode\":\"overlay\",\"size\":10,\"solidity\":0.2},\"type\":\"scatter\"}],\"parcoords\":[{\"type\":\"parcoords\",\"line\":{\"colorbar\":{\"outlinewidth\":0,\"ticks\":\"\"}}}],\"scatterpolargl\":[{\"type\":\"scatterpolargl\",\"marker\":{\"colorbar\":{\"outlinewidth\":0,\"ticks\":\"\"}}}],\"bar\":[{\"error_x\":{\"color\":\"#2a3f5f\"},\"error_y\":{\"color\":\"#2a3f5f\"},\"marker\":{\"line\":{\"color\":\"#E5ECF6\",\"width\":0.5},\"pattern\":{\"fillmode\":\"overlay\",\"size\":10,\"solidity\":0.2}},\"type\":\"bar\"}],\"scattergeo\":[{\"type\":\"scattergeo\",\"marker\":{\"colorbar\":{\"outlinewidth\":0,\"ticks\":\"\"}}}],\"scatterpolar\":[{\"type\":\"scatterpolar\",\"marker\":{\"colorbar\":{\"outlinewidth\":0,\"ticks\":\"\"}}}],\"histogram\":[{\"marker\":{\"pattern\":{\"fillmode\":\"overlay\",\"size\":10,\"solidity\":0.2}},\"type\":\"histogram\"}],\"scattergl\":[{\"type\":\"scattergl\",\"marker\":{\"colorbar\":{\"outlinewidth\":0,\"ticks\":\"\"}}}],\"scatter3d\":[{\"type\":\"scatter3d\",\"line\":{\"colorbar\":{\"outlinewidth\":0,\"ticks\":\"\"}},\"marker\":{\"colorbar\":{\"outlinewidth\":0,\"ticks\":\"\"}}}],\"scattermapbox\":[{\"type\":\"scattermapbox\",\"marker\":{\"colorbar\":{\"outlinewidth\":0,\"ticks\":\"\"}}}],\"scatterternary\":[{\"type\":\"scatterternary\",\"marker\":{\"colorbar\":{\"outlinewidth\":0,\"ticks\":\"\"}}}],\"scattercarpet\":[{\"type\":\"scattercarpet\",\"marker\":{\"colorbar\":{\"outlinewidth\":0,\"ticks\":\"\"}}}],\"carpet\":[{\"aaxis\":{\"endlinecolor\":\"#2a3f5f\",\"gridcolor\":\"white\",\"linecolor\":\"white\",\"minorgridcolor\":\"white\",\"startlinecolor\":\"#2a3f5f\"},\"baxis\":{\"endlinecolor\":\"#2a3f5f\",\"gridcolor\":\"white\",\"linecolor\":\"white\",\"minorgridcolor\":\"white\",\"startlinecolor\":\"#2a3f5f\"},\"type\":\"carpet\"}],\"table\":[{\"cells\":{\"fill\":{\"color\":\"#EBF0F8\"},\"line\":{\"color\":\"white\"}},\"header\":{\"fill\":{\"color\":\"#C8D4E3\"},\"line\":{\"color\":\"white\"}},\"type\":\"table\"}],\"barpolar\":[{\"marker\":{\"line\":{\"color\":\"#E5ECF6\",\"width\":0.5},\"pattern\":{\"fillmode\":\"overlay\",\"size\":10,\"solidity\":0.2}},\"type\":\"barpolar\"}],\"pie\":[{\"automargin\":true,\"type\":\"pie\"}]},\"layout\":{\"autotypenumbers\":\"strict\",\"colorway\":[\"#636efa\",\"#EF553B\",\"#00cc96\",\"#ab63fa\",\"#FFA15A\",\"#19d3f3\",\"#FF6692\",\"#B6E880\",\"#FF97FF\",\"#FECB52\"],\"font\":{\"color\":\"#2a3f5f\"},\"hovermode\":\"closest\",\"hoverlabel\":{\"align\":\"left\"},\"paper_bgcolor\":\"white\",\"plot_bgcolor\":\"#E5ECF6\",\"polar\":{\"bgcolor\":\"#E5ECF6\",\"angularaxis\":{\"gridcolor\":\"white\",\"linecolor\":\"white\",\"ticks\":\"\"},\"radialaxis\":{\"gridcolor\":\"white\",\"linecolor\":\"white\",\"ticks\":\"\"}},\"ternary\":{\"bgcolor\":\"#E5ECF6\",\"aaxis\":{\"gridcolor\":\"white\",\"linecolor\":\"white\",\"ticks\":\"\"},\"baxis\":{\"gridcolor\":\"white\",\"linecolor\":\"white\",\"ticks\":\"\"},\"caxis\":{\"gridcolor\":\"white\",\"linecolor\":\"white\",\"ticks\":\"\"}},\"coloraxis\":{\"colorbar\":{\"outlinewidth\":0,\"ticks\":\"\"}},\"colorscale\":{\"sequential\":[[0.0,\"#0d0887\"],[0.1111111111111111,\"#46039f\"],[0.2222222222222222,\"#7201a8\"],[0.3333333333333333,\"#9c179e\"],[0.4444444444444444,\"#bd3786\"],[0.5555555555555556,\"#d8576b\"],[0.6666666666666666,\"#ed7953\"],[0.7777777777777778,\"#fb9f3a\"],[0.8888888888888888,\"#fdca26\"],[1.0,\"#f0f921\"]],\"sequentialminus\":[[0.0,\"#0d0887\"],[0.1111111111111111,\"#46039f\"],[0.2222222222222222,\"#7201a8\"],[0.3333333333333333,\"#9c179e\"],[0.4444444444444444,\"#bd3786\"],[0.5555555555555556,\"#d8576b\"],[0.6666666666666666,\"#ed7953\"],[0.7777777777777778,\"#fb9f3a\"],[0.8888888888888888,\"#fdca26\"],[1.0,\"#f0f921\"]],\"diverging\":[[0,\"#8e0152\"],[0.1,\"#c51b7d\"],[0.2,\"#de77ae\"],[0.3,\"#f1b6da\"],[0.4,\"#fde0ef\"],[0.5,\"#f7f7f7\"],[0.6,\"#e6f5d0\"],[0.7,\"#b8e186\"],[0.8,\"#7fbc41\"],[0.9,\"#4d9221\"],[1,\"#276419\"]]},\"xaxis\":{\"gridcolor\":\"white\",\"linecolor\":\"white\",\"ticks\":\"\",\"title\":{\"standoff\":15},\"zerolinecolor\":\"white\",\"automargin\":true,\"zerolinewidth\":2},\"yaxis\":{\"gridcolor\":\"white\",\"linecolor\":\"white\",\"ticks\":\"\",\"title\":{\"standoff\":15},\"zerolinecolor\":\"white\",\"automargin\":true,\"zerolinewidth\":2},\"scene\":{\"xaxis\":{\"backgroundcolor\":\"#E5ECF6\",\"gridcolor\":\"white\",\"linecolor\":\"white\",\"showbackground\":true,\"ticks\":\"\",\"zerolinecolor\":\"white\",\"gridwidth\":2},\"yaxis\":{\"backgroundcolor\":\"#E5ECF6\",\"gridcolor\":\"white\",\"linecolor\":\"white\",\"showbackground\":true,\"ticks\":\"\",\"zerolinecolor\":\"white\",\"gridwidth\":2},\"zaxis\":{\"backgroundcolor\":\"#E5ECF6\",\"gridcolor\":\"white\",\"linecolor\":\"white\",\"showbackground\":true,\"ticks\":\"\",\"zerolinecolor\":\"white\",\"gridwidth\":2}},\"shapedefaults\":{\"line\":{\"color\":\"#2a3f5f\"}},\"annotationdefaults\":{\"arrowcolor\":\"#2a3f5f\",\"arrowhead\":0,\"arrowwidth\":1},\"geo\":{\"bgcolor\":\"white\",\"landcolor\":\"#E5ECF6\",\"subunitcolor\":\"white\",\"showland\":true,\"showlakes\":true,\"lakecolor\":\"white\"},\"title\":{\"x\":0.05},\"mapbox\":{\"style\":\"light\"}}},\"xaxis\":{\"anchor\":\"y\",\"domain\":[0.0,1.0],\"title\":{\"text\":\"FLAG\"}},\"yaxis\":{\"anchor\":\"x\",\"domain\":[0.0,1.0],\"title\":{\"text\":\"Total\"}},\"legend\":{\"tracegroupgap\":0},\"margin\":{\"t\":60},\"barmode\":\"relative\",\"title\":{\"text\":\"2020~2021 Precipitation Data \",\"x\":0.5,\"xanchor\":\"center\"},\"font\":{\"size\":20},\"width\":800,\"height\":400},                        {\"responsive\": true}                    ).then(function(){\n",
       "                            \n",
       "var gd = document.getElementById('baadc62d-c107-4c11-95f7-e8d5528d995e');\n",
       "var x = new MutationObserver(function (mutations, observer) {{\n",
       "        var display = window.getComputedStyle(gd).display;\n",
       "        if (!display || display === 'none') {{\n",
       "            console.log([gd, 'removed!']);\n",
       "            Plotly.purge(gd);\n",
       "            observer.disconnect();\n",
       "        }}\n",
       "}});\n",
       "\n",
       "// Listen for the removal of the full notebook cells\n",
       "var notebookContainer = gd.closest('#notebook-container');\n",
       "if (notebookContainer) {{\n",
       "    x.observe(notebookContainer, {childList: true});\n",
       "}}\n",
       "\n",
       "// Listen for the clearing of the current output cell\n",
       "var outputEl = gd.closest('.output');\n",
       "if (outputEl) {{\n",
       "    x.observe(outputEl, {childList: true});\n",
       "}}\n",
       "\n",
       "                        })                };                });            </script>        </div>"
      ]
     },
     "metadata": {},
     "output_type": "display_data"
    }
   ],
   "source": [
    "import plotly.express as px\n",
    "_dfFlag = dfFlag.drop([6,5],axis=0)\n",
    "#_dfFlag = dfFlag.drop([10,0,6,5,7,9],axis=0)\n",
    "_dfFlag['FLAG'] = ['NC','C1','B1','B1','S','S','S','C2','B2'] #['ND','C01','M01','M01','DUD','DUD','DUD','C02','M02']\n",
    "#_dfFlag['FLAG'] = ['DUD','DUD','DUD','C02','M02']\n",
    "#['NC','C1','B1','B1','S','S','S','C2','B2']\n",
    "_dfFlag = _dfFlag.set_index('FLAG')\n",
    "_dfFlag = _dfFlag.groupby(lambda x: x, axis=0).sum()\n",
    "_dfFlag['porc'] = _dfFlag['Cantidad'] / _dfFlag['Cantidad'].sum() * 100\n",
    "#_dfFlag['text'] = (_dfFlag['Cantidad']/1000).apply(lambda x: '{0:1.3f}'.format(x)).astype(str) + 'K' + ' (' + _dfFlag['porc'].apply(lambda x: '{0:1.2f}%'.format(x)) + ')'\n",
    "_dfFlag['text'] =  _dfFlag['porc'].apply(lambda x: '{0:1.2f}%'.format(x))\n",
    "_dfFlag = _dfFlag.reset_index()\n",
    "\n",
    "\n",
    "\n",
    "fig = px.bar(_dfFlag, y='Cantidad', x='FLAG',text=_dfFlag[\"text\"])\n",
    "\n",
    "fig.update_layout(\n",
    "    title={'text' :\"2020~2021 Precipitation Data \",\n",
    "           'x':0.5,\n",
    "           'xanchor': 'center'\n",
    "          },\n",
    "    xaxis_title=\"FLAG\",\n",
    "    yaxis_title=\"Total\",\n",
    "    \n",
    "    font = {'size':20},\n",
    "                 width=800, height=400\n",
    ") \n",
    "\n",
    "fig.update_traces(textfont_size=12, textangle=0, textposition=\"outside\", cliponaxis=False,)\n",
    "fig.show()"
   ]
  },
  {
   "cell_type": "code",
   "execution_count": null,
   "id": "693eaa9f",
   "metadata": {},
   "outputs": [],
   "source": [
    "# Eliminar malos en Etapa 1 ( orden de \"listaFases\")\n",
    "eliminarFG = [0,1,2,3,4,9,10,12,15]\n",
    "dfFlagManual = dfFlag[~dfFlag['Fase'].isin(eliminarFG)]\n",
    "\n",
    "fig, ax = plt.subplots()\n",
    "ax.barh(dfFlagManual['FLAG'], dfFlagManual['Cantidad'])\n",
    "plt.xlabel('Cantidad')\n",
    "plt.title('GRAFICO DE BARRAS PARA LOS FLAGS MANUALES')\n",
    "plt.show()\n",
    "\n",
    "dfFlagManual"
   ]
  },
  {
   "cell_type": "code",
   "execution_count": null,
   "id": "787d254c",
   "metadata": {},
   "outputs": [],
   "source": [
    "58364 / (58364+8547)"
   ]
  },
  {
   "cell_type": "code",
   "execution_count": null,
   "id": "d0fbad8f-196d-4651-ae01-cb733746e19d",
   "metadata": {},
   "outputs": [],
   "source": [
    "dfFlagManual"
   ]
  },
  {
   "cell_type": "code",
   "execution_count": null,
   "id": "9b2231fd-bb66-4754-8822-1003ba3454c4",
   "metadata": {},
   "outputs": [],
   "source": [
    "dfPrecipitacion.head(2)"
   ]
  },
  {
   "cell_type": "code",
   "execution_count": null,
   "id": "63cc8760-26d0-44e5-ab45-e9b4d08d045c",
   "metadata": {},
   "outputs": [],
   "source": [
    "len(dfPrecipitacion['CODIGO'].unique())"
   ]
  },
  {
   "cell_type": "code",
   "execution_count": null,
   "id": "7882fba3",
   "metadata": {},
   "outputs": [],
   "source": [
    "# Analizamos los datos M02\n",
    "\n",
    "dfPrecipitacion[dfPrecipitacion['FLAG']=='M0000002']['PRECIPITACION'].hist(legend=True)\n",
    "print(f\"Total       : {len(dfPrecipitacion[dfPrecipitacion['FLAG']=='M0000002'])}\")\n",
    "print(f\"Cantidad M01: {len(dfPrecipitacion[(dfPrecipitacion['FLAG']=='M0000002') & ((dfPrecipitacion['PRECIPITACION']>401) | (dfPrecipitacion['PRECIPITACION']<0))])}\")\n",
    "plt.xlabel('Valor')\n",
    "plt.ylabel('Cantidad')\n",
    "plt.title('Precipitacion de datos con Flag M02')\n",
    "plt.show()\n",
    "\"\"\"\n",
    "fig = px.histogram(dfPrecipitacion[dfPrecipitacion['FLAG']=='M0000002'], x=\"PRECIPITACION\")\n",
    "\n",
    "fig.update_layout(\n",
    "    title={'text' :\"Histograma de precipitacion con flag M02\",\n",
    "           'x':0.5,\n",
    "           'xanchor': 'center'\n",
    "          },\n",
    "    xaxis_title=\"Precipitaciones\",\n",
    "    yaxis_title=\"Cantidad\"\n",
    ")\n",
    "\n",
    "fig.show()\n",
    "\"\"\""
   ]
  },
  {
   "cell_type": "code",
   "execution_count": null,
   "id": "f9df1ff9",
   "metadata": {},
   "outputs": [],
   "source": [
    "# Analizamos los datos C02\n",
    "\n",
    "dfPrecipitacion[dfPrecipitacion['FLAG']=='C0000002']['PRECIPITACION'].hist(legend=True)\n",
    "print(f\"Total       : {len(dfPrecipitacion[dfPrecipitacion['FLAG']=='C0000002'])}\")\n",
    "print(f\"Cantidad M01: {len(dfPrecipitacion[(dfPrecipitacion['FLAG']=='C0000002') & ((dfPrecipitacion['PRECIPITACION']>401) | (dfPrecipitacion['PRECIPITACION']<0))])}\")\n",
    "plt.xlabel('Valor')\n",
    "plt.ylabel('Cantidad')\n",
    "plt.title('Precipitacion de datos con Flag C02')\n",
    "plt.show()\n",
    "\"\"\"\n",
    "fig = px.histogram(dfPrecipitacion[dfPrecipitacion['FLAG']=='C0000002'], x=\"PRECIPITACION\")\n",
    "\n",
    "fig.update_layout(\n",
    "    title={'text' :\"Histograma de precipitacion con flag C02\",\n",
    "           'x':0.5,\n",
    "           'xanchor': 'center'\n",
    "          },\n",
    "    xaxis_title=\"Precipitaciones\",\n",
    "    yaxis_title=\"Cantidad\"\n",
    ")\n",
    "\n",
    "fig.show()\n",
    "\"\"\""
   ]
  },
  {
   "cell_type": "code",
   "execution_count": null,
   "id": "24db5512-5617-4c7e-ab86-ee04a185496f",
   "metadata": {},
   "outputs": [],
   "source": [
    "#dfFlagManual['M01'] = [64,173]\n",
    "#dfFlagManual['FLAG'] = ['C02','M02']"
   ]
  },
  {
   "cell_type": "code",
   "execution_count": null,
   "id": "e39443c4",
   "metadata": {},
   "outputs": [],
   "source": [
    "# Visualizamos lso datos M01 en C02\n",
    "dfPrecipitacion[(dfPrecipitacion['FLAG']=='C0000002') & (dfPrecipitacion['PRECIPITACION']<0)]"
   ]
  },
  {
   "cell_type": "code",
   "execution_count": null,
   "id": "e483a4f4",
   "metadata": {},
   "outputs": [],
   "source": [
    "#Realizaremos un resumen de los datos año 2020\n",
    "#Grafico 0 = NO GRAFICO\n",
    "#Grafico 1 = dispersion\n",
    "#Grafico 2 = boxPLot\n",
    "grafico = 0\n",
    "\n",
    "#resultados = resumenStats(path_base,Festaciones,dfPrecipitacion,'Total',grafico)\n",
    "#dfAnalisis = pd.read_csv(f'{path_base}/Archivos/Reportes/Datos/analisis_Total.csv')\n",
    "#dfAnalisis"
   ]
  },
  {
   "cell_type": "code",
   "execution_count": null,
   "id": "17ae459b",
   "metadata": {},
   "outputs": [],
   "source": [
    "\"\"\"\n",
    "---------------------------------------------------------\n",
    "LUEGO DE REALIZAR LA SIMULACION DE CONTROL DE CALIDAD ...\n",
    "---------------------------------------------------------\n",
    "\n",
    "\"\"\"\n",
    "fileV2 = f'{path_base}/Archivos/Dataset/dsFLAGV2.csv'"
   ]
  },
  {
   "cell_type": "code",
   "execution_count": null,
   "id": "f9d045de",
   "metadata": {},
   "outputs": [],
   "source": [
    "# Visualizamos\n",
    "dsCompleto =pd.read_csv(fileV2)\n",
    "dsCompleto.head(5)"
   ]
  },
  {
   "cell_type": "code",
   "execution_count": null,
   "id": "5741ea6b",
   "metadata": {},
   "outputs": [],
   "source": [
    "# Seleccionamos solo lso que vamos a usar (C02 y M02)\n",
    "dsC02_V2 = dsCompleto[dsCompleto['FLAG']=='C0000002']\n",
    "dsM02_V2 = dsCompleto[dsCompleto['FLAG']=='M0000002']\n",
    "dsDUD_V2 = dsCompleto[dsCompleto['FLAG'].isin(['D0230301','D0230303','D0220301'])]"
   ]
  },
  {
   "cell_type": "code",
   "execution_count": null,
   "id": "0172755b-d1f2-4e18-806e-5016fe778ef0",
   "metadata": {},
   "outputs": [],
   "source": [
    "dsCompleto['FLAGV2'].unique()"
   ]
  },
  {
   "cell_type": "code",
   "execution_count": null,
   "id": "f4a865df-4c97-4b58-9f53-0bd7563d1000",
   "metadata": {},
   "outputs": [],
   "source": [
    "_dsTemp = dsCompleto[dsCompleto['FLAGV2'].isin(['D01','D02'])]\n",
    "\n",
    "\n",
    "dsC02_V2 = _dsTemp[_dsTemp['FLAG']=='C0000002']\n",
    "dsM02_V2 = _dsTemp[_dsTemp['FLAG']=='M0000002']\n",
    "dsDUD_V2 = _dsTemp[_dsTemp['FLAG'].isin(['D0230301','D0230303','D0220301'])]\n"
   ]
  },
  {
   "cell_type": "code",
   "execution_count": null,
   "id": "1a6e0984-7b85-489d-97bd-62247a143a87",
   "metadata": {},
   "outputs": [],
   "source": [
    "len(dsC02_V2) / len(_dsTemp) * 100 , len(dsM02_V2) / len(_dsTemp) * 100, len(dsDUD_V2) / len(_dsTemp) * 100"
   ]
  },
  {
   "cell_type": "code",
   "execution_count": null,
   "id": "7b9d6519-11d7-43f7-8989-aea768687cad",
   "metadata": {},
   "outputs": [],
   "source": [
    "len(dsM02_V2) / (len(dsC02_V2) + len(dsM02_V2)) * 100\n"
   ]
  },
  {
   "cell_type": "code",
   "execution_count": null,
   "id": "484e2530",
   "metadata": {},
   "outputs": [],
   "source": [
    "#Revisamos la cantidad de datos por flag\n",
    "dfC2_FlagV2 = dsCompleto.groupby(['FLAGV2'], dropna = False).size().reset_index(name='Cantidad')\n",
    "dfC2_FlagV2['porc'] = dfC2_FlagV2['Cantidad'] / dfC2_FlagV2['Cantidad'].sum() * 100\n",
    "dfC2_FlagV2['text'] = (dfC2_FlagV2['Cantidad']/1000000).apply(lambda x: '{0:1.2f}'.format(x)).astype(str) + 'M' \\\n",
    "                        + ' (' + dfC2_FlagV2['porc'].apply(lambda x: '{0:1.2f}%'.format(x)) + ')'\n",
    "\n",
    "\n",
    "fig = px.bar(dfC2_FlagV2, y='Cantidad', x='FLAGV2', text=dfC2_FlagV2[\"text\"])\n",
    "\n",
    "fig.update_layout(\n",
    "    title={'text' :\"Distribucion de FLAG V2 en el dataset\",\n",
    "           'x':0.5,\n",
    "           'xanchor': 'center'\n",
    "          },\n",
    "    xaxis_title=\"FLAG\",\n",
    "    yaxis_title=\"Cantidad\"\n",
    ")\n",
    "fig.update_traces(textfont_size=12, textangle=0, textposition=\"outside\", cliponaxis=False)\n",
    "fig.show()\n",
    "\n",
    "\"\"\"\n",
    "dsC02_V2['FLAGV2'].hist(legend=True)\n",
    "plt.title('nHISTOGRAMA DE FLAGS V2')\n",
    "plt.show()\n",
    "\n",
    "print('FLAGV2 para datos CONFORME MANUAL (C02)')\n",
    "dfC2_FlagV2\n",
    "\"\"\""
   ]
  },
  {
   "cell_type": "code",
   "execution_count": null,
   "id": "6166585e-6aa8-4400-bb08-be48dbaf9fd7",
   "metadata": {},
   "outputs": [],
   "source": [
    "dsCompletoMan = dsCompleto[dsCompleto['FLAG'].isin(['C0000002','M0000002'])]\n",
    "dsCompletoMan = dsCompletoMan[dsCompletoMan['FLAGV2'].isin(['D01','D02'])]\n",
    "#dsCompletoMan\n",
    "dsCompletoFlag = dsCompletoMan.groupby(['FLAG'], dropna = False).size().reset_index(name='Cantidad')\n",
    "\n",
    "dsCompletoFlag['FLAG'] = ['C02','M02']\n",
    "dsCompletoFlag['Version'] = 'V2'\n",
    "#dsCompletoFlag\n",
    "\n",
    "dfFlagManual = _dfFlag[_dfFlag['FLAG'].isin(['C02','M02'])]\n",
    "dfFlagManual['Version'] = 'V1'\n",
    "dfFlagManual = dfFlagManual[['FLAG','Cantidad','Version']]\n",
    "#dfFlagManual"
   ]
  },
  {
   "cell_type": "code",
   "execution_count": null,
   "id": "e890e797-eac0-4e41-ad98-798cad59eb86",
   "metadata": {},
   "outputs": [],
   "source": [
    "_dfFlagManual = pd.concat([dfFlagManual,dsCompletoFlag], axis=0)\n",
    "_dfFlagManual['text'] = (_dfFlagManual['Cantidad']/1000).apply(lambda x: '{0:1.2f}'.format(x)).astype(str) + 'K'\n",
    "\n",
    "fig = px.bar(_dfFlagManual, y='Cantidad', x='FLAG', text='text', color='Version', barmode='group')\n",
    "\n",
    "fig.update_layout(\n",
    "    title={'text' :\"Flags manuales V1 y V2\",\n",
    "           'x':0.5,\n",
    "           'xanchor': 'center'\n",
    "          },\n",
    "    xaxis_title=\"FLAG\",\n",
    "    yaxis_title=\"Cantidad\"\n",
    ")\n",
    "\n",
    "fig.show()"
   ]
  },
  {
   "cell_type": "code",
   "execution_count": null,
   "id": "a2f8cbf5-fa7d-4577-b373-b7aa1ccc0c61",
   "metadata": {},
   "outputs": [],
   "source": []
  },
  {
   "cell_type": "code",
   "execution_count": null,
   "id": "02ef8dfb",
   "metadata": {},
   "outputs": [],
   "source": [
    "# Analizamos flag V2 para C02\n",
    "dsC02_C01 = dsC02_V2[(dsC02_V2['FLAGV2']=='C01')]\n",
    "dsC02_C01['PRECIPITACION'].hist(legend=True)\n",
    "plt.title('C0000002 -> C01')\n",
    "plt.xlabel('Valor')\n",
    "plt.ylabel('Cantidad')\n",
    "plt.show()\n",
    "\n",
    "dsC02_D01 = dsC02_V2[(dsC02_V2['FLAGV2'].isin(['D01','D02']))]\n",
    "dsC02_D01['PRECIPITACION'].hist(legend=True)\n",
    "plt.title('C0000002 -> D01')\n",
    "plt.xlabel('Valor')\n",
    "plt.ylabel('Cantidad')\n",
    "\n",
    "plt.show()\n",
    "\n",
    "dsC02_NC = dsC02_V2[(dsC02_V2['FLAGV2']=='NC')]\n",
    "dsC02_NC['PRECIPITACION'].hist(legend=True)\n",
    "plt.title('C0000002 -> NC')\n",
    "plt.xlabel('Valor')\n",
    "plt.ylabel('Cantidad')\n",
    "\n",
    "plt.show()\n",
    "\n",
    "dsC02_M01 = dsC02_V2[(dsC02_V2['FLAGV2']=='M01')]\n",
    "dsC02_M01['PRECIPITACION'].hist(legend=True)\n",
    "plt.title('C0000002 -> M01')\n",
    "plt.xlabel('Valor')\n",
    "plt.ylabel('Cantidad')\n",
    "plt.show()"
   ]
  },
  {
   "cell_type": "code",
   "execution_count": null,
   "id": "443a16c9",
   "metadata": {},
   "outputs": [],
   "source": [
    "#Revisamos la cantidad de datos por flag\n",
    "dfM2_FlagV2 = dsM02_V2.groupby(['FLAGV2'], dropna = False).size().reset_index(name='Cantidad')\n",
    "dfM2_FlagV2['porc%'] = dfM2_FlagV2['Cantidad'] / dfM2_FlagV2['Cantidad'].sum() * 100\n",
    "\n",
    "\n",
    "dsM02_V2['FLAGV2'].hist(legend=True)\n",
    "plt.title('nHISTOGRAMA DE FLAGS V2')\n",
    "plt.show()\n",
    "\n",
    "print('FLAGV2 para datos CONFORME MANUAL (M02)')\n",
    "dfM2_FlagV2"
   ]
  },
  {
   "cell_type": "code",
   "execution_count": null,
   "id": "7d88aa22",
   "metadata": {},
   "outputs": [],
   "source": [
    "# Analizamos flag V2 para M02\n",
    "dsM02_C01 = dsM02_V2[(dsM02_V2['FLAGV2']=='C01')]\n",
    "dsM02_C01['PRECIPITACION'].hist(legend=True)\n",
    "plt.title('M0000002 -> C01')\n",
    "plt.xlabel('Valor')\n",
    "plt.ylabel('Cantidad')\n",
    "plt.show()\n",
    "\n",
    "dsM02_D01 = dsM02_V2[(dsM02_V2['FLAGV2'].isin(['D01','D02']))]\n",
    "dsM02_D01['PRECIPITACION'].hist(legend=True)\n",
    "plt.title('M0000002 -> D01')\n",
    "plt.xlabel('Valor')\n",
    "plt.ylabel('Cantidad')\n",
    "\n",
    "plt.show()\n",
    "\n",
    "dsM02_NC = dsM02_V2[(dsM02_V2['FLAGV2']=='NC')]\n",
    "dsM02_NC['PRECIPITACION'].hist(legend=True)\n",
    "plt.title('M0000002 -> NC')\n",
    "plt.xlabel('Valor')\n",
    "plt.ylabel('Cantidad')\n",
    "\n",
    "plt.show()\n",
    "\n",
    "dsM02_M01 = dsM02_V2[(dsM02_V2['FLAGV2']=='M01')]\n",
    "dsM02_M01['PRECIPITACION'].hist(legend=True)\n",
    "plt.title('M0000002 -> M01')\n",
    "plt.xlabel('Valor')\n",
    "plt.ylabel('Cantidad')\n",
    "plt.show()"
   ]
  },
  {
   "cell_type": "code",
   "execution_count": null,
   "id": "908d8c5a",
   "metadata": {},
   "outputs": [],
   "source": []
  }
 ],
 "metadata": {
  "kernelspec": {
   "display_name": "Python 3 (ipykernel)",
   "language": "python",
   "name": "python3"
  },
  "language_info": {
   "codemirror_mode": {
    "name": "ipython",
    "version": 3
   },
   "file_extension": ".py",
   "mimetype": "text/x-python",
   "name": "python",
   "nbconvert_exporter": "python",
   "pygments_lexer": "ipython3",
   "version": "3.9.11"
  }
 },
 "nbformat": 4,
 "nbformat_minor": 5
}
