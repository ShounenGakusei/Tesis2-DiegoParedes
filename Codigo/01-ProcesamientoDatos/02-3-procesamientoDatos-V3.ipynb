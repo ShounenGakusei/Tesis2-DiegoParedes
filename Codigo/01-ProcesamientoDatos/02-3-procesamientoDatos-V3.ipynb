{
 "cells": [
  {
   "cell_type": "code",
   "execution_count": 6,
   "id": "e91fd014",
   "metadata": {},
   "outputs": [],
   "source": [
    "\"\"\"\n",
    "OBJETIVO : Seleccionar una muestra de datos para el entrenamiento. Este proceso se realiza por cada \n",
    "            modelo (Regresion y clasifiacion). Ademas, se realiza una limpieza de datos, y se divide\n",
    "            el DS para lso modelos de clasifiacion, para asi balancear las calses.\n",
    "TERMINOS:\n",
    "- REG = Regresion\n",
    "- CLAS = Clasifiacion\n",
    "- EST = Seleccion por Estaciones\n",
    "- DUD = Solo datos dusosos en flag V2\n",
    "   \n",
    "V3: Se va separar los datos cada 24 horas desed el medio dia\n",
    "\"\"\"\n",
    "Autor='Diego Paredes'"
   ]
  },
  {
   "cell_type": "code",
   "execution_count": 1,
   "id": "df4b9330",
   "metadata": {},
   "outputs": [],
   "source": [
    "# Leer imagenes satelitales (.nc) \n",
    "from netCDF4 import Dataset, num2date\n",
    "\n",
    "# Graficos y visualizaciones\n",
    "import cartopy.crs as ccrs\n",
    "import cartopy.feature as cfw\n",
    "import matplotlib.pyplot as plt\n",
    "import plotly.express as px\n",
    "\n",
    "# Liberias para manejo de datos\n",
    "from sklearn.utils import shuffle\n",
    "from sklearn.model_selection import train_test_split\n",
    "import pandas as pd\n",
    "import numpy as np\n",
    "\n",
    "# Liberias estandar\n",
    "import re\n",
    "import time\n",
    "import os\n",
    "import datetime"
   ]
  },
  {
   "cell_type": "code",
   "execution_count": 2,
   "id": "70311502",
   "metadata": {},
   "outputs": [
    {
     "data": {
      "text/plain": [
       "'C:/Users/Shounen/Desktop/Ciclo XI/Tesis 2/FinalTesis/Tesis2-DiegoParedes'"
      ]
     },
     "execution_count": 2,
     "metadata": {},
     "output_type": "execute_result"
    }
   ],
   "source": [
    "\"\"\"\n",
    "DEFINIMOS EL PATH DEL PROYECTO \n",
    "\"\"\"\n",
    "with open('../../path_base.txt') as f:\n",
    "    path_base = f.read()\n",
    "path_base"
   ]
  },
  {
   "cell_type": "code",
   "execution_count": 3,
   "id": "caf93a80",
   "metadata": {},
   "outputs": [],
   "source": [
    "\"\"\"\n",
    "Variables generales\n",
    "\"\"\"\n",
    "path_imagenes = 'F:/GOES/' \n",
    "\n",
    "dsName = 'dsCompletoPP_V2'\n",
    "listDataset = [f'{path_base}/Archivos/Dataset/Clasificacion/ClaseV2_CompletoDS.csv']           \n",
    "\n",
    "#Variables generales\n",
    "products = ['C07','C08','C13']\n",
    "times   = ['10','20','30','40','50','00']\n"
   ]
  },
  {
   "cell_type": "code",
   "execution_count": 4,
   "id": "3c4fe832",
   "metadata": {},
   "outputs": [],
   "source": [
    "# Filtra por flags (V1, V2)\n",
    "def limpiarDatos(listNames, path_imagenes, p, read=True):    \n",
    "    df = []\n",
    "    start_time = time.time()\n",
    "    print(f'Se leera los archivos de datasets...')\n",
    "    if read:\n",
    "        for name in listNames:\n",
    "            try:\n",
    "                df.append(pd.read_csv(name))   \n",
    "            except:\n",
    "                print(f'No se pudo leer el archivo {name} de dataset')\n",
    "                return -1\n",
    "\n",
    "        if len(df)>1:\n",
    "            dsCompleto =  pd.concat(df, ignore_index=True) \n",
    "        else:\n",
    "            dsCompleto =  df[0]\n",
    "    else:\n",
    "        dsCompleto = listNames\n",
    "        \n",
    "        \n",
    "    print(\"Tiempo tomado: %.2fs\" % (time.time() - start_time))\n",
    "    print(f'+Cantidad de datos leidos {len(dsCompleto)}')\n",
    "    \n",
    "    # Quitamos los NA valores, negativos y mayores a 400\n",
    "    print(f'\\nSe elimnara los valores nulos y dudosos')\n",
    "    dsCompleto.dropna(subset=['dato'], axis='index', inplace=True)    \n",
    "    dsCompleto = dsCompleto[dsCompleto['flag']!='ND']\n",
    "    dsCompleto = dsCompleto[dsCompleto['dato']>=0]\n",
    "    dsCompleto = dsCompleto[dsCompleto['dato']<400]\n",
    "    print(\"Tiempo tomado: %.2fs\" % (time.time() - start_time))\n",
    "    print(f'+Cantidad de datos luego de elimnar nulos {len(dsCompleto)}')\n",
    "    \n",
    "    if p['menor']:\n",
    "        dsCompleto = dsCompleto[(dsCompleto['dato']>p['menor'])]   \n",
    "    \n",
    "    if p['mayor']:\n",
    "        dsCompleto = dsCompleto[(dsCompleto['dato']<p['mayor'])]   \n",
    "    \n",
    "    \n",
    "    # Seleccionamos FLAGS\n",
    "    if not p['ceros']:\n",
    "        dsCompleto = dsCompleto[~(dsCompleto['dato']==0)]    \n",
    "        \n",
    "    if p['flags']:\n",
    "        dsCompleto = dsCompleto[dsCompleto['flag'].isin(p['flags'])]    \n",
    "    if p['flagV2']:\n",
    "        dsCompleto = dsCompleto[dsCompleto['flagV2'].isin(p['flagV2'])]                   \n",
    "                             \n",
    "    print(f'-------> CANTIDAD FINAL DE DATOS :  {len(dsCompleto)} <--------------')  \n",
    "    print(\"Tiempo total: %.2fs\" % (time.time() - start_time))\n",
    "    return shuffle(dsCompleto)"
   ]
  },
  {
   "cell_type": "code",
   "execution_count": 35,
   "id": "25cfdacb",
   "metadata": {},
   "outputs": [],
   "source": [
    "# Separa el df en tres grupos (0, entre 0 y 1, mayor a 1) y luego escoje un porcentaje (porc) de cada uno\n",
    "# V3 : Se va dividr ademas por fecha para evitar que grupos de precipitaciones extremas aparezcan en diferentes datasets \n",
    "def getBalancedDataset(df_completo, porc, p):\n",
    "    niv_sep = p['niv_prec']\n",
    "    stratify = p['stratify']\n",
    "    col_prec = p['col_prec']\n",
    "    random_state = p['random_state']\n",
    "    \n",
    "    if p['redTipo'] == 'Regresion':  \n",
    "        \n",
    "        return train_test_split(df_completo, test_size=porc, shuffle=True, random_state=random_state)\n",
    "    \n",
    "    # Separamos por index\n",
    "    df = df_completo.groupby(p['index']).max()\n",
    "    listP = []\n",
    "    listT = []        \n",
    "    \n",
    "    # Separamos por nivel de preciptiacion\n",
    "    df[col_prec] = (df[col_prec]<=niv_sep).astype(int)\n",
    "    df['stratify'] =  df[stratify].astype(str) + df[col_prec].astype(str)\n",
    "    dfTrain, dfPrueba =  train_test_split(df, test_size=porc, shuffle=True, stratify=df['stratify'],random_state=random_state)\n",
    "    \n",
    "          \n",
    "    dfTrain = df_completo[df_completo[p['index']].isin(dfTrain.index)]\n",
    "    dfPrueba = df_completo[df_completo[p['index']].isin(dfPrueba.index)]\n",
    "    \n",
    "    return dfTrain, dfPrueba    "
   ]
  },
  {
   "cell_type": "code",
   "execution_count": 37,
   "id": "19220ebe",
   "metadata": {},
   "outputs": [],
   "source": [
    "# Se para un dataset (listNames) en pruebas, validacion y entrenamiento\n",
    "def getModelo_DS(listNames, path_imagenes, p,comentario='', read=True):\n",
    "    print(f'Tipo de dataset: {p[\"redTipo\"]}')\n",
    "    # Limpiamos en dataset    \n",
    "    #dfLimpio = pd.read_csv(listNames[0])\n",
    "    dfLimpio = limpiarDatos(listNames, path_imagenes, p, read)    \n",
    "    dfLimpio.to_csv(f'{p[\"path_base\"]}/Archivos/Dataset/{p[\"redTipo\"]}/{p[\"nameDS\"]}_CompletoDS.csv')\n",
    "    \n",
    "    if p['estaciones']:\n",
    "        print(f'Se quitara del DS {len(p[\"estaciones\"])} estaciones')\n",
    "        dfLimpio = dfLimpio[~dfLimpio['codigo'].isin(p['estaciones'])]\n",
    "    \n",
    "    if p['redTipo'] == 'Clasificacion':\n",
    "        dfLimpio[p['claseName']] = (dfLimpio[p['condicion_1'][0]]==p['condicion_1'][1]).astype(int) \n",
    "        \n",
    "        if p['fixed_hour']:\n",
    "            dfLimpio = fix_index_station(dfLimpio, fix_hour=p['fixed_hour'])\n",
    "        \n",
    "    \n",
    "    # Separamos los datasets (entrenamiento, validacion y test)    \n",
    "    _dsTrain, _dsValid = getBalancedDataset(dfLimpio,p['validacion'], p) \n",
    "    _dsTrain, _dsTest =  getBalancedDataset(_dsTrain, p['pruebas'], p) \n",
    "    \n",
    "    # Guardamos los archivos    \n",
    "    _dsTest.to_csv(f'{p[\"path_base\"]}/Archivos/Dataset/{p[\"redTipo\"]}/Pruebas/{p[\"nameDS\"]}_PruebasDS.csv')\n",
    "    _dsValid.to_csv(f'{p[\"path_base\"]}/Archivos/Dataset/{p[\"redTipo\"]}/Validacion/{p[\"nameDS\"]}_ValidacionDS.csv')\n",
    "    _dsTrain.to_csv(f'{p[\"path_base\"]}/Archivos/Dataset/{p[\"redTipo\"]}/Entrenamiento/{p[\"nameDS\"]}_TrainDS.csv')\n",
    "    \n",
    "    print('Tamaño de los datasets: ')\n",
    "    print(f\"TRAIN   : {len(_dsTrain)} - {len(_dsTrain)/len(dfLimpio)*100} - {_dsTrain['flag'].value_counts() / len(_dsTrain)}\")\n",
    "    print(f\"VALID   : {len(_dsValid)} - {len(_dsValid)/len(dfLimpio)*100} - {_dsValid['flag'].value_counts() / len(_dsValid)}\")\n",
    "    print(f\"PRUEBAS : {len(_dsTest)}  - {len(_dsTest)/len(dfLimpio)*100} - {_dsTest['flag'].value_counts() / len(_dsTest)}\")\n",
    "\n",
    "    # Guardamos el comentario (Informacion de lso datasets)\n",
    "\n",
    "    with open(f'{p[\"path_base\"]}/Archivos/Dataset/{p[\"redTipo\"]}/{p[\"nameDS\"]}_comentario.txt', 'w') as file:\n",
    "        file.write(f'Archivos iniciales que se uso : {str(listNames)}\\n')\n",
    "        file.write(comentario)\n",
    "        file.write(' A continuacion se muestra los parametros que se usaron:\\n')        \n",
    "        file.write(str(p))\n",
    "    statsDS(dfLimpio, p['nameDS'], tipo=p[\"redTipo\"])\n",
    "    visualizarEstaciones(dfLimpio, name = p['nameDS'],imagenTest='')\n",
    "    return dfLimpio, _dsTrain, _dsValid, _dsTest"
   ]
  },
  {
   "cell_type": "code",
   "execution_count": 7,
   "id": "756cc730",
   "metadata": {},
   "outputs": [],
   "source": [
    "# Grafica las estaciones meteorologicas del df en un mapa del Perú.\n",
    "def visualizarEstaciones(df, name = '',imagenTest='', xCode=True, row='codigo'):\n",
    "    if not imagenTest:\n",
    "        imagenTest = 'D:/GOES/C08/2020/01/G16_C08_Cyl_20200101-0020.nc'\n",
    "    \n",
    "    ds = Dataset(imagenTest)\n",
    "    field = ds.variables['CMI'][:].data.astype(np.float32)/100.0\n",
    "\n",
    "    # obtiene las coordenadas de los pixeles\n",
    "    lons = ds.variables['longitude'][:].data\n",
    "    lats = ds.variables['latitude'][:].data\n",
    "    #lons, lats = np.meshgrid(lons, lats)\n",
    "    \n",
    "    Festaciones = f'{path_base}/Archivos/Inicial/estaciones.csv'\n",
    "    dfEstaciones = pd.read_csv(Festaciones)\n",
    "    dfCod = df[row].unique()\n",
    "    dfCod = pd.DataFrame({row:dfCod.tolist()})\n",
    "\n",
    "    #Graficomos las estaciones para el ds de regresion\n",
    "    ax = plt.axes(projection=ccrs.PlateCarree())\n",
    "    plt.title(f'{name} - Peru ({len(dfCod)} estaciones)')\n",
    "    ax.set_extent([lons.min(), lons.max(), lats.min(),lats.max()], ccrs.PlateCarree())\n",
    "\n",
    "    for x in dfCod.index:\n",
    "        if xCode:\n",
    "            st = dfEstaciones[dfEstaciones['CODE'] == f'X{dfCod[row][x]}']\n",
    "        else:\n",
    "            st = dfEstaciones[dfEstaciones['CODE'] == f'{dfCod[row][x]}']    \n",
    "        if not st.empty:    \n",
    "            x = st['LON']#.iloc[0]\n",
    "            y = st['LAT']#.iloc[0]\n",
    "            plt.plot(x, y,  1, marker='o', color='red',alpha=0.45)    \n",
    "\n",
    "    ax.coastlines(resolution='110m')\n",
    "    \n",
    "    plt.savefig(f'{path_base}/Archivos/Reportes/Plots/MAPA_{name}.png')\n",
    "    plt.show()"
   ]
  },
  {
   "cell_type": "code",
   "execution_count": 8,
   "id": "04d27b32",
   "metadata": {},
   "outputs": [],
   "source": [
    "# Estadisticas de un df\n",
    "def statsDS(df, name='ds', tipo='Clasificacion'):    \n",
    "    print(f'           ESTADISCIAS DEL {name} \\n')  \n",
    "    print(f'Flags       : {df[\"flag\"].unique()}')\n",
    "    print(f'Estaciones  : {len(df[\"codigo\"].unique())}')\n",
    "    print(f'Totales     : {df[\"dato\"].count()}')\n",
    "    print(f'Ceros       : {df[df[\"dato\"]==0][\"dato\"].count()}')    \n",
    "    if tipo=='Regresion':\n",
    "        print(f'Menor a 1   : {df[df[\"dato\"]<1][\"dato\"].count()}')\n",
    "        print(f'Mayor a 1   : {df[df[\"dato\"]>1][\"dato\"].count()}')\n",
    "    else:\n",
    "        print(f'Clase 0(M02): {df[df[\"flag\"]==\"M0000002\"][\"dato\"].count() / len(df) * 100} - {df[df[\"flag\"]==\"M0000002\"][\"dato\"].count()}')\n",
    "        print(f'Clase 1(C02): {df[df[\"flag\"]==\"C0000002\"][\"dato\"].count() / len(df) * 100} - {df[df[\"flag\"]==\"C0000002\"][\"dato\"].count()}')\n",
    "    print(f'Maximo      : {df[\"dato\"].max()}')\n",
    "    print(f'Media       : {df[\"dato\"].mean()}')\n",
    "    print(f'STD         : {df[\"dato\"].std()}')\n",
    "\n",
    "    #_dataset[_dataset[\"dato\"]!=0][\"dato\"].hist(legend=True)\n",
    "    #_dataset[_dataset[\"dato\"]>1][\"dato\"].hist(legend=True)\n",
    "    if tipo=='Clasificacion':\n",
    "        df['flag'].hist(legend=True)\n",
    "        plt.xlabel('FLAG')\n",
    "        plt.ylabel('Cantidad')\n",
    "        plt.title('Histograma de FLAG')\n",
    "    else:\n",
    "        df['dato'].hist(legend=True)   \n",
    "        plt.xlabel('Valor')\n",
    "        plt.ylabel('Cantidad')\n",
    "        plt.title('Histograma de Precipitacion')\n",
    "    plt.show()"
   ]
  },
  {
   "cell_type": "code",
   "execution_count": 9,
   "id": "bd4378d2",
   "metadata": {},
   "outputs": [],
   "source": [
    "def dif_strDate(str1,str2, format='%Y-%m-%d-%H', fix_hour='10'):\n",
    "    str1 = str1[:-3] + '-'+fix_hour\n",
    "    date1= datetime.datetime.strptime(str1, format)\n",
    "    date2= datetime.datetime.strptime(str2, format)\n",
    "    \n",
    "    return (date1-date2).days"
   ]
  },
  {
   "cell_type": "code",
   "execution_count": 10,
   "id": "4d67cc12",
   "metadata": {},
   "outputs": [],
   "source": [
    "def fix_index_station(df, fix_hour='10'):    \n",
    "    # Agrupamos por estaciones\n",
    "    list_df = []\n",
    "    for st in df['codigo'].unique():\n",
    "        # Agrupamos por rango de fecha        \n",
    "        df_st = df[df['codigo']==st].sort_values(by='fecha', ascending=True).reset_index().copy()\n",
    "        init_date = df_st.iloc[0]['fecha']\n",
    "        init_index = 0\n",
    "        index_grouped = []        \n",
    "        exist_m2 = 1\n",
    "        for i in df_st.index:\n",
    "            now_date = df_st.iloc[i]['fecha']\n",
    "            exist_m2 = df_st.iloc[i]['clase']  * exist_m2\n",
    "            # Pasamos al siguiente grupo\n",
    "            if dif_strDate(now_date,init_date,fix_hour=fix_hour)>0:\n",
    "                init_date = now_date\n",
    "                init_index =init_index+ 1\n",
    "                exist_m2 = 1\n",
    "            index_grouped.append(f'{st}-{init_index}')\n",
    "            \n",
    "        df_st['index_st_group'] = index_grouped\n",
    "        df_st['flag_m2_group'] = 0 if exist_m2 else 1\n",
    "        list_df.append(df_st)\n",
    "    return pd.concat(list_df, axis=0)"
   ]
  },
  {
   "cell_type": "code",
   "execution_count": 16,
   "id": "1c5b65a5",
   "metadata": {},
   "outputs": [],
   "source": [
    "df_temp = pd.read_csv(listDataset[0])"
   ]
  },
  {
   "cell_type": "code",
   "execution_count": 7,
   "id": "7f569f16",
   "metadata": {},
   "outputs": [
    {
     "data": {
      "text/plain": [
       "7755"
      ]
     },
     "execution_count": 7,
     "metadata": {},
     "output_type": "execute_result"
    }
   ],
   "source": [
    "df_temp['fecha'].nunique()"
   ]
  },
  {
   "cell_type": "code",
   "execution_count": 14,
   "id": "8515aa9e",
   "metadata": {},
   "outputs": [
    {
     "data": {
      "text/plain": [
       "43270"
      ]
     },
     "execution_count": 14,
     "metadata": {},
     "output_type": "execute_result"
    }
   ],
   "source": [
    "len(df_temp)"
   ]
  },
  {
   "cell_type": "code",
   "execution_count": 15,
   "id": "5d444a81",
   "metadata": {},
   "outputs": [
    {
     "data": {
      "text/html": [
       "<div>\n",
       "<style scoped>\n",
       "    .dataframe tbody tr th:only-of-type {\n",
       "        vertical-align: middle;\n",
       "    }\n",
       "\n",
       "    .dataframe tbody tr th {\n",
       "        vertical-align: top;\n",
       "    }\n",
       "\n",
       "    .dataframe thead th {\n",
       "        text-align: right;\n",
       "    }\n",
       "</style>\n",
       "<table border=\"1\" class=\"dataframe\">\n",
       "  <thead>\n",
       "    <tr style=\"text-align: right;\">\n",
       "      <th></th>\n",
       "      <th>Unnamed: 0</th>\n",
       "      <th>nombre</th>\n",
       "      <th>codigo</th>\n",
       "      <th>XO</th>\n",
       "      <th>XA</th>\n",
       "      <th>longitud</th>\n",
       "      <th>latitud</th>\n",
       "      <th>altura</th>\n",
       "      <th>dato</th>\n",
       "      <th>90%</th>\n",
       "      <th>99%</th>\n",
       "      <th>75%</th>\n",
       "      <th>umb1</th>\n",
       "      <th>umb2</th>\n",
       "      <th>fecha</th>\n",
       "      <th>flagV2</th>\n",
       "      <th>imagen</th>\n",
       "    </tr>\n",
       "    <tr>\n",
       "      <th>flag</th>\n",
       "      <th></th>\n",
       "      <th></th>\n",
       "      <th></th>\n",
       "      <th></th>\n",
       "      <th></th>\n",
       "      <th></th>\n",
       "      <th></th>\n",
       "      <th></th>\n",
       "      <th></th>\n",
       "      <th></th>\n",
       "      <th></th>\n",
       "      <th></th>\n",
       "      <th></th>\n",
       "      <th></th>\n",
       "      <th></th>\n",
       "      <th></th>\n",
       "      <th></th>\n",
       "    </tr>\n",
       "  </thead>\n",
       "  <tbody>\n",
       "    <tr>\n",
       "      <th>C0000002</th>\n",
       "      <td>50032</td>\n",
       "      <td>SANTA CLOTILDE</td>\n",
       "      <td>47271776</td>\n",
       "      <td>548</td>\n",
       "      <td>215</td>\n",
       "      <td>-73.67925</td>\n",
       "      <td>-2.48757</td>\n",
       "      <td>150.0</td>\n",
       "      <td>31.2</td>\n",
       "      <td>0.3</td>\n",
       "      <td>9.936</td>\n",
       "      <td>0.0</td>\n",
       "      <td>0.6</td>\n",
       "      <td>6.6</td>\n",
       "      <td>2021-09-01-18</td>\n",
       "      <td>D02</td>\n",
       "      <td>548--215--2021-09-01-18</td>\n",
       "    </tr>\n",
       "    <tr>\n",
       "      <th>M0000002</th>\n",
       "      <td>50060</td>\n",
       "      <td>SANTA CLOTILDE</td>\n",
       "      <td>47271776</td>\n",
       "      <td>548</td>\n",
       "      <td>215</td>\n",
       "      <td>-73.67925</td>\n",
       "      <td>-2.48757</td>\n",
       "      <td>150.0</td>\n",
       "      <td>35.7</td>\n",
       "      <td>0.3</td>\n",
       "      <td>9.936</td>\n",
       "      <td>0.0</td>\n",
       "      <td>0.6</td>\n",
       "      <td>6.6</td>\n",
       "      <td>2021-10-31-23</td>\n",
       "      <td>D02</td>\n",
       "      <td>548--215--2021-10-31-23</td>\n",
       "    </tr>\n",
       "  </tbody>\n",
       "</table>\n",
       "</div>"
      ],
      "text/plain": [
       "          Unnamed: 0          nombre    codigo   XO   XA  longitud  latitud  \\\n",
       "flag                                                                          \n",
       "C0000002       50032  SANTA CLOTILDE  47271776  548  215 -73.67925 -2.48757   \n",
       "M0000002       50060  SANTA CLOTILDE  47271776  548  215 -73.67925 -2.48757   \n",
       "\n",
       "          altura  dato  90%    99%  75%  umb1  umb2          fecha flagV2  \\\n",
       "flag                                                                        \n",
       "C0000002   150.0  31.2  0.3  9.936  0.0   0.6   6.6  2021-09-01-18    D02   \n",
       "M0000002   150.0  35.7  0.3  9.936  0.0   0.6   6.6  2021-10-31-23    D02   \n",
       "\n",
       "                           imagen  \n",
       "flag                               \n",
       "C0000002  548--215--2021-09-01-18  \n",
       "M0000002  548--215--2021-10-31-23  "
      ]
     },
     "execution_count": 15,
     "metadata": {},
     "output_type": "execute_result"
    }
   ],
   "source": [
    "df_temp[df_temp['codigo']=='47271776'].groupby('flag').max()"
   ]
  },
  {
   "cell_type": "code",
   "execution_count": 16,
   "id": "dd8795cb",
   "metadata": {},
   "outputs": [
    {
     "data": {
      "text/html": [
       "<div>\n",
       "<style scoped>\n",
       "    .dataframe tbody tr th:only-of-type {\n",
       "        vertical-align: middle;\n",
       "    }\n",
       "\n",
       "    .dataframe tbody tr th {\n",
       "        vertical-align: top;\n",
       "    }\n",
       "\n",
       "    .dataframe thead th {\n",
       "        text-align: right;\n",
       "    }\n",
       "</style>\n",
       "<table border=\"1\" class=\"dataframe\">\n",
       "  <thead>\n",
       "    <tr style=\"text-align: right;\">\n",
       "      <th></th>\n",
       "      <th>Unnamed: 0</th>\n",
       "      <th>nombre</th>\n",
       "      <th>codigo</th>\n",
       "      <th>XO</th>\n",
       "      <th>XA</th>\n",
       "      <th>longitud</th>\n",
       "      <th>latitud</th>\n",
       "      <th>altura</th>\n",
       "      <th>dato</th>\n",
       "      <th>90%</th>\n",
       "      <th>99%</th>\n",
       "      <th>75%</th>\n",
       "      <th>umb1</th>\n",
       "      <th>umb2</th>\n",
       "      <th>fecha</th>\n",
       "      <th>flag</th>\n",
       "      <th>imagen</th>\n",
       "    </tr>\n",
       "    <tr>\n",
       "      <th>flagV2</th>\n",
       "      <th></th>\n",
       "      <th></th>\n",
       "      <th></th>\n",
       "      <th></th>\n",
       "      <th></th>\n",
       "      <th></th>\n",
       "      <th></th>\n",
       "      <th></th>\n",
       "      <th></th>\n",
       "      <th></th>\n",
       "      <th></th>\n",
       "      <th></th>\n",
       "      <th></th>\n",
       "      <th></th>\n",
       "      <th></th>\n",
       "      <th></th>\n",
       "      <th></th>\n",
       "    </tr>\n",
       "  </thead>\n",
       "  <tbody>\n",
       "    <tr>\n",
       "      <th>C01</th>\n",
       "      <td>8588</td>\n",
       "      <td>8588</td>\n",
       "      <td>8588</td>\n",
       "      <td>8588</td>\n",
       "      <td>8588</td>\n",
       "      <td>8588</td>\n",
       "      <td>8588</td>\n",
       "      <td>8588</td>\n",
       "      <td>8588</td>\n",
       "      <td>8588</td>\n",
       "      <td>8588</td>\n",
       "      <td>8588</td>\n",
       "      <td>8588</td>\n",
       "      <td>8588</td>\n",
       "      <td>8588</td>\n",
       "      <td>8588</td>\n",
       "      <td>8588</td>\n",
       "    </tr>\n",
       "    <tr>\n",
       "      <th>D01</th>\n",
       "      <td>11544</td>\n",
       "      <td>11544</td>\n",
       "      <td>11544</td>\n",
       "      <td>11544</td>\n",
       "      <td>11544</td>\n",
       "      <td>11544</td>\n",
       "      <td>11544</td>\n",
       "      <td>11544</td>\n",
       "      <td>11544</td>\n",
       "      <td>11544</td>\n",
       "      <td>11544</td>\n",
       "      <td>11544</td>\n",
       "      <td>11544</td>\n",
       "      <td>11544</td>\n",
       "      <td>11544</td>\n",
       "      <td>11544</td>\n",
       "      <td>11544</td>\n",
       "    </tr>\n",
       "    <tr>\n",
       "      <th>D02</th>\n",
       "      <td>20336</td>\n",
       "      <td>20336</td>\n",
       "      <td>20336</td>\n",
       "      <td>20336</td>\n",
       "      <td>20336</td>\n",
       "      <td>20336</td>\n",
       "      <td>20336</td>\n",
       "      <td>20336</td>\n",
       "      <td>20336</td>\n",
       "      <td>20336</td>\n",
       "      <td>20336</td>\n",
       "      <td>20336</td>\n",
       "      <td>20336</td>\n",
       "      <td>20336</td>\n",
       "      <td>20336</td>\n",
       "      <td>20336</td>\n",
       "      <td>20336</td>\n",
       "    </tr>\n",
       "  </tbody>\n",
       "</table>\n",
       "</div>"
      ],
      "text/plain": [
       "        Unnamed: 0  nombre  codigo     XO     XA  longitud  latitud  altura  \\\n",
       "flagV2                                                                        \n",
       "C01           8588    8588    8588   8588   8588      8588     8588    8588   \n",
       "D01          11544   11544   11544  11544  11544     11544    11544   11544   \n",
       "D02          20336   20336   20336  20336  20336     20336    20336   20336   \n",
       "\n",
       "         dato    90%    99%    75%   umb1   umb2  fecha   flag  imagen  \n",
       "flagV2                                                                  \n",
       "C01      8588   8588   8588   8588   8588   8588   8588   8588    8588  \n",
       "D01     11544  11544  11544  11544  11544  11544  11544  11544   11544  \n",
       "D02     20336  20336  20336  20336  20336  20336  20336  20336   20336  "
      ]
     },
     "execution_count": 16,
     "metadata": {},
     "output_type": "execute_result"
    }
   ],
   "source": [
    "df_goods = df_temp[df_temp['flag']=='C0000002']\n",
    "df_goods.groupby('flagV2').count()"
   ]
  },
  {
   "cell_type": "code",
   "execution_count": 17,
   "id": "9cdc621f",
   "metadata": {},
   "outputs": [
    {
     "data": {
      "text/plain": [
       "34"
      ]
     },
     "execution_count": 17,
     "metadata": {},
     "output_type": "execute_result"
    }
   ],
   "source": [
    "df_bads = df_temp[df_temp['flag']=='M0000002']\n",
    "df_bads['codigo'].nunique()"
   ]
  },
  {
   "cell_type": "code",
   "execution_count": 18,
   "id": "215a7323",
   "metadata": {},
   "outputs": [
    {
     "data": {
      "text/html": [
       "<div>\n",
       "<style scoped>\n",
       "    .dataframe tbody tr th:only-of-type {\n",
       "        vertical-align: middle;\n",
       "    }\n",
       "\n",
       "    .dataframe tbody tr th {\n",
       "        vertical-align: top;\n",
       "    }\n",
       "\n",
       "    .dataframe thead th {\n",
       "        text-align: right;\n",
       "    }\n",
       "</style>\n",
       "<table border=\"1\" class=\"dataframe\">\n",
       "  <thead>\n",
       "    <tr style=\"text-align: right;\">\n",
       "      <th></th>\n",
       "      <th>Unnamed: 0</th>\n",
       "      <th>nombre</th>\n",
       "      <th>codigo</th>\n",
       "      <th>XO</th>\n",
       "      <th>XA</th>\n",
       "      <th>longitud</th>\n",
       "      <th>latitud</th>\n",
       "      <th>altura</th>\n",
       "      <th>dato</th>\n",
       "      <th>90%</th>\n",
       "      <th>99%</th>\n",
       "      <th>75%</th>\n",
       "      <th>umb1</th>\n",
       "      <th>umb2</th>\n",
       "      <th>fecha</th>\n",
       "      <th>flag</th>\n",
       "      <th>imagen</th>\n",
       "    </tr>\n",
       "    <tr>\n",
       "      <th>flagV2</th>\n",
       "      <th></th>\n",
       "      <th></th>\n",
       "      <th></th>\n",
       "      <th></th>\n",
       "      <th></th>\n",
       "      <th></th>\n",
       "      <th></th>\n",
       "      <th></th>\n",
       "      <th></th>\n",
       "      <th></th>\n",
       "      <th></th>\n",
       "      <th></th>\n",
       "      <th></th>\n",
       "      <th></th>\n",
       "      <th></th>\n",
       "      <th></th>\n",
       "      <th></th>\n",
       "    </tr>\n",
       "  </thead>\n",
       "  <tbody>\n",
       "    <tr>\n",
       "      <th>C01</th>\n",
       "      <td>2306</td>\n",
       "      <td>2306</td>\n",
       "      <td>2306</td>\n",
       "      <td>2306</td>\n",
       "      <td>2306</td>\n",
       "      <td>2306</td>\n",
       "      <td>2306</td>\n",
       "      <td>2306</td>\n",
       "      <td>2306</td>\n",
       "      <td>2306</td>\n",
       "      <td>2306</td>\n",
       "      <td>2306</td>\n",
       "      <td>2306</td>\n",
       "      <td>2306</td>\n",
       "      <td>2306</td>\n",
       "      <td>2306</td>\n",
       "      <td>2306</td>\n",
       "    </tr>\n",
       "    <tr>\n",
       "      <th>D01</th>\n",
       "      <td>238</td>\n",
       "      <td>238</td>\n",
       "      <td>238</td>\n",
       "      <td>238</td>\n",
       "      <td>238</td>\n",
       "      <td>238</td>\n",
       "      <td>238</td>\n",
       "      <td>238</td>\n",
       "      <td>238</td>\n",
       "      <td>238</td>\n",
       "      <td>238</td>\n",
       "      <td>238</td>\n",
       "      <td>238</td>\n",
       "      <td>238</td>\n",
       "      <td>238</td>\n",
       "      <td>238</td>\n",
       "      <td>238</td>\n",
       "    </tr>\n",
       "    <tr>\n",
       "      <th>D02</th>\n",
       "      <td>258</td>\n",
       "      <td>258</td>\n",
       "      <td>258</td>\n",
       "      <td>258</td>\n",
       "      <td>258</td>\n",
       "      <td>258</td>\n",
       "      <td>258</td>\n",
       "      <td>258</td>\n",
       "      <td>258</td>\n",
       "      <td>258</td>\n",
       "      <td>258</td>\n",
       "      <td>258</td>\n",
       "      <td>258</td>\n",
       "      <td>258</td>\n",
       "      <td>258</td>\n",
       "      <td>258</td>\n",
       "      <td>258</td>\n",
       "    </tr>\n",
       "  </tbody>\n",
       "</table>\n",
       "</div>"
      ],
      "text/plain": [
       "        Unnamed: 0  nombre  codigo    XO    XA  longitud  latitud  altura  \\\n",
       "flagV2                                                                      \n",
       "C01           2306    2306    2306  2306  2306      2306     2306    2306   \n",
       "D01            238     238     238   238   238       238      238     238   \n",
       "D02            258     258     258   258   258       258      258     258   \n",
       "\n",
       "        dato   90%   99%   75%  umb1  umb2  fecha  flag  imagen  \n",
       "flagV2                                                           \n",
       "C01     2306  2306  2306  2306  2306  2306   2306  2306    2306  \n",
       "D01      238   238   238   238   238   238    238   238     238  \n",
       "D02      258   258   258   258   258   258    258   258     258  "
      ]
     },
     "execution_count": 18,
     "metadata": {},
     "output_type": "execute_result"
    }
   ],
   "source": [
    "df_bads.groupby('flagV2').count()"
   ]
  },
  {
   "cell_type": "code",
   "execution_count": 19,
   "id": "655aa630",
   "metadata": {},
   "outputs": [],
   "source": [
    "df_bads_c1 = df_bads[df_bads['flagV2']=='C01']"
   ]
  },
  {
   "cell_type": "code",
   "execution_count": 20,
   "id": "9b2bff8f",
   "metadata": {},
   "outputs": [
    {
     "data": {
      "text/html": [
       "<div>\n",
       "<style scoped>\n",
       "    .dataframe tbody tr th:only-of-type {\n",
       "        vertical-align: middle;\n",
       "    }\n",
       "\n",
       "    .dataframe tbody tr th {\n",
       "        vertical-align: top;\n",
       "    }\n",
       "\n",
       "    .dataframe thead th {\n",
       "        text-align: right;\n",
       "    }\n",
       "</style>\n",
       "<table border=\"1\" class=\"dataframe\">\n",
       "  <thead>\n",
       "    <tr style=\"text-align: right;\">\n",
       "      <th></th>\n",
       "      <th>Unnamed: 0</th>\n",
       "      <th>nombre</th>\n",
       "      <th>codigo</th>\n",
       "      <th>XO</th>\n",
       "      <th>XA</th>\n",
       "      <th>longitud</th>\n",
       "      <th>latitud</th>\n",
       "      <th>altura</th>\n",
       "      <th>90%</th>\n",
       "      <th>99%</th>\n",
       "      <th>75%</th>\n",
       "      <th>umb1</th>\n",
       "      <th>umb2</th>\n",
       "      <th>fecha</th>\n",
       "      <th>flag</th>\n",
       "      <th>flagV2</th>\n",
       "      <th>imagen</th>\n",
       "    </tr>\n",
       "    <tr>\n",
       "      <th>dato</th>\n",
       "      <th></th>\n",
       "      <th></th>\n",
       "      <th></th>\n",
       "      <th></th>\n",
       "      <th></th>\n",
       "      <th></th>\n",
       "      <th></th>\n",
       "      <th></th>\n",
       "      <th></th>\n",
       "      <th></th>\n",
       "      <th></th>\n",
       "      <th></th>\n",
       "      <th></th>\n",
       "      <th></th>\n",
       "      <th></th>\n",
       "      <th></th>\n",
       "      <th></th>\n",
       "    </tr>\n",
       "  </thead>\n",
       "  <tbody>\n",
       "    <tr>\n",
       "      <th>0.0</th>\n",
       "      <td>2062</td>\n",
       "      <td>2062</td>\n",
       "      <td>2062</td>\n",
       "      <td>2062</td>\n",
       "      <td>2062</td>\n",
       "      <td>2062</td>\n",
       "      <td>2062</td>\n",
       "      <td>2062</td>\n",
       "      <td>2062</td>\n",
       "      <td>2062</td>\n",
       "      <td>2062</td>\n",
       "      <td>2062</td>\n",
       "      <td>2062</td>\n",
       "      <td>2062</td>\n",
       "      <td>2062</td>\n",
       "      <td>2062</td>\n",
       "      <td>2062</td>\n",
       "    </tr>\n",
       "    <tr>\n",
       "      <th>0.1</th>\n",
       "      <td>158</td>\n",
       "      <td>158</td>\n",
       "      <td>158</td>\n",
       "      <td>158</td>\n",
       "      <td>158</td>\n",
       "      <td>158</td>\n",
       "      <td>158</td>\n",
       "      <td>158</td>\n",
       "      <td>158</td>\n",
       "      <td>158</td>\n",
       "      <td>158</td>\n",
       "      <td>158</td>\n",
       "      <td>158</td>\n",
       "      <td>158</td>\n",
       "      <td>158</td>\n",
       "      <td>158</td>\n",
       "      <td>158</td>\n",
       "    </tr>\n",
       "    <tr>\n",
       "      <th>0.2</th>\n",
       "      <td>77</td>\n",
       "      <td>77</td>\n",
       "      <td>77</td>\n",
       "      <td>77</td>\n",
       "      <td>77</td>\n",
       "      <td>77</td>\n",
       "      <td>77</td>\n",
       "      <td>77</td>\n",
       "      <td>77</td>\n",
       "      <td>77</td>\n",
       "      <td>77</td>\n",
       "      <td>77</td>\n",
       "      <td>77</td>\n",
       "      <td>77</td>\n",
       "      <td>77</td>\n",
       "      <td>77</td>\n",
       "      <td>77</td>\n",
       "    </tr>\n",
       "    <tr>\n",
       "      <th>0.3</th>\n",
       "      <td>3</td>\n",
       "      <td>3</td>\n",
       "      <td>3</td>\n",
       "      <td>3</td>\n",
       "      <td>3</td>\n",
       "      <td>3</td>\n",
       "      <td>3</td>\n",
       "      <td>3</td>\n",
       "      <td>3</td>\n",
       "      <td>3</td>\n",
       "      <td>3</td>\n",
       "      <td>3</td>\n",
       "      <td>3</td>\n",
       "      <td>3</td>\n",
       "      <td>3</td>\n",
       "      <td>3</td>\n",
       "      <td>3</td>\n",
       "    </tr>\n",
       "    <tr>\n",
       "      <th>0.4</th>\n",
       "      <td>3</td>\n",
       "      <td>3</td>\n",
       "      <td>3</td>\n",
       "      <td>3</td>\n",
       "      <td>3</td>\n",
       "      <td>3</td>\n",
       "      <td>3</td>\n",
       "      <td>3</td>\n",
       "      <td>3</td>\n",
       "      <td>3</td>\n",
       "      <td>3</td>\n",
       "      <td>3</td>\n",
       "      <td>3</td>\n",
       "      <td>3</td>\n",
       "      <td>3</td>\n",
       "      <td>3</td>\n",
       "      <td>3</td>\n",
       "    </tr>\n",
       "    <tr>\n",
       "      <th>0.5</th>\n",
       "      <td>2</td>\n",
       "      <td>2</td>\n",
       "      <td>2</td>\n",
       "      <td>2</td>\n",
       "      <td>2</td>\n",
       "      <td>2</td>\n",
       "      <td>2</td>\n",
       "      <td>2</td>\n",
       "      <td>2</td>\n",
       "      <td>2</td>\n",
       "      <td>2</td>\n",
       "      <td>2</td>\n",
       "      <td>2</td>\n",
       "      <td>2</td>\n",
       "      <td>2</td>\n",
       "      <td>2</td>\n",
       "      <td>2</td>\n",
       "    </tr>\n",
       "    <tr>\n",
       "      <th>0.6</th>\n",
       "      <td>1</td>\n",
       "      <td>1</td>\n",
       "      <td>1</td>\n",
       "      <td>1</td>\n",
       "      <td>1</td>\n",
       "      <td>1</td>\n",
       "      <td>1</td>\n",
       "      <td>1</td>\n",
       "      <td>1</td>\n",
       "      <td>1</td>\n",
       "      <td>1</td>\n",
       "      <td>1</td>\n",
       "      <td>1</td>\n",
       "      <td>1</td>\n",
       "      <td>1</td>\n",
       "      <td>1</td>\n",
       "      <td>1</td>\n",
       "    </tr>\n",
       "  </tbody>\n",
       "</table>\n",
       "</div>"
      ],
      "text/plain": [
       "      Unnamed: 0  nombre  codigo    XO    XA  longitud  latitud  altura   90%  \\\n",
       "dato                                                                            \n",
       "0.0         2062    2062    2062  2062  2062      2062     2062    2062  2062   \n",
       "0.1          158     158     158   158   158       158      158     158   158   \n",
       "0.2           77      77      77    77    77        77       77      77    77   \n",
       "0.3            3       3       3     3     3         3        3       3     3   \n",
       "0.4            3       3       3     3     3         3        3       3     3   \n",
       "0.5            2       2       2     2     2         2        2       2     2   \n",
       "0.6            1       1       1     1     1         1        1       1     1   \n",
       "\n",
       "       99%   75%  umb1  umb2  fecha  flag  flagV2  imagen  \n",
       "dato                                                       \n",
       "0.0   2062  2062  2062  2062   2062  2062    2062    2062  \n",
       "0.1    158   158   158   158    158   158     158     158  \n",
       "0.2     77    77    77    77     77    77      77      77  \n",
       "0.3      3     3     3     3      3     3       3       3  \n",
       "0.4      3     3     3     3      3     3       3       3  \n",
       "0.5      2     2     2     2      2     2       2       2  \n",
       "0.6      1     1     1     1      1     1       1       1  "
      ]
     },
     "execution_count": 20,
     "metadata": {},
     "output_type": "execute_result"
    }
   ],
   "source": [
    "df_bads_c1.groupby('dato').count()"
   ]
  },
  {
   "cell_type": "code",
   "execution_count": 21,
   "id": "3886a353",
   "metadata": {},
   "outputs": [
    {
     "data": {
      "text/html": [
       "<div>\n",
       "<style scoped>\n",
       "    .dataframe tbody tr th:only-of-type {\n",
       "        vertical-align: middle;\n",
       "    }\n",
       "\n",
       "    .dataframe tbody tr th {\n",
       "        vertical-align: top;\n",
       "    }\n",
       "\n",
       "    .dataframe thead th {\n",
       "        text-align: right;\n",
       "    }\n",
       "</style>\n",
       "<table border=\"1\" class=\"dataframe\">\n",
       "  <thead>\n",
       "    <tr style=\"text-align: right;\">\n",
       "      <th></th>\n",
       "      <th></th>\n",
       "      <th>Unnamed: 0</th>\n",
       "      <th>nombre</th>\n",
       "      <th>XO</th>\n",
       "      <th>XA</th>\n",
       "      <th>longitud</th>\n",
       "      <th>latitud</th>\n",
       "      <th>altura</th>\n",
       "      <th>90%</th>\n",
       "      <th>99%</th>\n",
       "      <th>75%</th>\n",
       "      <th>umb1</th>\n",
       "      <th>umb2</th>\n",
       "      <th>fecha</th>\n",
       "      <th>flag</th>\n",
       "      <th>flagV2</th>\n",
       "      <th>imagen</th>\n",
       "    </tr>\n",
       "    <tr>\n",
       "      <th>dato</th>\n",
       "      <th>codigo</th>\n",
       "      <th></th>\n",
       "      <th></th>\n",
       "      <th></th>\n",
       "      <th></th>\n",
       "      <th></th>\n",
       "      <th></th>\n",
       "      <th></th>\n",
       "      <th></th>\n",
       "      <th></th>\n",
       "      <th></th>\n",
       "      <th></th>\n",
       "      <th></th>\n",
       "      <th></th>\n",
       "      <th></th>\n",
       "      <th></th>\n",
       "      <th></th>\n",
       "    </tr>\n",
       "  </thead>\n",
       "  <tbody>\n",
       "    <tr>\n",
       "      <th rowspan=\"5\" valign=\"top\">0.0</th>\n",
       "      <th>47271776</th>\n",
       "      <td>570</td>\n",
       "      <td>570</td>\n",
       "      <td>570</td>\n",
       "      <td>570</td>\n",
       "      <td>570</td>\n",
       "      <td>570</td>\n",
       "      <td>570</td>\n",
       "      <td>570</td>\n",
       "      <td>570</td>\n",
       "      <td>570</td>\n",
       "      <td>570</td>\n",
       "      <td>570</td>\n",
       "      <td>570</td>\n",
       "      <td>570</td>\n",
       "      <td>570</td>\n",
       "      <td>570</td>\n",
       "    </tr>\n",
       "    <tr>\n",
       "      <th>472935F2</th>\n",
       "      <td>179</td>\n",
       "      <td>179</td>\n",
       "      <td>179</td>\n",
       "      <td>179</td>\n",
       "      <td>179</td>\n",
       "      <td>179</td>\n",
       "      <td>179</td>\n",
       "      <td>179</td>\n",
       "      <td>179</td>\n",
       "      <td>179</td>\n",
       "      <td>179</td>\n",
       "      <td>179</td>\n",
       "      <td>179</td>\n",
       "      <td>179</td>\n",
       "      <td>179</td>\n",
       "      <td>179</td>\n",
       "    </tr>\n",
       "    <tr>\n",
       "      <th>4729658E</th>\n",
       "      <td>745</td>\n",
       "      <td>745</td>\n",
       "      <td>745</td>\n",
       "      <td>745</td>\n",
       "      <td>745</td>\n",
       "      <td>745</td>\n",
       "      <td>745</td>\n",
       "      <td>745</td>\n",
       "      <td>745</td>\n",
       "      <td>745</td>\n",
       "      <td>745</td>\n",
       "      <td>745</td>\n",
       "      <td>745</td>\n",
       "      <td>745</td>\n",
       "      <td>745</td>\n",
       "      <td>745</td>\n",
       "    </tr>\n",
       "    <tr>\n",
       "      <th>472F43AC</th>\n",
       "      <td>144</td>\n",
       "      <td>144</td>\n",
       "      <td>144</td>\n",
       "      <td>144</td>\n",
       "      <td>144</td>\n",
       "      <td>144</td>\n",
       "      <td>144</td>\n",
       "      <td>144</td>\n",
       "      <td>144</td>\n",
       "      <td>144</td>\n",
       "      <td>144</td>\n",
       "      <td>144</td>\n",
       "      <td>144</td>\n",
       "      <td>144</td>\n",
       "      <td>144</td>\n",
       "      <td>144</td>\n",
       "    </tr>\n",
       "    <tr>\n",
       "      <th>47E1F02E</th>\n",
       "      <td>424</td>\n",
       "      <td>424</td>\n",
       "      <td>424</td>\n",
       "      <td>424</td>\n",
       "      <td>424</td>\n",
       "      <td>424</td>\n",
       "      <td>424</td>\n",
       "      <td>424</td>\n",
       "      <td>424</td>\n",
       "      <td>424</td>\n",
       "      <td>424</td>\n",
       "      <td>424</td>\n",
       "      <td>424</td>\n",
       "      <td>424</td>\n",
       "      <td>424</td>\n",
       "      <td>424</td>\n",
       "    </tr>\n",
       "    <tr>\n",
       "      <th rowspan=\"3\" valign=\"top\">0.1</th>\n",
       "      <th>472F43AC</th>\n",
       "      <td>96</td>\n",
       "      <td>96</td>\n",
       "      <td>96</td>\n",
       "      <td>96</td>\n",
       "      <td>96</td>\n",
       "      <td>96</td>\n",
       "      <td>96</td>\n",
       "      <td>96</td>\n",
       "      <td>96</td>\n",
       "      <td>96</td>\n",
       "      <td>96</td>\n",
       "      <td>96</td>\n",
       "      <td>96</td>\n",
       "      <td>96</td>\n",
       "      <td>96</td>\n",
       "      <td>96</td>\n",
       "    </tr>\n",
       "    <tr>\n",
       "      <th>47E1F02E</th>\n",
       "      <td>16</td>\n",
       "      <td>16</td>\n",
       "      <td>16</td>\n",
       "      <td>16</td>\n",
       "      <td>16</td>\n",
       "      <td>16</td>\n",
       "      <td>16</td>\n",
       "      <td>16</td>\n",
       "      <td>16</td>\n",
       "      <td>16</td>\n",
       "      <td>16</td>\n",
       "      <td>16</td>\n",
       "      <td>16</td>\n",
       "      <td>16</td>\n",
       "      <td>16</td>\n",
       "      <td>16</td>\n",
       "    </tr>\n",
       "    <tr>\n",
       "      <th>47E880E2</th>\n",
       "      <td>46</td>\n",
       "      <td>46</td>\n",
       "      <td>46</td>\n",
       "      <td>46</td>\n",
       "      <td>46</td>\n",
       "      <td>46</td>\n",
       "      <td>46</td>\n",
       "      <td>46</td>\n",
       "      <td>46</td>\n",
       "      <td>46</td>\n",
       "      <td>46</td>\n",
       "      <td>46</td>\n",
       "      <td>46</td>\n",
       "      <td>46</td>\n",
       "      <td>46</td>\n",
       "      <td>46</td>\n",
       "    </tr>\n",
       "    <tr>\n",
       "      <th rowspan=\"4\" valign=\"top\">0.2</th>\n",
       "      <th>472935F2</th>\n",
       "      <td>26</td>\n",
       "      <td>26</td>\n",
       "      <td>26</td>\n",
       "      <td>26</td>\n",
       "      <td>26</td>\n",
       "      <td>26</td>\n",
       "      <td>26</td>\n",
       "      <td>26</td>\n",
       "      <td>26</td>\n",
       "      <td>26</td>\n",
       "      <td>26</td>\n",
       "      <td>26</td>\n",
       "      <td>26</td>\n",
       "      <td>26</td>\n",
       "      <td>26</td>\n",
       "      <td>26</td>\n",
       "    </tr>\n",
       "    <tr>\n",
       "      <th>4729658E</th>\n",
       "      <td>40</td>\n",
       "      <td>40</td>\n",
       "      <td>40</td>\n",
       "      <td>40</td>\n",
       "      <td>40</td>\n",
       "      <td>40</td>\n",
       "      <td>40</td>\n",
       "      <td>40</td>\n",
       "      <td>40</td>\n",
       "      <td>40</td>\n",
       "      <td>40</td>\n",
       "      <td>40</td>\n",
       "      <td>40</td>\n",
       "      <td>40</td>\n",
       "      <td>40</td>\n",
       "      <td>40</td>\n",
       "    </tr>\n",
       "    <tr>\n",
       "      <th>472F43AC</th>\n",
       "      <td>10</td>\n",
       "      <td>10</td>\n",
       "      <td>10</td>\n",
       "      <td>10</td>\n",
       "      <td>10</td>\n",
       "      <td>10</td>\n",
       "      <td>10</td>\n",
       "      <td>10</td>\n",
       "      <td>10</td>\n",
       "      <td>10</td>\n",
       "      <td>10</td>\n",
       "      <td>10</td>\n",
       "      <td>10</td>\n",
       "      <td>10</td>\n",
       "      <td>10</td>\n",
       "      <td>10</td>\n",
       "    </tr>\n",
       "    <tr>\n",
       "      <th>47E880E2</th>\n",
       "      <td>1</td>\n",
       "      <td>1</td>\n",
       "      <td>1</td>\n",
       "      <td>1</td>\n",
       "      <td>1</td>\n",
       "      <td>1</td>\n",
       "      <td>1</td>\n",
       "      <td>1</td>\n",
       "      <td>1</td>\n",
       "      <td>1</td>\n",
       "      <td>1</td>\n",
       "      <td>1</td>\n",
       "      <td>1</td>\n",
       "      <td>1</td>\n",
       "      <td>1</td>\n",
       "      <td>1</td>\n",
       "    </tr>\n",
       "    <tr>\n",
       "      <th>0.3</th>\n",
       "      <th>472F43AC</th>\n",
       "      <td>3</td>\n",
       "      <td>3</td>\n",
       "      <td>3</td>\n",
       "      <td>3</td>\n",
       "      <td>3</td>\n",
       "      <td>3</td>\n",
       "      <td>3</td>\n",
       "      <td>3</td>\n",
       "      <td>3</td>\n",
       "      <td>3</td>\n",
       "      <td>3</td>\n",
       "      <td>3</td>\n",
       "      <td>3</td>\n",
       "      <td>3</td>\n",
       "      <td>3</td>\n",
       "      <td>3</td>\n",
       "    </tr>\n",
       "    <tr>\n",
       "      <th rowspan=\"3\" valign=\"top\">0.4</th>\n",
       "      <th>472935F2</th>\n",
       "      <td>1</td>\n",
       "      <td>1</td>\n",
       "      <td>1</td>\n",
       "      <td>1</td>\n",
       "      <td>1</td>\n",
       "      <td>1</td>\n",
       "      <td>1</td>\n",
       "      <td>1</td>\n",
       "      <td>1</td>\n",
       "      <td>1</td>\n",
       "      <td>1</td>\n",
       "      <td>1</td>\n",
       "      <td>1</td>\n",
       "      <td>1</td>\n",
       "      <td>1</td>\n",
       "      <td>1</td>\n",
       "    </tr>\n",
       "    <tr>\n",
       "      <th>4729658E</th>\n",
       "      <td>1</td>\n",
       "      <td>1</td>\n",
       "      <td>1</td>\n",
       "      <td>1</td>\n",
       "      <td>1</td>\n",
       "      <td>1</td>\n",
       "      <td>1</td>\n",
       "      <td>1</td>\n",
       "      <td>1</td>\n",
       "      <td>1</td>\n",
       "      <td>1</td>\n",
       "      <td>1</td>\n",
       "      <td>1</td>\n",
       "      <td>1</td>\n",
       "      <td>1</td>\n",
       "      <td>1</td>\n",
       "    </tr>\n",
       "    <tr>\n",
       "      <th>472F43AC</th>\n",
       "      <td>1</td>\n",
       "      <td>1</td>\n",
       "      <td>1</td>\n",
       "      <td>1</td>\n",
       "      <td>1</td>\n",
       "      <td>1</td>\n",
       "      <td>1</td>\n",
       "      <td>1</td>\n",
       "      <td>1</td>\n",
       "      <td>1</td>\n",
       "      <td>1</td>\n",
       "      <td>1</td>\n",
       "      <td>1</td>\n",
       "      <td>1</td>\n",
       "      <td>1</td>\n",
       "      <td>1</td>\n",
       "    </tr>\n",
       "    <tr>\n",
       "      <th>0.5</th>\n",
       "      <th>472F43AC</th>\n",
       "      <td>2</td>\n",
       "      <td>2</td>\n",
       "      <td>2</td>\n",
       "      <td>2</td>\n",
       "      <td>2</td>\n",
       "      <td>2</td>\n",
       "      <td>2</td>\n",
       "      <td>2</td>\n",
       "      <td>2</td>\n",
       "      <td>2</td>\n",
       "      <td>2</td>\n",
       "      <td>2</td>\n",
       "      <td>2</td>\n",
       "      <td>2</td>\n",
       "      <td>2</td>\n",
       "      <td>2</td>\n",
       "    </tr>\n",
       "    <tr>\n",
       "      <th>0.6</th>\n",
       "      <th>472F43AC</th>\n",
       "      <td>1</td>\n",
       "      <td>1</td>\n",
       "      <td>1</td>\n",
       "      <td>1</td>\n",
       "      <td>1</td>\n",
       "      <td>1</td>\n",
       "      <td>1</td>\n",
       "      <td>1</td>\n",
       "      <td>1</td>\n",
       "      <td>1</td>\n",
       "      <td>1</td>\n",
       "      <td>1</td>\n",
       "      <td>1</td>\n",
       "      <td>1</td>\n",
       "      <td>1</td>\n",
       "      <td>1</td>\n",
       "    </tr>\n",
       "  </tbody>\n",
       "</table>\n",
       "</div>"
      ],
      "text/plain": [
       "               Unnamed: 0  nombre   XO   XA  longitud  latitud  altura  90%  \\\n",
       "dato codigo                                                                   \n",
       "0.0  47271776         570     570  570  570       570      570     570  570   \n",
       "     472935F2         179     179  179  179       179      179     179  179   \n",
       "     4729658E         745     745  745  745       745      745     745  745   \n",
       "     472F43AC         144     144  144  144       144      144     144  144   \n",
       "     47E1F02E         424     424  424  424       424      424     424  424   \n",
       "0.1  472F43AC          96      96   96   96        96       96      96   96   \n",
       "     47E1F02E          16      16   16   16        16       16      16   16   \n",
       "     47E880E2          46      46   46   46        46       46      46   46   \n",
       "0.2  472935F2          26      26   26   26        26       26      26   26   \n",
       "     4729658E          40      40   40   40        40       40      40   40   \n",
       "     472F43AC          10      10   10   10        10       10      10   10   \n",
       "     47E880E2           1       1    1    1         1        1       1    1   \n",
       "0.3  472F43AC           3       3    3    3         3        3       3    3   \n",
       "0.4  472935F2           1       1    1    1         1        1       1    1   \n",
       "     4729658E           1       1    1    1         1        1       1    1   \n",
       "     472F43AC           1       1    1    1         1        1       1    1   \n",
       "0.5  472F43AC           2       2    2    2         2        2       2    2   \n",
       "0.6  472F43AC           1       1    1    1         1        1       1    1   \n",
       "\n",
       "               99%  75%  umb1  umb2  fecha  flag  flagV2  imagen  \n",
       "dato codigo                                                       \n",
       "0.0  47271776  570  570   570   570    570   570     570     570  \n",
       "     472935F2  179  179   179   179    179   179     179     179  \n",
       "     4729658E  745  745   745   745    745   745     745     745  \n",
       "     472F43AC  144  144   144   144    144   144     144     144  \n",
       "     47E1F02E  424  424   424   424    424   424     424     424  \n",
       "0.1  472F43AC   96   96    96    96     96    96      96      96  \n",
       "     47E1F02E   16   16    16    16     16    16      16      16  \n",
       "     47E880E2   46   46    46    46     46    46      46      46  \n",
       "0.2  472935F2   26   26    26    26     26    26      26      26  \n",
       "     4729658E   40   40    40    40     40    40      40      40  \n",
       "     472F43AC   10   10    10    10     10    10      10      10  \n",
       "     47E880E2    1    1     1     1      1     1       1       1  \n",
       "0.3  472F43AC    3    3     3     3      3     3       3       3  \n",
       "0.4  472935F2    1    1     1     1      1     1       1       1  \n",
       "     4729658E    1    1     1     1      1     1       1       1  \n",
       "     472F43AC    1    1     1     1      1     1       1       1  \n",
       "0.5  472F43AC    2    2     2     2      2     2       2       2  \n",
       "0.6  472F43AC    1    1     1     1      1     1       1       1  "
      ]
     },
     "execution_count": 21,
     "metadata": {},
     "output_type": "execute_result"
    }
   ],
   "source": [
    "df_bads_c1.groupby(['dato','codigo']).count()"
   ]
  },
  {
   "cell_type": "code",
   "execution_count": 51,
   "id": "6acd189c",
   "metadata": {},
   "outputs": [
    {
     "data": {
      "application/vnd.plotly.v1+json": {
       "config": {
        "plotlyServerURL": "https://plot.ly"
       },
       "data": [
        {
         "hovertemplate": "flag=M0000002<br>dato=%{x}<br>index=%{y}<extra></extra>",
         "legendgroup": "M0000002",
         "marker": {
          "color": "#636efa",
          "symbol": "circle"
         },
         "mode": "markers",
         "name": "M0000002",
         "orientation": "h",
         "showlegend": true,
         "type": "scatter",
         "x": [
          0,
          0.1,
          0.1,
          0.2,
          0,
          0.5,
          0,
          0,
          0,
          0.1,
          0,
          0.1,
          1.1,
          0.1,
          0.1,
          0,
          0.6,
          0,
          0.1,
          0.2,
          0.1,
          0.1,
          0,
          0.1,
          0,
          0.1,
          0,
          0,
          0.2,
          0.8,
          0.1,
          0.1,
          0.1,
          0.1,
          0.1,
          0,
          0.1,
          0.1,
          0,
          0.1,
          0,
          0,
          0.1,
          0,
          0,
          0,
          0.1,
          0,
          0.1,
          0,
          0,
          0.3,
          0.1,
          0.1,
          0,
          0,
          0,
          0.1,
          0.9,
          0,
          0.2,
          0,
          0,
          0.1,
          0,
          0.1,
          0.1,
          0.1,
          0.5,
          0,
          0.6,
          0,
          0,
          0.1,
          0,
          0.1,
          0.5,
          0.1,
          0.1,
          0,
          0.1,
          0.1,
          0.6,
          0,
          0,
          0.3,
          0,
          0.1,
          0.1,
          0,
          0.2,
          0,
          0,
          0.1,
          0.1,
          0.1,
          0.1,
          0.1,
          0,
          0,
          0,
          0.1,
          0,
          0,
          0,
          0,
          1.4,
          1,
          0,
          0.1,
          0,
          0.1,
          0.1,
          0.1,
          0.1,
          0,
          0.2,
          0.6,
          0,
          0,
          0,
          0,
          0,
          0,
          0.1,
          0,
          0,
          0.1,
          0,
          0.1,
          0.1,
          0.1,
          0,
          0,
          0.1,
          0,
          0.3,
          0,
          0.1,
          0,
          0.5,
          0.1,
          0.1,
          0.1,
          0.5,
          0.5,
          0.4,
          0.1,
          0,
          0.1,
          0,
          0,
          0,
          1.4,
          0,
          0.1,
          0,
          0,
          0.1,
          0.1,
          0,
          0,
          0.1,
          0,
          0.7,
          0.4,
          0,
          0.1,
          0.1,
          0,
          0.1,
          0,
          0,
          0.1,
          0.1,
          0.1,
          0,
          0,
          0.1,
          0,
          0,
          0,
          0.7,
          0.1,
          0.1,
          0.2,
          0,
          0,
          0,
          0.2,
          0.4,
          0.1,
          0,
          0.1,
          0.1,
          0,
          0,
          0.1,
          0.1,
          0,
          0.1,
          0,
          0,
          0,
          0.2,
          0.5,
          0,
          0.1,
          0,
          0,
          0.1,
          0.2,
          0,
          0,
          0.1,
          0,
          0.7,
          0.1,
          0,
          0.1,
          0.1,
          0.1,
          0.2,
          0.1,
          0.1,
          0,
          0,
          0.1,
          0,
          0,
          0,
          0.1,
          0.1,
          0.1,
          0,
          0,
          0,
          0.1,
          0.1,
          0.1,
          0.1,
          0,
          0.1,
          0.1,
          0.1,
          0.1,
          0,
          0,
          0,
          0,
          0.1,
          0,
          0,
          0,
          0,
          0,
          0,
          0,
          0,
          0.2,
          0.8,
          0.1,
          0,
          0.1,
          0.1,
          0.4,
          0,
          0.1,
          0.1,
          0,
          0,
          0.5,
          0.3,
          0.2,
          0,
          0,
          0.1,
          0,
          0,
          0,
          0.1,
          0.1,
          0,
          0.1,
          0,
          0.1,
          0.1,
          0,
          0,
          0.6,
          0,
          0,
          0.2,
          0.1,
          0,
          0.2,
          0.1,
          0,
          0,
          0.1,
          0,
          0.1,
          0.9,
          0.1,
          0.1,
          0,
          0,
          0.1,
          0,
          0
         ],
         "xaxis": "x",
         "y": [
          48,
          204,
          291,
          468,
          525,
          602,
          612,
          795,
          818,
          1315,
          1412,
          1514,
          1575,
          1823,
          2094,
          2119,
          2168,
          2201,
          2251,
          2335,
          2640,
          2815,
          3095,
          3210,
          3393,
          3813,
          4108,
          4115,
          4246,
          4280,
          4404,
          4502,
          4541,
          4686,
          4785,
          4858,
          4932,
          4971,
          5574,
          5732,
          5784,
          5994,
          6124,
          6139,
          6182,
          6709,
          6854,
          7373,
          7455,
          7796,
          8125,
          8624,
          8672,
          8721,
          8835,
          9307,
          9521,
          10338,
          10414,
          10455,
          10718,
          10842,
          10968,
          11023,
          11216,
          11282,
          11310,
          11786,
          11804,
          11896,
          11907,
          12078,
          12175,
          12442,
          12520,
          12727,
          12812,
          12815,
          12817,
          12926,
          13115,
          13171,
          13258,
          13330,
          13404,
          13567,
          13584,
          13636,
          13680,
          13800,
          14009,
          14190,
          14201,
          14348,
          14483,
          14573,
          14756,
          14873,
          15020,
          15155,
          15248,
          15447,
          15576,
          16072,
          16073,
          16311,
          16313,
          16365,
          16541,
          16862,
          16918,
          17042,
          17051,
          17118,
          17134,
          17273,
          17360,
          17435,
          17538,
          17704,
          17709,
          18119,
          18150,
          18287,
          18311,
          18471,
          18495,
          18807,
          18924,
          18943,
          19101,
          19108,
          19138,
          19170,
          19180,
          19334,
          19423,
          19445,
          19464,
          19608,
          19735,
          20202,
          20579,
          20641,
          20680,
          20726,
          20755,
          20759,
          20833,
          20865,
          20875,
          21152,
          21216,
          21221,
          21257,
          21283,
          21375,
          21430,
          21541,
          21811,
          21818,
          21855,
          21968,
          21977,
          21988,
          22390,
          22400,
          22930,
          22935,
          22972,
          23156,
          23269,
          23621,
          23757,
          23868,
          24136,
          24356,
          24379,
          24670,
          24884,
          25040,
          25393,
          25493,
          25632,
          25677,
          25717,
          25884,
          26146,
          26338,
          26536,
          27052,
          27365,
          27482,
          27591,
          27766,
          27799,
          27823,
          28037,
          28105,
          28123,
          28161,
          28320,
          28400,
          28506,
          28511,
          28624,
          28732,
          28890,
          29086,
          29252,
          29449,
          29651,
          29749,
          29937,
          30007,
          30029,
          30154,
          30207,
          30502,
          30684,
          30769,
          30822,
          30929,
          31137,
          31172,
          31175,
          31427,
          31941,
          32232,
          32586,
          32635,
          32664,
          32739,
          32765,
          33021,
          33310,
          33391,
          34465,
          34596,
          34629,
          34650,
          34680,
          34730,
          34925,
          35060,
          35075,
          35160,
          35220,
          35444,
          35689,
          35871,
          35883,
          35912,
          36315,
          36704,
          36857,
          36966,
          36968,
          37034,
          37127,
          37204,
          37358,
          37630,
          37759,
          38011,
          38040,
          38159,
          38355,
          38588,
          38657,
          38761,
          38766,
          38775,
          38793,
          38811,
          38834,
          38922,
          39179,
          39268,
          39279,
          39308,
          39443,
          39473,
          39736,
          39916,
          40013,
          40178,
          40206,
          40461,
          40872,
          40905,
          40943,
          41073,
          41074,
          41093,
          41129,
          41136,
          41266,
          41747,
          41924,
          42147,
          42302,
          42434,
          42465,
          42511,
          42633,
          42984,
          43023,
          43194,
          43207
         ],
         "yaxis": "y"
        },
        {
         "hovertemplate": "flag=C0000002<br>dato=%{x}<br>index=%{y}<extra></extra>",
         "legendgroup": "C0000002",
         "marker": {
          "color": "#EF553B",
          "symbol": "circle"
         },
         "mode": "markers",
         "name": "C0000002",
         "orientation": "h",
         "showlegend": true,
         "type": "scatter",
         "x": [
          0.3,
          0.2,
          1.6,
          0.1,
          0.1,
          0.4,
          0.1,
          0.2,
          0.5,
          0.3,
          0.1,
          0.2,
          1.6,
          0.1,
          0.2,
          2.9,
          0.1,
          0.1,
          0.4,
          0.1,
          0.1,
          0.1,
          0.3,
          0.1,
          0.2,
          0.2,
          0.2,
          0.7,
          0.3,
          0.5,
          1.3,
          0.1,
          0.1,
          0.1,
          0.1,
          0.2,
          0.4,
          0.1,
          0.1,
          0.1,
          0.1,
          0.1,
          0.3,
          0.3,
          0.2,
          0.4,
          0.1,
          1.1,
          0.1,
          0.2,
          0.2,
          0.2,
          0.1,
          0.1,
          0.5,
          0.5,
          0.1,
          2.1,
          0.5,
          0.1,
          0.1,
          0.1,
          0.1,
          0.1,
          1.2,
          0.1,
          0.1,
          0.5,
          0.1,
          0.1,
          0.1
         ],
         "xaxis": "x",
         "y": [
          249,
          277,
          407,
          846,
          1015,
          1747,
          2499,
          2765,
          3369,
          3751,
          4301,
          6018,
          6354,
          9019,
          9354,
          9367,
          9541,
          9583,
          9855,
          10656,
          11676,
          13299,
          14457,
          15212,
          16003,
          16543,
          16555,
          17550,
          17584,
          18435,
          18658,
          19435,
          19778,
          21170,
          22272,
          22438,
          22606,
          23135,
          23373,
          23738,
          23756,
          23996,
          24334,
          25007,
          25095,
          25461,
          25716,
          25753,
          26159,
          26749,
          26903,
          29311,
          29741,
          30229,
          30248,
          30366,
          30824,
          31212,
          31284,
          31832,
          33101,
          33453,
          33704,
          33924,
          34368,
          35747,
          36197,
          37886,
          39450,
          41581,
          43172
         ],
         "yaxis": "y"
        }
       ],
       "layout": {
        "autosize": true,
        "legend": {
         "title": {
          "text": "flag"
         },
         "tracegroupgap": 0
        },
        "margin": {
         "t": 60
        },
        "template": {
         "data": {
          "bar": [
           {
            "error_x": {
             "color": "#2a3f5f"
            },
            "error_y": {
             "color": "#2a3f5f"
            },
            "marker": {
             "line": {
              "color": "#E5ECF6",
              "width": 0.5
             },
             "pattern": {
              "fillmode": "overlay",
              "size": 10,
              "solidity": 0.2
             }
            },
            "type": "bar"
           }
          ],
          "barpolar": [
           {
            "marker": {
             "line": {
              "color": "#E5ECF6",
              "width": 0.5
             },
             "pattern": {
              "fillmode": "overlay",
              "size": 10,
              "solidity": 0.2
             }
            },
            "type": "barpolar"
           }
          ],
          "carpet": [
           {
            "aaxis": {
             "endlinecolor": "#2a3f5f",
             "gridcolor": "white",
             "linecolor": "white",
             "minorgridcolor": "white",
             "startlinecolor": "#2a3f5f"
            },
            "baxis": {
             "endlinecolor": "#2a3f5f",
             "gridcolor": "white",
             "linecolor": "white",
             "minorgridcolor": "white",
             "startlinecolor": "#2a3f5f"
            },
            "type": "carpet"
           }
          ],
          "choropleth": [
           {
            "colorbar": {
             "outlinewidth": 0,
             "ticks": ""
            },
            "type": "choropleth"
           }
          ],
          "contour": [
           {
            "colorbar": {
             "outlinewidth": 0,
             "ticks": ""
            },
            "colorscale": [
             [
              0,
              "#0d0887"
             ],
             [
              0.1111111111111111,
              "#46039f"
             ],
             [
              0.2222222222222222,
              "#7201a8"
             ],
             [
              0.3333333333333333,
              "#9c179e"
             ],
             [
              0.4444444444444444,
              "#bd3786"
             ],
             [
              0.5555555555555556,
              "#d8576b"
             ],
             [
              0.6666666666666666,
              "#ed7953"
             ],
             [
              0.7777777777777778,
              "#fb9f3a"
             ],
             [
              0.8888888888888888,
              "#fdca26"
             ],
             [
              1,
              "#f0f921"
             ]
            ],
            "type": "contour"
           }
          ],
          "contourcarpet": [
           {
            "colorbar": {
             "outlinewidth": 0,
             "ticks": ""
            },
            "type": "contourcarpet"
           }
          ],
          "heatmap": [
           {
            "colorbar": {
             "outlinewidth": 0,
             "ticks": ""
            },
            "colorscale": [
             [
              0,
              "#0d0887"
             ],
             [
              0.1111111111111111,
              "#46039f"
             ],
             [
              0.2222222222222222,
              "#7201a8"
             ],
             [
              0.3333333333333333,
              "#9c179e"
             ],
             [
              0.4444444444444444,
              "#bd3786"
             ],
             [
              0.5555555555555556,
              "#d8576b"
             ],
             [
              0.6666666666666666,
              "#ed7953"
             ],
             [
              0.7777777777777778,
              "#fb9f3a"
             ],
             [
              0.8888888888888888,
              "#fdca26"
             ],
             [
              1,
              "#f0f921"
             ]
            ],
            "type": "heatmap"
           }
          ],
          "heatmapgl": [
           {
            "colorbar": {
             "outlinewidth": 0,
             "ticks": ""
            },
            "colorscale": [
             [
              0,
              "#0d0887"
             ],
             [
              0.1111111111111111,
              "#46039f"
             ],
             [
              0.2222222222222222,
              "#7201a8"
             ],
             [
              0.3333333333333333,
              "#9c179e"
             ],
             [
              0.4444444444444444,
              "#bd3786"
             ],
             [
              0.5555555555555556,
              "#d8576b"
             ],
             [
              0.6666666666666666,
              "#ed7953"
             ],
             [
              0.7777777777777778,
              "#fb9f3a"
             ],
             [
              0.8888888888888888,
              "#fdca26"
             ],
             [
              1,
              "#f0f921"
             ]
            ],
            "type": "heatmapgl"
           }
          ],
          "histogram": [
           {
            "marker": {
             "pattern": {
              "fillmode": "overlay",
              "size": 10,
              "solidity": 0.2
             }
            },
            "type": "histogram"
           }
          ],
          "histogram2d": [
           {
            "colorbar": {
             "outlinewidth": 0,
             "ticks": ""
            },
            "colorscale": [
             [
              0,
              "#0d0887"
             ],
             [
              0.1111111111111111,
              "#46039f"
             ],
             [
              0.2222222222222222,
              "#7201a8"
             ],
             [
              0.3333333333333333,
              "#9c179e"
             ],
             [
              0.4444444444444444,
              "#bd3786"
             ],
             [
              0.5555555555555556,
              "#d8576b"
             ],
             [
              0.6666666666666666,
              "#ed7953"
             ],
             [
              0.7777777777777778,
              "#fb9f3a"
             ],
             [
              0.8888888888888888,
              "#fdca26"
             ],
             [
              1,
              "#f0f921"
             ]
            ],
            "type": "histogram2d"
           }
          ],
          "histogram2dcontour": [
           {
            "colorbar": {
             "outlinewidth": 0,
             "ticks": ""
            },
            "colorscale": [
             [
              0,
              "#0d0887"
             ],
             [
              0.1111111111111111,
              "#46039f"
             ],
             [
              0.2222222222222222,
              "#7201a8"
             ],
             [
              0.3333333333333333,
              "#9c179e"
             ],
             [
              0.4444444444444444,
              "#bd3786"
             ],
             [
              0.5555555555555556,
              "#d8576b"
             ],
             [
              0.6666666666666666,
              "#ed7953"
             ],
             [
              0.7777777777777778,
              "#fb9f3a"
             ],
             [
              0.8888888888888888,
              "#fdca26"
             ],
             [
              1,
              "#f0f921"
             ]
            ],
            "type": "histogram2dcontour"
           }
          ],
          "mesh3d": [
           {
            "colorbar": {
             "outlinewidth": 0,
             "ticks": ""
            },
            "type": "mesh3d"
           }
          ],
          "parcoords": [
           {
            "line": {
             "colorbar": {
              "outlinewidth": 0,
              "ticks": ""
             }
            },
            "type": "parcoords"
           }
          ],
          "pie": [
           {
            "automargin": true,
            "type": "pie"
           }
          ],
          "scatter": [
           {
            "fillpattern": {
             "fillmode": "overlay",
             "size": 10,
             "solidity": 0.2
            },
            "type": "scatter"
           }
          ],
          "scatter3d": [
           {
            "line": {
             "colorbar": {
              "outlinewidth": 0,
              "ticks": ""
             }
            },
            "marker": {
             "colorbar": {
              "outlinewidth": 0,
              "ticks": ""
             }
            },
            "type": "scatter3d"
           }
          ],
          "scattercarpet": [
           {
            "marker": {
             "colorbar": {
              "outlinewidth": 0,
              "ticks": ""
             }
            },
            "type": "scattercarpet"
           }
          ],
          "scattergeo": [
           {
            "marker": {
             "colorbar": {
              "outlinewidth": 0,
              "ticks": ""
             }
            },
            "type": "scattergeo"
           }
          ],
          "scattergl": [
           {
            "marker": {
             "colorbar": {
              "outlinewidth": 0,
              "ticks": ""
             }
            },
            "type": "scattergl"
           }
          ],
          "scattermapbox": [
           {
            "marker": {
             "colorbar": {
              "outlinewidth": 0,
              "ticks": ""
             }
            },
            "type": "scattermapbox"
           }
          ],
          "scatterpolar": [
           {
            "marker": {
             "colorbar": {
              "outlinewidth": 0,
              "ticks": ""
             }
            },
            "type": "scatterpolar"
           }
          ],
          "scatterpolargl": [
           {
            "marker": {
             "colorbar": {
              "outlinewidth": 0,
              "ticks": ""
             }
            },
            "type": "scatterpolargl"
           }
          ],
          "scatterternary": [
           {
            "marker": {
             "colorbar": {
              "outlinewidth": 0,
              "ticks": ""
             }
            },
            "type": "scatterternary"
           }
          ],
          "surface": [
           {
            "colorbar": {
             "outlinewidth": 0,
             "ticks": ""
            },
            "colorscale": [
             [
              0,
              "#0d0887"
             ],
             [
              0.1111111111111111,
              "#46039f"
             ],
             [
              0.2222222222222222,
              "#7201a8"
             ],
             [
              0.3333333333333333,
              "#9c179e"
             ],
             [
              0.4444444444444444,
              "#bd3786"
             ],
             [
              0.5555555555555556,
              "#d8576b"
             ],
             [
              0.6666666666666666,
              "#ed7953"
             ],
             [
              0.7777777777777778,
              "#fb9f3a"
             ],
             [
              0.8888888888888888,
              "#fdca26"
             ],
             [
              1,
              "#f0f921"
             ]
            ],
            "type": "surface"
           }
          ],
          "table": [
           {
            "cells": {
             "fill": {
              "color": "#EBF0F8"
             },
             "line": {
              "color": "white"
             }
            },
            "header": {
             "fill": {
              "color": "#C8D4E3"
             },
             "line": {
              "color": "white"
             }
            },
            "type": "table"
           }
          ]
         },
         "layout": {
          "annotationdefaults": {
           "arrowcolor": "#2a3f5f",
           "arrowhead": 0,
           "arrowwidth": 1
          },
          "autotypenumbers": "strict",
          "coloraxis": {
           "colorbar": {
            "outlinewidth": 0,
            "ticks": ""
           }
          },
          "colorscale": {
           "diverging": [
            [
             0,
             "#8e0152"
            ],
            [
             0.1,
             "#c51b7d"
            ],
            [
             0.2,
             "#de77ae"
            ],
            [
             0.3,
             "#f1b6da"
            ],
            [
             0.4,
             "#fde0ef"
            ],
            [
             0.5,
             "#f7f7f7"
            ],
            [
             0.6,
             "#e6f5d0"
            ],
            [
             0.7,
             "#b8e186"
            ],
            [
             0.8,
             "#7fbc41"
            ],
            [
             0.9,
             "#4d9221"
            ],
            [
             1,
             "#276419"
            ]
           ],
           "sequential": [
            [
             0,
             "#0d0887"
            ],
            [
             0.1111111111111111,
             "#46039f"
            ],
            [
             0.2222222222222222,
             "#7201a8"
            ],
            [
             0.3333333333333333,
             "#9c179e"
            ],
            [
             0.4444444444444444,
             "#bd3786"
            ],
            [
             0.5555555555555556,
             "#d8576b"
            ],
            [
             0.6666666666666666,
             "#ed7953"
            ],
            [
             0.7777777777777778,
             "#fb9f3a"
            ],
            [
             0.8888888888888888,
             "#fdca26"
            ],
            [
             1,
             "#f0f921"
            ]
           ],
           "sequentialminus": [
            [
             0,
             "#0d0887"
            ],
            [
             0.1111111111111111,
             "#46039f"
            ],
            [
             0.2222222222222222,
             "#7201a8"
            ],
            [
             0.3333333333333333,
             "#9c179e"
            ],
            [
             0.4444444444444444,
             "#bd3786"
            ],
            [
             0.5555555555555556,
             "#d8576b"
            ],
            [
             0.6666666666666666,
             "#ed7953"
            ],
            [
             0.7777777777777778,
             "#fb9f3a"
            ],
            [
             0.8888888888888888,
             "#fdca26"
            ],
            [
             1,
             "#f0f921"
            ]
           ]
          },
          "colorway": [
           "#636efa",
           "#EF553B",
           "#00cc96",
           "#ab63fa",
           "#FFA15A",
           "#19d3f3",
           "#FF6692",
           "#B6E880",
           "#FF97FF",
           "#FECB52"
          ],
          "font": {
           "color": "#2a3f5f"
          },
          "geo": {
           "bgcolor": "white",
           "lakecolor": "white",
           "landcolor": "#E5ECF6",
           "showlakes": true,
           "showland": true,
           "subunitcolor": "white"
          },
          "hoverlabel": {
           "align": "left"
          },
          "hovermode": "closest",
          "mapbox": {
           "style": "light"
          },
          "paper_bgcolor": "white",
          "plot_bgcolor": "#E5ECF6",
          "polar": {
           "angularaxis": {
            "gridcolor": "white",
            "linecolor": "white",
            "ticks": ""
           },
           "bgcolor": "#E5ECF6",
           "radialaxis": {
            "gridcolor": "white",
            "linecolor": "white",
            "ticks": ""
           }
          },
          "scene": {
           "xaxis": {
            "backgroundcolor": "#E5ECF6",
            "gridcolor": "white",
            "gridwidth": 2,
            "linecolor": "white",
            "showbackground": true,
            "ticks": "",
            "zerolinecolor": "white"
           },
           "yaxis": {
            "backgroundcolor": "#E5ECF6",
            "gridcolor": "white",
            "gridwidth": 2,
            "linecolor": "white",
            "showbackground": true,
            "ticks": "",
            "zerolinecolor": "white"
           },
           "zaxis": {
            "backgroundcolor": "#E5ECF6",
            "gridcolor": "white",
            "gridwidth": 2,
            "linecolor": "white",
            "showbackground": true,
            "ticks": "",
            "zerolinecolor": "white"
           }
          },
          "shapedefaults": {
           "line": {
            "color": "#2a3f5f"
           }
          },
          "ternary": {
           "aaxis": {
            "gridcolor": "white",
            "linecolor": "white",
            "ticks": ""
           },
           "baxis": {
            "gridcolor": "white",
            "linecolor": "white",
            "ticks": ""
           },
           "bgcolor": "#E5ECF6",
           "caxis": {
            "gridcolor": "white",
            "linecolor": "white",
            "ticks": ""
           }
          },
          "title": {
           "x": 0.05
          },
          "xaxis": {
           "automargin": true,
           "gridcolor": "white",
           "linecolor": "white",
           "ticks": "",
           "title": {
            "standoff": 15
           },
           "zerolinecolor": "white",
           "zerolinewidth": 2
          },
          "yaxis": {
           "automargin": true,
           "gridcolor": "white",
           "linecolor": "white",
           "ticks": "",
           "title": {
            "standoff": 15
           },
           "zerolinecolor": "white",
           "zerolinewidth": 2
          }
         }
        },
        "xaxis": {
         "anchor": "y",
         "autorange": true,
         "domain": [
          0,
          1
         ],
         "range": [
          -0.17642585551330797,
          3.0764258555133077
         ],
         "title": {
          "text": "dato"
         },
         "type": "linear"
        },
        "yaxis": {
         "anchor": "x",
         "autorange": true,
         "domain": [
          0,
          1
         ],
         "range": [
          -3293.7073490813646,
          46548.707349081364
         ],
         "title": {
          "text": "index"
         },
         "type": "linear"
        }
       }
      },
      "image/png": "[encoded data removed]",
      "text/html": [
       "<div>                            <div id=\"41d693f8-ec7e-45cc-85f1-089b075a8c47\" class=\"plotly-graph-div\" style=\"height:525px; width:100%;\"></div>            <script type=\"text/javascript\">                require([\"plotly\"], function(Plotly) {                    window.PLOTLYENV=window.PLOTLYENV || {};                                    if (document.getElementById(\"41d693f8-ec7e-45cc-85f1-089b075a8c47\")) {                    Plotly.newPlot(                        \"41d693f8-ec7e-45cc-85f1-089b075a8c47\",                        [{\"hovertemplate\":\"flag=M0000002<br>dato=%{x}<br>index=%{y}<extra></extra>\",\"legendgroup\":\"M0000002\",\"marker\":{\"color\":\"#636efa\",\"symbol\":\"circle\"},\"mode\":\"markers\",\"name\":\"M0000002\",\"orientation\":\"h\",\"showlegend\":true,\"x\":[0.0,0.1,0.1,0.2,0.0,0.5,0.0,0.0,0.0,0.1,0.0,0.1,1.1,0.1,0.1,0.0,0.6,0.0,0.1,0.2,0.1,0.1,0.0,0.1,0.0,0.1,0.0,0.0,0.2,0.8,0.1,0.1,0.1,0.1,0.1,0.0,0.1,0.1,0.0,0.1,0.0,0.0,0.1,0.0,0.0,0.0,0.1,0.0,0.1,0.0,0.0,0.3,0.1,0.1,0.0,0.0,0.0,0.1,0.9,0.0,0.2,0.0,0.0,0.1,0.0,0.1,0.1,0.1,0.5,0.0,0.6,0.0,0.0,0.1,0.0,0.1,0.5,0.1,0.1,0.0,0.1,0.1,0.6,0.0,0.0,0.3,0.0,0.1,0.1,0.0,0.2,0.0,0.0,0.1,0.1,0.1,0.1,0.1,0.0,0.0,0.0,0.1,0.0,0.0,0.0,0.0,1.4,1.0,0.0,0.1,0.0,0.1,0.1,0.1,0.1,0.0,0.2,0.6,0.0,0.0,0.0,0.0,0.0,0.0,0.1,0.0,0.0,0.1,0.0,0.1,0.1,0.1,0.0,0.0,0.1,0.0,0.3,0.0,0.1,0.0,0.5,0.1,0.1,0.1,0.5,0.5,0.4,0.1,0.0,0.1,0.0,0.0,0.0,1.4,0.0,0.1,0.0,0.0,0.1,0.1,0.0,0.0,0.1,0.0,0.7,0.4,0.0,0.1,0.1,0.0,0.1,0.0,0.0,0.1,0.1,0.1,0.0,0.0,0.1,0.0,0.0,0.0,0.7,0.1,0.1,0.2,0.0,0.0,0.0,0.2,0.4,0.1,0.0,0.1,0.1,0.0,0.0,0.1,0.1,0.0,0.1,0.0,0.0,0.0,0.2,0.5,0.0,0.1,0.0,0.0,0.1,0.2,0.0,0.0,0.1,0.0,0.7,0.1,0.0,0.1,0.1,0.1,0.2,0.1,0.1,0.0,0.0,0.1,0.0,0.0,0.0,0.1,0.1,0.1,0.0,0.0,0.0,0.1,0.1,0.1,0.1,0.0,0.1,0.1,0.1,0.1,0.0,0.0,0.0,0.0,0.1,0.0,0.0,0.0,0.0,0.0,0.0,0.0,0.0,0.2,0.8,0.1,0.0,0.1,0.1,0.4,0.0,0.1,0.1,0.0,0.0,0.5,0.3,0.2,0.0,0.0,0.1,0.0,0.0,0.0,0.1,0.1,0.0,0.1,0.0,0.1,0.1,0.0,0.0,0.6,0.0,0.0,0.2,0.1,0.0,0.2,0.1,0.0,0.0,0.1,0.0,0.1,0.9,0.1,0.1,0.0,0.0,0.1,0.0,0.0],\"xaxis\":\"x\",\"y\":[48,204,291,468,525,602,612,795,818,1315,1412,1514,1575,1823,2094,2119,2168,2201,2251,2335,2640,2815,3095,3210,3393,3813,4108,4115,4246,4280,4404,4502,4541,4686,4785,4858,4932,4971,5574,5732,5784,5994,6124,6139,6182,6709,6854,7373,7455,7796,8125,8624,8672,8721,8835,9307,9521,10338,10414,10455,10718,10842,10968,11023,11216,11282,11310,11786,11804,11896,11907,12078,12175,12442,12520,12727,12812,12815,12817,12926,13115,13171,13258,13330,13404,13567,13584,13636,13680,13800,14009,14190,14201,14348,14483,14573,14756,14873,15020,15155,15248,15447,15576,16072,16073,16311,16313,16365,16541,16862,16918,17042,17051,17118,17134,17273,17360,17435,17538,17704,17709,18119,18150,18287,18311,18471,18495,18807,18924,18943,19101,19108,19138,19170,19180,19334,19423,19445,19464,19608,19735,20202,20579,20641,20680,20726,20755,20759,20833,20865,20875,21152,21216,21221,21257,21283,21375,21430,21541,21811,21818,21855,21968,21977,21988,22390,22400,22930,22935,22972,23156,23269,23621,23757,23868,24136,24356,24379,24670,24884,25040,25393,25493,25632,25677,25717,25884,26146,26338,26536,27052,27365,27482,27591,27766,27799,27823,28037,28105,28123,28161,28320,28400,28506,28511,28624,28732,28890,29086,29252,29449,29651,29749,29937,30007,30029,30154,30207,30502,30684,30769,30822,30929,31137,31172,31175,31427,31941,32232,32586,32635,32664,32739,32765,33021,33310,33391,34465,34596,34629,34650,34680,34730,34925,35060,35075,35160,35220,35444,35689,35871,35883,35912,36315,36704,36857,36966,36968,37034,37127,37204,37358,37630,37759,38011,38040,38159,38355,38588,38657,38761,38766,38775,38793,38811,38834,38922,39179,39268,39279,39308,39443,39473,39736,39916,40013,40178,40206,40461,40872,40905,40943,41073,41074,41093,41129,41136,41266,41747,41924,42147,42302,42434,42465,42511,42633,42984,43023,43194,43207],\"yaxis\":\"y\",\"type\":\"scatter\"},{\"hovertemplate\":\"flag=C0000002<br>dato=%{x}<br>index=%{y}<extra></extra>\",\"legendgroup\":\"C0000002\",\"marker\":{\"color\":\"#EF553B\",\"symbol\":\"circle\"},\"mode\":\"markers\",\"name\":\"C0000002\",\"orientation\":\"h\",\"showlegend\":true,\"x\":[0.3,0.2,1.6,0.1,0.1,0.4,0.1,0.2,0.5,0.3,0.1,0.2,1.6,0.1,0.2,2.9,0.1,0.1,0.4,0.1,0.1,0.1,0.3,0.1,0.2,0.2,0.2,0.7,0.3,0.5,1.3,0.1,0.1,0.1,0.1,0.2,0.4,0.1,0.1,0.1,0.1,0.1,0.3,0.3,0.2,0.4,0.1,1.1,0.1,0.2,0.2,0.2,0.1,0.1,0.5,0.5,0.1,2.1,0.5,0.1,0.1,0.1,0.1,0.1,1.2,0.1,0.1,0.5,0.1,0.1,0.1],\"xaxis\":\"x\",\"y\":[249,277,407,846,1015,1747,2499,2765,3369,3751,4301,6018,6354,9019,9354,9367,9541,9583,9855,10656,11676,13299,14457,15212,16003,16543,16555,17550,17584,18435,18658,19435,19778,21170,22272,22438,22606,23135,23373,23738,23756,23996,24334,25007,25095,25461,25716,25753,26159,26749,26903,29311,29741,30229,30248,30366,30824,31212,31284,31832,33101,33453,33704,33924,34368,35747,36197,37886,39450,41581,43172],\"yaxis\":\"y\",\"type\":\"scatter\"}],                        {\"template\":{\"data\":{\"histogram2dcontour\":[{\"type\":\"histogram2dcontour\",\"colorbar\":{\"outlinewidth\":0,\"ticks\":\"\"},\"colorscale\":[[0.0,\"#0d0887\"],[0.1111111111111111,\"#46039f\"],[0.2222222222222222,\"#7201a8\"],[0.3333333333333333,\"#9c179e\"],[0.4444444444444444,\"#bd3786\"],[0.5555555555555556,\"#d8576b\"],[0.6666666666666666,\"#ed7953\"],[0.7777777777777778,\"#fb9f3a\"],[0.8888888888888888,\"#fdca26\"],[1.0,\"#f0f921\"]]}],\"choropleth\":[{\"type\":\"choropleth\",\"colorbar\":{\"outlinewidth\":0,\"ticks\":\"\"}}],\"histogram2d\":[{\"type\":\"histogram2d\",\"colorbar\":{\"outlinewidth\":0,\"ticks\":\"\"},\"colorscale\":[[0.0,\"#0d0887\"],[0.1111111111111111,\"#46039f\"],[0.2222222222222222,\"#7201a8\"],[0.3333333333333333,\"#9c179e\"],[0.4444444444444444,\"#bd3786\"],[0.5555555555555556,\"#d8576b\"],[0.6666666666666666,\"#ed7953\"],[0.7777777777777778,\"#fb9f3a\"],[0.8888888888888888,\"#fdca26\"],[1.0,\"#f0f921\"]]}],\"heatmap\":[{\"type\":\"heatmap\",\"colorbar\":{\"outlinewidth\":0,\"ticks\":\"\"},\"colorscale\":[[0.0,\"#0d0887\"],[0.1111111111111111,\"#46039f\"],[0.2222222222222222,\"#7201a8\"],[0.3333333333333333,\"#9c179e\"],[0.4444444444444444,\"#bd3786\"],[0.5555555555555556,\"#d8576b\"],[0.6666666666666666,\"#ed7953\"],[0.7777777777777778,\"#fb9f3a\"],[0.8888888888888888,\"#fdca26\"],[1.0,\"#f0f921\"]]}],\"heatmapgl\":[{\"type\":\"heatmapgl\",\"colorbar\":{\"outlinewidth\":0,\"ticks\":\"\"},\"colorscale\":[[0.0,\"#0d0887\"],[0.1111111111111111,\"#46039f\"],[0.2222222222222222,\"#7201a8\"],[0.3333333333333333,\"#9c179e\"],[0.4444444444444444,\"#bd3786\"],[0.5555555555555556,\"#d8576b\"],[0.6666666666666666,\"#ed7953\"],[0.7777777777777778,\"#fb9f3a\"],[0.8888888888888888,\"#fdca26\"],[1.0,\"#f0f921\"]]}],\"contourcarpet\":[{\"type\":\"contourcarpet\",\"colorbar\":{\"outlinewidth\":0,\"ticks\":\"\"}}],\"contour\":[{\"type\":\"contour\",\"colorbar\":{\"outlinewidth\":0,\"ticks\":\"\"},\"colorscale\":[[0.0,\"#0d0887\"],[0.1111111111111111,\"#46039f\"],[0.2222222222222222,\"#7201a8\"],[0.3333333333333333,\"#9c179e\"],[0.4444444444444444,\"#bd3786\"],[0.5555555555555556,\"#d8576b\"],[0.6666666666666666,\"#ed7953\"],[0.7777777777777778,\"#fb9f3a\"],[0.8888888888888888,\"#fdca26\"],[1.0,\"#f0f921\"]]}],\"surface\":[{\"type\":\"surface\",\"colorbar\":{\"outlinewidth\":0,\"ticks\":\"\"},\"colorscale\":[[0.0,\"#0d0887\"],[0.1111111111111111,\"#46039f\"],[0.2222222222222222,\"#7201a8\"],[0.3333333333333333,\"#9c179e\"],[0.4444444444444444,\"#bd3786\"],[0.5555555555555556,\"#d8576b\"],[0.6666666666666666,\"#ed7953\"],[0.7777777777777778,\"#fb9f3a\"],[0.8888888888888888,\"#fdca26\"],[1.0,\"#f0f921\"]]}],\"mesh3d\":[{\"type\":\"mesh3d\",\"colorbar\":{\"outlinewidth\":0,\"ticks\":\"\"}}],\"scatter\":[{\"fillpattern\":{\"fillmode\":\"overlay\",\"size\":10,\"solidity\":0.2},\"type\":\"scatter\"}],\"parcoords\":[{\"type\":\"parcoords\",\"line\":{\"colorbar\":{\"outlinewidth\":0,\"ticks\":\"\"}}}],\"scatterpolargl\":[{\"type\":\"scatterpolargl\",\"marker\":{\"colorbar\":{\"outlinewidth\":0,\"ticks\":\"\"}}}],\"bar\":[{\"error_x\":{\"color\":\"#2a3f5f\"},\"error_y\":{\"color\":\"#2a3f5f\"},\"marker\":{\"line\":{\"color\":\"#E5ECF6\",\"width\":0.5},\"pattern\":{\"fillmode\":\"overlay\",\"size\":10,\"solidity\":0.2}},\"type\":\"bar\"}],\"scattergeo\":[{\"type\":\"scattergeo\",\"marker\":{\"colorbar\":{\"outlinewidth\":0,\"ticks\":\"\"}}}],\"scatterpolar\":[{\"type\":\"scatterpolar\",\"marker\":{\"colorbar\":{\"outlinewidth\":0,\"ticks\":\"\"}}}],\"histogram\":[{\"marker\":{\"pattern\":{\"fillmode\":\"overlay\",\"size\":10,\"solidity\":0.2}},\"type\":\"histogram\"}],\"scattergl\":[{\"type\":\"scattergl\",\"marker\":{\"colorbar\":{\"outlinewidth\":0,\"ticks\":\"\"}}}],\"scatter3d\":[{\"type\":\"scatter3d\",\"line\":{\"colorbar\":{\"outlinewidth\":0,\"ticks\":\"\"}},\"marker\":{\"colorbar\":{\"outlinewidth\":0,\"ticks\":\"\"}}}],\"scattermapbox\":[{\"type\":\"scattermapbox\",\"marker\":{\"colorbar\":{\"outlinewidth\":0,\"ticks\":\"\"}}}],\"scatterternary\":[{\"type\":\"scatterternary\",\"marker\":{\"colorbar\":{\"outlinewidth\":0,\"ticks\":\"\"}}}],\"scattercarpet\":[{\"type\":\"scattercarpet\",\"marker\":{\"colorbar\":{\"outlinewidth\":0,\"ticks\":\"\"}}}],\"carpet\":[{\"aaxis\":{\"endlinecolor\":\"#2a3f5f\",\"gridcolor\":\"white\",\"linecolor\":\"white\",\"minorgridcolor\":\"white\",\"startlinecolor\":\"#2a3f5f\"},\"baxis\":{\"endlinecolor\":\"#2a3f5f\",\"gridcolor\":\"white\",\"linecolor\":\"white\",\"minorgridcolor\":\"white\",\"startlinecolor\":\"#2a3f5f\"},\"type\":\"carpet\"}],\"table\":[{\"cells\":{\"fill\":{\"color\":\"#EBF0F8\"},\"line\":{\"color\":\"white\"}},\"header\":{\"fill\":{\"color\":\"#C8D4E3\"},\"line\":{\"color\":\"white\"}},\"type\":\"table\"}],\"barpolar\":[{\"marker\":{\"line\":{\"color\":\"#E5ECF6\",\"width\":0.5},\"pattern\":{\"fillmode\":\"overlay\",\"size\":10,\"solidity\":0.2}},\"type\":\"barpolar\"}],\"pie\":[{\"automargin\":true,\"type\":\"pie\"}]},\"layout\":{\"autotypenumbers\":\"strict\",\"colorway\":[\"#636efa\",\"#EF553B\",\"#00cc96\",\"#ab63fa\",\"#FFA15A\",\"#19d3f3\",\"#FF6692\",\"#B6E880\",\"#FF97FF\",\"#FECB52\"],\"font\":{\"color\":\"#2a3f5f\"},\"hovermode\":\"closest\",\"hoverlabel\":{\"align\":\"left\"},\"paper_bgcolor\":\"white\",\"plot_bgcolor\":\"#E5ECF6\",\"polar\":{\"bgcolor\":\"#E5ECF6\",\"angularaxis\":{\"gridcolor\":\"white\",\"linecolor\":\"white\",\"ticks\":\"\"},\"radialaxis\":{\"gridcolor\":\"white\",\"linecolor\":\"white\",\"ticks\":\"\"}},\"ternary\":{\"bgcolor\":\"#E5ECF6\",\"aaxis\":{\"gridcolor\":\"white\",\"linecolor\":\"white\",\"ticks\":\"\"},\"baxis\":{\"gridcolor\":\"white\",\"linecolor\":\"white\",\"ticks\":\"\"},\"caxis\":{\"gridcolor\":\"white\",\"linecolor\":\"white\",\"ticks\":\"\"}},\"coloraxis\":{\"colorbar\":{\"outlinewidth\":0,\"ticks\":\"\"}},\"colorscale\":{\"sequential\":[[0.0,\"#0d0887\"],[0.1111111111111111,\"#46039f\"],[0.2222222222222222,\"#7201a8\"],[0.3333333333333333,\"#9c179e\"],[0.4444444444444444,\"#bd3786\"],[0.5555555555555556,\"#d8576b\"],[0.6666666666666666,\"#ed7953\"],[0.7777777777777778,\"#fb9f3a\"],[0.8888888888888888,\"#fdca26\"],[1.0,\"#f0f921\"]],\"sequentialminus\":[[0.0,\"#0d0887\"],[0.1111111111111111,\"#46039f\"],[0.2222222222222222,\"#7201a8\"],[0.3333333333333333,\"#9c179e\"],[0.4444444444444444,\"#bd3786\"],[0.5555555555555556,\"#d8576b\"],[0.6666666666666666,\"#ed7953\"],[0.7777777777777778,\"#fb9f3a\"],[0.8888888888888888,\"#fdca26\"],[1.0,\"#f0f921\"]],\"diverging\":[[0,\"#8e0152\"],[0.1,\"#c51b7d\"],[0.2,\"#de77ae\"],[0.3,\"#f1b6da\"],[0.4,\"#fde0ef\"],[0.5,\"#f7f7f7\"],[0.6,\"#e6f5d0\"],[0.7,\"#b8e186\"],[0.8,\"#7fbc41\"],[0.9,\"#4d9221\"],[1,\"#276419\"]]},\"xaxis\":{\"gridcolor\":\"white\",\"linecolor\":\"white\",\"ticks\":\"\",\"title\":{\"standoff\":15},\"zerolinecolor\":\"white\",\"automargin\":true,\"zerolinewidth\":2},\"yaxis\":{\"gridcolor\":\"white\",\"linecolor\":\"white\",\"ticks\":\"\",\"title\":{\"standoff\":15},\"zerolinecolor\":\"white\",\"automargin\":true,\"zerolinewidth\":2},\"scene\":{\"xaxis\":{\"backgroundcolor\":\"#E5ECF6\",\"gridcolor\":\"white\",\"linecolor\":\"white\",\"showbackground\":true,\"ticks\":\"\",\"zerolinecolor\":\"white\",\"gridwidth\":2},\"yaxis\":{\"backgroundcolor\":\"#E5ECF6\",\"gridcolor\":\"white\",\"linecolor\":\"white\",\"showbackground\":true,\"ticks\":\"\",\"zerolinecolor\":\"white\",\"gridwidth\":2},\"zaxis\":{\"backgroundcolor\":\"#E5ECF6\",\"gridcolor\":\"white\",\"linecolor\":\"white\",\"showbackground\":true,\"ticks\":\"\",\"zerolinecolor\":\"white\",\"gridwidth\":2}},\"shapedefaults\":{\"line\":{\"color\":\"#2a3f5f\"}},\"annotationdefaults\":{\"arrowcolor\":\"#2a3f5f\",\"arrowhead\":0,\"arrowwidth\":1},\"geo\":{\"bgcolor\":\"white\",\"landcolor\":\"#E5ECF6\",\"subunitcolor\":\"white\",\"showland\":true,\"showlakes\":true,\"lakecolor\":\"white\"},\"title\":{\"x\":0.05},\"mapbox\":{\"style\":\"light\"}}},\"xaxis\":{\"anchor\":\"y\",\"domain\":[0.0,1.0],\"title\":{\"text\":\"dato\"}},\"yaxis\":{\"anchor\":\"x\",\"domain\":[0.0,1.0],\"title\":{\"text\":\"index\"}},\"legend\":{\"title\":{\"text\":\"flag\"},\"tracegroupgap\":0},\"margin\":{\"t\":60}},                        {\"responsive\": true}                    ).then(function(){\n",
       "                            \n",
       "var gd = document.getElementById('41d693f8-ec7e-45cc-85f1-089b075a8c47');\n",
       "var x = new MutationObserver(function (mutations, observer) {{\n",
       "        var display = window.getComputedStyle(gd).display;\n",
       "        if (!display || display === 'none') {{\n",
       "            console.log([gd, 'removed!']);\n",
       "            Plotly.purge(gd);\n",
       "            observer.disconnect();\n",
       "        }}\n",
       "}});\n",
       "\n",
       "// Listen for the removal of the full notebook cells\n",
       "var notebookContainer = gd.closest('#notebook-container');\n",
       "if (notebookContainer) {{\n",
       "    x.observe(notebookContainer, {childList: true});\n",
       "}}\n",
       "\n",
       "// Listen for the clearing of the current output cell\n",
       "var outputEl = gd.closest('.output');\n",
       "if (outputEl) {{\n",
       "    x.observe(outputEl, {childList: true});\n",
       "}}\n",
       "\n",
       "                        })                };                });            </script>        </div>"
      ]
     },
     "metadata": {},
     "output_type": "display_data"
    }
   ],
   "source": [
    "px.scatter(df_temp[df_temp['codigo']=='472F43AC'],x= 'dato', color='flag')"
   ]
  },
  {
   "cell_type": "code",
   "execution_count": 22,
   "id": "e4b3c1ed",
   "metadata": {},
   "outputs": [],
   "source": [
    "#px.scatter(df_bads_c1, x='dato',y='codigo')"
   ]
  },
  {
   "cell_type": "code",
   "execution_count": 23,
   "id": "6e10d13b",
   "metadata": {},
   "outputs": [],
   "source": [
    "#px.scatter(df_temp.groupby('codigo').max()[['90%']]*10, x='90%')"
   ]
  },
  {
   "cell_type": "code",
   "execution_count": 24,
   "id": "30236962",
   "metadata": {},
   "outputs": [],
   "source": [
    "#df_temp.groupby('codigo').max()[['90%']]"
   ]
  },
  {
   "cell_type": "code",
   "execution_count": 25,
   "id": "e0d833dc",
   "metadata": {},
   "outputs": [],
   "source": [
    "#df_temp[df_temp['90%']<0.1].count()['codigo'] , len(df_temp)"
   ]
  },
  {
   "cell_type": "code",
   "execution_count": 26,
   "id": "e2fc4d41",
   "metadata": {},
   "outputs": [],
   "source": [
    "#px.scatter(df_temp.groupby('codigo').mean(), x='umb1')"
   ]
  },
  {
   "cell_type": "code",
   "execution_count": 54,
   "id": "3c02272e-473e-4f07-bf0c-a22f57be1725",
   "metadata": {},
   "outputs": [],
   "source": [
    "\"\"\"\n",
    "REGRESION\n",
    "\"\"\"\n",
    "\n",
    "comentarioCLAS_DUD = 'REGRESION: VFinal - Replica V7 (Var RandomState):  SWAP VAL Y TEST!!'\n",
    "p_clas_dud = {    \n",
    "    # parametros del proyecto\n",
    "    'products'   : products,\n",
    "    'times'      : times,\n",
    "    'path_base'  : path_base,\n",
    "\n",
    "    # parametros del dataset      \n",
    "    'flags'      : ['C0000002'],\n",
    "    'flagV2'     : ['D01','D02'],\n",
    "    'estaciones' : [],\n",
    "    'ceros'      : False,\n",
    "    'delete'     : True,\n",
    "    'menor'      : None,\n",
    "    'mayor'      : None,\n",
    "    \n",
    "    # Split    \n",
    "    'validacion' : 0.15,#0.1,\n",
    "    'pruebas'    : 0.176 ,#0.11,\n",
    "    'random_state' : 50, #5 (m0.1)\n",
    "    'fixed_hour' : '10', # max 23 hour\n",
    "    'stratify'   : 'flag_m2_group',\n",
    "    'index'      : 'index_st_group',\n",
    "    'niv_prec'   : 6,\n",
    "    'col_prec'   : 'umb1',\n",
    "    \n",
    "    # Modelo\n",
    "    'redTipo'    : 'Regresion',\n",
    "    \n",
    "    # PARA MODELOS DE CLASIFICACION\n",
    "    'claseName'  : '',\n",
    "    'condicion_1': [],\n",
    "    \n",
    "    # Nombres\n",
    "    'nameDS'     : 'ClaseV7_Regresion',       \n",
    "}"
   ]
  },
  {
   "cell_type": "code",
   "execution_count": 52,
   "id": "60bc02db-d648-440a-b60c-0267cf6d1180",
   "metadata": {},
   "outputs": [
    {
     "data": {
      "text/plain": [
       "85"
      ]
     },
     "execution_count": 52,
     "metadata": {},
     "output_type": "execute_result"
    }
   ],
   "source": [
    "100-15"
   ]
  },
  {
   "cell_type": "code",
   "execution_count": 53,
   "id": "4af6beca-7610-4bfb-b491-5170e0e3e430",
   "metadata": {},
   "outputs": [
    {
     "data": {
      "text/plain": [
       "0.17647058823529413"
      ]
     },
     "execution_count": 53,
     "metadata": {},
     "output_type": "execute_result"
    }
   ],
   "source": [
    "15/85\n"
   ]
  },
  {
   "cell_type": "code",
   "execution_count": 55,
   "id": "be504596-20b2-4431-b06f-c46b11d39e31",
   "metadata": {},
   "outputs": [
    {
     "name": "stdout",
     "output_type": "stream",
     "text": [
      "Tipo de dataset: Regresion\n",
      "Se leera los archivos de datasets...\n",
      "Tiempo tomado: 0.00s\n",
      "+Cantidad de datos leidos 43270\n",
      "\n",
      "Se elimnara los valores nulos y dudosos\n",
      "Tiempo tomado: 0.02s\n",
      "+Cantidad de datos luego de elimnar nulos 43270\n",
      "-------> CANTIDAD FINAL DE DATOS :  31880 <--------------\n",
      "Tiempo total: 0.03s\n",
      "Tamaño de los datasets: \n",
      "TRAIN   : 22328 - 70.03764115432874 - C0000002    1.0\n",
      "Name: flag, dtype: float64\n",
      "VALID   : 4782 - 15.0 - C0000002    1.0\n",
      "Name: flag, dtype: float64\n",
      "PRUEBAS : 4770  - 14.962358845671266 - C0000002    1.0\n",
      "Name: flag, dtype: float64\n",
      "           ESTADISCIAS DEL ClaseV7_Regresion \n",
      "\n",
      "Flags       : ['C0000002']\n",
      "Estaciones  : 152\n",
      "Totales     : 31880\n",
      "Ceros       : 0\n",
      "Menor a 1   : 18438\n",
      "Mayor a 1   : 12479\n",
      "Maximo      : 66.9\n",
      "Media       : 1.714586574654956\n",
      "STD         : 3.239799968338469\n"
     ]
    },
    {
     "data": {
      "image/png": "[encoded data removed]",
      "text/plain": [
       "<Figure size 432x288 with 1 Axes>"
      ]
     },
     "metadata": {
      "needs_background": "light"
     },
     "output_type": "display_data"
    },
    {
     "data": {
      "image/png": "[encoded data removed]",
      "text/plain": [
       "<Figure size 432x288 with 1 Axes>"
      ]
     },
     "metadata": {
      "needs_background": "light"
     },
     "output_type": "display_data"
    },
    {
     "data": {
      "text/html": [
       "<div>\n",
       "<style scoped>\n",
       "    .dataframe tbody tr th:only-of-type {\n",
       "        vertical-align: middle;\n",
       "    }\n",
       "\n",
       "    .dataframe tbody tr th {\n",
       "        vertical-align: top;\n",
       "    }\n",
       "\n",
       "    .dataframe thead th {\n",
       "        text-align: right;\n",
       "    }\n",
       "</style>\n",
       "<table border=\"1\" class=\"dataframe\">\n",
       "  <thead>\n",
       "    <tr style=\"text-align: right;\">\n",
       "      <th></th>\n",
       "      <th>Unnamed: 0</th>\n",
       "      <th>nombre</th>\n",
       "      <th>codigo</th>\n",
       "      <th>XO</th>\n",
       "      <th>XA</th>\n",
       "      <th>longitud</th>\n",
       "      <th>latitud</th>\n",
       "      <th>altura</th>\n",
       "      <th>dato</th>\n",
       "      <th>90%</th>\n",
       "      <th>99%</th>\n",
       "      <th>75%</th>\n",
       "      <th>umb1</th>\n",
       "      <th>umb2</th>\n",
       "      <th>fecha</th>\n",
       "      <th>flag</th>\n",
       "      <th>flagV2</th>\n",
       "      <th>imagen</th>\n",
       "    </tr>\n",
       "  </thead>\n",
       "  <tbody>\n",
       "    <tr>\n",
       "      <th>5121</th>\n",
       "      <td>19022</td>\n",
       "      <td>CRUCERO ALTO</td>\n",
       "      <td>47E3903C</td>\n",
       "      <td>701</td>\n",
       "      <td>951</td>\n",
       "      <td>-70.91100</td>\n",
       "      <td>-15.76448</td>\n",
       "      <td>4511.0</td>\n",
       "      <td>0.6</td>\n",
       "      <td>0.0</td>\n",
       "      <td>1.1</td>\n",
       "      <td>0.0</td>\n",
       "      <td>2.2</td>\n",
       "      <td>5.1</td>\n",
       "      <td>2021-03-22-13</td>\n",
       "      <td>C0000002</td>\n",
       "      <td>D02</td>\n",
       "      <td>701--951--2021-03-22-13</td>\n",
       "    </tr>\n",
       "    <tr>\n",
       "      <th>33876</th>\n",
       "      <td>1910</td>\n",
       "      <td>CAPACHIQUE</td>\n",
       "      <td>472EB1D2</td>\n",
       "      <td>291</td>\n",
       "      <td>513</td>\n",
       "      <td>-78.31184</td>\n",
       "      <td>-7.85642</td>\n",
       "      <td>2904.0</td>\n",
       "      <td>0.2</td>\n",
       "      <td>0.0</td>\n",
       "      <td>1.2</td>\n",
       "      <td>0.0</td>\n",
       "      <td>5.0</td>\n",
       "      <td>8.7</td>\n",
       "      <td>2021-11-17-05</td>\n",
       "      <td>C0000002</td>\n",
       "      <td>D02</td>\n",
       "      <td>291--513--2021-11-17-05</td>\n",
       "    </tr>\n",
       "  </tbody>\n",
       "</table>\n",
       "</div>"
      ],
      "text/plain": [
       "       Unnamed: 0        nombre    codigo   XO   XA  longitud   latitud  \\\n",
       "5121        19022  CRUCERO ALTO  47E3903C  701  951 -70.91100 -15.76448   \n",
       "33876        1910    CAPACHIQUE  472EB1D2  291  513 -78.31184  -7.85642   \n",
       "\n",
       "       altura  dato  90%  99%  75%  umb1  umb2          fecha      flag  \\\n",
       "5121   4511.0   0.6  0.0  1.1  0.0   2.2   5.1  2021-03-22-13  C0000002   \n",
       "33876  2904.0   0.2  0.0  1.2  0.0   5.0   8.7  2021-11-17-05  C0000002   \n",
       "\n",
       "      flagV2                   imagen  \n",
       "5121     D02  701--951--2021-03-22-13  \n",
       "33876    D02  291--513--2021-11-17-05  "
      ]
     },
     "execution_count": 55,
     "metadata": {},
     "output_type": "execute_result"
    }
   ],
   "source": [
    "dfLimpioCLAS_DUD, _dsTrain, _dsValid, _dsTest = getModelo_DS(dsInit, path_imagenes, p_clas_dud ,comentario=comentarioCLAS_DUD, read=False)\n",
    "dfLimpioCLAS_DUD.head(2)"
   ]
  },
  {
   "cell_type": "code",
   "execution_count": 153,
   "id": "a9b88d15",
   "metadata": {},
   "outputs": [],
   "source": [
    "\"\"\"\n",
    "Clasificacion\n",
    "\"\"\"\n",
    "comentarioCLAS_DUD = 'VFinal - Replica V7 (Var RandomState):  SWAP VAL Y TEST!!'\n",
    "p_clas_dud = {    \n",
    "    # parametros del proyecto\n",
    "    'products'   : products,\n",
    "    'times'      : times,\n",
    "    'path_base'  : path_base,\n",
    "\n",
    "    # parametros del dataset      \n",
    "    'flags'      : ['C0000002','M0000002'],\n",
    "    'flagV2'     : ['D01','D02','C01'],\n",
    "    'estaciones' : [],\n",
    "    'ceros'      : False,\n",
    "    'delete'     : True,\n",
    "    'menor'      : None,\n",
    "    'mayor'      : None,\n",
    "    \n",
    "    # Split    \n",
    "    'validacion' : 0.1,\n",
    "    'pruebas'    : 0.11,\n",
    "    'random_state' : 50, #5 (m0.1)\n",
    "    'fixed_hour' : '10', # max 23 hour\n",
    "    'stratify'   : 'flag_m2_group',\n",
    "    'index'      : 'index_st_group',\n",
    "    'niv_prec'   : 6,\n",
    "    'col_prec'   : 'umb1',\n",
    "    \n",
    "    # Modelo\n",
    "    'redTipo'    : 'Clasificacion',\n",
    "    \n",
    "    # PARA MODELOS DE CLASIFICACION\n",
    "    'claseName'  : 'clase',\n",
    "    'condicion_1': ['flag','C0000002'],    \n",
    "    \n",
    "    # Nombres\n",
    "    'nameDS'     : 'ClaseVFinal_M0',       \n",
    "}"
   ]
  },
  {
   "cell_type": "code",
   "execution_count": 20,
   "id": "12169e71-2880-4444-be59-b6c06d399404",
   "metadata": {},
   "outputs": [],
   "source": [
    "dsInit = pd.read_csv(listDataset[0])"
   ]
  },
  {
   "cell_type": "code",
   "execution_count": 154,
   "id": "8bc9d890",
   "metadata": {},
   "outputs": [],
   "source": [
    "# -TODOO Quitamos C01 con C00000002\n",
    "dsInit = pd.read_csv(listDataset[0])\n",
    "dsInit = dsInit[~((dsInit['flag'].isin(['C0000002']))&(dsInit['flagV2'].isin(['C01'])))]"
   ]
  },
  {
   "cell_type": "code",
   "execution_count": 155,
   "id": "2a1afb83",
   "metadata": {},
   "outputs": [
    {
     "data": {
      "text/html": [
       "<div>\n",
       "<style scoped>\n",
       "    .dataframe tbody tr th:only-of-type {\n",
       "        vertical-align: middle;\n",
       "    }\n",
       "\n",
       "    .dataframe tbody tr th {\n",
       "        vertical-align: top;\n",
       "    }\n",
       "\n",
       "    .dataframe thead th {\n",
       "        text-align: right;\n",
       "    }\n",
       "</style>\n",
       "<table border=\"1\" class=\"dataframe\">\n",
       "  <thead>\n",
       "    <tr style=\"text-align: right;\">\n",
       "      <th></th>\n",
       "      <th></th>\n",
       "      <th>Unnamed: 0</th>\n",
       "      <th>nombre</th>\n",
       "      <th>codigo</th>\n",
       "      <th>XO</th>\n",
       "      <th>XA</th>\n",
       "      <th>longitud</th>\n",
       "      <th>latitud</th>\n",
       "      <th>altura</th>\n",
       "      <th>dato</th>\n",
       "      <th>90%</th>\n",
       "      <th>99%</th>\n",
       "      <th>75%</th>\n",
       "      <th>umb1</th>\n",
       "      <th>umb2</th>\n",
       "      <th>fecha</th>\n",
       "      <th>imagen</th>\n",
       "    </tr>\n",
       "    <tr>\n",
       "      <th>flag</th>\n",
       "      <th>flagV2</th>\n",
       "      <th></th>\n",
       "      <th></th>\n",
       "      <th></th>\n",
       "      <th></th>\n",
       "      <th></th>\n",
       "      <th></th>\n",
       "      <th></th>\n",
       "      <th></th>\n",
       "      <th></th>\n",
       "      <th></th>\n",
       "      <th></th>\n",
       "      <th></th>\n",
       "      <th></th>\n",
       "      <th></th>\n",
       "      <th></th>\n",
       "      <th></th>\n",
       "    </tr>\n",
       "  </thead>\n",
       "  <tbody>\n",
       "    <tr>\n",
       "      <th rowspan=\"2\" valign=\"top\">C0000002</th>\n",
       "      <th>D01</th>\n",
       "      <td>11544</td>\n",
       "      <td>11544</td>\n",
       "      <td>11544</td>\n",
       "      <td>11544</td>\n",
       "      <td>11544</td>\n",
       "      <td>11544</td>\n",
       "      <td>11544</td>\n",
       "      <td>11544</td>\n",
       "      <td>11544</td>\n",
       "      <td>11544</td>\n",
       "      <td>11544</td>\n",
       "      <td>11544</td>\n",
       "      <td>11544</td>\n",
       "      <td>11544</td>\n",
       "      <td>11544</td>\n",
       "      <td>11544</td>\n",
       "    </tr>\n",
       "    <tr>\n",
       "      <th>D02</th>\n",
       "      <td>20336</td>\n",
       "      <td>20336</td>\n",
       "      <td>20336</td>\n",
       "      <td>20336</td>\n",
       "      <td>20336</td>\n",
       "      <td>20336</td>\n",
       "      <td>20336</td>\n",
       "      <td>20336</td>\n",
       "      <td>20336</td>\n",
       "      <td>20336</td>\n",
       "      <td>20336</td>\n",
       "      <td>20336</td>\n",
       "      <td>20336</td>\n",
       "      <td>20336</td>\n",
       "      <td>20336</td>\n",
       "      <td>20336</td>\n",
       "    </tr>\n",
       "    <tr>\n",
       "      <th rowspan=\"3\" valign=\"top\">M0000002</th>\n",
       "      <th>C01</th>\n",
       "      <td>2306</td>\n",
       "      <td>2306</td>\n",
       "      <td>2306</td>\n",
       "      <td>2306</td>\n",
       "      <td>2306</td>\n",
       "      <td>2306</td>\n",
       "      <td>2306</td>\n",
       "      <td>2306</td>\n",
       "      <td>2306</td>\n",
       "      <td>2306</td>\n",
       "      <td>2306</td>\n",
       "      <td>2306</td>\n",
       "      <td>2306</td>\n",
       "      <td>2306</td>\n",
       "      <td>2306</td>\n",
       "      <td>2306</td>\n",
       "    </tr>\n",
       "    <tr>\n",
       "      <th>D01</th>\n",
       "      <td>238</td>\n",
       "      <td>238</td>\n",
       "      <td>238</td>\n",
       "      <td>238</td>\n",
       "      <td>238</td>\n",
       "      <td>238</td>\n",
       "      <td>238</td>\n",
       "      <td>238</td>\n",
       "      <td>238</td>\n",
       "      <td>238</td>\n",
       "      <td>238</td>\n",
       "      <td>238</td>\n",
       "      <td>238</td>\n",
       "      <td>238</td>\n",
       "      <td>238</td>\n",
       "      <td>238</td>\n",
       "    </tr>\n",
       "    <tr>\n",
       "      <th>D02</th>\n",
       "      <td>258</td>\n",
       "      <td>258</td>\n",
       "      <td>258</td>\n",
       "      <td>258</td>\n",
       "      <td>258</td>\n",
       "      <td>258</td>\n",
       "      <td>258</td>\n",
       "      <td>258</td>\n",
       "      <td>258</td>\n",
       "      <td>258</td>\n",
       "      <td>258</td>\n",
       "      <td>258</td>\n",
       "      <td>258</td>\n",
       "      <td>258</td>\n",
       "      <td>258</td>\n",
       "      <td>258</td>\n",
       "    </tr>\n",
       "  </tbody>\n",
       "</table>\n",
       "</div>"
      ],
      "text/plain": [
       "                 Unnamed: 0  nombre  codigo     XO     XA  longitud  latitud  \\\n",
       "flag     flagV2                                                                \n",
       "C0000002 D01          11544   11544   11544  11544  11544     11544    11544   \n",
       "         D02          20336   20336   20336  20336  20336     20336    20336   \n",
       "M0000002 C01           2306    2306    2306   2306   2306      2306     2306   \n",
       "         D01            238     238     238    238    238       238      238   \n",
       "         D02            258     258     258    258    258       258      258   \n",
       "\n",
       "                 altura   dato    90%    99%    75%   umb1   umb2  fecha  \\\n",
       "flag     flagV2                                                            \n",
       "C0000002 D01      11544  11544  11544  11544  11544  11544  11544  11544   \n",
       "         D02      20336  20336  20336  20336  20336  20336  20336  20336   \n",
       "M0000002 C01       2306   2306   2306   2306   2306   2306   2306   2306   \n",
       "         D01        238    238    238    238    238    238    238    238   \n",
       "         D02        258    258    258    258    258    258    258    258   \n",
       "\n",
       "                 imagen  \n",
       "flag     flagV2          \n",
       "C0000002 D01      11544  \n",
       "         D02      20336  \n",
       "M0000002 C01       2306  \n",
       "         D01        238  \n",
       "         D02        258  "
      ]
     },
     "execution_count": 155,
     "metadata": {},
     "output_type": "execute_result"
    }
   ],
   "source": [
    "dsInit.groupby(['flag','flagV2']).count()"
   ]
  },
  {
   "cell_type": "code",
   "execution_count": 150,
   "id": "390be82e",
   "metadata": {},
   "outputs": [],
   "source": [
    "#dsInit[(dsInit['dato']<1)&(dsInit['flag']=='M0000002')].groupby('dato').count()"
   ]
  },
  {
   "cell_type": "code",
   "execution_count": 156,
   "id": "9ee59303",
   "metadata": {},
   "outputs": [
    {
     "name": "stdout",
     "output_type": "stream",
     "text": [
      "Tipo de dataset: Clasificacion\n",
      "Se leera los archivos de datasets...\n",
      "Tiempo tomado: 0.00s\n",
      "+Cantidad de datos leidos 34682\n",
      "\n",
      "Se elimnara los valores nulos y dudosos\n",
      "Tiempo tomado: 0.02s\n",
      "+Cantidad de datos luego de elimnar nulos 34682\n",
      "-------> CANTIDAD FINAL DE DATOS :  32620 <--------------\n",
      "Tiempo total: 0.04s\n",
      "Tamaño de los datasets: \n",
      "TRAIN   : 26308 - 80.64990803188228 - C0000002    0.976661\n",
      "M0000002    0.023339\n",
      "Name: flag, dtype: float64\n",
      "VALID   : 3211 - 9.843654199877376 - C0000002    0.978823\n",
      "M0000002    0.021177\n",
      "Name: flag, dtype: float64\n",
      "PRUEBAS : 3101  - 9.506437768240342 - C0000002    0.981296\n",
      "M0000002    0.018704\n",
      "Name: flag, dtype: float64\n",
      "           ESTADISCIAS DEL ClaseVFinal_M0 \n",
      "\n",
      "Flags       : ['C0000002' 'M0000002']\n",
      "Estaciones  : 153\n",
      "Totales     : 32620\n",
      "Ceros       : 0\n",
      "Clase 0(M02): 2.2685469037400368 - 740\n",
      "Clase 1(C02): 97.73145309625997 - 31880\n",
      "Maximo      : 337.5\n",
      "Media       : 1.9167084610668301\n",
      "STD         : 8.238564165577053\n"
     ]
    },
    {
     "data": {
      "image/png": "[encoded data removed]",
      "text/plain": [
       "<Figure size 432x288 with 1 Axes>"
      ]
     },
     "metadata": {
      "needs_background": "light"
     },
     "output_type": "display_data"
    },
    {
     "data": {
      "image/png": "[encoded data removed]",
      "text/plain": [
       "<Figure size 432x288 with 1 Axes>"
      ]
     },
     "metadata": {
      "needs_background": "light"
     },
     "output_type": "display_data"
    },
    {
     "data": {
      "text/html": [
       "<div>\n",
       "<style scoped>\n",
       "    .dataframe tbody tr th:only-of-type {\n",
       "        vertical-align: middle;\n",
       "    }\n",
       "\n",
       "    .dataframe tbody tr th {\n",
       "        vertical-align: top;\n",
       "    }\n",
       "\n",
       "    .dataframe thead th {\n",
       "        text-align: right;\n",
       "    }\n",
       "</style>\n",
       "<table border=\"1\" class=\"dataframe\">\n",
       "  <thead>\n",
       "    <tr style=\"text-align: right;\">\n",
       "      <th></th>\n",
       "      <th>index</th>\n",
       "      <th>Unnamed: 0</th>\n",
       "      <th>nombre</th>\n",
       "      <th>codigo</th>\n",
       "      <th>XO</th>\n",
       "      <th>XA</th>\n",
       "      <th>longitud</th>\n",
       "      <th>latitud</th>\n",
       "      <th>altura</th>\n",
       "      <th>dato</th>\n",
       "      <th>...</th>\n",
       "      <th>75%</th>\n",
       "      <th>umb1</th>\n",
       "      <th>umb2</th>\n",
       "      <th>fecha</th>\n",
       "      <th>flag</th>\n",
       "      <th>flagV2</th>\n",
       "      <th>imagen</th>\n",
       "      <th>clase</th>\n",
       "      <th>index_st_group</th>\n",
       "      <th>flag_m2_group</th>\n",
       "    </tr>\n",
       "  </thead>\n",
       "  <tbody>\n",
       "    <tr>\n",
       "      <th>0</th>\n",
       "      <td>7211</td>\n",
       "      <td>4993</td>\n",
       "      <td>CACHICOTO</td>\n",
       "      <td>47E845FC</td>\n",
       "      <td>400</td>\n",
       "      <td>586</td>\n",
       "      <td>-76.35028</td>\n",
       "      <td>-9.18361</td>\n",
       "      <td>1109.0</td>\n",
       "      <td>3.6</td>\n",
       "      <td>...</td>\n",
       "      <td>0.0</td>\n",
       "      <td>5.5</td>\n",
       "      <td>28.6</td>\n",
       "      <td>2021-02-16-21</td>\n",
       "      <td>C0000002</td>\n",
       "      <td>D02</td>\n",
       "      <td>400--586--2021-02-16-21</td>\n",
       "      <td>1</td>\n",
       "      <td>47E845FC-0</td>\n",
       "      <td>0</td>\n",
       "    </tr>\n",
       "    <tr>\n",
       "      <th>1</th>\n",
       "      <td>33805</td>\n",
       "      <td>7685</td>\n",
       "      <td>CACHICOTO</td>\n",
       "      <td>47E845FC</td>\n",
       "      <td>400</td>\n",
       "      <td>586</td>\n",
       "      <td>-76.35028</td>\n",
       "      <td>-9.18361</td>\n",
       "      <td>1109.0</td>\n",
       "      <td>15.0</td>\n",
       "      <td>...</td>\n",
       "      <td>0.0</td>\n",
       "      <td>5.5</td>\n",
       "      <td>28.6</td>\n",
       "      <td>2021-02-16-22</td>\n",
       "      <td>C0000002</td>\n",
       "      <td>D02</td>\n",
       "      <td>400--586--2021-02-16-22</td>\n",
       "      <td>1</td>\n",
       "      <td>47E845FC-0</td>\n",
       "      <td>0</td>\n",
       "    </tr>\n",
       "  </tbody>\n",
       "</table>\n",
       "<p>2 rows × 22 columns</p>\n",
       "</div>"
      ],
      "text/plain": [
       "   index  Unnamed: 0     nombre    codigo   XO   XA  longitud  latitud  \\\n",
       "0   7211        4993  CACHICOTO  47E845FC  400  586 -76.35028 -9.18361   \n",
       "1  33805        7685  CACHICOTO  47E845FC  400  586 -76.35028 -9.18361   \n",
       "\n",
       "   altura  dato  ...  75%  umb1  umb2          fecha      flag flagV2  \\\n",
       "0  1109.0   3.6  ...  0.0   5.5  28.6  2021-02-16-21  C0000002    D02   \n",
       "1  1109.0  15.0  ...  0.0   5.5  28.6  2021-02-16-22  C0000002    D02   \n",
       "\n",
       "                    imagen clase index_st_group  flag_m2_group  \n",
       "0  400--586--2021-02-16-21     1     47E845FC-0              0  \n",
       "1  400--586--2021-02-16-22     1     47E845FC-0              0  \n",
       "\n",
       "[2 rows x 22 columns]"
      ]
     },
     "execution_count": 156,
     "metadata": {},
     "output_type": "execute_result"
    }
   ],
   "source": [
    "dfLimpioCLAS_DUD, _dsTrain, _dsValid, _dsTest = getModelo_DS(dsInit, path_imagenes, p_clas_dud ,comentario=comentarioCLAS_DUD, read=False)\n",
    "dfLimpioCLAS_DUD.head(2)"
   ]
  },
  {
   "cell_type": "code",
   "execution_count": 18,
   "id": "0e3adedf",
   "metadata": {},
   "outputs": [
    {
     "data": {
      "image/png": "[encoded data removed]",
      "text/plain": [
       "<Figure size 432x288 with 1 Axes>"
      ]
     },
     "metadata": {
      "needs_background": "light"
     },
     "output_type": "display_data"
    }
   ],
   "source": [
    "import pandas as pd\n",
    "\n",
    "\n",
    "visualizarEstaciones(df_temp[~df_temp['codigo'].isin(['47E1F02E','47251282'])], name = 'CLASIFICACION',imagenTest='')"
   ]
  },
  {
   "cell_type": "code",
   "execution_count": 16,
   "id": "bb728b18-7e43-41c5-ab7a-dbfbc4be6660",
   "metadata": {},
   "outputs": [
    {
     "ename": "NameError",
     "evalue": "name 'codigo' is not defined",
     "output_type": "error",
     "traceback": [
      "\u001b[1;31m---------------------------------------------------------------------------\u001b[0m",
      "\u001b[1;31mNameError\u001b[0m                                 Traceback (most recent call last)",
      "Input \u001b[1;32mIn [16]\u001b[0m, in \u001b[0;36m<cell line: 1>\u001b[1;34m()\u001b[0m\n\u001b[1;32m----> 1\u001b[0m df_temp[\u001b[38;5;241m~\u001b[39m\u001b[43mcodigo\u001b[49m[\u001b[38;5;124m'\u001b[39m\u001b[38;5;124mcodigo\u001b[39m\u001b[38;5;124m'\u001b[39m]\u001b[38;5;241m.\u001b[39misin([\u001b[38;5;124m'\u001b[39m\u001b[38;5;124m47E1F02E\u001b[39m\u001b[38;5;124m'\u001b[39m,\u001b[38;5;124m'\u001b[39m\u001b[38;5;124m47251282\u001b[39m\u001b[38;5;124m'\u001b[39m])]\n",
      "\u001b[1;31mNameError\u001b[0m: name 'codigo' is not defined"
     ]
    }
   ],
   "source": [
    "df_temp[~df_temp['codigo'].isin(['47E1F02E','47251282'])]"
   ]
  },
  {
   "cell_type": "code",
   "execution_count": 157,
   "id": "b6d0fe4c",
   "metadata": {},
   "outputs": [
    {
     "name": "stdout",
     "output_type": "stream",
     "text": [
      "           ESTADISCIAS DEL ds \n",
      "\n",
      "Flags       : ['C0000002' 'M0000002']\n",
      "Estaciones  : 151\n",
      "Totales     : 26308\n",
      "Ceros       : 0\n",
      "Clase 0(M02): 2.3338908316861793 - 614\n",
      "Clase 1(C02): 97.66610916831382 - 25694\n",
      "Maximo      : 337.5\n",
      "Media       : 1.8983320662916223\n",
      "STD         : 8.021763744019845\n"
     ]
    },
    {
     "data": {
      "image/png": "[encoded data removed]",
      "text/plain": [
       "<Figure size 432x288 with 1 Axes>"
      ]
     },
     "metadata": {
      "needs_background": "light"
     },
     "output_type": "display_data"
    }
   ],
   "source": [
    "statsDS(_dsTrain, name='ds', tipo='Clasificacion')"
   ]
  },
  {
   "cell_type": "code",
   "execution_count": 158,
   "id": "6af54339",
   "metadata": {},
   "outputs": [
    {
     "name": "stdout",
     "output_type": "stream",
     "text": [
      "           ESTADISCIAS DEL ds \n",
      "\n",
      "Flags       : ['C0000002' 'M0000002']\n",
      "Estaciones  : 130\n",
      "Totales     : 3211\n",
      "Ceros       : 0\n",
      "Clase 0(M02): 2.117720336343818 - 68\n",
      "Clase 1(C02): 97.88227966365618 - 3143\n",
      "Maximo      : 310.8\n",
      "Media       : 1.9396947991279976\n",
      "STD         : 9.319314711828367\n"
     ]
    },
    {
     "data": {
      "image/png": "[encoded data removed]",
      "text/plain": [
       "<Figure size 432x288 with 1 Axes>"
      ]
     },
     "metadata": {
      "needs_background": "light"
     },
     "output_type": "display_data"
    }
   ],
   "source": [
    "statsDS(_dsValid, name='ds', tipo='Clasificacion')"
   ]
  },
  {
   "cell_type": "code",
   "execution_count": 159,
   "id": "d113330f",
   "metadata": {},
   "outputs": [
    {
     "name": "stdout",
     "output_type": "stream",
     "text": [
      "           ESTADISCIAS DEL ds \n",
      "\n",
      "Flags       : ['C0000002' 'M0000002']\n",
      "Estaciones  : 136\n",
      "Totales     : 3101\n",
      "Ceros       : 0\n",
      "Clase 0(M02): 1.870364398581103 - 58\n",
      "Clase 1(C02): 98.1296356014189 - 3043\n",
      "Maximo      : 310.8\n",
      "Media       : 2.0488068365043537\n",
      "STD         : 8.841014329948417\n"
     ]
    },
    {
     "data": {
      "image/png": "[encoded data removed]",
      "text/plain": [
       "<Figure size 432x288 with 1 Axes>"
      ]
     },
     "metadata": {
      "needs_background": "light"
     },
     "output_type": "display_data"
    }
   ],
   "source": [
    "statsDS(_dsTest, name='ds', tipo='Clasificacion')"
   ]
  },
  {
   "cell_type": "code",
   "execution_count": 72,
   "id": "4ab2189a",
   "metadata": {},
   "outputs": [],
   "source": [
    "#px.scatter(_dsTrain, x='dato',y='codigo', color='flag')"
   ]
  },
  {
   "cell_type": "code",
   "execution_count": 12,
   "id": "c80589ae",
   "metadata": {},
   "outputs": [],
   "source": [
    "df_v7 = pd.read_csv('C:/Users/Shounen/Desktop/Ciclo XI/Tesis 2/FinalTesis/Tesis2-DiegoParedes/Archivos/Dataset/Clasificacion/ClaseV7_CompletoDS.csv')"
   ]
  },
  {
   "cell_type": "code",
   "execution_count": 15,
   "id": "4e314e1a-26d2-4aa7-9f54-eb33484917f6",
   "metadata": {},
   "outputs": [
    {
     "data": {
      "text/plain": [
       "array(['D02', 'D01'], dtype=object)"
      ]
     },
     "execution_count": 15,
     "metadata": {},
     "output_type": "execute_result"
    }
   ],
   "source": [
    "df_v7['flagV2'].unique()"
   ]
  },
  {
   "cell_type": "code",
   "execution_count": 16,
   "id": "6713c5e7",
   "metadata": {},
   "outputs": [
    {
     "name": "stdout",
     "output_type": "stream",
     "text": [
      "           ESTADISCIAS DEL ds_v7 \n",
      "\n",
      "Flags       : ['C0000002' 'M0000002']\n",
      "Estaciones  : 146\n",
      "Totales     : 12623\n",
      "Ceros       : 0\n",
      "Clase 0(M02): 1.1407747762021707 - 144\n",
      "Clase 1(C02): 98.85922522379784 - 12479\n",
      "Maximo      : 337.5\n",
      "Media       : 4.3519004990889645\n",
      "STD         : 12.86890030395137\n"
     ]
    },
    {
     "data": {
      "image/png": "[encoded data removed]",
      "text/plain": [
       "<Figure size 432x288 with 1 Axes>"
      ]
     },
     "metadata": {
      "needs_background": "light"
     },
     "output_type": "display_data"
    }
   ],
   "source": [
    "statsDS(df_v7, name='ds_v7', tipo='Clasificacion')"
   ]
  },
  {
   "cell_type": "code",
   "execution_count": 18,
   "id": "5f7d580d",
   "metadata": {},
   "outputs": [],
   "source": [
    "#px.scatter(df_v7, x='dato',y='codigo', color='flag')"
   ]
  },
  {
   "cell_type": "code",
   "execution_count": 20,
   "id": "dcacf14d",
   "metadata": {},
   "outputs": [],
   "source": [
    "#df_v7['dato'].min()"
   ]
  },
  {
   "cell_type": "code",
   "execution_count": 23,
   "id": "2d7ad7d5",
   "metadata": {},
   "outputs": [
    {
     "name": "stdout",
     "output_type": "stream",
     "text": [
      "(12623, 19)\n",
      "Index(['Unnamed: 0.1', 'Unnamed: 0', 'nombre', 'codigo', 'XO', 'XA',\n",
      "       'longitud', 'latitud', 'altura', 'dato', '90%', '99%', '75%', 'umb1',\n",
      "       'umb2', 'fecha', 'flag', 'flagV2', 'imagen'],\n",
      "      dtype='object')\n"
     ]
    },
    {
     "data": {
      "text/html": [
       "<div>\n",
       "<style scoped>\n",
       "    .dataframe tbody tr th:only-of-type {\n",
       "        vertical-align: middle;\n",
       "    }\n",
       "\n",
       "    .dataframe tbody tr th {\n",
       "        vertical-align: top;\n",
       "    }\n",
       "\n",
       "    .dataframe thead th {\n",
       "        text-align: right;\n",
       "    }\n",
       "</style>\n",
       "<table border=\"1\" class=\"dataframe\">\n",
       "  <thead>\n",
       "    <tr style=\"text-align: right;\">\n",
       "      <th></th>\n",
       "      <th>Unnamed: 0.1</th>\n",
       "      <th>Unnamed: 0</th>\n",
       "      <th>nombre</th>\n",
       "      <th>codigo</th>\n",
       "      <th>XO</th>\n",
       "      <th>XA</th>\n",
       "      <th>longitud</th>\n",
       "      <th>latitud</th>\n",
       "      <th>altura</th>\n",
       "      <th>dato</th>\n",
       "      <th>90%</th>\n",
       "      <th>99%</th>\n",
       "      <th>75%</th>\n",
       "      <th>umb1</th>\n",
       "      <th>umb2</th>\n",
       "      <th>fecha</th>\n",
       "      <th>flag</th>\n",
       "      <th>flagV2</th>\n",
       "      <th>imagen</th>\n",
       "    </tr>\n",
       "  </thead>\n",
       "  <tbody>\n",
       "    <tr>\n",
       "      <th>0</th>\n",
       "      <td>27871</td>\n",
       "      <td>18494</td>\n",
       "      <td>PUENTE SALINAS AMOJAO</td>\n",
       "      <td>472B55E0</td>\n",
       "      <td>281</td>\n",
       "      <td>379</td>\n",
       "      <td>-78.48940</td>\n",
       "      <td>-5.45096</td>\n",
       "      <td>381.0</td>\n",
       "      <td>4.1</td>\n",
       "      <td>0.1</td>\n",
       "      <td>3.90</td>\n",
       "      <td>0.0</td>\n",
       "      <td>0.5</td>\n",
       "      <td>2.7</td>\n",
       "      <td>2021-11-14-12</td>\n",
       "      <td>C0000002</td>\n",
       "      <td>D02</td>\n",
       "      <td>281--379--2021-11-14-12</td>\n",
       "    </tr>\n",
       "    <tr>\n",
       "      <th>1</th>\n",
       "      <td>4969</td>\n",
       "      <td>42999</td>\n",
       "      <td>MALINOWSKY</td>\n",
       "      <td>47E8336C</td>\n",
       "      <td>779</td>\n",
       "      <td>794</td>\n",
       "      <td>-69.51750</td>\n",
       "      <td>-12.93411</td>\n",
       "      <td>215.0</td>\n",
       "      <td>2.0</td>\n",
       "      <td>0.0</td>\n",
       "      <td>8.26</td>\n",
       "      <td>0.0</td>\n",
       "      <td>1.1</td>\n",
       "      <td>10.4</td>\n",
       "      <td>2021-11-27-03</td>\n",
       "      <td>C0000002</td>\n",
       "      <td>D02</td>\n",
       "      <td>779--794--2021-11-27-03</td>\n",
       "    </tr>\n",
       "    <tr>\n",
       "      <th>2</th>\n",
       "      <td>2144</td>\n",
       "      <td>8175</td>\n",
       "      <td>SALITRAL EHA</td>\n",
       "      <td>47E067B6</td>\n",
       "      <td>206</td>\n",
       "      <td>373</td>\n",
       "      <td>-79.83761</td>\n",
       "      <td>-5.34602</td>\n",
       "      <td>156.0</td>\n",
       "      <td>1.7</td>\n",
       "      <td>0.0</td>\n",
       "      <td>0.70</td>\n",
       "      <td>0.0</td>\n",
       "      <td>6.0</td>\n",
       "      <td>17.3</td>\n",
       "      <td>2021-12-10-21</td>\n",
       "      <td>C0000002</td>\n",
       "      <td>D02</td>\n",
       "      <td>206--373--2021-12-10-21</td>\n",
       "    </tr>\n",
       "    <tr>\n",
       "      <th>3</th>\n",
       "      <td>461</td>\n",
       "      <td>32212</td>\n",
       "      <td>PUENTE AMBAN</td>\n",
       "      <td>47E1E358</td>\n",
       "      <td>257</td>\n",
       "      <td>442</td>\n",
       "      <td>-78.91262</td>\n",
       "      <td>-6.58271</td>\n",
       "      <td>1532.0</td>\n",
       "      <td>2.9</td>\n",
       "      <td>0.0</td>\n",
       "      <td>2.40</td>\n",
       "      <td>0.0</td>\n",
       "      <td>1.9</td>\n",
       "      <td>5.2</td>\n",
       "      <td>2021-10-01-14</td>\n",
       "      <td>C0000002</td>\n",
       "      <td>D02</td>\n",
       "      <td>257--442--2021-10-01-14</td>\n",
       "    </tr>\n",
       "    <tr>\n",
       "      <th>4</th>\n",
       "      <td>15683</td>\n",
       "      <td>14721</td>\n",
       "      <td>GUZMANGO</td>\n",
       "      <td>472C81BC</td>\n",
       "      <td>258</td>\n",
       "      <td>486</td>\n",
       "      <td>-78.90330</td>\n",
       "      <td>-7.38133</td>\n",
       "      <td>2464.0</td>\n",
       "      <td>2.4</td>\n",
       "      <td>0.0</td>\n",
       "      <td>1.60</td>\n",
       "      <td>0.0</td>\n",
       "      <td>4.0</td>\n",
       "      <td>11.7</td>\n",
       "      <td>2021-10-20-02</td>\n",
       "      <td>C0000002</td>\n",
       "      <td>D02</td>\n",
       "      <td>258--486--2021-10-20-02</td>\n",
       "    </tr>\n",
       "  </tbody>\n",
       "</table>\n",
       "</div>"
      ],
      "text/plain": [
       "   Unnamed: 0.1  Unnamed: 0                 nombre    codigo   XO   XA  \\\n",
       "0         27871       18494  PUENTE SALINAS AMOJAO  472B55E0  281  379   \n",
       "1          4969       42999             MALINOWSKY  47E8336C  779  794   \n",
       "2          2144        8175           SALITRAL EHA  47E067B6  206  373   \n",
       "3           461       32212           PUENTE AMBAN  47E1E358  257  442   \n",
       "4         15683       14721               GUZMANGO  472C81BC  258  486   \n",
       "\n",
       "   longitud   latitud  altura  dato  90%   99%  75%  umb1  umb2  \\\n",
       "0 -78.48940  -5.45096   381.0   4.1  0.1  3.90  0.0   0.5   2.7   \n",
       "1 -69.51750 -12.93411   215.0   2.0  0.0  8.26  0.0   1.1  10.4   \n",
       "2 -79.83761  -5.34602   156.0   1.7  0.0  0.70  0.0   6.0  17.3   \n",
       "3 -78.91262  -6.58271  1532.0   2.9  0.0  2.40  0.0   1.9   5.2   \n",
       "4 -78.90330  -7.38133  2464.0   2.4  0.0  1.60  0.0   4.0  11.7   \n",
       "\n",
       "           fecha      flag flagV2                   imagen  \n",
       "0  2021-11-14-12  C0000002    D02  281--379--2021-11-14-12  \n",
       "1  2021-11-27-03  C0000002    D02  779--794--2021-11-27-03  \n",
       "2  2021-12-10-21  C0000002    D02  206--373--2021-12-10-21  \n",
       "3  2021-10-01-14  C0000002    D02  257--442--2021-10-01-14  \n",
       "4  2021-10-20-02  C0000002    D02  258--486--2021-10-20-02  "
      ]
     },
     "execution_count": 23,
     "metadata": {},
     "output_type": "execute_result"
    }
   ],
   "source": [
    "print(df_v7.shape)\n",
    "print(df_v7.columns)\n",
    "df_v7.head()"
   ]
  }
 ],
 "metadata": {
  "kernelspec": {
   "display_name": "Python 3 (ipykernel)",
   "language": "python",
   "name": "python3"
  },
  "language_info": {
   "codemirror_mode": {
    "name": "ipython",
    "version": 3
   },
   "file_extension": ".py",
   "mimetype": "text/x-python",
   "name": "python",
   "nbconvert_exporter": "python",
   "pygments_lexer": "ipython3",
   "version": "3.9.11"
  }
 },
 "nbformat": 4,
 "nbformat_minor": 5
}
