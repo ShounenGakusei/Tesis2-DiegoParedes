{
 "cells": [
  {
   "cell_type": "code",
   "execution_count": 1,
   "id": "e91fd014",
   "metadata": {},
   "outputs": [],
   "source": [
    "\"\"\"\n",
    "OBJETIVO : Unir los datos de estaciones, umbrales y precipitaciones.\n",
    "           Ademas se limpia los datos: Solo C02 y M02, y se verifica que exista las imagenes satelitales\n",
    "            \n",
    "\"\"\"\n",
    "Autor='Diego Paredes'"
   ]
  },
  {
   "cell_type": "code",
   "execution_count": 2,
   "id": "df4b9330",
   "metadata": {},
   "outputs": [],
   "source": [
    "# Leer imagenes satelitales (.nc) \n",
    "from netCDF4 import Dataset, num2date\n",
    "\n",
    "# Graficos y visualizaciones\n",
    "import cartopy.crs as ccrs\n",
    "import cartopy.feature as cfw\n",
    "import matplotlib.pyplot as plt\n",
    "\n",
    "# Liberias para manejo de datos\n",
    "from sklearn.utils import shuffle\n",
    "from sklearn.model_selection import train_test_split\n",
    "import pandas as pd\n",
    "import numpy as np\n",
    "\n",
    "# Liberias estandar\n",
    "import re\n",
    "import time\n",
    "import os"
   ]
  },
  {
   "cell_type": "code",
   "execution_count": 38,
   "id": "aa19e283-4ba6-4741-84a6-c2a74ba98cfc",
   "metadata": {},
   "outputs": [],
   "source": [
    "from datetime import datetime, timedelta\n"
   ]
  },
  {
   "cell_type": "code",
   "execution_count": 3,
   "id": "70311502",
   "metadata": {},
   "outputs": [
    {
     "data": {
      "text/plain": [
       "'C:/Users/Shounen/Desktop/Ciclo XI/Tesis 2/FinalTesis/Tesis2-DiegoParedes'"
      ]
     },
     "execution_count": 3,
     "metadata": {},
     "output_type": "execute_result"
    }
   ],
   "source": [
    "\"\"\"\n",
    "DEFINIMOS EL PATH DEL PROYECTO \n",
    "\"\"\"\n",
    "with open('../../path_base.txt') as f:\n",
    "    path_base = f.read()\n",
    "path_base"
   ]
  },
  {
   "cell_type": "code",
   "execution_count": 4,
   "id": "caf93a80",
   "metadata": {},
   "outputs": [],
   "source": [
    "\"\"\"\n",
    "Variables generales\n",
    "\"\"\"\n",
    "path_imagenes = 'F:/GOES/' \n",
    "\n",
    "dsName = 'dsCompletoPP_V2'\n",
    "listDataset = [f'{path_base}/Archivos/Inicial/{dsName}.csv'] \n",
    "\n",
    "#Variables generales\n",
    "products = ['C07','C08','C13']\n",
    "times   = ['10','20','30','40','50','00']"
   ]
  },
  {
   "cell_type": "code",
   "execution_count": 5,
   "id": "fb92709c",
   "metadata": {},
   "outputs": [],
   "source": [
    "\"\"\"\n",
    "Metodos que permiten en un conjunto de estaciones (dataframe), agrega su posicion XO(longitud), XA(latitud)\n",
    "\"\"\"\n",
    "# Encuentra las longitudes y latitudes\n",
    "def getMapFile(imagenFile):    \n",
    "    try:\n",
    "        ds = Dataset(imagenFile)      \n",
    "    except:\n",
    "        print(\"No se pudo leer los archivos de imagen\")\n",
    "        print(imagenFile)\n",
    "        return -1,-1\n",
    "\n",
    "    # obtiene las coordenadas de los pixeles\n",
    "    lons = ds.variables['longitude'][:].data\n",
    "    lats = ds.variables['latitude'][:].data            \n",
    "        \n",
    "    return lons, lats  \n",
    "\n",
    "#Busca el valor X en el array, devuelve su posicion\n",
    "def getPosMap(x,array):    \n",
    "    pos = -1\n",
    "    for i in range(len(array)):\n",
    "        if abs(array[i]-x)<=0.01:\n",
    "            pos = i\n",
    "            \n",
    "    return  pos  \n",
    "\n",
    "#en el la imagen satelital\n",
    "def changeOrigenStation(estaciones,imagenFile):\n",
    "    try:\n",
    "        station = pd.read_csv(estaciones)   \n",
    "    except:\n",
    "        print(\"No se pudo leer el  archivos de estaciones\")\n",
    "        return False\n",
    "    \n",
    "    lo,la = getMapFile(imagenFile)\n",
    "    \n",
    "    station['XO'] = station.apply(lambda x: getPosMap(float(x['LON']), lo),axis=1)\n",
    "    station['XA'] = station.apply(lambda x: getPosMap(float(x['LAT']), la),axis=1)    \n",
    "    \n",
    "    \n",
    "    return station    "
   ]
  },
  {
   "cell_type": "code",
   "execution_count": 62,
   "id": "ebaeaec3",
   "metadata": {},
   "outputs": [],
   "source": [
    "#Del dataset guardamos los datos mas importantes en una columna para facilitar su lectura\n",
    "def obtenerDir(row):\n",
    "    fecha = row['fecha']\n",
    "    fecha_dt = datetime.strptime(fecha, \"%Y-%m-%d-%H\")\n",
    "    nueva_fecha_dt = fecha_dt + timedelta(hours=5)\n",
    "    nueva_fecha = nueva_fecha_dt.strftime(\"%Y-%m-%d-%H\")\n",
    "        \n",
    "    year, month, day, hour = nueva_fecha.split('-')\n",
    "    # filename = f'{path_base}comprimido/{year}_{month}_{day}/{hour}/'\n",
    "    return f\"{row['XO']}--{row['XA']}--{nueva_fecha}\""
   ]
  },
  {
   "cell_type": "code",
   "execution_count": 50,
   "id": "4d9befc8",
   "metadata": {},
   "outputs": [],
   "source": [
    "# Devuelve una lista con lo indices que no se encontraron lso archivos y el producto\n",
    "# Servira para ver si se teinen todas los frames de la fecha\n",
    "def comprobarFrames(dfOrignial, path_base, products, times, delete=1):    \n",
    "    #dfOrignial = obtenerDatos(datafile)   \n",
    "    start_time = time.time()\n",
    "    \n",
    "    dfTotal = pd.unique(dfOrignial['fecha'])\n",
    "    no_fecha = []\n",
    "    for fecha in dfTotal:\n",
    "        fecha_dt = datetime.strptime(fecha, \"%Y-%m-%d-%H\")\n",
    "        nueva_fecha_dt = fecha_dt + timedelta(hours=5)\n",
    "        nueva_fecha = nueva_fecha_dt.strftime(\"%Y-%m-%d-%H\")\n",
    "\n",
    "        year, month, day, hour = fecha.split('-')\n",
    "        existe = True\n",
    "        for p in products:\n",
    "            for t in range(len(times)):             \n",
    "                filename = f'{path_base}PNG/{nueva_fecha}/{nueva_fecha}_{t}.png'\n",
    "                try:                    \n",
    "                    file_size = os.path.getsize(filename)\n",
    "                    existe = file_size > 4100000\n",
    "                except: \n",
    "                    existe = False\n",
    "                    break\n",
    "                \n",
    "            if not existe:\n",
    "                break\n",
    "        if not existe:\n",
    "            no_fecha.append(fecha)\n",
    "            \n",
    "    print(filename)\n",
    "    if delete:\n",
    "        antes = len(dfOrignial)\n",
    "        df2 = dfOrignial[~dfOrignial['fecha'].isin(no_fecha)]\n",
    "        despues = len(df2)\n",
    "        print(f'{antes - despues}/{antes} datos eliminados: No se encontraron los archivos de imagenes satelitales')\n",
    "    else:\n",
    "        df2 = dfOrignial\n",
    "\n",
    "    print(\"Tiempo tomado en verificar datos: %.2fs\" % (time.time() - start_time))\n",
    "    return df2, no_fecha"
   ]
  },
  {
   "cell_type": "code",
   "execution_count": 54,
   "id": "da420d9a",
   "metadata": {},
   "outputs": [],
   "source": [
    "#Obtiene los datos de precipitacion de un archivo csv, los procesa y los guarda en OTRO archivo CSV\n",
    "#regresa la cantidad de estaciones sin datos de precipitaciones\n",
    "def procesarDatos(path_base,p,umbrales=None):  \n",
    "    start_time = time.time()\n",
    "    #Obtenemos la informacion de los archivos\n",
    "    #\"Valores\"  Contiene los valores de los datos de precipitacion de manera horaria por estacion (codigo)\n",
    "    #\"estaciones\" Contiene los daots de cada estacion (cordenadas,codigo,etc)  \n",
    "    try:        \n",
    "        dfCompleto = pd.read_csv(p['Fdata'],encoding='latin-1')    \n",
    "    except:\n",
    "        print(\"No se pudo leer el archivos de valores\")\n",
    "        return False\n",
    "    station = changeOrigenStation(p['Fanalisis'],p['imagenTest'])\n",
    "    \n",
    "    values = dfCompleto[dfCompleto['FLAG'].isin(p['siFLAG'])]  \n",
    "    \n",
    "    \n",
    "    #Lista de [nombre,codigo,xo,xa,longitud,latitud,altura,dato,año,mes,dia,hora,flag]\n",
    "    resultado = []\n",
    "    \n",
    "    #Numero filas\n",
    "    n = len(values.index) \n",
    "    print(f'Datos a procesar: {n}')\n",
    "    \n",
    "    #Auxiliares\n",
    "    total = n\n",
    "    completados = 1 \n",
    "    \n",
    "    noStation = {}   \n",
    "    for i in values.index:\n",
    "        #Codigo de estacion\n",
    "        cod = values['CODIGO'][i]        \n",
    "        st = station[station['Codigo'] == f'X{cod}']\n",
    "        if st.empty:            \n",
    "            st = station[station['Nombre'] == values['NOMBRE'][i]]\n",
    "        if st.empty:\n",
    "            noStation[cod] = values['NOMBRE'][i]\n",
    "            \n",
    "        if not st.empty:       \n",
    "            flag = values['FLAG'][i]            \n",
    "        \n",
    "            #Datos de estacion\n",
    "            nombre = st['Nombre'].iloc[0]\n",
    "            xo = st['XO'].iloc[0]\n",
    "            xa =  st['XA'].iloc[0]\n",
    "            lat = st['LAT'].iloc[0]\n",
    "            lon = st['LON'].iloc[0]\n",
    "            alt = st['ALT'].iloc[0]\n",
    "\n",
    "            _90 = st['90%'].iloc[0]\n",
    "            _99 = st['99%'].iloc[0]\n",
    "            _75 = st['75%'].iloc[0]\n",
    "\n",
    "            dfUmb = umbrales[umbrales['Codigo']==cod]\n",
    "            if not dfUmb.empty:                \n",
    "                umb1 = dfUmb['Umbral1'].iloc[0]\n",
    "                umb2 = dfUmb['Umbral2'].iloc[0]\n",
    "            else:\n",
    "                umb1 = -1\n",
    "                umb2 = -1\n",
    "\n",
    "            flagV2 =  values['FLAGV2'][i]\n",
    "            #Datos de precipitacion\n",
    "            dato = values['PRECIPITACION'][i]        \n",
    "            day, month , year = values['FECHA'][i].split('/')   \n",
    "            hour = values['HORA'][i].split(':')[0]                    \n",
    "\n",
    "            resultado.append([nombre,cod,xo,xa,lon,lat,alt,dato,_90,_99,_75,umb1,umb2,f'{year}-{month}-{day}-{hour}',flag,flagV2])\n",
    "            completados = completados + 1\n",
    "        \n",
    "        if not completados % 100000:\n",
    "            progreso = completados/total*100\n",
    "            print(f'Estaciones con Error: {len(noStation)}')\n",
    "            f = '{0:.3g}'.format(progreso)\n",
    "            print(f\"Procesando - {f}%\")\n",
    "    \n",
    "    print(f\"Tiempo tomado en procesar {completados}/{n} datos: %.5fs\" % (time.time() - start_time))\n",
    "    start_time = time.time()\n",
    "    \n",
    "    #Guardamos en un csv los datos \n",
    "    print(\"Guardando los datos al archivo dataset....\")\n",
    "    df = pd.DataFrame(resultado, columns = ['nombre','codigo','XO','XA','longitud','latitud','altura','dato','90%','99%','75%',\n",
    "                                            'umb1','umb2','fecha','flag','flagV2'])\n",
    "    \n",
    "    df, no_fecha = limpiarDatos(df, p['path_img'], p, read=False)\n",
    "    \n",
    "    df.to_csv(f'{path_base}/Archivos/Inicial/{p[\"dsName\"]}.csv', index=False)\n",
    "    print(f\"Tiempo tomado en guardar {completados}datos: %.5fs\" % (time.time() - start_time))\n",
    "    return noStation, df\n",
    "    "
   ]
  },
  {
   "cell_type": "code",
   "execution_count": 55,
   "id": "c496440b",
   "metadata": {},
   "outputs": [],
   "source": [
    "# Filtra por flags, borra datos absurdos (mayor a 401 y menor a 0),\n",
    "# y verifica que haya imagenes satatelitas para el dato\n",
    "def limpiarDatos(listNames, path_imagenes, p, read=True):    \n",
    "    df = []\n",
    "    start_time = time.time()\n",
    "    print(f'Se leera los archivos de datasets...')\n",
    "    if read:\n",
    "        for name in listNames:\n",
    "            try:\n",
    "                df.append(pd.read_csv(name))   \n",
    "            except:\n",
    "                print(f'No se pudo leer el archivo {name} de dataset')\n",
    "                return -1\n",
    "\n",
    "        if len(df)>1:\n",
    "            dsCompleto =  pd.concat(df, ignore_index=True) \n",
    "        else:\n",
    "            dsCompleto =  df[0]\n",
    "    else:\n",
    "        dsCompleto = listNames\n",
    "        \n",
    "        \n",
    "    print(\"Tiempo tomado: %.2fs\" % (time.time() - start_time))\n",
    "    print(f'+Cantidad de datos leidos {len(dsCompleto)}')\n",
    "    \n",
    "    # Quitamos los NA valores, negativos y mayores a 400\n",
    "    print(f'\\nSe elimnara los valores nulos y dudosos')\n",
    "    dsCompleto.dropna(subset=['dato'], axis='index', inplace=True)    \n",
    "    dsCompleto = dsCompleto[dsCompleto['flag']!='ND']\n",
    "    dsCompleto = dsCompleto[dsCompleto['dato']>=0]\n",
    "    dsCompleto = dsCompleto[dsCompleto['dato']<401]\n",
    "    print(\"Tiempo tomado: %.2fs\" % (time.time() - start_time))\n",
    "    print(f'+Cantidad de datos luego de elimnar nulos {len(dsCompleto)}')\n",
    "              \n",
    "    \n",
    "    # Seleccionamos FLAGS\n",
    "    if p['siFLAG']:\n",
    "        dsCompleto = dsCompleto[dsCompleto['flag'].isin(p['siFLAG'])]    \n",
    "    if p['siFLAGV2']:\n",
    "        dsCompleto = dsCompleto[dsCompleto['flagV2'].isin(p['siFLAGV2'])]     \n",
    "        \n",
    "    # Buscamos imagenes satelitales para lso archivos\n",
    "    print(f'\\nSe buscara las imagenes satelitales para los datos...')\n",
    "    dfImagenes, no_fecha = comprobarFrames(dsCompleto,path_imagenes, p['products'], p['times'], p['delete'])    \n",
    "    print(\"Tiempo tomado: %.2fs\" % (time.time() - start_time))        \n",
    "\n",
    "            \n",
    "    #Agregamos lso datos de las estaciones al dataset\n",
    "    print(f'\\nSe agregara los datos de las estaciones(cordenadas, umbral)...')\n",
    "    dfImagenes['imagen'] = dfImagenes.apply(obtenerDir, axis=1)        \n",
    "    print(f'-------> CANTIDAD FINAL DE DATOS :  {len(dfImagenes)} <--------------')  \n",
    "    print(\"Tiempo total: %.2fs\" % (time.time() - start_time))\n",
    "    return shuffle(dfImagenes), no_fecha"
   ]
  },
  {
   "cell_type": "code",
   "execution_count": 53,
   "id": "82c52158",
   "metadata": {},
   "outputs": [],
   "source": [
    "#df = pd.read_csv('C:/Users/Shounen/Desktop/Ciclo XI/Tesis 2/FinalTesis/Tesis2-DiegoParedes/Archivos/Dataset/Clasificacion/ClaseV4_DUD_umb1_CompletoDS.csv')\n",
    "#len(df)"
   ]
  },
  {
   "cell_type": "code",
   "execution_count": 63,
   "id": "15610502",
   "metadata": {},
   "outputs": [
    {
     "name": "stdout",
     "output_type": "stream",
     "text": [
      "Datos a procesar: 66911\n",
      "Tiempo tomado en procesar 45491/66911 datos: 42.73729s\n",
      "Guardando los datos al archivo dataset....\n",
      "Se leera los archivos de datasets...\n",
      "Tiempo tomado: 0.00s\n",
      "+Cantidad de datos leidos 45490\n",
      "\n",
      "Se elimnara los valores nulos y dudosos\n",
      "Tiempo tomado: 0.02s\n",
      "+Cantidad de datos luego de elimnar nulos 45262\n",
      "\n",
      "Se buscara las imagenes satelitales para los datos...\n",
      "F:/GOES/PNG/2020-12-24-07/2020-12-24-07_5.png\n",
      "2417/45262 datos eliminados: No se encontraron los archivos de imagenes satelitales\n",
      "Tiempo tomado en verificar datos: 18.43s\n",
      "Tiempo tomado: 18.46s\n",
      "\n",
      "Se agregara los datos de las estaciones(cordenadas, umbral)...\n"
     ]
    },
    {
     "name": "stderr",
     "output_type": "stream",
     "text": [
      "C:\\Users\\Shounen\\AppData\\Local\\Temp\\ipykernel_30408\\4073903732.py:50: SettingWithCopyWarning: \n",
      "A value is trying to be set on a copy of a slice from a DataFrame.\n",
      "Try using .loc[row_indexer,col_indexer] = value instead\n",
      "\n",
      "See the caveats in the documentation: https://pandas.pydata.org/pandas-docs/stable/user_guide/indexing.html#returning-a-view-versus-a-copy\n",
      "  dfImagenes['imagen'] = dfImagenes.apply(obtenerDir, axis=1)\n"
     ]
    },
    {
     "name": "stdout",
     "output_type": "stream",
     "text": [
      "-------> CANTIDAD FINAL DE DATOS :  42845 <--------------\n",
      "Tiempo total: 19.94s\n",
      "Tiempo tomado en guardar 45491datos: 20.48005s\n",
      "CPU times: total: 49.1 s\n",
      "Wall time: 1min 3s\n"
     ]
    }
   ],
   "source": [
    "%%time\n",
    "params = {\n",
    "    # Archivos\n",
    "    'Festaciones': f'{path_base}/Archivos/Inicial/estaciones.csv',\n",
    "    'Fdata'      : f'{path_base}/Archivos/Dataset/dsFLAGV2.csv',\n",
    "    'imagenTest' : 'D:/GOES/C08/2020/01/G16_C08_Cyl_20200101-0110.nc',\n",
    "    'Fanalisis'  : f'{path_base}/Archivos/Reportes/Datos/analisis_Total-F2.csv',\n",
    "    \n",
    "    # Flags \n",
    "    'siFLAG'     : ['C0000002', 'M0000002'],\n",
    "    'siFLAGV2'   : [],\n",
    "    'dsName'     : 'GTIME_Paper',\n",
    "    \n",
    "    # Imagenes Satelitels\n",
    "    'path_img'   :  path_imagenes, \n",
    "    'products'   :  products,\n",
    "    'times'      :  times,\n",
    "    'delete'     :  True\n",
    "}\n",
    "\n",
    "\"\"\"\n",
    "FLAGV2 \n",
    "\"\"\"\n",
    "dfUmbrales = pd.read_csv(f'{path_base}/Archivos/Reportes/Datos/analisis_umbrales.csv')\n",
    "noStationFV2, datosFLAGV2 = procesarDatos(path_base,params,umbrales=dfUmbrales)\n",
    "\n",
    "#datosFLAGV2 = pd.read_csv(f'{path_base}/Archivos/Inicial/{params[\"dsName\"]}.csv')\n",
    "#datosFLAGV2.head(4)"
   ]
  },
  {
   "cell_type": "code",
   "execution_count": 65,
   "id": "b8126ee9-becf-40e5-b9db-e0e82c5526a6",
   "metadata": {},
   "outputs": [],
   "source": [
    "datosFLAGV2.to_csv(f'{path_base}/Archivos/Dataset/GTMTime_Base.csv')"
   ]
  },
  {
   "cell_type": "code",
   "execution_count": null,
   "id": "dc0267c8-a053-4a5d-9350-979bcf9eb32f",
   "metadata": {},
   "outputs": [],
   "source": []
  },
  {
   "cell_type": "code",
   "execution_count": 56,
   "id": "92c3f1d6",
   "metadata": {},
   "outputs": [],
   "source": [
    "df = pd.read_csv(f'{path_base}/Archivos/Dataset/dsFLAGV2.csv')\n",
    "df = df[(df['PRECIPITACION']>=0) & (df['PRECIPITACION']<401)]\n"
   ]
  },
  {
   "cell_type": "code",
   "execution_count": 31,
   "id": "2abf2655",
   "metadata": {},
   "outputs": [],
   "source": [
    "df['fecha_full'] = df['FECHA'].astype(str) +' ' +  df['HORA'].astype(str)\n",
    "df['fecha_full'] = pd.to_datetime(df['fecha_full'], format='%d/%m/%Y %H:%M:%S')"
   ]
  },
  {
   "cell_type": "code",
   "execution_count": 32,
   "id": "8b20ed8b-3363-4e17-8086-f38d4e8642d1",
   "metadata": {},
   "outputs": [],
   "source": [
    "df['fecha'] = df['fecha_full'].dt.strftime('%Y-%m-%d-%H')"
   ]
  },
  {
   "cell_type": "code",
   "execution_count": 47,
   "id": "cc30edd7",
   "metadata": {},
   "outputs": [
    {
     "name": "stdout",
     "output_type": "stream",
     "text": [
      "F:/GOES/PNG/2020-09-12-20/2020-09-12-20_5.png\n",
      "507613/3016245 datos eliminados: No se encontraron los archivos de imagenes satelitales\n",
      "Tiempo tomado en verificar datos: 14.61s\n"
     ]
    }
   ],
   "source": [
    "dfLimpio, no_fecha = comprobarFrames(df, path_imagenes, products, times, delete=1)"
   ]
  },
  {
   "cell_type": "code",
   "execution_count": 49,
   "id": "01dc6a89-cd92-4200-a40f-dea15895ddc0",
   "metadata": {},
   "outputs": [],
   "source": [
    "dfLimpio.to_csv(f'{path_base}/Archivos/Inicial/GTMTime_Base.csv')"
   ]
  },
  {
   "cell_type": "code",
   "execution_count": null,
   "id": "93d37cd6-9f27-45c7-9626-097aeeb1f4f7",
   "metadata": {},
   "outputs": [],
   "source": []
  },
  {
   "cell_type": "code",
   "execution_count": null,
   "id": "7bd54515-d8fb-446f-a870-11e74771cb7c",
   "metadata": {},
   "outputs": [],
   "source": []
  }
 ],
 "metadata": {
  "kernelspec": {
   "display_name": "Python 3 (ipykernel)",
   "language": "python",
   "name": "python3"
  },
  "language_info": {
   "codemirror_mode": {
    "name": "ipython",
    "version": 3
   },
   "file_extension": ".py",
   "mimetype": "text/x-python",
   "name": "python",
   "nbconvert_exporter": "python",
   "pygments_lexer": "ipython3",
   "version": "3.9.11"
  }
 },
 "nbformat": 4,
 "nbformat_minor": 5
}
