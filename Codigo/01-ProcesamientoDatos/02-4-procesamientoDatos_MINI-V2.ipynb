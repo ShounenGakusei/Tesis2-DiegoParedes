{
 "cells": [
  {
   "cell_type": "code",
   "execution_count": 1,
   "id": "e91fd014",
   "metadata": {},
   "outputs": [],
   "source": [
    "\"\"\"\n",
    "OBJETIVO : Dividir los datasets princiaples en peuqeños datasets mas selectos, o solo modificaciones de los principales\n",
    "\n",
    "TERMINOS: \n",
    "- DA = Data augmentation\n",
    "- 01 = Datos entre 0 y 1\n",
    "- 19 = Datos mayor a 1\n",
    "- FDA = False data augemntation, consiste en cambiar el valor de preciptiacion para convertirlo de conforme a malo-\n",
    "        \n",
    "\"\"\"\n",
    "Autor='Diego Paredes'"
   ]
  },
  {
   "cell_type": "code",
   "execution_count": 2,
   "id": "df4b9330",
   "metadata": {},
   "outputs": [],
   "source": [
    "# Leer imagenes satelitales (.nc) \n",
    "from netCDF4 import Dataset, num2date\n",
    "\n",
    "# Graficos y visualizaciones\n",
    "import cartopy.crs as ccrs\n",
    "import cartopy.feature as cfw\n",
    "import matplotlib.pyplot as plt\n",
    "\n",
    "# Liberias para manejo de datos\n",
    "from sklearn.utils import shuffle\n",
    "from sklearn.model_selection import train_test_split\n",
    "import pandas as pd\n",
    "import numpy as np\n",
    "import plotly.express as px\n",
    "\n",
    "# Liberias estandar\n",
    "import re\n",
    "import time\n",
    "import os"
   ]
  },
  {
   "cell_type": "code",
   "execution_count": 3,
   "id": "70311502",
   "metadata": {},
   "outputs": [
    {
     "data": {
      "text/plain": [
       "'C:/Users/Shounen/Desktop/Ciclo XI/Tesis 2/FinalTesis/Tesis2-DiegoParedes'"
      ]
     },
     "execution_count": 3,
     "metadata": {},
     "output_type": "execute_result"
    }
   ],
   "source": [
    "\"\"\"\n",
    "DEFINIMOS EL PATH DEL PROYECTO \n",
    "\"\"\"\n",
    "with open('../../path_base.txt') as f:\n",
    "    path_base = f.read()\n",
    "path_base"
   ]
  },
  {
   "cell_type": "code",
   "execution_count": 4,
   "id": "956904a2",
   "metadata": {},
   "outputs": [],
   "source": [
    "#Nombre de archivos\n",
    "#dfLimpio.to_csv(f'{p[\"path_base\"]}/Archivos/Dataset/{p[\"redTipo\"]}/{p[\"nameDS\"]}_CompletoDS.csv')\n",
    "#_dsTest.to_csv(f'{p[\"path_base\"]}/Archivos/Dataset/{p[\"redTipo\"]}/Pruebas/{p[\"nameDS\"]}_PruebasDS.csv')\n",
    "#_dsValid.to_csv(f'{p[\"path_base\"]}/Archivos/Dataset/{p[\"redTipo\"]}/Validacion/{p[\"nameDS\"]}_ValidacionDS.csv')\n",
    "#_dsTrain.to_csv(f'{p[\"path_base\"]}/Archivos/Dataset/{p[\"redTipo\"]}/Entrenamiento/{p[\"nameDS\"]}_TrainDS.csv')"
   ]
  },
  {
   "cell_type": "code",
   "execution_count": 5,
   "id": "caf93a80",
   "metadata": {},
   "outputs": [],
   "source": [
    "\"\"\"\n",
    "Variables generales\n",
    "\"\"\"\n",
    "path_imagenes = 'F:/GOES/' \n",
    "\n",
    "# Archivos de datasets\n",
    "dsName = 'dsCompletoPP_V2'\n",
    "\n",
    "#Variables generales\n",
    "products = ['C07','C08','C13']\n",
    "times   = ['10','20','30','40','50','00']"
   ]
  },
  {
   "cell_type": "code",
   "execution_count": 6,
   "id": "1bb82afb",
   "metadata": {},
   "outputs": [],
   "source": [
    "#Archivos adicionales\n",
    "Festaciones = f'{path_base}/Archivos/Inicial/estaciones.csv'\n",
    "FflagV2 = f'{path_base}/Archivos/Dataset/dsFLAGV2.csv'\n",
    "\n",
    "imagenTest = 'D:/GOES/C08/2020/01/G16_C08_Cyl_20200101-0020.nc'\n",
    "Fanalisis = f'{path_base}/Archivos/Reportes/Datos/analisis_Total.csv'"
   ]
  },
  {
   "cell_type": "code",
   "execution_count": 7,
   "id": "756cc730",
   "metadata": {},
   "outputs": [],
   "source": [
    "def visualizarEstaciones(df, name = '',imagenTest='', xCode=True, row='codigo'):\n",
    "    if not imagenTest:\n",
    "        imagenTest = 'D:/GOES/C08/2020/01/G16_C08_Cyl_20200101-0020.nc'\n",
    "    \n",
    "    ds = Dataset(imagenTest)\n",
    "    field = ds.variables['CMI'][:].data.astype(np.float32)/100.0\n",
    "\n",
    "    # obtiene las coordenadas de los pixeles\n",
    "    lons = ds.variables['longitude'][:].data\n",
    "    lats = ds.variables['latitude'][:].data\n",
    "    #lons, lats = np.meshgrid(lons, lats)\n",
    "    \n",
    "    Festaciones = f'{path_base}/Archivos/Inicial/estaciones.csv'\n",
    "    dfEstaciones = pd.read_csv(Festaciones)\n",
    "    dfCod = df[row].unique()\n",
    "    dfCod = pd.DataFrame({row:dfCod.tolist()})\n",
    "\n",
    "    #Graficomos las estaciones para el ds de regresion\n",
    "    ax = plt.axes(projection=ccrs.PlateCarree())\n",
    "    plt.title(f'{name} - Peru ({len(dfCod)} estaciones)')\n",
    "    ax.set_extent([lons.min(), lons.max(), lats.min(),lats.max()], ccrs.PlateCarree())\n",
    "\n",
    "    for x in dfCod.index:\n",
    "        if xCode:\n",
    "            st = dfEstaciones[dfEstaciones['CODE'] == f'X{dfCod[row][x]}']\n",
    "        else:\n",
    "            st = dfEstaciones[dfEstaciones['CODE'] == f'{dfCod[row][x]}']    \n",
    "        if not st.empty:    \n",
    "            x = st['LON']#.iloc[0]\n",
    "            y = st['LAT']#.iloc[0]\n",
    "            plt.plot(x, y,  1, marker='o', color='red',alpha=0.45)    \n",
    "\n",
    "    ax.coastlines(resolution='110m')\n",
    "    \n",
    "    plt.savefig(f'{path_base}/Archivos/Reportes/Plots/MAPA_{name}.png')\n",
    "    plt.show()"
   ]
  },
  {
   "cell_type": "code",
   "execution_count": 8,
   "id": "41dd99c9",
   "metadata": {},
   "outputs": [],
   "source": [
    "def statsDS(df, name='ds', tipo='Clasificacion'):    \n",
    "    print(f'           ESTADISCIAS DEL {name} \\n')  \n",
    "    print(f'Flags       : {df[\"flag\"].unique()}')\n",
    "    print(f'Estaciones  : {len(df[\"codigo\"].unique())}')\n",
    "    print(f'Totales     : {df[\"dato\"].count()}')\n",
    "    print(f'Ceros       : {df[df[\"dato\"]==0][\"dato\"].count()}')    \n",
    "    if tipo=='Regresion':\n",
    "        print(f'Menor a 1   : {df[df[\"dato\"]<1][\"dato\"].count()}')\n",
    "        print(f'Mayor a 1   : {df[df[\"dato\"]>1][\"dato\"].count()}')\n",
    "    else:\n",
    "        print(f'Clase 0(M02): {df[df[\"flag\"]==\"M0000002\"][\"dato\"].count()}')\n",
    "        print(f'Clase 1(C02): {df[df[\"flag\"]==\"C0000002\"][\"dato\"].count()}')\n",
    "    print(f'Maximo      : {df[\"dato\"].max()}')\n",
    "    print(f'Media       : {df[\"dato\"].mean()}')\n",
    "    print(f'STD         : {df[\"dato\"].std()}')\n",
    "\n",
    "    #_dataset[_dataset[\"dato\"]!=0][\"dato\"].hist(legend=True)\n",
    "    #_dataset[_dataset[\"dato\"]>1][\"dato\"].hist(legend=True)\n",
    "    if tipo=='Clasificacion':\n",
    "        df['flag'].hist(legend=True)\n",
    "        plt.xlabel('FLAG')\n",
    "        plt.ylabel('Cantidad')\n",
    "        plt.title('Histograma de FLAG')\n",
    "    else:\n",
    "        df['dato'].hist(legend=True)   \n",
    "        plt.xlabel('Valor')\n",
    "        plt.ylabel('Cantidad')\n",
    "        plt.title('Histograma de Precipitacion')\n",
    "    plt.show()"
   ]
  },
  {
   "cell_type": "code",
   "execution_count": 9,
   "id": "d6d2e317",
   "metadata": {},
   "outputs": [
    {
     "data": {
      "text/plain": [
       "'\\nMetodos para balancear las clases en los datasets\\n'"
      ]
     },
     "execution_count": 9,
     "metadata": {},
     "output_type": "execute_result"
    }
   ],
   "source": [
    "\"\"\"\n",
    "Metodos para balancear las clases en los datasets\n",
    "\"\"\""
   ]
  },
  {
   "cell_type": "code",
   "execution_count": 10,
   "id": "2b6228cb",
   "metadata": {},
   "outputs": [],
   "source": [
    "# Aplica data augmentation en un df, aumentando solo la clase (columna) minoritaria maximo 3 (DA) veces\n",
    "def applyDA(df, columna='clase', DA=3):\n",
    "    df['DA'] = 0\n",
    "    dfs = [df[df[columna]==0], df[df[columna]==1]]    \n",
    "    posM = 0 if len(dfs[0])>len(dfs[1]) else 1\n",
    "    \n",
    "    \n",
    "    df_list = [dfs[posM]]\n",
    "    # Clase minoritaria = M^1\n",
    "    # Se va aumentar lm    \n",
    "    \n",
    "    for i in range(DA):        \n",
    "        dfMenor = dfs[posM^1].copy()\n",
    "        dfMenor['DA'] = i\n",
    "        df_list.append(dfMenor)\n",
    "    \n",
    "     \n",
    "    train = pd.concat(df_list, axis=0)    \n",
    "    \n",
    "    return train"
   ]
  },
  {
   "cell_type": "code",
   "execution_count": 11,
   "id": "9adebdcc",
   "metadata": {},
   "outputs": [],
   "source": [
    "# Aplica false data augmentation en un df, aumentando solo la clase (columna) minoritaria \n",
    "# con el FDA porciente de las precipitaciones leves (<umb_leve) de la clase mayoritaria \n",
    "# Si delete = True, lo convertido de la clase mayoritaria, se borra de la clase mayoritaria\n",
    "def applyFA(df, columna='clase', FDA=0.1, umbralSep = 20, delete=True , umb_leve = 1, random_state=11):  \n",
    "    # No se le aplicado DFA al dataset\n",
    "    df['DFA'] = 0\n",
    "    \n",
    "    # Encontramos la clase mayoritaria y minoritaria\n",
    "    dfs = [df[df[columna]==0], df[df[columna]==1]]\n",
    "    posM = 0 if len(dfs[0])>len(dfs[1]) else 1\n",
    "    \n",
    "     # Calculamos los grupos de preciptiacion leve y fuerte en la clase mayoritaria\n",
    "    dfLeve = dfs[posM].copy()\n",
    "    dfLeve = dfLeve[dfLeve['dato']<umb_leve]    \n",
    "    \n",
    "    dfAlta = dfs[posM].copy()    \n",
    "    dfAlta = dfAlta[dfAlta['dato']>=umb_leve]\n",
    "    \n",
    "    cantNeeded = len(dfLeve) * FDA\n",
    "    \n",
    "    print(f'Cantidad de clase mayoritaria : {len(dfs[posM])}')\n",
    "    print(f'Cantidad de clase minoritaria : {len(dfs[posM^1])}')\n",
    "    print(f'Total a aumentar              : {cantNeeded}')\n",
    "    print(f'Cantidad leve (Mayoritaria)   : {len(dfLeve)}')\n",
    "    print(f'Cantidad alta (Mayoritaria)   : {len(dfAlta)}')\n",
    "    \n",
    "    \n",
    "            \n",
    "    # Obtenemso el DS de DFA\n",
    "    if delete:        \n",
    "        print(f'Cantidad a tomar de leve      : {FDA}')\n",
    "        dfDFAleve, dfLeve = train_test_split(dfLeve, train_size = FDA, random_state=random_state)# dfLeve.sample(frac=fracL)\n",
    "    else:\n",
    "        dfDFAleve = dfLeve.sample(n=int(cantNeeded))\n",
    "    \n",
    "    dfDFAleve['dato'] = dfDFAleve['dato'] + umbralSep\n",
    "    dfDFAleve['clase'] = 0\n",
    "    dfDFAleve['flag'] = 'M0000002'\n",
    "    dfDFAleve['DFA'] = 1\n",
    "    \n",
    "    \n",
    "    if delete:\n",
    "        train = pd.concat([dfAlta,dfLeve,dfDFAleve,dfs[posM^1]])\n",
    "        print(f'Diferencia final              : { len(dfAlta) + len(dfLeve) - len(dfDFAleve) - len(dfs[posM^1])}')\n",
    "\n",
    "        \n",
    "    return train"
   ]
  },
  {
   "cell_type": "code",
   "execution_count": 12,
   "id": "c743b420",
   "metadata": {},
   "outputs": [],
   "source": [
    "# Metodo de eliminar datos de la clase mayoritaria, eliminas los valores vajos (mas cantidad)\n",
    "def disminuirMayoritario(df, porc=0.2, umbralSep = 1, columna='clase'):\n",
    "    dfs = [df[df[columna]==0], df[df[columna]==1]]\n",
    "    posM = 0 if len(dfs[0])>len(dfs[1]) else 1\n",
    "    \n",
    "    # Calculamos los grupos de preciptiacion leve y fuerte en la clase mayoritaria\n",
    "    dfLeve = dfs[posM].copy()\n",
    "    dfLeve = dfLeve[dfLeve['dato']<umbralSep]    \n",
    "    \n",
    "    dfAlta = dfs[posM].copy()    \n",
    "    dfAlta = dfAlta[dfAlta['dato']>=umbralSep]    \n",
    "    \n",
    "    dfDFLeve = dfLeve.sample(frac=porc)\n",
    "    #dfDFAlta = dfAlta.sample(frac=porc)\n",
    "    \n",
    "    train = pd.concat([dfDFLeve,dfAlta,dfs[posM^1]])\n",
    "    \n",
    "    return train"
   ]
  },
  {
   "cell_type": "code",
   "execution_count": 13,
   "id": "d377ca28",
   "metadata": {},
   "outputs": [],
   "source": [
    "# Aplica el metodo de split, ademas este split se realiza tambien balanceando los niveles de precipiacion en cada grupo\n",
    "def splitTrainDS(_dataset, redTipo, path_base, newDir='Split', comentario=' ', nivel_dato = ['umb1' , 6], random_state=11):\n",
    "    # Vamos a usar stratify de sklearn para tener una distribucion de estaciones adecuada\n",
    "    _dataset['stratify'] = (_dataset[nivel_dato[0]] > nivel_dato[1]).astype(int)\n",
    "    \n",
    "    tipo = redTipo[0]\n",
    "    output = redTipo[1]\n",
    "    \n",
    "    # Separamos clase mayoritaria de minoritaria\n",
    "    dfs = [_dataset[_dataset[output]==0], _dataset[_dataset[output]==1]]    \n",
    "    posM = 0 if len(dfs[0])>len(dfs[1]) else 1\n",
    "    lM = len(dfs[posM])\n",
    "    lm = len(dfs[posM^1])\n",
    "    len_total = len(_dataset)\n",
    "    \n",
    "    print('Cantidad Total : ', len_total)\n",
    "    print('Cantidad clase minoritaria : ',lM)\n",
    "    print('Cantidad clase mayoritaria : ',lm)\n",
    "    # Creamos el directorio\n",
    "    try:\n",
    "        path = os.path.join(f'{path_base}/Archivos/Dataset/{tipo}/Entrenamiento/', newDir)\n",
    "        os.mkdir(path)        \n",
    "    except FileExistsError:\n",
    "        pass\n",
    "    except:\n",
    "        print(f\"No se pudo crear la carpeta {newDir}\")\n",
    "    \n",
    "    \n",
    "    # Verificamos la cantidad de datasets a crear\n",
    "    n = int(lM/lm) + (lM % lm > 0)\n",
    "    splitted = []\n",
    "    \n",
    "    # Guaradamos los datasets\n",
    "    print(f'Se va dividr el dataset en {n} partes')\n",
    "    \n",
    "    ds_may_splitted = dfs[posM].copy()\n",
    "    for i in range(n):\n",
    "        # Para el ultimo dataset, escojemos parte del primero\n",
    "        if i == (n-1):\n",
    "            continue\n",
    "            cant_final = lm-len(ds_may_splitted)\n",
    "            ds_set_sobra = splitted[0].sample(n=(cant_final))\n",
    "            splitted.append(pd.concat([ds_may_splitted,ds_set_sobra,dfs[posM^1]], ignore_index=True))        \n",
    "            \n",
    "        ds_may_splitted, ds_set =  train_test_split(ds_may_splitted, test_size=(lm/len(ds_may_splitted)), \n",
    "                                                 shuffle=True, stratify=ds_may_splitted['stratify'], random_state=random_state)        \n",
    "        splitted.append(pd.concat([ds_set,dfs[posM^1]], ignore_index=True))\n",
    "        \n",
    "            \n",
    "        \n",
    "    for i, df in enumerate(splitted):\n",
    "        df.to_csv(f'{path_base}/Archivos/Dataset/{tipo}/Entrenamiento/{newDir}/{output.upper()}_TrainDS_{i}.csv')        \n",
    " \n",
    "    text_comentario = open(f'{path_base}/Archivos/Dataset/{tipo}/Entrenamiento/{newDir}/comentario.txt', \"w\")\n",
    "    text_comentario.write(comentario) \n",
    "    text_comentario.close()\n",
    "    \n",
    "    return splitted"
   ]
  },
  {
   "cell_type": "code",
   "execution_count": 17,
   "id": "ed2a9d24",
   "metadata": {},
   "outputs": [
    {
     "name": "stdout",
     "output_type": "stream",
     "text": [
      "           ESTADISCIAS DEL ClaseVFinal_M0 \n",
      "\n",
      "Flags       : ['C0000002' 'M0000002']\n",
      "Estaciones  : 151\n",
      "Totales     : 26308\n",
      "Ceros       : 0\n",
      "Clase 0(M02): 614\n",
      "Clase 1(C02): 25694\n",
      "Maximo      : 337.5\n",
      "Media       : 1.8983320662916223\n",
      "STD         : 8.021763744019845\n"
     ]
    },
    {
     "data": {
      "image/png": "[encoded data removed]",
      "text/plain": [
       "<Figure size 432x288 with 1 Axes>"
      ]
     },
     "metadata": {
      "needs_background": "light"
     },
     "output_type": "display_data"
    }
   ],
   "source": [
    "# Leemos el datasets de entrenamiento Clasifiacion\n",
    "dsV_ = 'ClaseVFinal_M0'\n",
    "fileTrain = f'{path_base}/Archivos/Dataset/Clasificacion/Entrenamiento/{dsV_}_TrainDS.csv'\n",
    "\n",
    "dsTrain = pd.read_csv(fileTrain)\n",
    "statsDS(dsTrain, name=dsV_)"
   ]
  },
  {
   "cell_type": "code",
   "execution_count": 18,
   "id": "47addecb",
   "metadata": {},
   "outputs": [
    {
     "data": {
      "text/plain": [
       "(27, 150)"
      ]
     },
     "execution_count": 18,
     "metadata": {},
     "output_type": "execute_result"
    }
   ],
   "source": [
    "dsTrain[dsTrain['flag']=='M0000002']['codigo'].nunique() , dsTrain[dsTrain['flag']=='C0000002']['codigo'].nunique()"
   ]
  },
  {
   "cell_type": "code",
   "execution_count": 20,
   "id": "ed4e2aa6",
   "metadata": {},
   "outputs": [
    {
     "data": {
      "application/vnd.plotly.v1+json": {
       "config": {
        "plotlyServerURL": "https://plot.ly"
       },
       "data": [
        {
         "hovertemplate": "flag=M0000002<br>dato=%{x}<br>codigo=%{y}<extra></extra>",
         "legendgroup": "M0000002",
         "marker": {
          "color": "#636efa",
          "symbol": "circle"
         },
         "mode": "markers",
         "name": "M0000002",
         "orientation": "h",
         "showlegend": true,
         "type": "scatter",
         "x": [
          0.6,
          0.4,
          2,
          0.1,
          0.1,
          0.1,
          0.2,
          0.1,
          0.1,
          0.1,
          0.1,
          0.1,
          0.1,
          0.1,
          0.1,
          0.1,
          0.1,
          0.1,
          0.1,
          0.1,
          0.1,
          0.1,
          0.2,
          0.1,
          0.1,
          0.1,
          0.1,
          0.1,
          0.1,
          0.1,
          0.1,
          0.2,
          0.1,
          0.1,
          0.1,
          0.1,
          0.1,
          0.1,
          0.1,
          0.1,
          0.1,
          0.1,
          0.1,
          0.1,
          0.1,
          0.1,
          0.1,
          0.1,
          0.1,
          0.1,
          0.1,
          0.1,
          0.1,
          0.1,
          0.1,
          0.1,
          0.1,
          0.1,
          0.1,
          0.1,
          0.1,
          0.1,
          0.1,
          0.1,
          0.1,
          0.1,
          0.1,
          0.1,
          0.1,
          0.1,
          0.1,
          0.1,
          0.2,
          0.1,
          0.1,
          0.1,
          0.1,
          0.1,
          0.1,
          0.1,
          0.1,
          0.1,
          0.1,
          0.1,
          46.2,
          148.3,
          0.2,
          0.4,
          0.2,
          0.2,
          0.1,
          0.6,
          0.2,
          5.3,
          2.8,
          0.7,
          0.5,
          1,
          0.3,
          0.1,
          1.5,
          1.7,
          0.1,
          0.1,
          2.5,
          1.4,
          1.5,
          0.1,
          0.2,
          0.9,
          0.4,
          0.5,
          0.8,
          1.2,
          2.5,
          1.9,
          2.8,
          0.1,
          0.2,
          1.1,
          0.7,
          0.3,
          1.5,
          0.4,
          3.5,
          0.8,
          0.1,
          0.9,
          0.4,
          0.3,
          0.3,
          0.4,
          1.9,
          0.4,
          0.3,
          0.6,
          0.1,
          3.5,
          2.2,
          0.6,
          0.4,
          0.2,
          0.6,
          0.3,
          0.3,
          2.5,
          0.1,
          0.6,
          305.5,
          4.5,
          0.3,
          5.7,
          35.7,
          1.5,
          0.6,
          0.3,
          6.3,
          0.9,
          2.4,
          3.6,
          3.9,
          0.3,
          1.2,
          2.7,
          0.3,
          0.3,
          16.2,
          4.2,
          6.3,
          3.3,
          0.6,
          0.3,
          1.5,
          1.2,
          0.3,
          1.5,
          4.2,
          0.3,
          0.9,
          0.3,
          2.7,
          9.3,
          3.3,
          2.7,
          0.9,
          4.5,
          7.5,
          2.4,
          1.2,
          1.8,
          16.2,
          14.7,
          27,
          12.6,
          3,
          0.9,
          0.6,
          0.3,
          0.6,
          0.6,
          0.6,
          4.8,
          20.4,
          19.8,
          27.9,
          0.4,
          0.2,
          0.2,
          0.2,
          0.2,
          0.2,
          0.2,
          0.2,
          0.2,
          0.2,
          0.2,
          0.2,
          0.2,
          0.2,
          0.2,
          0.2,
          0.2,
          0.2,
          0.2,
          0.2,
          0.2,
          0.2,
          0.2,
          0.2,
          0.2,
          232.5,
          28.3,
          2.28,
          1.52,
          1.77,
          0.25,
          1.52,
          0.5,
          0.5,
          3.55,
          8.38,
          6.85,
          2.79,
          5.08,
          1.01,
          2.54,
          4.31,
          0.5,
          2.28,
          1.52,
          2.03,
          1.01,
          0.5,
          1.01,
          3.04,
          3.81,
          7.36,
          7.11,
          7.62,
          0.5,
          0.76,
          1.01,
          0.25,
          0.5,
          0.5,
          1.52,
          0.25,
          0.5,
          1.27,
          1.01,
          0.76,
          1.01,
          1.27,
          0.76,
          0.25,
          0.5,
          1.52,
          4.06,
          1.52,
          2.03,
          0.25,
          3.55,
          3.81,
          1.01,
          1.27,
          0.76,
          0.1,
          0.1,
          0.1,
          0.1,
          0.1,
          0.1,
          0.1,
          1.7,
          337.5,
          305.5,
          234,
          0.7,
          1,
          0.1,
          0.2,
          0.8,
          0.5,
          0.2,
          0.1,
          0.1,
          0.4,
          0.5,
          0.6,
          0.8,
          0.7,
          0.6,
          0.6,
          0.5,
          0.5,
          0.5,
          0.6,
          0.4,
          0.5,
          0.5,
          0.4,
          0.4,
          0.3,
          0.3,
          0.2,
          0.2,
          0.3,
          0.2,
          0.2,
          0.2,
          0.2,
          0.1,
          0.2,
          0.2,
          0.1,
          0.1,
          0.2,
          0.1,
          0.1,
          0.1,
          0.2,
          0.1,
          0.1,
          0.1,
          0.1,
          0.1,
          0.1,
          0.1,
          0.1,
          0.1,
          0.1,
          0.1,
          0.1,
          0.1,
          0.1,
          0.1,
          0.1,
          0.1,
          0.1,
          0.1,
          0.1,
          0.1,
          0.1,
          0.1,
          0.1,
          0.1,
          0.1,
          0.1,
          0.1,
          0.1,
          0.1,
          0.1,
          0.1,
          0.1,
          0.1,
          0.1,
          0.1,
          0.1,
          0.1,
          0.1,
          0.1,
          0.1,
          0.1,
          0.1,
          0.1,
          0.1,
          0.1,
          0.1,
          0.1,
          0.1,
          0.1,
          0.1,
          0.1,
          0.1,
          0.1,
          0.1,
          0.1,
          0.1,
          0.1,
          0.1,
          0.1,
          0.1,
          0.1,
          0.1,
          0.1,
          0.1,
          0.1,
          0.1,
          0.1,
          0.1,
          0.1,
          0.1,
          0.1,
          0.1,
          0.1,
          0.1,
          0.1,
          0.1,
          0.1,
          0.1,
          0.1,
          0.1,
          0.1,
          0.1,
          0.1,
          0.1,
          0.1,
          0.1,
          0.9,
          0.1,
          0.1,
          0.1,
          48.4,
          310.8,
          232.1,
          305.5,
          305.5,
          305.5,
          310.8,
          333.8,
          234,
          305.5,
          230.6,
          235.1,
          230.9,
          0.2,
          0.8,
          0.4,
          0.2,
          0.2,
          0.6,
          0.8,
          0.8,
          0.6,
          0.6,
          0.6,
          0.2,
          0.4,
          0.2,
          0.2,
          0.2,
          0.2,
          0.2,
          0.2,
          0.2,
          0.2,
          0.2,
          0.2,
          0.2,
          0.2,
          0.2,
          0.2,
          0.2,
          0.2,
          0.2,
          0.2,
          0.2,
          0.2,
          0.2,
          0.2,
          0.2,
          0.2,
          0.2,
          0.2,
          0.2,
          0.2,
          0.2,
          0.2,
          0.2,
          0.2,
          0.2,
          0.2,
          0.2,
          0.2,
          0.2,
          0.2,
          0.2,
          0.2,
          0.2,
          0.2,
          0.2,
          0.2,
          0.2,
          0.2,
          0.2,
          0.2,
          0.2,
          0.2,
          0.2,
          0.2,
          0.2,
          0.1,
          0.1,
          0.1,
          0.1,
          0.1,
          0.1,
          0.1,
          0.1,
          0.1,
          0.1,
          0.1,
          0.1,
          0.1,
          0.1,
          0.1,
          0.1,
          0.1,
          0.1,
          0.1,
          0.1,
          0.1,
          0.1,
          0.1,
          0.1,
          0.1,
          0.1,
          0.1,
          0.1,
          0.1,
          0.1,
          0.1,
          0.1,
          0.1,
          0.1,
          0.2,
          0.1,
          0.2,
          0.1,
          0.1,
          0.1,
          0.1,
          0.1,
          0.1,
          0.1,
          0.1,
          0.1,
          0.1,
          0.2,
          0.1,
          0.1,
          0.2,
          0.1,
          0.1,
          0.1,
          0.1,
          0.1,
          0.1,
          0.1,
          0.1,
          0.1,
          0.1,
          0.1,
          0.1,
          0.1,
          0.1,
          0.1,
          0.1,
          0.1,
          0.1,
          0.1,
          0.1,
          0.1,
          0.1,
          0.1,
          0.1,
          0.1,
          0.1,
          0.1,
          0.1,
          3.6,
          0.1,
          0.1,
          0.1,
          0.1,
          0.1,
          0.1,
          0.1,
          0.1,
          0.1,
          0.1,
          0.1,
          0.1,
          0.1,
          0.1,
          0.1,
          0.1,
          5.5,
          2.5,
          3.7,
          234.5,
          1.6,
          0.9,
          3.4
         ],
         "xaxis": "x",
         "y": [
          "472606FA",
          "472606FA",
          "220907",
          "4720EB14",
          "4720EB14",
          "4720EB14",
          "47E1F02E",
          "47E1F02E",
          "47E1F02E",
          "47E1F02E",
          "47E1F02E",
          "47E1F02E",
          "47E1F02E",
          "47E1F02E",
          "47E1F02E",
          "47E1F02E",
          "47E1F02E",
          "47E1F02E",
          "47E1F02E",
          "47E1F02E",
          "47E1F02E",
          "47E1F02E",
          "47E1F02E",
          "47E1F02E",
          "47E1F02E",
          "47E1F02E",
          "47E1F02E",
          "47E1F02E",
          "47E1F02E",
          "47E1F02E",
          "47E1F02E",
          "47E1F02E",
          "47E1F02E",
          "47E1F02E",
          "47E1F02E",
          "47E1F02E",
          "47E1F02E",
          "47E1F02E",
          "47E1F02E",
          "47E1F02E",
          "47E1F02E",
          "47E1F02E",
          "47E1F02E",
          "47E1F02E",
          "47E1F02E",
          "47E1F02E",
          "47E1F02E",
          "47E1F02E",
          "47E1F02E",
          "47E1F02E",
          "47E1F02E",
          "47E1F02E",
          "47E1F02E",
          "47E1F02E",
          "47E1F02E",
          "47E1F02E",
          "47E1F02E",
          "47E1F02E",
          "47E1F02E",
          "47E1F02E",
          "47E1F02E",
          "47E1F02E",
          "47E1F02E",
          "47E1F02E",
          "47E1F02E",
          "47E1F02E",
          "47E1F02E",
          "47E1F02E",
          "47E1F02E",
          "47E1F02E",
          "47E1F02E",
          "47E1F02E",
          "47E1F02E",
          "47E1F02E",
          "47E1F02E",
          "47E1F02E",
          "47E1F02E",
          "47E1F02E",
          "47E1F02E",
          "47E1F02E",
          "47E1F02E",
          "47E1F02E",
          "47E1F02E",
          "47E1F02E",
          "47E1F02E",
          "472FC5B8",
          "472A571A",
          "472A571A",
          "472A571A",
          "472A571A",
          "472A571A",
          "472A571A",
          "472A571A",
          "472A571A",
          "472A571A",
          "472A571A",
          "472A571A",
          "472A571A",
          "472A571A",
          "472A571A",
          "472A571A",
          "472A571A",
          "472A571A",
          "472A571A",
          "472A571A",
          "472A571A",
          "472A571A",
          "472A571A",
          "472A571A",
          "472A571A",
          "472A571A",
          "472A571A",
          "472A571A",
          "472A571A",
          "472A571A",
          "472A571A",
          "472A571A",
          "472A571A",
          "472A571A",
          "472A571A",
          "472A571A",
          "472A571A",
          "472A571A",
          "472A571A",
          "472A571A",
          "472A571A",
          "472A571A",
          "472A571A",
          "472A571A",
          "472A571A",
          "472A571A",
          "472A571A",
          "472A571A",
          "472A571A",
          "472A571A",
          "472A571A",
          "472A571A",
          "472A571A",
          "472A571A",
          "472A571A",
          "472A571A",
          "472A571A",
          "472A571A",
          "472A571A",
          "472A571A",
          "212600",
          "472B2370",
          "472B2370",
          "4729D600",
          "47271776",
          "47271776",
          "47271776",
          "47271776",
          "47271776",
          "47271776",
          "47271776",
          "47271776",
          "47271776",
          "47271776",
          "47271776",
          "47271776",
          "47271776",
          "47271776",
          "47271776",
          "47271776",
          "47271776",
          "47271776",
          "47271776",
          "47271776",
          "47271776",
          "47271776",
          "47271776",
          "47271776",
          "47271776",
          "47271776",
          "47271776",
          "47271776",
          "47271776",
          "47271776",
          "47271776",
          "47271776",
          "47271776",
          "47271776",
          "47271776",
          "47271776",
          "47271776",
          "47271776",
          "47271776",
          "47271776",
          "47271776",
          "47271776",
          "47271776",
          "47271776",
          "47271776",
          "47271776",
          "47271776",
          "47271776",
          "47271776",
          "47271776",
          "47271776",
          "47271776",
          "47271776",
          "47271776",
          "47271776",
          "47E1E358",
          "472935F2",
          "472935F2",
          "472935F2",
          "472935F2",
          "472935F2",
          "472935F2",
          "472935F2",
          "472935F2",
          "472935F2",
          "472935F2",
          "472935F2",
          "472935F2",
          "472935F2",
          "472935F2",
          "472935F2",
          "472935F2",
          "472935F2",
          "472935F2",
          "472935F2",
          "472935F2",
          "472935F2",
          "472935F2",
          "472935F2",
          "472935F2",
          "472935F2",
          "472FA05E",
          "472F7636",
          "472DF5D6",
          "472DF5D6",
          "472DF5D6",
          "472DF5D6",
          "472DF5D6",
          "472DF5D6",
          "472DF5D6",
          "472DF5D6",
          "472DF5D6",
          "472DF5D6",
          "472DF5D6",
          "472DF5D6",
          "472DF5D6",
          "472DF5D6",
          "472DF5D6",
          "472DF5D6",
          "472DF5D6",
          "472DF5D6",
          "472DF5D6",
          "472DF5D6",
          "472DF5D6",
          "472DF5D6",
          "472DF5D6",
          "472DF5D6",
          "472DF5D6",
          "472DF5D6",
          "472DF5D6",
          "472DF5D6",
          "472DF5D6",
          "472DF5D6",
          "472DF5D6",
          "472DF5D6",
          "472DF5D6",
          "472DF5D6",
          "472DF5D6",
          "472DF5D6",
          "472DF5D6",
          "472DF5D6",
          "472DF5D6",
          "472DF5D6",
          "472DF5D6",
          "472DF5D6",
          "472DF5D6",
          "472DF5D6",
          "472DF5D6",
          "472DF5D6",
          "472DF5D6",
          "472DF5D6",
          "472DF5D6",
          "472DF5D6",
          "472DF5D6",
          "472DF5D6",
          "472DF5D6",
          "472DF5D6",
          "472AC278",
          "472AC278",
          "472AC278",
          "472AC278",
          "472AC278",
          "472AC278",
          "472AC278",
          "47E34654",
          "472FB328",
          "472FB328",
          "47E0C74E",
          "472F43AC",
          "472F43AC",
          "472F43AC",
          "472F43AC",
          "472F43AC",
          "472F43AC",
          "472F43AC",
          "472F43AC",
          "472F43AC",
          "472F43AC",
          "472F43AC",
          "472F43AC",
          "472F43AC",
          "472F43AC",
          "472F43AC",
          "472F43AC",
          "472F43AC",
          "472F43AC",
          "472F43AC",
          "472F43AC",
          "472F43AC",
          "472F43AC",
          "472F43AC",
          "472F43AC",
          "472F43AC",
          "472F43AC",
          "472F43AC",
          "472F43AC",
          "472F43AC",
          "472F43AC",
          "472F43AC",
          "472F43AC",
          "472F43AC",
          "472F43AC",
          "472F43AC",
          "472F43AC",
          "472F43AC",
          "472F43AC",
          "472F43AC",
          "472F43AC",
          "472F43AC",
          "472F43AC",
          "472F43AC",
          "472F43AC",
          "472F43AC",
          "472F43AC",
          "472F43AC",
          "472F43AC",
          "472F43AC",
          "472F43AC",
          "472F43AC",
          "472F43AC",
          "472F43AC",
          "472F43AC",
          "472F43AC",
          "472F43AC",
          "472F43AC",
          "472F43AC",
          "472F43AC",
          "472F43AC",
          "472F43AC",
          "472F43AC",
          "472F43AC",
          "472F43AC",
          "472F43AC",
          "472F43AC",
          "472F43AC",
          "472F43AC",
          "472F43AC",
          "472F43AC",
          "472F43AC",
          "472F43AC",
          "472F43AC",
          "472F43AC",
          "472F43AC",
          "472F43AC",
          "472F43AC",
          "472F43AC",
          "472F43AC",
          "472F43AC",
          "472F43AC",
          "472F43AC",
          "472F43AC",
          "472F43AC",
          "472F43AC",
          "472F43AC",
          "472F43AC",
          "472F43AC",
          "472F43AC",
          "472F43AC",
          "472F43AC",
          "472F43AC",
          "472F43AC",
          "472F43AC",
          "472F43AC",
          "472F43AC",
          "472F43AC",
          "472F43AC",
          "472F43AC",
          "472F43AC",
          "472F43AC",
          "472F43AC",
          "472F43AC",
          "472F43AC",
          "472F43AC",
          "472F43AC",
          "472F43AC",
          "472F43AC",
          "472F43AC",
          "472F43AC",
          "472F43AC",
          "472F43AC",
          "472F43AC",
          "472F43AC",
          "472F43AC",
          "472F43AC",
          "472F43AC",
          "472F43AC",
          "472F43AC",
          "472F43AC",
          "472F43AC",
          "472F43AC",
          "472F43AC",
          "472F43AC",
          "472F43AC",
          "472F43AC",
          "472F43AC",
          "472F43AC",
          "472F43AC",
          "472F43AC",
          "472F43AC",
          "472F43AC",
          "472F43AC",
          "472F43AC",
          "472F43AC",
          "4726A602",
          "4726A602",
          "4726A602",
          "4726A602",
          "4726A602",
          "4726A602",
          "4726A602",
          "4726A602",
          "4726A602",
          "4726A602",
          "4726A602",
          "4726A602",
          "4726A602",
          "4729658E",
          "4729658E",
          "4729658E",
          "4729658E",
          "4729658E",
          "4729658E",
          "4729658E",
          "4729658E",
          "4729658E",
          "4729658E",
          "4729658E",
          "4729658E",
          "4729658E",
          "4729658E",
          "4729658E",
          "4729658E",
          "4729658E",
          "4729658E",
          "4729658E",
          "4729658E",
          "4729658E",
          "4729658E",
          "4729658E",
          "4729658E",
          "4729658E",
          "4729658E",
          "4729658E",
          "4729658E",
          "4729658E",
          "4729658E",
          "4729658E",
          "4729658E",
          "4729658E",
          "4729658E",
          "4729658E",
          "4729658E",
          "4729658E",
          "4729658E",
          "4729658E",
          "4729658E",
          "4729658E",
          "4729658E",
          "4729658E",
          "4729658E",
          "4729658E",
          "4729658E",
          "4729658E",
          "4729658E",
          "4729658E",
          "4729658E",
          "4729658E",
          "4729658E",
          "4729658E",
          "4729658E",
          "4729658E",
          "4729658E",
          "4729658E",
          "4729658E",
          "4729658E",
          "4729658E",
          "4729658E",
          "4729658E",
          "4729658E",
          "4729658E",
          "4729658E",
          "4729658E",
          "47E880E2",
          "47E880E2",
          "47E880E2",
          "47E880E2",
          "47E880E2",
          "47E880E2",
          "47E880E2",
          "47E880E2",
          "47E880E2",
          "47E880E2",
          "47E880E2",
          "47E880E2",
          "47E880E2",
          "47E880E2",
          "47E880E2",
          "47E880E2",
          "47E880E2",
          "47E880E2",
          "47E880E2",
          "47E880E2",
          "47E880E2",
          "47E880E2",
          "47E880E2",
          "47E880E2",
          "47E880E2",
          "47E880E2",
          "47E880E2",
          "47E880E2",
          "47E880E2",
          "47E880E2",
          "47E880E2",
          "47E880E2",
          "47E880E2",
          "47E880E2",
          "47E880E2",
          "47E880E2",
          "47E880E2",
          "47E880E2",
          "47E880E2",
          "47E880E2",
          "47E880E2",
          "47E880E2",
          "47E880E2",
          "47E880E2",
          "47E880E2",
          "47E880E2",
          "47E880E2",
          "47E880E2",
          "47E880E2",
          "47E880E2",
          "47E880E2",
          "47E880E2",
          "47E880E2",
          "47E880E2",
          "47E880E2",
          "47E880E2",
          "47E880E2",
          "47E880E2",
          "47E880E2",
          "47E880E2",
          "47E880E2",
          "47E880E2",
          "47E880E2",
          "47E880E2",
          "47E880E2",
          "47E880E2",
          "47E880E2",
          "47E880E2",
          "47E880E2",
          "47E880E2",
          "47E880E2",
          "47E880E2",
          "47E880E2",
          "47E880E2",
          "47E880E2",
          "47E880E2",
          "47E880E2",
          "47E880E2",
          "47E880E2",
          "47E880E2",
          "47E880E2",
          "47E880E2",
          "47E880E2",
          "47E880E2",
          "47E880E2",
          "47E880E2",
          "47E880E2",
          "47E880E2",
          "47E880E2",
          "47E880E2",
          "47E880E2",
          "47E880E2",
          "47E880E2",
          "47E880E2",
          "47E880E2",
          "47E880E2",
          "47E0522C",
          "47E0522C",
          "47E0522C",
          "47E0522C",
          "47E214D2",
          "472FF022",
          "47E22148"
         ],
         "yaxis": "y"
        }
       ],
       "layout": {
        "legend": {
         "title": {
          "text": "flag"
         },
         "tracegroupgap": 0
        },
        "margin": {
         "t": 60
        },
        "template": {
         "data": {
          "bar": [
           {
            "error_x": {
             "color": "#2a3f5f"
            },
            "error_y": {
             "color": "#2a3f5f"
            },
            "marker": {
             "line": {
              "color": "#E5ECF6",
              "width": 0.5
             },
             "pattern": {
              "fillmode": "overlay",
              "size": 10,
              "solidity": 0.2
             }
            },
            "type": "bar"
           }
          ],
          "barpolar": [
           {
            "marker": {
             "line": {
              "color": "#E5ECF6",
              "width": 0.5
             },
             "pattern": {
              "fillmode": "overlay",
              "size": 10,
              "solidity": 0.2
             }
            },
            "type": "barpolar"
           }
          ],
          "carpet": [
           {
            "aaxis": {
             "endlinecolor": "#2a3f5f",
             "gridcolor": "white",
             "linecolor": "white",
             "minorgridcolor": "white",
             "startlinecolor": "#2a3f5f"
            },
            "baxis": {
             "endlinecolor": "#2a3f5f",
             "gridcolor": "white",
             "linecolor": "white",
             "minorgridcolor": "white",
             "startlinecolor": "#2a3f5f"
            },
            "type": "carpet"
           }
          ],
          "choropleth": [
           {
            "colorbar": {
             "outlinewidth": 0,
             "ticks": ""
            },
            "type": "choropleth"
           }
          ],
          "contour": [
           {
            "colorbar": {
             "outlinewidth": 0,
             "ticks": ""
            },
            "colorscale": [
             [
              0,
              "#0d0887"
             ],
             [
              0.1111111111111111,
              "#46039f"
             ],
             [
              0.2222222222222222,
              "#7201a8"
             ],
             [
              0.3333333333333333,
              "#9c179e"
             ],
             [
              0.4444444444444444,
              "#bd3786"
             ],
             [
              0.5555555555555556,
              "#d8576b"
             ],
             [
              0.6666666666666666,
              "#ed7953"
             ],
             [
              0.7777777777777778,
              "#fb9f3a"
             ],
             [
              0.8888888888888888,
              "#fdca26"
             ],
             [
              1,
              "#f0f921"
             ]
            ],
            "type": "contour"
           }
          ],
          "contourcarpet": [
           {
            "colorbar": {
             "outlinewidth": 0,
             "ticks": ""
            },
            "type": "contourcarpet"
           }
          ],
          "heatmap": [
           {
            "colorbar": {
             "outlinewidth": 0,
             "ticks": ""
            },
            "colorscale": [
             [
              0,
              "#0d0887"
             ],
             [
              0.1111111111111111,
              "#46039f"
             ],
             [
              0.2222222222222222,
              "#7201a8"
             ],
             [
              0.3333333333333333,
              "#9c179e"
             ],
             [
              0.4444444444444444,
              "#bd3786"
             ],
             [
              0.5555555555555556,
              "#d8576b"
             ],
             [
              0.6666666666666666,
              "#ed7953"
             ],
             [
              0.7777777777777778,
              "#fb9f3a"
             ],
             [
              0.8888888888888888,
              "#fdca26"
             ],
             [
              1,
              "#f0f921"
             ]
            ],
            "type": "heatmap"
           }
          ],
          "heatmapgl": [
           {
            "colorbar": {
             "outlinewidth": 0,
             "ticks": ""
            },
            "colorscale": [
             [
              0,
              "#0d0887"
             ],
             [
              0.1111111111111111,
              "#46039f"
             ],
             [
              0.2222222222222222,
              "#7201a8"
             ],
             [
              0.3333333333333333,
              "#9c179e"
             ],
             [
              0.4444444444444444,
              "#bd3786"
             ],
             [
              0.5555555555555556,
              "#d8576b"
             ],
             [
              0.6666666666666666,
              "#ed7953"
             ],
             [
              0.7777777777777778,
              "#fb9f3a"
             ],
             [
              0.8888888888888888,
              "#fdca26"
             ],
             [
              1,
              "#f0f921"
             ]
            ],
            "type": "heatmapgl"
           }
          ],
          "histogram": [
           {
            "marker": {
             "pattern": {
              "fillmode": "overlay",
              "size": 10,
              "solidity": 0.2
             }
            },
            "type": "histogram"
           }
          ],
          "histogram2d": [
           {
            "colorbar": {
             "outlinewidth": 0,
             "ticks": ""
            },
            "colorscale": [
             [
              0,
              "#0d0887"
             ],
             [
              0.1111111111111111,
              "#46039f"
             ],
             [
              0.2222222222222222,
              "#7201a8"
             ],
             [
              0.3333333333333333,
              "#9c179e"
             ],
             [
              0.4444444444444444,
              "#bd3786"
             ],
             [
              0.5555555555555556,
              "#d8576b"
             ],
             [
              0.6666666666666666,
              "#ed7953"
             ],
             [
              0.7777777777777778,
              "#fb9f3a"
             ],
             [
              0.8888888888888888,
              "#fdca26"
             ],
             [
              1,
              "#f0f921"
             ]
            ],
            "type": "histogram2d"
           }
          ],
          "histogram2dcontour": [
           {
            "colorbar": {
             "outlinewidth": 0,
             "ticks": ""
            },
            "colorscale": [
             [
              0,
              "#0d0887"
             ],
             [
              0.1111111111111111,
              "#46039f"
             ],
             [
              0.2222222222222222,
              "#7201a8"
             ],
             [
              0.3333333333333333,
              "#9c179e"
             ],
             [
              0.4444444444444444,
              "#bd3786"
             ],
             [
              0.5555555555555556,
              "#d8576b"
             ],
             [
              0.6666666666666666,
              "#ed7953"
             ],
             [
              0.7777777777777778,
              "#fb9f3a"
             ],
             [
              0.8888888888888888,
              "#fdca26"
             ],
             [
              1,
              "#f0f921"
             ]
            ],
            "type": "histogram2dcontour"
           }
          ],
          "mesh3d": [
           {
            "colorbar": {
             "outlinewidth": 0,
             "ticks": ""
            },
            "type": "mesh3d"
           }
          ],
          "parcoords": [
           {
            "line": {
             "colorbar": {
              "outlinewidth": 0,
              "ticks": ""
             }
            },
            "type": "parcoords"
           }
          ],
          "pie": [
           {
            "automargin": true,
            "type": "pie"
           }
          ],
          "scatter": [
           {
            "fillpattern": {
             "fillmode": "overlay",
             "size": 10,
             "solidity": 0.2
            },
            "type": "scatter"
           }
          ],
          "scatter3d": [
           {
            "line": {
             "colorbar": {
              "outlinewidth": 0,
              "ticks": ""
             }
            },
            "marker": {
             "colorbar": {
              "outlinewidth": 0,
              "ticks": ""
             }
            },
            "type": "scatter3d"
           }
          ],
          "scattercarpet": [
           {
            "marker": {
             "colorbar": {
              "outlinewidth": 0,
              "ticks": ""
             }
            },
            "type": "scattercarpet"
           }
          ],
          "scattergeo": [
           {
            "marker": {
             "colorbar": {
              "outlinewidth": 0,
              "ticks": ""
             }
            },
            "type": "scattergeo"
           }
          ],
          "scattergl": [
           {
            "marker": {
             "colorbar": {
              "outlinewidth": 0,
              "ticks": ""
             }
            },
            "type": "scattergl"
           }
          ],
          "scattermapbox": [
           {
            "marker": {
             "colorbar": {
              "outlinewidth": 0,
              "ticks": ""
             }
            },
            "type": "scattermapbox"
           }
          ],
          "scatterpolar": [
           {
            "marker": {
             "colorbar": {
              "outlinewidth": 0,
              "ticks": ""
             }
            },
            "type": "scatterpolar"
           }
          ],
          "scatterpolargl": [
           {
            "marker": {
             "colorbar": {
              "outlinewidth": 0,
              "ticks": ""
             }
            },
            "type": "scatterpolargl"
           }
          ],
          "scatterternary": [
           {
            "marker": {
             "colorbar": {
              "outlinewidth": 0,
              "ticks": ""
             }
            },
            "type": "scatterternary"
           }
          ],
          "surface": [
           {
            "colorbar": {
             "outlinewidth": 0,
             "ticks": ""
            },
            "colorscale": [
             [
              0,
              "#0d0887"
             ],
             [
              0.1111111111111111,
              "#46039f"
             ],
             [
              0.2222222222222222,
              "#7201a8"
             ],
             [
              0.3333333333333333,
              "#9c179e"
             ],
             [
              0.4444444444444444,
              "#bd3786"
             ],
             [
              0.5555555555555556,
              "#d8576b"
             ],
             [
              0.6666666666666666,
              "#ed7953"
             ],
             [
              0.7777777777777778,
              "#fb9f3a"
             ],
             [
              0.8888888888888888,
              "#fdca26"
             ],
             [
              1,
              "#f0f921"
             ]
            ],
            "type": "surface"
           }
          ],
          "table": [
           {
            "cells": {
             "fill": {
              "color": "#EBF0F8"
             },
             "line": {
              "color": "white"
             }
            },
            "header": {
             "fill": {
              "color": "#C8D4E3"
             },
             "line": {
              "color": "white"
             }
            },
            "type": "table"
           }
          ]
         },
         "layout": {
          "annotationdefaults": {
           "arrowcolor": "#2a3f5f",
           "arrowhead": 0,
           "arrowwidth": 1
          },
          "autotypenumbers": "strict",
          "coloraxis": {
           "colorbar": {
            "outlinewidth": 0,
            "ticks": ""
           }
          },
          "colorscale": {
           "diverging": [
            [
             0,
             "#8e0152"
            ],
            [
             0.1,
             "#c51b7d"
            ],
            [
             0.2,
             "#de77ae"
            ],
            [
             0.3,
             "#f1b6da"
            ],
            [
             0.4,
             "#fde0ef"
            ],
            [
             0.5,
             "#f7f7f7"
            ],
            [
             0.6,
             "#e6f5d0"
            ],
            [
             0.7,
             "#b8e186"
            ],
            [
             0.8,
             "#7fbc41"
            ],
            [
             0.9,
             "#4d9221"
            ],
            [
             1,
             "#276419"
            ]
           ],
           "sequential": [
            [
             0,
             "#0d0887"
            ],
            [
             0.1111111111111111,
             "#46039f"
            ],
            [
             0.2222222222222222,
             "#7201a8"
            ],
            [
             0.3333333333333333,
             "#9c179e"
            ],
            [
             0.4444444444444444,
             "#bd3786"
            ],
            [
             0.5555555555555556,
             "#d8576b"
            ],
            [
             0.6666666666666666,
             "#ed7953"
            ],
            [
             0.7777777777777778,
             "#fb9f3a"
            ],
            [
             0.8888888888888888,
             "#fdca26"
            ],
            [
             1,
             "#f0f921"
            ]
           ],
           "sequentialminus": [
            [
             0,
             "#0d0887"
            ],
            [
             0.1111111111111111,
             "#46039f"
            ],
            [
             0.2222222222222222,
             "#7201a8"
            ],
            [
             0.3333333333333333,
             "#9c179e"
            ],
            [
             0.4444444444444444,
             "#bd3786"
            ],
            [
             0.5555555555555556,
             "#d8576b"
            ],
            [
             0.6666666666666666,
             "#ed7953"
            ],
            [
             0.7777777777777778,
             "#fb9f3a"
            ],
            [
             0.8888888888888888,
             "#fdca26"
            ],
            [
             1,
             "#f0f921"
            ]
           ]
          },
          "colorway": [
           "#636efa",
           "#EF553B",
           "#00cc96",
           "#ab63fa",
           "#FFA15A",
           "#19d3f3",
           "#FF6692",
           "#B6E880",
           "#FF97FF",
           "#FECB52"
          ],
          "font": {
           "color": "#2a3f5f"
          },
          "geo": {
           "bgcolor": "white",
           "lakecolor": "white",
           "landcolor": "#E5ECF6",
           "showlakes": true,
           "showland": true,
           "subunitcolor": "white"
          },
          "hoverlabel": {
           "align": "left"
          },
          "hovermode": "closest",
          "mapbox": {
           "style": "light"
          },
          "paper_bgcolor": "white",
          "plot_bgcolor": "#E5ECF6",
          "polar": {
           "angularaxis": {
            "gridcolor": "white",
            "linecolor": "white",
            "ticks": ""
           },
           "bgcolor": "#E5ECF6",
           "radialaxis": {
            "gridcolor": "white",
            "linecolor": "white",
            "ticks": ""
           }
          },
          "scene": {
           "xaxis": {
            "backgroundcolor": "#E5ECF6",
            "gridcolor": "white",
            "gridwidth": 2,
            "linecolor": "white",
            "showbackground": true,
            "ticks": "",
            "zerolinecolor": "white"
           },
           "yaxis": {
            "backgroundcolor": "#E5ECF6",
            "gridcolor": "white",
            "gridwidth": 2,
            "linecolor": "white",
            "showbackground": true,
            "ticks": "",
            "zerolinecolor": "white"
           },
           "zaxis": {
            "backgroundcolor": "#E5ECF6",
            "gridcolor": "white",
            "gridwidth": 2,
            "linecolor": "white",
            "showbackground": true,
            "ticks": "",
            "zerolinecolor": "white"
           }
          },
          "shapedefaults": {
           "line": {
            "color": "#2a3f5f"
           }
          },
          "ternary": {
           "aaxis": {
            "gridcolor": "white",
            "linecolor": "white",
            "ticks": ""
           },
           "baxis": {
            "gridcolor": "white",
            "linecolor": "white",
            "ticks": ""
           },
           "bgcolor": "#E5ECF6",
           "caxis": {
            "gridcolor": "white",
            "linecolor": "white",
            "ticks": ""
           }
          },
          "title": {
           "x": 0.05
          },
          "xaxis": {
           "automargin": true,
           "gridcolor": "white",
           "linecolor": "white",
           "ticks": "",
           "title": {
            "standoff": 15
           },
           "zerolinecolor": "white",
           "zerolinewidth": 2
          },
          "yaxis": {
           "automargin": true,
           "gridcolor": "white",
           "linecolor": "white",
           "ticks": "",
           "title": {
            "standoff": 15
           },
           "zerolinecolor": "white",
           "zerolinewidth": 2
          }
         }
        },
        "xaxis": {
         "anchor": "y",
         "domain": [
          0,
          1
         ],
         "title": {
          "text": "dato"
         }
        },
        "yaxis": {
         "anchor": "x",
         "domain": [
          0,
          1
         ],
         "title": {
          "text": "codigo"
         }
        }
       }
      },
      "text/html": [
       "<div>                            <div id=\"09d5cd59-35e9-4b1e-a86f-e7ca2e1b3d41\" class=\"plotly-graph-div\" style=\"height:525px; width:100%;\"></div>            <script type=\"text/javascript\">                require([\"plotly\"], function(Plotly) {                    window.PLOTLYENV=window.PLOTLYENV || {};                                    if (document.getElementById(\"09d5cd59-35e9-4b1e-a86f-e7ca2e1b3d41\")) {                    Plotly.newPlot(                        \"09d5cd59-35e9-4b1e-a86f-e7ca2e1b3d41\",                        [{\"hovertemplate\":\"flag=M0000002<br>dato=%{x}<br>codigo=%{y}<extra></extra>\",\"legendgroup\":\"M0000002\",\"marker\":{\"color\":\"#636efa\",\"symbol\":\"circle\"},\"mode\":\"markers\",\"name\":\"M0000002\",\"orientation\":\"h\",\"showlegend\":true,\"x\":[0.6,0.4,2.0,0.1,0.1,0.1,0.2,0.1,0.1,0.1,0.1,0.1,0.1,0.1,0.1,0.1,0.1,0.1,0.1,0.1,0.1,0.1,0.2,0.1,0.1,0.1,0.1,0.1,0.1,0.1,0.1,0.2,0.1,0.1,0.1,0.1,0.1,0.1,0.1,0.1,0.1,0.1,0.1,0.1,0.1,0.1,0.1,0.1,0.1,0.1,0.1,0.1,0.1,0.1,0.1,0.1,0.1,0.1,0.1,0.1,0.1,0.1,0.1,0.1,0.1,0.1,0.1,0.1,0.1,0.1,0.1,0.1,0.2,0.1,0.1,0.1,0.1,0.1,0.1,0.1,0.1,0.1,0.1,0.1,46.2,148.3,0.2,0.4,0.2,0.2,0.1,0.6,0.2,5.3,2.8,0.7,0.5,1.0,0.3,0.1,1.5,1.7,0.1,0.1,2.5,1.4,1.5,0.1,0.2,0.9,0.4,0.5,0.8,1.2,2.5,1.9,2.8,0.1,0.2,1.1,0.7,0.3,1.5,0.4,3.5,0.8,0.1,0.9,0.4,0.3,0.3,0.4,1.9,0.4,0.3,0.6,0.1,3.5,2.2,0.6,0.4,0.2,0.6,0.3,0.3,2.5,0.1,0.6,305.5,4.5,0.3,5.7,35.7,1.5,0.6,0.3,6.3,0.9,2.4,3.6,3.9,0.3,1.2,2.7,0.3,0.3,16.2,4.2,6.3,3.3,0.6,0.3,1.5,1.2,0.3,1.5,4.2,0.3,0.9,0.3,2.7,9.3,3.3,2.7,0.9,4.5,7.5,2.4,1.2,1.8,16.2,14.7,27.0,12.6,3.0,0.9,0.6,0.3,0.6,0.6,0.6,4.8,20.4,19.8,27.9,0.4,0.2,0.2,0.2,0.2,0.2,0.2,0.2,0.2,0.2,0.2,0.2,0.2,0.2,0.2,0.2,0.2,0.2,0.2,0.2,0.2,0.2,0.2,0.2,0.2,232.5,28.3,2.28,1.52,1.77,0.25,1.52,0.5,0.5,3.55,8.38,6.85,2.79,5.08,1.01,2.54,4.31,0.5,2.28,1.52,2.03,1.01,0.5,1.01,3.04,3.81,7.36,7.11,7.62,0.5,0.76,1.01,0.25,0.5,0.5,1.52,0.25,0.5,1.27,1.01,0.76,1.01,1.27,0.76,0.25,0.5,1.52,4.06,1.52,2.03,0.25,3.55,3.81,1.01,1.27,0.76,0.1,0.1,0.1,0.1,0.1,0.1,0.1,1.7,337.5,305.5,234.0,0.7,1.0,0.1,0.2,0.8,0.5,0.2,0.1,0.1,0.4,0.5,0.6,0.8,0.7,0.6,0.6,0.5,0.5,0.5,0.6,0.4,0.5,0.5,0.4,0.4,0.3,0.3,0.2,0.2,0.3,0.2,0.2,0.2,0.2,0.1,0.2,0.2,0.1,0.1,0.2,0.1,0.1,0.1,0.2,0.1,0.1,0.1,0.1,0.1,0.1,0.1,0.1,0.1,0.1,0.1,0.1,0.1,0.1,0.1,0.1,0.1,0.1,0.1,0.1,0.1,0.1,0.1,0.1,0.1,0.1,0.1,0.1,0.1,0.1,0.1,0.1,0.1,0.1,0.1,0.1,0.1,0.1,0.1,0.1,0.1,0.1,0.1,0.1,0.1,0.1,0.1,0.1,0.1,0.1,0.1,0.1,0.1,0.1,0.1,0.1,0.1,0.1,0.1,0.1,0.1,0.1,0.1,0.1,0.1,0.1,0.1,0.1,0.1,0.1,0.1,0.1,0.1,0.1,0.1,0.1,0.1,0.1,0.1,0.1,0.1,0.1,0.1,0.1,0.1,0.1,0.1,0.9,0.1,0.1,0.1,48.4,310.8,232.1,305.5,305.5,305.5,310.8,333.8,234.0,305.5,230.6,235.1,230.9,0.2,0.8,0.4,0.2,0.2,0.6,0.8,0.8,0.6,0.6,0.6,0.2,0.4,0.2,0.2,0.2,0.2,0.2,0.2,0.2,0.2,0.2,0.2,0.2,0.2,0.2,0.2,0.2,0.2,0.2,0.2,0.2,0.2,0.2,0.2,0.2,0.2,0.2,0.2,0.2,0.2,0.2,0.2,0.2,0.2,0.2,0.2,0.2,0.2,0.2,0.2,0.2,0.2,0.2,0.2,0.2,0.2,0.2,0.2,0.2,0.2,0.2,0.2,0.2,0.2,0.2,0.1,0.1,0.1,0.1,0.1,0.1,0.1,0.1,0.1,0.1,0.1,0.1,0.1,0.1,0.1,0.1,0.1,0.1,0.1,0.1,0.1,0.1,0.1,0.1,0.1,0.1,0.1,0.1,0.1,0.1,0.1,0.1,0.1,0.1,0.2,0.1,0.2,0.1,0.1,0.1,0.1,0.1,0.1,0.1,0.1,0.1,0.1,0.2,0.1,0.1,0.2,0.1,0.1,0.1,0.1,0.1,0.1,0.1,0.1,0.1,0.1,0.1,0.1,0.1,0.1,0.1,0.1,0.1,0.1,0.1,0.1,0.1,0.1,0.1,0.1,0.1,0.1,0.1,0.1,3.6,0.1,0.1,0.1,0.1,0.1,0.1,0.1,0.1,0.1,0.1,0.1,0.1,0.1,0.1,0.1,0.1,5.5,2.5,3.7,234.5,1.6,0.9,3.4],\"xaxis\":\"x\",\"y\":[\"472606FA\",\"472606FA\",\"220907\",\"4720EB14\",\"4720EB14\",\"4720EB14\",\"47E1F02E\",\"47E1F02E\",\"47E1F02E\",\"47E1F02E\",\"47E1F02E\",\"47E1F02E\",\"47E1F02E\",\"47E1F02E\",\"47E1F02E\",\"47E1F02E\",\"47E1F02E\",\"47E1F02E\",\"47E1F02E\",\"47E1F02E\",\"47E1F02E\",\"47E1F02E\",\"47E1F02E\",\"47E1F02E\",\"47E1F02E\",\"47E1F02E\",\"47E1F02E\",\"47E1F02E\",\"47E1F02E\",\"47E1F02E\",\"47E1F02E\",\"47E1F02E\",\"47E1F02E\",\"47E1F02E\",\"47E1F02E\",\"47E1F02E\",\"47E1F02E\",\"47E1F02E\",\"47E1F02E\",\"47E1F02E\",\"47E1F02E\",\"47E1F02E\",\"47E1F02E\",\"47E1F02E\",\"47E1F02E\",\"47E1F02E\",\"47E1F02E\",\"47E1F02E\",\"47E1F02E\",\"47E1F02E\",\"47E1F02E\",\"47E1F02E\",\"47E1F02E\",\"47E1F02E\",\"47E1F02E\",\"47E1F02E\",\"47E1F02E\",\"47E1F02E\",\"47E1F02E\",\"47E1F02E\",\"47E1F02E\",\"47E1F02E\",\"47E1F02E\",\"47E1F02E\",\"47E1F02E\",\"47E1F02E\",\"47E1F02E\",\"47E1F02E\",\"47E1F02E\",\"47E1F02E\",\"47E1F02E\",\"47E1F02E\",\"47E1F02E\",\"47E1F02E\",\"47E1F02E\",\"47E1F02E\",\"47E1F02E\",\"47E1F02E\",\"47E1F02E\",\"47E1F02E\",\"47E1F02E\",\"47E1F02E\",\"47E1F02E\",\"47E1F02E\",\"47E1F02E\",\"472FC5B8\",\"472A571A\",\"472A571A\",\"472A571A\",\"472A571A\",\"472A571A\",\"472A571A\",\"472A571A\",\"472A571A\",\"472A571A\",\"472A571A\",\"472A571A\",\"472A571A\",\"472A571A\",\"472A571A\",\"472A571A\",\"472A571A\",\"472A571A\",\"472A571A\",\"472A571A\",\"472A571A\",\"472A571A\",\"472A571A\",\"472A571A\",\"472A571A\",\"472A571A\",\"472A571A\",\"472A571A\",\"472A571A\",\"472A571A\",\"472A571A\",\"472A571A\",\"472A571A\",\"472A571A\",\"472A571A\",\"472A571A\",\"472A571A\",\"472A571A\",\"472A571A\",\"472A571A\",\"472A571A\",\"472A571A\",\"472A571A\",\"472A571A\",\"472A571A\",\"472A571A\",\"472A571A\",\"472A571A\",\"472A571A\",\"472A571A\",\"472A571A\",\"472A571A\",\"472A571A\",\"472A571A\",\"472A571A\",\"472A571A\",\"472A571A\",\"472A571A\",\"472A571A\",\"472A571A\",\"212600\",\"472B2370\",\"472B2370\",\"4729D600\",\"47271776\",\"47271776\",\"47271776\",\"47271776\",\"47271776\",\"47271776\",\"47271776\",\"47271776\",\"47271776\",\"47271776\",\"47271776\",\"47271776\",\"47271776\",\"47271776\",\"47271776\",\"47271776\",\"47271776\",\"47271776\",\"47271776\",\"47271776\",\"47271776\",\"47271776\",\"47271776\",\"47271776\",\"47271776\",\"47271776\",\"47271776\",\"47271776\",\"47271776\",\"47271776\",\"47271776\",\"47271776\",\"47271776\",\"47271776\",\"47271776\",\"47271776\",\"47271776\",\"47271776\",\"47271776\",\"47271776\",\"47271776\",\"47271776\",\"47271776\",\"47271776\",\"47271776\",\"47271776\",\"47271776\",\"47271776\",\"47271776\",\"47271776\",\"47271776\",\"47271776\",\"47271776\",\"47271776\",\"47271776\",\"47E1E358\",\"472935F2\",\"472935F2\",\"472935F2\",\"472935F2\",\"472935F2\",\"472935F2\",\"472935F2\",\"472935F2\",\"472935F2\",\"472935F2\",\"472935F2\",\"472935F2\",\"472935F2\",\"472935F2\",\"472935F2\",\"472935F2\",\"472935F2\",\"472935F2\",\"472935F2\",\"472935F2\",\"472935F2\",\"472935F2\",\"472935F2\",\"472935F2\",\"472935F2\",\"472FA05E\",\"472F7636\",\"472DF5D6\",\"472DF5D6\",\"472DF5D6\",\"472DF5D6\",\"472DF5D6\",\"472DF5D6\",\"472DF5D6\",\"472DF5D6\",\"472DF5D6\",\"472DF5D6\",\"472DF5D6\",\"472DF5D6\",\"472DF5D6\",\"472DF5D6\",\"472DF5D6\",\"472DF5D6\",\"472DF5D6\",\"472DF5D6\",\"472DF5D6\",\"472DF5D6\",\"472DF5D6\",\"472DF5D6\",\"472DF5D6\",\"472DF5D6\",\"472DF5D6\",\"472DF5D6\",\"472DF5D6\",\"472DF5D6\",\"472DF5D6\",\"472DF5D6\",\"472DF5D6\",\"472DF5D6\",\"472DF5D6\",\"472DF5D6\",\"472DF5D6\",\"472DF5D6\",\"472DF5D6\",\"472DF5D6\",\"472DF5D6\",\"472DF5D6\",\"472DF5D6\",\"472DF5D6\",\"472DF5D6\",\"472DF5D6\",\"472DF5D6\",\"472DF5D6\",\"472DF5D6\",\"472DF5D6\",\"472DF5D6\",\"472DF5D6\",\"472DF5D6\",\"472DF5D6\",\"472DF5D6\",\"472DF5D6\",\"472AC278\",\"472AC278\",\"472AC278\",\"472AC278\",\"472AC278\",\"472AC278\",\"472AC278\",\"47E34654\",\"472FB328\",\"472FB328\",\"47E0C74E\",\"472F43AC\",\"472F43AC\",\"472F43AC\",\"472F43AC\",\"472F43AC\",\"472F43AC\",\"472F43AC\",\"472F43AC\",\"472F43AC\",\"472F43AC\",\"472F43AC\",\"472F43AC\",\"472F43AC\",\"472F43AC\",\"472F43AC\",\"472F43AC\",\"472F43AC\",\"472F43AC\",\"472F43AC\",\"472F43AC\",\"472F43AC\",\"472F43AC\",\"472F43AC\",\"472F43AC\",\"472F43AC\",\"472F43AC\",\"472F43AC\",\"472F43AC\",\"472F43AC\",\"472F43AC\",\"472F43AC\",\"472F43AC\",\"472F43AC\",\"472F43AC\",\"472F43AC\",\"472F43AC\",\"472F43AC\",\"472F43AC\",\"472F43AC\",\"472F43AC\",\"472F43AC\",\"472F43AC\",\"472F43AC\",\"472F43AC\",\"472F43AC\",\"472F43AC\",\"472F43AC\",\"472F43AC\",\"472F43AC\",\"472F43AC\",\"472F43AC\",\"472F43AC\",\"472F43AC\",\"472F43AC\",\"472F43AC\",\"472F43AC\",\"472F43AC\",\"472F43AC\",\"472F43AC\",\"472F43AC\",\"472F43AC\",\"472F43AC\",\"472F43AC\",\"472F43AC\",\"472F43AC\",\"472F43AC\",\"472F43AC\",\"472F43AC\",\"472F43AC\",\"472F43AC\",\"472F43AC\",\"472F43AC\",\"472F43AC\",\"472F43AC\",\"472F43AC\",\"472F43AC\",\"472F43AC\",\"472F43AC\",\"472F43AC\",\"472F43AC\",\"472F43AC\",\"472F43AC\",\"472F43AC\",\"472F43AC\",\"472F43AC\",\"472F43AC\",\"472F43AC\",\"472F43AC\",\"472F43AC\",\"472F43AC\",\"472F43AC\",\"472F43AC\",\"472F43AC\",\"472F43AC\",\"472F43AC\",\"472F43AC\",\"472F43AC\",\"472F43AC\",\"472F43AC\",\"472F43AC\",\"472F43AC\",\"472F43AC\",\"472F43AC\",\"472F43AC\",\"472F43AC\",\"472F43AC\",\"472F43AC\",\"472F43AC\",\"472F43AC\",\"472F43AC\",\"472F43AC\",\"472F43AC\",\"472F43AC\",\"472F43AC\",\"472F43AC\",\"472F43AC\",\"472F43AC\",\"472F43AC\",\"472F43AC\",\"472F43AC\",\"472F43AC\",\"472F43AC\",\"472F43AC\",\"472F43AC\",\"472F43AC\",\"472F43AC\",\"472F43AC\",\"472F43AC\",\"472F43AC\",\"472F43AC\",\"472F43AC\",\"472F43AC\",\"472F43AC\",\"472F43AC\",\"472F43AC\",\"4726A602\",\"4726A602\",\"4726A602\",\"4726A602\",\"4726A602\",\"4726A602\",\"4726A602\",\"4726A602\",\"4726A602\",\"4726A602\",\"4726A602\",\"4726A602\",\"4726A602\",\"4729658E\",\"4729658E\",\"4729658E\",\"4729658E\",\"4729658E\",\"4729658E\",\"4729658E\",\"4729658E\",\"4729658E\",\"4729658E\",\"4729658E\",\"4729658E\",\"4729658E\",\"4729658E\",\"4729658E\",\"4729658E\",\"4729658E\",\"4729658E\",\"4729658E\",\"4729658E\",\"4729658E\",\"4729658E\",\"4729658E\",\"4729658E\",\"4729658E\",\"4729658E\",\"4729658E\",\"4729658E\",\"4729658E\",\"4729658E\",\"4729658E\",\"4729658E\",\"4729658E\",\"4729658E\",\"4729658E\",\"4729658E\",\"4729658E\",\"4729658E\",\"4729658E\",\"4729658E\",\"4729658E\",\"4729658E\",\"4729658E\",\"4729658E\",\"4729658E\",\"4729658E\",\"4729658E\",\"4729658E\",\"4729658E\",\"4729658E\",\"4729658E\",\"4729658E\",\"4729658E\",\"4729658E\",\"4729658E\",\"4729658E\",\"4729658E\",\"4729658E\",\"4729658E\",\"4729658E\",\"4729658E\",\"4729658E\",\"4729658E\",\"4729658E\",\"4729658E\",\"4729658E\",\"47E880E2\",\"47E880E2\",\"47E880E2\",\"47E880E2\",\"47E880E2\",\"47E880E2\",\"47E880E2\",\"47E880E2\",\"47E880E2\",\"47E880E2\",\"47E880E2\",\"47E880E2\",\"47E880E2\",\"47E880E2\",\"47E880E2\",\"47E880E2\",\"47E880E2\",\"47E880E2\",\"47E880E2\",\"47E880E2\",\"47E880E2\",\"47E880E2\",\"47E880E2\",\"47E880E2\",\"47E880E2\",\"47E880E2\",\"47E880E2\",\"47E880E2\",\"47E880E2\",\"47E880E2\",\"47E880E2\",\"47E880E2\",\"47E880E2\",\"47E880E2\",\"47E880E2\",\"47E880E2\",\"47E880E2\",\"47E880E2\",\"47E880E2\",\"47E880E2\",\"47E880E2\",\"47E880E2\",\"47E880E2\",\"47E880E2\",\"47E880E2\",\"47E880E2\",\"47E880E2\",\"47E880E2\",\"47E880E2\",\"47E880E2\",\"47E880E2\",\"47E880E2\",\"47E880E2\",\"47E880E2\",\"47E880E2\",\"47E880E2\",\"47E880E2\",\"47E880E2\",\"47E880E2\",\"47E880E2\",\"47E880E2\",\"47E880E2\",\"47E880E2\",\"47E880E2\",\"47E880E2\",\"47E880E2\",\"47E880E2\",\"47E880E2\",\"47E880E2\",\"47E880E2\",\"47E880E2\",\"47E880E2\",\"47E880E2\",\"47E880E2\",\"47E880E2\",\"47E880E2\",\"47E880E2\",\"47E880E2\",\"47E880E2\",\"47E880E2\",\"47E880E2\",\"47E880E2\",\"47E880E2\",\"47E880E2\",\"47E880E2\",\"47E880E2\",\"47E880E2\",\"47E880E2\",\"47E880E2\",\"47E880E2\",\"47E880E2\",\"47E880E2\",\"47E880E2\",\"47E880E2\",\"47E880E2\",\"47E880E2\",\"47E0522C\",\"47E0522C\",\"47E0522C\",\"47E0522C\",\"47E214D2\",\"472FF022\",\"47E22148\"],\"yaxis\":\"y\",\"type\":\"scatter\"}],                        {\"template\":{\"data\":{\"histogram2dcontour\":[{\"type\":\"histogram2dcontour\",\"colorbar\":{\"outlinewidth\":0,\"ticks\":\"\"},\"colorscale\":[[0.0,\"#0d0887\"],[0.1111111111111111,\"#46039f\"],[0.2222222222222222,\"#7201a8\"],[0.3333333333333333,\"#9c179e\"],[0.4444444444444444,\"#bd3786\"],[0.5555555555555556,\"#d8576b\"],[0.6666666666666666,\"#ed7953\"],[0.7777777777777778,\"#fb9f3a\"],[0.8888888888888888,\"#fdca26\"],[1.0,\"#f0f921\"]]}],\"choropleth\":[{\"type\":\"choropleth\",\"colorbar\":{\"outlinewidth\":0,\"ticks\":\"\"}}],\"histogram2d\":[{\"type\":\"histogram2d\",\"colorbar\":{\"outlinewidth\":0,\"ticks\":\"\"},\"colorscale\":[[0.0,\"#0d0887\"],[0.1111111111111111,\"#46039f\"],[0.2222222222222222,\"#7201a8\"],[0.3333333333333333,\"#9c179e\"],[0.4444444444444444,\"#bd3786\"],[0.5555555555555556,\"#d8576b\"],[0.6666666666666666,\"#ed7953\"],[0.7777777777777778,\"#fb9f3a\"],[0.8888888888888888,\"#fdca26\"],[1.0,\"#f0f921\"]]}],\"heatmap\":[{\"type\":\"heatmap\",\"colorbar\":{\"outlinewidth\":0,\"ticks\":\"\"},\"colorscale\":[[0.0,\"#0d0887\"],[0.1111111111111111,\"#46039f\"],[0.2222222222222222,\"#7201a8\"],[0.3333333333333333,\"#9c179e\"],[0.4444444444444444,\"#bd3786\"],[0.5555555555555556,\"#d8576b\"],[0.6666666666666666,\"#ed7953\"],[0.7777777777777778,\"#fb9f3a\"],[0.8888888888888888,\"#fdca26\"],[1.0,\"#f0f921\"]]}],\"heatmapgl\":[{\"type\":\"heatmapgl\",\"colorbar\":{\"outlinewidth\":0,\"ticks\":\"\"},\"colorscale\":[[0.0,\"#0d0887\"],[0.1111111111111111,\"#46039f\"],[0.2222222222222222,\"#7201a8\"],[0.3333333333333333,\"#9c179e\"],[0.4444444444444444,\"#bd3786\"],[0.5555555555555556,\"#d8576b\"],[0.6666666666666666,\"#ed7953\"],[0.7777777777777778,\"#fb9f3a\"],[0.8888888888888888,\"#fdca26\"],[1.0,\"#f0f921\"]]}],\"contourcarpet\":[{\"type\":\"contourcarpet\",\"colorbar\":{\"outlinewidth\":0,\"ticks\":\"\"}}],\"contour\":[{\"type\":\"contour\",\"colorbar\":{\"outlinewidth\":0,\"ticks\":\"\"},\"colorscale\":[[0.0,\"#0d0887\"],[0.1111111111111111,\"#46039f\"],[0.2222222222222222,\"#7201a8\"],[0.3333333333333333,\"#9c179e\"],[0.4444444444444444,\"#bd3786\"],[0.5555555555555556,\"#d8576b\"],[0.6666666666666666,\"#ed7953\"],[0.7777777777777778,\"#fb9f3a\"],[0.8888888888888888,\"#fdca26\"],[1.0,\"#f0f921\"]]}],\"surface\":[{\"type\":\"surface\",\"colorbar\":{\"outlinewidth\":0,\"ticks\":\"\"},\"colorscale\":[[0.0,\"#0d0887\"],[0.1111111111111111,\"#46039f\"],[0.2222222222222222,\"#7201a8\"],[0.3333333333333333,\"#9c179e\"],[0.4444444444444444,\"#bd3786\"],[0.5555555555555556,\"#d8576b\"],[0.6666666666666666,\"#ed7953\"],[0.7777777777777778,\"#fb9f3a\"],[0.8888888888888888,\"#fdca26\"],[1.0,\"#f0f921\"]]}],\"mesh3d\":[{\"type\":\"mesh3d\",\"colorbar\":{\"outlinewidth\":0,\"ticks\":\"\"}}],\"scatter\":[{\"fillpattern\":{\"fillmode\":\"overlay\",\"size\":10,\"solidity\":0.2},\"type\":\"scatter\"}],\"parcoords\":[{\"type\":\"parcoords\",\"line\":{\"colorbar\":{\"outlinewidth\":0,\"ticks\":\"\"}}}],\"scatterpolargl\":[{\"type\":\"scatterpolargl\",\"marker\":{\"colorbar\":{\"outlinewidth\":0,\"ticks\":\"\"}}}],\"bar\":[{\"error_x\":{\"color\":\"#2a3f5f\"},\"error_y\":{\"color\":\"#2a3f5f\"},\"marker\":{\"line\":{\"color\":\"#E5ECF6\",\"width\":0.5},\"pattern\":{\"fillmode\":\"overlay\",\"size\":10,\"solidity\":0.2}},\"type\":\"bar\"}],\"scattergeo\":[{\"type\":\"scattergeo\",\"marker\":{\"colorbar\":{\"outlinewidth\":0,\"ticks\":\"\"}}}],\"scatterpolar\":[{\"type\":\"scatterpolar\",\"marker\":{\"colorbar\":{\"outlinewidth\":0,\"ticks\":\"\"}}}],\"histogram\":[{\"marker\":{\"pattern\":{\"fillmode\":\"overlay\",\"size\":10,\"solidity\":0.2}},\"type\":\"histogram\"}],\"scattergl\":[{\"type\":\"scattergl\",\"marker\":{\"colorbar\":{\"outlinewidth\":0,\"ticks\":\"\"}}}],\"scatter3d\":[{\"type\":\"scatter3d\",\"line\":{\"colorbar\":{\"outlinewidth\":0,\"ticks\":\"\"}},\"marker\":{\"colorbar\":{\"outlinewidth\":0,\"ticks\":\"\"}}}],\"scattermapbox\":[{\"type\":\"scattermapbox\",\"marker\":{\"colorbar\":{\"outlinewidth\":0,\"ticks\":\"\"}}}],\"scatterternary\":[{\"type\":\"scatterternary\",\"marker\":{\"colorbar\":{\"outlinewidth\":0,\"ticks\":\"\"}}}],\"scattercarpet\":[{\"type\":\"scattercarpet\",\"marker\":{\"colorbar\":{\"outlinewidth\":0,\"ticks\":\"\"}}}],\"carpet\":[{\"aaxis\":{\"endlinecolor\":\"#2a3f5f\",\"gridcolor\":\"white\",\"linecolor\":\"white\",\"minorgridcolor\":\"white\",\"startlinecolor\":\"#2a3f5f\"},\"baxis\":{\"endlinecolor\":\"#2a3f5f\",\"gridcolor\":\"white\",\"linecolor\":\"white\",\"minorgridcolor\":\"white\",\"startlinecolor\":\"#2a3f5f\"},\"type\":\"carpet\"}],\"table\":[{\"cells\":{\"fill\":{\"color\":\"#EBF0F8\"},\"line\":{\"color\":\"white\"}},\"header\":{\"fill\":{\"color\":\"#C8D4E3\"},\"line\":{\"color\":\"white\"}},\"type\":\"table\"}],\"barpolar\":[{\"marker\":{\"line\":{\"color\":\"#E5ECF6\",\"width\":0.5},\"pattern\":{\"fillmode\":\"overlay\",\"size\":10,\"solidity\":0.2}},\"type\":\"barpolar\"}],\"pie\":[{\"automargin\":true,\"type\":\"pie\"}]},\"layout\":{\"autotypenumbers\":\"strict\",\"colorway\":[\"#636efa\",\"#EF553B\",\"#00cc96\",\"#ab63fa\",\"#FFA15A\",\"#19d3f3\",\"#FF6692\",\"#B6E880\",\"#FF97FF\",\"#FECB52\"],\"font\":{\"color\":\"#2a3f5f\"},\"hovermode\":\"closest\",\"hoverlabel\":{\"align\":\"left\"},\"paper_bgcolor\":\"white\",\"plot_bgcolor\":\"#E5ECF6\",\"polar\":{\"bgcolor\":\"#E5ECF6\",\"angularaxis\":{\"gridcolor\":\"white\",\"linecolor\":\"white\",\"ticks\":\"\"},\"radialaxis\":{\"gridcolor\":\"white\",\"linecolor\":\"white\",\"ticks\":\"\"}},\"ternary\":{\"bgcolor\":\"#E5ECF6\",\"aaxis\":{\"gridcolor\":\"white\",\"linecolor\":\"white\",\"ticks\":\"\"},\"baxis\":{\"gridcolor\":\"white\",\"linecolor\":\"white\",\"ticks\":\"\"},\"caxis\":{\"gridcolor\":\"white\",\"linecolor\":\"white\",\"ticks\":\"\"}},\"coloraxis\":{\"colorbar\":{\"outlinewidth\":0,\"ticks\":\"\"}},\"colorscale\":{\"sequential\":[[0.0,\"#0d0887\"],[0.1111111111111111,\"#46039f\"],[0.2222222222222222,\"#7201a8\"],[0.3333333333333333,\"#9c179e\"],[0.4444444444444444,\"#bd3786\"],[0.5555555555555556,\"#d8576b\"],[0.6666666666666666,\"#ed7953\"],[0.7777777777777778,\"#fb9f3a\"],[0.8888888888888888,\"#fdca26\"],[1.0,\"#f0f921\"]],\"sequentialminus\":[[0.0,\"#0d0887\"],[0.1111111111111111,\"#46039f\"],[0.2222222222222222,\"#7201a8\"],[0.3333333333333333,\"#9c179e\"],[0.4444444444444444,\"#bd3786\"],[0.5555555555555556,\"#d8576b\"],[0.6666666666666666,\"#ed7953\"],[0.7777777777777778,\"#fb9f3a\"],[0.8888888888888888,\"#fdca26\"],[1.0,\"#f0f921\"]],\"diverging\":[[0,\"#8e0152\"],[0.1,\"#c51b7d\"],[0.2,\"#de77ae\"],[0.3,\"#f1b6da\"],[0.4,\"#fde0ef\"],[0.5,\"#f7f7f7\"],[0.6,\"#e6f5d0\"],[0.7,\"#b8e186\"],[0.8,\"#7fbc41\"],[0.9,\"#4d9221\"],[1,\"#276419\"]]},\"xaxis\":{\"gridcolor\":\"white\",\"linecolor\":\"white\",\"ticks\":\"\",\"title\":{\"standoff\":15},\"zerolinecolor\":\"white\",\"automargin\":true,\"zerolinewidth\":2},\"yaxis\":{\"gridcolor\":\"white\",\"linecolor\":\"white\",\"ticks\":\"\",\"title\":{\"standoff\":15},\"zerolinecolor\":\"white\",\"automargin\":true,\"zerolinewidth\":2},\"scene\":{\"xaxis\":{\"backgroundcolor\":\"#E5ECF6\",\"gridcolor\":\"white\",\"linecolor\":\"white\",\"showbackground\":true,\"ticks\":\"\",\"zerolinecolor\":\"white\",\"gridwidth\":2},\"yaxis\":{\"backgroundcolor\":\"#E5ECF6\",\"gridcolor\":\"white\",\"linecolor\":\"white\",\"showbackground\":true,\"ticks\":\"\",\"zerolinecolor\":\"white\",\"gridwidth\":2},\"zaxis\":{\"backgroundcolor\":\"#E5ECF6\",\"gridcolor\":\"white\",\"linecolor\":\"white\",\"showbackground\":true,\"ticks\":\"\",\"zerolinecolor\":\"white\",\"gridwidth\":2}},\"shapedefaults\":{\"line\":{\"color\":\"#2a3f5f\"}},\"annotationdefaults\":{\"arrowcolor\":\"#2a3f5f\",\"arrowhead\":0,\"arrowwidth\":1},\"geo\":{\"bgcolor\":\"white\",\"landcolor\":\"#E5ECF6\",\"subunitcolor\":\"white\",\"showland\":true,\"showlakes\":true,\"lakecolor\":\"white\"},\"title\":{\"x\":0.05},\"mapbox\":{\"style\":\"light\"}}},\"xaxis\":{\"anchor\":\"y\",\"domain\":[0.0,1.0],\"title\":{\"text\":\"dato\"}},\"yaxis\":{\"anchor\":\"x\",\"domain\":[0.0,1.0],\"title\":{\"text\":\"codigo\"}},\"legend\":{\"title\":{\"text\":\"flag\"},\"tracegroupgap\":0},\"margin\":{\"t\":60}},                        {\"responsive\": true}                    ).then(function(){\n",
       "                            \n",
       "var gd = document.getElementById('09d5cd59-35e9-4b1e-a86f-e7ca2e1b3d41');\n",
       "var x = new MutationObserver(function (mutations, observer) {{\n",
       "        var display = window.getComputedStyle(gd).display;\n",
       "        if (!display || display === 'none') {{\n",
       "            console.log([gd, 'removed!']);\n",
       "            Plotly.purge(gd);\n",
       "            observer.disconnect();\n",
       "        }}\n",
       "}});\n",
       "\n",
       "// Listen for the removal of the full notebook cells\n",
       "var notebookContainer = gd.closest('#notebook-container');\n",
       "if (notebookContainer) {{\n",
       "    x.observe(notebookContainer, {childList: true});\n",
       "}}\n",
       "\n",
       "// Listen for the clearing of the current output cell\n",
       "var outputEl = gd.closest('.output');\n",
       "if (outputEl) {{\n",
       "    x.observe(outputEl, {childList: true});\n",
       "}}\n",
       "\n",
       "                        })                };                });            </script>        </div>"
      ]
     },
     "metadata": {},
     "output_type": "display_data"
    }
   ],
   "source": [
    "px.scatter(dsTrain[dsTrain['flag']=='M0000002'],x='dato', y='codigo', color='flag')"
   ]
  },
  {
   "cell_type": "code",
   "execution_count": 18,
   "id": "357f6e3a",
   "metadata": {},
   "outputs": [
    {
     "data": {
      "text/plain": [
       "'\\nDS_V63:Ceros True DA 8 con split, estaciones balanceado con umbral 1  (corte en 6)\\n'"
      ]
     },
     "execution_count": 18,
     "metadata": {},
     "output_type": "execute_result"
    }
   ],
   "source": [
    "\"\"\"\n",
    "DS_V63:Ceros True DA 8 con split, estaciones balanceado con umbral 1  (corte en 6)\n",
    "\"\"\""
   ]
  },
  {
   "cell_type": "code",
   "execution_count": 21,
   "id": "590dff3b",
   "metadata": {},
   "outputs": [
    {
     "name": "stdout",
     "output_type": "stream",
     "text": [
      "Cantidad Total :  30606\n",
      "Cantidad clase minoritaria :  25694\n",
      "Cantidad clase mayoritaria :  4912\n",
      "Se va dividr el dataset en 6 partes\n"
     ]
    },
    {
     "data": {
      "image/png": "[encoded data removed]",
      "text/plain": [
       "<Figure size 432x288 with 1 Axes>"
      ]
     },
     "metadata": {
      "needs_background": "light"
     },
     "output_type": "display_data"
    },
    {
     "name": "stdout",
     "output_type": "stream",
     "text": [
      "           ESTADISCIAS DEL VFinal_DA8 \n",
      "\n",
      "Flags       : ['C0000002' 'M0000002']\n",
      "Estaciones  : 146\n",
      "Totales     : 9824\n",
      "Ceros       : 0\n",
      "Clase 0(M02): 4912\n",
      "Clase 1(C02): 4912\n",
      "Maximo      : 337.5\n",
      "Media       : 5.5875895765472325\n",
      "STD         : 33.9436619607764\n"
     ]
    },
    {
     "data": {
      "image/png": "[encoded data removed]",
      "text/plain": [
       "<Figure size 432x288 with 1 Axes>"
      ]
     },
     "metadata": {
      "needs_background": "light"
     },
     "output_type": "display_data"
    }
   ],
   "source": [
    "### DS CLasificacion V3\n",
    "com = f\"Clase VFinal: DA 8\"\n",
    "name = 'VFinal_DA8'\n",
    "\n",
    "train_balanced = dsTrain.copy()\n",
    "#train_balanced = applyFA(train_balanced, FDA=0.01, umbralSep = 20, delete=True , umb_leve = 1)\n",
    "train_balanced = applyDA(train_balanced, columna='clase', DA=8)\n",
    "train_balanced = splitTrainDS(train_balanced,['Clasificacion','clase'], path_base, newDir=name, comentario=com, random_state=11) \n",
    "\n",
    "# Visualimamos un datasets\n",
    "visualizarEstaciones(train_balanced[0], name = name,xCode=True, row='codigo')\n",
    "statsDS(train_balanced[0], name=name)"
   ]
  },
  {
   "cell_type": "code",
   "execution_count": 25,
   "id": "05337d6b",
   "metadata": {},
   "outputs": [
    {
     "name": "stdout",
     "output_type": "stream",
     "text": [
      "           ESTADISCIAS DEL VFinal_0 \n",
      "\n",
      "Flags       : ['C0000002' 'M0000002']\n",
      "Estaciones  : 146\n",
      "Totales     : 9824\n",
      "Ceros       : 0\n",
      "Clase 0(M02): 4912\n",
      "Clase 1(C02): 4912\n",
      "Maximo      : 337.5\n",
      "Media       : 5.5875895765472325\n",
      "STD         : 33.9436619607764\n"
     ]
    },
    {
     "data": {
      "image/png": "[encoded data removed]",
      "text/plain": [
       "<Figure size 432x288 with 1 Axes>"
      ]
     },
     "metadata": {
      "needs_background": "light"
     },
     "output_type": "display_data"
    },
    {
     "name": "stdout",
     "output_type": "stream",
     "text": [
      "           ESTADISCIAS DEL VFinal_1 \n",
      "\n",
      "Flags       : ['C0000002' 'M0000002']\n",
      "Estaciones  : 142\n",
      "Totales     : 9824\n",
      "Ceros       : 0\n",
      "Clase 0(M02): 4912\n",
      "Clase 1(C02): 4912\n",
      "Maximo      : 337.5\n",
      "Media       : 5.561688721498372\n",
      "STD         : 33.94825143530999\n"
     ]
    },
    {
     "data": {
      "image/png": "[encoded data removed]",
      "text/plain": [
       "<Figure size 432x288 with 1 Axes>"
      ]
     },
     "metadata": {
      "needs_background": "light"
     },
     "output_type": "display_data"
    },
    {
     "name": "stdout",
     "output_type": "stream",
     "text": [
      "           ESTADISCIAS DEL VFinal_2 \n",
      "\n",
      "Flags       : ['C0000002' 'M0000002']\n",
      "Estaciones  : 145\n",
      "Totales     : 9824\n",
      "Ceros       : 0\n",
      "Clase 0(M02): 4912\n",
      "Clase 1(C02): 4912\n",
      "Maximo      : 337.5\n",
      "Media       : 5.618853827361565\n",
      "STD         : 33.95096285923169\n"
     ]
    },
    {
     "data": {
      "image/png": "[encoded data removed]",
      "text/plain": [
       "<Figure size 432x288 with 1 Axes>"
      ]
     },
     "metadata": {
      "needs_background": "light"
     },
     "output_type": "display_data"
    },
    {
     "name": "stdout",
     "output_type": "stream",
     "text": [
      "           ESTADISCIAS DEL VFinal_3 \n",
      "\n",
      "Flags       : ['C0000002' 'M0000002']\n",
      "Estaciones  : 148\n",
      "Totales     : 9824\n",
      "Ceros       : 0\n",
      "Clase 0(M02): 4912\n",
      "Clase 1(C02): 4912\n",
      "Maximo      : 337.5\n",
      "Media       : 5.625896783387622\n",
      "STD         : 33.957885520084254\n"
     ]
    },
    {
     "data": {
      "image/png": "[encoded data removed]",
      "text/plain": [
       "<Figure size 432x288 with 1 Axes>"
      ]
     },
     "metadata": {
      "needs_background": "light"
     },
     "output_type": "display_data"
    },
    {
     "name": "stdout",
     "output_type": "stream",
     "text": [
      "           ESTADISCIAS DEL VFinal_4 \n",
      "\n",
      "Flags       : ['C0000002' 'M0000002']\n",
      "Estaciones  : 147\n",
      "Totales     : 9824\n",
      "Ceros       : 0\n",
      "Clase 0(M02): 4912\n",
      "Clase 1(C02): 4912\n",
      "Maximo      : 337.5\n",
      "Media       : 5.607122353420196\n",
      "STD         : 33.9522336595437\n"
     ]
    },
    {
     "data": {
      "image/png": "[encoded data removed]",
      "text/plain": [
       "<Figure size 432x288 with 1 Axes>"
      ]
     },
     "metadata": {
      "needs_background": "light"
     },
     "output_type": "display_data"
    }
   ],
   "source": [
    "for n, ds in enumerate(train_balanced):\n",
    "    statsDS(ds, name=f'VFinal_{n}')"
   ]
  },
  {
   "cell_type": "code",
   "execution_count": 23,
   "id": "340c4718",
   "metadata": {},
   "outputs": [
    {
     "data": {
      "text/plain": [
       "<AxesSubplot:>"
      ]
     },
     "execution_count": 23,
     "metadata": {},
     "output_type": "execute_result"
    },
    {
     "data": {
      "image/png": "[encoded data removed]",
      "text/plain": [
       "<Figure size 432x288 with 1 Axes>"
      ]
     },
     "metadata": {
      "needs_background": "light"
     },
     "output_type": "display_data"
    }
   ],
   "source": [
    "ds = train_balanced[0]\n",
    "ds[ds['dato']<=1]['dato'].hist() "
   ]
  },
  {
   "cell_type": "code",
   "execution_count": 24,
   "id": "8aadab83",
   "metadata": {},
   "outputs": [
    {
     "data": {
      "text/plain": [
       "<AxesSubplot:>"
      ]
     },
     "execution_count": 24,
     "metadata": {},
     "output_type": "execute_result"
    },
    {
     "data": {
      "image/png": "[encoded data removed]",
      "text/plain": [
       "<Figure size 432x288 with 1 Axes>"
      ]
     },
     "metadata": {
      "needs_background": "light"
     },
     "output_type": "display_data"
    }
   ],
   "source": [
    "\n",
    "ds[ds['dato']>1]['dato'].hist()"
   ]
  },
  {
   "cell_type": "code",
   "execution_count": null,
   "id": "2337cbfd",
   "metadata": {},
   "outputs": [],
   "source": []
  }
 ],
 "metadata": {
  "kernelspec": {
   "display_name": "Python 3 (ipykernel)",
   "language": "python",
   "name": "python3"
  },
  "language_info": {
   "codemirror_mode": {
    "name": "ipython",
    "version": 3
   },
   "file_extension": ".py",
   "mimetype": "text/x-python",
   "name": "python",
   "nbconvert_exporter": "python",
   "pygments_lexer": "ipython3",
   "version": "3.9.11"
  }
 },
 "nbformat": 4,
 "nbformat_minor": 5
}
