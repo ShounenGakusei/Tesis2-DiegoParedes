{
 "cells": [
  {
   "cell_type": "code",
   "execution_count": 12,
   "id": "54a30443",
   "metadata": {},
   "outputs": [],
   "source": [
    "# Graficos y visualizaciones\n",
    "import matplotlib.pyplot as plt\n",
    "\n",
    "# Liberias para manejo de datos\n",
    "import pandas as pd\n",
    "\n",
    "# Liberias estandar\n",
    "import time\n",
    "import os"
   ]
  },
  {
   "cell_type": "code",
   "execution_count": 13,
   "id": "c592d703",
   "metadata": {},
   "outputs": [
    {
     "data": {
      "text/plain": [
       "'C:/Users/Shounen/Desktop/Ciclo XI/Tesis 2/NewTesis'"
      ]
     },
     "execution_count": 13,
     "metadata": {},
     "output_type": "execute_result"
    }
   ],
   "source": [
    "\"\"\"\n",
    "DEFINIMOS EL PATH DEL PROYECTO \n",
    "\"\"\"\n",
    "with open('../../path_base.txt') as f:\n",
    "    path_base = f.read()\n",
    "path_base"
   ]
  },
  {
   "cell_type": "code",
   "execution_count": 14,
   "id": "aa9f4f72",
   "metadata": {},
   "outputs": [
    {
     "data": {
      "text/plain": [
       "'\\nMetodos para realizar las estadisticas de los datos de precipitacion\\n'"
      ]
     },
     "execution_count": 14,
     "metadata": {},
     "output_type": "execute_result"
    }
   ],
   "source": [
    "\"\"\"\n",
    "Metodos para realizar las estadisticas de los datos de precipitacion\n",
    "\"\"\""
   ]
  },
  {
   "cell_type": "code",
   "execution_count": 15,
   "id": "5717f958",
   "metadata": {},
   "outputs": [],
   "source": [
    "#Realiza un grafico de dispersion (Tipo = 1) o boxplit (Tipo = 2)\n",
    "def Grafico(df,filename,tipo):    \n",
    "    x = df.index\n",
    "    y = df['dato']   \n",
    "    \n",
    "    if tipo==1:\n",
    "        plt.clf()\n",
    "        plt.scatter(x=x,y=y, alpha=0.1)\n",
    "    if tipo==2:\n",
    "        plt.clf()\n",
    "        plt.boxplot(x=y)\n",
    "        \n",
    "    plt.xlabel(\"Indices\")\n",
    "    plt.ylabel(\"Precipitacion (mm/h)\")\n",
    "    plt.title(f\"{filename.split('/')[-1][:-4]}\")\n",
    "    plt.axhline(y=y.quantile(0.99), color='r', linestyle='-')\n",
    "    \n",
    "    plt.savefig(filename)\n",
    "    plt.clf()\n",
    "    #plt.show()\n",
    "\n",
    "    return True"
   ]
  },
  {
   "cell_type": "code",
   "execution_count": 16,
   "id": "22894a6b",
   "metadata": {},
   "outputs": [],
   "source": [
    "# Crea una carpeta en path\n",
    "def crearDir(path, newDir):\n",
    "    try:\n",
    "        pathT = os.path.join(path, newDir)\n",
    "        os.mkdir(pathT)\n",
    "        return pathT\n",
    "    except FileExistsError:\n",
    "        return pathT       \n",
    "    except:\n",
    "        print(f\"No se pudo crear el directorio: {newDir}\")\n",
    "        pritn(f'Path base: {path}')\n",
    "        pritn(f'Nuevo    : {newDir}')        \n",
    "        return None"
   ]
  },
  {
   "cell_type": "code",
   "execution_count": 17,
   "id": "ebf2ea41",
   "metadata": {},
   "outputs": [],
   "source": [
    "#Por cada estacion se hallara:\n",
    "#- Cantidad de datos,- Promedio,- Varianza,- Valor min ,- Valor max\n",
    "#- Fecha minima,- Fecha Maxima,- Cantidad de datos atipicos (Mayores a 99%)\n",
    "#- Cantidad de NA,- Cantidad de ceros\n",
    "\n",
    "#Graficos\n",
    "#- Boxplot,- Dispersion\n",
    "def resumenStats(path_base,estacionesF,datosF,year,grafico=0, listDir=''):\n",
    "    \n",
    "    \n",
    "    stations = pd.read_csv(estacionesF)\n",
    "    \n",
    "    if listDir:\n",
    "        listDF = []\n",
    "        for file in listDir:\n",
    "            listDF.append(pd.read_csv(file,encoding='latin-1'))\n",
    "        datos = pd.concat(listDF, ignore_index=True)           \n",
    "        \n",
    "    else:\n",
    "        datos = pd.read_csv(datosF,encoding='latin-1')    \n",
    "        \n",
    "    start_time = time.time() \n",
    "    resultado = []\n",
    "    \n",
    "    #Auxiliares    \n",
    "    total = len(stations.index)\n",
    "    completados = 1 \n",
    "    \n",
    "    path_plot = crearDir(f'{path_base}/Archivos/Reportes/Plots/', year)\n",
    "\n",
    "    #Por cada estacion se realizara lso graficos\n",
    "    for i in stations.index:    \n",
    "        station = stations['ESTACION'][i]\n",
    "        code = stations['CODE'][i]\n",
    "        LON = stations['LON'][i]\n",
    "        LAT = stations['LAT'][i]\n",
    "        ALT = stations['ALT'][i]\n",
    "\n",
    "        tempDato = datos.loc[datos['NOMBRE']==station]    \n",
    "        cantNA = tempDato.loc[tempDato['PRECIPITACION'].isna()].count()[0]\n",
    "\n",
    "        #Eliminamos todos los NA antes de realizar las estadisticas        \n",
    "        tempDato = tempDato.dropna(axis='index',subset=['PRECIPITACION'])   \n",
    "        \n",
    "        \n",
    "        cantC02 = tempDato.loc[tempDato['FLAG'].isin(['C0000002'])].count()[0]\n",
    "        cantC01 = tempDato.loc[tempDato['FLAG'].isin(['C0000001'])].count()[0] \n",
    "        cantM01 = tempDato.loc[tempDato['FLAG'].isin(['M0000001','M0000001, M0110302','M0110302'])].count()[0]\n",
    "        cantM02 = tempDato.loc[tempDato['FLAG'].isin(['M0000002','DIM00001'])].count()[0]\n",
    "        cantD01 = tempDato.loc[tempDato['FLAG'].isin(['D0220301','D0230301','D0230303'])].count()[0]\n",
    "        \n",
    "        #Eliminamos los valores valores mayor a 1k o menor a 1k\n",
    "        tempDato = tempDato[tempDato['PRECIPITACION']<=400]\n",
    "        tempDato = tempDato[tempDato['PRECIPITACION']>=0]\n",
    "    \n",
    "        \n",
    "\n",
    "        stats = tempDato['PRECIPITACION'].describe()\n",
    "        stats = stats.to_dict()    \n",
    "        fmin = tempDato['FECHA'].min()\n",
    "        fmax = tempDato['FECHA'].max()    \n",
    "        stats['FechaMax'] = fmax\n",
    "        stats['count'] = int(stats['count'])\n",
    "        stats['FechaMin'] = fmin    \n",
    "        stats['Nombre'] = station\n",
    "        stats['Codigo'] = code\n",
    "        stats['ceros'] = tempDato.loc[tempDato['PRECIPITACION']==0].count()[0]\n",
    "        stats['NA'] = cantNA\n",
    "        \n",
    "        stats['cantC02'] = cantC02\n",
    "        stats['cantC01'] = cantC01\n",
    "        stats['cantM01'] = cantM01\n",
    "        stats['cantM02'] = cantM02\n",
    "        stats['cantD01'] = cantD01\n",
    "        \n",
    "        stats['75mayor'] = tempDato.loc[tempDato['PRECIPITACION']>stats['75%']].count()[0]\n",
    "        stats['90mayor'] = tempDato.loc[tempDato['PRECIPITACION']>tempDato['PRECIPITACION'].quantile(0.90)].count()[0]\n",
    "        stats['90%'] =  tempDato['PRECIPITACION'].quantile(0.90)\n",
    "        stats['99mayor'] = tempDato.loc[tempDato['PRECIPITACION']>tempDato['PRECIPITACION'].quantile(0.99)].count()[0]\n",
    "        stats['99%'] =  tempDato['PRECIPITACION'].quantile(0.99)\n",
    "        stats['LON'] = LON\n",
    "        stats['LAT'] = LAT\n",
    "        stats['ALT'] = ALT\n",
    "        resultado.append(stats)\n",
    "        \n",
    "        if grafico:\n",
    "            Grafico(tempDato,f'{path_plot}/{code}_scatter.png',1)   \n",
    "            Grafico(tempDato,f'{path_plot}/{code}_box.png',2)   \n",
    "        \n",
    "        completados = completados +1\n",
    "        if not completados % 50:\n",
    "            progreso = completados/total*100\n",
    "            f = '{0:.3g}'.format(progreso)\n",
    "            print(f\"Procesando - {f}%\")\n",
    "            \n",
    "\n",
    "    print(\"Time taken: %.2fs\" % (time.time() - start_time)) \n",
    "    \n",
    "    #Borramos las estaciones que no tengan datos\n",
    "    df = pd.DataFrame(resultado)\n",
    "    df = df[df['count']!=0]\n",
    "\n",
    "    #Guardamso las estadisticas\n",
    "    df = df.astype({\"count\":int})\n",
    "    df.to_csv(f'{path_base}/Archivos/Reportes/Datos/analisis_{year}.csv',index=False)\n",
    "\n",
    "    return resultado\n"
   ]
  },
  {
   "cell_type": "code",
   "execution_count": 18,
   "id": "18918dce",
   "metadata": {},
   "outputs": [],
   "source": [
    "# Lista de los flags en orden de fase\n",
    "listaFases = [\n",
    "    'ND',    'C0000001',    'M0000001',    'M0000001, M0110302' ,    'M0110302',\n",
    "    'D0210301',    'D0210302',    'D0210303',    'D0210304',    'D0220301',\n",
    "    'D0230301',    'D0230302',    'D0230303',    'D0230304',    'C0000002',\n",
    "    'DIM00001',    'M0000002'\n",
    "]\n",
    "dfFases = pd.DataFrame({'FLAG' : listaFases})\n",
    "dfFases = dfFases.reset_index().set_index('FLAG')"
   ]
  },
  {
   "cell_type": "code",
   "execution_count": 19,
   "id": "25b032d8",
   "metadata": {},
   "outputs": [
    {
     "data": {
      "text/plain": [
       "'\\nRealizamos las metricas por estacionara cada archivo (año)\\n'"
      ]
     },
     "execution_count": 19,
     "metadata": {},
     "output_type": "execute_result"
    }
   ],
   "source": [
    "\"\"\"\n",
    "Realizamos las metricas por estacionara cada archivo (año)\n",
    "\"\"\""
   ]
  },
  {
   "cell_type": "code",
   "execution_count": 20,
   "id": "19a35690",
   "metadata": {},
   "outputs": [],
   "source": [
    "# Nombre de los archivos\n",
    "Festaciones = f'{path_base}/Archivos/Inicial/estaciones.csv'\n",
    "Fdatos2021 = f'{path_base}/Archivos/Inicial/REPORTE_SGD_2021.csv'\n",
    "Fdatos2020 = f'{path_base}/Archivos/Inicial/REPORTE_SGD_2020.csv'\n",
    "\n",
    "listDir = [Fdatos2020,Fdatos2021]\n",
    "# Eliminar malos en Etapa 1 ( orden de \"listaFases\")\n",
    "eliminarFG = [0,1,2,15,6,7,8,9,10,11,12,13]#,2,3,4]"
   ]
  },
  {
   "cell_type": "code",
   "execution_count": 21,
   "id": "21edcdd4",
   "metadata": {},
   "outputs": [
    {
     "data": {
      "text/html": [
       "<div>\n",
       "<style scoped>\n",
       "    .dataframe tbody tr th:only-of-type {\n",
       "        vertical-align: middle;\n",
       "    }\n",
       "\n",
       "    .dataframe tbody tr th {\n",
       "        vertical-align: top;\n",
       "    }\n",
       "\n",
       "    .dataframe thead th {\n",
       "        text-align: right;\n",
       "    }\n",
       "</style>\n",
       "<table border=\"1\" class=\"dataframe\">\n",
       "  <thead>\n",
       "    <tr style=\"text-align: right;\">\n",
       "      <th></th>\n",
       "      <th>FLAG</th>\n",
       "      <th>Cantidad</th>\n",
       "      <th>Fase</th>\n",
       "    </tr>\n",
       "  </thead>\n",
       "  <tbody>\n",
       "    <tr>\n",
       "      <th>7</th>\n",
       "      <td>M0000001, M0110302</td>\n",
       "      <td>1778</td>\n",
       "      <td>3</td>\n",
       "    </tr>\n",
       "    <tr>\n",
       "      <th>9</th>\n",
       "      <td>M0110302</td>\n",
       "      <td>131</td>\n",
       "      <td>4</td>\n",
       "    </tr>\n",
       "    <tr>\n",
       "      <th>1</th>\n",
       "      <td>C0000002</td>\n",
       "      <td>4588</td>\n",
       "      <td>14</td>\n",
       "    </tr>\n",
       "    <tr>\n",
       "      <th>8</th>\n",
       "      <td>M0000002</td>\n",
       "      <td>133</td>\n",
       "      <td>16</td>\n",
       "    </tr>\n",
       "  </tbody>\n",
       "</table>\n",
       "</div>"
      ],
      "text/plain": [
       "                 FLAG  Cantidad  Fase\n",
       "7  M0000001, M0110302      1778     3\n",
       "9            M0110302       131     4\n",
       "1            C0000002      4588    14\n",
       "8            M0000002       133    16"
      ]
     },
     "execution_count": 21,
     "metadata": {},
     "output_type": "execute_result"
    }
   ],
   "source": [
    "#Revisamos la cantidad de datos por flag\n",
    "#Año 2020\n",
    "dfFlags20 = pd.read_csv(Fdatos2020,encoding='latin-1')\n",
    "flagsDF20 = dfFlags20.groupby(['FLAG'], dropna = False).size().reset_index(name='Cantidad')\n",
    "flagsDF20['Fase'] = flagsDF20['FLAG'].map(dfFases['index'])\n",
    "flagsDF20 = flagsDF20.sort_values(by=['Fase'])\n",
    "\n",
    "#Quitamos los flag 'M...' y 'ND'\n",
    "noND20 = flagsDF20[~flagsDF20['Fase'].isin(eliminarFG)]\n",
    "noND20\n"
   ]
  },
  {
   "cell_type": "code",
   "execution_count": 11,
   "id": "12883419",
   "metadata": {},
   "outputs": [
    {
     "data": {
      "text/html": [
       "<div>\n",
       "<style scoped>\n",
       "    .dataframe tbody tr th:only-of-type {\n",
       "        vertical-align: middle;\n",
       "    }\n",
       "\n",
       "    .dataframe tbody tr th {\n",
       "        vertical-align: top;\n",
       "    }\n",
       "\n",
       "    .dataframe thead th {\n",
       "        text-align: right;\n",
       "    }\n",
       "</style>\n",
       "<table border=\"1\" class=\"dataframe\">\n",
       "  <thead>\n",
       "    <tr style=\"text-align: right;\">\n",
       "      <th></th>\n",
       "      <th>FLAG</th>\n",
       "      <th>Cantidad</th>\n",
       "      <th>Fase</th>\n",
       "    </tr>\n",
       "  </thead>\n",
       "  <tbody>\n",
       "    <tr>\n",
       "      <th>6</th>\n",
       "      <td>M0000001, M0110302</td>\n",
       "      <td>3868</td>\n",
       "      <td>3</td>\n",
       "    </tr>\n",
       "    <tr>\n",
       "      <th>8</th>\n",
       "      <td>M0110302</td>\n",
       "      <td>423</td>\n",
       "      <td>4</td>\n",
       "    </tr>\n",
       "    <tr>\n",
       "      <th>1</th>\n",
       "      <td>C0000002</td>\n",
       "      <td>53776</td>\n",
       "      <td>14</td>\n",
       "    </tr>\n",
       "    <tr>\n",
       "      <th>7</th>\n",
       "      <td>M0000002</td>\n",
       "      <td>8414</td>\n",
       "      <td>16</td>\n",
       "    </tr>\n",
       "  </tbody>\n",
       "</table>\n",
       "</div>"
      ],
      "text/plain": [
       "                 FLAG  Cantidad  Fase\n",
       "6  M0000001, M0110302      3868     3\n",
       "8            M0110302       423     4\n",
       "1            C0000002     53776    14\n",
       "7            M0000002      8414    16"
      ]
     },
     "execution_count": 11,
     "metadata": {},
     "output_type": "execute_result"
    }
   ],
   "source": [
    "#Revisamos la cantidad de datos por flag\n",
    "#Año 2021\n",
    "valores2021 = 'C:/Users/Shounen/Desktop/Ciclo XI/Tesis 2/SENAMHI/Datasets/REPORTE_SGD_2021.csv'\n",
    "dfFlags21 = pd.read_csv(Fdatos2021,encoding='latin-1')\n",
    "flagsDF21 = dfFlags21.groupby(['FLAG'], dropna = False).size().reset_index(name='Cantidad')\n",
    "flagsDF21['Fase'] = flagsDF21['FLAG'].map(dfFases['index'])\n",
    "flagsDF21 = flagsDF21.sort_values(by=['Fase'])\n",
    "\n",
    "#Quitamos los flag 'M...' y 'ND'\n",
    "noND21 = flagsDF21[~flagsDF21['Fase'].isin(eliminarFG)]\n",
    "noND21"
   ]
  },
  {
   "cell_type": "code",
   "execution_count": 12,
   "id": "fa4414a6",
   "metadata": {},
   "outputs": [
    {
     "data": {
      "image/png": "[encoded data removed]",
      "text/plain": [
       "<Figure size 432x288 with 1 Axes>"
      ]
     },
     "metadata": {
      "needs_background": "light"
     },
     "output_type": "display_data"
    }
   ],
   "source": [
    "#Graficamos los FLAGS\n",
    "ejeX = dfFases[~dfFases['index'].isin(eliminarFG)]\n",
    "\n",
    "ejeY = ejeX.merge(noND20, on='FLAG', how='left')\n",
    "ejeY = ejeY.merge(noND21, on='FLAG',suffixes=('_20', '_21'))\n",
    "\n",
    "\n",
    "fig, ax = plt.subplots()\n",
    "\n",
    "ax.plot(ejeY['FLAG'], ejeY['Cantidad_20']/1000, color = 'tab:purple', label=\"2020\")\n",
    "ax.plot(ejeY['FLAG'], ejeY['Cantidad_21']/1000, color = 'tab:green', label=\"2021\")\n",
    "plt.legend(loc=\"upper center\")\n",
    "plt.show()"
   ]
  },
  {
   "cell_type": "code",
   "execution_count": 13,
   "id": "0d9a3b33",
   "metadata": {},
   "outputs": [
    {
     "data": {
      "image/png": "[encoded data removed]",
      "text/plain": [
       "<Figure size 432x288 with 1 Axes>"
      ]
     },
     "metadata": {
      "needs_background": "light"
     },
     "output_type": "display_data"
    }
   ],
   "source": [
    "#Graficamos sin C000001\n",
    "fig, ax = plt.subplots()\n",
    "\n",
    "ejeY_noC1 = ejeY.drop(index=ejeY.index[0], axis=0)\n",
    "\n",
    "ax.plot(ejeY_noC1['FLAG'], ejeY_noC1['Cantidad_20'], color = 'tab:purple', label=\"2020\")\n",
    "ax.plot(ejeY_noC1['FLAG'], ejeY_noC1['Cantidad_21'], color = 'tab:green', label=\"2021\")\n",
    "plt.legend(loc=\"upper center\")\n",
    "plt.show()"
   ]
  },
  {
   "cell_type": "code",
   "execution_count": 14,
   "id": "9ac7b1b3",
   "metadata": {},
   "outputs": [
    {
     "name": "stdout",
     "output_type": "stream",
     "text": [
      "GRAFICO DE BARRAS DE LOS FLAGS\n"
     ]
    },
    {
     "data": {
      "image/png": "[encoded data removed]",
      "text/plain": [
       "<Figure size 432x288 with 1 Axes>"
      ]
     },
     "metadata": {
      "needs_background": "light"
     },
     "output_type": "display_data"
    }
   ],
   "source": [
    "JoinDF = {}\n",
    "#JoinDF['DUDOSO-D01'] = [ejeY[ejeY['FLAG'].str.startswith('D')].loc[:,['Cantidad_20','Cantidad_21']].sum().sum()]\n",
    "JoinDF['CONFORME-C02'] = [ejeY[ejeY['FLAG']=='C0000002'].loc[:,['Cantidad_20','Cantidad_21']].sum().sum()]\n",
    "JoinDF['MALO-M02'] = [ejeY[ejeY['FLAG'].str.startswith('M')].loc[:,['Cantidad_20','Cantidad_21']].sum().sum()]\n",
    "#JoinDF['CONFORME-T1'] = [ejeY[ejeY['FLAG']=='C0000001'].loc[:,['Cantidad_20','Cantidad_21']].sum().sum()]\n",
    "JoinDF = pd.DataFrame(JoinDF)\n",
    "\n",
    "JoinDF.plot.bar()\n",
    "print(\"GRAFICO DE BARRAS DE LOS FLAGS\")"
   ]
  },
  {
   "cell_type": "code",
   "execution_count": 15,
   "id": "7882fba3",
   "metadata": {},
   "outputs": [
    {
     "name": "stdout",
     "output_type": "stream",
     "text": [
      "Precipitacion de datos con Flag M02\n"
     ]
    },
    {
     "data": {
      "image/png": "[encoded data removed]",
      "text/plain": [
       "<Figure size 432x288 with 1 Axes>"
      ]
     },
     "metadata": {
      "needs_background": "light"
     },
     "output_type": "display_data"
    }
   ],
   "source": [
    "dfFlags21[dfFlags21['FLAG']=='M0000002']['PRECIPITACION'].hist(legend=True)\n",
    "print('Precipitacion de datos con Flag M02')"
   ]
  },
  {
   "cell_type": "code",
   "execution_count": 29,
   "id": "52349cdd",
   "metadata": {},
   "outputs": [
    {
     "name": "stdout",
     "output_type": "stream",
     "text": [
      "Cantidad de datos M000001: 127\n"
     ]
    },
    {
     "data": {
      "image/png": "[encoded data removed]",
      "text/plain": [
       "<Figure size 432x288 with 1 Axes>"
      ]
     },
     "metadata": {
      "needs_background": "light"
     },
     "output_type": "display_data"
    }
   ],
   "source": [
    "dfFlags20[dfFlags20['FLAG']=='M0000002']['PRECIPITACION'].hist(legend=True)\n",
    "#print('Histograma precipitacion de datos con Flag M02')\n",
    "print('Cantidad de datos M000001:', 92+35)\n",
    "#print('Cantidad de datos M000001: ',dfFlags21[(dfFlags21['FLAG']=='M0000002') & (dfFlags21['PRECIPITACION']<0)]['PRECIPITACION'].count())\n",
    "#print('Cantidad de datos mayor a 400: ',dfFlags21[(dfFlags21['FLAG']=='M0000002') & (dfFlags21['PRECIPITACION']>400)]['PRECIPITACION'].count())\n",
    "plt.title(' HISTOGRAMA DE PRECIPITACION PARA M02')\n",
    "plt.show()"
   ]
  },
  {
   "cell_type": "code",
   "execution_count": 26,
   "id": "bb5c8519",
   "metadata": {},
   "outputs": [
    {
     "name": "stdout",
     "output_type": "stream",
     "text": [
      "Cantidad de datos M000001: 64\n",
      "Histograma precipitacion de datos con Flag C02\n"
     ]
    },
    {
     "data": {
      "image/png": "[encoded data removed]",
      "text/plain": [
       "<Figure size 432x288 with 1 Axes>"
      ]
     },
     "metadata": {
      "needs_background": "light"
     },
     "output_type": "display_data"
    }
   ],
   "source": [
    "dfFlags21[dfFlags21['FLAG']=='C0000002']['PRECIPITACION'].hist(legend=True)\n",
    "\n",
    "print('Cantidad de datos M000001:', 64)\n",
    "#print('Cantidad de datos M000001: ',dfFlags21[(dfFlags21['FLAG']=='C0000002') & (dfFlags21['PRECIPITACION']<0)]['PRECIPITACION'].count())\n",
    "#print('Cantidad de datos mayor a 400: ',dfFlags21[(dfFlags21['FLAG']=='C0000002') & (dfFlags21['PRECIPITACION']>400)]['PRECIPITACION'].count())\n",
    "#print('Histograma precipitacion de datos con Flag C02')\n",
    "plt.title(' HISTOGRAMA DE PRECIPITACION PARA C02')\n",
    "plt.show()"
   ]
  },
  {
   "cell_type": "code",
   "execution_count": 18,
   "id": "f9df1ff9",
   "metadata": {},
   "outputs": [
    {
     "name": "stdout",
     "output_type": "stream",
     "text": [
      "Precipitacion de datos con Flag C02\n"
     ]
    },
    {
     "data": {
      "image/png": "[encoded data removed]",
      "text/plain": [
       "<Figure size 432x288 with 1 Axes>"
      ]
     },
     "metadata": {
      "needs_background": "light"
     },
     "output_type": "display_data"
    }
   ],
   "source": [
    "dfFlags20[dfFlags20['FLAG']=='C0000002']['PRECIPITACION'].hist(legend=True)\n",
    "print('Precipitacion de datos con Flag C02')"
   ]
  },
  {
   "cell_type": "code",
   "execution_count": 28,
   "id": "e39443c4",
   "metadata": {},
   "outputs": [
    {
     "data": {
      "text/html": [
       "<div>\n",
       "<style scoped>\n",
       "    .dataframe tbody tr th:only-of-type {\n",
       "        vertical-align: middle;\n",
       "    }\n",
       "\n",
       "    .dataframe tbody tr th {\n",
       "        vertical-align: top;\n",
       "    }\n",
       "\n",
       "    .dataframe thead th {\n",
       "        text-align: right;\n",
       "    }\n",
       "</style>\n",
       "<table border=\"1\" class=\"dataframe\">\n",
       "  <thead>\n",
       "    <tr style=\"text-align: right;\">\n",
       "      <th></th>\n",
       "      <th>CODIGO</th>\n",
       "      <th>NOMBRE</th>\n",
       "      <th>FECHA</th>\n",
       "      <th>HORA</th>\n",
       "      <th>PRECIPITACION</th>\n",
       "      <th>FLAG</th>\n",
       "    </tr>\n",
       "  </thead>\n",
       "  <tbody>\n",
       "    <tr>\n",
       "      <th>29281</th>\n",
       "      <td>472A218A</td>\n",
       "      <td>ANTONIO RAIMONDI</td>\n",
       "      <td>09/04/2021</td>\n",
       "      <td>13:00:00</td>\n",
       "      <td>-11233.1</td>\n",
       "      <td>C0000002</td>\n",
       "    </tr>\n",
       "    <tr>\n",
       "      <th>76593</th>\n",
       "      <td>472501F4</td>\n",
       "      <td>BALSAS</td>\n",
       "      <td>03/12/2021</td>\n",
       "      <td>23:00:00</td>\n",
       "      <td>-3535.6</td>\n",
       "      <td>C0000002</td>\n",
       "    </tr>\n",
       "    <tr>\n",
       "      <th>137861</th>\n",
       "      <td>109096</td>\n",
       "      <td>BUENA VISTA</td>\n",
       "      <td>20/10/2021</td>\n",
       "      <td>22:00:00</td>\n",
       "      <td>-999.0</td>\n",
       "      <td>C0000002</td>\n",
       "    </tr>\n",
       "    <tr>\n",
       "      <th>146812</th>\n",
       "      <td>4727547C</td>\n",
       "      <td>CABALLOCOCHA</td>\n",
       "      <td>28/10/2021</td>\n",
       "      <td>21:00:00</td>\n",
       "      <td>-11080.1</td>\n",
       "      <td>C0000002</td>\n",
       "    </tr>\n",
       "    <tr>\n",
       "      <th>272767</th>\n",
       "      <td>113249</td>\n",
       "      <td>CAÑETE</td>\n",
       "      <td>13/10/2021</td>\n",
       "      <td>21:00:00</td>\n",
       "      <td>-999.0</td>\n",
       "      <td>C0000002</td>\n",
       "    </tr>\n",
       "    <tr>\n",
       "      <th>...</th>\n",
       "      <td>...</td>\n",
       "      <td>...</td>\n",
       "      <td>...</td>\n",
       "      <td>...</td>\n",
       "      <td>...</td>\n",
       "      <td>...</td>\n",
       "    </tr>\n",
       "    <tr>\n",
       "      <th>1842186</th>\n",
       "      <td>109091</td>\n",
       "      <td>SAUCEPAMPA</td>\n",
       "      <td>13/10/2021</td>\n",
       "      <td>22:00:00</td>\n",
       "      <td>-999.0</td>\n",
       "      <td>C0000002</td>\n",
       "    </tr>\n",
       "    <tr>\n",
       "      <th>1959818</th>\n",
       "      <td>47E2D1CC</td>\n",
       "      <td>TARATA</td>\n",
       "      <td>13/04/2021</td>\n",
       "      <td>23:00:00</td>\n",
       "      <td>-999.0</td>\n",
       "      <td>C0000002</td>\n",
       "    </tr>\n",
       "    <tr>\n",
       "      <th>2067309</th>\n",
       "      <td>472D60B4</td>\n",
       "      <td>USQUIL</td>\n",
       "      <td>07/11/2021</td>\n",
       "      <td>20:00:00</td>\n",
       "      <td>-4271.6</td>\n",
       "      <td>C0000002</td>\n",
       "    </tr>\n",
       "    <tr>\n",
       "      <th>2067525</th>\n",
       "      <td>472D60B4</td>\n",
       "      <td>USQUIL</td>\n",
       "      <td>16/11/2021</td>\n",
       "      <td>20:00:00</td>\n",
       "      <td>-999.0</td>\n",
       "      <td>C0000002</td>\n",
       "    </tr>\n",
       "    <tr>\n",
       "      <th>2067550</th>\n",
       "      <td>472D60B4</td>\n",
       "      <td>USQUIL</td>\n",
       "      <td>17/11/2021</td>\n",
       "      <td>21:00:00</td>\n",
       "      <td>-999.0</td>\n",
       "      <td>C0000002</td>\n",
       "    </tr>\n",
       "  </tbody>\n",
       "</table>\n",
       "<p>61 rows × 6 columns</p>\n",
       "</div>"
      ],
      "text/plain": [
       "           CODIGO            NOMBRE       FECHA      HORA  PRECIPITACION  \\\n",
       "29281    472A218A  ANTONIO RAIMONDI  09/04/2021  13:00:00       -11233.1   \n",
       "76593    472501F4            BALSAS  03/12/2021  23:00:00        -3535.6   \n",
       "137861     109096       BUENA VISTA  20/10/2021  22:00:00         -999.0   \n",
       "146812   4727547C      CABALLOCOCHA  28/10/2021  21:00:00       -11080.1   \n",
       "272767     113249            CAÑETE  13/10/2021  21:00:00         -999.0   \n",
       "...           ...               ...         ...       ...            ...   \n",
       "1842186    109091        SAUCEPAMPA  13/10/2021  22:00:00         -999.0   \n",
       "1959818  47E2D1CC            TARATA  13/04/2021  23:00:00         -999.0   \n",
       "2067309  472D60B4            USQUIL  07/11/2021  20:00:00        -4271.6   \n",
       "2067525  472D60B4            USQUIL  16/11/2021  20:00:00         -999.0   \n",
       "2067550  472D60B4            USQUIL  17/11/2021  21:00:00         -999.0   \n",
       "\n",
       "             FLAG  \n",
       "29281    C0000002  \n",
       "76593    C0000002  \n",
       "137861   C0000002  \n",
       "146812   C0000002  \n",
       "272767   C0000002  \n",
       "...           ...  \n",
       "1842186  C0000002  \n",
       "1959818  C0000002  \n",
       "2067309  C0000002  \n",
       "2067525  C0000002  \n",
       "2067550  C0000002  \n",
       "\n",
       "[61 rows x 6 columns]"
      ]
     },
     "execution_count": 28,
     "metadata": {},
     "output_type": "execute_result"
    }
   ],
   "source": [
    "dfFlags21[(dfFlags21['FLAG']=='C0000002') & (dfFlags21['PRECIPITACION']<0)]"
   ]
  },
  {
   "cell_type": "code",
   "execution_count": 50,
   "id": "9d8dcca9",
   "metadata": {},
   "outputs": [
    {
     "name": "stdout",
     "output_type": "stream",
     "text": [
      "Histograma de precipitacion para el Flag C02 \n"
     ]
    },
    {
     "data": {
      "image/png": "[encoded data removed]",
      "text/plain": [
       "<Figure size 432x288 with 1 Axes>"
      ]
     },
     "metadata": {
      "needs_background": "light"
     },
     "output_type": "display_data"
    }
   ],
   "source": [
    "dfFlags20[dfFlags20['FLAG']=='C0000002']['PRECIPITACION'].hist(legend=True)\n",
    "print(\"Histograma de precipitacion para el Flag C02 \")"
   ]
  },
  {
   "cell_type": "code",
   "execution_count": 111,
   "id": "e9e73193",
   "metadata": {},
   "outputs": [
    {
     "name": "stdout",
     "output_type": "stream",
     "text": [
      "Procesando - 15.5%\n",
      "Procesando - 31%\n",
      "Procesando - 46.4%\n",
      "Procesando - 61.9%\n",
      "Procesando - 77.4%\n",
      "Procesando - 92.9%\n",
      "Time taken: 36.67s\n"
     ]
    }
   ],
   "source": [
    "#Realizaremos un resumen de los datos año 2021\n",
    "#Grafico 0 = NO GRAFICO\n",
    "#Grafico 1 = dispersion\n",
    "#Grafico 2 = boxPLot\n",
    "grafico = 0\n",
    "\n",
    "resultados = resumenStats(path_base,Festaciones,Fdatos2021,'2021',grafico)"
   ]
  },
  {
   "cell_type": "code",
   "execution_count": 112,
   "id": "d00c783c",
   "metadata": {},
   "outputs": [
    {
     "name": "stdout",
     "output_type": "stream",
     "text": [
      "Procesando - 15.5%\n",
      "Procesando - 31%\n",
      "Procesando - 46.4%\n",
      "Procesando - 61.9%\n",
      "Procesando - 77.4%\n",
      "Procesando - 92.9%\n",
      "Time taken: 24.27s\n"
     ]
    }
   ],
   "source": [
    "#Realizaremos un resumen de los datos año 2020\n",
    "#Grafico 0 = NO GRAFICO\n",
    "#Grafico 1 = dispersion\n",
    "#Grafico 2 = boxPLot\n",
    "grafico = 0\n",
    "\n",
    "resultados = resumenStats(path_base,Festaciones,Fdatos2020,'2020',grafico)"
   ]
  },
  {
   "cell_type": "code",
   "execution_count": 122,
   "id": "9c6e5210",
   "metadata": {},
   "outputs": [
    {
     "name": "stdout",
     "output_type": "stream",
     "text": [
      "Procesando - 15.5%\n",
      "Procesando - 31%\n",
      "Procesando - 46.4%\n",
      "Procesando - 61.9%\n",
      "Procesando - 77.4%\n",
      "Procesando - 92.9%\n",
      "Time taken: 57.51s\n"
     ]
    }
   ],
   "source": [
    "#Realizaremos un resumen de los datos año 2020\n",
    "#Grafico 0 = NO GRAFICO\n",
    "#Grafico 1 = dispersion\n",
    "#Grafico 2 = boxPLot\n",
    "grafico = 0\n",
    "\n",
    "resultados = resumenStats(path_base,Festaciones,Fdatos2020,'Total',grafico,listDir)"
   ]
  },
  {
   "cell_type": "code",
   "execution_count": null,
   "id": "14d9163a",
   "metadata": {},
   "outputs": [],
   "source": []
  }
 ],
 "metadata": {
  "kernelspec": {
   "display_name": "Python 3 (ipykernel)",
   "language": "python",
   "name": "python3"
  },
  "language_info": {
   "codemirror_mode": {
    "name": "ipython",
    "version": 3
   },
   "file_extension": ".py",
   "mimetype": "text/x-python",
   "name": "python",
   "nbconvert_exporter": "python",
   "pygments_lexer": "ipython3",
   "version": "3.9.11"
  }
 },
 "nbformat": 4,
 "nbformat_minor": 5
}
