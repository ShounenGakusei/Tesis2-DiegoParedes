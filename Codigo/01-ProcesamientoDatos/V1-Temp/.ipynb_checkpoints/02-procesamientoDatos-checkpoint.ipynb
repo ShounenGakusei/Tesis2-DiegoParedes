{
 "cells": [
  {
   "cell_type": "code",
   "execution_count": 1,
   "id": "e91fd014",
   "metadata": {},
   "outputs": [
    {
     "data": {
      "text/plain": [
       "'\\nOBJETIVO : Seleccionar una muestra de datos para el entrenamiento. Este proceso se realiza por cada \\n            modelo (Regresion y clasifiacion). Ademas, se realiza una limpieza de datos, y se divide\\n            el DS para lso modelos de clasifiacion, para asi balancear las calses.\\n            \\n'"
      ]
     },
     "execution_count": 1,
     "metadata": {},
     "output_type": "execute_result"
    }
   ],
   "source": [
    "\"\"\"\n",
    "OBJETIVO : Seleccionar una muestra de datos para el entrenamiento. Este proceso se realiza por cada \n",
    "            modelo (Regresion y clasifiacion). Ademas, se realiza una limpieza de datos, y se divide\n",
    "            el DS para lso modelos de clasifiacion, para asi balancear las calses.\n",
    "            \n",
    "\"\"\""
   ]
  },
  {
   "cell_type": "code",
   "execution_count": 2,
   "id": "df4b9330",
   "metadata": {},
   "outputs": [],
   "source": [
    "# Leer imagenes satelitales (.nc) \n",
    "from netCDF4 import Dataset, num2date\n",
    "\n",
    "# Graficos y visualizaciones\n",
    "import cartopy.crs as ccrs\n",
    "import cartopy.feature as cf\n",
    "import matplotlib.pyplot as plt\n",
    "\n",
    "# Liberias para manejo de datos\n",
    "from sklearn.utils import shuffle\n",
    "from sklearn.model_selection import train_test_split\n",
    "import pandas as pd\n",
    "import numpy as np\n",
    "\n",
    "# Liberias estandar\n",
    "import re\n",
    "import time\n",
    "import os"
   ]
  },
  {
   "cell_type": "code",
   "execution_count": 3,
   "id": "70311502",
   "metadata": {},
   "outputs": [
    {
     "data": {
      "text/plain": [
       "'C:/Users/Shounen/Desktop/Ciclo XI/Tesis 2/NewTesis'"
      ]
     },
     "execution_count": 3,
     "metadata": {},
     "output_type": "execute_result"
    }
   ],
   "source": [
    "\"\"\"\n",
    "DEFINIMOS EL PATH DEL PROYECTO \n",
    "\"\"\"\n",
    "with open('../../path_base.txt') as f:\n",
    "    path_base = f.read()\n",
    "path_base"
   ]
  },
  {
   "cell_type": "code",
   "execution_count": 37,
   "id": "caf93a80",
   "metadata": {},
   "outputs": [],
   "source": [
    "path_imagenes = 'F:/GOES/' \n",
    "\n",
    "dsName = 'dsCompletoPP'\n",
    "listDataset = [f'{path_base}/Archivos/Inicial/{dsName}.csv']           \n",
    "\n",
    "#Variables generales\n",
    "products = ['C07','C08','C13']\n",
    "times   = ['10','20','30','40','50','00']"
   ]
  },
  {
   "cell_type": "code",
   "execution_count": 4,
   "id": "fb92709c",
   "metadata": {},
   "outputs": [],
   "source": [
    "#Para un conjunto de estaciones (dataframe), agrega su posicion XO(longitud), XA(latitud)\n",
    "\n",
    "#Como input recibe un string que es el directoeio de una imagen satelital (.nc),\n",
    "#devuelve la matriz que representa esta imagen numpy.array(1200,950)\n",
    "def getMapFile(imagenFile):    \n",
    "    try:\n",
    "        ds = Dataset(imagenFile)      \n",
    "    except:\n",
    "        print(\"No se pudo leer los archivos de imagen\")\n",
    "        print(imagenFile)\n",
    "        return -1,-1\n",
    "\n",
    "    # obtiene las coordenadas de los pixeles\n",
    "    lons = ds.variables['longitude'][:].data\n",
    "    lats = ds.variables['latitude'][:].data            \n",
    "        \n",
    "    return lons, lats  \n",
    "\n",
    "#Busca el valor X en el array, devuelve su posicion\n",
    "def getPosMap(x,array):    \n",
    "    pos = -1\n",
    "    for i in range(len(array)):\n",
    "        if abs(array[i]-x)<=0.01:\n",
    "            pos = i\n",
    "            \n",
    "    return  pos  \n",
    "\n",
    "#en el la imagen satelital\n",
    "def changeOrigenStation(estaciones,imagenFile):\n",
    "    try:\n",
    "        station = pd.read_csv(estaciones)   \n",
    "    except:\n",
    "        print(\"No se pudo leer el  archivos de estaciones\")\n",
    "        return False\n",
    "    \n",
    "    lo,la = getMapFile(imagenFile)\n",
    "    \n",
    "    station['XO'] = station.apply(lambda x: getPosMap(float(x['LON']), lo),axis=1)\n",
    "    station['XA'] = station.apply(lambda x: getPosMap(float(x['LAT']), la),axis=1)    \n",
    "    \n",
    "    \n",
    "    return station    "
   ]
  },
  {
   "cell_type": "code",
   "execution_count": 5,
   "id": "da420d9a",
   "metadata": {},
   "outputs": [],
   "source": [
    "#Obtiene los datos de precipitacion de un archivo csv, los procesa y los guarda en OTRO archivo CSV\n",
    "#regresa la cantidad de estaciones sin datos de precipitaciones\n",
    "def procesarDatos(path_base,estaciones,valores,imagenFile,noFLAG,nameOut):  \n",
    "    start_time = time.time()\n",
    "    #Obtenemos la informacion de los archivos\n",
    "    #\"Valores\"  Contiene los valores de los datos de precipitacion de manera horaria por estacion (codigo)\n",
    "    #\"estaciones\" Contiene los daots de cada estacion (cordenadas,codigo,etc)  \n",
    "    try:        \n",
    "        values = pd.read_csv(valores,encoding='latin-1')    \n",
    "    except:\n",
    "        print(\"No se pudo leer el archivos de valores\")\n",
    "        return False\n",
    "    station = changeOrigenStation(estaciones,imagenFile)\n",
    "    \n",
    "    \n",
    "    #Lista de [nombre,codigo,xo,xa,longitud,latitud,altura,dato,año,mes,dia,hora,flag]\n",
    "    resultado = []\n",
    "    \n",
    "    #Numero filas\n",
    "    n = len(values.index) \n",
    "    \n",
    "    #Auxiliares\n",
    "    total = n\n",
    "    completados = 1 \n",
    "    \n",
    "    noStation = {}\n",
    "    \n",
    "    for i in range(n):\n",
    "        #Codigo de estacion\n",
    "        cod = values['CODIGO'][i]        \n",
    "        st = station[station['Codigo'] == f'X{cod}']\n",
    "        if st.empty:            \n",
    "            st = station[station['Nombre'] == values['NOMBRE'][i]]\n",
    "        if st.empty:\n",
    "            noStation[cod] = values['NOMBRE'][i]\n",
    "            \n",
    "        if not st.empty:       \n",
    "            flag = values['FLAG'][i]\n",
    "            \n",
    "            if flag not in noFLAG:\n",
    "                #Datos de estacion\n",
    "                nombre = st['Nombre'].iloc[0]\n",
    "                xo = st['XO'].iloc[0]\n",
    "                xa =  st['XA'].iloc[0]\n",
    "                lat = st['LAT'].iloc[0]\n",
    "                lon = st['LON'].iloc[0]\n",
    "                alt = st['ALT'].iloc[0]\n",
    "                \n",
    "                _90 = st['90%'].iloc[0]\n",
    "                _99 = st['99%'].iloc[0]\n",
    "                _75 = st['75%'].iloc[0]\n",
    "                \n",
    "                flagV2 =  values['FLAGV2'][i]\n",
    "                #Datos de precipitacion\n",
    "                dato = values['PRECIPITACION'][i]        \n",
    "                day, month , year = values['FECHA'][i].split('/')   \n",
    "                hour = values['HORA'][i].split(':')[0]                    \n",
    "\n",
    "                resultado.append([nombre,cod,xo,xa,lon,lat,alt,dato,_90,_99,_75,f'{year}-{month}-{day}-{hour}',flag,flagV2])\n",
    "                completados = completados + 1\n",
    "        \n",
    "        if not completados % 100000:\n",
    "            progreso = completados/total*100\n",
    "            print(f'Estaciones con Error: {len(noStation)}')\n",
    "            f = '{0:.3g}'.format(progreso)\n",
    "            print(f\"Procesando - {f}%\")\n",
    "    \n",
    "    print(f\"Tiempo tomado en procesar {completados}/{n} datos: %.5fs\" % (time.time() - start_time))\n",
    "    start_time = time.time()\n",
    "    \n",
    "    #Guardamos en un csv los datos \n",
    "    print(\"Guardando los datos al archivo dataset....\")\n",
    "    df = pd.DataFrame(resultado, columns = ['nombre','codigo','XO','XA','longitud','latitud','altura','dato','90%','99%','75%','fecha','flag','flagV2'])\n",
    "    df.to_csv(f'{path_base}/Archivos/Inicial/{nameOut}.csv', index=False)\n",
    "    print(f\"Tiempo tomado en guardar {completados}datos: %.5fs\" % (time.time() - start_time))\n",
    "    return noStation, df\n",
    "    "
   ]
  },
  {
   "cell_type": "code",
   "execution_count": 6,
   "id": "fae0cc66",
   "metadata": {},
   "outputs": [
    {
     "data": {
      "text/plain": [
       "'\\nProcesamos los datos de precipitacion para cada año\\n'"
      ]
     },
     "execution_count": 6,
     "metadata": {},
     "output_type": "execute_result"
    }
   ],
   "source": [
    "\"\"\"\n",
    "Procesamos los datos de precipitacion para cada año\n",
    "\"\"\""
   ]
  },
  {
   "cell_type": "code",
   "execution_count": 7,
   "id": "1bb82afb",
   "metadata": {},
   "outputs": [],
   "source": [
    "#Variables\n",
    "Festaciones = f'{path_base}/Archivos/Inicial/estaciones.csv'\n",
    "FflagV2 = f'{path_base}/Archivos/Dataset/dsFLAGV2.csv'\n",
    "\n",
    "imagenTest = 'F:/GOES/C08/2021/01/G16_C08_Cyl_20210101-0020.nc'\n",
    "Fanalisis = f'{path_base}/Archivos/Reportes/Datos/analisis_2021.csv'\n",
    "\n",
    "#Flag que se borran del dataset\n",
    "noFLAG = ['M0000001','M0000001, M0110302','M0110302','ND']\n",
    "dsName = 'dsCompletoPP'"
   ]
  },
  {
   "cell_type": "code",
   "execution_count": 8,
   "id": "f3b99896",
   "metadata": {},
   "outputs": [
    {
     "data": {
      "text/html": [
       "<div>\n",
       "<style scoped>\n",
       "    .dataframe tbody tr th:only-of-type {\n",
       "        vertical-align: middle;\n",
       "    }\n",
       "\n",
       "    .dataframe tbody tr th {\n",
       "        vertical-align: top;\n",
       "    }\n",
       "\n",
       "    .dataframe thead th {\n",
       "        text-align: right;\n",
       "    }\n",
       "</style>\n",
       "<table border=\"1\" class=\"dataframe\">\n",
       "  <thead>\n",
       "    <tr style=\"text-align: right;\">\n",
       "      <th></th>\n",
       "      <th>nombre</th>\n",
       "      <th>codigo</th>\n",
       "      <th>XO</th>\n",
       "      <th>XA</th>\n",
       "      <th>longitud</th>\n",
       "      <th>latitud</th>\n",
       "      <th>altura</th>\n",
       "      <th>dato</th>\n",
       "      <th>90%</th>\n",
       "      <th>99%</th>\n",
       "      <th>75%</th>\n",
       "      <th>fecha</th>\n",
       "      <th>flag</th>\n",
       "      <th>flagV2</th>\n",
       "    </tr>\n",
       "  </thead>\n",
       "  <tbody>\n",
       "    <tr>\n",
       "      <th>0</th>\n",
       "      <td>ALAMOR</td>\n",
       "      <td>47E0D438</td>\n",
       "      <td>175</td>\n",
       "      <td>325</td>\n",
       "      <td>-80.39788</td>\n",
       "      <td>-4.48047</td>\n",
       "      <td>116.0</td>\n",
       "      <td>0.0</td>\n",
       "      <td>0.0</td>\n",
       "      <td>0.9</td>\n",
       "      <td>0.0</td>\n",
       "      <td>2021-01-01-00</td>\n",
       "      <td>C0000001</td>\n",
       "      <td>C01</td>\n",
       "    </tr>\n",
       "    <tr>\n",
       "      <th>1</th>\n",
       "      <td>ALAMOR</td>\n",
       "      <td>47E0D438</td>\n",
       "      <td>175</td>\n",
       "      <td>325</td>\n",
       "      <td>-80.39788</td>\n",
       "      <td>-4.48047</td>\n",
       "      <td>116.0</td>\n",
       "      <td>0.0</td>\n",
       "      <td>0.0</td>\n",
       "      <td>0.9</td>\n",
       "      <td>0.0</td>\n",
       "      <td>2021-01-01-01</td>\n",
       "      <td>C0000001</td>\n",
       "      <td>C01</td>\n",
       "    </tr>\n",
       "    <tr>\n",
       "      <th>2</th>\n",
       "      <td>ALAMOR</td>\n",
       "      <td>47E0D438</td>\n",
       "      <td>175</td>\n",
       "      <td>325</td>\n",
       "      <td>-80.39788</td>\n",
       "      <td>-4.48047</td>\n",
       "      <td>116.0</td>\n",
       "      <td>0.0</td>\n",
       "      <td>0.0</td>\n",
       "      <td>0.9</td>\n",
       "      <td>0.0</td>\n",
       "      <td>2021-01-01-02</td>\n",
       "      <td>C0000001</td>\n",
       "      <td>C01</td>\n",
       "    </tr>\n",
       "    <tr>\n",
       "      <th>3</th>\n",
       "      <td>ALAMOR</td>\n",
       "      <td>47E0D438</td>\n",
       "      <td>175</td>\n",
       "      <td>325</td>\n",
       "      <td>-80.39788</td>\n",
       "      <td>-4.48047</td>\n",
       "      <td>116.0</td>\n",
       "      <td>0.0</td>\n",
       "      <td>0.0</td>\n",
       "      <td>0.9</td>\n",
       "      <td>0.0</td>\n",
       "      <td>2021-01-01-03</td>\n",
       "      <td>C0000001</td>\n",
       "      <td>C01</td>\n",
       "    </tr>\n",
       "  </tbody>\n",
       "</table>\n",
       "</div>"
      ],
      "text/plain": [
       "   nombre    codigo   XO   XA  longitud  latitud  altura  dato  90%  99%  75%  \\\n",
       "0  ALAMOR  47E0D438  175  325 -80.39788 -4.48047   116.0   0.0  0.0  0.9  0.0   \n",
       "1  ALAMOR  47E0D438  175  325 -80.39788 -4.48047   116.0   0.0  0.0  0.9  0.0   \n",
       "2  ALAMOR  47E0D438  175  325 -80.39788 -4.48047   116.0   0.0  0.0  0.9  0.0   \n",
       "3  ALAMOR  47E0D438  175  325 -80.39788 -4.48047   116.0   0.0  0.0  0.9  0.0   \n",
       "\n",
       "           fecha      flag flagV2  \n",
       "0  2021-01-01-00  C0000001    C01  \n",
       "1  2021-01-01-01  C0000001    C01  \n",
       "2  2021-01-01-02  C0000001    C01  \n",
       "3  2021-01-01-03  C0000001    C01  "
      ]
     },
     "execution_count": 8,
     "metadata": {},
     "output_type": "execute_result"
    }
   ],
   "source": [
    "\"\"\"\n",
    "FLAGV2 \n",
    "\"\"\"\n",
    "#noStationFV2, datosFLAGV2 = procesarDatos(path_base,Fanalisis,FflagV2,imagenTest,noFLAG,nameOut=dsName)\n",
    "\n",
    "datosFLAGV2 = pd.read_csv(f'{path_base}/Archivos/Inicial/{dsName}.csv')\n",
    "datosFLAGV2.head(4)"
   ]
  },
  {
   "cell_type": "code",
   "execution_count": 9,
   "id": "e6656f1b",
   "metadata": {},
   "outputs": [
    {
     "data": {
      "text/plain": [
       "array(['C01', 'D02', 'D01', 'NC', 'ND', 'M01'], dtype=object)"
      ]
     },
     "execution_count": 9,
     "metadata": {},
     "output_type": "execute_result"
    }
   ],
   "source": [
    "datosFLAGV2['flagV2'].unique()"
   ]
  },
  {
   "cell_type": "code",
   "execution_count": 10,
   "id": "f8d8a3a5",
   "metadata": {},
   "outputs": [
    {
     "data": {
      "text/plain": [
       "'\\nLimpiamos el dataset\\n'"
      ]
     },
     "execution_count": 10,
     "metadata": {},
     "output_type": "execute_result"
    }
   ],
   "source": [
    "\"\"\"\n",
    "Limpiamos el dataset\n",
    "\"\"\""
   ]
  },
  {
   "cell_type": "code",
   "execution_count": 11,
   "id": "ebaeaec3",
   "metadata": {},
   "outputs": [],
   "source": [
    "#Del dataset guardamos los datos mas importantes en una columna para facilitar su lectura\n",
    "def obtenerDir(row):\n",
    "    fecha = row['fecha']\n",
    "\n",
    "    year, month, day, hour = fecha.split('-')\n",
    "    # filename = f'{path_base}comprimido/{year}_{month}_{day}/{hour}/'\n",
    "    return f\"{row['XO']}--{row['XA']}--{fecha}\""
   ]
  },
  {
   "cell_type": "code",
   "execution_count": 12,
   "id": "6425d7a9",
   "metadata": {},
   "outputs": [],
   "source": [
    "\n",
    "#Lee el archivo \"filename\" de datos de precipitacion y\n",
    "#regresa un df que facilite la lectura del dataset para el entrenmaiento\n",
    "def obtenerDatos(filename):\n",
    "    start_time = time.time()\n",
    "    pdata = pd.read_csv(filename)\n",
    "    \n",
    "    # Quitamos los valores NA\n",
    "    pdata = pdata[pdata['dato'].notna()]\n",
    "\n",
    "    # Definimos un solo tipo (str) pora asi poder convertirlo a tensor\n",
    "    pdata = pdata.astype({\"dato\": str, \"XO\": str, \"XA\": str, \"fecha\": str})\n",
    "\n",
    "    #Definimos la nueva columna para guardar el XO, XA y fecha\n",
    "    pdata['imagen'] = pdata.apply(obtenerDir, axis=1)\n",
    "\n",
    "    # Seleccionamos solo las columnas necesarias :\n",
    "    # precipitacion, Estacion (Longitud), Estacion (Latitud), Fecha (año-mes-dia-hora)\n",
    "    #pdataX = pdata.loc[:, ['dato','umbral','altura', 'imagen', 'fecha']]\n",
    "    pdata = pdata.astype({\"dato\": str, \"umbral\": str, \"altura\": str, \"imagen\": str, \"fecha\": str})\n",
    "\n",
    "    # Barajeamos los datos\n",
    "    pdata = shuffle(pdata)\n",
    "\n",
    "    print(f'{len(pdata)} datos leidos')\n",
    "    print(\"Tiempo tomado en leer datos: %.2fs\" % (time.time() - start_time))\n",
    "    return pdata"
   ]
  },
  {
   "cell_type": "code",
   "execution_count": 13,
   "id": "4d9befc8",
   "metadata": {},
   "outputs": [],
   "source": [
    "# Devuelve una lista con lo indices que no se encontraron lso archivos y el producto\n",
    "# Servira para ver si se teinen todas los frames de la fecha\n",
    "def comprobarFrames(dfOrignial, path_base, products, times, delete=1):\n",
    "    \n",
    "    #dfOrignial = obtenerDatos(datafile)\n",
    "    \n",
    "    \n",
    "    start_time = time.time()\n",
    "    \n",
    "    dfTotal = pd.unique(dfOrignial['fecha'])\n",
    "    no_fecha = []\n",
    "    for fecha in dfTotal:\n",
    "        year, month, day, hour = fecha.split('-')\n",
    "        existe = True\n",
    "        for p in products:\n",
    "            for t in range(len(times)):             \n",
    "                filename = f'{path_base}PNG/{fecha}/{fecha}_{t}.png'\n",
    "                try:                    \n",
    "                    file_size = os.path.getsize(filename)\n",
    "                    existe = file_size > 4100000\n",
    "                except: \n",
    "                    existe = False\n",
    "                    break\n",
    "                \n",
    "            if not existe:\n",
    "                break\n",
    "        if not existe:\n",
    "            no_fecha.append(fecha)\n",
    "            \n",
    "\n",
    "    if delete:\n",
    "        antes = len(dfOrignial)\n",
    "        df2 = dfOrignial[~dfOrignial['fecha'].isin(no_fecha)]\n",
    "        despues = len(df2)\n",
    "        print(f'{antes - despues}/{antes} datos eliminados: No se encontraron los archivos de imagenes satelitales')\n",
    "    else:\n",
    "        df2 = dfOrignial\n",
    "\n",
    "    print(\"Tiempo tomado en verificar datos: %.2fs\" % (time.time() - start_time))\n",
    "    return df2, no_fecha"
   ]
  },
  {
   "cell_type": "code",
   "execution_count": 14,
   "id": "25cfdacb",
   "metadata": {},
   "outputs": [],
   "source": [
    "def getBalancedDataset(df,porc):\n",
    "    listP = []\n",
    "    listT = []    \n",
    "    \n",
    "    df0 = df[df['dato']==0]\n",
    "    df01 = df[(df['dato']>0) & (df['dato']<=1)]\n",
    "    df1 = df[df['dato']>1]\n",
    "    \n",
    "    if not df0.empty:\n",
    "        dsT0, dsP0 = train_test_split(df0, test_size=porc, shuffle=True)  \n",
    "        listT.append(dsT0)\n",
    "        listP.append(dsP0)        \n",
    "        \n",
    "    if not df01.empty:\n",
    "        dsT1,dsP1 = train_test_split(df01, test_size=porc, shuffle=True)\n",
    "        listT.append(dsT1)\n",
    "        listP.append(dsP1)\n",
    "        \n",
    "    if not df1.empty:\n",
    "        dsT_, dsP_ =  train_test_split(df1, test_size=porc, shuffle=True)\n",
    "        listT.append(dsT_)\n",
    "        listP.append(dsP_)\n",
    "    \n",
    "   \n",
    "    dfTrain = pd.concat(listT, ignore_index=True) \n",
    "    dfPrueba = pd.concat(listP, ignore_index=True)\n",
    "    return dfTrain, dfPrueba    "
   ]
  },
  {
   "cell_type": "code",
   "execution_count": 15,
   "id": "2381206b",
   "metadata": {},
   "outputs": [],
   "source": [
    "def obtenerDSPruebas(df, porc, tipo='Clasificacion'):\n",
    "    \"\"\"\n",
    "    Separamos el dataset en 3 partes, y se ecoje un porcentaje de los tres\n",
    "    - Datos : 0\n",
    "    - Dato  : < 0,1 ]\n",
    "    - Dato  : <1 , --]\n",
    "    \"\"\"\n",
    "    \n",
    "    if tipo=='Clasificacion':\n",
    "        dfC02 = df[df['flag']=='C0000002'] \n",
    "        dfM02 = df[df['flag']=='M0000002']\n",
    "    \n",
    "        C02T,C02P = getBalancedDataset(dfC02,porc)\n",
    "        M02T,M02P = getBalancedDataset(dfM02,porc)   \n",
    "    \n",
    "   \n",
    "        dfTrain = pd.concat([C02T,M02T], ignore_index=True) \n",
    "        dfPrueba = pd.concat([C02P,M02P], ignore_index=True) \n",
    "        \n",
    "        return dfTrain, dfPrueba\n",
    "        \n",
    "    else:        \n",
    "        return getBalancedDataset(df,porc)\n",
    "    \n",
    "    return -1"
   ]
  },
  {
   "cell_type": "code",
   "execution_count": 45,
   "id": "c496440b",
   "metadata": {},
   "outputs": [],
   "source": [
    "def limpiarDatos(listNames, path_imagenes, p, read=True):\n",
    "    \n",
    "    df = []\n",
    "    start_time = time.time()\n",
    "    print(f'Se leera los archivos de datasets...')\n",
    "    if read:\n",
    "        for name in listNames:\n",
    "            try:\n",
    "                df.append(pd.read_csv(name))   \n",
    "            except:\n",
    "                print(f'No se pudo leer el archivo {name} de dataset')\n",
    "                return -1\n",
    "\n",
    "        if len(df)>1:\n",
    "            dsCompleto =  pd.concat(df, ignore_index=True) \n",
    "        else:\n",
    "            dsCompleto =  df[0]\n",
    "    else:\n",
    "        dsCompleto = listNames\n",
    "        \n",
    "        \n",
    "    print(\"Tiempo tomado: %.2fs\" % (time.time() - start_time))\n",
    "    print(f'+Cantidad de datos leidos {len(dsCompleto)}')\n",
    "    \n",
    "    # Quitamos los NA valores, negativos y mayores a 400\n",
    "    print(f'\\nSe elimnara los valores nulos y dudosos')\n",
    "    dsCompleto.dropna(subset=['dato'], axis='index', inplace=True)    \n",
    "    dsCompleto = dsCompleto[dsCompleto['flag']!='ND']\n",
    "    #dsCompleto = dsCompleto[dsCompleto['dato']>=0]\n",
    "    dsCompleto = dsCompleto[dsCompleto['dato']<400]\n",
    "    print(\"Tiempo tomado: %.2fs\" % (time.time() - start_time))\n",
    "    print(f'+Cantidad de datos luego de elimnar nulos {len(dsCompleto)}')\n",
    "              \n",
    "    \n",
    "    # Seleccionamos FLAGS\n",
    "    if p['flags']:\n",
    "        dsCompleto = dsCompleto[dsCompleto['flag'].isin(p['flags'])]    \n",
    "    if p['flagV2']:\n",
    "        dsCompleto = dsCompleto[dsCompleto['flagV2'].isin(p['flagV2'])]    \n",
    "    \n",
    "    \n",
    "    # Buscamos imagenes satelitales para lso archivos\n",
    "    print(f'\\nSe buscara las imagenes satelitales para los datos...')\n",
    "    dfImagenes, no_fecha = comprobarFrames(dsCompleto, path_imagenes, p['products'], p['times'], p['delete'])    \n",
    "    print(\"Tiempo tomado: %.2fs\" % (time.time() - start_time))\n",
    "               \n",
    "        \n",
    "    # Limitamos la cantidad de ceros\n",
    "    if p['ceros']:\n",
    "        print(f'\\nSe limitara el numero de ceros al {p[\"ceros\"]*100:.2f} porciento...')\n",
    "        dsNoNulo = dfImagenes[dfImagenes['dato']!=0]\n",
    "        dsNulo = dfImagenes[(dfImagenes['dato']==0)&(dfImagenes['flag'].isin(['C0000002','C0000001']))]\n",
    "        dsNulo = dsNulo.sample(frac=p['ceros'])#n=int(p['ceros']*len(dsNoNulo)))        \n",
    "        dfImagenes = pd.concat([dsNoNulo,dsNulo], ignore_index=True) \n",
    "        print(f'+Cantidad de datos luego de limtar ceros {len(dfImagenes)}')\n",
    "            \n",
    "    #Agregamos lso datos de las estaciones al dataset\n",
    "    print(f'\\nSe agregara los datos de las estaciones(cordenadas, umbral)...')\n",
    "    dfImagenes['imagen'] = dfImagenes.apply(obtenerDir, axis=1)        \n",
    "    print(f'-------> CANTIDAD FINAL DE DATOS :  {len(dfImagenes)} <--------------')  \n",
    "    print(\"Tiempo total: %.2fs\" % (time.time() - start_time))\n",
    "    return shuffle(dfImagenes), no_fecha"
   ]
  },
  {
   "cell_type": "code",
   "execution_count": 46,
   "id": "19220ebe",
   "metadata": {},
   "outputs": [],
   "source": [
    "def getModelo_DS(listNames, path_imagenes, p,comentario='', read=True):\n",
    "    print(f'Tipo de dataset: {p[\"redTipo\"]}')\n",
    "    # Limpiamos en dataset\n",
    "    dfLimpio, no_fecha = limpiarDatos(listNames, path_imagenes, p, read)\n",
    "    dfLimpio.to_csv(f'{p[\"path_base\"]}/Archivos/Dataset/{p[\"redTipo\"]}/{p[\"nameDS\"]}_CompletoDS.csv')\n",
    "    \n",
    "    if p['estaciones']:\n",
    "        print(f'Se limitara el DS a {len(p[\"estaciones\"])} estaciones')\n",
    "        dfLimpio = dfLimpio[dfLimpio['codigo'].isin(p['estaciones'])]\n",
    "    \n",
    "    if p['redTipo'] == 'Clasificacion':\n",
    "        dfLimpio[p['claseName']] = (dfLimpio[p['condicion_1'][0]]==p['condicion_1'][1]).astype(int)       \n",
    "        \n",
    "    \n",
    "    # Separamos los datasets (entrenamiento, validacion y test)\n",
    "    _dsTrain, _dsTest = obtenerDSPruebas(dfLimpio, p['pruebas'], tipo=p['redTipo']) \n",
    "    _dsTrain, _dsValid = obtenerDSPruebas(_dsTrain, p['validacion'], tipo =p['redTipo'])\n",
    "    \n",
    "    # Guardamos los archivos    \n",
    "    _dsTest.to_csv(f'{p[\"path_base\"]}/Archivos/Dataset/{p[\"redTipo\"]}/Pruebas/{p[\"nameDS\"]}_PruebasDS.csv')\n",
    "    _dsValid.to_csv(f'{p[\"path_base\"]}/Archivos/Dataset/{p[\"redTipo\"]}/Validacion/{p[\"nameDS\"]}_ValidacionDS.csv')\n",
    "    _dsTrain.to_csv(f'{p[\"path_base\"]}/Archivos/Dataset/{p[\"redTipo\"]}/Entrenamiento/{p[\"nameDS\"]}_TrainDS.csv')\n",
    "    \n",
    "    print('Tamaño de los datasets: ')\n",
    "    print(f'TRAIN   : {len(_dsTrain)}')\n",
    "    print(f'VALID   : {len(_dsValid)}')\n",
    "    print(f'PRUEBAS : {len(_dsTest)}')\n",
    "\n",
    "    # Guardamos el comentario (Informacion de lso datasets)\n",
    "\n",
    "    with open(f'{p[\"path_base\"]}/Archivos/Dataset/{p[\"redTipo\"]}/{p[\"nameDS\"]}_comentario.txt', 'w') as file:\n",
    "        file.write(f'Archivos iniciales que se uso : {str(listNames)}\\n')\n",
    "        file.write(comentario)\n",
    "        file.write(' A continuacion se muestra los parametros que se usaron:\\n')        \n",
    "        file.write(str(p))\n",
    "        \n",
    "    return dfLimpio"
   ]
  },
  {
   "cell_type": "code",
   "execution_count": 79,
   "id": "3a304994",
   "metadata": {},
   "outputs": [],
   "source": [
    "\"\"\"\n",
    "Clasificacion\n",
    "\"\"\"\n",
    "comentarioCLAS = 'El dataset es para lso modelos de clasificaicon, se usa como clase 1 los datos con flag = C02\\\n",
    "               y todos los flags M02 como clase 0.\\n'\n",
    "p_clas = {    \n",
    "    # parametros del proyecto\n",
    "    'products'   : products,\n",
    "    'times'      : times,\n",
    "    'path_base'  : path_base,\n",
    "\n",
    "    # parametros del dataset\n",
    "    'ceros'      : 0.10,   \n",
    "    'flags'      : ['C0000002','DIM00001','M0000002'],\n",
    "    'flagV2'     : ['D01','D02','C01'],    \n",
    "    'estaciones' : [],\n",
    "    'delete'     : True,\n",
    "    \n",
    "    # Split\n",
    "    'pruebas'    : 0.01,\n",
    "    'validacion' : 0.1,\n",
    "    \n",
    "    # Modelo\n",
    "    'redTipo'    : 'Clasificacion',\n",
    "    \n",
    "    # PARA MODELOS DE CLASIFICACION\n",
    "    'claseName'  : 'clase',\n",
    "    'condicion_1': ['flag','C0000002'],    \n",
    "    \n",
    "    # Nombres\n",
    "    'nameDS'     : 'ClaseV1',       \n",
    "}"
   ]
  },
  {
   "cell_type": "code",
   "execution_count": 80,
   "id": "ba8c2eb1",
   "metadata": {},
   "outputs": [
    {
     "name": "stdout",
     "output_type": "stream",
     "text": [
      "Tipo de dataset: Clasificacion\n",
      "Se leera los archivos de datasets...\n",
      "Tiempo tomado: 4.17s\n",
      "+Cantidad de datos leidos 2494399\n",
      "\n",
      "Se elimnara los valores nulos y dudosos\n",
      "Tiempo tomado: 5.15s\n",
      "+Cantidad de datos luego de elimnar nulos 2494216\n",
      "\n",
      "Se buscara las imagenes satelitales para los datos...\n",
      "1992/45264 datos eliminados: No se encontraron los archivos de imagenes satelitales\n",
      "Tiempo tomado en verificar datos: 12.33s\n",
      "Tiempo tomado: 17.74s\n",
      "\n",
      "Se limitara el numero de ceros al 10.00 porciento...\n",
      "+Cantidad de datos luego de limtar ceros 34462\n",
      "\n",
      "Se agregara los datos de las estaciones(cordenadas, umbral)...\n",
      "-------> CANTIDAD FINAL DE DATOS :  34462 <--------------\n",
      "Tiempo total: 18.40s\n",
      "Tamaño de los datasets: \n",
      "TRAIN   : 30699\n",
      "VALID   : 3414\n",
      "PRUEBAS : 347\n"
     ]
    }
   ],
   "source": [
    "dfLimpioCLAS = getModelo_DS(listDataset, path_imagenes, p_clas,comentario=comentarioCLAS)"
   ]
  },
  {
   "cell_type": "code",
   "execution_count": 81,
   "id": "77f51ae5",
   "metadata": {},
   "outputs": [
    {
     "name": "stdout",
     "output_type": "stream",
     "text": [
      "           ESTADISCIAS DEL DS_2 \n",
      "\n",
      "Flags       : ['C0000002' 'M0000002' 'DIM00001']\n",
      "Estaciones  : 153\n",
      "Totales     : 34462\n",
      "Ceros       : 750\n",
      "Clase 0(M02): 740\n",
      "Clase 1(C02): 33720\n",
      "Maximo      : 337.5\n",
      "Media       : 1.8315428588009983\n",
      "STD         : 8.024342368130112\n"
     ]
    },
    {
     "data": {
      "text/plain": [
       "<AxesSubplot:>"
      ]
     },
     "execution_count": 81,
     "metadata": {},
     "output_type": "execute_result"
    },
    {
     "data": {
      "image/png": "[encoded data removed]",
      "text/plain": [
       "<Figure size 432x288 with 1 Axes>"
      ]
     },
     "metadata": {
      "needs_background": "light"
     },
     "output_type": "display_data"
    }
   ],
   "source": [
    "print('           ESTADISCIAS DEL DS_2 \\n')\n",
    "\n",
    "print(f'Flags       : {dfLimpioCLAS[\"flag\"].unique()}')\n",
    "print(f'Estaciones  : {len(dfLimpioCLAS[\"codigo\"].unique())}')\n",
    "print(f'Totales     : {dfLimpioCLAS[\"dato\"].count()}')\n",
    "print(f'Ceros       : {dfLimpioCLAS[dfLimpioCLAS[\"dato\"]==0][\"dato\"].count()}')\n",
    "print(f'Clase 0(M02): {dfLimpioCLAS[dfLimpioCLAS[\"flag\"]==\"M0000002\"][\"dato\"].count()}')\n",
    "print(f'Clase 1(C02): {dfLimpioCLAS[dfLimpioCLAS[\"flag\"]==\"C0000002\"][\"dato\"].count()}')\n",
    "print(f'Maximo      : {dfLimpioCLAS[\"dato\"].max()}')\n",
    "print(f'Media       : {dfLimpioCLAS[\"dato\"].mean()}')\n",
    "print(f'STD         : {dfLimpioCLAS[\"dato\"].std()}')\n",
    "\n",
    "#_dataset[_dataset[\"dato\"]!=0][\"dato\"].hist(legend=True)\n",
    "#_dataset[_dataset[\"dato\"]>1][\"dato\"].hist(legend=True)\n",
    "dfLimpioCLAS['flag'].hist(legend=True)"
   ]
  },
  {
   "cell_type": "code",
   "execution_count": 82,
   "id": "835e7bcb",
   "metadata": {},
   "outputs": [],
   "source": [
    "\"\"\"\n",
    "Regresion\n",
    "\"\"\"\n",
    "comentarioREG = 'El dataset es para lso modelos de regresion, se usa como output el dato \\\n",
    "            Se ha realizado una limpieza de datos (quitado datos malos 1 y verificado que exista \\\n",
    "            las imagenes satelitales). Ademas se ha validado con el flagV2 los datos erroneos'\n",
    "\n",
    "p_reg = {    \n",
    "    # parametros del proyecto\n",
    "    'products'   : products,\n",
    "    'times'      : times,\n",
    "    'path_base'  : path_base,\n",
    "\n",
    "    # parametros del dataset\n",
    "    'ceros'      : 0.10,   \n",
    "    'flags'      : ['C0000002'],\n",
    "    'flagV2'     : ['D01','D02','C01'],   \n",
    "    'estaciones' : [],\n",
    "    'delete'     : True,\n",
    "    \n",
    "    # Split\n",
    "    'pruebas'    : 0.01,\n",
    "    'validacion' : 0.2,\n",
    "    \n",
    "    # Modelo\n",
    "    'redTipo'    : 'Regresion',\n",
    "    \n",
    "    # PARA MODELOS DE CLASIFICACION\n",
    "    'claseName'  : '',\n",
    "    'condicion_1': [],    \n",
    "    \n",
    "    # Nombres\n",
    "    'nameDS'     : 'DatoV1',       \n",
    "}"
   ]
  },
  {
   "cell_type": "code",
   "execution_count": 83,
   "id": "2c70ad6a",
   "metadata": {},
   "outputs": [
    {
     "name": "stdout",
     "output_type": "stream",
     "text": [
      "Tipo de dataset: Regresion\n",
      "Se leera los archivos de datasets...\n",
      "Tiempo tomado: 4.09s\n",
      "+Cantidad de datos leidos 2494399\n",
      "\n",
      "Se elimnara los valores nulos y dudosos\n",
      "Tiempo tomado: 5.04s\n",
      "+Cantidad de datos luego de elimnar nulos 2494216\n",
      "\n",
      "Se buscara las imagenes satelitales para los datos...\n",
      "1837/42305 datos eliminados: No se encontraron los archivos de imagenes satelitales\n",
      "Tiempo tomado en verificar datos: 9.80s\n",
      "Tiempo tomado: 14.97s\n",
      "\n",
      "Se limitara el numero de ceros al 10.00 porciento...\n",
      "+Cantidad de datos luego de limtar ceros 33720\n",
      "\n",
      "Se agregara los datos de las estaciones(cordenadas, umbral)...\n",
      "-------> CANTIDAD FINAL DE DATOS :  33720 <--------------\n",
      "Tiempo total: 15.62s\n",
      "Tamaño de los datasets: \n",
      "TRAIN   : 26703\n",
      "VALID   : 6678\n",
      "PRUEBAS : 339\n"
     ]
    }
   ],
   "source": [
    "dfLimpioREG = getModelo_DS(listDataset, path_imagenes, p_reg ,comentario=comentarioREG)"
   ]
  },
  {
   "cell_type": "code",
   "execution_count": 85,
   "id": "de24466e",
   "metadata": {},
   "outputs": [
    {
     "name": "stdout",
     "output_type": "stream",
     "text": [
      "           ESTADISCIAS DEL DS_1 \n",
      "\n",
      "Flags       : ['C0000002']\n",
      "Estaciones  : 152\n",
      "Totales     : 33720\n",
      "Ceros       : 750\n",
      "Entre 0 y 1 : 19330\n",
      "Mayores a 1 : 793\n",
      "Maximo      : 66.9\n",
      "Media       : 1.6386838671411625\n",
      "STD         : 3.1684947103007484\n"
     ]
    },
    {
     "data": {
      "text/plain": [
       "<AxesSubplot:>"
      ]
     },
     "execution_count": 85,
     "metadata": {},
     "output_type": "execute_result"
    },
    {
     "data": {
      "image/png": "[encoded data removed]",
      "text/plain": [
       "<Figure size 432x288 with 1 Axes>"
      ]
     },
     "metadata": {
      "needs_background": "light"
     },
     "output_type": "display_data"
    }
   ],
   "source": [
    "print('           ESTADISCIAS DEL DS_1 \\n')\n",
    "\n",
    "print(f'Flags       : {dfLimpioREG[\"flag\"].unique()}')\n",
    "print(f'Estaciones  : {len(dfLimpioREG[\"codigo\"].unique())}')\n",
    "print(f'Totales     : {dfLimpioREG[\"dato\"].count()}')\n",
    "print(f'Ceros       : {dfLimpioREG[dfLimpioREG[\"dato\"]==0][\"dato\"].count()}')\n",
    "print(f'Entre 0 y 1 : {dfLimpioREG[(dfLimpioREG[\"dato\"]>0) & (dfLimpioREG[\"dato\"]<1)][\"dato\"].count()}')\n",
    "print(f'Mayores a 1 : {dfLimpioREG[dfLimpioREG[\"dato\"]>10][\"dato\"].count()}')\n",
    "print(f'Maximo      : {dfLimpioREG[\"dato\"].max()}')\n",
    "print(f'Media       : {dfLimpioREG[\"dato\"].mean()}')\n",
    "print(f'STD         : {dfLimpioREG[\"dato\"].std()}')\n",
    "\n",
    "#_dataset[_dataset[\"dato\"]!=0][\"dato\"].hist(legend=True)\n",
    "#_dataset[_dataset[\"dato\"]>1][\"dato\"].hist(legend=True)\n",
    "dfLimpioREG['dato'].hist(legend=True)"
   ]
  },
  {
   "cell_type": "code",
   "execution_count": 45,
   "id": "5566ca70",
   "metadata": {},
   "outputs": [
    {
     "data": {
      "text/plain": [
       "'\\nVIsualizamos las estaciones\\n'"
      ]
     },
     "execution_count": 45,
     "metadata": {},
     "output_type": "execute_result"
    }
   ],
   "source": [
    "\"\"\"\n",
    "VIsualizamos las estaciones\n",
    "\"\"\""
   ]
  },
  {
   "cell_type": "code",
   "execution_count": 86,
   "id": "6b1dea23",
   "metadata": {},
   "outputs": [],
   "source": [
    "#Leemos un dato de imagen satelital para obtener las coordenadas\n",
    "imagenTest = 'F:/GOES/C08/2021/01/G16_C08_Cyl_20210101-0020.nc'\n",
    "ds = Dataset(imagenTest)\n",
    "field = ds.variables['CMI'][:].data.astype(np.float32)/100.0\n",
    "\n",
    "# obtiene las coordenadas de los pixeles\n",
    "lons = ds.variables['longitude'][:].data\n",
    "lats = ds.variables['latitude'][:].data\n",
    "lons, lats = np.meshgrid(lons, lats)\n",
    "\n",
    "dfEstaciones = pd.read_csv(Festaciones)"
   ]
  },
  {
   "cell_type": "code",
   "execution_count": 87,
   "id": "90b62eae",
   "metadata": {},
   "outputs": [],
   "source": [
    "dfEstCLAS = dfLimpioCLAS['codigo'].unique()\n",
    "CLAS = pd.DataFrame({'codigo':dfEstCLAS.tolist()})\n",
    "\n",
    "dfEstREG = dfLimpioREG['codigo'].unique()\n",
    "REG = pd.DataFrame({'codigo':dfEstREG.tolist()})"
   ]
  },
  {
   "cell_type": "code",
   "execution_count": 89,
   "id": "25ebaf48",
   "metadata": {},
   "outputs": [
    {
     "data": {
      "image/png": "[encoded data removed]",
      "text/plain": [
       "<Figure size 432x288 with 1 Axes>"
      ]
     },
     "metadata": {
      "needs_background": "light"
     },
     "output_type": "display_data"
    }
   ],
   "source": [
    "#Graficomos las estaciones para el ds de regresion\n",
    "ax = plt.axes(projection=ccrs.PlateCarree())\n",
    "plt.title(f'DS_1 (Regresion) - Peru ({len(REG)} estaciones)')\n",
    "ax.set_extent([lons.min(), lons.max(), lats.min(),lats.max()], ccrs.PlateCarree())\n",
    "\n",
    "for x in REG.index:\n",
    "    st = dfEstaciones[dfEstaciones['CODE'] == f'X{REG[\"codigo\"][x]}']    \n",
    "    if not st.empty:    \n",
    "        x = st['LON']#.iloc[0]\n",
    "        y = st['LAT']#.iloc[0]\n",
    "        plt.plot(x, y,  1, marker='o', color='red',alpha=0.45)    \n",
    "    \n",
    "ax.coastlines(resolution='110m')\n",
    "plt.savefig(f'{path_base}/Archivos/Reportes/Plots/MAPA_DS_01(REG-BAL).png')\n",
    "plt.show()"
   ]
  },
  {
   "cell_type": "code",
   "execution_count": 90,
   "id": "afb5bd99",
   "metadata": {},
   "outputs": [
    {
     "data": {
      "image/png": "[encoded data removed]",
      "text/plain": [
       "<Figure size 432x288 with 1 Axes>"
      ]
     },
     "metadata": {
      "needs_background": "light"
     },
     "output_type": "display_data"
    }
   ],
   "source": [
    "#Graficomos las estaciones para el ds de clasificaicon\n",
    "ax = plt.axes(projection=ccrs.PlateCarree())\n",
    "plt.title(f'DS_2 (Clasifiacion) - Peru ({len(CLAS)} estaciones)')\n",
    "ax.set_extent([lons.min(), lons.max(), lats.min(),lats.max()], ccrs.PlateCarree())\n",
    "\n",
    "for x in CLAS.index:\n",
    "    st = dfEstaciones[dfEstaciones['CODE'] == f'X{CLAS[\"codigo\"][x]}']    \n",
    "    if not st.empty: \n",
    "        #print(st)\n",
    "        x = st['LON']#.iloc[0]\n",
    "        y = st['LAT']#.iloc[0]\n",
    "        plt.plot(x, y,  1, marker='o', color='red',alpha=0.45)    \n",
    "    \n",
    "ax.coastlines(resolution='110m')\n",
    "plt.savefig(f'{path_base}/Archivos/Reportes/Plots/MAPA_DS_02(CLAS).png')\n",
    "plt.show()"
   ]
  },
  {
   "cell_type": "code",
   "execution_count": 51,
   "id": "d6d2e317",
   "metadata": {},
   "outputs": [
    {
     "data": {
      "text/plain": [
       "'\\nSeparamos el dataset de entrenamiento para balancear las clases\\n'"
      ]
     },
     "execution_count": 51,
     "metadata": {},
     "output_type": "execute_result"
    }
   ],
   "source": [
    "\"\"\"\n",
    "Separamos el dataset de entrenamiento para balancear las clases\n",
    "\"\"\""
   ]
  },
  {
   "cell_type": "code",
   "execution_count": 52,
   "id": "2b6228cb",
   "metadata": {},
   "outputs": [],
   "source": [
    "def applyDA(df, columna='clase', DA=3):\n",
    "    df['DA'] = 0\n",
    "    dfs = [df[df[columna]==0], df[df[columna]==1]]    \n",
    "    posM = 0 if len(dfs[0])>len(dfs[1]) else 1\n",
    "    \n",
    "    # Clase minoritaria = M^1\n",
    "    # Se va aumentar lm\n",
    "    dfMenor0 = dfs[posM^1].copy()\n",
    "    \n",
    "    dfMenor1 = dfs[posM^1].copy()\n",
    "    dfMenor1['DA'] = 1\n",
    "    \n",
    "    dfMenor2 = dfs[posM^1].copy()\n",
    "    dfMenor2['DA'] = 2\n",
    "    \n",
    "    dfMenor3 = dfs[posM^1].copy()\n",
    "    dfMenor3['DA'] = 3\n",
    "    \n",
    "     \n",
    "    dfMenos = [dfMenor0,dfMenor1,dfMenor2,dfMenor3,dfs[posM]]\n",
    "    train = pd.concat(dfMenos)    \n",
    "    \n",
    "    return train"
   ]
  },
  {
   "cell_type": "code",
   "execution_count": 53,
   "id": "d377ca28",
   "metadata": {},
   "outputs": [],
   "source": [
    "def splitTrainDS(_dataset, redTipo, path_base, newDir='Split', DA=0, comentario=' '):      \n",
    "    tipo = redTipo[0]\n",
    "    output = redTipo[1]\n",
    "    if DA:\n",
    "        print('Se le aplicará DA al dataset')\n",
    "        _dataset = applyDA(_dataset, output, 3)\n",
    "        \n",
    "    dfs = [_dataset[_dataset[output]==0], _dataset[_dataset[output]==1]]    \n",
    "    posM = 0 if len(dfs[0])>len(dfs[1]) else 1\n",
    "    lM = len(dfs[posM])\n",
    "    lm = len(dfs[posM^1])\n",
    "    \n",
    "    try:\n",
    "        path = os.path.join(f'{path_base}/Archivos/Dataset/{tipo}/Entrenamiento/', newDir)\n",
    "        os.mkdir(path)        \n",
    "    except FileExistsError:\n",
    "        pass\n",
    "    except:\n",
    "        print(f\"No se pudo crear la carpeta {newDir}\")\n",
    "    \n",
    "    \n",
    "    n = int(lM/lm) + (lM % lm > 0)    \n",
    "    splitted = []\n",
    "    \n",
    "    for i in range(n):\n",
    "        if i == (n-1):\n",
    "            tempDF1 = dfs[posM][i*lm:i*lm+lm]\n",
    "            tempDF2 = dfs[posM][0:i*lm].sample(n=(lm-len(tempDF1)))            \n",
    "            splitted.append(pd.concat([tempDF1,tempDF2,dfs[posM^1]], ignore_index=True))            \n",
    "        else:\n",
    "            tempDF = dfs[posM][i*lm:i*lm+lm]            \n",
    "            splitted.append(pd.concat([tempDF,dfs[posM^1]], ignore_index=True))\n",
    "            \n",
    "    print(f'Se ha divido el dataset en {len(splitted)} partes')\n",
    "    i = 0    \n",
    "    for df in splitted:        \n",
    "        df.to_csv(f'{path_base}/Archivos/Dataset/{tipo}/Entrenamiento/{newDir}/{output.upper()}_TrainDS_{i}.csv')\n",
    "        i+=1\n",
    " \n",
    "    text_comentario = open(f'{path_base}/Archivos/Dataset/{tipo}/Entrenamiento/{newDir}/comentario.txt', \"w\")\n",
    "    text_comentario.write(comentario) \n",
    "    text_comentario.close()\n",
    "    \n",
    "    return splitted"
   ]
  },
  {
   "cell_type": "code",
   "execution_count": 54,
   "id": "1f75de11",
   "metadata": {},
   "outputs": [],
   "source": [
    "\"\"\"\n",
    "Variables para el split del DS de clasifaicion\n",
    "\"\"\"\n",
    "dsV_ = 'ClaseV1_TrainDS.csv'\n",
    "fileDS = f'{path_base}/Archivos/Dataset/Clasificacion/Entrenamiento/{dsV_}'\n",
    "dsTrainCLAS = pd.read_csv(fileDS)"
   ]
  },
  {
   "cell_type": "code",
   "execution_count": 55,
   "id": "ddb5e255",
   "metadata": {},
   "outputs": [
    {
     "name": "stdout",
     "output_type": "stream",
     "text": [
      "Se ha divido el dataset en 46 partes\n"
     ]
    }
   ],
   "source": [
    "# DS CLasificacion, sin DA \n",
    "comDA = f\"Este dataset es para el modelo de clasificacion con output clase, NO se le esta aplicando DataAugmentation (DA). \\\n",
    "              al dataset se divide en varias partes de tal forma de balancear las clases. Version 1\\\n",
    "              Datset original usado : {fileDS}\"\n",
    "\n",
    "splittedDF = splitTrainDS(dsTrainCLAS,['Clasificacion','clase'], path_base, newDir='SplitSinDA_V1', DA= 0, comentario=comDA)   "
   ]
  },
  {
   "cell_type": "code",
   "execution_count": 56,
   "id": "00503fea",
   "metadata": {},
   "outputs": [
    {
     "name": "stdout",
     "output_type": "stream",
     "text": [
      "Se le aplicará DA al dataset\n",
      "Se ha divido el dataset en 12 partes\n"
     ]
    }
   ],
   "source": [
    "# DS CLasificacion, con DA \n",
    "comNODA = f\"Este dataset es para el modelo de clasificacion con output clase, SI se le esta aplicando DataAugmentation (DA) = 3. \\\n",
    "              al dataset se divide en varias partes de tal forma de balancear las clases. Version 1\\\n",
    "              Datset original usado : {fileDS}\"\n",
    "\n",
    "splittedDF = splitTrainDS(dsTrainCLAS,['Clasificacion','clase'], path_base, newDir='SplitConDA_V1', DA= 3, comentario=comNODA)   "
   ]
  },
  {
   "cell_type": "code",
   "execution_count": 57,
   "id": "26aa94f4",
   "metadata": {},
   "outputs": [
    {
     "data": {
      "text/plain": [
       "'\\nDataset aplicando criterio de estadisticas\\n'"
      ]
     },
     "execution_count": 57,
     "metadata": {},
     "output_type": "execute_result"
    }
   ],
   "source": [
    "\"\"\"\n",
    "Dataset aplicando criterio de estadisticas\n",
    "\"\"\""
   ]
  },
  {
   "cell_type": "code",
   "execution_count": 58,
   "id": "3dde8ab5",
   "metadata": {},
   "outputs": [
    {
     "data": {
      "text/html": [
       "<div>\n",
       "<style scoped>\n",
       "    .dataframe tbody tr th:only-of-type {\n",
       "        vertical-align: middle;\n",
       "    }\n",
       "\n",
       "    .dataframe tbody tr th {\n",
       "        vertical-align: top;\n",
       "    }\n",
       "\n",
       "    .dataframe thead th {\n",
       "        text-align: right;\n",
       "    }\n",
       "</style>\n",
       "<table border=\"1\" class=\"dataframe\">\n",
       "  <thead>\n",
       "    <tr style=\"text-align: right;\">\n",
       "      <th></th>\n",
       "      <th>count</th>\n",
       "      <th>mean</th>\n",
       "      <th>std</th>\n",
       "      <th>min</th>\n",
       "      <th>25%</th>\n",
       "      <th>50%</th>\n",
       "      <th>75%</th>\n",
       "      <th>max</th>\n",
       "      <th>FechaMax</th>\n",
       "      <th>FechaMin</th>\n",
       "      <th>...</th>\n",
       "      <th>cantM02</th>\n",
       "      <th>cantD01</th>\n",
       "      <th>75mayor</th>\n",
       "      <th>90mayor</th>\n",
       "      <th>90%</th>\n",
       "      <th>99mayor</th>\n",
       "      <th>99%</th>\n",
       "      <th>LON</th>\n",
       "      <th>LAT</th>\n",
       "      <th>ALT</th>\n",
       "    </tr>\n",
       "  </thead>\n",
       "  <tbody>\n",
       "    <tr>\n",
       "      <th>0</th>\n",
       "      <td>8749</td>\n",
       "      <td>0.048531</td>\n",
       "      <td>0.685865</td>\n",
       "      <td>0.0</td>\n",
       "      <td>0.0</td>\n",
       "      <td>0.0</td>\n",
       "      <td>0.0</td>\n",
       "      <td>36.3</td>\n",
       "      <td>31/12/2021</td>\n",
       "      <td>01/01/2021</td>\n",
       "      <td>...</td>\n",
       "      <td>0</td>\n",
       "      <td>0</td>\n",
       "      <td>248</td>\n",
       "      <td>248</td>\n",
       "      <td>0.0</td>\n",
       "      <td>83</td>\n",
       "      <td>0.9</td>\n",
       "      <td>-80.39788</td>\n",
       "      <td>-4.48047</td>\n",
       "      <td>116.0</td>\n",
       "    </tr>\n",
       "    <tr>\n",
       "      <th>1</th>\n",
       "      <td>8719</td>\n",
       "      <td>0.048067</td>\n",
       "      <td>0.679521</td>\n",
       "      <td>0.0</td>\n",
       "      <td>0.0</td>\n",
       "      <td>0.0</td>\n",
       "      <td>0.0</td>\n",
       "      <td>36.0</td>\n",
       "      <td>31/12/2021</td>\n",
       "      <td>01/01/2021</td>\n",
       "      <td>...</td>\n",
       "      <td>0</td>\n",
       "      <td>115</td>\n",
       "      <td>232</td>\n",
       "      <td>232</td>\n",
       "      <td>0.0</td>\n",
       "      <td>84</td>\n",
       "      <td>0.7</td>\n",
       "      <td>-80.39014</td>\n",
       "      <td>-4.48956</td>\n",
       "      <td>116.0</td>\n",
       "    </tr>\n",
       "  </tbody>\n",
       "</table>\n",
       "<p>2 rows × 27 columns</p>\n",
       "</div>"
      ],
      "text/plain": [
       "   count      mean       std  min  25%  50%  75%   max    FechaMax  \\\n",
       "0   8749  0.048531  0.685865  0.0  0.0  0.0  0.0  36.3  31/12/2021   \n",
       "1   8719  0.048067  0.679521  0.0  0.0  0.0  0.0  36.0  31/12/2021   \n",
       "\n",
       "     FechaMin  ... cantM02 cantD01  75mayor  90mayor  90%  99mayor  99%  \\\n",
       "0  01/01/2021  ...       0       0      248      248  0.0       83  0.9   \n",
       "1  01/01/2021  ...       0     115      232      232  0.0       84  0.7   \n",
       "\n",
       "        LON      LAT    ALT  \n",
       "0 -80.39788 -4.48047  116.0  \n",
       "1 -80.39014 -4.48956  116.0  \n",
       "\n",
       "[2 rows x 27 columns]"
      ]
     },
     "execution_count": 58,
     "metadata": {},
     "output_type": "execute_result"
    }
   ],
   "source": [
    "\"\"\"\n",
    "Escojemos las mejores estaciones (por cantidad de datos conformes, estadisticas , etc)\n",
    "\"\"\"\n",
    "analisis2020 = f'{path_base}/Archivos/Reportes/Datos/analisis_2020.csv'\n",
    "analisis2021 = f'{path_base}/Archivos/Reportes/Datos/analisis_2021.csv'\n",
    "\n",
    "analisisTotal = f'{path_base}/Archivos/Reportes/Datos/analisis_2021.csv'\n",
    "\n",
    "\n",
    "dfAna20 = pd.read_csv(analisis2020)\n",
    "dfAna21 = pd.read_csv(analisis2021)\n",
    "dfAnaTotal = pd.read_csv(analisisTotal)\n",
    "\n",
    "dfAnaTotal.head(2)"
   ]
  },
  {
   "cell_type": "code",
   "execution_count": 69,
   "id": "dc36ea21",
   "metadata": {},
   "outputs": [
    {
     "data": {
      "text/html": [
       "<div>\n",
       "<style scoped>\n",
       "    .dataframe tbody tr th:only-of-type {\n",
       "        vertical-align: middle;\n",
       "    }\n",
       "\n",
       "    .dataframe tbody tr th {\n",
       "        vertical-align: top;\n",
       "    }\n",
       "\n",
       "    .dataframe thead th {\n",
       "        text-align: right;\n",
       "    }\n",
       "</style>\n",
       "<table border=\"1\" class=\"dataframe\">\n",
       "  <thead>\n",
       "    <tr style=\"text-align: right;\">\n",
       "      <th></th>\n",
       "      <th>Codigo</th>\n",
       "      <th>count</th>\n",
       "      <th>POR_NO_C01</th>\n",
       "      <th>mean</th>\n",
       "      <th>cantM01</th>\n",
       "      <th>cantM02</th>\n",
       "      <th>cantC01</th>\n",
       "      <th>cantC02</th>\n",
       "      <th>cantD01</th>\n",
       "    </tr>\n",
       "  </thead>\n",
       "  <tbody>\n",
       "    <tr>\n",
       "      <th>191</th>\n",
       "      <td>X47E8201A</td>\n",
       "      <td>6403</td>\n",
       "      <td>0.055911</td>\n",
       "      <td>0.280087</td>\n",
       "      <td>0</td>\n",
       "      <td>0</td>\n",
       "      <td>6045</td>\n",
       "      <td>153</td>\n",
       "      <td>205</td>\n",
       "    </tr>\n",
       "    <tr>\n",
       "      <th>176</th>\n",
       "      <td>X114122</td>\n",
       "      <td>1605</td>\n",
       "      <td>0.071651</td>\n",
       "      <td>0.453271</td>\n",
       "      <td>0</td>\n",
       "      <td>0</td>\n",
       "      <td>1490</td>\n",
       "      <td>1</td>\n",
       "      <td>114</td>\n",
       "    </tr>\n",
       "  </tbody>\n",
       "</table>\n",
       "</div>"
      ],
      "text/plain": [
       "        Codigo  count  POR_NO_C01      mean  cantM01  cantM02  cantC01  \\\n",
       "191  X47E8201A   6403    0.055911  0.280087        0        0     6045   \n",
       "176    X114122   1605    0.071651  0.453271        0        0     1490   \n",
       "\n",
       "     cantC02  cantD01  \n",
       "191      153      205  \n",
       "176        1      114  "
      ]
     },
     "execution_count": 69,
     "metadata": {},
     "output_type": "execute_result"
    }
   ],
   "source": [
    "bestMean = 30\n",
    "bestConf = 20\n",
    "\n",
    "dfMejor = dfAnaTotal.sort_values('mean',ascending=False).head(bestMean)\n",
    "dfMejor['POR_NO_C01'] = 1 - dfAnaTotal['cantC01'] / dfAna21['count']\n",
    "dfMejor = dfMejor.sort_values(['cantM01','POR_NO_C01'], ascending=True).head(bestConf)[['Codigo','count','POR_NO_C01','mean','cantM01','cantM02','cantC01','cantC02','cantD01']]\n",
    "\n",
    "dfMejor.head(2)"
   ]
  },
  {
   "cell_type": "code",
   "execution_count": 107,
   "id": "b317ce39",
   "metadata": {},
   "outputs": [],
   "source": [
    "\"\"\"\n",
    "dfGraficar = dfMejor[0:19]\n",
    "\n",
    "#Graficomos las estaciones para el ds de clasificaicon\n",
    "ax = plt.axes(projection=ccrs.PlateCarree())\n",
    "plt.title(f'DS_1 (Regresion - EST) - Peru ({len(dfMejor)} estaciones)')\n",
    "ax.set_extent([lons.min(), lons.max(), lats.min(),lats.max()], ccrs.PlateCarree())\n",
    "\n",
    "for x in dfGraficar.index:\n",
    "    st = dfEstaciones[dfEstaciones['CODE'] == f'{dfGraficar[\"Codigo\"][x]}']    \n",
    "    if not st.empty: \n",
    "        #print(st)\n",
    "        x = st['LON']#.iloc[0]\n",
    "        y = st['LAT']#.iloc[0]\n",
    "        plt.plot(x, y,  1, marker='o', color='red',alpha=0.45)    \n",
    "    \n",
    "ax.coastlines(resolution='110m')\n",
    "plt.savefig(f'{path_base}/Archivos/Reportes/Plots/MAPA_DS_01(REG-EST).png')\n",
    "plt.show()\n",
    "\"\"\"\n",
    "a=0"
   ]
  },
  {
   "cell_type": "code",
   "execution_count": 117,
   "id": "8b05cf60",
   "metadata": {},
   "outputs": [
    {
     "data": {
      "image/png": "[encoded data removed]",
      "text/plain": [
       "<Figure size 432x288 with 1 Axes>"
      ]
     },
     "metadata": {
      "needs_background": "light"
     },
     "output_type": "display_data"
    }
   ],
   "source": [
    "\n",
    "dfLimpioREG_EST['xcodigo'] = 'X' + dfLimpioREG_EST['codigo']\n",
    "dfGraficar =  dfMejor[dfMejor['Codigo'].isin(dfLimpioREG_EST['xcodigo'].unique().tolist())][0:15]\n",
    "\n",
    "#Graficomos las estaciones para el ds de clasificaicon\n",
    "ax = plt.axes(projection=ccrs.PlateCarree())\n",
    "plt.title(f'DS_1 (Regresion - EST) - Peru ({len(dfGraficar)} estaciones)')\n",
    "ax.set_extent([lons.min(), lons.max(), lats.min(),lats.max()], ccrs.PlateCarree())\n",
    "\n",
    "for x in dfGraficar.index:\n",
    "    st = dfEstaciones[dfEstaciones['CODE'] == f'{dfGraficar[\"Codigo\"][x]}']    \n",
    "    if not st.empty: \n",
    "        #print(st)\n",
    "        x = st['LON']#.iloc[0]\n",
    "        y = st['LAT']#.iloc[0]\n",
    "        plt.plot(x, y,  1, marker='o', color='red',alpha=0.45)    \n",
    "    \n",
    "ax.coastlines(resolution='110m')\n",
    "#plt.savefig(f'{path_base}/Archivos/Reportes/Plots/MAPA_DS_01(REG-EST).png')\n",
    "plt.show()\n"
   ]
  },
  {
   "cell_type": "code",
   "execution_count": 32,
   "id": "085f80e4",
   "metadata": {},
   "outputs": [
    {
     "data": {
      "text/html": [
       "<div>\n",
       "<style scoped>\n",
       "    .dataframe tbody tr th:only-of-type {\n",
       "        vertical-align: middle;\n",
       "    }\n",
       "\n",
       "    .dataframe tbody tr th {\n",
       "        vertical-align: top;\n",
       "    }\n",
       "\n",
       "    .dataframe thead th {\n",
       "        text-align: right;\n",
       "    }\n",
       "</style>\n",
       "<table border=\"1\" class=\"dataframe\">\n",
       "  <thead>\n",
       "    <tr style=\"text-align: right;\">\n",
       "      <th></th>\n",
       "      <th>Unnamed: 0</th>\n",
       "      <th>Codigo</th>\n",
       "      <th>count</th>\n",
       "      <th>POR_NO_C01</th>\n",
       "      <th>mean</th>\n",
       "      <th>cantM01</th>\n",
       "      <th>cantM02</th>\n",
       "      <th>cantC01</th>\n",
       "      <th>cantC02</th>\n",
       "      <th>cantD01</th>\n",
       "    </tr>\n",
       "  </thead>\n",
       "  <tbody>\n",
       "    <tr>\n",
       "      <th>0</th>\n",
       "      <td>191</td>\n",
       "      <td>X47E8201A</td>\n",
       "      <td>6403</td>\n",
       "      <td>0.055911</td>\n",
       "      <td>0.280087</td>\n",
       "      <td>0</td>\n",
       "      <td>0</td>\n",
       "      <td>6045</td>\n",
       "      <td>153</td>\n",
       "      <td>205</td>\n",
       "    </tr>\n",
       "    <tr>\n",
       "      <th>1</th>\n",
       "      <td>176</td>\n",
       "      <td>X114122</td>\n",
       "      <td>1605</td>\n",
       "      <td>0.071651</td>\n",
       "      <td>0.453271</td>\n",
       "      <td>0</td>\n",
       "      <td>0</td>\n",
       "      <td>1490</td>\n",
       "      <td>1</td>\n",
       "      <td>114</td>\n",
       "    </tr>\n",
       "    <tr>\n",
       "      <th>2</th>\n",
       "      <td>133</td>\n",
       "      <td>X47E845FC</td>\n",
       "      <td>7627</td>\n",
       "      <td>0.093090</td>\n",
       "      <td>0.374446</td>\n",
       "      <td>0</td>\n",
       "      <td>0</td>\n",
       "      <td>6917</td>\n",
       "      <td>455</td>\n",
       "      <td>255</td>\n",
       "    </tr>\n",
       "    <tr>\n",
       "      <th>3</th>\n",
       "      <td>140</td>\n",
       "      <td>X47E8568A</td>\n",
       "      <td>2253</td>\n",
       "      <td>0.094541</td>\n",
       "      <td>0.403817</td>\n",
       "      <td>0</td>\n",
       "      <td>0</td>\n",
       "      <td>2040</td>\n",
       "      <td>150</td>\n",
       "      <td>63</td>\n",
       "    </tr>\n",
       "    <tr>\n",
       "      <th>4</th>\n",
       "      <td>139</td>\n",
       "      <td>X472D1624</td>\n",
       "      <td>3021</td>\n",
       "      <td>0.139358</td>\n",
       "      <td>0.658358</td>\n",
       "      <td>0</td>\n",
       "      <td>0</td>\n",
       "      <td>2600</td>\n",
       "      <td>132</td>\n",
       "      <td>289</td>\n",
       "    </tr>\n",
       "    <tr>\n",
       "      <th>5</th>\n",
       "      <td>186</td>\n",
       "      <td>X47E880E2</td>\n",
       "      <td>2282</td>\n",
       "      <td>0.145925</td>\n",
       "      <td>0.240710</td>\n",
       "      <td>0</td>\n",
       "      <td>134</td>\n",
       "      <td>1949</td>\n",
       "      <td>160</td>\n",
       "      <td>41</td>\n",
       "    </tr>\n",
       "    <tr>\n",
       "      <th>6</th>\n",
       "      <td>198</td>\n",
       "      <td>X107130</td>\n",
       "      <td>2286</td>\n",
       "      <td>0.171041</td>\n",
       "      <td>0.248250</td>\n",
       "      <td>0</td>\n",
       "      <td>0</td>\n",
       "      <td>1895</td>\n",
       "      <td>273</td>\n",
       "      <td>118</td>\n",
       "    </tr>\n",
       "    <tr>\n",
       "      <th>7</th>\n",
       "      <td>137</td>\n",
       "      <td>X47E87066</td>\n",
       "      <td>1648</td>\n",
       "      <td>0.221481</td>\n",
       "      <td>0.214017</td>\n",
       "      <td>0</td>\n",
       "      <td>0</td>\n",
       "      <td>1283</td>\n",
       "      <td>18</td>\n",
       "      <td>365</td>\n",
       "    </tr>\n",
       "    <tr>\n",
       "      <th>8</th>\n",
       "      <td>138</td>\n",
       "      <td>X4727A4F8</td>\n",
       "      <td>8749</td>\n",
       "      <td>0.055206</td>\n",
       "      <td>0.304012</td>\n",
       "      <td>1</td>\n",
       "      <td>0</td>\n",
       "      <td>8266</td>\n",
       "      <td>346</td>\n",
       "      <td>137</td>\n",
       "    </tr>\n",
       "    <tr>\n",
       "      <th>9</th>\n",
       "      <td>125</td>\n",
       "      <td>X47252718</td>\n",
       "      <td>4890</td>\n",
       "      <td>0.073824</td>\n",
       "      <td>0.271963</td>\n",
       "      <td>1</td>\n",
       "      <td>0</td>\n",
       "      <td>4529</td>\n",
       "      <td>146</td>\n",
       "      <td>215</td>\n",
       "    </tr>\n",
       "    <tr>\n",
       "      <th>10</th>\n",
       "      <td>154</td>\n",
       "      <td>X47E8336C</td>\n",
       "      <td>2286</td>\n",
       "      <td>0.086614</td>\n",
       "      <td>0.296150</td>\n",
       "      <td>1</td>\n",
       "      <td>0</td>\n",
       "      <td>2088</td>\n",
       "      <td>131</td>\n",
       "      <td>67</td>\n",
       "    </tr>\n",
       "    <tr>\n",
       "      <th>11</th>\n",
       "      <td>193</td>\n",
       "      <td>X4725C4EA</td>\n",
       "      <td>2462</td>\n",
       "      <td>0.080016</td>\n",
       "      <td>0.484565</td>\n",
       "      <td>2</td>\n",
       "      <td>0</td>\n",
       "      <td>2265</td>\n",
       "      <td>100</td>\n",
       "      <td>97</td>\n",
       "    </tr>\n",
       "    <tr>\n",
       "      <th>12</th>\n",
       "      <td>62</td>\n",
       "      <td>X472D60B4</td>\n",
       "      <td>8563</td>\n",
       "      <td>0.090856</td>\n",
       "      <td>0.285928</td>\n",
       "      <td>2</td>\n",
       "      <td>0</td>\n",
       "      <td>7785</td>\n",
       "      <td>363</td>\n",
       "      <td>418</td>\n",
       "    </tr>\n",
       "    <tr>\n",
       "      <th>13</th>\n",
       "      <td>40</td>\n",
       "      <td>X47E207A4</td>\n",
       "      <td>8229</td>\n",
       "      <td>0.100134</td>\n",
       "      <td>0.258987</td>\n",
       "      <td>3</td>\n",
       "      <td>0</td>\n",
       "      <td>7405</td>\n",
       "      <td>561</td>\n",
       "      <td>263</td>\n",
       "    </tr>\n",
       "    <tr>\n",
       "      <th>14</th>\n",
       "      <td>187</td>\n",
       "      <td>X112264</td>\n",
       "      <td>7571</td>\n",
       "      <td>0.105798</td>\n",
       "      <td>0.432175</td>\n",
       "      <td>4</td>\n",
       "      <td>0</td>\n",
       "      <td>6770</td>\n",
       "      <td>399</td>\n",
       "      <td>402</td>\n",
       "    </tr>\n",
       "    <tr>\n",
       "      <th>15</th>\n",
       "      <td>148</td>\n",
       "      <td>X472976F8</td>\n",
       "      <td>8689</td>\n",
       "      <td>0.044884</td>\n",
       "      <td>0.859121</td>\n",
       "      <td>6</td>\n",
       "      <td>0</td>\n",
       "      <td>8299</td>\n",
       "      <td>220</td>\n",
       "      <td>170</td>\n",
       "    </tr>\n",
       "    <tr>\n",
       "      <th>16</th>\n",
       "      <td>124</td>\n",
       "      <td>X4727547C</td>\n",
       "      <td>8741</td>\n",
       "      <td>0.091294</td>\n",
       "      <td>0.326462</td>\n",
       "      <td>6</td>\n",
       "      <td>0</td>\n",
       "      <td>7943</td>\n",
       "      <td>390</td>\n",
       "      <td>409</td>\n",
       "    </tr>\n",
       "    <tr>\n",
       "      <th>17</th>\n",
       "      <td>126</td>\n",
       "      <td>X47288486</td>\n",
       "      <td>8739</td>\n",
       "      <td>0.109624</td>\n",
       "      <td>0.368040</td>\n",
       "      <td>6</td>\n",
       "      <td>0</td>\n",
       "      <td>7781</td>\n",
       "      <td>510</td>\n",
       "      <td>452</td>\n",
       "    </tr>\n",
       "    <tr>\n",
       "      <th>18</th>\n",
       "      <td>183</td>\n",
       "      <td>X107131</td>\n",
       "      <td>8644</td>\n",
       "      <td>0.166127</td>\n",
       "      <td>0.250497</td>\n",
       "      <td>7</td>\n",
       "      <td>0</td>\n",
       "      <td>7208</td>\n",
       "      <td>1108</td>\n",
       "      <td>328</td>\n",
       "    </tr>\n",
       "  </tbody>\n",
       "</table>\n",
       "</div>"
      ],
      "text/plain": [
       "    Unnamed: 0     Codigo  count  POR_NO_C01      mean  cantM01  cantM02  \\\n",
       "0          191  X47E8201A   6403    0.055911  0.280087        0        0   \n",
       "1          176    X114122   1605    0.071651  0.453271        0        0   \n",
       "2          133  X47E845FC   7627    0.093090  0.374446        0        0   \n",
       "3          140  X47E8568A   2253    0.094541  0.403817        0        0   \n",
       "4          139  X472D1624   3021    0.139358  0.658358        0        0   \n",
       "5          186  X47E880E2   2282    0.145925  0.240710        0      134   \n",
       "6          198    X107130   2286    0.171041  0.248250        0        0   \n",
       "7          137  X47E87066   1648    0.221481  0.214017        0        0   \n",
       "8          138  X4727A4F8   8749    0.055206  0.304012        1        0   \n",
       "9          125  X47252718   4890    0.073824  0.271963        1        0   \n",
       "10         154  X47E8336C   2286    0.086614  0.296150        1        0   \n",
       "11         193  X4725C4EA   2462    0.080016  0.484565        2        0   \n",
       "12          62  X472D60B4   8563    0.090856  0.285928        2        0   \n",
       "13          40  X47E207A4   8229    0.100134  0.258987        3        0   \n",
       "14         187    X112264   7571    0.105798  0.432175        4        0   \n",
       "15         148  X472976F8   8689    0.044884  0.859121        6        0   \n",
       "16         124  X4727547C   8741    0.091294  0.326462        6        0   \n",
       "17         126  X47288486   8739    0.109624  0.368040        6        0   \n",
       "18         183    X107131   8644    0.166127  0.250497        7        0   \n",
       "\n",
       "    cantC01  cantC02  cantD01  \n",
       "0      6045      153      205  \n",
       "1      1490        1      114  \n",
       "2      6917      455      255  \n",
       "3      2040      150       63  \n",
       "4      2600      132      289  \n",
       "5      1949      160       41  \n",
       "6      1895      273      118  \n",
       "7      1283       18      365  \n",
       "8      8266      346      137  \n",
       "9      4529      146      215  \n",
       "10     2088      131       67  \n",
       "11     2265      100       97  \n",
       "12     7785      363      418  \n",
       "13     7405      561      263  \n",
       "14     6770      399      402  \n",
       "15     8299      220      170  \n",
       "16     7943      390      409  \n",
       "17     7781      510      452  \n",
       "18     7208     1108      328  "
      ]
     },
     "execution_count": 32,
     "metadata": {},
     "output_type": "execute_result"
    }
   ],
   "source": [
    "dfGraficar = pd.read_csv(f'{path_base}/Archivos/Reportes/Datos/19MejoresEstaciones.csv')\n",
    "dfGraficar#.head(2)"
   ]
  },
  {
   "cell_type": "code",
   "execution_count": 97,
   "id": "88baa5dd",
   "metadata": {},
   "outputs": [],
   "source": [
    "\"\"\"\n",
    "Regresion\n",
    "\"\"\"\n",
    "comentarioREG_EST = 'El dataset es para lso modelos de regresion, se usa como output el dato \\\n",
    "            Se ha realizado una limpieza de datos (quitado datos malos 1 y verificado que exista \\\n",
    "            las imagenes satelitales). ADICIONALMENTE, se esta limitando los datos a estaciones especificas,\\\n",
    "            las cuales fueron escogidas luego del analisis'\n",
    "\n",
    "p_reg_est = {    \n",
    "    # parametros del proyecto\n",
    "    'products'   : products,\n",
    "    'times'      : times,\n",
    "    'path_base'  : path_base,\n",
    "\n",
    "    # parametros del dataset\n",
    "    'ceros'      : 0.8,   \n",
    "    'flags'      : ['C0000002'],\n",
    "    'flagV2'     : ['D01','D02','C01'],\n",
    "    'estaciones' : [x[1:] for x in dfGraficar['Codigo'].unique().tolist()],\n",
    "    'delete'     : True,\n",
    "    \n",
    "    # Split\n",
    "    'pruebas'    : 0.01,\n",
    "    'validacion' : 0.2,\n",
    "    \n",
    "    # Modelo\n",
    "    'redTipo'    : 'Regresion',\n",
    "    \n",
    "    # PARA MODELOS DE CLASIFICACION\n",
    "    'claseName'  : '',\n",
    "    'condicion_1': [],    \n",
    "    \n",
    "    # Nombres\n",
    "    'nameDS'     : 'Dato_EST',       \n",
    "}"
   ]
  },
  {
   "cell_type": "code",
   "execution_count": 98,
   "id": "09b6f0bf",
   "metadata": {},
   "outputs": [
    {
     "name": "stdout",
     "output_type": "stream",
     "text": [
      "Tipo de dataset: Regresion\n",
      "Se leera los archivos de datasets...\n",
      "Tiempo tomado: 4.08s\n",
      "+Cantidad de datos leidos 2494399\n",
      "\n",
      "Se elimnara los valores nulos y dudosos\n",
      "Tiempo tomado: 5.00s\n",
      "+Cantidad de datos luego de elimnar nulos 2494216\n",
      "\n",
      "Se buscara las imagenes satelitales para los datos...\n",
      "1837/42305 datos eliminados: No se encontraron los archivos de imagenes satelitales\n",
      "Tiempo tomado en verificar datos: 13.00s\n",
      "Tiempo tomado: 18.12s\n",
      "\n",
      "Se limitara el numero de ceros al 80.00 porciento...\n",
      "+Cantidad de datos luego de limtar ceros 38968\n",
      "\n",
      "Se agregara los datos de las estaciones(cordenadas, umbral)...\n",
      "-------> CANTIDAD FINAL DE DATOS :  38968 <--------------\n",
      "Tiempo total: 18.84s\n",
      "Se limitara el DS a 19 estaciones\n",
      "Tamaño de los datasets: \n",
      "TRAIN   : 3726\n",
      "VALID   : 933\n",
      "PRUEBAS : 49\n"
     ]
    }
   ],
   "source": [
    "dfLimpioREG_EST = getModelo_DS(listDataset, path_imagenes, p_reg_est ,comentario=comentarioREG_EST)"
   ]
  },
  {
   "cell_type": "code",
   "execution_count": 21,
   "id": "073c7030",
   "metadata": {},
   "outputs": [],
   "source": [
    "dfLimpioREG_EST = pd.read_csv(f'{path_base}/Archivos/Dataset/Regresion/Dato_EST_CompletoDS.csv')"
   ]
  },
  {
   "cell_type": "code",
   "execution_count": 22,
   "id": "bfb9a5e9",
   "metadata": {},
   "outputs": [
    {
     "name": "stdout",
     "output_type": "stream",
     "text": [
      "           ESTADISCIAS DEL DS_1_EST \n",
      "\n",
      "Flags       : ['C0000002']\n",
      "Estaciones  : 152\n",
      "Totales     : 38968\n",
      "Ceros       : 5998\n",
      "Entre 0 y 1 : 19330\n",
      "Mayores a 1 : 793\n",
      "Maximo      : 66.9\n",
      "Media       : 1.4179947649353317\n",
      "STD         : 3.0000368972801\n"
     ]
    },
    {
     "data": {
      "text/plain": [
       "<AxesSubplot:>"
      ]
     },
     "execution_count": 22,
     "metadata": {},
     "output_type": "execute_result"
    },
    {
     "data": {
      "image/png": "[encoded data removed]",
      "text/plain": [
       "<Figure size 432x288 with 1 Axes>"
      ]
     },
     "metadata": {
      "needs_background": "light"
     },
     "output_type": "display_data"
    }
   ],
   "source": [
    "print('           ESTADISCIAS DEL DS_1_EST \\n')\n",
    "\n",
    "print(f'Flags       : {dfLimpioREG_EST[\"flag\"].unique()}')\n",
    "print(f'Estaciones  : {len(dfLimpioREG_EST[\"codigo\"].unique())}')\n",
    "print(f'Totales     : {dfLimpioREG_EST[\"dato\"].count()}')\n",
    "print(f'Ceros       : {dfLimpioREG_EST[dfLimpioREG_EST[\"dato\"]==0][\"dato\"].count()}')\n",
    "print(f'Entre 0 y 1 : {dfLimpioREG_EST[(dfLimpioREG_EST[\"dato\"]>0) & (dfLimpioREG_EST[\"dato\"]<1)][\"dato\"].count()}')\n",
    "print(f'Mayores a 1 : {dfLimpioREG_EST[dfLimpioREG_EST[\"dato\"]>10][\"dato\"].count()}')\n",
    "print(f'Maximo      : {dfLimpioREG_EST[\"dato\"].max()}')\n",
    "print(f'Media       : {dfLimpioREG_EST[\"dato\"].mean()}')\n",
    "print(f'STD         : {dfLimpioREG_EST[\"dato\"].std()}')\n",
    "\n",
    "#_dataset[_dataset[\"dato\"]!=0][\"dato\"].hist(legend=True)\n",
    "#_dataset[_dataset[\"dato\"]>1][\"dato\"].hist(legend=True)\n",
    "dfLimpioREG_EST['dato'].hist(legend=True)"
   ]
  },
  {
   "cell_type": "code",
   "execution_count": 55,
   "id": "a7854821",
   "metadata": {},
   "outputs": [],
   "source": [
    "\"\"\"\n",
    "Regresion\n",
    "\"\"\"\n",
    "comentarioREG_V2 = 'El dataset es para lso modelos de regresion, se usa como output el dato \\\n",
    "            Se ha realizado una limpieza de datos (quitado datos malos 1 y verificado que exista \\\n",
    "            las imagenes satelitales). ADICIONALMENTE, La version 2, es ya que solo se escojen los datos elevados \\\n",
    "            > 1, con un porcentaje pequeño de ceros'\n",
    "\n",
    "p_reg_v2 = {    \n",
    "    # parametros del proyecto\n",
    "    'products'   : products,\n",
    "    'times'      : times,\n",
    "    'path_base'  : path_base,\n",
    "\n",
    "    # parametros del dataset\n",
    "    'ceros'      : 0.1,   \n",
    "    'flags'      : ['C0000002'],\n",
    "    'flagV2'     : ['D01','D02','C01'],\n",
    "    'estaciones' : [],\n",
    "    'delete'     : True,\n",
    "    \n",
    "    # Split\n",
    "    'pruebas'    : 0.01,\n",
    "    'validacion' : 0.2,\n",
    "    \n",
    "    # Modelo\n",
    "    'redTipo'    : 'Regresion',\n",
    "    \n",
    "    # PARA MODELOS DE CLASIFICACION\n",
    "    'claseName'  : '',\n",
    "    'condicion_1': [],    \n",
    "    \n",
    "    # Nombres\n",
    "    'nameDS'     : 'Dato_V2',       \n",
    "}"
   ]
  },
  {
   "cell_type": "code",
   "execution_count": 56,
   "id": "2fcb6060",
   "metadata": {},
   "outputs": [
    {
     "name": "stdout",
     "output_type": "stream",
     "text": [
      "12635\n"
     ]
    },
    {
     "data": {
      "text/plain": [
       "<AxesSubplot:>"
      ]
     },
     "execution_count": 56,
     "metadata": {},
     "output_type": "execute_result"
    },
    {
     "data": {
      "image/png": "[encoded data removed]",
      "text/plain": [
       "<Figure size 432x288 with 1 Axes>"
      ]
     },
     "metadata": {
      "needs_background": "light"
     },
     "output_type": "display_data"
    }
   ],
   "source": [
    "limit = 1\n",
    "print(dfLimpioREG_EST[dfLimpioREG_EST['dato']>limit]['dato'].count())\n",
    "dfREG_V2 = dfLimpioREG_EST[dfLimpioREG_EST['dato']>limit]\n",
    "dfREG_V2['dato'].hist(legend=True)"
   ]
  },
  {
   "cell_type": "code",
   "execution_count": 57,
   "id": "3c998c97",
   "metadata": {},
   "outputs": [
    {
     "name": "stdout",
     "output_type": "stream",
     "text": [
      "Tipo de dataset: Regresion\n",
      "Se leera los archivos de datasets...\n",
      "Tiempo tomado: 0.00s\n",
      "+Cantidad de datos leidos 12635\n",
      "\n",
      "Se elimnara los valores nulos y dudosos\n",
      "Tiempo tomado: 0.02s\n",
      "+Cantidad de datos luego de elimnar nulos 12635\n",
      "\n",
      "Se buscara las imagenes satelitales para los datos...\n"
     ]
    },
    {
     "name": "stderr",
     "output_type": "stream",
     "text": [
      "C:\\Users\\Shounen\\AppData\\Local\\Temp\\ipykernel_5760\\1950932386.py:27: SettingWithCopyWarning: \n",
      "A value is trying to be set on a copy of a slice from a DataFrame\n",
      "\n",
      "See the caveats in the documentation: https://pandas.pydata.org/pandas-docs/stable/user_guide/indexing.html#returning-a-view-versus-a-copy\n",
      "  dsCompleto.dropna(subset=['dato'], axis='index', inplace=True)\n"
     ]
    },
    {
     "name": "stdout",
     "output_type": "stream",
     "text": [
      "0/12635 datos eliminados: No se encontraron los archivos de imagenes satelitales\n",
      "Tiempo tomado en verificar datos: 1.85s\n",
      "Tiempo tomado: 1.87s\n",
      "\n",
      "Se limitara el numero de ceros al 10.00 porciento...\n",
      "+Cantidad de datos luego de limtar ceros 12635\n",
      "\n",
      "Se agregara los datos de las estaciones(cordenadas, umbral)...\n",
      "-------> CANTIDAD FINAL DE DATOS :  12635 <--------------\n",
      "Tiempo total: 2.03s\n",
      "Tamaño de los datasets: \n",
      "TRAIN   : 10006\n",
      "VALID   : 2502\n",
      "PRUEBAS : 127\n"
     ]
    }
   ],
   "source": [
    "dfLimpioREG_V2 = getModelo_DS(dfREG_V2,path_imagenes, p_reg_v2 ,comentario=comentarioREG_V2, read=False)"
   ]
  },
  {
   "cell_type": "code",
   "execution_count": 54,
   "id": "77f12414",
   "metadata": {},
   "outputs": [
    {
     "name": "stdout",
     "output_type": "stream",
     "text": [
      "           ESTADISCIAS DEL DS_1_V2 \n",
      "\n",
      "Flags       : ['C0000002']\n",
      "Estaciones  : 144\n",
      "Totales     : 12635\n",
      "Ceros       : 0\n",
      "Entre 0 y 1 : 0\n",
      "Mayores a 1 : 793\n",
      "Maximo      : 66.9\n",
      "Media       : 3.7574895132568265\n",
      "STD         : 4.413612288610599\n"
     ]
    },
    {
     "data": {
      "text/plain": [
       "<AxesSubplot:>"
      ]
     },
     "execution_count": 54,
     "metadata": {},
     "output_type": "execute_result"
    },
    {
     "data": {
      "image/png": "[encoded data removed]",
      "text/plain": [
       "<Figure size 432x288 with 1 Axes>"
      ]
     },
     "metadata": {
      "needs_background": "light"
     },
     "output_type": "display_data"
    }
   ],
   "source": [
    "print('           ESTADISCIAS DEL DS_1_V2 \\n')\n",
    "\n",
    "print(f'Flags       : {dfLimpioREG_V2[\"flag\"].unique()}')\n",
    "print(f'Estaciones  : {len(dfLimpioREG_V2[\"codigo\"].unique())}')\n",
    "print(f'Totales     : {dfLimpioREG_V2[\"dato\"].count()}')\n",
    "print(f'Ceros       : {dfLimpioREG_V2[dfLimpioREG_V2[\"dato\"]==0][\"dato\"].count()}')\n",
    "print(f'Entre 0 y 1 : {dfLimpioREG_V2[(dfLimpioREG_V2[\"dato\"]>0) & (dfLimpioREG_V2[\"dato\"]<1)][\"dato\"].count()}')\n",
    "print(f'Mayores a 1 : {dfLimpioREG_V2[dfLimpioREG_V2[\"dato\"]>10][\"dato\"].count()}')\n",
    "print(f'Maximo      : {dfLimpioREG_V2[\"dato\"].max()}')\n",
    "print(f'Media       : {dfLimpioREG_V2[\"dato\"].mean()}')\n",
    "print(f'STD         : {dfLimpioREG_V2[\"dato\"].std()}')\n",
    "\n",
    "#_dataset[_dataset[\"dato\"]!=0][\"dato\"].hist(legend=True)\n",
    "#_dataset[_dataset[\"dato\"]>1][\"dato\"].hist(legend=True)\n",
    "dfLimpioREG_V2['dato'].hist(legend=True)"
   ]
  },
  {
   "cell_type": "code",
   "execution_count": 59,
   "id": "7f62e902",
   "metadata": {},
   "outputs": [],
   "source": [
    "\"\"\"\n",
    "Regresion\n",
    "\"\"\"\n",
    "comentarioREG_V3 = 'El dataset es para lso modelos de regresion, se usa como output el dato \\\n",
    "            Se ha realizado una limpieza de datos (quitado datos malos 1 y verificado que exista \\\n",
    "            las imagenes satelitales). ADICIONALMENTE, La version 3, es ya que solo se escojen los datos pequños \\\n",
    "            < 1, con un porcentaje pequeño de ceros'\n",
    "\n",
    "p_reg_v3 = {    \n",
    "    # parametros del proyecto\n",
    "    'products'   : products,\n",
    "    'times'      : times,\n",
    "    'path_base'  : path_base,\n",
    "\n",
    "    # parametros del dataset\n",
    "    'ceros'      : 0.1,   \n",
    "    'flags'      : ['C0000002'],\n",
    "    'flagV2'     : ['D01','D02','C01'],\n",
    "    'estaciones' : [],\n",
    "    'delete'     : True,\n",
    "    \n",
    "    # Split\n",
    "    'pruebas'    : 0.01,\n",
    "    'validacion' : 0.2,\n",
    "    \n",
    "    # Modelo\n",
    "    'redTipo'    : 'Regresion',\n",
    "    \n",
    "    # PARA MODELOS DE CLASIFICACION\n",
    "    'claseName'  : '',\n",
    "    'condicion_1': [],    \n",
    "    \n",
    "    # Nombres\n",
    "    'nameDS'     : 'Dato_V3',       \n",
    "}"
   ]
  },
  {
   "cell_type": "code",
   "execution_count": 60,
   "id": "67cc0f4e",
   "metadata": {},
   "outputs": [
    {
     "name": "stdout",
     "output_type": "stream",
     "text": [
      "25328\n"
     ]
    },
    {
     "data": {
      "text/plain": [
       "<AxesSubplot:>"
      ]
     },
     "execution_count": 60,
     "metadata": {},
     "output_type": "execute_result"
    },
    {
     "data": {
      "image/png": "[encoded data removed]",
      "text/plain": [
       "<Figure size 432x288 with 1 Axes>"
      ]
     },
     "metadata": {
      "needs_background": "light"
     },
     "output_type": "display_data"
    }
   ],
   "source": [
    "limit = 1\n",
    "print(dfLimpioREG_EST[dfLimpioREG_EST['dato']<limit]['dato'].count())\n",
    "dfREG_V3 = dfLimpioREG_EST[dfLimpioREG_EST['dato']<limit]\n",
    "dfREG_V3['dato'].hist(legend=True)"
   ]
  },
  {
   "cell_type": "code",
   "execution_count": 61,
   "id": "dc8a432b",
   "metadata": {},
   "outputs": [
    {
     "name": "stdout",
     "output_type": "stream",
     "text": [
      "Tipo de dataset: Regresion\n",
      "Se leera los archivos de datasets...\n",
      "Tiempo tomado: 0.00s\n",
      "+Cantidad de datos leidos 25328\n",
      "\n",
      "Se elimnara los valores nulos y dudosos\n",
      "Tiempo tomado: 0.02s\n",
      "+Cantidad de datos luego de elimnar nulos 25328\n",
      "\n",
      "Se buscara las imagenes satelitales para los datos...\n"
     ]
    },
    {
     "name": "stderr",
     "output_type": "stream",
     "text": [
      "C:\\Users\\Shounen\\AppData\\Local\\Temp\\ipykernel_5760\\1950932386.py:27: SettingWithCopyWarning: \n",
      "A value is trying to be set on a copy of a slice from a DataFrame\n",
      "\n",
      "See the caveats in the documentation: https://pandas.pydata.org/pandas-docs/stable/user_guide/indexing.html#returning-a-view-versus-a-copy\n",
      "  dsCompleto.dropna(subset=['dato'], axis='index', inplace=True)\n"
     ]
    },
    {
     "name": "stdout",
     "output_type": "stream",
     "text": [
      "0/25328 datos eliminados: No se encontraron los archivos de imagenes satelitales\n",
      "Tiempo tomado en verificar datos: 2.67s\n",
      "Tiempo tomado: 2.69s\n",
      "\n",
      "Se limitara el numero de ceros al 10.00 porciento...\n",
      "+Cantidad de datos luego de limtar ceros 19930\n",
      "\n",
      "Se agregara los datos de las estaciones(cordenadas, umbral)...\n",
      "-------> CANTIDAD FINAL DE DATOS :  19930 <--------------\n",
      "Tiempo total: 2.94s\n",
      "Tamaño de los datasets: \n",
      "TRAIN   : 15783\n",
      "VALID   : 3947\n",
      "PRUEBAS : 200\n"
     ]
    }
   ],
   "source": [
    "dfLimpioREG_V3 = getModelo_DS(dfREG_V3,path_imagenes, p_reg_v3 ,comentario=comentarioREG_V3, read=False)"
   ]
  },
  {
   "cell_type": "code",
   "execution_count": 62,
   "id": "4d193926",
   "metadata": {},
   "outputs": [
    {
     "name": "stdout",
     "output_type": "stream",
     "text": [
      "           ESTADISCIAS DEL DS_1_V3 \n",
      "\n",
      "Flags       : ['C0000002']\n",
      "Estaciones  : 150\n",
      "Totales     : 19930\n",
      "Ceros       : 600\n",
      "Entre 0 y 1 : 19330\n",
      "Mayores a 1 : 0\n",
      "Maximo      : 0.9\n",
      "Media       : 0.3399668840943302\n",
      "STD         : 0.2510828751095747\n"
     ]
    },
    {
     "data": {
      "text/plain": [
       "<AxesSubplot:>"
      ]
     },
     "execution_count": 62,
     "metadata": {},
     "output_type": "execute_result"
    },
    {
     "data": {
      "image/png": "[encoded data removed]",
      "text/plain": [
       "<Figure size 432x288 with 1 Axes>"
      ]
     },
     "metadata": {
      "needs_background": "light"
     },
     "output_type": "display_data"
    }
   ],
   "source": [
    "print('           ESTADISCIAS DEL DS_1_V3 \\n')\n",
    "\n",
    "print(f'Flags       : {dfLimpioREG_V3[\"flag\"].unique()}')\n",
    "print(f'Estaciones  : {len(dfLimpioREG_V3[\"codigo\"].unique())}')\n",
    "print(f'Totales     : {dfLimpioREG_V3[\"dato\"].count()}')\n",
    "print(f'Ceros       : {dfLimpioREG_V3[dfLimpioREG_V3[\"dato\"]==0][\"dato\"].count()}')\n",
    "print(f'Entre 0 y 1 : {dfLimpioREG_V3[(dfLimpioREG_V3[\"dato\"]>0) & (dfLimpioREG_V3[\"dato\"]<1)][\"dato\"].count()}')\n",
    "print(f'Mayores a 1 : {dfLimpioREG_V3[dfLimpioREG_V3[\"dato\"]>10][\"dato\"].count()}')\n",
    "print(f'Maximo      : {dfLimpioREG_V3[\"dato\"].max()}')\n",
    "print(f'Media       : {dfLimpioREG_V3[\"dato\"].mean()}')\n",
    "print(f'STD         : {dfLimpioREG_V3[\"dato\"].std()}')\n",
    "\n",
    "#_dataset[_dataset[\"dato\"]!=0][\"dato\"].hist(legend=True)\n",
    "#_dataset[_dataset[\"dato\"]>1][\"dato\"].hist(legend=True)\n",
    "dfLimpioREG_V3['dato'].hist(legend=True)"
   ]
  },
  {
   "cell_type": "code",
   "execution_count": null,
   "id": "d3df72d8",
   "metadata": {},
   "outputs": [],
   "source": [
    "\"\"\"\n",
    "TEMPORALES - SE PUEDE BORRAR\n",
    "\"\"\""
   ]
  },
  {
   "cell_type": "code",
   "execution_count": 124,
   "id": "5d64f5de",
   "metadata": {},
   "outputs": [
    {
     "data": {
      "text/html": [
       "<div>\n",
       "<style scoped>\n",
       "    .dataframe tbody tr th:only-of-type {\n",
       "        vertical-align: middle;\n",
       "    }\n",
       "\n",
       "    .dataframe tbody tr th {\n",
       "        vertical-align: top;\n",
       "    }\n",
       "\n",
       "    .dataframe thead th {\n",
       "        text-align: right;\n",
       "    }\n",
       "</style>\n",
       "<table border=\"1\" class=\"dataframe\">\n",
       "  <thead>\n",
       "    <tr style=\"text-align: right;\">\n",
       "      <th></th>\n",
       "      <th>Codigo</th>\n",
       "      <th>count</th>\n",
       "      <th>cantM02</th>\n",
       "      <th>porcM1</th>\n",
       "    </tr>\n",
       "  </thead>\n",
       "  <tbody>\n",
       "    <tr>\n",
       "      <th>160</th>\n",
       "      <td>X4729658E</td>\n",
       "      <td>2624</td>\n",
       "      <td>840</td>\n",
       "      <td>0.008003</td>\n",
       "    </tr>\n",
       "    <tr>\n",
       "      <th>128</th>\n",
       "      <td>X47271776</td>\n",
       "      <td>8723</td>\n",
       "      <td>743</td>\n",
       "      <td>0.001376</td>\n",
       "    </tr>\n",
       "    <tr>\n",
       "      <th>41</th>\n",
       "      <td>X47E1F02E</td>\n",
       "      <td>7862</td>\n",
       "      <td>513</td>\n",
       "      <td>0.000127</td>\n",
       "    </tr>\n",
       "    <tr>\n",
       "      <th>15</th>\n",
       "      <td>X472F43AC</td>\n",
       "      <td>8743</td>\n",
       "      <td>313</td>\n",
       "      <td>0.000686</td>\n",
       "    </tr>\n",
       "    <tr>\n",
       "      <th>151</th>\n",
       "      <td>X472935F2</td>\n",
       "      <td>7341</td>\n",
       "      <td>214</td>\n",
       "      <td>0.000545</td>\n",
       "    </tr>\n",
       "    <tr>\n",
       "      <th>...</th>\n",
       "      <td>...</td>\n",
       "      <td>...</td>\n",
       "      <td>...</td>\n",
       "      <td>...</td>\n",
       "    </tr>\n",
       "    <tr>\n",
       "      <th>78</th>\n",
       "      <td>X472EC742</td>\n",
       "      <td>8750</td>\n",
       "      <td>0</td>\n",
       "      <td>0.000114</td>\n",
       "    </tr>\n",
       "    <tr>\n",
       "      <th>79</th>\n",
       "      <td>X472E24B0</td>\n",
       "      <td>8749</td>\n",
       "      <td>0</td>\n",
       "      <td>0.000457</td>\n",
       "    </tr>\n",
       "    <tr>\n",
       "      <th>80</th>\n",
       "      <td>X47E33064</td>\n",
       "      <td>8750</td>\n",
       "      <td>0</td>\n",
       "      <td>0.000229</td>\n",
       "    </tr>\n",
       "    <tr>\n",
       "      <th>81</th>\n",
       "      <td>X472CA750</td>\n",
       "      <td>8751</td>\n",
       "      <td>0</td>\n",
       "      <td>0.000343</td>\n",
       "    </tr>\n",
       "    <tr>\n",
       "      <th>200</th>\n",
       "      <td>X110137</td>\n",
       "      <td>5827</td>\n",
       "      <td>0</td>\n",
       "      <td>0.000000</td>\n",
       "    </tr>\n",
       "  </tbody>\n",
       "</table>\n",
       "<p>201 rows × 4 columns</p>\n",
       "</div>"
      ],
      "text/plain": [
       "        Codigo  count  cantM02    porcM1\n",
       "160  X4729658E   2624      840  0.008003\n",
       "128  X47271776   8723      743  0.001376\n",
       "41   X47E1F02E   7862      513  0.000127\n",
       "15   X472F43AC   8743      313  0.000686\n",
       "151  X472935F2   7341      214  0.000545\n",
       "..         ...    ...      ...       ...\n",
       "78   X472EC742   8750        0  0.000114\n",
       "79   X472E24B0   8749        0  0.000457\n",
       "80   X47E33064   8750        0  0.000229\n",
       "81   X472CA750   8751        0  0.000343\n",
       "200    X110137   5827        0  0.000000\n",
       "\n",
       "[201 rows x 4 columns]"
      ]
     },
     "execution_count": 124,
     "metadata": {},
     "output_type": "execute_result"
    }
   ],
   "source": [
    "dfAnaTotalTemp = dfAnaTotal.copy()\n",
    "dfAnaTotalTemp['porcM1'] = dfAnaTotalTemp['cantM01'] /dfAnaTotalTemp['count']\n",
    "\n",
    "dfAnaTotalTemp.sort_values('cantM02',ascending=False)[['Codigo','count','cantM02', 'porcM1']]"
   ]
  }
 ],
 "metadata": {
  "kernelspec": {
   "display_name": "Python 3 (ipykernel)",
   "language": "python",
   "name": "python3"
  },
  "language_info": {
   "codemirror_mode": {
    "name": "ipython",
    "version": 3
   },
   "file_extension": ".py",
   "mimetype": "text/x-python",
   "name": "python",
   "nbconvert_exporter": "python",
   "pygments_lexer": "ipython3",
   "version": "3.9.11"
  }
 },
 "nbformat": 4,
 "nbformat_minor": 5
}
