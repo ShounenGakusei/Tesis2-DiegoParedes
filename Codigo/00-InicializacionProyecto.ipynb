{
 "cells": [
  {
   "cell_type": "code",
   "execution_count": 8,
   "id": "431cbf63",
   "metadata": {},
   "outputs": [],
   "source": [
    "\"\"\"\n",
    "Se creara las carpetas para el proyecto\n",
    "\"\"\"\n",
    "import os"
   ]
  },
  {
   "cell_type": "code",
   "execution_count": 24,
   "id": "3cdc7337",
   "metadata": {},
   "outputs": [
    {
     "data": {
      "text/plain": [
       "'C:/Users/Shounen/Desktop/Ciclo XI/Tesis 2/NewTesis'"
      ]
     },
     "execution_count": 24,
     "metadata": {},
     "output_type": "execute_result"
    }
   ],
   "source": [
    "\"\"\"\n",
    "DEFINIMOS EL PATH BASE DEL PROYECTO\n",
    "\"\"\"\n",
    "with open('../path_base.txt') as f:\n",
    "    path_base = f.read()\n",
    "path_base    "
   ]
  },
  {
   "cell_type": "code",
   "execution_count": 2,
   "id": "779a3e5f",
   "metadata": {},
   "outputs": [],
   "source": [
    "# Crea una carpeta en path\n",
    "def crearDir(path, newDir):\n",
    "    try:\n",
    "        pathT = os.path.join(path, newDir)\n",
    "        os.mkdir(pathT)\n",
    "        return pathT\n",
    "    except FileExistsError:\n",
    "        return pathT       \n",
    "    except:\n",
    "        print(f\"No se pudo crear el directorio: {newDir}\")\n",
    "        pritn(f'Path base: {path}')\n",
    "        pritn(f'Nuevo    : {newDir}')        \n",
    "        return None"
   ]
  },
  {
   "cell_type": "code",
   "execution_count": 3,
   "id": "4f4b53be",
   "metadata": {},
   "outputs": [],
   "source": [
    "# En este directorio se guardara el conjunto de datos PROCESADOS para el entrenamiento, validacion y pruebas\n",
    "# Estos estarán organizados por modelo-experimento\n",
    "def crearDatasetDir(path_base,modelos):\n",
    "    print(f'Creando directorio de dataset...', end =' ')\n",
    "    path_ds = crearDir(path_base,'Dataset')\n",
    "    \n",
    "    for modelo in modelos:\n",
    "        path_modelo = crearDir(path_ds,modelo)\n",
    "        \n",
    "        path_train = crearDir(path_modelo,'Entrenamiento')\n",
    "        path_prueba = crearDir(path_modelo,'Pruebas')\n",
    "        path_vald = crearDir(path_modelo,'Validacion')\n",
    "    print('DONE')"
   ]
  },
  {
   "cell_type": "code",
   "execution_count": 4,
   "id": "453c9c0a",
   "metadata": {},
   "outputs": [],
   "source": [
    "\n",
    "# En este directorio se guardaran los resultados de los experimentos (entrenamiento de los modelos), \n",
    "# estarán organizados por modelo-experimento\n",
    "def crearResultadosDir(path_base,modelos):\n",
    "    print(f'Creando directorio de resutlados...', end =' ')\n",
    "    path_result = crearDir(path_base,'Resultados')  \n",
    "    \n",
    "    for modelo in modelos:\n",
    "        path_modelo = crearDir(path_result,modelo)\n",
    "        \n",
    "    print('DONE')"
   ]
  },
  {
   "cell_type": "code",
   "execution_count": 13,
   "id": "3e9930ef",
   "metadata": {},
   "outputs": [],
   "source": [
    "# En este directorio se guardaran los reportes: Analisis de datos, comparacion de resultados, plots, etc.\n",
    "def crearReportesDir(path_base,modelos):\n",
    "    print(f'Creando directorio de reportes...', end =' ')\n",
    "    path_rep = crearDir(path_base,'Reportes')  \n",
    "    path_plot = crearDir(path_rep,'Plots')\n",
    "    path_analisis = crearDir(path_rep,'Datos')\n",
    "    path_pruebas = crearDir(path_rep,'Pruebas')\n",
    "    \n",
    "    path_train = crearDir(path_rep,'Entrenamiento')\n",
    "    \n",
    "    for modelo in modelos:\n",
    "        path_modelo = crearDir(path_train,modelo)    \n",
    "    \n",
    "    print('DONE')"
   ]
  },
  {
   "cell_type": "code",
   "execution_count": 14,
   "id": "6c54aa14",
   "metadata": {},
   "outputs": [],
   "source": [
    "# Crea todos los directorios para el proyecto\n",
    "def inicializarProyecto(path_base,modelos):\n",
    "    print(f'Inicializando carpetas del proyecto para {modelos}...')    \n",
    "    path_archivos = crearDir(path_base,'Archivos')\n",
    "    crearDir(path_archivos,'Inicial')\n",
    "        \n",
    "    crearDatasetDir(path_archivos,modelos)\n",
    "    crearResultadosDir(path_archivos,modelos)\n",
    "    crearReportesDir(path_archivos,modelos)    \n",
    "    print('Inicializacion terminada')"
   ]
  },
  {
   "cell_type": "code",
   "execution_count": 15,
   "id": "7e98cc7a",
   "metadata": {},
   "outputs": [
    {
     "name": "stdout",
     "output_type": "stream",
     "text": [
      "Inicializando carpetas del proyecto para ['Clasificacion', 'Regresion']...\n",
      "Creando directorio de dataset... DONE\n",
      "Creando directorio de resutlados... DONE\n",
      "Creando directorio de reportes... DONE\n",
      "Inicializacion terminada\n"
     ]
    }
   ],
   "source": [
    "modelos = ['Clasificacion', 'Regresion']\n",
    "inicializarProyecto(path_base,modelos)"
   ]
  },
  {
   "cell_type": "code",
   "execution_count": null,
   "id": "f8632d3b",
   "metadata": {},
   "outputs": [],
   "source": []
  },
  {
   "cell_type": "code",
   "execution_count": 2,
   "id": "edb137f6",
   "metadata": {},
   "outputs": [
    {
     "name": "stdout",
     "output_type": "stream",
     "text": [
      "Javac True Javac\n",
      "1\n"
     ]
    }
   ],
   "source": [
    "x=5//900\n",
    "y=1\n",
    "f=9%4000003\n",
    "a,b = 2,2\n",
    "c=\"Java\"\n",
    "cadena=\"Anaconda\"\n",
    "car=cadena[3]\n",
    "c=c+car\n",
    "d=x==0\n",
    "f=c\n",
    "b=2*30000\n",
    "b=3%10000000\n",
    "b-=1\n",
    "a+=x\n",
    "b=x\n",
    "b+=b\n",
    "a=b\n",
    "b=a\n",
    "x=a\n",
    "print(f,d,c)\n",
    "w= x+y+a+b\n",
    "print(w)"
   ]
  },
  {
   "cell_type": "code",
   "execution_count": 3,
   "id": "ab0a7210",
   "metadata": {},
   "outputs": [
    {
     "name": "stdout",
     "output_type": "stream",
     "text": [
      "40 40\n"
     ]
    }
   ],
   "source": [
    "a,b=40,10\n",
    "if a>-8 and b>=100:\n",
    "    a=b\n",
    "    b=a%200\n",
    "else:\n",
    "    b+=3\n",
    "    b=a\n",
    "if a>=70:\n",
    "    a+=1\n",
    "if b<=10:\n",
    "    b-=90\n",
    "\n",
    "print(a,b)"
   ]
  },
  {
   "cell_type": "code",
   "execution_count": 4,
   "id": "cb028722",
   "metadata": {},
   "outputs": [
    {
     "name": "stdout",
     "output_type": "stream",
     "text": [
      "Python False\n",
      "10\n"
     ]
    }
   ],
   "source": [
    "x,y=3,1\n",
    "z=14983.25\n",
    "a,b=2,2\n",
    "c='Python'\n",
    "d=x==2\n",
    "z=c\n",
    "b+=x\n",
    "x=y**2 + y//7\n",
    "y=x%3\n",
    "b-=a\n",
    "a+=b\n",
    "w=x+y+a+b\n",
    "print(z,d)\n",
    "print(w)\n"
   ]
  },
  {
   "cell_type": "code",
   "execution_count": 6,
   "id": "8036da1c",
   "metadata": {},
   "outputs": [
    {
     "name": "stdout",
     "output_type": "stream",
     "text": [
      "3\n"
     ]
    }
   ],
   "source": [
    "a,i=1,3\n",
    "while i<=4:\n",
    "    a*=1\n",
    "    i+=2\n",
    "    while a<=3:\n",
    "        a+=i\n",
    "    a-=3\n",
    "    print(a)"
   ]
  },
  {
   "cell_type": "code",
   "execution_count": 7,
   "id": "a7fac403",
   "metadata": {},
   "outputs": [
    {
     "name": "stdout",
     "output_type": "stream",
     "text": [
      "27\n"
     ]
    }
   ],
   "source": [
    "def opera():\n",
    "    a,b=10,20\n",
    "    b*=1\n",
    "    b+=1\n",
    "    while b<=25:\n",
    "        b+=2\n",
    "    return b\n",
    "w=opera()\n",
    "print(w)"
   ]
  },
  {
   "cell_type": "code",
   "execution_count": 10,
   "id": "9263e87c",
   "metadata": {},
   "outputs": [
    {
     "data": {
      "text/plain": [
       "2"
      ]
     },
     "execution_count": 10,
     "metadata": {},
     "output_type": "execute_result"
    }
   ],
   "source": [
    "def opera(radio):\n",
    "    x=radio**3\n",
    "    return x\n",
    "radio = opera(2)\n",
    "x=radio//3\n",
    "x"
   ]
  },
  {
   "cell_type": "code",
   "execution_count": 11,
   "id": "9be8fefc",
   "metadata": {},
   "outputs": [
    {
     "name": "stdout",
     "output_type": "stream",
     "text": [
      "20\n",
      "12\n"
     ]
    }
   ],
   "source": [
    "def solu(x,y,z):\n",
    "    x-=y\n",
    "    x+=z\n",
    "    print(x)\n",
    "def suma():\n",
    "    x,y=10,2\n",
    "    acum=x+y\n",
    "    print(acum)\n",
    "solu(10,20,30)\n",
    "suma()"
   ]
  },
  {
   "cell_type": "code",
   "execution_count": 13,
   "id": "361afdcd",
   "metadata": {},
   "outputs": [
    {
     "name": "stdout",
     "output_type": "stream",
     "text": [
      "8 64\n"
     ]
    }
   ],
   "source": [
    "a,b=4,4\n",
    "if a>-8 and b>=1:\n",
    "    a+=b\n",
    "    b-=a\n",
    "    if b>-1:\n",
    "        a=b\n",
    "    else:\n",
    "        b=a**2\n",
    "elif a==3:\n",
    "    b+=3\n",
    "    b=a\n",
    "elif b>a:\n",
    "    c=a+b\n",
    "print(a,b)"
   ]
  },
  {
   "cell_type": "code",
   "execution_count": 14,
   "id": "efba9056",
   "metadata": {},
   "outputs": [
    {
     "name": "stdout",
     "output_type": "stream",
     "text": [
      "11 18\n"
     ]
    }
   ],
   "source": [
    "a,b=1,1\n",
    "lista =[1,5,3,1]\n",
    "for i in lista:\n",
    "    a+=i\n",
    "    if a ==9:\n",
    "        a*=1000\n",
    "    else:\n",
    "        b+=2\n",
    "b*=2\n",
    "print(a,b)\n",
    "b+=a"
   ]
  },
  {
   "cell_type": "code",
   "execution_count": 17,
   "id": "59a65577",
   "metadata": {},
   "outputs": [
    {
     "name": "stdout",
     "output_type": "stream",
     "text": [
      "8\n"
     ]
    }
   ],
   "source": [
    "a,b=1,3\n",
    "for i in range(1,2,3):\n",
    "    a*=1\n",
    "    b+=2\n",
    "    for j in range(1,3):\n",
    "        a*=1\n",
    "        b+=1\n",
    "w=a+b\n",
    "print(w)"
   ]
  },
  {
   "cell_type": "code",
   "execution_count": null,
   "id": "d709db4c",
   "metadata": {},
   "outputs": [],
   "source": []
  }
 ],
 "metadata": {
  "kernelspec": {
   "display_name": "Python 3 (ipykernel)",
   "language": "python",
   "name": "python3"
  },
  "language_info": {
   "codemirror_mode": {
    "name": "ipython",
    "version": 3
   },
   "file_extension": ".py",
   "mimetype": "text/x-python",
   "name": "python",
   "nbconvert_exporter": "python",
   "pygments_lexer": "ipython3",
   "version": "3.9.11"
  }
 },
 "nbformat": 4,
 "nbformat_minor": 5
}
