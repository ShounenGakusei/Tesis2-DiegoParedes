{
 "cells": [
  {
   "cell_type": "code",
   "execution_count": 1,
   "id": "e08ba36e",
   "metadata": {},
   "outputs": [
    {
     "data": {
      "text/html": [
       "<div>\n",
       "<style scoped>\n",
       "    .dataframe tbody tr th:only-of-type {\n",
       "        vertical-align: middle;\n",
       "    }\n",
       "\n",
       "    .dataframe tbody tr th {\n",
       "        vertical-align: top;\n",
       "    }\n",
       "\n",
       "    .dataframe thead th {\n",
       "        text-align: right;\n",
       "    }\n",
       "</style>\n",
       "<table border=\"1\" class=\"dataframe\">\n",
       "  <thead>\n",
       "    <tr style=\"text-align: right;\">\n",
       "      <th></th>\n",
       "      <th>lat</th>\n",
       "      <th>lon</th>\n",
       "    </tr>\n",
       "  </thead>\n",
       "  <tbody>\n",
       "    <tr>\n",
       "      <th>0</th>\n",
       "      <td>48.6330</td>\n",
       "      <td>-93.9667</td>\n",
       "    </tr>\n",
       "    <tr>\n",
       "      <th>1</th>\n",
       "      <td>48.7330</td>\n",
       "      <td>-94.6167</td>\n",
       "    </tr>\n",
       "    <tr>\n",
       "      <th>2</th>\n",
       "      <td>45.1947</td>\n",
       "      <td>-93.3257</td>\n",
       "    </tr>\n",
       "    <tr>\n",
       "      <th>3</th>\n",
       "      <td>45.1962</td>\n",
       "      <td>-93.2755</td>\n",
       "    </tr>\n",
       "  </tbody>\n",
       "</table>\n",
       "</div>"
      ],
      "text/plain": [
       "       lat      lon\n",
       "0  48.6330 -93.9667\n",
       "1  48.7330 -94.6167\n",
       "2  45.1947 -93.3257\n",
       "3  45.1962 -93.2755"
      ]
     },
     "execution_count": 1,
     "metadata": {},
     "output_type": "execute_result"
    }
   ],
   "source": [
    "import requests\n",
    "import urllib\n",
    "import pandas as pd\n",
    "import traceback\n",
    "# USGS Elevation Point Query Service\n",
    "url = r'https://nationalmap.gov/epqs/pqs.php?'\n",
    "\n",
    "# coordinates with known elevation \n",
    "lat = [48.633, 48.733, 45.1947, 45.1962]\n",
    "lon = [-93.9667, -94.6167, -93.3257, -93.2755]\n",
    "\n",
    "# create data frame\n",
    "df = pd.DataFrame({\n",
    "    'lat': lat,\n",
    "    'lon': lon\n",
    "})\n",
    "\n",
    "def elevation_function(df, lat_column, lon_column):\n",
    "    \"\"\"Query service using lat, lon. add the elevation values as a new column.\"\"\"\n",
    "    elevations = []\n",
    "    for lat, lon in zip(df[lat_column], df[lon_column]):\n",
    "\n",
    "        # define rest query params\n",
    "        params = {\n",
    "            'output': 'json',\n",
    "            'x': lon,\n",
    "            'y': lat,\n",
    "            'units': 'Meters'\n",
    "        }\n",
    "\n",
    "        # format query string and return query value\n",
    "        result = requests.get((url + urllib.parse.urlencode(params)))\n",
    "        elevations.append(result.json()['USGS_Elevation_Point_Query_Service']['Elevation_Query']['Elevation'])\n",
    "\n",
    "    df['elev_meters'] = elevations\n",
    "\n",
    "#elevation_function(df, 'lat', 'lon')\n",
    "df.head()"
   ]
  },
  {
   "cell_type": "code",
   "execution_count": 2,
   "id": "239d4f69",
   "metadata": {},
   "outputs": [],
   "source": [
    " # define rest query params\n",
    "params = {\n",
    "    'output': 'json',\n",
    "    'x': -93.9667,\n",
    "    'y': 48.633,\n",
    "    'units': 'Meters'\n",
    "}\n",
    "\n",
    "# format query string and return query value\n",
    "#result = requests.get((url + urllib.parse.urlencode(params)))\n",
    "#result.json()['USGS_Elevation_Point_Query_Service']['Elevation_Query']['Elevation']"
   ]
  },
  {
   "cell_type": "code",
   "execution_count": 3,
   "id": "3b9e2ba2",
   "metadata": {},
   "outputs": [],
   "source": [
    "\"\"\"\n",
    "OBJETIVO: Centralizar los resultados, generar metricas adecuadas a cada modelo para luego poder compararlos.\n",
    "          De esta forma obtener el modelo mas adecuado para el proyecto.\n",
    "\"\"\"\n",
    "Autor='Diego Paredes'"
   ]
  },
  {
   "cell_type": "code",
   "execution_count": 4,
   "id": "84fad3f8",
   "metadata": {},
   "outputs": [],
   "source": [
    "\"\"\"\n",
    "from netCDF4 import Dataset, num2date\n",
    "import cartopy.crs as ccrs\n",
    "import cartopy.feature as cf\n",
    "\"\"\"\n",
    "\n",
    "from sklearn.metrics import ConfusionMatrixDisplay\n",
    "#from sklearn.utils import shuffle\n",
    "#from sklearn.model_selection import train_test_split\n",
    "\n",
    "import matplotlib.pyplot as plt\n",
    "import pandas as pd\n",
    "import seaborn as sns\n",
    "import hiplot as hip\n",
    "import plotly.express as px\n",
    "import plotly.graph_objects as go\n",
    "import ipywidgets as widgets\n",
    "\n",
    "\n",
    "#import re\n",
    "import numpy as np\n",
    "import glob\n",
    "import time\n",
    "import os"
   ]
  },
  {
   "cell_type": "code",
   "execution_count": 5,
   "id": "9d7159b2",
   "metadata": {},
   "outputs": [
    {
     "data": {
      "text/plain": [
       "'C:/Users/Shounen/Desktop/Ciclo XI/Tesis 2/FinalTesis/Tesis2-DiegoParedes'"
      ]
     },
     "execution_count": 5,
     "metadata": {},
     "output_type": "execute_result"
    }
   ],
   "source": [
    "\"\"\"\n",
    "DEFINIMOS EL PATH DEL PROYECTO \n",
    "\"\"\"\n",
    "with open('../../path_base.txt') as f:\n",
    "    path_base = f.read()\n",
    "path_base"
   ]
  },
  {
   "cell_type": "code",
   "execution_count": 6,
   "id": "783dd693",
   "metadata": {},
   "outputs": [],
   "source": [
    "def crearDir(path, newDir):\n",
    "    try:\n",
    "        pathT = os.path.join(path, newDir)\n",
    "        os.mkdir(pathT)\n",
    "        return pathT\n",
    "    except FileExistsError:\n",
    "        return pathT\n",
    "        pass\n",
    "    except:\n",
    "        print(f\"No se pudo crear el directorio: {newDir}\")\n",
    "        pritn(f'Path base: {path}')\n",
    "        pritn(f'Nuevo    : {newDir}')        \n",
    "        return None"
   ]
  },
  {
   "cell_type": "code",
   "execution_count": 7,
   "id": "bd651d91",
   "metadata": {},
   "outputs": [],
   "source": [
    "def analizarProject(path_base,project ,df= None):\n",
    "    if not df:\n",
    "        df = pd.read_csv(f'{path_base}/Archivos/Reportes/Entrenamiento/Clasificacion/Reporte-TOTAL.csv')    \n",
    "    df = df[df['idTest']==project] \n",
    "    \n",
    "    \"\"\" GRAFICA DE LOSS \"\"\"\n",
    "    fig = go.Figure()    \n",
    "    fig.add_trace( go.Scatter(mode='lines',x=df[\"epoca\"], y=df[\"loss\"], name='Train')) \n",
    "    fig.add_trace( go.Scatter(mode='lines',x=df[\"epoca\"], y=df[\"val_loss\"], name='Valid')) \n",
    "    fig.update_layout(title={'text':'Grafica de Loss por epoca'}, xaxis={'title': 'EPOCAS'},\n",
    "                      yaxis={'title': 'LOSS'})\n",
    "    fig.show()       \n",
    "    \n",
    "    \"\"\" GRAFICA DE ACC BAL \"\"\"       \n",
    "\n",
    "    fig = go.Figure()    \n",
    "    fig.add_trace( go.Scatter(mode='lines',x=df[\"epoca\"], y=df[\"train_acc_bal\"], name='Train')) \n",
    "    fig.add_trace( go.Scatter(mode='lines',x=df[\"epoca\"], y=df[\"acc_bal\"], name='Valid')) \n",
    "    fig.update_layout(title={'text':'Grafica de Balanced Acc por epoca'}, xaxis={'title': 'EPOCAS'},\n",
    "                      yaxis={'title': 'BAL_ACC'})\n",
    "    fig.show() \n",
    "  \n",
    "    return None            "
   ]
  },
  {
   "cell_type": "code",
   "execution_count": 8,
   "id": "b01f468e",
   "metadata": {},
   "outputs": [],
   "source": [
    "def graficaClasificacion(df, limites=[[0,1],[0,1]], name='V1' ,cuadrantes = True, legenda =True, train=False, legendName=[True,'idTest'], cant=0):\n",
    "    \n",
    "    \"\"\" GRAFICA DE DISPERSION \"\"\" \n",
    "    if not cant:\n",
    "        cant = len(df)\n",
    "    for j in df[:cant].index: \n",
    "        if train:\n",
    "            x = df['train_TNR'][j]\n",
    "            y = df['train_TPR'][j]  \n",
    "        else:\n",
    "            x = df['TNR'][j]\n",
    "            y = df['TPR'][j]\n",
    "        plt.plot(x,y , marker='o',label = f\"{df[legendName[1]][j]}\")              \n",
    "    \n",
    "    if legendName[0]:\n",
    "        plt.legend(loc=(1.1,-0.1), title= 'Label')\n",
    "\n",
    "    \"\"\" CUADRANTES Y LIMITES \"\"\"\n",
    "    x = np.linspace(0, 1, 100)\n",
    "    plt.plot(x, x + 0, '--r')  \n",
    "    if cuadrantes:\n",
    "        plt.plot(x, [0.5]*100, '--k')  \n",
    "        plt.plot([0.5]*100, x, '--k') \n",
    "    \n",
    "    plt.xlim(limites[0][0],limites[0][1])\n",
    "    plt.ylim(limites[1][0],limites[1][1])\n",
    "    \n",
    "    \"\"\" LEGENDA \"\"\"\n",
    "    if train:\n",
    "        plt.title(f'Scatter TPR vs TNR (Train Data)')\n",
    "    else:\n",
    "        plt.title('Grafica de TPR vs TNR (Validacion)') #(f'Scatter TPR vs TNR (Validation Data)')\n",
    "    plt.ylabel('TPR (C02)')\n",
    "    plt.xlabel('TNR (M02)')\n",
    "    plt.grid(linestyle='--')\n",
    "\n",
    "    #plt.savefig(f'{path_base}/Archivos/Reportes/Plots/ClasificacionModeloComparacion.png')\n",
    "\n",
    "    plt.show()"
   ]
  },
  {
   "cell_type": "code",
   "execution_count": 9,
   "id": "bf34d360",
   "metadata": {},
   "outputs": [],
   "source": [
    "import re"
   ]
  },
  {
   "cell_type": "code",
   "execution_count": 10,
   "id": "0387f861",
   "metadata": {},
   "outputs": [],
   "source": [
    "# Reune los resultados de los diferentes archivos (Requiere tipo de modelo en params)\n",
    "def summaryResultsFile(path_base, params):\n",
    "    resultados = {}\n",
    "    \n",
    "    \"\"\" OBTENEMOS LOS ARCHIVOS DE RESULTADOS \"\"\"\n",
    "    model = params['model']\n",
    "    modelPath = f'{params[\"resultDir\"]}/'   \n",
    "    os.chdir(modelPath)\n",
    "    listFiles = list(glob.glob('**/**/*.xlsx'))\n",
    "    #listFiles= listFiles[:-3]\n",
    "\n",
    "    results = pd.DataFrame()\n",
    "    projects = pd.DataFrame()\n",
    "    \n",
    "    \"\"\" RECORREMOS LOS ARCHIVOS EXCEL DE RESULTADOS \"\"\"\n",
    "    for file in listFiles:        \n",
    "        \"\"\" VARIABLES GENERALES \"\"\"\n",
    "        try:\n",
    "            dfGeneral = pd.read_excel(file, sheet_name='Informacion', nrows=1, keep_default_na=False)\n",
    "        except Exception:\n",
    "            print(file)\n",
    "            print(traceback.format_exc())           \n",
    "            return\n",
    "        idProject = file.split('-')[-1].split('.')[0]\n",
    "        dfGeneral['idProject']=idProject        \n",
    "        projects = pd.concat([projects,dfGeneral],axis=0,ignore_index=True)\n",
    "        \n",
    "        \n",
    "        dfHP = pd.read_excel(file, sheet_name='Informacion', skiprows=3)               \n",
    "        dfTestParams = pd.read_excel(file, sheet_name='Informacion', nrows=3) \n",
    "        excelTemp = pd.read_excel(file,sheet_name=None)\n",
    "        \n",
    "        \"\"\" RECORREMOS LAS HOJAS DE CADA EXCEL \"\"\"\n",
    "        for k,v in excelTemp.items():\n",
    "            if k != 'Informacion':\n",
    "                # Numero Y ID de la prueba\n",
    "                numT, idTest = k.split('-')\n",
    "                dfTemp = excelTemp[k]\n",
    "                # Hiperparametros de la prueba\n",
    "                dfTemp['epoca'] = dfTemp['Unnamed: 0']\n",
    "                dfTemp['idTest'] = idTest\n",
    "                dfTemp['idProject'] = idProject\n",
    "                dfTemp['directory'] = dfTestParams['directory']\n",
    "                \n",
    "                for iC in dfHP.columns[1:]:\n",
    "                    dfTemp[f'P-{iC}'] = dfHP.loc[[int(numT)]][iC].iloc[0]\n",
    "                    \n",
    "                \n",
    "                # Datos dependiente del modelo\n",
    "                if model == 'Clasificacion':    \n",
    "                    dfTemp.columns = [re.sub('[0-9]','',x) for x in dfTemp.columns]\n",
    "              \n",
    "                    dfTemp['TNR'] = dfTemp['val_TN'] / (dfTemp['val_TN']+dfTemp['val_FP']) # Recall de la clase 0 (M02)\n",
    "                    dfTemp['TPR'] =    dfTemp['val_TP'] / (dfTemp['val_TP']+dfTemp['val_FN'])  # Recall de la clase 1 (C02)\n",
    "                    \n",
    "                    dfTemp['FDR'] = dfTemp['val_FP'] / (dfTemp['val_FP']+dfTemp['val_TP']) # False discovery rate\n",
    "                    dfTemp['FOR'] = dfTemp['val_FN'] / (dfTemp['val_FN']+dfTemp['val_TN']) # False discovery rate\n",
    "                    dfTemp['FDR_FOR'] =  (dfTemp['FDR'] + dfTemp['FOR']) / 2 \n",
    "                    \n",
    "                    dfTemp['acc_bal'] =  (dfTemp['TNR'] + dfTemp['TPR']) / 2 \n",
    "                    \n",
    "                    \n",
    "                    dfTemp['train_TNR'] = dfTemp['TN'] / (dfTemp['TN']+dfTemp['FP']) # Recall de la clase 0 (M02)\n",
    "                    dfTemp['train_TPR'] =    dfTemp['TP'] / (dfTemp['TP']+dfTemp['FN'])  # Recall de la clase 1 (C02)\n",
    "                    dfTemp['train_acc_bal'] =  (dfTemp['train_TNR'] + dfTemp['train_TPR']) / 2        \n",
    "                    \n",
    "                    dfTemp['avg_acc_bal'] =  (dfTemp['train_acc_bal'] + dfTemp['acc_bal']) / 2        \n",
    "                    \n",
    "                elif model== 'Regresion':\n",
    "                    pass\n",
    "                else:\n",
    "                    print(f'ERROR: No se encuentra el tipo de modelo {model}')\n",
    "                \n",
    "                # Reunimos los resultados\n",
    "                results = pd.concat([results,dfTemp],axis=0,ignore_index=True)\n",
    "    results = results.fillna(0)\n",
    "    \"\"\" GRABAMOS LOS RESULTADOS \"\"\"\n",
    "    results.to_csv(f'{path_base}/Archivos/Reportes/Entrenamiento/{model}/Reporte-TOTAL.csv',index=False)\n",
    "    projects.to_csv(f'{path_base}/Archivos/Reportes/Entrenamiento/{model}/Proyectos.csv',index=False)\n",
    "   \n",
    "    return results\n"
   ]
  },
  {
   "cell_type": "code",
   "execution_count": 11,
   "id": "c0fd6de3",
   "metadata": {},
   "outputs": [],
   "source": [
    "# Obteine el mejor resultado de un conjunto de epocas segun criterio (params)\n",
    "def summaryStats(path_base, params):      \n",
    "    model = params['model']\n",
    "    \n",
    "    \"\"\" REUNIMOS LA INFORMACION \"\"\"\n",
    "    if params['redoStats']:\n",
    "        print(\"Se va rehacer el dataset....\")\n",
    "        df = summaryResultsFile(path_base, params)\n",
    "    else:\n",
    "        df = pd.read_csv(f'{path_base}/Archivos/Reportes/Entrenamiento/{model}/Reporte-TOTAL.csv')           \n",
    "    \n",
    "    \"\"\" FILTRAMOS SEGUN LOS PARAMS \"\"\"\n",
    "    if params['drop']:\n",
    "        df = df[~df[params['drop'][0]].isin(params['drop'][1])]\n",
    "    if params['select']:\n",
    "        df = df[df[params['select'][0]].isin(params['select'][1])]\n",
    "    \n",
    "    \"\"\" SELECCION DE LOS MEJORES SEGUN CRITERIO \"\"\"\n",
    "    groupDF = df.groupby('idTest')\n",
    "    \n",
    "    bestResults = pd.DataFrame(columns = df.columns)    \n",
    "    for idTest, dfG in groupDF:\n",
    "        if not params['ascending']:\n",
    "            dfTemp = dfG[dfG[params['criterio']]==dfG[params['criterio']].max()]        \n",
    "        else:\n",
    "            dfTemp = dfG[dfG[params['criterio']]==dfG[params['criterio']].min()]        \n",
    "            \n",
    "        if dfTemp.empty:            \n",
    "            print(f'EROOR: No se encontro DF para idTest: {idTest}')          \n",
    "        else:\n",
    "            bestResults = pd.concat([bestResults,dfTemp],axis=0)\n",
    "    \n",
    "    \n",
    "    \n",
    "    # Guardamos los resutlados\n",
    "    bestResults = bestResults.sort_values(params[\"criterio\"],ascending=params[\"ascending\"])\n",
    "    bestResults.to_csv(f'{path_base}/Archivos/Reportes/Entrenamiento/{model}/Reporte-BEST_{params[\"criterio\"]}.csv')\n",
    "\n",
    "    #bestResults = bestResults.groupby('idTest').max().reset_index()\n",
    "    \"\"\"  GRAFICAS \"\"\"\n",
    "    if params['grafica']:\n",
    "        graficaClasificacion(bestResults, train=params['train'], cant=params['maxNum'])\n",
    "    \n",
    "    \"\"\" FILTRAMOS LAS COLUMNAS A ENTREGAR \"\"\"\n",
    "    if model == 'Clasificacion':\n",
    "        columns = ['idTest','epoca','TNR','TPR','acc_bal','train_TNR','train_TPR','train_acc_bal','FDR_FOR']    \n",
    "    else:\n",
    "        print(f'ERROR: No se definio correctamente el tipo de modelo en parametros')\n",
    "        \n",
    "    bestResults.loc[bestResults['P-inputs'] == \"['imagen', 'umb1', 'dato', 'altura']\", 'P-inputs'] = \"['imagen', 'dato', 'umb1', 'altura']\"\n",
    "    uniqueHP = []\n",
    "    if params['filterHP']:\n",
    "        hpList = [e for e in bestResults.columns if ('P-' in e) and (e not in ['P-runs','P-dsTName','P-outputs'])]\n",
    "\n",
    "        for iHP in hpList:\n",
    "            listUni = bestResults[iHP].unique()\n",
    "            if len(listUni)>1:\n",
    "                columns.append(iHP)\n",
    "            else:\n",
    "                uniqueHP.append(iHP)\n",
    "    \n",
    "    uniqueDF = bestResults[uniqueHP].head(1).T\n",
    "    uniqueDF.rename(columns={uniqueDF.columns[0]:'VALORES'}, inplace=True)\n",
    "    print('HIPERPARAMETROS UNICOS...')\n",
    "    print(uniqueDF)    \n",
    "    return bestResults[columns]"
   ]
  },
  {
   "cell_type": "code",
   "execution_count": 12,
   "id": "ae6f04da",
   "metadata": {},
   "outputs": [],
   "source": [
    "#cod = '20220627_10'\n",
    "def repairFile(cod):\n",
    "    dirP = f'{path_base}/Archivos/Resultados/Clasificacion/RNN/Clasificacion-{cod}'\n",
    "    fileExcel = f'{dirP}/_Stats-Clasificacion-{cod}.xlsx'\n",
    "\n",
    "    os.chdir(dirP)\n",
    "    csvFiles = list(glob.glob('*.csv'))\n",
    "    idTest = ['20220627_102320','20220627_151807','20220627_172156','20220627_214257','20220628_020513','20220628_061741']\n",
    "\n",
    "    for f in csvFiles:\n",
    "        objT = pd.read_pickle(f)\n",
    "        _num = f[-5:-4]\n",
    "        _id = idTest[int(_num)]\n",
    "\n",
    "        with pd.ExcelWriter(fileExcel, mode=\"a\", engine=\"openpyxl\", if_sheet_exists='overlay') as writer:                    \n",
    "            tempDF = pd.DataFrame(objT)\n",
    "            tempDF.columns = ['loss', 'acc', 'TP', 'TN', 'FP','FN','FDR'\n",
    "                            'val_loss','val_acc','val_TP','val_TN','val_FP','val_FN']\n",
    "            tempDF.to_excel(writer,startrow=0,sheet_name=f'{_num}-{_id}')"
   ]
  },
  {
   "cell_type": "code",
   "execution_count": 13,
   "id": "98577184-2ccf-4102-a679-1b4d6efafdde",
   "metadata": {},
   "outputs": [],
   "source": [
    "#bestResults[bestResults.index.isin([4283,4593,4782,4049,4049,4105])].to_excel('HOLA.xlsx')"
   ]
  },
  {
   "cell_type": "code",
   "execution_count": 14,
   "id": "2de12a96-a3d7-44ed-80a5-104fb8f24e13",
   "metadata": {},
   "outputs": [],
   "source": [
    "#graficaClasificacion(bestResults[bestResults.index.isin([4283,4593,4782,4049,4049,4105])], train=params['train'], cant=params['maxNum'])"
   ]
  },
  {
   "cell_type": "code",
   "execution_count": 15,
   "id": "a335761c-e347-4514-8f06-dd56d0e09a3e",
   "metadata": {},
   "outputs": [],
   "source": [
    "#graficaClasificacion(bestResults, train=params['train'], cant=params['maxNum'])"
   ]
  },
  {
   "cell_type": "code",
   "execution_count": 16,
   "id": "87729674-f8fa-4b88-a57c-0e845b1d2e10",
   "metadata": {},
   "outputs": [
    {
     "name": "stdout",
     "output_type": "stream",
     "text": [
      "Se va rehacer el dataset....\n"
     ]
    },
    {
     "data": {
      "image/png": "[encoded data removed]",
      "text/plain": [
       "<Figure size 432x288 with 1 Axes>"
      ]
     },
     "metadata": {
      "needs_background": "light"
     },
     "output_type": "display_data"
    },
    {
     "name": "stdout",
     "output_type": "stream",
     "text": [
      "HIPERPARAMETROS UNICOS...\n",
      "                          VALORES\n",
      "P-loss        binary_crossentropy\n",
      "P-normLayer                  True\n",
      "P-dense_tipo                 RELU\n",
      "P-canales                       3\n",
      "2521\n"
     ]
    },
    {
     "data": {
      "text/html": [
       "<div>\n",
       "<style scoped>\n",
       "    .dataframe tbody tr th:only-of-type {\n",
       "        vertical-align: middle;\n",
       "    }\n",
       "\n",
       "    .dataframe tbody tr th {\n",
       "        vertical-align: top;\n",
       "    }\n",
       "\n",
       "    .dataframe thead th {\n",
       "        text-align: right;\n",
       "    }\n",
       "</style>\n",
       "<table border=\"1\" class=\"dataframe\">\n",
       "  <thead>\n",
       "    <tr style=\"text-align: right;\">\n",
       "      <th></th>\n",
       "      <th>idTest</th>\n",
       "      <th>epoca</th>\n",
       "      <th>TNR</th>\n",
       "      <th>TPR</th>\n",
       "      <th>acc_bal</th>\n",
       "      <th>train_TNR</th>\n",
       "      <th>train_TPR</th>\n",
       "      <th>train_acc_bal</th>\n",
       "      <th>FDR_FOR</th>\n",
       "      <th>P-inputs</th>\n",
       "      <th>...</th>\n",
       "      <th>P-droupout</th>\n",
       "      <th>P-maxPool</th>\n",
       "      <th>P-rnn_tipo</th>\n",
       "      <th>P-rnn_units</th>\n",
       "      <th>P-dense_cant</th>\n",
       "      <th>P-dense_units</th>\n",
       "      <th>P-kernel_regularizer</th>\n",
       "      <th>P-dense_droupout</th>\n",
       "      <th>P-tiempos</th>\n",
       "      <th>P-margen</th>\n",
       "    </tr>\n",
       "  </thead>\n",
       "  <tbody>\n",
       "    <tr>\n",
       "      <th>406</th>\n",
       "      <td>20241126_091203</td>\n",
       "      <td>185</td>\n",
       "      <td>1.0</td>\n",
       "      <td>0.822014</td>\n",
       "      <td>0.911007</td>\n",
       "      <td>0.848958</td>\n",
       "      <td>0.85625</td>\n",
       "      <td>0.852604</td>\n",
       "      <td>0.475</td>\n",
       "      <td>['imagen', '_dato', '_umb1', '_altura']</td>\n",
       "      <td>...</td>\n",
       "      <td>[0.1, 0.3, 0.2, 0.2, 0.1, 0.1]</td>\n",
       "      <td>[False, False, False, False, False, False]</td>\n",
       "      <td>CONV3D</td>\n",
       "      <td>16</td>\n",
       "      <td>4</td>\n",
       "      <td>[64, 32, 16, 8]</td>\n",
       "      <td>[0, 0, 0, 0]</td>\n",
       "      <td>[0.3, 0.2, 0.1, 0]</td>\n",
       "      <td>6</td>\n",
       "      <td>12</td>\n",
       "    </tr>\n",
       "    <tr>\n",
       "      <th>598</th>\n",
       "      <td>20241127_080653</td>\n",
       "      <td>177</td>\n",
       "      <td>1.0</td>\n",
       "      <td>0.809524</td>\n",
       "      <td>0.904762</td>\n",
       "      <td>0.865625</td>\n",
       "      <td>0.857292</td>\n",
       "      <td>0.861458</td>\n",
       "      <td>0.476562</td>\n",
       "      <td>['imagen', '_dato', '_umb1', '_altura']</td>\n",
       "      <td>...</td>\n",
       "      <td>[0.1, 0.3, 0.2, 0.2, 0.1, 0.1]</td>\n",
       "      <td>[False, False, False, False, False, False]</td>\n",
       "      <td>CONV3D</td>\n",
       "      <td>16</td>\n",
       "      <td>4</td>\n",
       "      <td>[64, 32, 16, 8]</td>\n",
       "      <td>[0, 0, 0, 0]</td>\n",
       "      <td>[0.3, 0.2, 0.1, 0]</td>\n",
       "      <td>6</td>\n",
       "      <td>12</td>\n",
       "    </tr>\n",
       "    <tr>\n",
       "      <th>178</th>\n",
       "      <td>20241126_012437</td>\n",
       "      <td>157</td>\n",
       "      <td>1.0</td>\n",
       "      <td>0.79313</td>\n",
       "      <td>0.896565</td>\n",
       "      <td>0.916667</td>\n",
       "      <td>0.822917</td>\n",
       "      <td>0.869792</td>\n",
       "      <td>0.478339</td>\n",
       "      <td>['imagen', '_dato', '_umb1', '_altura']</td>\n",
       "      <td>...</td>\n",
       "      <td>[0.1, 0.3, 0.2, 0.2, 0.1, 0.1]</td>\n",
       "      <td>[False, False, False, False, False, False]</td>\n",
       "      <td>CONV3D</td>\n",
       "      <td>8</td>\n",
       "      <td>4</td>\n",
       "      <td>[64, 32, 16, 8]</td>\n",
       "      <td>[0, 0, 0, 0]</td>\n",
       "      <td>[0.3, 0.2, 0.1, 0]</td>\n",
       "      <td>6</td>\n",
       "      <td>10</td>\n",
       "    </tr>\n",
       "    <tr>\n",
       "      <th>4715</th>\n",
       "      <td>20241129_012609</td>\n",
       "      <td>143</td>\n",
       "      <td>0.953488</td>\n",
       "      <td>0.766273</td>\n",
       "      <td>0.859881</td>\n",
       "      <td>0.91129</td>\n",
       "      <td>0.854839</td>\n",
       "      <td>0.883065</td>\n",
       "      <td>0.447976</td>\n",
       "      <td>['imagen', '_dato', '_umb1', '_altura']</td>\n",
       "      <td>...</td>\n",
       "      <td>[0.1, 0.3, 0.2, 0.2, 0.1, 0.1]</td>\n",
       "      <td>[False, False, False, False, False, False]</td>\n",
       "      <td>LSTM</td>\n",
       "      <td>8</td>\n",
       "      <td>4</td>\n",
       "      <td>[64, 32, 16, 8]</td>\n",
       "      <td>[0, 0, 0, 0]</td>\n",
       "      <td>[0.3, 0.2, 0.1, 0]</td>\n",
       "      <td>6</td>\n",
       "      <td>10</td>\n",
       "    </tr>\n",
       "    <tr>\n",
       "      <th>5071</th>\n",
       "      <td>20230709_112005</td>\n",
       "      <td>99</td>\n",
       "      <td>0.75</td>\n",
       "      <td>0.959407</td>\n",
       "      <td>0.854703</td>\n",
       "      <td>0.433333</td>\n",
       "      <td>0.965625</td>\n",
       "      <td>0.699479</td>\n",
       "      <td>0.427447</td>\n",
       "      <td>['imagen', 'dato', 'umb1', 'altura']</td>\n",
       "      <td>...</td>\n",
       "      <td>[0.2, 0.3]</td>\n",
       "      <td>[False, False]</td>\n",
       "      <td>LSTM</td>\n",
       "      <td>64</td>\n",
       "      <td>2</td>\n",
       "      <td>[128, 64]</td>\n",
       "      <td>0</td>\n",
       "      <td>0</td>\n",
       "      <td>3</td>\n",
       "      <td>10</td>\n",
       "    </tr>\n",
       "    <tr>\n",
       "      <th>4117</th>\n",
       "      <td>20241030_101704</td>\n",
       "      <td>145</td>\n",
       "      <td>0.911111</td>\n",
       "      <td>0.792616</td>\n",
       "      <td>0.851864</td>\n",
       "      <td>0.892127</td>\n",
       "      <td>0.870793</td>\n",
       "      <td>0.88146</td>\n",
       "      <td>0.470969</td>\n",
       "      <td>['imagen', '_dato', '_umb1', '_altura']</td>\n",
       "      <td>...</td>\n",
       "      <td>[0.1, 0.3, 0.2, 0.2, 0.1, 0.1]</td>\n",
       "      <td>[False, False, False, False, False, False]</td>\n",
       "      <td>LSTM</td>\n",
       "      <td>16</td>\n",
       "      <td>4</td>\n",
       "      <td>[64, 32, 16, 8]</td>\n",
       "      <td>[0, 0, 0, 0]</td>\n",
       "      <td>[0.3, 0.2, 0.1, 0]</td>\n",
       "      <td>6</td>\n",
       "      <td>12</td>\n",
       "    </tr>\n",
       "    <tr>\n",
       "      <th>10911</th>\n",
       "      <td>20240403_144912</td>\n",
       "      <td>11</td>\n",
       "      <td>0.75</td>\n",
       "      <td>0.952381</td>\n",
       "      <td>0.85119</td>\n",
       "      <td>0.145833</td>\n",
       "      <td>0.489583</td>\n",
       "      <td>0.317708</td>\n",
       "      <td>0.436941</td>\n",
       "      <td>['imagen', 'dato', 'umb1', 'altura']</td>\n",
       "      <td>...</td>\n",
       "      <td>[0.2, 0.1, 0.2, 0.1]</td>\n",
       "      <td>[False, False, False, False]</td>\n",
       "      <td>LSTM</td>\n",
       "      <td>16</td>\n",
       "      <td>4</td>\n",
       "      <td>[128, 64, 32, 16]</td>\n",
       "      <td>0</td>\n",
       "      <td>0</td>\n",
       "      <td>5</td>\n",
       "      <td>8</td>\n",
       "    </tr>\n",
       "    <tr>\n",
       "      <th>10668</th>\n",
       "      <td>20240403_033405</td>\n",
       "      <td>21</td>\n",
       "      <td>0.75</td>\n",
       "      <td>0.949258</td>\n",
       "      <td>0.849629</td>\n",
       "      <td>0.042708</td>\n",
       "      <td>0.578125</td>\n",
       "      <td>0.310417</td>\n",
       "      <td>0.44042</td>\n",
       "      <td>['imagen', 'dato', 'umb1', 'altura']</td>\n",
       "      <td>...</td>\n",
       "      <td>[0.2, 0.1, 0.2, 0.1]</td>\n",
       "      <td>[False, False, False, False]</td>\n",
       "      <td>LSTM</td>\n",
       "      <td>16</td>\n",
       "      <td>4</td>\n",
       "      <td>[128, 64, 32, 16]</td>\n",
       "      <td>0</td>\n",
       "      <td>0</td>\n",
       "      <td>5</td>\n",
       "      <td>4</td>\n",
       "    </tr>\n",
       "    <tr>\n",
       "      <th>8028</th>\n",
       "      <td>20240325_231109</td>\n",
       "      <td>86</td>\n",
       "      <td>0.75</td>\n",
       "      <td>0.947697</td>\n",
       "      <td>0.848849</td>\n",
       "      <td>0.314583</td>\n",
       "      <td>0.958333</td>\n",
       "      <td>0.636458</td>\n",
       "      <td>0.442022</td>\n",
       "      <td>['imagen', 'dato', 'umb1', 'altura']</td>\n",
       "      <td>...</td>\n",
       "      <td>[0.2, 0.1, 0.2, 0.1]</td>\n",
       "      <td>[False, False, False, False]</td>\n",
       "      <td>LSTM</td>\n",
       "      <td>32</td>\n",
       "      <td>3</td>\n",
       "      <td>[128, 64, 32]</td>\n",
       "      <td>0</td>\n",
       "      <td>0</td>\n",
       "      <td>6</td>\n",
       "      <td>10</td>\n",
       "    </tr>\n",
       "    <tr>\n",
       "      <th>11510</th>\n",
       "      <td>20240404_050409</td>\n",
       "      <td>241</td>\n",
       "      <td>0.75</td>\n",
       "      <td>0.942233</td>\n",
       "      <td>0.846116</td>\n",
       "      <td>0.321875</td>\n",
       "      <td>0.986458</td>\n",
       "      <td>0.654167</td>\n",
       "      <td>0.447023</td>\n",
       "      <td>['imagen', 'dato', 'umb1', 'altura']</td>\n",
       "      <td>...</td>\n",
       "      <td>[0.2, 0.1, 0.2, 0.1]</td>\n",
       "      <td>[False, False, False, False]</td>\n",
       "      <td>LSTM</td>\n",
       "      <td>16</td>\n",
       "      <td>4</td>\n",
       "      <td>[128, 64, 32, 16]</td>\n",
       "      <td>0</td>\n",
       "      <td>0</td>\n",
       "      <td>4</td>\n",
       "      <td>8</td>\n",
       "    </tr>\n",
       "  </tbody>\n",
       "</table>\n",
       "<p>10 rows × 28 columns</p>\n",
       "</div>"
      ],
      "text/plain": [
       "                idTest epoca       TNR       TPR   acc_bal train_TNR  \\\n",
       "406    20241126_091203   185       1.0  0.822014  0.911007  0.848958   \n",
       "598    20241127_080653   177       1.0  0.809524  0.904762  0.865625   \n",
       "178    20241126_012437   157       1.0   0.79313  0.896565  0.916667   \n",
       "4715   20241129_012609   143  0.953488  0.766273  0.859881   0.91129   \n",
       "5071   20230709_112005    99      0.75  0.959407  0.854703  0.433333   \n",
       "4117   20241030_101704   145  0.911111  0.792616  0.851864  0.892127   \n",
       "10911  20240403_144912    11      0.75  0.952381   0.85119  0.145833   \n",
       "10668  20240403_033405    21      0.75  0.949258  0.849629  0.042708   \n",
       "8028   20240325_231109    86      0.75  0.947697  0.848849  0.314583   \n",
       "11510  20240404_050409   241      0.75  0.942233  0.846116  0.321875   \n",
       "\n",
       "      train_TPR train_acc_bal   FDR_FOR  \\\n",
       "406     0.85625      0.852604     0.475   \n",
       "598    0.857292      0.861458  0.476562   \n",
       "178    0.822917      0.869792  0.478339   \n",
       "4715   0.854839      0.883065  0.447976   \n",
       "5071   0.965625      0.699479  0.427447   \n",
       "4117   0.870793       0.88146  0.470969   \n",
       "10911  0.489583      0.317708  0.436941   \n",
       "10668  0.578125      0.310417   0.44042   \n",
       "8028   0.958333      0.636458  0.442022   \n",
       "11510  0.986458      0.654167  0.447023   \n",
       "\n",
       "                                      P-inputs  ...  \\\n",
       "406    ['imagen', '_dato', '_umb1', '_altura']  ...   \n",
       "598    ['imagen', '_dato', '_umb1', '_altura']  ...   \n",
       "178    ['imagen', '_dato', '_umb1', '_altura']  ...   \n",
       "4715   ['imagen', '_dato', '_umb1', '_altura']  ...   \n",
       "5071      ['imagen', 'dato', 'umb1', 'altura']  ...   \n",
       "4117   ['imagen', '_dato', '_umb1', '_altura']  ...   \n",
       "10911     ['imagen', 'dato', 'umb1', 'altura']  ...   \n",
       "10668     ['imagen', 'dato', 'umb1', 'altura']  ...   \n",
       "8028      ['imagen', 'dato', 'umb1', 'altura']  ...   \n",
       "11510     ['imagen', 'dato', 'umb1', 'altura']  ...   \n",
       "\n",
       "                           P-droupout  \\\n",
       "406    [0.1, 0.3, 0.2, 0.2, 0.1, 0.1]   \n",
       "598    [0.1, 0.3, 0.2, 0.2, 0.1, 0.1]   \n",
       "178    [0.1, 0.3, 0.2, 0.2, 0.1, 0.1]   \n",
       "4715   [0.1, 0.3, 0.2, 0.2, 0.1, 0.1]   \n",
       "5071                       [0.2, 0.3]   \n",
       "4117   [0.1, 0.3, 0.2, 0.2, 0.1, 0.1]   \n",
       "10911            [0.2, 0.1, 0.2, 0.1]   \n",
       "10668            [0.2, 0.1, 0.2, 0.1]   \n",
       "8028             [0.2, 0.1, 0.2, 0.1]   \n",
       "11510            [0.2, 0.1, 0.2, 0.1]   \n",
       "\n",
       "                                        P-maxPool P-rnn_tipo P-rnn_units  \\\n",
       "406    [False, False, False, False, False, False]     CONV3D          16   \n",
       "598    [False, False, False, False, False, False]     CONV3D          16   \n",
       "178    [False, False, False, False, False, False]     CONV3D           8   \n",
       "4715   [False, False, False, False, False, False]       LSTM           8   \n",
       "5071                               [False, False]       LSTM          64   \n",
       "4117   [False, False, False, False, False, False]       LSTM          16   \n",
       "10911                [False, False, False, False]       LSTM          16   \n",
       "10668                [False, False, False, False]       LSTM          16   \n",
       "8028                 [False, False, False, False]       LSTM          32   \n",
       "11510                [False, False, False, False]       LSTM          16   \n",
       "\n",
       "      P-dense_cant      P-dense_units P-kernel_regularizer  \\\n",
       "406              4    [64, 32, 16, 8]         [0, 0, 0, 0]   \n",
       "598              4    [64, 32, 16, 8]         [0, 0, 0, 0]   \n",
       "178              4    [64, 32, 16, 8]         [0, 0, 0, 0]   \n",
       "4715             4    [64, 32, 16, 8]         [0, 0, 0, 0]   \n",
       "5071             2          [128, 64]                    0   \n",
       "4117             4    [64, 32, 16, 8]         [0, 0, 0, 0]   \n",
       "10911            4  [128, 64, 32, 16]                    0   \n",
       "10668            4  [128, 64, 32, 16]                    0   \n",
       "8028             3      [128, 64, 32]                    0   \n",
       "11510            4  [128, 64, 32, 16]                    0   \n",
       "\n",
       "         P-dense_droupout P-tiempos P-margen  \n",
       "406    [0.3, 0.2, 0.1, 0]         6       12  \n",
       "598    [0.3, 0.2, 0.1, 0]         6       12  \n",
       "178    [0.3, 0.2, 0.1, 0]         6       10  \n",
       "4715   [0.3, 0.2, 0.1, 0]         6       10  \n",
       "5071                    0         3       10  \n",
       "4117   [0.3, 0.2, 0.1, 0]         6       12  \n",
       "10911                   0         5        8  \n",
       "10668                   0         5        4  \n",
       "8028                    0         6       10  \n",
       "11510                   0         4        8  \n",
       "\n",
       "[10 rows x 28 columns]"
      ]
     },
     "execution_count": 16,
     "metadata": {},
     "output_type": "execute_result"
    }
   ],
   "source": [
    "params = {\n",
    "    # General\n",
    "    'resultDir': f'{path_base}/Archivos/Resultados/Clasificacion', # Direcotrio de resultados    \n",
    "    'redoStats': True, #True, #True,        # True : Rehace las estadisticas, caso contrario solo lee los archivos de reportes\n",
    "    'drop'     : ['idTest',['20240326_224209', '20240326_050743']], #['idTest',['20240326_224209', '20230710_181720']],#['P-rnn_tipo',['LSTM']],    'idTest', ['20230706_044401']\n",
    "    'select'   : ['P-dsTName' , ['CLASE_TrainDS_3','XXXXX_V2','CLASE_TrainDS_1']], #['P-dsTName' , ['XXXXX_V2']], #['P-dsTName' , ['CLASE_TrainDS_3']],\n",
    "       \n",
    "    # Stats\n",
    "    'model'    : 'Clasificacion',  \n",
    "    'criterio' : 'acc_bal',       # avg_acc_bal Para filtrar el mejor modelo de las epocas en cada test\n",
    "    'ascending': False,           # True = Max segun el criterio\n",
    "    'filterHP' : True,            # Muestra solo las columnas de HP que varia\n",
    "    \n",
    "    # Graficas\n",
    "    'grafica'  : True,\n",
    "    'train'    : False,\n",
    "    'maxNum'   : 5,              # 0 = TODOS los modelos\n",
    "}\n",
    "\n",
    "\n",
    "bestResults = summaryStats(path_base, params)\n",
    "print(len(bestResults))\n",
    "bestResults.head(10)#[(bestResults['TNR']!=0) & (bestResults['TPR']!=0)].head(30)"
   ]
  },
  {
   "cell_type": "code",
   "execution_count": 17,
   "id": "df8fe3c8-bcf2-4dd1-934e-351800809e85",
   "metadata": {},
   "outputs": [],
   "source": [
    "#bestResults[['idTest', 'epoca', 'TNR', 'TPR', 'acc_bal', 'train_TNR', 'train_TPR',\n",
    "#       'train_acc_bal','P-inputs','P-rnn_tipo']].groupby(['idTest','P-rnn_tipo', 'acc_bal']).max().head(20).sort_values('acc_bal', ascending=False)#"
   ]
  },
  {
   "cell_type": "code",
   "execution_count": null,
   "id": "33ae6953-dd6e-4aa2-bb1d-e2f3244c67ea",
   "metadata": {},
   "outputs": [],
   "source": []
  },
  {
   "cell_type": "code",
   "execution_count": 32,
   "id": "d879cddf-45a3-4f1c-803f-df5f841a5049",
   "metadata": {},
   "outputs": [
    {
     "name": "stdout",
     "output_type": "stream",
     "text": [
      "Se va rehacer el dataset....\n"
     ]
    },
    {
     "data": {
      "image/png": "[encoded data removed]",
      "text/plain": [
       "<Figure size 432x288 with 1 Axes>"
      ]
     },
     "metadata": {
      "needs_background": "light"
     },
     "output_type": "display_data"
    },
    {
     "name": "stdout",
     "output_type": "stream",
     "text": [
      "HIPERPARAMETROS UNICOS...\n",
      "                           VALORES\n",
      "P-loss         binary_crossentropy\n",
      "P-normLayer                   True\n",
      "P-pre_trained                   []\n",
      "P-dense_tipo                  RELU\n",
      "P-canales                        3\n",
      "1132\n"
     ]
    },
    {
     "data": {
      "text/html": [
       "<div>\n",
       "<style scoped>\n",
       "    .dataframe tbody tr th:only-of-type {\n",
       "        vertical-align: middle;\n",
       "    }\n",
       "\n",
       "    .dataframe tbody tr th {\n",
       "        vertical-align: top;\n",
       "    }\n",
       "\n",
       "    .dataframe thead th {\n",
       "        text-align: right;\n",
       "    }\n",
       "</style>\n",
       "<table border=\"1\" class=\"dataframe\">\n",
       "  <thead>\n",
       "    <tr style=\"text-align: right;\">\n",
       "      <th></th>\n",
       "      <th>idTest</th>\n",
       "      <th>epoca</th>\n",
       "      <th>TNR</th>\n",
       "      <th>TPR</th>\n",
       "      <th>acc_bal</th>\n",
       "      <th>train_TNR</th>\n",
       "      <th>train_TPR</th>\n",
       "      <th>train_acc_bal</th>\n",
       "      <th>FDR_FOR</th>\n",
       "      <th>P-inputs</th>\n",
       "      <th>...</th>\n",
       "      <th>P-droupout</th>\n",
       "      <th>P-maxPool</th>\n",
       "      <th>P-rnn_tipo</th>\n",
       "      <th>P-rnn_units</th>\n",
       "      <th>P-dense_cant</th>\n",
       "      <th>P-dense_units</th>\n",
       "      <th>P-kernel_regularizer</th>\n",
       "      <th>P-dense_droupout</th>\n",
       "      <th>P-tiempos</th>\n",
       "      <th>P-margen</th>\n",
       "    </tr>\n",
       "  </thead>\n",
       "  <tbody>\n",
       "    <tr>\n",
       "      <th>406</th>\n",
       "      <td>20241126_091203</td>\n",
       "      <td>185</td>\n",
       "      <td>1.0</td>\n",
       "      <td>0.822014</td>\n",
       "      <td>0.911007</td>\n",
       "      <td>0.848958</td>\n",
       "      <td>0.85625</td>\n",
       "      <td>0.852604</td>\n",
       "      <td>0.475</td>\n",
       "      <td>['imagen', '_dato', '_umb1', '_altura']</td>\n",
       "      <td>...</td>\n",
       "      <td>[0.1, 0.3, 0.2, 0.2, 0.1, 0.1]</td>\n",
       "      <td>[False, False, False, False, False, False]</td>\n",
       "      <td>CONV3D</td>\n",
       "      <td>16</td>\n",
       "      <td>4</td>\n",
       "      <td>[64, 32, 16, 8]</td>\n",
       "      <td>[0, 0, 0, 0]</td>\n",
       "      <td>[0.3, 0.2, 0.1, 0]</td>\n",
       "      <td>6</td>\n",
       "      <td>12</td>\n",
       "    </tr>\n",
       "    <tr>\n",
       "      <th>598</th>\n",
       "      <td>20241127_080653</td>\n",
       "      <td>177</td>\n",
       "      <td>1.0</td>\n",
       "      <td>0.809524</td>\n",
       "      <td>0.904762</td>\n",
       "      <td>0.865625</td>\n",
       "      <td>0.857292</td>\n",
       "      <td>0.861458</td>\n",
       "      <td>0.476562</td>\n",
       "      <td>['imagen', '_dato', '_umb1', '_altura']</td>\n",
       "      <td>...</td>\n",
       "      <td>[0.1, 0.3, 0.2, 0.2, 0.1, 0.1]</td>\n",
       "      <td>[False, False, False, False, False, False]</td>\n",
       "      <td>CONV3D</td>\n",
       "      <td>16</td>\n",
       "      <td>4</td>\n",
       "      <td>[64, 32, 16, 8]</td>\n",
       "      <td>[0, 0, 0, 0]</td>\n",
       "      <td>[0.3, 0.2, 0.1, 0]</td>\n",
       "      <td>6</td>\n",
       "      <td>12</td>\n",
       "    </tr>\n",
       "    <tr>\n",
       "      <th>5515</th>\n",
       "      <td>20241129_012609</td>\n",
       "      <td>143</td>\n",
       "      <td>0.953488</td>\n",
       "      <td>0.766273</td>\n",
       "      <td>0.859881</td>\n",
       "      <td>0.91129</td>\n",
       "      <td>0.854839</td>\n",
       "      <td>0.883065</td>\n",
       "      <td>0.447976</td>\n",
       "      <td>['imagen', '_dato', '_umb1', '_altura']</td>\n",
       "      <td>...</td>\n",
       "      <td>[0.1, 0.3, 0.2, 0.2, 0.1, 0.1]</td>\n",
       "      <td>[False, False, False, False, False, False]</td>\n",
       "      <td>LSTM</td>\n",
       "      <td>8</td>\n",
       "      <td>4</td>\n",
       "      <td>[64, 32, 16, 8]</td>\n",
       "      <td>[0, 0, 0, 0]</td>\n",
       "      <td>[0.3, 0.2, 0.1, 0]</td>\n",
       "      <td>6</td>\n",
       "      <td>10</td>\n",
       "    </tr>\n",
       "    <tr>\n",
       "      <th>4917</th>\n",
       "      <td>20241030_101704</td>\n",
       "      <td>145</td>\n",
       "      <td>0.911111</td>\n",
       "      <td>0.792616</td>\n",
       "      <td>0.851864</td>\n",
       "      <td>0.892127</td>\n",
       "      <td>0.870793</td>\n",
       "      <td>0.88146</td>\n",
       "      <td>0.470969</td>\n",
       "      <td>['imagen', '_dato', '_umb1', '_altura']</td>\n",
       "      <td>...</td>\n",
       "      <td>[0.1, 0.3, 0.2, 0.2, 0.1, 0.1]</td>\n",
       "      <td>[False, False, False, False, False, False]</td>\n",
       "      <td>LSTM</td>\n",
       "      <td>16</td>\n",
       "      <td>4</td>\n",
       "      <td>[64, 32, 16, 8]</td>\n",
       "      <td>[0, 0, 0, 0]</td>\n",
       "      <td>[0.3, 0.2, 0.1, 0]</td>\n",
       "      <td>6</td>\n",
       "      <td>12</td>\n",
       "    </tr>\n",
       "    <tr>\n",
       "      <th>2486</th>\n",
       "      <td>20241203_220634</td>\n",
       "      <td>175</td>\n",
       "      <td>0.953488</td>\n",
       "      <td>0.706239</td>\n",
       "      <td>0.829864</td>\n",
       "      <td>0.935484</td>\n",
       "      <td>0.703293</td>\n",
       "      <td>0.819388</td>\n",
       "      <td>0.457931</td>\n",
       "      <td>['imagen', '_dato', '_umb1', '_altura']</td>\n",
       "      <td>...</td>\n",
       "      <td>[0.1, 0.3, 0.2, 0.1, 0.1]</td>\n",
       "      <td>[False, False, False, False, False]</td>\n",
       "      <td>CONV3D</td>\n",
       "      <td>8</td>\n",
       "      <td>4</td>\n",
       "      <td>[64, 32, 16, 8]</td>\n",
       "      <td>[0, 0, 0, 0]</td>\n",
       "      <td>[0.3, 0.2, 0.1, 0]</td>\n",
       "      <td>6</td>\n",
       "      <td>12</td>\n",
       "    </tr>\n",
       "  </tbody>\n",
       "</table>\n",
       "<p>5 rows × 27 columns</p>\n",
       "</div>"
      ],
      "text/plain": [
       "               idTest epoca       TNR       TPR   acc_bal train_TNR train_TPR  \\\n",
       "406   20241126_091203   185       1.0  0.822014  0.911007  0.848958   0.85625   \n",
       "598   20241127_080653   177       1.0  0.809524  0.904762  0.865625  0.857292   \n",
       "5515  20241129_012609   143  0.953488  0.766273  0.859881   0.91129  0.854839   \n",
       "4917  20241030_101704   145  0.911111  0.792616  0.851864  0.892127  0.870793   \n",
       "2486  20241203_220634   175  0.953488  0.706239  0.829864  0.935484  0.703293   \n",
       "\n",
       "     train_acc_bal   FDR_FOR                                 P-inputs  ...  \\\n",
       "406       0.852604     0.475  ['imagen', '_dato', '_umb1', '_altura']  ...   \n",
       "598       0.861458  0.476562  ['imagen', '_dato', '_umb1', '_altura']  ...   \n",
       "5515      0.883065  0.447976  ['imagen', '_dato', '_umb1', '_altura']  ...   \n",
       "4917       0.88146  0.470969  ['imagen', '_dato', '_umb1', '_altura']  ...   \n",
       "2486      0.819388  0.457931  ['imagen', '_dato', '_umb1', '_altura']  ...   \n",
       "\n",
       "                          P-droupout  \\\n",
       "406   [0.1, 0.3, 0.2, 0.2, 0.1, 0.1]   \n",
       "598   [0.1, 0.3, 0.2, 0.2, 0.1, 0.1]   \n",
       "5515  [0.1, 0.3, 0.2, 0.2, 0.1, 0.1]   \n",
       "4917  [0.1, 0.3, 0.2, 0.2, 0.1, 0.1]   \n",
       "2486       [0.1, 0.3, 0.2, 0.1, 0.1]   \n",
       "\n",
       "                                       P-maxPool P-rnn_tipo P-rnn_units  \\\n",
       "406   [False, False, False, False, False, False]     CONV3D          16   \n",
       "598   [False, False, False, False, False, False]     CONV3D          16   \n",
       "5515  [False, False, False, False, False, False]       LSTM           8   \n",
       "4917  [False, False, False, False, False, False]       LSTM          16   \n",
       "2486         [False, False, False, False, False]     CONV3D           8   \n",
       "\n",
       "     P-dense_cant    P-dense_units P-kernel_regularizer    P-dense_droupout  \\\n",
       "406             4  [64, 32, 16, 8]         [0, 0, 0, 0]  [0.3, 0.2, 0.1, 0]   \n",
       "598             4  [64, 32, 16, 8]         [0, 0, 0, 0]  [0.3, 0.2, 0.1, 0]   \n",
       "5515            4  [64, 32, 16, 8]         [0, 0, 0, 0]  [0.3, 0.2, 0.1, 0]   \n",
       "4917            4  [64, 32, 16, 8]         [0, 0, 0, 0]  [0.3, 0.2, 0.1, 0]   \n",
       "2486            4  [64, 32, 16, 8]         [0, 0, 0, 0]  [0.3, 0.2, 0.1, 0]   \n",
       "\n",
       "     P-tiempos P-margen  \n",
       "406          6       12  \n",
       "598          6       12  \n",
       "5515         6       10  \n",
       "4917         6       12  \n",
       "2486         6       12  \n",
       "\n",
       "[5 rows x 27 columns]"
      ]
     },
     "execution_count": 32,
     "metadata": {},
     "output_type": "execute_result"
    }
   ],
   "source": [
    "params = {\n",
    "    # General\n",
    "    'resultDir': f'{path_base}/Archivos/Resultados/Clasificacion', # Direcotrio de resultados    \n",
    "    'redoStats': True, #True, #True,        # True : Rehace las estadisticas, caso contrario solo lee los archivos de reportes\n",
    "    'drop'     : ['idTest',['20241126_012437','20240326_224209', '20240326_050743']], #['idTest',['20240326_224209', '20230710_181720']],#['P-rnn_tipo',['LSTM']],    'idTest', ['20230706_044401']\n",
    "    'select'   :['P-dsTName' , ['CLASE_TrainDS_1']], #['P-dsTName' , ['XXXXX_V2']], #['P-dsTName' , ['CLASE_TrainDS_3']],\n",
    "       \n",
    "    # Stats\n",
    "    'model'    : 'Clasificacion',  \n",
    "    'criterio' : 'acc_bal',       # avg_acc_bal Para filtrar el mejor modelo de las epocas en cada test\n",
    "    'ascending': False,           # True = Max segun el criterio\n",
    "    'filterHP' : True,            # Muestra solo las columnas de HP que varia\n",
    "    \n",
    "    # Graficas\n",
    "    'grafica'  : True,\n",
    "    'train'    : False,\n",
    "    'maxNum'   : 6,              # 0 = TODOS los modelos\n",
    "}\n",
    "\n",
    "\n",
    "bestResults = summaryStats(path_base, params)\n",
    "print(len(bestResults))\n",
    "bestResults.head(5)#[(bestResults['TNR']!=0) & (bestResults['TPR']!=0)].head(30)"
   ]
  },
  {
   "cell_type": "code",
   "execution_count": null,
   "id": "4d7a24fc-57d2-4ffc-94c9-5d88948b1249",
   "metadata": {},
   "outputs": [],
   "source": []
  },
  {
   "cell_type": "code",
   "execution_count": 33,
   "id": "1b5e1b50-6412-4c84-98d1-22b65e7c3b31",
   "metadata": {},
   "outputs": [
    {
     "data": {
      "text/plain": [
       "{'idTest': {5515: '20241129_012609'},\n",
       " 'epoca': {5515: 143},\n",
       " 'TNR': {5515: 0.9534883720930233},\n",
       " 'TPR': {5515: 0.7662731871838111},\n",
       " 'acc_bal': {5515: 0.8598807796384171},\n",
       " 'train_TNR': {5515: 0.9112903225806451},\n",
       " 'train_TPR': {5515: 0.8548387096774194},\n",
       " 'train_acc_bal': {5515: 0.8830645161290323},\n",
       " 'FDR_FOR': {5515: 0.4479755088156925},\n",
       " 'P-inputs': {5515: \"['imagen', '_dato', '_umb1', '_altura']\"},\n",
       " 'P-optimizer': {5515: 'Adam'},\n",
       " 'P-lr_schedule': {5515: 0.0},\n",
       " 'P-lr_decay': {5515: 0.94},\n",
       " 'P-lr': {5515: 0.001},\n",
       " 'P-batchNorm': {5515: True},\n",
       " 'P-cnn_cant': {5515: 6},\n",
       " 'P-cnn_units': {5515: '[16, 32, 64, 32, 16, 8]'},\n",
       " 'P-droupout': {5515: '[0.1, 0.3, 0.2, 0.2, 0.1, 0.1]'},\n",
       " 'P-maxPool': {5515: '[False, False, False, False, False, False]'},\n",
       " 'P-rnn_tipo': {5515: 'LSTM'},\n",
       " 'P-rnn_units': {5515: 8},\n",
       " 'P-dense_cant': {5515: 4},\n",
       " 'P-dense_units': {5515: '[64, 32, 16, 8]'},\n",
       " 'P-kernel_regularizer': {5515: '[0, 0, 0, 0]'},\n",
       " 'P-dense_droupout': {5515: '[0.3, 0.2, 0.1, 0]'},\n",
       " 'P-tiempos': {5515: 6},\n",
       " 'P-margen': {5515: 10}}"
      ]
     },
     "execution_count": 33,
     "metadata": {},
     "output_type": "execute_result"
    }
   ],
   "source": [
    "bestResults[bestResults['idTest']=='20241129_012609'].to_dict()"
   ]
  },
  {
   "cell_type": "code",
   "execution_count": 20,
   "id": "cad7530a-ee55-43b5-b7fb-b67743693b2d",
   "metadata": {},
   "outputs": [
    {
     "data": {
      "text/plain": [
       "(0.9586260733801717, 0.75)"
      ]
     },
     "execution_count": 20,
     "metadata": {},
     "output_type": "execute_result"
    }
   ],
   "source": [
    "1228/(1228+53),9/12"
   ]
  },
  {
   "cell_type": "code",
   "execution_count": 21,
   "id": "a24547bd-5723-4570-a44f-f31dfe5fa61f",
   "metadata": {},
   "outputs": [
    {
     "data": {
      "text/plain": [
       "0.8543130366900855"
      ]
     },
     "execution_count": 21,
     "metadata": {},
     "output_type": "execute_result"
    }
   ],
   "source": [
    "(0.958626073380171+0.75)/2"
   ]
  },
  {
   "cell_type": "code",
   "execution_count": 22,
   "id": "c30a5dc8-9181-45dd-b80f-e569910dfa60",
   "metadata": {},
   "outputs": [
    {
     "data": {
      "text/html": [
       "<div>\n",
       "<style scoped>\n",
       "    .dataframe tbody tr th:only-of-type {\n",
       "        vertical-align: middle;\n",
       "    }\n",
       "\n",
       "    .dataframe tbody tr th {\n",
       "        vertical-align: top;\n",
       "    }\n",
       "\n",
       "    .dataframe thead th {\n",
       "        text-align: right;\n",
       "    }\n",
       "</style>\n",
       "<table border=\"1\" class=\"dataframe\">\n",
       "  <thead>\n",
       "    <tr style=\"text-align: right;\">\n",
       "      <th></th>\n",
       "      <th></th>\n",
       "      <th>epoca</th>\n",
       "      <th>TNR</th>\n",
       "      <th>TPR</th>\n",
       "      <th>acc_bal</th>\n",
       "      <th>train_TNR</th>\n",
       "      <th>train_TPR</th>\n",
       "      <th>train_acc_bal</th>\n",
       "      <th>P-inputs</th>\n",
       "    </tr>\n",
       "    <tr>\n",
       "      <th>idTest</th>\n",
       "      <th>P-rnn_tipo</th>\n",
       "      <th></th>\n",
       "      <th></th>\n",
       "      <th></th>\n",
       "      <th></th>\n",
       "      <th></th>\n",
       "      <th></th>\n",
       "      <th></th>\n",
       "      <th></th>\n",
       "    </tr>\n",
       "  </thead>\n",
       "  <tbody>\n",
       "    <tr>\n",
       "      <th>20240924_235431</th>\n",
       "      <th>LSTM</th>\n",
       "      <td>62</td>\n",
       "      <td>0.866667</td>\n",
       "      <td>0.589085</td>\n",
       "      <td>0.727876</td>\n",
       "      <td>0.624099</td>\n",
       "      <td>0.667668</td>\n",
       "      <td>0.645883</td>\n",
       "      <td>['imagen', 'dato', 'umb1', 'altura']</td>\n",
       "    </tr>\n",
       "    <tr>\n",
       "      <th>20240927_152142</th>\n",
       "      <th>CONV3D</th>\n",
       "      <td>97</td>\n",
       "      <td>0.733333</td>\n",
       "      <td>0.708507</td>\n",
       "      <td>0.720920</td>\n",
       "      <td>0.256010</td>\n",
       "      <td>0.733774</td>\n",
       "      <td>0.494892</td>\n",
       "      <td>['imagen', 'dato', 'umb1', 'altura']</td>\n",
       "    </tr>\n",
       "    <tr>\n",
       "      <th>20240923_101614</th>\n",
       "      <th>LSTM</th>\n",
       "      <td>129</td>\n",
       "      <td>0.866667</td>\n",
       "      <td>0.573355</td>\n",
       "      <td>0.720011</td>\n",
       "      <td>0.636118</td>\n",
       "      <td>0.617188</td>\n",
       "      <td>0.626653</td>\n",
       "      <td>['imagen', 'dato', 'umb1', 'altura']</td>\n",
       "    </tr>\n",
       "    <tr>\n",
       "      <th>20240926_181051</th>\n",
       "      <th>CONV3D</th>\n",
       "      <td>81</td>\n",
       "      <td>0.866667</td>\n",
       "      <td>0.569181</td>\n",
       "      <td>0.717924</td>\n",
       "      <td>0.292067</td>\n",
       "      <td>0.738281</td>\n",
       "      <td>0.515174</td>\n",
       "      <td>['imagen', 'dato', 'umb1', 'altura']</td>\n",
       "    </tr>\n",
       "    <tr>\n",
       "      <th>20241004_070526</th>\n",
       "      <th>LSTM</th>\n",
       "      <td>27</td>\n",
       "      <td>0.888889</td>\n",
       "      <td>0.546067</td>\n",
       "      <td>0.717478</td>\n",
       "      <td>0.748798</td>\n",
       "      <td>0.490685</td>\n",
       "      <td>0.619742</td>\n",
       "      <td>['imagen', '_dato', '_umb1', '_altura']</td>\n",
       "    </tr>\n",
       "    <tr>\n",
       "      <th>20240926_230328</th>\n",
       "      <th>CONV3D</th>\n",
       "      <td>26</td>\n",
       "      <td>0.955556</td>\n",
       "      <td>0.446228</td>\n",
       "      <td>0.700892</td>\n",
       "      <td>0.655048</td>\n",
       "      <td>0.608774</td>\n",
       "      <td>0.631911</td>\n",
       "      <td>['imagen', 'dato', 'umb1', 'altura']</td>\n",
       "    </tr>\n",
       "    <tr>\n",
       "      <th>20240926_093952</th>\n",
       "      <th>CONV3D</th>\n",
       "      <td>110</td>\n",
       "      <td>0.955556</td>\n",
       "      <td>0.444623</td>\n",
       "      <td>0.700089</td>\n",
       "      <td>0.657452</td>\n",
       "      <td>0.586839</td>\n",
       "      <td>0.622145</td>\n",
       "      <td>['imagen', 'dato', 'umb1', 'altura']</td>\n",
       "    </tr>\n",
       "    <tr>\n",
       "      <th>20240926_012637</th>\n",
       "      <th>CONV3D</th>\n",
       "      <td>46</td>\n",
       "      <td>1.000000</td>\n",
       "      <td>0.088283</td>\n",
       "      <td>0.544141</td>\n",
       "      <td>0.118690</td>\n",
       "      <td>0.981671</td>\n",
       "      <td>0.550180</td>\n",
       "      <td>['imagen', 'dato', 'umb1', 'altura']</td>\n",
       "    </tr>\n",
       "    <tr>\n",
       "      <th>20240924_043001</th>\n",
       "      <th>LSTM</th>\n",
       "      <td>137</td>\n",
       "      <td>0.111111</td>\n",
       "      <td>0.971108</td>\n",
       "      <td>0.541109</td>\n",
       "      <td>0.083233</td>\n",
       "      <td>0.987981</td>\n",
       "      <td>0.535607</td>\n",
       "      <td>['imagen', 'dato', 'umb1', 'altura']</td>\n",
       "    </tr>\n",
       "    <tr>\n",
       "      <th>20241003_044337</th>\n",
       "      <th>CONV3D</th>\n",
       "      <td>33</td>\n",
       "      <td>1.000000</td>\n",
       "      <td>0.020225</td>\n",
       "      <td>0.510112</td>\n",
       "      <td>0.995192</td>\n",
       "      <td>0.012320</td>\n",
       "      <td>0.503756</td>\n",
       "      <td>['imagen', 'dato', 'umb1', 'altura']</td>\n",
       "    </tr>\n",
       "    <tr>\n",
       "      <th>20240922_223935</th>\n",
       "      <th>LSTM</th>\n",
       "      <td>42</td>\n",
       "      <td>1.000000</td>\n",
       "      <td>0.009631</td>\n",
       "      <td>0.504815</td>\n",
       "      <td>0.611779</td>\n",
       "      <td>0.402644</td>\n",
       "      <td>0.507212</td>\n",
       "      <td>['imagen', 'dato', 'umb1', 'altura']</td>\n",
       "    </tr>\n",
       "    <tr>\n",
       "      <th>20241002_214602</th>\n",
       "      <th>CONV3D</th>\n",
       "      <td>5</td>\n",
       "      <td>1.000000</td>\n",
       "      <td>0.008347</td>\n",
       "      <td>0.504173</td>\n",
       "      <td>0.732572</td>\n",
       "      <td>0.879207</td>\n",
       "      <td>0.805889</td>\n",
       "      <td>['imagen', 'dato', 'umb1', 'altura']</td>\n",
       "    </tr>\n",
       "    <tr>\n",
       "      <th>20240925_221222</th>\n",
       "      <th>CONV3D</th>\n",
       "      <td>8</td>\n",
       "      <td>1.000000</td>\n",
       "      <td>0.007705</td>\n",
       "      <td>0.503852</td>\n",
       "      <td>0.520132</td>\n",
       "      <td>0.444111</td>\n",
       "      <td>0.482121</td>\n",
       "      <td>['imagen', 'dato', 'umb1', 'altura']</td>\n",
       "    </tr>\n",
       "    <tr>\n",
       "      <th>20241004_005025</th>\n",
       "      <th>CONV3D</th>\n",
       "      <td>50</td>\n",
       "      <td>1.000000</td>\n",
       "      <td>0.000000</td>\n",
       "      <td>0.500000</td>\n",
       "      <td>0.786659</td>\n",
       "      <td>1.000000</td>\n",
       "      <td>0.875751</td>\n",
       "      <td>['imagen', '_dato', '_umb1', '_altura']</td>\n",
       "    </tr>\n",
       "    <tr>\n",
       "      <th>20241004_211425</th>\n",
       "      <th>CONV3D</th>\n",
       "      <td>100</td>\n",
       "      <td>1.000000</td>\n",
       "      <td>0.000000</td>\n",
       "      <td>0.500000</td>\n",
       "      <td>0.770733</td>\n",
       "      <td>0.984675</td>\n",
       "      <td>0.877704</td>\n",
       "      <td>['imagen', '_dato', '_umb1', '_altura']</td>\n",
       "    </tr>\n",
       "    <tr>\n",
       "      <th>20240922_220825</th>\n",
       "      <th>CONV3D</th>\n",
       "      <td>0</td>\n",
       "      <td>1.000000</td>\n",
       "      <td>0.000000</td>\n",
       "      <td>0.500000</td>\n",
       "      <td>0.731370</td>\n",
       "      <td>1.000000</td>\n",
       "      <td>0.865685</td>\n",
       "      <td>['imagen', 'dato', 'umb1', 'altura']</td>\n",
       "    </tr>\n",
       "    <tr>\n",
       "      <th>20241003_183311</th>\n",
       "      <th>CONV3D</th>\n",
       "      <td>50</td>\n",
       "      <td>1.000000</td>\n",
       "      <td>0.000000</td>\n",
       "      <td>0.500000</td>\n",
       "      <td>1.000000</td>\n",
       "      <td>0.997596</td>\n",
       "      <td>0.888972</td>\n",
       "      <td>['imagen', '_dato', '_umb1', '_altura']</td>\n",
       "    </tr>\n",
       "    <tr>\n",
       "      <th>20240928_143843</th>\n",
       "      <th>CONV3D</th>\n",
       "      <td>50</td>\n",
       "      <td>1.000000</td>\n",
       "      <td>0.000000</td>\n",
       "      <td>0.500000</td>\n",
       "      <td>1.000000</td>\n",
       "      <td>0.980769</td>\n",
       "      <td>0.942007</td>\n",
       "      <td>['imagen', 'dato', 'umb1', 'altura']</td>\n",
       "    </tr>\n",
       "    <tr>\n",
       "      <th>20240928_081740</th>\n",
       "      <th>CONV3D</th>\n",
       "      <td>50</td>\n",
       "      <td>1.000000</td>\n",
       "      <td>0.000000</td>\n",
       "      <td>0.500000</td>\n",
       "      <td>1.000000</td>\n",
       "      <td>1.000000</td>\n",
       "      <td>0.818810</td>\n",
       "      <td>['imagen', 'dato', 'umb1', 'altura']</td>\n",
       "    </tr>\n",
       "    <tr>\n",
       "      <th>20241005_092241</th>\n",
       "      <th>CONV3D</th>\n",
       "      <td>103</td>\n",
       "      <td>1.000000</td>\n",
       "      <td>1.000000</td>\n",
       "      <td>0.500000</td>\n",
       "      <td>0.828125</td>\n",
       "      <td>1.000000</td>\n",
       "      <td>0.858474</td>\n",
       "      <td>['imagen', '_dato', '_umb1', '_altura']</td>\n",
       "    </tr>\n",
       "  </tbody>\n",
       "</table>\n",
       "</div>"
      ],
      "text/plain": [
       "                            epoca       TNR       TPR   acc_bal  train_TNR  \\\n",
       "idTest          P-rnn_tipo                                                   \n",
       "20240924_235431 LSTM           62  0.866667  0.589085  0.727876   0.624099   \n",
       "20240927_152142 CONV3D         97  0.733333  0.708507  0.720920   0.256010   \n",
       "20240923_101614 LSTM          129  0.866667  0.573355  0.720011   0.636118   \n",
       "20240926_181051 CONV3D         81  0.866667  0.569181  0.717924   0.292067   \n",
       "20241004_070526 LSTM           27  0.888889  0.546067  0.717478   0.748798   \n",
       "20240926_230328 CONV3D         26  0.955556  0.446228  0.700892   0.655048   \n",
       "20240926_093952 CONV3D        110  0.955556  0.444623  0.700089   0.657452   \n",
       "20240926_012637 CONV3D         46  1.000000  0.088283  0.544141   0.118690   \n",
       "20240924_043001 LSTM          137  0.111111  0.971108  0.541109   0.083233   \n",
       "20241003_044337 CONV3D         33  1.000000  0.020225  0.510112   0.995192   \n",
       "20240922_223935 LSTM           42  1.000000  0.009631  0.504815   0.611779   \n",
       "20241002_214602 CONV3D          5  1.000000  0.008347  0.504173   0.732572   \n",
       "20240925_221222 CONV3D          8  1.000000  0.007705  0.503852   0.520132   \n",
       "20241004_005025 CONV3D         50  1.000000  0.000000  0.500000   0.786659   \n",
       "20241004_211425 CONV3D        100  1.000000  0.000000  0.500000   0.770733   \n",
       "20240922_220825 CONV3D          0  1.000000  0.000000  0.500000   0.731370   \n",
       "20241003_183311 CONV3D         50  1.000000  0.000000  0.500000   1.000000   \n",
       "20240928_143843 CONV3D         50  1.000000  0.000000  0.500000   1.000000   \n",
       "20240928_081740 CONV3D         50  1.000000  0.000000  0.500000   1.000000   \n",
       "20241005_092241 CONV3D        103  1.000000  1.000000  0.500000   0.828125   \n",
       "\n",
       "                            train_TPR  train_acc_bal  \\\n",
       "idTest          P-rnn_tipo                             \n",
       "20240924_235431 LSTM         0.667668       0.645883   \n",
       "20240927_152142 CONV3D       0.733774       0.494892   \n",
       "20240923_101614 LSTM         0.617188       0.626653   \n",
       "20240926_181051 CONV3D       0.738281       0.515174   \n",
       "20241004_070526 LSTM         0.490685       0.619742   \n",
       "20240926_230328 CONV3D       0.608774       0.631911   \n",
       "20240926_093952 CONV3D       0.586839       0.622145   \n",
       "20240926_012637 CONV3D       0.981671       0.550180   \n",
       "20240924_043001 LSTM         0.987981       0.535607   \n",
       "20241003_044337 CONV3D       0.012320       0.503756   \n",
       "20240922_223935 LSTM         0.402644       0.507212   \n",
       "20241002_214602 CONV3D       0.879207       0.805889   \n",
       "20240925_221222 CONV3D       0.444111       0.482121   \n",
       "20241004_005025 CONV3D       1.000000       0.875751   \n",
       "20241004_211425 CONV3D       0.984675       0.877704   \n",
       "20240922_220825 CONV3D       1.000000       0.865685   \n",
       "20241003_183311 CONV3D       0.997596       0.888972   \n",
       "20240928_143843 CONV3D       0.980769       0.942007   \n",
       "20240928_081740 CONV3D       1.000000       0.818810   \n",
       "20241005_092241 CONV3D       1.000000       0.858474   \n",
       "\n",
       "                                                           P-inputs  \n",
       "idTest          P-rnn_tipo                                           \n",
       "20240924_235431 LSTM           ['imagen', 'dato', 'umb1', 'altura']  \n",
       "20240927_152142 CONV3D         ['imagen', 'dato', 'umb1', 'altura']  \n",
       "20240923_101614 LSTM           ['imagen', 'dato', 'umb1', 'altura']  \n",
       "20240926_181051 CONV3D         ['imagen', 'dato', 'umb1', 'altura']  \n",
       "20241004_070526 LSTM        ['imagen', '_dato', '_umb1', '_altura']  \n",
       "20240926_230328 CONV3D         ['imagen', 'dato', 'umb1', 'altura']  \n",
       "20240926_093952 CONV3D         ['imagen', 'dato', 'umb1', 'altura']  \n",
       "20240926_012637 CONV3D         ['imagen', 'dato', 'umb1', 'altura']  \n",
       "20240924_043001 LSTM           ['imagen', 'dato', 'umb1', 'altura']  \n",
       "20241003_044337 CONV3D         ['imagen', 'dato', 'umb1', 'altura']  \n",
       "20240922_223935 LSTM           ['imagen', 'dato', 'umb1', 'altura']  \n",
       "20241002_214602 CONV3D         ['imagen', 'dato', 'umb1', 'altura']  \n",
       "20240925_221222 CONV3D         ['imagen', 'dato', 'umb1', 'altura']  \n",
       "20241004_005025 CONV3D      ['imagen', '_dato', '_umb1', '_altura']  \n",
       "20241004_211425 CONV3D      ['imagen', '_dato', '_umb1', '_altura']  \n",
       "20240922_220825 CONV3D         ['imagen', 'dato', 'umb1', 'altura']  \n",
       "20241003_183311 CONV3D      ['imagen', '_dato', '_umb1', '_altura']  \n",
       "20240928_143843 CONV3D         ['imagen', 'dato', 'umb1', 'altura']  \n",
       "20240928_081740 CONV3D         ['imagen', 'dato', 'umb1', 'altura']  \n",
       "20241005_092241 CONV3D      ['imagen', '_dato', '_umb1', '_altura']  "
      ]
     },
     "execution_count": 22,
     "metadata": {},
     "output_type": "execute_result"
    }
   ],
   "source": [
    "bestResults[['idTest', 'epoca', 'TNR', 'TPR', 'acc_bal', 'train_TNR', 'train_TPR',\n",
    "       'train_acc_bal','P-inputs','P-rnn_tipo']].groupby(['idTest','P-rnn_tipo']).max().head(20).sort_values('acc_bal', ascending=False)"
   ]
  },
  {
   "cell_type": "code",
   "execution_count": null,
   "id": "8be4c9df-c169-4525-a012-5b8d8d1d8e77",
   "metadata": {},
   "outputs": [],
   "source": []
  },
  {
   "cell_type": "code",
   "execution_count": 22,
   "id": "257a71c2-b9f0-4651-9682-1e8c5bf9d45f",
   "metadata": {
    "collapsed": true,
    "jupyter": {
     "outputs_hidden": true
    },
    "tags": []
   },
   "outputs": [
    {
     "name": "stdout",
     "output_type": "stream",
     "text": [
      "Se va rehacer el dataset....\n"
     ]
    },
    {
     "data": {
      "image/png": "[encoded data removed]",
      "text/plain": [
       "<Figure size 432x288 with 1 Axes>"
      ]
     },
     "metadata": {
      "needs_background": "light"
     },
     "output_type": "display_data"
    },
    {
     "name": "stdout",
     "output_type": "stream",
     "text": [
      "HIPERPARAMETROS UNICOS...\n",
      "                           VALORES\n",
      "P-loss         binary_crossentropy\n",
      "P-normLayer                   True\n",
      "P-pre_trained                   []\n",
      "P-dense_tipo                  RELU\n",
      "P-canales                        3\n",
      "1122\n"
     ]
    },
    {
     "data": {
      "text/html": [
       "<div>\n",
       "<style scoped>\n",
       "    .dataframe tbody tr th:only-of-type {\n",
       "        vertical-align: middle;\n",
       "    }\n",
       "\n",
       "    .dataframe tbody tr th {\n",
       "        vertical-align: top;\n",
       "    }\n",
       "\n",
       "    .dataframe thead th {\n",
       "        text-align: right;\n",
       "    }\n",
       "</style>\n",
       "<table border=\"1\" class=\"dataframe\">\n",
       "  <thead>\n",
       "    <tr style=\"text-align: right;\">\n",
       "      <th></th>\n",
       "      <th>idTest</th>\n",
       "      <th>epoca</th>\n",
       "      <th>TNR</th>\n",
       "      <th>TPR</th>\n",
       "      <th>acc_bal</th>\n",
       "      <th>train_TNR</th>\n",
       "      <th>train_TPR</th>\n",
       "      <th>train_acc_bal</th>\n",
       "      <th>FDR_FOR</th>\n",
       "      <th>P-inputs</th>\n",
       "      <th>...</th>\n",
       "      <th>P-rnn_units</th>\n",
       "      <th>P-dense_cant</th>\n",
       "      <th>P-dense_units</th>\n",
       "      <th>P-tiempos</th>\n",
       "      <th>P-margen</th>\n",
       "      <th>P-dense_droupout</th>\n",
       "      <th>P-optimizer</th>\n",
       "      <th>P-lr_schedule</th>\n",
       "      <th>P-kernel_regularizer</th>\n",
       "      <th>P-lr_decay</th>\n",
       "    </tr>\n",
       "  </thead>\n",
       "  <tbody>\n",
       "    <tr>\n",
       "      <th>3496</th>\n",
       "      <td>20241030_101704</td>\n",
       "      <td>145</td>\n",
       "      <td>0.911111</td>\n",
       "      <td>0.792616</td>\n",
       "      <td>0.851864</td>\n",
       "      <td>0.892127</td>\n",
       "      <td>0.870793</td>\n",
       "      <td>0.88146</td>\n",
       "      <td>0.470969</td>\n",
       "      <td>['imagen', '_dato', '_umb1', '_altura']</td>\n",
       "      <td>...</td>\n",
       "      <td>16</td>\n",
       "      <td>4</td>\n",
       "      <td>[64, 32, 16, 8]</td>\n",
       "      <td>6</td>\n",
       "      <td>12</td>\n",
       "      <td>[0.3, 0.2, 0.1, 0]</td>\n",
       "      <td>Adam</td>\n",
       "      <td>0.0</td>\n",
       "      <td>[0, 0, 0, 0]</td>\n",
       "      <td>0.94</td>\n",
       "    </tr>\n",
       "    <tr>\n",
       "      <th>3690</th>\n",
       "      <td>20241031_131438</td>\n",
       "      <td>139</td>\n",
       "      <td>0.911111</td>\n",
       "      <td>0.71236</td>\n",
       "      <td>0.811735</td>\n",
       "      <td>0.866587</td>\n",
       "      <td>0.844651</td>\n",
       "      <td>0.855619</td>\n",
       "      <td>0.479021</td>\n",
       "      <td>['imagen', '_dato', '_umb1', '_altura']</td>\n",
       "      <td>...</td>\n",
       "      <td>8</td>\n",
       "      <td>4</td>\n",
       "      <td>[64, 32, 16, 8]</td>\n",
       "      <td>6</td>\n",
       "      <td>12</td>\n",
       "      <td>[0.3, 0.2, 0.1, 0]</td>\n",
       "      <td>Adam</td>\n",
       "      <td>0.0</td>\n",
       "      <td>[0, 0, 0, 0]</td>\n",
       "      <td>0.94</td>\n",
       "    </tr>\n",
       "    <tr>\n",
       "      <th>1684</th>\n",
       "      <td>20241028_213953</td>\n",
       "      <td>194</td>\n",
       "      <td>0.911111</td>\n",
       "      <td>0.675441</td>\n",
       "      <td>0.793276</td>\n",
       "      <td>0.91887</td>\n",
       "      <td>0.783654</td>\n",
       "      <td>0.851262</td>\n",
       "      <td>0.481462</td>\n",
       "      <td>['imagen', '_dato', '_umb1', '_altura']</td>\n",
       "      <td>...</td>\n",
       "      <td>16</td>\n",
       "      <td>4</td>\n",
       "      <td>[64, 32, 16, 8]</td>\n",
       "      <td>6</td>\n",
       "      <td>12</td>\n",
       "      <td>[0.3, 0.2, 0.1, 0]</td>\n",
       "      <td>Adam</td>\n",
       "      <td>0.0</td>\n",
       "      <td>[0, 0, 0, 0]</td>\n",
       "      <td>0.94</td>\n",
       "    </tr>\n",
       "    <tr>\n",
       "      <th>1451</th>\n",
       "      <td>20241027_124016</td>\n",
       "      <td>161</td>\n",
       "      <td>0.911111</td>\n",
       "      <td>0.663242</td>\n",
       "      <td>0.787177</td>\n",
       "      <td>0.920072</td>\n",
       "      <td>0.688101</td>\n",
       "      <td>0.804087</td>\n",
       "      <td>0.482159</td>\n",
       "      <td>['imagen', '_dato', '_umb1', '_altura']</td>\n",
       "      <td>...</td>\n",
       "      <td>16</td>\n",
       "      <td>4</td>\n",
       "      <td>[64, 32, 16, 8]</td>\n",
       "      <td>6</td>\n",
       "      <td>12</td>\n",
       "      <td>[0.3, 0.2, 0.1, 0]</td>\n",
       "      <td>Adam</td>\n",
       "      <td>0.0</td>\n",
       "      <td>[0, 0, 0, 0]</td>\n",
       "      <td>0.94</td>\n",
       "    </tr>\n",
       "    <tr>\n",
       "      <th>3042</th>\n",
       "      <td>20241018_170233</td>\n",
       "      <td>91</td>\n",
       "      <td>0.911111</td>\n",
       "      <td>0.599037</td>\n",
       "      <td>0.755074</td>\n",
       "      <td>0.838942</td>\n",
       "      <td>0.601262</td>\n",
       "      <td>0.720102</td>\n",
       "      <td>0.485178</td>\n",
       "      <td>['imagen', '_dato', '_umb1', '_altura']</td>\n",
       "      <td>...</td>\n",
       "      <td>16</td>\n",
       "      <td>4</td>\n",
       "      <td>[64, 32, 16, 8]</td>\n",
       "      <td>6</td>\n",
       "      <td>8</td>\n",
       "      <td>[0.3, 0.2, 0.1, 0]</td>\n",
       "      <td>Adam</td>\n",
       "      <td>0.1</td>\n",
       "      <td>[0, 0, 0, 0]</td>\n",
       "      <td>0.0</td>\n",
       "    </tr>\n",
       "    <tr>\n",
       "      <th>3039</th>\n",
       "      <td>20241018_170233</td>\n",
       "      <td>88</td>\n",
       "      <td>0.911111</td>\n",
       "      <td>0.599037</td>\n",
       "      <td>0.755074</td>\n",
       "      <td>0.836839</td>\n",
       "      <td>0.597356</td>\n",
       "      <td>0.717097</td>\n",
       "      <td>0.485178</td>\n",
       "      <td>['imagen', '_dato', '_umb1', '_altura']</td>\n",
       "      <td>...</td>\n",
       "      <td>16</td>\n",
       "      <td>4</td>\n",
       "      <td>[64, 32, 16, 8]</td>\n",
       "      <td>6</td>\n",
       "      <td>8</td>\n",
       "      <td>[0.3, 0.2, 0.1, 0]</td>\n",
       "      <td>Adam</td>\n",
       "      <td>0.1</td>\n",
       "      <td>[0, 0, 0, 0]</td>\n",
       "      <td>0.0</td>\n",
       "    </tr>\n",
       "    <tr>\n",
       "      <th>3040</th>\n",
       "      <td>20241018_170233</td>\n",
       "      <td>89</td>\n",
       "      <td>0.911111</td>\n",
       "      <td>0.599037</td>\n",
       "      <td>0.755074</td>\n",
       "      <td>0.836839</td>\n",
       "      <td>0.598558</td>\n",
       "      <td>0.717698</td>\n",
       "      <td>0.485178</td>\n",
       "      <td>['imagen', '_dato', '_umb1', '_altura']</td>\n",
       "      <td>...</td>\n",
       "      <td>16</td>\n",
       "      <td>4</td>\n",
       "      <td>[64, 32, 16, 8]</td>\n",
       "      <td>6</td>\n",
       "      <td>8</td>\n",
       "      <td>[0.3, 0.2, 0.1, 0]</td>\n",
       "      <td>Adam</td>\n",
       "      <td>0.1</td>\n",
       "      <td>[0, 0, 0, 0]</td>\n",
       "      <td>0.0</td>\n",
       "    </tr>\n",
       "    <tr>\n",
       "      <th>4381</th>\n",
       "      <td>20240924_235431</td>\n",
       "      <td>62</td>\n",
       "      <td>0.866667</td>\n",
       "      <td>0.589085</td>\n",
       "      <td>0.727876</td>\n",
       "      <td>0.624099</td>\n",
       "      <td>0.667668</td>\n",
       "      <td>0.645883</td>\n",
       "      <td>0.486846</td>\n",
       "      <td>['imagen', 'dato', 'umb1', 'altura']</td>\n",
       "      <td>...</td>\n",
       "      <td>16</td>\n",
       "      <td>4</td>\n",
       "      <td>[128, 64, 32, 16]</td>\n",
       "      <td>6</td>\n",
       "      <td>12</td>\n",
       "      <td>0</td>\n",
       "      <td>0</td>\n",
       "      <td>0.0</td>\n",
       "      <td>0</td>\n",
       "      <td>0.0</td>\n",
       "    </tr>\n",
       "    <tr>\n",
       "      <th>2367</th>\n",
       "      <td>20240927_152142</td>\n",
       "      <td>97</td>\n",
       "      <td>0.733333</td>\n",
       "      <td>0.708507</td>\n",
       "      <td>0.72092</td>\n",
       "      <td>0.25601</td>\n",
       "      <td>0.733774</td>\n",
       "      <td>0.494892</td>\n",
       "      <td>0.485169</td>\n",
       "      <td>['imagen', 'dato', 'umb1', 'altura']</td>\n",
       "      <td>...</td>\n",
       "      <td>16</td>\n",
       "      <td>4</td>\n",
       "      <td>[128, 64, 32, 16]</td>\n",
       "      <td>6</td>\n",
       "      <td>8</td>\n",
       "      <td>0</td>\n",
       "      <td>0</td>\n",
       "      <td>0.0</td>\n",
       "      <td>0</td>\n",
       "      <td>0.0</td>\n",
       "    </tr>\n",
       "    <tr>\n",
       "      <th>4152</th>\n",
       "      <td>20240923_101614</td>\n",
       "      <td>129</td>\n",
       "      <td>0.866667</td>\n",
       "      <td>0.573355</td>\n",
       "      <td>0.720011</td>\n",
       "      <td>0.636118</td>\n",
       "      <td>0.617188</td>\n",
       "      <td>0.626653</td>\n",
       "      <td>0.48742</td>\n",
       "      <td>['imagen', 'dato', 'umb1', 'altura']</td>\n",
       "      <td>...</td>\n",
       "      <td>16</td>\n",
       "      <td>4</td>\n",
       "      <td>[128, 64, 32, 16]</td>\n",
       "      <td>6</td>\n",
       "      <td>8</td>\n",
       "      <td>0</td>\n",
       "      <td>0</td>\n",
       "      <td>0.0</td>\n",
       "      <td>0</td>\n",
       "      <td>0.0</td>\n",
       "    </tr>\n",
       "    <tr>\n",
       "      <th>2129</th>\n",
       "      <td>20240926_181051</td>\n",
       "      <td>81</td>\n",
       "      <td>0.866667</td>\n",
       "      <td>0.569181</td>\n",
       "      <td>0.717924</td>\n",
       "      <td>0.292067</td>\n",
       "      <td>0.738281</td>\n",
       "      <td>0.515174</td>\n",
       "      <td>0.487566</td>\n",
       "      <td>['imagen', 'dato', 'umb1', 'altura']</td>\n",
       "      <td>...</td>\n",
       "      <td>16</td>\n",
       "      <td>4</td>\n",
       "      <td>[128, 64, 32, 16]</td>\n",
       "      <td>3</td>\n",
       "      <td>12</td>\n",
       "      <td>0</td>\n",
       "      <td>0</td>\n",
       "      <td>0.0</td>\n",
       "      <td>0</td>\n",
       "      <td>0.0</td>\n",
       "    </tr>\n",
       "    <tr>\n",
       "      <th>3878</th>\n",
       "      <td>20241004_070526</td>\n",
       "      <td>27</td>\n",
       "      <td>0.888889</td>\n",
       "      <td>0.546067</td>\n",
       "      <td>0.717478</td>\n",
       "      <td>0.748798</td>\n",
       "      <td>0.490685</td>\n",
       "      <td>0.619742</td>\n",
       "      <td>0.48771</td>\n",
       "      <td>['imagen', '_dato', '_umb1', '_altura']</td>\n",
       "      <td>...</td>\n",
       "      <td>16</td>\n",
       "      <td>4</td>\n",
       "      <td>[128, 64, 32, 16]</td>\n",
       "      <td>6</td>\n",
       "      <td>6</td>\n",
       "      <td>[0.2, 0.3, 0.1, 0]</td>\n",
       "      <td>0</td>\n",
       "      <td>0.0</td>\n",
       "      <td>0</td>\n",
       "      <td>0.0</td>\n",
       "    </tr>\n",
       "    <tr>\n",
       "      <th>2568</th>\n",
       "      <td>20241015_050036</td>\n",
       "      <td>17</td>\n",
       "      <td>0.977778</td>\n",
       "      <td>0.430819</td>\n",
       "      <td>0.704298</td>\n",
       "      <td>0.774339</td>\n",
       "      <td>0.43149</td>\n",
       "      <td>0.602915</td>\n",
       "      <td>0.488264</td>\n",
       "      <td>['imagen', '_dato', '_umb1', '_altura']</td>\n",
       "      <td>...</td>\n",
       "      <td>16</td>\n",
       "      <td>4</td>\n",
       "      <td>[64, 32, 16, 8]</td>\n",
       "      <td>6</td>\n",
       "      <td>6</td>\n",
       "      <td>[0.3, 0.2, 0.1, 0]</td>\n",
       "      <td>Adam</td>\n",
       "      <td>0.2</td>\n",
       "      <td>[0, 0, 0, 0]</td>\n",
       "      <td>0.0</td>\n",
       "    </tr>\n",
       "    <tr>\n",
       "      <th>2162</th>\n",
       "      <td>20240926_230328</td>\n",
       "      <td>26</td>\n",
       "      <td>0.955556</td>\n",
       "      <td>0.446228</td>\n",
       "      <td>0.700892</td>\n",
       "      <td>0.655048</td>\n",
       "      <td>0.608774</td>\n",
       "      <td>0.631911</td>\n",
       "      <td>0.488558</td>\n",
       "      <td>['imagen', 'dato', 'umb1', 'altura']</td>\n",
       "      <td>...</td>\n",
       "      <td>16</td>\n",
       "      <td>4</td>\n",
       "      <td>[128, 64, 32, 16]</td>\n",
       "      <td>6</td>\n",
       "      <td>8</td>\n",
       "      <td>0</td>\n",
       "      <td>0</td>\n",
       "      <td>0.0</td>\n",
       "      <td>0</td>\n",
       "      <td>0.0</td>\n",
       "    </tr>\n",
       "    <tr>\n",
       "      <th>2008</th>\n",
       "      <td>20240926_093952</td>\n",
       "      <td>110</td>\n",
       "      <td>0.955556</td>\n",
       "      <td>0.444623</td>\n",
       "      <td>0.700089</td>\n",
       "      <td>0.657452</td>\n",
       "      <td>0.586839</td>\n",
       "      <td>0.622145</td>\n",
       "      <td>0.488595</td>\n",
       "      <td>['imagen', 'dato', 'umb1', 'altura']</td>\n",
       "      <td>...</td>\n",
       "      <td>16</td>\n",
       "      <td>4</td>\n",
       "      <td>[128, 64, 32, 16]</td>\n",
       "      <td>3</td>\n",
       "      <td>12</td>\n",
       "      <td>0</td>\n",
       "      <td>0</td>\n",
       "      <td>0.0</td>\n",
       "      <td>0</td>\n",
       "      <td>0.0</td>\n",
       "    </tr>\n",
       "  </tbody>\n",
       "</table>\n",
       "<p>15 rows × 27 columns</p>\n",
       "</div>"
      ],
      "text/plain": [
       "               idTest epoca       TNR       TPR   acc_bal train_TNR train_TPR  \\\n",
       "3496  20241030_101704   145  0.911111  0.792616  0.851864  0.892127  0.870793   \n",
       "3690  20241031_131438   139  0.911111   0.71236  0.811735  0.866587  0.844651   \n",
       "1684  20241028_213953   194  0.911111  0.675441  0.793276   0.91887  0.783654   \n",
       "1451  20241027_124016   161  0.911111  0.663242  0.787177  0.920072  0.688101   \n",
       "3042  20241018_170233    91  0.911111  0.599037  0.755074  0.838942  0.601262   \n",
       "3039  20241018_170233    88  0.911111  0.599037  0.755074  0.836839  0.597356   \n",
       "3040  20241018_170233    89  0.911111  0.599037  0.755074  0.836839  0.598558   \n",
       "4381  20240924_235431    62  0.866667  0.589085  0.727876  0.624099  0.667668   \n",
       "2367  20240927_152142    97  0.733333  0.708507   0.72092   0.25601  0.733774   \n",
       "4152  20240923_101614   129  0.866667  0.573355  0.720011  0.636118  0.617188   \n",
       "2129  20240926_181051    81  0.866667  0.569181  0.717924  0.292067  0.738281   \n",
       "3878  20241004_070526    27  0.888889  0.546067  0.717478  0.748798  0.490685   \n",
       "2568  20241015_050036    17  0.977778  0.430819  0.704298  0.774339   0.43149   \n",
       "2162  20240926_230328    26  0.955556  0.446228  0.700892  0.655048  0.608774   \n",
       "2008  20240926_093952   110  0.955556  0.444623  0.700089  0.657452  0.586839   \n",
       "\n",
       "     train_acc_bal   FDR_FOR                                 P-inputs  ...  \\\n",
       "3496       0.88146  0.470969  ['imagen', '_dato', '_umb1', '_altura']  ...   \n",
       "3690      0.855619  0.479021  ['imagen', '_dato', '_umb1', '_altura']  ...   \n",
       "1684      0.851262  0.481462  ['imagen', '_dato', '_umb1', '_altura']  ...   \n",
       "1451      0.804087  0.482159  ['imagen', '_dato', '_umb1', '_altura']  ...   \n",
       "3042      0.720102  0.485178  ['imagen', '_dato', '_umb1', '_altura']  ...   \n",
       "3039      0.717097  0.485178  ['imagen', '_dato', '_umb1', '_altura']  ...   \n",
       "3040      0.717698  0.485178  ['imagen', '_dato', '_umb1', '_altura']  ...   \n",
       "4381      0.645883  0.486846     ['imagen', 'dato', 'umb1', 'altura']  ...   \n",
       "2367      0.494892  0.485169     ['imagen', 'dato', 'umb1', 'altura']  ...   \n",
       "4152      0.626653   0.48742     ['imagen', 'dato', 'umb1', 'altura']  ...   \n",
       "2129      0.515174  0.487566     ['imagen', 'dato', 'umb1', 'altura']  ...   \n",
       "3878      0.619742   0.48771  ['imagen', '_dato', '_umb1', '_altura']  ...   \n",
       "2568      0.602915  0.488264  ['imagen', '_dato', '_umb1', '_altura']  ...   \n",
       "2162      0.631911  0.488558     ['imagen', 'dato', 'umb1', 'altura']  ...   \n",
       "2008      0.622145  0.488595     ['imagen', 'dato', 'umb1', 'altura']  ...   \n",
       "\n",
       "     P-rnn_units P-dense_cant      P-dense_units P-tiempos P-margen  \\\n",
       "3496          16            4    [64, 32, 16, 8]         6       12   \n",
       "3690           8            4    [64, 32, 16, 8]         6       12   \n",
       "1684          16            4    [64, 32, 16, 8]         6       12   \n",
       "1451          16            4    [64, 32, 16, 8]         6       12   \n",
       "3042          16            4    [64, 32, 16, 8]         6        8   \n",
       "3039          16            4    [64, 32, 16, 8]         6        8   \n",
       "3040          16            4    [64, 32, 16, 8]         6        8   \n",
       "4381          16            4  [128, 64, 32, 16]         6       12   \n",
       "2367          16            4  [128, 64, 32, 16]         6        8   \n",
       "4152          16            4  [128, 64, 32, 16]         6        8   \n",
       "2129          16            4  [128, 64, 32, 16]         3       12   \n",
       "3878          16            4  [128, 64, 32, 16]         6        6   \n",
       "2568          16            4    [64, 32, 16, 8]         6        6   \n",
       "2162          16            4  [128, 64, 32, 16]         6        8   \n",
       "2008          16            4  [128, 64, 32, 16]         3       12   \n",
       "\n",
       "        P-dense_droupout P-optimizer P-lr_schedule P-kernel_regularizer  \\\n",
       "3496  [0.3, 0.2, 0.1, 0]        Adam           0.0         [0, 0, 0, 0]   \n",
       "3690  [0.3, 0.2, 0.1, 0]        Adam           0.0         [0, 0, 0, 0]   \n",
       "1684  [0.3, 0.2, 0.1, 0]        Adam           0.0         [0, 0, 0, 0]   \n",
       "1451  [0.3, 0.2, 0.1, 0]        Adam           0.0         [0, 0, 0, 0]   \n",
       "3042  [0.3, 0.2, 0.1, 0]        Adam           0.1         [0, 0, 0, 0]   \n",
       "3039  [0.3, 0.2, 0.1, 0]        Adam           0.1         [0, 0, 0, 0]   \n",
       "3040  [0.3, 0.2, 0.1, 0]        Adam           0.1         [0, 0, 0, 0]   \n",
       "4381                   0           0           0.0                    0   \n",
       "2367                   0           0           0.0                    0   \n",
       "4152                   0           0           0.0                    0   \n",
       "2129                   0           0           0.0                    0   \n",
       "3878  [0.2, 0.3, 0.1, 0]           0           0.0                    0   \n",
       "2568  [0.3, 0.2, 0.1, 0]        Adam           0.2         [0, 0, 0, 0]   \n",
       "2162                   0           0           0.0                    0   \n",
       "2008                   0           0           0.0                    0   \n",
       "\n",
       "     P-lr_decay  \n",
       "3496       0.94  \n",
       "3690       0.94  \n",
       "1684       0.94  \n",
       "1451       0.94  \n",
       "3042        0.0  \n",
       "3039        0.0  \n",
       "3040        0.0  \n",
       "4381        0.0  \n",
       "2367        0.0  \n",
       "4152        0.0  \n",
       "2129        0.0  \n",
       "3878        0.0  \n",
       "2568        0.0  \n",
       "2162        0.0  \n",
       "2008        0.0  \n",
       "\n",
       "[15 rows x 27 columns]"
      ]
     },
     "execution_count": 22,
     "metadata": {},
     "output_type": "execute_result"
    }
   ],
   "source": [
    "params = {\n",
    "    # General\n",
    "    'resultDir': f'{path_base}/Archivos/Resultados/Clasificacion', # Direcotrio de resultados    \n",
    "    'redoStats': True, #True, #True,        # True : Rehace las estadisticas, caso contrario solo lee los archivos de reportes\n",
    "    'drop'     : ['idTest',['20240326_224209', '20240326_050743']], #['idTest',['20240326_224209', '20230710_181720']],#['P-rnn_tipo',['LSTM']],    'idTest', ['20230706_044401']\n",
    "    'select'   :['P-dsTName' , ['CLASE_TrainDS_1']], #['P-dsTName' , ['XXXXX_V2']], #['P-dsTName' , ['CLASE_TrainDS_3']],\n",
    "       \n",
    "    # Stats\n",
    "    'model'    : 'Clasificacion',  \n",
    "    'criterio' : 'acc_bal',       # avg_acc_bal Para filtrar el mejor modelo de las epocas en cada test\n",
    "    'ascending': False,           # True = Max segun el criterio\n",
    "    'filterHP' : True,            # Muestra solo las columnas de HP que varia\n",
    "    \n",
    "    # Graficas\n",
    "    'grafica'  : True,\n",
    "    'train'    : False,\n",
    "    'maxNum'   : 6,              # 0 = TODOS los modelos\n",
    "}\n",
    "\n",
    "\n",
    "bestResults = summaryStats(path_base, params)\n",
    "print(len(bestResults))\n",
    "bestResults.head(15)#[(bestResults['TNR']!=0) & (bestResults['TPR']!=0)].head(30)"
   ]
  },
  {
   "cell_type": "code",
   "execution_count": 23,
   "id": "a5bc6a8f-6c48-4b89-924b-0ea585227756",
   "metadata": {},
   "outputs": [
    {
     "ename": "SyntaxError",
     "evalue": "EOL while scanning string literal (2754607837.py, line 1)",
     "output_type": "error",
     "traceback": [
      "\u001b[1;36m  Input \u001b[1;32mIn [23]\u001b[1;36m\u001b[0m\n\u001b[1;33m    a = '\u001b[0m\n\u001b[1;37m         ^\u001b[0m\n\u001b[1;31mSyntaxError\u001b[0m\u001b[1;31m:\u001b[0m EOL while scanning string literal\n"
     ]
    }
   ],
   "source": [
    "a = '"
   ]
  },
  {
   "cell_type": "code",
   "execution_count": 36,
   "id": "cd57a281-0421-418a-a4d0-22b480788dd1",
   "metadata": {},
   "outputs": [
    {
     "data": {
      "application/vnd.plotly.v1+json": {
       "config": {
        "plotlyServerURL": "https://plot.ly"
       },
       "data": [
        {
         "mode": "lines",
         "name": "Train",
         "type": "scatter",
         "x": [
          0,
          1,
          2,
          3,
          4,
          5,
          6,
          7,
          8,
          9,
          10,
          11,
          12,
          13,
          14,
          15,
          16,
          17,
          18,
          19,
          20,
          21,
          22,
          23,
          24,
          25,
          26,
          27,
          28,
          29,
          30,
          31,
          32,
          33,
          34,
          35,
          36,
          37,
          38,
          39,
          40,
          41,
          42,
          43,
          44,
          45,
          46,
          47,
          48,
          49,
          50,
          51,
          52,
          53,
          54,
          55,
          56,
          57,
          58,
          59,
          60,
          61,
          62,
          63,
          64,
          65,
          66,
          67,
          68,
          69,
          70,
          71,
          72,
          73,
          74,
          75,
          76,
          77,
          78,
          79,
          80,
          81,
          82,
          83,
          84,
          85,
          86,
          87,
          88,
          89,
          90,
          91,
          92,
          93,
          94,
          95,
          96,
          97,
          98,
          99,
          100,
          101,
          102,
          103,
          104,
          105,
          106,
          107,
          108,
          109,
          110,
          111,
          112,
          113,
          114,
          115,
          116,
          117,
          118,
          119,
          120,
          121,
          122,
          123,
          124,
          125,
          126,
          127,
          128,
          129,
          130,
          131,
          132,
          133,
          134,
          135,
          136,
          137,
          138,
          139,
          140,
          141,
          142,
          143,
          144,
          145,
          146,
          147,
          148,
          149,
          150,
          151,
          152,
          153,
          154,
          155,
          156,
          157,
          158,
          159,
          160,
          161,
          162,
          163,
          164,
          165,
          166,
          167,
          168,
          169,
          170,
          171,
          172,
          173,
          174,
          175,
          176,
          177,
          178,
          179,
          180,
          181,
          182,
          183,
          184,
          185,
          186,
          187,
          188,
          189,
          190,
          191,
          192,
          193,
          194,
          195,
          196,
          197,
          198,
          199
         ],
         "y": [
          0.9112148284912108,
          0.7148900628089905,
          0.7083874344825745,
          0.7040640711784363,
          0.7040166258811951,
          0.7003262639045715,
          0.7007246613502502,
          0.699494481086731,
          0.6984294056892395,
          0.6984878778457642,
          0.6987975835800171,
          0.697001576423645,
          0.6991807818412781,
          0.6971696615219116,
          0.6966524720191956,
          0.6927164196968079,
          0.7043191194534302,
          0.6972202658653259,
          0.6949726939201355,
          0.6903601884841919,
          0.6901243329048157,
          0.7546644806861877,
          0.7076531648635864,
          0.69648277759552,
          0.6953122019767761,
          0.6952762603759766,
          0.6952467560768127,
          0.694902777671814,
          0.6955236792564392,
          0.6947100162506104,
          0.6955791115760803,
          0.6937456727027893,
          0.6969780325889587,
          0.6938640475273132,
          0.6939271092414856,
          0.695908784866333,
          0.6900728344917297,
          0.7008432149887085,
          0.6922872066497803,
          0.6908307671546936,
          0.6990286707878113,
          0.6813989877700806,
          0.7096357941627502,
          0.6909386515617371,
          0.6982361078262329,
          0.681273341178894,
          0.7061964273452759,
          0.6746108531951904,
          0.706372082233429,
          0.6707379817962646,
          0.7267724871635437,
          0.6746500730514526,
          0.6881706714630127,
          0.6813430190086365,
          0.679766058921814,
          0.6785061955451965,
          0.669189453125,
          0.6723197102546692,
          0.6678522229194641,
          0.6618550419807434,
          0.660414457321167,
          0.6602857112884521,
          0.6523026823997498,
          0.6515577435493469,
          0.6498594880104065,
          0.6518012881278992,
          0.649997889995575,
          0.6520987749099731,
          0.6445319056510925,
          0.6422926783561707,
          0.642317533493042,
          0.639094889163971,
          0.651161253452301,
          0.6290146708488464,
          0.6410714983940125,
          0.6342306733131409,
          0.6393003463745117,
          0.6243758797645569,
          0.6315606236457825,
          0.6316826343536377,
          0.622672438621521,
          0.6239621043205261,
          0.6275611519813538,
          0.6189585328102112,
          0.616517186164856,
          0.6155493855476379,
          0.6098950505256653,
          0.6178503632545471,
          0.6086820960044861,
          0.6123111844062805,
          0.5981723070144653,
          0.6061586141586304,
          0.6099966168403625,
          0.6080131530761719,
          0.6018291711807251,
          0.5904769897460938,
          0.5911399126052856,
          0.5932216644287109,
          0.5901737809181213,
          0.5784820318222046,
          0.5831794738769531,
          0.5783229470252991,
          0.5838965177536011,
          0.5749849081039429,
          0.5669511556625366,
          0.5771981477737427,
          0.5651227831840515,
          0.5613775253295898,
          0.5662614107131958,
          0.5567125082015991,
          0.5523660778999329,
          0.5531136393547058,
          0.5496760010719299,
          0.5441305637359619,
          0.5514952540397644,
          0.5364372134208679,
          0.5452637076377869,
          0.5335291028022766,
          0.5414479374885559,
          0.5355225801467896,
          0.5248920321464539,
          0.532600462436676,
          0.5165722370147705,
          0.5207659006118774,
          0.5412043333053589,
          0.5172399878501892,
          0.5196086764335632,
          0.5121656656265259,
          0.5147596597671509,
          0.5078978538513184,
          0.511890172958374,
          0.5087876915931702,
          0.5037177205085754,
          0.5001469254493713,
          0.4896467328071594,
          0.4965403974056244,
          0.4924467206001282,
          0.4753755331039429,
          0.488377720117569,
          0.4873263537883759,
          0.4798994958400726,
          0.4888907074928284,
          0.4821445047855377,
          0.4806468188762665,
          0.4734672904014587,
          0.4812252223491669,
          0.4739240109920502,
          0.4732380509376526,
          0.4737409949302673,
          0.4746249616146088,
          0.4784380197525024,
          0.4801598489284515,
          0.4855197966098785,
          0.4701732993125916,
          0.4641650021076202,
          0.4635122716426849,
          0.4538440704345703,
          0.4533911645412445,
          0.4629851281642914,
          0.4613188505172729,
          0.4579758644104004,
          0.4587468802928925,
          0.4470835626125336,
          0.4482518434524536,
          0.4608074724674225,
          0.4552633464336395,
          0.4411937594413757,
          0.4363373219966888,
          0.4412912428379059,
          0.4430211782455444,
          0.4367060363292694,
          0.4339462220668793,
          0.4332816302776337,
          0.4283810257911682,
          0.4169085323810577,
          0.4226228892803192,
          0.4219613969326019,
          0.4247499406337738,
          0.4178220331668854,
          0.4113177061080933,
          0.4240701794624329,
          0.4048199355602264,
          0.4226590692996979,
          0.408208817243576,
          0.419036328792572,
          0.4123591184616089,
          0.4005327522754669,
          0.4137086272239685,
          0.3953761458396912,
          0.3943524658679962,
          0.3963609635829926,
          0.3935482800006866,
          0.4069966673851013,
          0.3801965415477753,
          0.3960782289505005,
          0.3852479159832001,
          0.3772253096103668,
          0.3782926797866821,
          0.3715394735336304,
          0.3721879422664642
         ]
        },
        {
         "mode": "lines",
         "name": "Valid",
         "type": "scatter",
         "x": [
          0,
          1,
          2,
          3,
          4,
          5,
          6,
          7,
          8,
          9,
          10,
          11,
          12,
          13,
          14,
          15,
          16,
          17,
          18,
          19,
          20,
          21,
          22,
          23,
          24,
          25,
          26,
          27,
          28,
          29,
          30,
          31,
          32,
          33,
          34,
          35,
          36,
          37,
          38,
          39,
          40,
          41,
          42,
          43,
          44,
          45,
          46,
          47,
          48,
          49,
          50,
          51,
          52,
          53,
          54,
          55,
          56,
          57,
          58,
          59,
          60,
          61,
          62,
          63,
          64,
          65,
          66,
          67,
          68,
          69,
          70,
          71,
          72,
          73,
          74,
          75,
          76,
          77,
          78,
          79,
          80,
          81,
          82,
          83,
          84,
          85,
          86,
          87,
          88,
          89,
          90,
          91,
          92,
          93,
          94,
          95,
          96,
          97,
          98,
          99,
          100,
          101,
          102,
          103,
          104,
          105,
          106,
          107,
          108,
          109,
          110,
          111,
          112,
          113,
          114,
          115,
          116,
          117,
          118,
          119,
          120,
          121,
          122,
          123,
          124,
          125,
          126,
          127,
          128,
          129,
          130,
          131,
          132,
          133,
          134,
          135,
          136,
          137,
          138,
          139,
          140,
          141,
          142,
          143,
          144,
          145,
          146,
          147,
          148,
          149,
          150,
          151,
          152,
          153,
          154,
          155,
          156,
          157,
          158,
          159,
          160,
          161,
          162,
          163,
          164,
          165,
          166,
          167,
          168,
          169,
          170,
          171,
          172,
          173,
          174,
          175,
          176,
          177,
          178,
          179,
          180,
          181,
          182,
          183,
          184,
          185,
          186,
          187,
          188,
          189,
          190,
          191,
          192,
          193,
          194,
          195,
          196,
          197,
          198,
          199
         ],
         "y": [
          0.4612309336662292,
          0.6602725982666016,
          0.6893970370292664,
          0.6898702383041382,
          0.6954107880592346,
          0.7062108516693115,
          0.6981990933418274,
          0.6979230642318726,
          0.6995805501937866,
          0.7012808322906494,
          0.6984900236129761,
          0.6985551714897156,
          0.7003220319747925,
          0.6984779834747314,
          0.6994587182998657,
          0.730729877948761,
          0.6999897956848145,
          0.6969709396362305,
          0.6971303820610046,
          0.7752101421356201,
          3.011051177978516,
          0.733433723449707,
          0.6953679919242859,
          0.6953354477882385,
          0.6953365206718445,
          0.6953582763671875,
          0.6953830122947693,
          0.6954054832458496,
          0.69542396068573,
          0.6954641938209534,
          0.695453941822052,
          0.697378933429718,
          0.6954103112220764,
          0.6967687606811523,
          0.7001157999038696,
          0.6957989931106567,
          0.7187681198120117,
          0.6949434280395508,
          0.6996977925300598,
          0.7205023169517517,
          0.695173978805542,
          0.7901503443717957,
          0.693858802318573,
          0.7216073870658875,
          0.6947640180587769,
          0.7314538359642029,
          0.6935452818870544,
          0.7535941004753113,
          0.6924889087677002,
          1.207134604454041,
          0.6931012272834778,
          0.7411707639694214,
          0.7254853248596191,
          0.7331104874610901,
          0.7386548519134521,
          0.7362998127937317,
          0.7620896100997925,
          0.7440415024757385,
          0.7397938370704651,
          0.7499606609344482,
          0.7426052093505859,
          0.746836245059967,
          0.7460702061653137,
          0.7472591400146484,
          0.741366446018219,
          0.7412440180778503,
          0.7469034790992737,
          0.7250708937644958,
          0.7340866327285767,
          0.7349445223808289,
          0.7201424241065979,
          0.7403733730316162,
          0.7342754602432251,
          0.7409934401512146,
          0.7321646213531494,
          0.7343667149543762,
          0.7271307706832886,
          0.7497164011001587,
          0.7471818327903748,
          0.7393178343772888,
          0.7468902468681335,
          0.7537423372268677,
          0.7409360408782959,
          0.7425839900970459,
          0.7549976706504822,
          0.7492066621780396,
          0.7534509301185608,
          0.7407777905464172,
          0.7405374646186829,
          0.737434983253479,
          0.7520533204078674,
          0.7395731210708618,
          0.7564177513122559,
          0.7428793907165527,
          0.737043023109436,
          0.7491447329521179,
          0.7389878034591675,
          0.7452395558357239,
          0.7390507459640503,
          0.7390300035476685,
          0.7319076061248779,
          0.7403779029846191,
          0.7539367079734802,
          0.9990748167037964,
          0.7329777479171753,
          0.7692624926567078,
          0.8139331936836243,
          1.098972678184509,
          0.7203027606010437,
          0.7383378148078918,
          0.732681930065155,
          1.303147673606873,
          0.7111921906471252,
          1.073185205459595,
          1.001672625541687,
          0.8693142533302307,
          0.9029343724250792,
          0.7734842300415039,
          0.8317738771438599,
          0.7420669198036194,
          0.7931163907051086,
          0.7376267910003662,
          0.7810788750648499,
          0.8812304139137268,
          0.7987023591995239,
          0.7370918989181519,
          0.7121217846870422,
          0.7759541273117065,
          0.7334804534912109,
          0.668914794921875,
          0.6683468818664551,
          0.7124980092048645,
          0.650458574295044,
          0.6458019614219666,
          0.6844045519828796,
          0.6445381045341492,
          0.665873110294342,
          0.6792471408843994,
          0.6802386045455933,
          0.6321873068809509,
          0.6725274920463562,
          0.6687478423118591,
          0.6249467134475708,
          0.6650582551956177,
          0.6813321709632874,
          0.6423826813697815,
          0.7132759094238281,
          0.6110048890113831,
          0.6135473251342773,
          0.5981268286705017,
          0.5902093648910522,
          0.7040196657180786,
          0.5789877772331238,
          0.6057202816009521,
          0.5731850266456604,
          0.6114612817764282,
          0.5915142297744751,
          0.6081072092056274,
          0.5619304180145264,
          0.5670354962348938,
          0.6294629573822021,
          0.5531413555145264,
          0.6120014190673828,
          0.5831950306892395,
          0.5702102780342102,
          0.5479190349578857,
          0.5397319197654724,
          0.6677879691123962,
          0.5326226353645325,
          0.737878143787384,
          0.5162283778190613,
          0.5910379886627197,
          0.532593309879303,
          0.5233308672904968,
          0.5250601768493652,
          0.542823851108551,
          0.5213218331336975,
          0.5083728432655334,
          0.5228666067123413,
          0.5244552493095398,
          0.5444549322128296,
          0.6025585532188416,
          0.5043488144874573,
          0.497668445110321,
          0.5296071171760559,
          0.4739419519901276,
          0.4921749830245972,
          0.6145697832107544,
          0.4788520038127899,
          0.554747462272644,
          0.4709861278533936,
          0.472792387008667,
          0.481614738702774,
          0.4655686318874359,
          0.4783805310726166,
          0.4537663757801056,
          0.5401481986045837,
          0.436994343996048,
          0.5372059941291809,
          0.4211154282093048
         ]
        }
       ],
       "layout": {
        "autosize": true,
        "template": {
         "data": {
          "bar": [
           {
            "error_x": {
             "color": "#2a3f5f"
            },
            "error_y": {
             "color": "#2a3f5f"
            },
            "marker": {
             "line": {
              "color": "#E5ECF6",
              "width": 0.5
             },
             "pattern": {
              "fillmode": "overlay",
              "size": 10,
              "solidity": 0.2
             }
            },
            "type": "bar"
           }
          ],
          "barpolar": [
           {
            "marker": {
             "line": {
              "color": "#E5ECF6",
              "width": 0.5
             },
             "pattern": {
              "fillmode": "overlay",
              "size": 10,
              "solidity": 0.2
             }
            },
            "type": "barpolar"
           }
          ],
          "carpet": [
           {
            "aaxis": {
             "endlinecolor": "#2a3f5f",
             "gridcolor": "white",
             "linecolor": "white",
             "minorgridcolor": "white",
             "startlinecolor": "#2a3f5f"
            },
            "baxis": {
             "endlinecolor": "#2a3f5f",
             "gridcolor": "white",
             "linecolor": "white",
             "minorgridcolor": "white",
             "startlinecolor": "#2a3f5f"
            },
            "type": "carpet"
           }
          ],
          "choropleth": [
           {
            "colorbar": {
             "outlinewidth": 0,
             "ticks": ""
            },
            "type": "choropleth"
           }
          ],
          "contour": [
           {
            "colorbar": {
             "outlinewidth": 0,
             "ticks": ""
            },
            "colorscale": [
             [
              0,
              "#0d0887"
             ],
             [
              0.1111111111111111,
              "#46039f"
             ],
             [
              0.2222222222222222,
              "#7201a8"
             ],
             [
              0.3333333333333333,
              "#9c179e"
             ],
             [
              0.4444444444444444,
              "#bd3786"
             ],
             [
              0.5555555555555556,
              "#d8576b"
             ],
             [
              0.6666666666666666,
              "#ed7953"
             ],
             [
              0.7777777777777778,
              "#fb9f3a"
             ],
             [
              0.8888888888888888,
              "#fdca26"
             ],
             [
              1,
              "#f0f921"
             ]
            ],
            "type": "contour"
           }
          ],
          "contourcarpet": [
           {
            "colorbar": {
             "outlinewidth": 0,
             "ticks": ""
            },
            "type": "contourcarpet"
           }
          ],
          "heatmap": [
           {
            "colorbar": {
             "outlinewidth": 0,
             "ticks": ""
            },
            "colorscale": [
             [
              0,
              "#0d0887"
             ],
             [
              0.1111111111111111,
              "#46039f"
             ],
             [
              0.2222222222222222,
              "#7201a8"
             ],
             [
              0.3333333333333333,
              "#9c179e"
             ],
             [
              0.4444444444444444,
              "#bd3786"
             ],
             [
              0.5555555555555556,
              "#d8576b"
             ],
             [
              0.6666666666666666,
              "#ed7953"
             ],
             [
              0.7777777777777778,
              "#fb9f3a"
             ],
             [
              0.8888888888888888,
              "#fdca26"
             ],
             [
              1,
              "#f0f921"
             ]
            ],
            "type": "heatmap"
           }
          ],
          "heatmapgl": [
           {
            "colorbar": {
             "outlinewidth": 0,
             "ticks": ""
            },
            "colorscale": [
             [
              0,
              "#0d0887"
             ],
             [
              0.1111111111111111,
              "#46039f"
             ],
             [
              0.2222222222222222,
              "#7201a8"
             ],
             [
              0.3333333333333333,
              "#9c179e"
             ],
             [
              0.4444444444444444,
              "#bd3786"
             ],
             [
              0.5555555555555556,
              "#d8576b"
             ],
             [
              0.6666666666666666,
              "#ed7953"
             ],
             [
              0.7777777777777778,
              "#fb9f3a"
             ],
             [
              0.8888888888888888,
              "#fdca26"
             ],
             [
              1,
              "#f0f921"
             ]
            ],
            "type": "heatmapgl"
           }
          ],
          "histogram": [
           {
            "marker": {
             "pattern": {
              "fillmode": "overlay",
              "size": 10,
              "solidity": 0.2
             }
            },
            "type": "histogram"
           }
          ],
          "histogram2d": [
           {
            "colorbar": {
             "outlinewidth": 0,
             "ticks": ""
            },
            "colorscale": [
             [
              0,
              "#0d0887"
             ],
             [
              0.1111111111111111,
              "#46039f"
             ],
             [
              0.2222222222222222,
              "#7201a8"
             ],
             [
              0.3333333333333333,
              "#9c179e"
             ],
             [
              0.4444444444444444,
              "#bd3786"
             ],
             [
              0.5555555555555556,
              "#d8576b"
             ],
             [
              0.6666666666666666,
              "#ed7953"
             ],
             [
              0.7777777777777778,
              "#fb9f3a"
             ],
             [
              0.8888888888888888,
              "#fdca26"
             ],
             [
              1,
              "#f0f921"
             ]
            ],
            "type": "histogram2d"
           }
          ],
          "histogram2dcontour": [
           {
            "colorbar": {
             "outlinewidth": 0,
             "ticks": ""
            },
            "colorscale": [
             [
              0,
              "#0d0887"
             ],
             [
              0.1111111111111111,
              "#46039f"
             ],
             [
              0.2222222222222222,
              "#7201a8"
             ],
             [
              0.3333333333333333,
              "#9c179e"
             ],
             [
              0.4444444444444444,
              "#bd3786"
             ],
             [
              0.5555555555555556,
              "#d8576b"
             ],
             [
              0.6666666666666666,
              "#ed7953"
             ],
             [
              0.7777777777777778,
              "#fb9f3a"
             ],
             [
              0.8888888888888888,
              "#fdca26"
             ],
             [
              1,
              "#f0f921"
             ]
            ],
            "type": "histogram2dcontour"
           }
          ],
          "mesh3d": [
           {
            "colorbar": {
             "outlinewidth": 0,
             "ticks": ""
            },
            "type": "mesh3d"
           }
          ],
          "parcoords": [
           {
            "line": {
             "colorbar": {
              "outlinewidth": 0,
              "ticks": ""
             }
            },
            "type": "parcoords"
           }
          ],
          "pie": [
           {
            "automargin": true,
            "type": "pie"
           }
          ],
          "scatter": [
           {
            "fillpattern": {
             "fillmode": "overlay",
             "size": 10,
             "solidity": 0.2
            },
            "type": "scatter"
           }
          ],
          "scatter3d": [
           {
            "line": {
             "colorbar": {
              "outlinewidth": 0,
              "ticks": ""
             }
            },
            "marker": {
             "colorbar": {
              "outlinewidth": 0,
              "ticks": ""
             }
            },
            "type": "scatter3d"
           }
          ],
          "scattercarpet": [
           {
            "marker": {
             "colorbar": {
              "outlinewidth": 0,
              "ticks": ""
             }
            },
            "type": "scattercarpet"
           }
          ],
          "scattergeo": [
           {
            "marker": {
             "colorbar": {
              "outlinewidth": 0,
              "ticks": ""
             }
            },
            "type": "scattergeo"
           }
          ],
          "scattergl": [
           {
            "marker": {
             "colorbar": {
              "outlinewidth": 0,
              "ticks": ""
             }
            },
            "type": "scattergl"
           }
          ],
          "scattermapbox": [
           {
            "marker": {
             "colorbar": {
              "outlinewidth": 0,
              "ticks": ""
             }
            },
            "type": "scattermapbox"
           }
          ],
          "scatterpolar": [
           {
            "marker": {
             "colorbar": {
              "outlinewidth": 0,
              "ticks": ""
             }
            },
            "type": "scatterpolar"
           }
          ],
          "scatterpolargl": [
           {
            "marker": {
             "colorbar": {
              "outlinewidth": 0,
              "ticks": ""
             }
            },
            "type": "scatterpolargl"
           }
          ],
          "scatterternary": [
           {
            "marker": {
             "colorbar": {
              "outlinewidth": 0,
              "ticks": ""
             }
            },
            "type": "scatterternary"
           }
          ],
          "surface": [
           {
            "colorbar": {
             "outlinewidth": 0,
             "ticks": ""
            },
            "colorscale": [
             [
              0,
              "#0d0887"
             ],
             [
              0.1111111111111111,
              "#46039f"
             ],
             [
              0.2222222222222222,
              "#7201a8"
             ],
             [
              0.3333333333333333,
              "#9c179e"
             ],
             [
              0.4444444444444444,
              "#bd3786"
             ],
             [
              0.5555555555555556,
              "#d8576b"
             ],
             [
              0.6666666666666666,
              "#ed7953"
             ],
             [
              0.7777777777777778,
              "#fb9f3a"
             ],
             [
              0.8888888888888888,
              "#fdca26"
             ],
             [
              1,
              "#f0f921"
             ]
            ],
            "type": "surface"
           }
          ],
          "table": [
           {
            "cells": {
             "fill": {
              "color": "#EBF0F8"
             },
             "line": {
              "color": "white"
             }
            },
            "header": {
             "fill": {
              "color": "#C8D4E3"
             },
             "line": {
              "color": "white"
             }
            },
            "type": "table"
           }
          ]
         },
         "layout": {
          "annotationdefaults": {
           "arrowcolor": "#2a3f5f",
           "arrowhead": 0,
           "arrowwidth": 1
          },
          "autotypenumbers": "strict",
          "coloraxis": {
           "colorbar": {
            "outlinewidth": 0,
            "ticks": ""
           }
          },
          "colorscale": {
           "diverging": [
            [
             0,
             "#8e0152"
            ],
            [
             0.1,
             "#c51b7d"
            ],
            [
             0.2,
             "#de77ae"
            ],
            [
             0.3,
             "#f1b6da"
            ],
            [
             0.4,
             "#fde0ef"
            ],
            [
             0.5,
             "#f7f7f7"
            ],
            [
             0.6,
             "#e6f5d0"
            ],
            [
             0.7,
             "#b8e186"
            ],
            [
             0.8,
             "#7fbc41"
            ],
            [
             0.9,
             "#4d9221"
            ],
            [
             1,
             "#276419"
            ]
           ],
           "sequential": [
            [
             0,
             "#0d0887"
            ],
            [
             0.1111111111111111,
             "#46039f"
            ],
            [
             0.2222222222222222,
             "#7201a8"
            ],
            [
             0.3333333333333333,
             "#9c179e"
            ],
            [
             0.4444444444444444,
             "#bd3786"
            ],
            [
             0.5555555555555556,
             "#d8576b"
            ],
            [
             0.6666666666666666,
             "#ed7953"
            ],
            [
             0.7777777777777778,
             "#fb9f3a"
            ],
            [
             0.8888888888888888,
             "#fdca26"
            ],
            [
             1,
             "#f0f921"
            ]
           ],
           "sequentialminus": [
            [
             0,
             "#0d0887"
            ],
            [
             0.1111111111111111,
             "#46039f"
            ],
            [
             0.2222222222222222,
             "#7201a8"
            ],
            [
             0.3333333333333333,
             "#9c179e"
            ],
            [
             0.4444444444444444,
             "#bd3786"
            ],
            [
             0.5555555555555556,
             "#d8576b"
            ],
            [
             0.6666666666666666,
             "#ed7953"
            ],
            [
             0.7777777777777778,
             "#fb9f3a"
            ],
            [
             0.8888888888888888,
             "#fdca26"
            ],
            [
             1,
             "#f0f921"
            ]
           ]
          },
          "colorway": [
           "#636efa",
           "#EF553B",
           "#00cc96",
           "#ab63fa",
           "#FFA15A",
           "#19d3f3",
           "#FF6692",
           "#B6E880",
           "#FF97FF",
           "#FECB52"
          ],
          "font": {
           "color": "#2a3f5f"
          },
          "geo": {
           "bgcolor": "white",
           "lakecolor": "white",
           "landcolor": "#E5ECF6",
           "showlakes": true,
           "showland": true,
           "subunitcolor": "white"
          },
          "hoverlabel": {
           "align": "left"
          },
          "hovermode": "closest",
          "mapbox": {
           "style": "light"
          },
          "paper_bgcolor": "white",
          "plot_bgcolor": "#E5ECF6",
          "polar": {
           "angularaxis": {
            "gridcolor": "white",
            "linecolor": "white",
            "ticks": ""
           },
           "bgcolor": "#E5ECF6",
           "radialaxis": {
            "gridcolor": "white",
            "linecolor": "white",
            "ticks": ""
           }
          },
          "scene": {
           "xaxis": {
            "backgroundcolor": "#E5ECF6",
            "gridcolor": "white",
            "gridwidth": 2,
            "linecolor": "white",
            "showbackground": true,
            "ticks": "",
            "zerolinecolor": "white"
           },
           "yaxis": {
            "backgroundcolor": "#E5ECF6",
            "gridcolor": "white",
            "gridwidth": 2,
            "linecolor": "white",
            "showbackground": true,
            "ticks": "",
            "zerolinecolor": "white"
           },
           "zaxis": {
            "backgroundcolor": "#E5ECF6",
            "gridcolor": "white",
            "gridwidth": 2,
            "linecolor": "white",
            "showbackground": true,
            "ticks": "",
            "zerolinecolor": "white"
           }
          },
          "shapedefaults": {
           "line": {
            "color": "#2a3f5f"
           }
          },
          "ternary": {
           "aaxis": {
            "gridcolor": "white",
            "linecolor": "white",
            "ticks": ""
           },
           "baxis": {
            "gridcolor": "white",
            "linecolor": "white",
            "ticks": ""
           },
           "bgcolor": "#E5ECF6",
           "caxis": {
            "gridcolor": "white",
            "linecolor": "white",
            "ticks": ""
           }
          },
          "title": {
           "x": 0.05
          },
          "xaxis": {
           "automargin": true,
           "gridcolor": "white",
           "linecolor": "white",
           "ticks": "",
           "title": {
            "standoff": 15
           },
           "zerolinecolor": "white",
           "zerolinewidth": 2
          },
          "yaxis": {
           "automargin": true,
           "gridcolor": "white",
           "linecolor": "white",
           "ticks": "",
           "title": {
            "standoff": 15
           },
           "zerolinecolor": "white",
           "zerolinewidth": 2
          }
         }
        },
        "title": {
         "text": "Grafica de Loss por epoca"
        },
        "xaxis": {
         "autorange": true,
         "range": [
          0,
          199
         ],
         "title": {
          "text": "EPOCAS"
         },
         "type": "linear"
        },
        "yaxis": {
         "autorange": true,
         "range": [
          0.22489993439780342,
          3.157690717114343
         ],
         "title": {
          "text": "LOSS"
         },
         "type": "linear"
        }
       }
      },
      "image/png": "[encoded data removed]",
      "text/html": [
       "<div>                            <div id=\"de2b3d9a-f89d-4f4f-87e2-756f22c51b20\" class=\"plotly-graph-div\" style=\"height:525px; width:100%;\"></div>            <script type=\"text/javascript\">                require([\"plotly\"], function(Plotly) {                    window.PLOTLYENV=window.PLOTLYENV || {};                                    if (document.getElementById(\"de2b3d9a-f89d-4f4f-87e2-756f22c51b20\")) {                    Plotly.newPlot(                        \"de2b3d9a-f89d-4f4f-87e2-756f22c51b20\",                        [{\"mode\":\"lines\",\"name\":\"Train\",\"x\":[0,1,2,3,4,5,6,7,8,9,10,11,12,13,14,15,16,17,18,19,20,21,22,23,24,25,26,27,28,29,30,31,32,33,34,35,36,37,38,39,40,41,42,43,44,45,46,47,48,49,50,51,52,53,54,55,56,57,58,59,60,61,62,63,64,65,66,67,68,69,70,71,72,73,74,75,76,77,78,79,80,81,82,83,84,85,86,87,88,89,90,91,92,93,94,95,96,97,98,99,100,101,102,103,104,105,106,107,108,109,110,111,112,113,114,115,116,117,118,119,120,121,122,123,124,125,126,127,128,129,130,131,132,133,134,135,136,137,138,139,140,141,142,143,144,145,146,147,148,149,150,151,152,153,154,155,156,157,158,159,160,161,162,163,164,165,166,167,168,169,170,171,172,173,174,175,176,177,178,179,180,181,182,183,184,185,186,187,188,189,190,191,192,193,194,195,196,197,198,199],\"y\":[0.9112148284912108,0.7148900628089905,0.7083874344825745,0.7040640711784363,0.7040166258811951,0.7003262639045715,0.7007246613502502,0.699494481086731,0.6984294056892395,0.6984878778457642,0.6987975835800171,0.697001576423645,0.6991807818412781,0.6971696615219116,0.6966524720191956,0.6927164196968079,0.7043191194534302,0.6972202658653259,0.6949726939201355,0.6903601884841919,0.6901243329048157,0.7546644806861877,0.7076531648635864,0.69648277759552,0.6953122019767761,0.6952762603759766,0.6952467560768127,0.694902777671814,0.6955236792564392,0.6947100162506104,0.6955791115760803,0.6937456727027893,0.6969780325889587,0.6938640475273132,0.6939271092414856,0.695908784866333,0.6900728344917297,0.7008432149887085,0.6922872066497803,0.6908307671546936,0.6990286707878113,0.6813989877700806,0.7096357941627502,0.6909386515617371,0.6982361078262329,0.681273341178894,0.7061964273452759,0.6746108531951904,0.706372082233429,0.6707379817962646,0.7267724871635437,0.6746500730514526,0.6881706714630127,0.6813430190086365,0.679766058921814,0.6785061955451965,0.669189453125,0.6723197102546692,0.6678522229194641,0.6618550419807434,0.660414457321167,0.6602857112884521,0.6523026823997498,0.6515577435493469,0.6498594880104065,0.6518012881278992,0.649997889995575,0.6520987749099731,0.6445319056510925,0.6422926783561707,0.642317533493042,0.639094889163971,0.651161253452301,0.6290146708488464,0.6410714983940125,0.6342306733131409,0.6393003463745117,0.6243758797645569,0.6315606236457825,0.6316826343536377,0.622672438621521,0.6239621043205261,0.6275611519813538,0.6189585328102112,0.616517186164856,0.6155493855476379,0.6098950505256653,0.6178503632545471,0.6086820960044861,0.6123111844062805,0.5981723070144653,0.6061586141586304,0.6099966168403625,0.6080131530761719,0.6018291711807251,0.5904769897460938,0.5911399126052856,0.5932216644287109,0.5901737809181213,0.5784820318222046,0.5831794738769531,0.5783229470252991,0.5838965177536011,0.5749849081039429,0.5669511556625366,0.5771981477737427,0.5651227831840515,0.5613775253295898,0.5662614107131958,0.5567125082015991,0.5523660778999329,0.5531136393547058,0.5496760010719299,0.5441305637359619,0.5514952540397644,0.5364372134208679,0.5452637076377869,0.5335291028022766,0.5414479374885559,0.5355225801467896,0.5248920321464539,0.532600462436676,0.5165722370147705,0.5207659006118774,0.5412043333053589,0.5172399878501892,0.5196086764335632,0.5121656656265259,0.5147596597671509,0.5078978538513184,0.511890172958374,0.5087876915931702,0.5037177205085754,0.5001469254493713,0.4896467328071594,0.4965403974056244,0.4924467206001282,0.4753755331039429,0.488377720117569,0.4873263537883759,0.4798994958400726,0.4888907074928284,0.4821445047855377,0.4806468188762665,0.4734672904014587,0.4812252223491669,0.4739240109920502,0.4732380509376526,0.4737409949302673,0.4746249616146088,0.4784380197525024,0.4801598489284515,0.4855197966098785,0.4701732993125916,0.4641650021076202,0.4635122716426849,0.4538440704345703,0.4533911645412445,0.4629851281642914,0.4613188505172729,0.4579758644104004,0.4587468802928925,0.4470835626125336,0.4482518434524536,0.4608074724674225,0.4552633464336395,0.4411937594413757,0.4363373219966888,0.4412912428379059,0.4430211782455444,0.4367060363292694,0.4339462220668793,0.4332816302776337,0.4283810257911682,0.4169085323810577,0.4226228892803192,0.4219613969326019,0.4247499406337738,0.4178220331668854,0.4113177061080933,0.4240701794624329,0.4048199355602264,0.4226590692996979,0.408208817243576,0.419036328792572,0.4123591184616089,0.4005327522754669,0.4137086272239685,0.3953761458396912,0.3943524658679962,0.3963609635829926,0.3935482800006866,0.4069966673851013,0.3801965415477753,0.3960782289505005,0.3852479159832001,0.3772253096103668,0.3782926797866821,0.3715394735336304,0.3721879422664642],\"type\":\"scatter\"},{\"mode\":\"lines\",\"name\":\"Valid\",\"x\":[0,1,2,3,4,5,6,7,8,9,10,11,12,13,14,15,16,17,18,19,20,21,22,23,24,25,26,27,28,29,30,31,32,33,34,35,36,37,38,39,40,41,42,43,44,45,46,47,48,49,50,51,52,53,54,55,56,57,58,59,60,61,62,63,64,65,66,67,68,69,70,71,72,73,74,75,76,77,78,79,80,81,82,83,84,85,86,87,88,89,90,91,92,93,94,95,96,97,98,99,100,101,102,103,104,105,106,107,108,109,110,111,112,113,114,115,116,117,118,119,120,121,122,123,124,125,126,127,128,129,130,131,132,133,134,135,136,137,138,139,140,141,142,143,144,145,146,147,148,149,150,151,152,153,154,155,156,157,158,159,160,161,162,163,164,165,166,167,168,169,170,171,172,173,174,175,176,177,178,179,180,181,182,183,184,185,186,187,188,189,190,191,192,193,194,195,196,197,198,199],\"y\":[0.4612309336662292,0.6602725982666016,0.6893970370292664,0.6898702383041382,0.6954107880592346,0.7062108516693115,0.6981990933418274,0.6979230642318726,0.6995805501937866,0.7012808322906494,0.6984900236129761,0.6985551714897156,0.7003220319747925,0.6984779834747314,0.6994587182998657,0.730729877948761,0.6999897956848145,0.6969709396362305,0.6971303820610046,0.7752101421356201,3.011051177978516,0.733433723449707,0.6953679919242859,0.6953354477882385,0.6953365206718445,0.6953582763671875,0.6953830122947693,0.6954054832458496,0.69542396068573,0.6954641938209534,0.695453941822052,0.697378933429718,0.6954103112220764,0.6967687606811523,0.7001157999038696,0.6957989931106567,0.7187681198120117,0.6949434280395508,0.6996977925300598,0.7205023169517517,0.695173978805542,0.7901503443717957,0.693858802318573,0.7216073870658875,0.6947640180587769,0.7314538359642029,0.6935452818870544,0.7535941004753113,0.6924889087677002,1.207134604454041,0.6931012272834778,0.7411707639694214,0.7254853248596191,0.7331104874610901,0.7386548519134521,0.7362998127937317,0.7620896100997925,0.7440415024757385,0.7397938370704651,0.7499606609344482,0.7426052093505859,0.746836245059967,0.7460702061653137,0.7472591400146484,0.741366446018219,0.7412440180778503,0.7469034790992737,0.7250708937644958,0.7340866327285767,0.7349445223808289,0.7201424241065979,0.7403733730316162,0.7342754602432251,0.7409934401512146,0.7321646213531494,0.7343667149543762,0.7271307706832886,0.7497164011001587,0.7471818327903748,0.7393178343772888,0.7468902468681335,0.7537423372268677,0.7409360408782959,0.7425839900970459,0.7549976706504822,0.7492066621780396,0.7534509301185608,0.7407777905464172,0.7405374646186829,0.737434983253479,0.7520533204078674,0.7395731210708618,0.7564177513122559,0.7428793907165527,0.737043023109436,0.7491447329521179,0.7389878034591675,0.7452395558357239,0.7390507459640503,0.7390300035476685,0.7319076061248779,0.7403779029846191,0.7539367079734802,0.9990748167037964,0.7329777479171753,0.7692624926567078,0.8139331936836243,1.098972678184509,0.7203027606010437,0.7383378148078918,0.732681930065155,1.303147673606873,0.7111921906471252,1.073185205459595,1.001672625541687,0.8693142533302307,0.9029343724250792,0.7734842300415039,0.8317738771438599,0.7420669198036194,0.7931163907051086,0.7376267910003662,0.7810788750648499,0.8812304139137268,0.7987023591995239,0.7370918989181519,0.7121217846870422,0.7759541273117065,0.7334804534912109,0.668914794921875,0.6683468818664551,0.7124980092048645,0.650458574295044,0.6458019614219666,0.6844045519828796,0.6445381045341492,0.665873110294342,0.6792471408843994,0.6802386045455933,0.6321873068809509,0.6725274920463562,0.6687478423118591,0.6249467134475708,0.6650582551956177,0.6813321709632874,0.6423826813697815,0.7132759094238281,0.6110048890113831,0.6135473251342773,0.5981268286705017,0.5902093648910522,0.7040196657180786,0.5789877772331238,0.6057202816009521,0.5731850266456604,0.6114612817764282,0.5915142297744751,0.6081072092056274,0.5619304180145264,0.5670354962348938,0.6294629573822021,0.5531413555145264,0.6120014190673828,0.5831950306892395,0.5702102780342102,0.5479190349578857,0.5397319197654724,0.6677879691123962,0.5326226353645325,0.737878143787384,0.5162283778190613,0.5910379886627197,0.532593309879303,0.5233308672904968,0.5250601768493652,0.542823851108551,0.5213218331336975,0.5083728432655334,0.5228666067123413,0.5244552493095398,0.5444549322128296,0.6025585532188416,0.5043488144874573,0.497668445110321,0.5296071171760559,0.4739419519901276,0.4921749830245972,0.6145697832107544,0.4788520038127899,0.554747462272644,0.4709861278533936,0.472792387008667,0.481614738702774,0.4655686318874359,0.4783805310726166,0.4537663757801056,0.5401481986045837,0.436994343996048,0.5372059941291809,0.4211154282093048],\"type\":\"scatter\"}],                        {\"template\":{\"data\":{\"histogram2dcontour\":[{\"type\":\"histogram2dcontour\",\"colorbar\":{\"outlinewidth\":0,\"ticks\":\"\"},\"colorscale\":[[0.0,\"#0d0887\"],[0.1111111111111111,\"#46039f\"],[0.2222222222222222,\"#7201a8\"],[0.3333333333333333,\"#9c179e\"],[0.4444444444444444,\"#bd3786\"],[0.5555555555555556,\"#d8576b\"],[0.6666666666666666,\"#ed7953\"],[0.7777777777777778,\"#fb9f3a\"],[0.8888888888888888,\"#fdca26\"],[1.0,\"#f0f921\"]]}],\"choropleth\":[{\"type\":\"choropleth\",\"colorbar\":{\"outlinewidth\":0,\"ticks\":\"\"}}],\"histogram2d\":[{\"type\":\"histogram2d\",\"colorbar\":{\"outlinewidth\":0,\"ticks\":\"\"},\"colorscale\":[[0.0,\"#0d0887\"],[0.1111111111111111,\"#46039f\"],[0.2222222222222222,\"#7201a8\"],[0.3333333333333333,\"#9c179e\"],[0.4444444444444444,\"#bd3786\"],[0.5555555555555556,\"#d8576b\"],[0.6666666666666666,\"#ed7953\"],[0.7777777777777778,\"#fb9f3a\"],[0.8888888888888888,\"#fdca26\"],[1.0,\"#f0f921\"]]}],\"heatmap\":[{\"type\":\"heatmap\",\"colorbar\":{\"outlinewidth\":0,\"ticks\":\"\"},\"colorscale\":[[0.0,\"#0d0887\"],[0.1111111111111111,\"#46039f\"],[0.2222222222222222,\"#7201a8\"],[0.3333333333333333,\"#9c179e\"],[0.4444444444444444,\"#bd3786\"],[0.5555555555555556,\"#d8576b\"],[0.6666666666666666,\"#ed7953\"],[0.7777777777777778,\"#fb9f3a\"],[0.8888888888888888,\"#fdca26\"],[1.0,\"#f0f921\"]]}],\"heatmapgl\":[{\"type\":\"heatmapgl\",\"colorbar\":{\"outlinewidth\":0,\"ticks\":\"\"},\"colorscale\":[[0.0,\"#0d0887\"],[0.1111111111111111,\"#46039f\"],[0.2222222222222222,\"#7201a8\"],[0.3333333333333333,\"#9c179e\"],[0.4444444444444444,\"#bd3786\"],[0.5555555555555556,\"#d8576b\"],[0.6666666666666666,\"#ed7953\"],[0.7777777777777778,\"#fb9f3a\"],[0.8888888888888888,\"#fdca26\"],[1.0,\"#f0f921\"]]}],\"contourcarpet\":[{\"type\":\"contourcarpet\",\"colorbar\":{\"outlinewidth\":0,\"ticks\":\"\"}}],\"contour\":[{\"type\":\"contour\",\"colorbar\":{\"outlinewidth\":0,\"ticks\":\"\"},\"colorscale\":[[0.0,\"#0d0887\"],[0.1111111111111111,\"#46039f\"],[0.2222222222222222,\"#7201a8\"],[0.3333333333333333,\"#9c179e\"],[0.4444444444444444,\"#bd3786\"],[0.5555555555555556,\"#d8576b\"],[0.6666666666666666,\"#ed7953\"],[0.7777777777777778,\"#fb9f3a\"],[0.8888888888888888,\"#fdca26\"],[1.0,\"#f0f921\"]]}],\"surface\":[{\"type\":\"surface\",\"colorbar\":{\"outlinewidth\":0,\"ticks\":\"\"},\"colorscale\":[[0.0,\"#0d0887\"],[0.1111111111111111,\"#46039f\"],[0.2222222222222222,\"#7201a8\"],[0.3333333333333333,\"#9c179e\"],[0.4444444444444444,\"#bd3786\"],[0.5555555555555556,\"#d8576b\"],[0.6666666666666666,\"#ed7953\"],[0.7777777777777778,\"#fb9f3a\"],[0.8888888888888888,\"#fdca26\"],[1.0,\"#f0f921\"]]}],\"mesh3d\":[{\"type\":\"mesh3d\",\"colorbar\":{\"outlinewidth\":0,\"ticks\":\"\"}}],\"scatter\":[{\"fillpattern\":{\"fillmode\":\"overlay\",\"size\":10,\"solidity\":0.2},\"type\":\"scatter\"}],\"parcoords\":[{\"type\":\"parcoords\",\"line\":{\"colorbar\":{\"outlinewidth\":0,\"ticks\":\"\"}}}],\"scatterpolargl\":[{\"type\":\"scatterpolargl\",\"marker\":{\"colorbar\":{\"outlinewidth\":0,\"ticks\":\"\"}}}],\"bar\":[{\"error_x\":{\"color\":\"#2a3f5f\"},\"error_y\":{\"color\":\"#2a3f5f\"},\"marker\":{\"line\":{\"color\":\"#E5ECF6\",\"width\":0.5},\"pattern\":{\"fillmode\":\"overlay\",\"size\":10,\"solidity\":0.2}},\"type\":\"bar\"}],\"scattergeo\":[{\"type\":\"scattergeo\",\"marker\":{\"colorbar\":{\"outlinewidth\":0,\"ticks\":\"\"}}}],\"scatterpolar\":[{\"type\":\"scatterpolar\",\"marker\":{\"colorbar\":{\"outlinewidth\":0,\"ticks\":\"\"}}}],\"histogram\":[{\"marker\":{\"pattern\":{\"fillmode\":\"overlay\",\"size\":10,\"solidity\":0.2}},\"type\":\"histogram\"}],\"scattergl\":[{\"type\":\"scattergl\",\"marker\":{\"colorbar\":{\"outlinewidth\":0,\"ticks\":\"\"}}}],\"scatter3d\":[{\"type\":\"scatter3d\",\"line\":{\"colorbar\":{\"outlinewidth\":0,\"ticks\":\"\"}},\"marker\":{\"colorbar\":{\"outlinewidth\":0,\"ticks\":\"\"}}}],\"scattermapbox\":[{\"type\":\"scattermapbox\",\"marker\":{\"colorbar\":{\"outlinewidth\":0,\"ticks\":\"\"}}}],\"scatterternary\":[{\"type\":\"scatterternary\",\"marker\":{\"colorbar\":{\"outlinewidth\":0,\"ticks\":\"\"}}}],\"scattercarpet\":[{\"type\":\"scattercarpet\",\"marker\":{\"colorbar\":{\"outlinewidth\":0,\"ticks\":\"\"}}}],\"carpet\":[{\"aaxis\":{\"endlinecolor\":\"#2a3f5f\",\"gridcolor\":\"white\",\"linecolor\":\"white\",\"minorgridcolor\":\"white\",\"startlinecolor\":\"#2a3f5f\"},\"baxis\":{\"endlinecolor\":\"#2a3f5f\",\"gridcolor\":\"white\",\"linecolor\":\"white\",\"minorgridcolor\":\"white\",\"startlinecolor\":\"#2a3f5f\"},\"type\":\"carpet\"}],\"table\":[{\"cells\":{\"fill\":{\"color\":\"#EBF0F8\"},\"line\":{\"color\":\"white\"}},\"header\":{\"fill\":{\"color\":\"#C8D4E3\"},\"line\":{\"color\":\"white\"}},\"type\":\"table\"}],\"barpolar\":[{\"marker\":{\"line\":{\"color\":\"#E5ECF6\",\"width\":0.5},\"pattern\":{\"fillmode\":\"overlay\",\"size\":10,\"solidity\":0.2}},\"type\":\"barpolar\"}],\"pie\":[{\"automargin\":true,\"type\":\"pie\"}]},\"layout\":{\"autotypenumbers\":\"strict\",\"colorway\":[\"#636efa\",\"#EF553B\",\"#00cc96\",\"#ab63fa\",\"#FFA15A\",\"#19d3f3\",\"#FF6692\",\"#B6E880\",\"#FF97FF\",\"#FECB52\"],\"font\":{\"color\":\"#2a3f5f\"},\"hovermode\":\"closest\",\"hoverlabel\":{\"align\":\"left\"},\"paper_bgcolor\":\"white\",\"plot_bgcolor\":\"#E5ECF6\",\"polar\":{\"bgcolor\":\"#E5ECF6\",\"angularaxis\":{\"gridcolor\":\"white\",\"linecolor\":\"white\",\"ticks\":\"\"},\"radialaxis\":{\"gridcolor\":\"white\",\"linecolor\":\"white\",\"ticks\":\"\"}},\"ternary\":{\"bgcolor\":\"#E5ECF6\",\"aaxis\":{\"gridcolor\":\"white\",\"linecolor\":\"white\",\"ticks\":\"\"},\"baxis\":{\"gridcolor\":\"white\",\"linecolor\":\"white\",\"ticks\":\"\"},\"caxis\":{\"gridcolor\":\"white\",\"linecolor\":\"white\",\"ticks\":\"\"}},\"coloraxis\":{\"colorbar\":{\"outlinewidth\":0,\"ticks\":\"\"}},\"colorscale\":{\"sequential\":[[0.0,\"#0d0887\"],[0.1111111111111111,\"#46039f\"],[0.2222222222222222,\"#7201a8\"],[0.3333333333333333,\"#9c179e\"],[0.4444444444444444,\"#bd3786\"],[0.5555555555555556,\"#d8576b\"],[0.6666666666666666,\"#ed7953\"],[0.7777777777777778,\"#fb9f3a\"],[0.8888888888888888,\"#fdca26\"],[1.0,\"#f0f921\"]],\"sequentialminus\":[[0.0,\"#0d0887\"],[0.1111111111111111,\"#46039f\"],[0.2222222222222222,\"#7201a8\"],[0.3333333333333333,\"#9c179e\"],[0.4444444444444444,\"#bd3786\"],[0.5555555555555556,\"#d8576b\"],[0.6666666666666666,\"#ed7953\"],[0.7777777777777778,\"#fb9f3a\"],[0.8888888888888888,\"#fdca26\"],[1.0,\"#f0f921\"]],\"diverging\":[[0,\"#8e0152\"],[0.1,\"#c51b7d\"],[0.2,\"#de77ae\"],[0.3,\"#f1b6da\"],[0.4,\"#fde0ef\"],[0.5,\"#f7f7f7\"],[0.6,\"#e6f5d0\"],[0.7,\"#b8e186\"],[0.8,\"#7fbc41\"],[0.9,\"#4d9221\"],[1,\"#276419\"]]},\"xaxis\":{\"gridcolor\":\"white\",\"linecolor\":\"white\",\"ticks\":\"\",\"title\":{\"standoff\":15},\"zerolinecolor\":\"white\",\"automargin\":true,\"zerolinewidth\":2},\"yaxis\":{\"gridcolor\":\"white\",\"linecolor\":\"white\",\"ticks\":\"\",\"title\":{\"standoff\":15},\"zerolinecolor\":\"white\",\"automargin\":true,\"zerolinewidth\":2},\"scene\":{\"xaxis\":{\"backgroundcolor\":\"#E5ECF6\",\"gridcolor\":\"white\",\"linecolor\":\"white\",\"showbackground\":true,\"ticks\":\"\",\"zerolinecolor\":\"white\",\"gridwidth\":2},\"yaxis\":{\"backgroundcolor\":\"#E5ECF6\",\"gridcolor\":\"white\",\"linecolor\":\"white\",\"showbackground\":true,\"ticks\":\"\",\"zerolinecolor\":\"white\",\"gridwidth\":2},\"zaxis\":{\"backgroundcolor\":\"#E5ECF6\",\"gridcolor\":\"white\",\"linecolor\":\"white\",\"showbackground\":true,\"ticks\":\"\",\"zerolinecolor\":\"white\",\"gridwidth\":2}},\"shapedefaults\":{\"line\":{\"color\":\"#2a3f5f\"}},\"annotationdefaults\":{\"arrowcolor\":\"#2a3f5f\",\"arrowhead\":0,\"arrowwidth\":1},\"geo\":{\"bgcolor\":\"white\",\"landcolor\":\"#E5ECF6\",\"subunitcolor\":\"white\",\"showland\":true,\"showlakes\":true,\"lakecolor\":\"white\"},\"title\":{\"x\":0.05},\"mapbox\":{\"style\":\"light\"}}},\"title\":{\"text\":\"Grafica de Loss por epoca\"},\"xaxis\":{\"title\":{\"text\":\"EPOCAS\"}},\"yaxis\":{\"title\":{\"text\":\"LOSS\"}}},                        {\"responsive\": true}                    ).then(function(){\n",
       "                            \n",
       "var gd = document.getElementById('de2b3d9a-f89d-4f4f-87e2-756f22c51b20');\n",
       "var x = new MutationObserver(function (mutations, observer) {{\n",
       "        var display = window.getComputedStyle(gd).display;\n",
       "        if (!display || display === 'none') {{\n",
       "            console.log([gd, 'removed!']);\n",
       "            Plotly.purge(gd);\n",
       "            observer.disconnect();\n",
       "        }}\n",
       "}});\n",
       "\n",
       "// Listen for the removal of the full notebook cells\n",
       "var notebookContainer = gd.closest('#notebook-container');\n",
       "if (notebookContainer) {{\n",
       "    x.observe(notebookContainer, {childList: true});\n",
       "}}\n",
       "\n",
       "// Listen for the clearing of the current output cell\n",
       "var outputEl = gd.closest('.output');\n",
       "if (outputEl) {{\n",
       "    x.observe(outputEl, {childList: true});\n",
       "}}\n",
       "\n",
       "                        })                };                });            </script>        </div>"
      ]
     },
     "metadata": {},
     "output_type": "display_data"
    },
    {
     "data": {
      "application/vnd.plotly.v1+json": {
       "config": {
        "plotlyServerURL": "https://plot.ly"
       },
       "data": [
        {
         "mode": "lines",
         "name": "Train",
         "type": "scatter",
         "x": [
          0,
          1,
          2,
          3,
          4,
          5,
          6,
          7,
          8,
          9,
          10,
          11,
          12,
          13,
          14,
          15,
          16,
          17,
          18,
          19,
          20,
          21,
          22,
          23,
          24,
          25,
          26,
          27,
          28,
          29,
          30,
          31,
          32,
          33,
          34,
          35,
          36,
          37,
          38,
          39,
          40,
          41,
          42,
          43,
          44,
          45,
          46,
          47,
          48,
          49,
          50,
          51,
          52,
          53,
          54,
          55,
          56,
          57,
          58,
          59,
          60,
          61,
          62,
          63,
          64,
          65,
          66,
          67,
          68,
          69,
          70,
          71,
          72,
          73,
          74,
          75,
          76,
          77,
          78,
          79,
          80,
          81,
          82,
          83,
          84,
          85,
          86,
          87,
          88,
          89,
          90,
          91,
          92,
          93,
          94,
          95,
          96,
          97,
          98,
          99,
          100,
          101,
          102,
          103,
          104,
          105,
          106,
          107,
          108,
          109,
          110,
          111,
          112,
          113,
          114,
          115,
          116,
          117,
          118,
          119,
          120,
          121,
          122,
          123,
          124,
          125,
          126,
          127,
          128,
          129,
          130,
          131,
          132,
          133,
          134,
          135,
          136,
          137,
          138,
          139,
          140,
          141,
          142,
          143,
          144,
          145,
          146,
          147,
          148,
          149,
          150,
          151,
          152,
          153,
          154,
          155,
          156,
          157,
          158,
          159,
          160,
          161,
          162,
          163,
          164,
          165,
          166,
          167,
          168,
          169,
          170,
          171,
          172,
          173,
          174,
          175,
          176,
          177,
          178,
          179,
          180,
          181,
          182,
          183,
          184,
          185,
          186,
          187,
          188,
          189,
          190,
          191,
          192,
          193,
          194,
          195,
          196,
          197,
          198,
          199
         ],
         "y": [
          0.4328125,
          0.44375,
          0.4369791666666667,
          0.4338541666666666,
          0.3864583333333333,
          0.4197916666666667,
          0.390625,
          0.3796874999999999,
          0.3713541666666666,
          0.3421875,
          0.3354166666666667,
          0.3671875,
          0.3182291666666667,
          0.3192708333333333,
          0.3255208333333333,
          0.3333333333333333,
          0.3052083333333333,
          0.284375,
          0.2807291666666667,
          0.290625,
          0.3270833333333333,
          0.3713541666666666,
          0.2833333333333333,
          0.2682291666666666,
          0.2859374999999999,
          0.2697916666666666,
          0.2765625,
          0.2895833333333333,
          0.2697916666666666,
          0.2942708333333333,
          0.2765625,
          0.3145833333333333,
          0.2739583333333333,
          0.3161458333333333,
          0.3151041666666666,
          0.271875,
          0.3421875,
          0.2640625,
          0.3354166666666667,
          0.3083333333333333,
          0.3015625,
          0.3598958333333333,
          0.2796875,
          0.3567708333333333,
          0.3302083333333333,
          0.3911458333333333,
          0.3208333333333333,
          0.4302083333333333,
          0.3671875,
          0.6119791666666666,
          0.3635416666666666,
          0.5802083333333333,
          0.5098958333333333,
          0.5286458333333334,
          0.5286458333333333,
          0.5380208333333334,
          0.5692708333333334,
          0.5557291666666667,
          0.575,
          0.5822916666666667,
          0.5890625,
          0.5828125,
          0.6020833333333333,
          0.578125,
          0.6067708333333333,
          0.5864583333333333,
          0.6546875,
          0.5276041666666667,
          0.6322916666666667,
          0.6421874999999999,
          0.5739583333333333,
          0.6515625,
          0.5630208333333333,
          0.6572916666666667,
          0.6359375,
          0.6479166666666667,
          0.6145833333333333,
          0.6890624999999999,
          0.646875,
          0.659375,
          0.678125,
          0.6875,
          0.6755208333333333,
          0.6911458333333333,
          0.7041666666666666,
          0.690625,
          0.715625,
          0.709375,
          0.7046875,
          0.7046874999999999,
          0.7473958333333333,
          0.7244791666666667,
          0.7046874999999999,
          0.6911458333333333,
          0.7255208333333334,
          0.7447916666666667,
          0.7484375000000001,
          0.7401041666666667,
          0.7354166666666666,
          0.7604166666666666,
          0.7593749999999999,
          0.7671875,
          0.7520833333333333,
          0.76875,
          0.7848958333333333,
          0.76875,
          0.7822916666666666,
          0.7807291666666667,
          0.78125,
          0.7791666666666667,
          0.7901041666666666,
          0.7838541666666667,
          0.7885416666666667,
          0.7890625,
          0.7932291666666667,
          0.7989583333333333,
          0.7963541666666667,
          0.8083333333333333,
          0.7942708333333333,
          0.8020833333333333,
          0.8130208333333333,
          0.809375,
          0.8135416666666666,
          0.8104166666666667,
          0.8098958333333333,
          0.8177083333333333,
          0.8104166666666667,
          0.81875,
          0.8046875,
          0.809375,
          0.815625,
          0.8145833333333334,
          0.8171875,
          0.8260416666666667,
          0.8265625000000001,
          0.8177083333333333,
          0.821875,
          0.8291666666666666,
          0.8317708333333333,
          0.8307291666666667,
          0.83125,
          0.8213541666666666,
          0.8265625,
          0.8296875,
          0.8276041666666667,
          0.8276041666666667,
          0.8276041666666667,
          0.828125,
          0.8380208333333333,
          0.8270833333333334,
          0.834375,
          0.8218749999999999,
          0.8208333333333333,
          0.8333333333333334,
          0.83125,
          0.8338541666666666,
          0.8375,
          0.8265625,
          0.8265625,
          0.83125,
          0.8322916666666667,
          0.8260416666666667,
          0.8385416666666667,
          0.8390625,
          0.828125,
          0.8385416666666667,
          0.8401041666666667,
          0.8432291666666667,
          0.8395833333333333,
          0.8380208333333333,
          0.8484375,
          0.8307291666666667,
          0.8395833333333333,
          0.8458333333333333,
          0.8546875,
          0.8473958333333333,
          0.84375,
          0.8401041666666667,
          0.8453125,
          0.8557291666666667,
          0.8494791666666667,
          0.8510416666666667,
          0.8515625,
          0.8458333333333333,
          0.8489583333333334,
          0.8526041666666666,
          0.85625,
          0.8536458333333334,
          0.8578125,
          0.8536458333333333,
          0.8541666666666667,
          0.8625,
          0.85,
          0.8625,
          0.8583333333333334,
          0.8640625,
          0.8671875,
          0.8609374999999999,
          0.8682291666666666,
          0.8692708333333333
         ]
        },
        {
         "mode": "lines",
         "name": "Valid",
         "type": "scatter",
         "x": [
          0,
          1,
          2,
          3,
          4,
          5,
          6,
          7,
          8,
          9,
          10,
          11,
          12,
          13,
          14,
          15,
          16,
          17,
          18,
          19,
          20,
          21,
          22,
          23,
          24,
          25,
          26,
          27,
          28,
          29,
          30,
          31,
          32,
          33,
          34,
          35,
          36,
          37,
          38,
          39,
          40,
          41,
          42,
          43,
          44,
          45,
          46,
          47,
          48,
          49,
          50,
          51,
          52,
          53,
          54,
          55,
          56,
          57,
          58,
          59,
          60,
          61,
          62,
          63,
          64,
          65,
          66,
          67,
          68,
          69,
          70,
          71,
          72,
          73,
          74,
          75,
          76,
          77,
          78,
          79,
          80,
          81,
          82,
          83,
          84,
          85,
          86,
          87,
          88,
          89,
          90,
          91,
          92,
          93,
          94,
          95,
          96,
          97,
          98,
          99,
          100,
          101,
          102,
          103,
          104,
          105,
          106,
          107,
          108,
          109,
          110,
          111,
          112,
          113,
          114,
          115,
          116,
          117,
          118,
          119,
          120,
          121,
          122,
          123,
          124,
          125,
          126,
          127,
          128,
          129,
          130,
          131,
          132,
          133,
          134,
          135,
          136,
          137,
          138,
          139,
          140,
          141,
          142,
          143,
          144,
          145,
          146,
          147,
          148,
          149,
          150,
          151,
          152,
          153,
          154,
          155,
          156,
          157,
          158,
          159,
          160,
          161,
          162,
          163,
          164,
          165,
          166,
          167,
          168,
          169,
          170,
          171,
          172,
          173,
          174,
          175,
          176,
          177,
          178,
          179,
          180,
          181,
          182,
          183,
          184,
          185,
          186,
          187,
          188,
          189,
          190,
          191,
          192,
          193,
          194,
          195,
          196,
          197,
          198,
          199
         ],
         "y": [
          0.5,
          0.5,
          0.4668227946916471,
          0.5580601092896175,
          0.5065378610460578,
          0.5171740827478533,
          0.501951600312256,
          0.4755074160811866,
          0.5,
          0.5,
          0.5,
          0.5,
          0.5,
          0.5,
          0.5,
          0.5,
          0.5,
          0.5,
          0.5,
          0.5,
          0.5,
          0.5,
          0.5,
          0.5,
          0.5,
          0.5,
          0.5,
          0.5,
          0.5,
          0.5,
          0.5,
          0.5,
          0.5,
          0.5,
          0.5,
          0.5,
          0.5,
          0.5,
          0.5,
          0.5,
          0.5,
          0.5,
          0.5,
          0.5,
          0.5,
          0.5,
          0.7133099141295862,
          0.2889344262295081,
          0.5669398907103825,
          0.5,
          0.5599141295862607,
          0.3342115534738485,
          0.3608508977361436,
          0.3698282591725214,
          0.3866120218579235,
          0.4112021857923497,
          0.3909055425448868,
          0.4381342701014832,
          0.4759953161592505,
          0.4677985948477751,
          0.504488680718189,
          0.5017564402810305,
          0.5111241217798594,
          0.5048790007806402,
          0.5154176424668228,
          0.5161982825917252,
          0.7861046057767369,
          0.5310304449648712,
          0.5535714285714286,
          0.8044496487119438,
          0.6361241217798594,
          0.7830796252927401,
          0.5484972677595629,
          0.6761319281811085,
          0.787080405932865,
          0.8376268540202967,
          0.7629781420765027,
          0.8040593286494926,
          0.8173302107728337,
          0.830991412958626,
          0.8185011709601874,
          0.8052302888368462,
          0.8282591725214676,
          0.8302107728337236,
          0.8165495706479313,
          0.8235753317720531,
          0.8208430913348946,
          0.8341139734582357,
          0.8391881342701015,
          0.8415300546448088,
          0.8274785323965652,
          0.840359094457455,
          0.8270882123341139,
          0.8411397345823575,
          0.839968774395004,
          0.8348946135831381,
          0.8411397345823575,
          0.8376268540202967,
          0.8430913348946136,
          0.8419203747072599,
          0.8466042154566744,
          0.8348946135831381,
          0.804839968774395,
          0.5665495706479313,
          0.8505074160811865,
          0.6945745511319281,
          0.6777907884465262,
          0.5282982045277127,
          0.8485558157689306,
          0.8333333333333333,
          0.8372365339578454,
          0.4959016393442623,
          0.8614363778298204,
          0.597384855581577,
          0.6364168618266979,
          0.696135831381733,
          0.6785714285714286,
          0.7355581576893053,
          0.710967993754879,
          0.8407494145199064,
          0.7304839968774395,
          0.8376268540202967,
          0.8325526932084308,
          0.7207259953161593,
          0.7830796252927401,
          0.8497267759562841,
          0.8583138173302107,
          0.8434816549570647,
          0.8520686963309914,
          0.8711943793911008,
          0.8719750195160032,
          0.8559718969555035,
          0.8747072599531616,
          0.8750975800156128,
          0.8637782982045277,
          0.8747072599531616,
          0.8676814988290398,
          0.8672911787665887,
          0.8672911787665887,
          0.8766588602654176,
          0.8676814988290398,
          0.8680718188914911,
          0.8817330210772834,
          0.8692427790788446,
          0.8672911787665887,
          0.8747072599531616,
          0.8602654176424669,
          0.8825136612021858,
          0.8809523809523809,
          0.8856362217017955,
          0.8879781420765027,
          0.8213309914129586,
          0.8883684621389539,
          0.8813427010148321,
          0.8907103825136612,
          0.8813427010148321,
          0.8844652615144418,
          0.8793911007025761,
          0.892271662763466,
          0.89032006245121,
          0.8747072599531616,
          0.8930523028883685,
          0.8801717408274785,
          0.8840749414519906,
          0.8879781420765027,
          0.8930523028883685,
          0.8953942232630757,
          0.8711943793911008,
          0.8969555035128806,
          0.8193793911007026,
          0.9028103044496488,
          0.8875878220140515,
          0.8973458235753318,
          0.8989071038251366,
          0.8572404371584699,
          0.8953942232630757,
          0.8973458235753318,
          0.8619242779078844,
          0.8580210772833723,
          0.899687743950039,
          0.8950039032006245,
          0.8887587822014051,
          0.9028103044496488,
          0.9032006245121,
          0.8965651834504293,
          0.911007025761124,
          0.9059328649492584,
          0.8864168618266979,
          0.9082747853239655,
          0.8981264637002342,
          0.8366510538641687,
          0.8744145199063231,
          0.8677790788446527,
          0.8798790007806401,
          0.8701209992193599,
          0.8818306010928962,
          0.9028103044496488,
          0.8861241217798594,
          0.9035909445745512,
          0.8573380171740828
         ]
        }
       ],
       "layout": {
        "autosize": true,
        "template": {
         "data": {
          "bar": [
           {
            "error_x": {
             "color": "#2a3f5f"
            },
            "error_y": {
             "color": "#2a3f5f"
            },
            "marker": {
             "line": {
              "color": "#E5ECF6",
              "width": 0.5
             },
             "pattern": {
              "fillmode": "overlay",
              "size": 10,
              "solidity": 0.2
             }
            },
            "type": "bar"
           }
          ],
          "barpolar": [
           {
            "marker": {
             "line": {
              "color": "#E5ECF6",
              "width": 0.5
             },
             "pattern": {
              "fillmode": "overlay",
              "size": 10,
              "solidity": 0.2
             }
            },
            "type": "barpolar"
           }
          ],
          "carpet": [
           {
            "aaxis": {
             "endlinecolor": "#2a3f5f",
             "gridcolor": "white",
             "linecolor": "white",
             "minorgridcolor": "white",
             "startlinecolor": "#2a3f5f"
            },
            "baxis": {
             "endlinecolor": "#2a3f5f",
             "gridcolor": "white",
             "linecolor": "white",
             "minorgridcolor": "white",
             "startlinecolor": "#2a3f5f"
            },
            "type": "carpet"
           }
          ],
          "choropleth": [
           {
            "colorbar": {
             "outlinewidth": 0,
             "ticks": ""
            },
            "type": "choropleth"
           }
          ],
          "contour": [
           {
            "colorbar": {
             "outlinewidth": 0,
             "ticks": ""
            },
            "colorscale": [
             [
              0,
              "#0d0887"
             ],
             [
              0.1111111111111111,
              "#46039f"
             ],
             [
              0.2222222222222222,
              "#7201a8"
             ],
             [
              0.3333333333333333,
              "#9c179e"
             ],
             [
              0.4444444444444444,
              "#bd3786"
             ],
             [
              0.5555555555555556,
              "#d8576b"
             ],
             [
              0.6666666666666666,
              "#ed7953"
             ],
             [
              0.7777777777777778,
              "#fb9f3a"
             ],
             [
              0.8888888888888888,
              "#fdca26"
             ],
             [
              1,
              "#f0f921"
             ]
            ],
            "type": "contour"
           }
          ],
          "contourcarpet": [
           {
            "colorbar": {
             "outlinewidth": 0,
             "ticks": ""
            },
            "type": "contourcarpet"
           }
          ],
          "heatmap": [
           {
            "colorbar": {
             "outlinewidth": 0,
             "ticks": ""
            },
            "colorscale": [
             [
              0,
              "#0d0887"
             ],
             [
              0.1111111111111111,
              "#46039f"
             ],
             [
              0.2222222222222222,
              "#7201a8"
             ],
             [
              0.3333333333333333,
              "#9c179e"
             ],
             [
              0.4444444444444444,
              "#bd3786"
             ],
             [
              0.5555555555555556,
              "#d8576b"
             ],
             [
              0.6666666666666666,
              "#ed7953"
             ],
             [
              0.7777777777777778,
              "#fb9f3a"
             ],
             [
              0.8888888888888888,
              "#fdca26"
             ],
             [
              1,
              "#f0f921"
             ]
            ],
            "type": "heatmap"
           }
          ],
          "heatmapgl": [
           {
            "colorbar": {
             "outlinewidth": 0,
             "ticks": ""
            },
            "colorscale": [
             [
              0,
              "#0d0887"
             ],
             [
              0.1111111111111111,
              "#46039f"
             ],
             [
              0.2222222222222222,
              "#7201a8"
             ],
             [
              0.3333333333333333,
              "#9c179e"
             ],
             [
              0.4444444444444444,
              "#bd3786"
             ],
             [
              0.5555555555555556,
              "#d8576b"
             ],
             [
              0.6666666666666666,
              "#ed7953"
             ],
             [
              0.7777777777777778,
              "#fb9f3a"
             ],
             [
              0.8888888888888888,
              "#fdca26"
             ],
             [
              1,
              "#f0f921"
             ]
            ],
            "type": "heatmapgl"
           }
          ],
          "histogram": [
           {
            "marker": {
             "pattern": {
              "fillmode": "overlay",
              "size": 10,
              "solidity": 0.2
             }
            },
            "type": "histogram"
           }
          ],
          "histogram2d": [
           {
            "colorbar": {
             "outlinewidth": 0,
             "ticks": ""
            },
            "colorscale": [
             [
              0,
              "#0d0887"
             ],
             [
              0.1111111111111111,
              "#46039f"
             ],
             [
              0.2222222222222222,
              "#7201a8"
             ],
             [
              0.3333333333333333,
              "#9c179e"
             ],
             [
              0.4444444444444444,
              "#bd3786"
             ],
             [
              0.5555555555555556,
              "#d8576b"
             ],
             [
              0.6666666666666666,
              "#ed7953"
             ],
             [
              0.7777777777777778,
              "#fb9f3a"
             ],
             [
              0.8888888888888888,
              "#fdca26"
             ],
             [
              1,
              "#f0f921"
             ]
            ],
            "type": "histogram2d"
           }
          ],
          "histogram2dcontour": [
           {
            "colorbar": {
             "outlinewidth": 0,
             "ticks": ""
            },
            "colorscale": [
             [
              0,
              "#0d0887"
             ],
             [
              0.1111111111111111,
              "#46039f"
             ],
             [
              0.2222222222222222,
              "#7201a8"
             ],
             [
              0.3333333333333333,
              "#9c179e"
             ],
             [
              0.4444444444444444,
              "#bd3786"
             ],
             [
              0.5555555555555556,
              "#d8576b"
             ],
             [
              0.6666666666666666,
              "#ed7953"
             ],
             [
              0.7777777777777778,
              "#fb9f3a"
             ],
             [
              0.8888888888888888,
              "#fdca26"
             ],
             [
              1,
              "#f0f921"
             ]
            ],
            "type": "histogram2dcontour"
           }
          ],
          "mesh3d": [
           {
            "colorbar": {
             "outlinewidth": 0,
             "ticks": ""
            },
            "type": "mesh3d"
           }
          ],
          "parcoords": [
           {
            "line": {
             "colorbar": {
              "outlinewidth": 0,
              "ticks": ""
             }
            },
            "type": "parcoords"
           }
          ],
          "pie": [
           {
            "automargin": true,
            "type": "pie"
           }
          ],
          "scatter": [
           {
            "fillpattern": {
             "fillmode": "overlay",
             "size": 10,
             "solidity": 0.2
            },
            "type": "scatter"
           }
          ],
          "scatter3d": [
           {
            "line": {
             "colorbar": {
              "outlinewidth": 0,
              "ticks": ""
             }
            },
            "marker": {
             "colorbar": {
              "outlinewidth": 0,
              "ticks": ""
             }
            },
            "type": "scatter3d"
           }
          ],
          "scattercarpet": [
           {
            "marker": {
             "colorbar": {
              "outlinewidth": 0,
              "ticks": ""
             }
            },
            "type": "scattercarpet"
           }
          ],
          "scattergeo": [
           {
            "marker": {
             "colorbar": {
              "outlinewidth": 0,
              "ticks": ""
             }
            },
            "type": "scattergeo"
           }
          ],
          "scattergl": [
           {
            "marker": {
             "colorbar": {
              "outlinewidth": 0,
              "ticks": ""
             }
            },
            "type": "scattergl"
           }
          ],
          "scattermapbox": [
           {
            "marker": {
             "colorbar": {
              "outlinewidth": 0,
              "ticks": ""
             }
            },
            "type": "scattermapbox"
           }
          ],
          "scatterpolar": [
           {
            "marker": {
             "colorbar": {
              "outlinewidth": 0,
              "ticks": ""
             }
            },
            "type": "scatterpolar"
           }
          ],
          "scatterpolargl": [
           {
            "marker": {
             "colorbar": {
              "outlinewidth": 0,
              "ticks": ""
             }
            },
            "type": "scatterpolargl"
           }
          ],
          "scatterternary": [
           {
            "marker": {
             "colorbar": {
              "outlinewidth": 0,
              "ticks": ""
             }
            },
            "type": "scatterternary"
           }
          ],
          "surface": [
           {
            "colorbar": {
             "outlinewidth": 0,
             "ticks": ""
            },
            "colorscale": [
             [
              0,
              "#0d0887"
             ],
             [
              0.1111111111111111,
              "#46039f"
             ],
             [
              0.2222222222222222,
              "#7201a8"
             ],
             [
              0.3333333333333333,
              "#9c179e"
             ],
             [
              0.4444444444444444,
              "#bd3786"
             ],
             [
              0.5555555555555556,
              "#d8576b"
             ],
             [
              0.6666666666666666,
              "#ed7953"
             ],
             [
              0.7777777777777778,
              "#fb9f3a"
             ],
             [
              0.8888888888888888,
              "#fdca26"
             ],
             [
              1,
              "#f0f921"
             ]
            ],
            "type": "surface"
           }
          ],
          "table": [
           {
            "cells": {
             "fill": {
              "color": "#EBF0F8"
             },
             "line": {
              "color": "white"
             }
            },
            "header": {
             "fill": {
              "color": "#C8D4E3"
             },
             "line": {
              "color": "white"
             }
            },
            "type": "table"
           }
          ]
         },
         "layout": {
          "annotationdefaults": {
           "arrowcolor": "#2a3f5f",
           "arrowhead": 0,
           "arrowwidth": 1
          },
          "autotypenumbers": "strict",
          "coloraxis": {
           "colorbar": {
            "outlinewidth": 0,
            "ticks": ""
           }
          },
          "colorscale": {
           "diverging": [
            [
             0,
             "#8e0152"
            ],
            [
             0.1,
             "#c51b7d"
            ],
            [
             0.2,
             "#de77ae"
            ],
            [
             0.3,
             "#f1b6da"
            ],
            [
             0.4,
             "#fde0ef"
            ],
            [
             0.5,
             "#f7f7f7"
            ],
            [
             0.6,
             "#e6f5d0"
            ],
            [
             0.7,
             "#b8e186"
            ],
            [
             0.8,
             "#7fbc41"
            ],
            [
             0.9,
             "#4d9221"
            ],
            [
             1,
             "#276419"
            ]
           ],
           "sequential": [
            [
             0,
             "#0d0887"
            ],
            [
             0.1111111111111111,
             "#46039f"
            ],
            [
             0.2222222222222222,
             "#7201a8"
            ],
            [
             0.3333333333333333,
             "#9c179e"
            ],
            [
             0.4444444444444444,
             "#bd3786"
            ],
            [
             0.5555555555555556,
             "#d8576b"
            ],
            [
             0.6666666666666666,
             "#ed7953"
            ],
            [
             0.7777777777777778,
             "#fb9f3a"
            ],
            [
             0.8888888888888888,
             "#fdca26"
            ],
            [
             1,
             "#f0f921"
            ]
           ],
           "sequentialminus": [
            [
             0,
             "#0d0887"
            ],
            [
             0.1111111111111111,
             "#46039f"
            ],
            [
             0.2222222222222222,
             "#7201a8"
            ],
            [
             0.3333333333333333,
             "#9c179e"
            ],
            [
             0.4444444444444444,
             "#bd3786"
            ],
            [
             0.5555555555555556,
             "#d8576b"
            ],
            [
             0.6666666666666666,
             "#ed7953"
            ],
            [
             0.7777777777777778,
             "#fb9f3a"
            ],
            [
             0.8888888888888888,
             "#fdca26"
            ],
            [
             1,
             "#f0f921"
            ]
           ]
          },
          "colorway": [
           "#636efa",
           "#EF553B",
           "#00cc96",
           "#ab63fa",
           "#FFA15A",
           "#19d3f3",
           "#FF6692",
           "#B6E880",
           "#FF97FF",
           "#FECB52"
          ],
          "font": {
           "color": "#2a3f5f"
          },
          "geo": {
           "bgcolor": "white",
           "lakecolor": "white",
           "landcolor": "#E5ECF6",
           "showlakes": true,
           "showland": true,
           "subunitcolor": "white"
          },
          "hoverlabel": {
           "align": "left"
          },
          "hovermode": "closest",
          "mapbox": {
           "style": "light"
          },
          "paper_bgcolor": "white",
          "plot_bgcolor": "#E5ECF6",
          "polar": {
           "angularaxis": {
            "gridcolor": "white",
            "linecolor": "white",
            "ticks": ""
           },
           "bgcolor": "#E5ECF6",
           "radialaxis": {
            "gridcolor": "white",
            "linecolor": "white",
            "ticks": ""
           }
          },
          "scene": {
           "xaxis": {
            "backgroundcolor": "#E5ECF6",
            "gridcolor": "white",
            "gridwidth": 2,
            "linecolor": "white",
            "showbackground": true,
            "ticks": "",
            "zerolinecolor": "white"
           },
           "yaxis": {
            "backgroundcolor": "#E5ECF6",
            "gridcolor": "white",
            "gridwidth": 2,
            "linecolor": "white",
            "showbackground": true,
            "ticks": "",
            "zerolinecolor": "white"
           },
           "zaxis": {
            "backgroundcolor": "#E5ECF6",
            "gridcolor": "white",
            "gridwidth": 2,
            "linecolor": "white",
            "showbackground": true,
            "ticks": "",
            "zerolinecolor": "white"
           }
          },
          "shapedefaults": {
           "line": {
            "color": "#2a3f5f"
           }
          },
          "ternary": {
           "aaxis": {
            "gridcolor": "white",
            "linecolor": "white",
            "ticks": ""
           },
           "baxis": {
            "gridcolor": "white",
            "linecolor": "white",
            "ticks": ""
           },
           "bgcolor": "#E5ECF6",
           "caxis": {
            "gridcolor": "white",
            "linecolor": "white",
            "ticks": ""
           }
          },
          "title": {
           "x": 0.05
          },
          "xaxis": {
           "automargin": true,
           "gridcolor": "white",
           "linecolor": "white",
           "ticks": "",
           "title": {
            "standoff": 15
           },
           "zerolinecolor": "white",
           "zerolinewidth": 2
          },
          "yaxis": {
           "automargin": true,
           "gridcolor": "white",
           "linecolor": "white",
           "ticks": "",
           "title": {
            "standoff": 15
           },
           "zerolinecolor": "white",
           "zerolinewidth": 2
          }
         }
        },
        "title": {
         "text": "Grafica de Balanced Acc por epoca"
        },
        "xaxis": {
         "autorange": true,
         "range": [
          0,
          199
         ],
         "title": {
          "text": "EPOCAS"
         },
         "type": "linear"
        },
        "yaxis": {
         "autorange": true,
         "range": [
          0.2281211374577153,
          0.9469483883034087
         ],
         "title": {
          "text": "BAL_ACC"
         },
         "type": "linear"
        }
       }
      },
      "image/png": "[encoded data removed]",
      "text/html": [
       "<div>                            <div id=\"482d9f47-65f5-45d9-9fbd-34c21427a851\" class=\"plotly-graph-div\" style=\"height:525px; width:100%;\"></div>            <script type=\"text/javascript\">                require([\"plotly\"], function(Plotly) {                    window.PLOTLYENV=window.PLOTLYENV || {};                                    if (document.getElementById(\"482d9f47-65f5-45d9-9fbd-34c21427a851\")) {                    Plotly.newPlot(                        \"482d9f47-65f5-45d9-9fbd-34c21427a851\",                        [{\"mode\":\"lines\",\"name\":\"Train\",\"x\":[0,1,2,3,4,5,6,7,8,9,10,11,12,13,14,15,16,17,18,19,20,21,22,23,24,25,26,27,28,29,30,31,32,33,34,35,36,37,38,39,40,41,42,43,44,45,46,47,48,49,50,51,52,53,54,55,56,57,58,59,60,61,62,63,64,65,66,67,68,69,70,71,72,73,74,75,76,77,78,79,80,81,82,83,84,85,86,87,88,89,90,91,92,93,94,95,96,97,98,99,100,101,102,103,104,105,106,107,108,109,110,111,112,113,114,115,116,117,118,119,120,121,122,123,124,125,126,127,128,129,130,131,132,133,134,135,136,137,138,139,140,141,142,143,144,145,146,147,148,149,150,151,152,153,154,155,156,157,158,159,160,161,162,163,164,165,166,167,168,169,170,171,172,173,174,175,176,177,178,179,180,181,182,183,184,185,186,187,188,189,190,191,192,193,194,195,196,197,198,199],\"y\":[0.4328125,0.44375,0.4369791666666667,0.4338541666666666,0.3864583333333333,0.4197916666666667,0.390625,0.3796874999999999,0.3713541666666666,0.3421875,0.3354166666666667,0.3671875,0.3182291666666667,0.3192708333333333,0.3255208333333333,0.3333333333333333,0.3052083333333333,0.284375,0.2807291666666667,0.290625,0.3270833333333333,0.3713541666666666,0.2833333333333333,0.2682291666666666,0.2859374999999999,0.2697916666666666,0.2765625,0.2895833333333333,0.2697916666666666,0.2942708333333333,0.2765625,0.3145833333333333,0.2739583333333333,0.3161458333333333,0.3151041666666666,0.271875,0.3421875,0.2640625,0.3354166666666667,0.3083333333333333,0.3015625,0.3598958333333333,0.2796875,0.3567708333333333,0.3302083333333333,0.3911458333333333,0.3208333333333333,0.4302083333333333,0.3671875,0.6119791666666666,0.3635416666666666,0.5802083333333333,0.5098958333333333,0.5286458333333334,0.5286458333333333,0.5380208333333334,0.5692708333333334,0.5557291666666667,0.575,0.5822916666666667,0.5890625,0.5828125,0.6020833333333333,0.578125,0.6067708333333333,0.5864583333333333,0.6546875,0.5276041666666667,0.6322916666666667,0.6421874999999999,0.5739583333333333,0.6515625,0.5630208333333333,0.6572916666666667,0.6359375,0.6479166666666667,0.6145833333333333,0.6890624999999999,0.646875,0.659375,0.678125,0.6875,0.6755208333333333,0.6911458333333333,0.7041666666666666,0.690625,0.715625,0.709375,0.7046875,0.7046874999999999,0.7473958333333333,0.7244791666666667,0.7046874999999999,0.6911458333333333,0.7255208333333334,0.7447916666666667,0.7484375000000001,0.7401041666666667,0.7354166666666666,0.7604166666666666,0.7593749999999999,0.7671875,0.7520833333333333,0.76875,0.7848958333333333,0.76875,0.7822916666666666,0.7807291666666667,0.78125,0.7791666666666667,0.7901041666666666,0.7838541666666667,0.7885416666666667,0.7890625,0.7932291666666667,0.7989583333333333,0.7963541666666667,0.8083333333333333,0.7942708333333333,0.8020833333333333,0.8130208333333333,0.809375,0.8135416666666666,0.8104166666666667,0.8098958333333333,0.8177083333333333,0.8104166666666667,0.81875,0.8046875,0.809375,0.815625,0.8145833333333334,0.8171875,0.8260416666666667,0.8265625000000001,0.8177083333333333,0.821875,0.8291666666666666,0.8317708333333333,0.8307291666666667,0.83125,0.8213541666666666,0.8265625,0.8296875,0.8276041666666667,0.8276041666666667,0.8276041666666667,0.828125,0.8380208333333333,0.8270833333333334,0.834375,0.8218749999999999,0.8208333333333333,0.8333333333333334,0.83125,0.8338541666666666,0.8375,0.8265625,0.8265625,0.83125,0.8322916666666667,0.8260416666666667,0.8385416666666667,0.8390625,0.828125,0.8385416666666667,0.8401041666666667,0.8432291666666667,0.8395833333333333,0.8380208333333333,0.8484375,0.8307291666666667,0.8395833333333333,0.8458333333333333,0.8546875,0.8473958333333333,0.84375,0.8401041666666667,0.8453125,0.8557291666666667,0.8494791666666667,0.8510416666666667,0.8515625,0.8458333333333333,0.8489583333333334,0.8526041666666666,0.85625,0.8536458333333334,0.8578125,0.8536458333333333,0.8541666666666667,0.8625,0.85,0.8625,0.8583333333333334,0.8640625,0.8671875,0.8609374999999999,0.8682291666666666,0.8692708333333333],\"type\":\"scatter\"},{\"mode\":\"lines\",\"name\":\"Valid\",\"x\":[0,1,2,3,4,5,6,7,8,9,10,11,12,13,14,15,16,17,18,19,20,21,22,23,24,25,26,27,28,29,30,31,32,33,34,35,36,37,38,39,40,41,42,43,44,45,46,47,48,49,50,51,52,53,54,55,56,57,58,59,60,61,62,63,64,65,66,67,68,69,70,71,72,73,74,75,76,77,78,79,80,81,82,83,84,85,86,87,88,89,90,91,92,93,94,95,96,97,98,99,100,101,102,103,104,105,106,107,108,109,110,111,112,113,114,115,116,117,118,119,120,121,122,123,124,125,126,127,128,129,130,131,132,133,134,135,136,137,138,139,140,141,142,143,144,145,146,147,148,149,150,151,152,153,154,155,156,157,158,159,160,161,162,163,164,165,166,167,168,169,170,171,172,173,174,175,176,177,178,179,180,181,182,183,184,185,186,187,188,189,190,191,192,193,194,195,196,197,198,199],\"y\":[0.5,0.5,0.4668227946916471,0.5580601092896175,0.5065378610460578,0.5171740827478533,0.501951600312256,0.4755074160811866,0.5,0.5,0.5,0.5,0.5,0.5,0.5,0.5,0.5,0.5,0.5,0.5,0.5,0.5,0.5,0.5,0.5,0.5,0.5,0.5,0.5,0.5,0.5,0.5,0.5,0.5,0.5,0.5,0.5,0.5,0.5,0.5,0.5,0.5,0.5,0.5,0.5,0.5,0.7133099141295862,0.2889344262295081,0.5669398907103825,0.5,0.5599141295862607,0.3342115534738485,0.3608508977361436,0.3698282591725214,0.3866120218579235,0.4112021857923497,0.3909055425448868,0.4381342701014832,0.4759953161592505,0.4677985948477751,0.504488680718189,0.5017564402810305,0.5111241217798594,0.5048790007806402,0.5154176424668228,0.5161982825917252,0.7861046057767369,0.5310304449648712,0.5535714285714286,0.8044496487119438,0.6361241217798594,0.7830796252927401,0.5484972677595629,0.6761319281811085,0.787080405932865,0.8376268540202967,0.7629781420765027,0.8040593286494926,0.8173302107728337,0.830991412958626,0.8185011709601874,0.8052302888368462,0.8282591725214676,0.8302107728337236,0.8165495706479313,0.8235753317720531,0.8208430913348946,0.8341139734582357,0.8391881342701015,0.8415300546448088,0.8274785323965652,0.840359094457455,0.8270882123341139,0.8411397345823575,0.839968774395004,0.8348946135831381,0.8411397345823575,0.8376268540202967,0.8430913348946136,0.8419203747072599,0.8466042154566744,0.8348946135831381,0.804839968774395,0.5665495706479313,0.8505074160811865,0.6945745511319281,0.6777907884465262,0.5282982045277127,0.8485558157689306,0.8333333333333333,0.8372365339578454,0.4959016393442623,0.8614363778298204,0.597384855581577,0.6364168618266979,0.696135831381733,0.6785714285714286,0.7355581576893053,0.710967993754879,0.8407494145199064,0.7304839968774395,0.8376268540202967,0.8325526932084308,0.7207259953161593,0.7830796252927401,0.8497267759562841,0.8583138173302107,0.8434816549570647,0.8520686963309914,0.8711943793911008,0.8719750195160032,0.8559718969555035,0.8747072599531616,0.8750975800156128,0.8637782982045277,0.8747072599531616,0.8676814988290398,0.8672911787665887,0.8672911787665887,0.8766588602654176,0.8676814988290398,0.8680718188914911,0.8817330210772834,0.8692427790788446,0.8672911787665887,0.8747072599531616,0.8602654176424669,0.8825136612021858,0.8809523809523809,0.8856362217017955,0.8879781420765027,0.8213309914129586,0.8883684621389539,0.8813427010148321,0.8907103825136612,0.8813427010148321,0.8844652615144418,0.8793911007025761,0.892271662763466,0.89032006245121,0.8747072599531616,0.8930523028883685,0.8801717408274785,0.8840749414519906,0.8879781420765027,0.8930523028883685,0.8953942232630757,0.8711943793911008,0.8969555035128806,0.8193793911007026,0.9028103044496488,0.8875878220140515,0.8973458235753318,0.8989071038251366,0.8572404371584699,0.8953942232630757,0.8973458235753318,0.8619242779078844,0.8580210772833723,0.899687743950039,0.8950039032006245,0.8887587822014051,0.9028103044496488,0.9032006245121,0.8965651834504293,0.911007025761124,0.9059328649492584,0.8864168618266979,0.9082747853239655,0.8981264637002342,0.8366510538641687,0.8744145199063231,0.8677790788446527,0.8798790007806401,0.8701209992193599,0.8818306010928962,0.9028103044496488,0.8861241217798594,0.9035909445745512,0.8573380171740828],\"type\":\"scatter\"}],                        {\"template\":{\"data\":{\"histogram2dcontour\":[{\"type\":\"histogram2dcontour\",\"colorbar\":{\"outlinewidth\":0,\"ticks\":\"\"},\"colorscale\":[[0.0,\"#0d0887\"],[0.1111111111111111,\"#46039f\"],[0.2222222222222222,\"#7201a8\"],[0.3333333333333333,\"#9c179e\"],[0.4444444444444444,\"#bd3786\"],[0.5555555555555556,\"#d8576b\"],[0.6666666666666666,\"#ed7953\"],[0.7777777777777778,\"#fb9f3a\"],[0.8888888888888888,\"#fdca26\"],[1.0,\"#f0f921\"]]}],\"choropleth\":[{\"type\":\"choropleth\",\"colorbar\":{\"outlinewidth\":0,\"ticks\":\"\"}}],\"histogram2d\":[{\"type\":\"histogram2d\",\"colorbar\":{\"outlinewidth\":0,\"ticks\":\"\"},\"colorscale\":[[0.0,\"#0d0887\"],[0.1111111111111111,\"#46039f\"],[0.2222222222222222,\"#7201a8\"],[0.3333333333333333,\"#9c179e\"],[0.4444444444444444,\"#bd3786\"],[0.5555555555555556,\"#d8576b\"],[0.6666666666666666,\"#ed7953\"],[0.7777777777777778,\"#fb9f3a\"],[0.8888888888888888,\"#fdca26\"],[1.0,\"#f0f921\"]]}],\"heatmap\":[{\"type\":\"heatmap\",\"colorbar\":{\"outlinewidth\":0,\"ticks\":\"\"},\"colorscale\":[[0.0,\"#0d0887\"],[0.1111111111111111,\"#46039f\"],[0.2222222222222222,\"#7201a8\"],[0.3333333333333333,\"#9c179e\"],[0.4444444444444444,\"#bd3786\"],[0.5555555555555556,\"#d8576b\"],[0.6666666666666666,\"#ed7953\"],[0.7777777777777778,\"#fb9f3a\"],[0.8888888888888888,\"#fdca26\"],[1.0,\"#f0f921\"]]}],\"heatmapgl\":[{\"type\":\"heatmapgl\",\"colorbar\":{\"outlinewidth\":0,\"ticks\":\"\"},\"colorscale\":[[0.0,\"#0d0887\"],[0.1111111111111111,\"#46039f\"],[0.2222222222222222,\"#7201a8\"],[0.3333333333333333,\"#9c179e\"],[0.4444444444444444,\"#bd3786\"],[0.5555555555555556,\"#d8576b\"],[0.6666666666666666,\"#ed7953\"],[0.7777777777777778,\"#fb9f3a\"],[0.8888888888888888,\"#fdca26\"],[1.0,\"#f0f921\"]]}],\"contourcarpet\":[{\"type\":\"contourcarpet\",\"colorbar\":{\"outlinewidth\":0,\"ticks\":\"\"}}],\"contour\":[{\"type\":\"contour\",\"colorbar\":{\"outlinewidth\":0,\"ticks\":\"\"},\"colorscale\":[[0.0,\"#0d0887\"],[0.1111111111111111,\"#46039f\"],[0.2222222222222222,\"#7201a8\"],[0.3333333333333333,\"#9c179e\"],[0.4444444444444444,\"#bd3786\"],[0.5555555555555556,\"#d8576b\"],[0.6666666666666666,\"#ed7953\"],[0.7777777777777778,\"#fb9f3a\"],[0.8888888888888888,\"#fdca26\"],[1.0,\"#f0f921\"]]}],\"surface\":[{\"type\":\"surface\",\"colorbar\":{\"outlinewidth\":0,\"ticks\":\"\"},\"colorscale\":[[0.0,\"#0d0887\"],[0.1111111111111111,\"#46039f\"],[0.2222222222222222,\"#7201a8\"],[0.3333333333333333,\"#9c179e\"],[0.4444444444444444,\"#bd3786\"],[0.5555555555555556,\"#d8576b\"],[0.6666666666666666,\"#ed7953\"],[0.7777777777777778,\"#fb9f3a\"],[0.8888888888888888,\"#fdca26\"],[1.0,\"#f0f921\"]]}],\"mesh3d\":[{\"type\":\"mesh3d\",\"colorbar\":{\"outlinewidth\":0,\"ticks\":\"\"}}],\"scatter\":[{\"fillpattern\":{\"fillmode\":\"overlay\",\"size\":10,\"solidity\":0.2},\"type\":\"scatter\"}],\"parcoords\":[{\"type\":\"parcoords\",\"line\":{\"colorbar\":{\"outlinewidth\":0,\"ticks\":\"\"}}}],\"scatterpolargl\":[{\"type\":\"scatterpolargl\",\"marker\":{\"colorbar\":{\"outlinewidth\":0,\"ticks\":\"\"}}}],\"bar\":[{\"error_x\":{\"color\":\"#2a3f5f\"},\"error_y\":{\"color\":\"#2a3f5f\"},\"marker\":{\"line\":{\"color\":\"#E5ECF6\",\"width\":0.5},\"pattern\":{\"fillmode\":\"overlay\",\"size\":10,\"solidity\":0.2}},\"type\":\"bar\"}],\"scattergeo\":[{\"type\":\"scattergeo\",\"marker\":{\"colorbar\":{\"outlinewidth\":0,\"ticks\":\"\"}}}],\"scatterpolar\":[{\"type\":\"scatterpolar\",\"marker\":{\"colorbar\":{\"outlinewidth\":0,\"ticks\":\"\"}}}],\"histogram\":[{\"marker\":{\"pattern\":{\"fillmode\":\"overlay\",\"size\":10,\"solidity\":0.2}},\"type\":\"histogram\"}],\"scattergl\":[{\"type\":\"scattergl\",\"marker\":{\"colorbar\":{\"outlinewidth\":0,\"ticks\":\"\"}}}],\"scatter3d\":[{\"type\":\"scatter3d\",\"line\":{\"colorbar\":{\"outlinewidth\":0,\"ticks\":\"\"}},\"marker\":{\"colorbar\":{\"outlinewidth\":0,\"ticks\":\"\"}}}],\"scattermapbox\":[{\"type\":\"scattermapbox\",\"marker\":{\"colorbar\":{\"outlinewidth\":0,\"ticks\":\"\"}}}],\"scatterternary\":[{\"type\":\"scatterternary\",\"marker\":{\"colorbar\":{\"outlinewidth\":0,\"ticks\":\"\"}}}],\"scattercarpet\":[{\"type\":\"scattercarpet\",\"marker\":{\"colorbar\":{\"outlinewidth\":0,\"ticks\":\"\"}}}],\"carpet\":[{\"aaxis\":{\"endlinecolor\":\"#2a3f5f\",\"gridcolor\":\"white\",\"linecolor\":\"white\",\"minorgridcolor\":\"white\",\"startlinecolor\":\"#2a3f5f\"},\"baxis\":{\"endlinecolor\":\"#2a3f5f\",\"gridcolor\":\"white\",\"linecolor\":\"white\",\"minorgridcolor\":\"white\",\"startlinecolor\":\"#2a3f5f\"},\"type\":\"carpet\"}],\"table\":[{\"cells\":{\"fill\":{\"color\":\"#EBF0F8\"},\"line\":{\"color\":\"white\"}},\"header\":{\"fill\":{\"color\":\"#C8D4E3\"},\"line\":{\"color\":\"white\"}},\"type\":\"table\"}],\"barpolar\":[{\"marker\":{\"line\":{\"color\":\"#E5ECF6\",\"width\":0.5},\"pattern\":{\"fillmode\":\"overlay\",\"size\":10,\"solidity\":0.2}},\"type\":\"barpolar\"}],\"pie\":[{\"automargin\":true,\"type\":\"pie\"}]},\"layout\":{\"autotypenumbers\":\"strict\",\"colorway\":[\"#636efa\",\"#EF553B\",\"#00cc96\",\"#ab63fa\",\"#FFA15A\",\"#19d3f3\",\"#FF6692\",\"#B6E880\",\"#FF97FF\",\"#FECB52\"],\"font\":{\"color\":\"#2a3f5f\"},\"hovermode\":\"closest\",\"hoverlabel\":{\"align\":\"left\"},\"paper_bgcolor\":\"white\",\"plot_bgcolor\":\"#E5ECF6\",\"polar\":{\"bgcolor\":\"#E5ECF6\",\"angularaxis\":{\"gridcolor\":\"white\",\"linecolor\":\"white\",\"ticks\":\"\"},\"radialaxis\":{\"gridcolor\":\"white\",\"linecolor\":\"white\",\"ticks\":\"\"}},\"ternary\":{\"bgcolor\":\"#E5ECF6\",\"aaxis\":{\"gridcolor\":\"white\",\"linecolor\":\"white\",\"ticks\":\"\"},\"baxis\":{\"gridcolor\":\"white\",\"linecolor\":\"white\",\"ticks\":\"\"},\"caxis\":{\"gridcolor\":\"white\",\"linecolor\":\"white\",\"ticks\":\"\"}},\"coloraxis\":{\"colorbar\":{\"outlinewidth\":0,\"ticks\":\"\"}},\"colorscale\":{\"sequential\":[[0.0,\"#0d0887\"],[0.1111111111111111,\"#46039f\"],[0.2222222222222222,\"#7201a8\"],[0.3333333333333333,\"#9c179e\"],[0.4444444444444444,\"#bd3786\"],[0.5555555555555556,\"#d8576b\"],[0.6666666666666666,\"#ed7953\"],[0.7777777777777778,\"#fb9f3a\"],[0.8888888888888888,\"#fdca26\"],[1.0,\"#f0f921\"]],\"sequentialminus\":[[0.0,\"#0d0887\"],[0.1111111111111111,\"#46039f\"],[0.2222222222222222,\"#7201a8\"],[0.3333333333333333,\"#9c179e\"],[0.4444444444444444,\"#bd3786\"],[0.5555555555555556,\"#d8576b\"],[0.6666666666666666,\"#ed7953\"],[0.7777777777777778,\"#fb9f3a\"],[0.8888888888888888,\"#fdca26\"],[1.0,\"#f0f921\"]],\"diverging\":[[0,\"#8e0152\"],[0.1,\"#c51b7d\"],[0.2,\"#de77ae\"],[0.3,\"#f1b6da\"],[0.4,\"#fde0ef\"],[0.5,\"#f7f7f7\"],[0.6,\"#e6f5d0\"],[0.7,\"#b8e186\"],[0.8,\"#7fbc41\"],[0.9,\"#4d9221\"],[1,\"#276419\"]]},\"xaxis\":{\"gridcolor\":\"white\",\"linecolor\":\"white\",\"ticks\":\"\",\"title\":{\"standoff\":15},\"zerolinecolor\":\"white\",\"automargin\":true,\"zerolinewidth\":2},\"yaxis\":{\"gridcolor\":\"white\",\"linecolor\":\"white\",\"ticks\":\"\",\"title\":{\"standoff\":15},\"zerolinecolor\":\"white\",\"automargin\":true,\"zerolinewidth\":2},\"scene\":{\"xaxis\":{\"backgroundcolor\":\"#E5ECF6\",\"gridcolor\":\"white\",\"linecolor\":\"white\",\"showbackground\":true,\"ticks\":\"\",\"zerolinecolor\":\"white\",\"gridwidth\":2},\"yaxis\":{\"backgroundcolor\":\"#E5ECF6\",\"gridcolor\":\"white\",\"linecolor\":\"white\",\"showbackground\":true,\"ticks\":\"\",\"zerolinecolor\":\"white\",\"gridwidth\":2},\"zaxis\":{\"backgroundcolor\":\"#E5ECF6\",\"gridcolor\":\"white\",\"linecolor\":\"white\",\"showbackground\":true,\"ticks\":\"\",\"zerolinecolor\":\"white\",\"gridwidth\":2}},\"shapedefaults\":{\"line\":{\"color\":\"#2a3f5f\"}},\"annotationdefaults\":{\"arrowcolor\":\"#2a3f5f\",\"arrowhead\":0,\"arrowwidth\":1},\"geo\":{\"bgcolor\":\"white\",\"landcolor\":\"#E5ECF6\",\"subunitcolor\":\"white\",\"showland\":true,\"showlakes\":true,\"lakecolor\":\"white\"},\"title\":{\"x\":0.05},\"mapbox\":{\"style\":\"light\"}}},\"title\":{\"text\":\"Grafica de Balanced Acc por epoca\"},\"xaxis\":{\"title\":{\"text\":\"EPOCAS\"}},\"yaxis\":{\"title\":{\"text\":\"BAL_ACC\"}}},                        {\"responsive\": true}                    ).then(function(){\n",
       "                            \n",
       "var gd = document.getElementById('482d9f47-65f5-45d9-9fbd-34c21427a851');\n",
       "var x = new MutationObserver(function (mutations, observer) {{\n",
       "        var display = window.getComputedStyle(gd).display;\n",
       "        if (!display || display === 'none') {{\n",
       "            console.log([gd, 'removed!']);\n",
       "            Plotly.purge(gd);\n",
       "            observer.disconnect();\n",
       "        }}\n",
       "}});\n",
       "\n",
       "// Listen for the removal of the full notebook cells\n",
       "var notebookContainer = gd.closest('#notebook-container');\n",
       "if (notebookContainer) {{\n",
       "    x.observe(notebookContainer, {childList: true});\n",
       "}}\n",
       "\n",
       "// Listen for the clearing of the current output cell\n",
       "var outputEl = gd.closest('.output');\n",
       "if (outputEl) {{\n",
       "    x.observe(outputEl, {childList: true});\n",
       "}}\n",
       "\n",
       "                        })                };                });            </script>        </div>"
      ]
     },
     "metadata": {},
     "output_type": "display_data"
    }
   ],
   "source": [
    "analizarProject(path_base, '20241126_091203')"
   ]
  },
  {
   "cell_type": "code",
   "execution_count": null,
   "id": "64d63c3f-b431-4774-bddf-5e6c547b770d",
   "metadata": {},
   "outputs": [],
   "source": []
  },
  {
   "cell_type": "code",
   "execution_count": 18,
   "id": "e45d4e9f-2c8f-4ae9-bfc5-645a935f21cf",
   "metadata": {},
   "outputs": [
    {
     "ename": "Exception",
     "evalue": "Hola",
     "output_type": "error",
     "traceback": [
      "\u001b[1;31m---------------------------------------------------------------------------\u001b[0m",
      "\u001b[1;31mException\u001b[0m                                 Traceback (most recent call last)",
      "Input \u001b[1;32mIn [18]\u001b[0m, in \u001b[0;36m<cell line: 1>\u001b[1;34m()\u001b[0m\n\u001b[1;32m----> 1\u001b[0m \u001b[38;5;28;01mraise\u001b[39;00m \u001b[38;5;167;01mException\u001b[39;00m(\u001b[38;5;124m'\u001b[39m\u001b[38;5;124mHola\u001b[39m\u001b[38;5;124m'\u001b[39m)\n",
      "\u001b[1;31mException\u001b[0m: Hola"
     ]
    }
   ],
   "source": [
    "raise Exception('Hola')"
   ]
  },
  {
   "cell_type": "code",
   "execution_count": 19,
   "id": "5f798a4a-c7b6-48c7-b0f7-e6d43e112018",
   "metadata": {},
   "outputs": [
    {
     "data": {
      "text/plain": [
       "{'idTest': {1451: '20241027_124016'},\n",
       " 'epoca': {1451: 161},\n",
       " 'TNR': {1451: 0.9111111111111111},\n",
       " 'TPR': {1451: 0.6632423756019261},\n",
       " 'acc_bal': {1451: 0.7871767433565187},\n",
       " 'train_TNR': {1451: 0.9200721153846154},\n",
       " 'train_TPR': {1451: 0.6881009615384616},\n",
       " 'train_acc_bal': {1451: 0.8040865384615385},\n",
       " 'FDR_FOR': {1451: 0.48215884412533794},\n",
       " 'P-inputs': {1451: \"['imagen', '_dato', '_umb1', '_altura']\"},\n",
       " 'P-lr': {1451: 0.001},\n",
       " 'P-batchNorm': {1451: True},\n",
       " 'P-cnn_cant': {1451: 6},\n",
       " 'P-cnn_units': {1451: '[16, 32, 64, 32, 16, 8]'},\n",
       " 'P-droupout': {1451: '[0.1, 0.3, 0.2, 0.2, 0.1, 0.1]'},\n",
       " 'P-maxPool': {1451: '[False, False, False, False, False, False]'},\n",
       " 'P-rnn_tipo': {1451: 'CONV3D'},\n",
       " 'P-dense_cant': {1451: 4},\n",
       " 'P-dense_units': {1451: '[64, 32, 16, 8]'},\n",
       " 'P-tiempos': {1451: 6},\n",
       " 'P-margen': {1451: 12},\n",
       " 'P-dense_droupout': {1451: '[0.3, 0.2, 0.1, 0]'},\n",
       " 'P-optimizer': {1451: 'Adam'},\n",
       " 'P-lr_schedule': {1451: 0.0},\n",
       " 'P-kernel_regularizer': {1451: '[0, 0, 0, 0]'},\n",
       " 'P-lr_decay': {1451: 0.94}}"
      ]
     },
     "execution_count": 19,
     "metadata": {},
     "output_type": "execute_result"
    }
   ],
   "source": [
    "bestResults[bestResults['idTest'] == '20241027_124016'].head(1).to_dict()"
   ]
  },
  {
   "cell_type": "code",
   "execution_count": null,
   "id": "41728775-390e-4af8-bc71-c44b836eceb6",
   "metadata": {
    "tags": []
   },
   "outputs": [],
   "source": [
    "a = [\n",
    " 'P-extra_inputs' , #'P-inputs',\n",
    " 'P-lr',\n",
    " ##'P-normLayer', \n",
    " ##'P-pre_trained', \n",
    " 'P-cnn_units', \n",
    " #'P-cnn_cant', \n",
    " 'P-rnn_units', # -\n",
    " #'P-dense_cant',\n",
    " 'P-dense_units',\n",
    " 'P-time_frames', #'P-tiempos',\n",
    " 'P-size_-window (px)', #'P-margen',\n",
    " ##'acc_bal'\n",
    "]"
   ]
  },
  {
   "cell_type": "code",
   "execution_count": null,
   "id": "547a32e8-7c79-4ee6-b317-b772cc55cf9e",
   "metadata": {},
   "outputs": [],
   "source": [
    "bestResults['P-inputs'].unique()"
   ]
  },
  {
   "cell_type": "code",
   "execution_count": null,
   "id": "8588a0d1-b5d7-461c-aba8-e14f5f99ab6e",
   "metadata": {},
   "outputs": [],
   "source": [
    "bestResults.rename(columns={'P-tiempos': 'P-time_frames'}, inplace=True)\n",
    "bestResults.rename(columns={'P-tiempos': 'P-time_frames'}, inplace=True)\n",
    "bestResults.rename(columns={'P-margen': 'P-size_-window (px)'}, inplace=True)\n",
    "bestResults.rename(columns={'P-inputs': 'P-extra_inputs'}, inplace=True)\n",
    "valores_a_reemplazar = {\"['imagen', 'dato', 'umb1', 'altura']\" : \"['stat90', 'altitude']\" , \n",
    "                        \"['imagen', 'dato', 'altura']\" : \"['altitude']\" ,\n",
    "                        \"['imagen', 'dato', 'umb1']\" : \"['stat90']\",\n",
    "                       }\n",
    "bestResults['P-extra_inputs'] = bestResults['P-extra_inputs'].replace(valores_a_reemplazar)"
   ]
  },
  {
   "cell_type": "code",
   "execution_count": null,
   "id": "48774d0e-ac59-45f2-ace8-a15802d62cb2",
   "metadata": {},
   "outputs": [],
   "source": [
    "def plotly_parallel_coordinates(df, cols=[], color='acc_bal'):\n",
    "    if not cols:\n",
    "        cols =  [x for x in df.columns if ('__' in x) and (x != 'acc_bal')]\n",
    "    \n",
    "    data = []\n",
    "    for col in cols:\n",
    "        try:\n",
    "            df[f'__{col}'] = df[col].astype(float)\n",
    "            \n",
    "            text_values = list(df[f'__{col}'].unique())\n",
    "            original_values = list(df[f'{col}'].unique())\n",
    "        except ValueError:\n",
    "            uniques_values = list(df[col].unique())\n",
    "            df[f'__{col}'] = df[col].apply(lambda x : uniques_values.index(x))    \n",
    "            \n",
    "            text_values = [x for x in range(len(uniques_values))]\n",
    "            original_values = list(df[f'{col}'].unique())\n",
    "            \n",
    "        dict_values = {\n",
    "            'label' : col,\n",
    "            'range' : [df[f'__{col}'].min(), df[f'__{col}'].max()],\n",
    "            'values' : df[f'__{col}'],     \n",
    "            \n",
    "            'tickvals' : text_values, #[1,2,4,5],\n",
    "            'ticktext' : original_values, #['text 1', 'text 2', 'text 3', 'text 4']\n",
    "            \n",
    "        }\n",
    "        data.append(dict_values)\n",
    "        \n",
    "    fig = go.Figure(data=\n",
    "        go.Parcoords(            \n",
    "            line = dict(color = df[color],\n",
    "                   #colorscale = 'Electric',\n",
    "                   showscale = True,\n",
    "                   cmin = df[color].min(),\n",
    "                   cmax = df[color].max()),\n",
    "            dimensions = data)\n",
    "    )\n",
    "    \n",
    "    \n",
    "   \n",
    "    fig.update_layout(\n",
    "        width=100,\n",
    "        font=dict(size=20),  # Tamaño general de la fuente\n",
    "        #title=dict(text='Gráfico de Coordenadas Paralelas', font=dict(size=20)),  # Tamaño del título\n",
    "        margin=dict(l=60, r=10, t=40, b=10)  # Ajustar márgenes\n",
    "    )\n",
    "    \n",
    "    fig.show()\n",
    "plotly_parallel_coordinates(bestResults, cols=a, color='acc_bal')"
   ]
  },
  {
   "cell_type": "code",
   "execution_count": null,
   "id": "f06966de-4f94-4002-b5a6-b5e20e0781df",
   "metadata": {},
   "outputs": [],
   "source": [
    "len(bestResults['idTest'].unique())"
   ]
  },
  {
   "cell_type": "code",
   "execution_count": null,
   "id": "01ea460f-9946-4e23-b869-fe5850fcca16",
   "metadata": {},
   "outputs": [],
   "source": [
    "plotly_parallel_coordinates(bestResults, cols=a, color='acc_bal')"
   ]
  },
  {
   "cell_type": "code",
   "execution_count": null,
   "id": "914c611c-18df-4ba6-ac1f-1ac1f83ed007",
   "metadata": {},
   "outputs": [],
   "source": [
    "bestResults['idTest'].nunique()"
   ]
  },
  {
   "cell_type": "code",
   "execution_count": null,
   "id": "2dcfef20-fbfc-4723-8a70-eb01e7cdc114",
   "metadata": {},
   "outputs": [],
   "source": [
    "bestResults"
   ]
  },
  {
   "cell_type": "code",
   "execution_count": null,
   "id": "4bbf3d06-9ef9-4812-83fd-23c86cd649b9",
   "metadata": {},
   "outputs": [],
   "source": [
    "#cols = [x for x in _data.columns if ('__' in x) and (x != '__acc_bal')]\n",
    "#fig = px.parallel_coordinates(_data, color=\"__acc_bal\",\n",
    "#                              dimensions=cols)\n",
    "#fig.show()"
   ]
  },
  {
   "cell_type": "code",
   "execution_count": null,
   "id": "0765067c",
   "metadata": {},
   "outputs": [],
   "source": [
    "bestResults[bestResults['idTest']=='20240326_224209'].to_dict()"
   ]
  },
  {
   "cell_type": "code",
   "execution_count": null,
   "id": "42ddf1a1",
   "metadata": {},
   "outputs": [],
   "source": [
    "import pickle"
   ]
  },
  {
   "cell_type": "code",
   "execution_count": null,
   "id": "13136ae8",
   "metadata": {},
   "outputs": [],
   "source": [
    "df = pd.read_csv(f'{path_base}/Archivos/Reportes/Entrenamiento/Clasificacion/Reporte-TOTAL.csv')  \n",
    "df.columns"
   ]
  },
  {
   "cell_type": "code",
   "execution_count": null,
   "id": "50272f06",
   "metadata": {},
   "outputs": [],
   "source": [
    "df[df['idTest']=='20230709_112005'][['loss', 'acc', 'TP', 'TN', 'FP', 'FN', 'val_loss',\n",
    "       'val_acc', 'val_TP', 'val_TN', 'val_FP', 'val_FN', 'epoca', 'idTest',\n",
    "       'idProject', 'directory', 'P-dsTName']].tail(1)"
   ]
  },
  {
   "cell_type": "code",
   "execution_count": null,
   "id": "d9c8d460-04bb-48b0-8fc4-41453cf1e106",
   "metadata": {},
   "outputs": [],
   "source": [
    "df[df['idTest']=='20230710_224918'][['loss', 'acc', 'TP', 'TN', 'FP', 'FN', 'val_loss',\n",
    "       'val_acc', 'val_TP', 'val_TN', 'val_FP', 'val_FN', 'epoca', 'idTest',\n",
    "       'idProject', 'directory', 'P-dsTName']].tail(1)"
   ]
  },
  {
   "cell_type": "code",
   "execution_count": null,
   "id": "135f183c",
   "metadata": {},
   "outputs": [],
   "source": [
    "\"\"\"\n",
    "Analizamos un proyecto de clasifiacion a mas detalle\n",
    "\"\"\""
   ]
  },
  {
   "cell_type": "code",
   "execution_count": null,
   "id": "b11a2d7e",
   "metadata": {},
   "outputs": [],
   "source": [
    "analizarProject(path_base, '20240924_235431')"
   ]
  },
  {
   "cell_type": "code",
   "execution_count": null,
   "id": "ab5893e3",
   "metadata": {},
   "outputs": [],
   "source": [
    "data = bestResults.copy()\n",
    "data.loc[data['P-inputs'] == \"['imagen', 'umb1', 'dato', 'altura']\", 'P-inputs'] = \"['imagen', 'dato', 'umb1', 'altura']\"\n",
    "data['P-inputs'] = data['P-inputs'].str.replace(\"'imagen', 'dato'\",\"+\")\n",
    "#data = data.drop(['P-droupout','P-maxPool','P-cnn_units','P-cnn_cant'], axis=1)\n",
    "\n",
    "col = [e for e in data.columns if 'P-' in e]\n",
    "col.append('acc_bal')\n",
    "_data = data[col]\n",
    "\n",
    "def groupAcc(x):\n",
    "    if x < 0.6:\n",
    "        return 0\n",
    "    elif x < 0.7:\n",
    "        return 1\n",
    "    else:\n",
    "        return 2\n",
    "\n",
    "    \n",
    "_data['Acc'] = _data['acc_bal'].apply(lambda x : groupAcc(x))"
   ]
  },
  {
   "cell_type": "code",
   "execution_count": null,
   "id": "f869d330-7aba-40f9-a605-047be4d120e7",
   "metadata": {},
   "outputs": [],
   "source": [
    "_data['acc_bal'].max()"
   ]
  },
  {
   "cell_type": "code",
   "execution_count": null,
   "id": "524556d9-eefa-42a1-8df8-113bd94b2351",
   "metadata": {},
   "outputs": [],
   "source": [
    "a = [\n",
    "#'P-inputs',\n",
    " 'P-lr',\n",
    " 'P-normLayer',\n",
    " 'P-cnn_units',\n",
    " #'P-droupout',\n",
    " #'P-maxPool',\n",
    " #'P-rnn_tipo',\n",
    " #'P-rnn_units',\n",
    " #'P-dense_cant',\n",
    " #'P-dense_units',\n",
    " 'P-tiempos',\n",
    " 'P-margen',\n",
    "# 'acc_bal'\n",
    "]\n",
    "#col[:-1]"
   ]
  },
  {
   "cell_type": "code",
   "execution_count": null,
   "id": "efbdc801-b6bf-40cd-91ba-e15d9bf3b217",
   "metadata": {},
   "outputs": [],
   "source": [
    "fig = px.parallel_categories(_data, color='Acc', dimensions=col[:-1],  color_continuous_scale=px.colors.diverging.Fall)\n",
    "fig.show()"
   ]
  },
  {
   "cell_type": "code",
   "execution_count": null,
   "id": "3294f357",
   "metadata": {},
   "outputs": [],
   "source": [
    "fig = px.parallel_categories(_data, color='Acc', dimensions=a,  color_continuous_scale=px.colors.diverging.Fall)\n",
    "fig.show()"
   ]
  },
  {
   "cell_type": "code",
   "execution_count": null,
   "id": "6f2367f8",
   "metadata": {},
   "outputs": [],
   "source": [
    "\n",
    "\n",
    "cars_df = data#pd.read_csv('https://raw.githubusercontent.com/plotly/datasets/master/imports-85.csv')\n",
    "\n",
    "col = [e for e in data.columns if 'P-' in e]\n",
    "\n",
    "# Build parcats dimensions\n",
    "categorical_dimensions = col\n",
    "\n",
    "dimensions = [dict(values=cars_df[label], label=label) for label in categorical_dimensions]\n",
    "\n",
    "# Build colorscale\n",
    "color = np.zeros(len(cars_df), dtype='uint8')\n",
    "colorscale = [[0, 'gray'], [0.33, 'gray'],\n",
    "              [0.33, 'firebrick'], [0.66, 'firebrick'],\n",
    "              [0.66, 'blue'], [1.0, 'blue']]\n",
    "cmin = -0.5\n",
    "cmax = 2.5\n",
    "\n",
    "# Build figure as FigureWidget\n",
    "fig = go.FigureWidget(\n",
    "    data=[go.Scatter(x=cars_df['TNR'], y=cars_df['TPR'],\n",
    "                marker={'color': color, 'cmin': cmin, 'cmax': cmax,\n",
    "                        'colorscale': colorscale, 'showscale': True,\n",
    "                        'colorbar': {'tickvals': [0, 1, 2], 'ticktext': ['None', 'Red', 'Blue']}},\n",
    "                     mode='markers'),\n",
    "\n",
    "          go.Parcats(domain={'y': [0.3, 0.5]}, dimensions=dimensions,\n",
    "                   line={'colorscale': colorscale, 'cmin': cmin,\n",
    "                         'cmax': cmax, 'color': color, 'shape': 'hspline'}),\n",
    "         go.Table(domain={'y': [0, 0.28]}, header=dict(values=data.columns),\n",
    "                 cells=dict(values=[[0]]*len(data.columns), format = [\".2f\"])\n",
    "                 )],\n",
    "    layout = {\n",
    "        'shapes': [\n",
    "            # Line Horizontal\n",
    "            {\n",
    "                'type': 'line','x0': 0,'y0': 0.5,'x1': 1,'y1': 0.5,'line': {'color': 'rgb(50, 171, 96)','width': 1},\n",
    "            },\n",
    "            {\n",
    "                'type': 'line','x0': 0.5,'y0': 0,'x1': 0.5 ,'y1': 1,'line': {'color': 'rgb(50, 171, 96)','width': 1},\n",
    "            },\n",
    "            {\n",
    "                'type': 'line','x0': 0,'y0': 0,'x1': 1 ,'y1': 1,'line': {'color': 'rgb(50, 171, 96)','width': 1},\n",
    "            }\n",
    "        ],\n",
    "    'showlegend': False\n",
    "}\n",
    "    \n",
    ")\n",
    "\n",
    "fig.update_layout(title={'text':'TNP VS TNR DE ESTADISTICAS DE VALIDACION'},height=1000, xaxis={'title': 'TNR', 'domain': [0.1,0.9]},\n",
    "                  yaxis={'title': 'TPR', 'domain': [0.6, 1]},\n",
    "                  dragmode='lasso', hovermode='closest', yaxis_range=[0,1], xaxis_range=[0,1])\n",
    "\n",
    "# Build color selection widget\n",
    "color_toggle = widgets.ToggleButtons(\n",
    "    options=['None', 'Red', 'Blue'],\n",
    "    index=1, description='Brush Color:', disabled=False)\n",
    "\n",
    "# Update color callback\n",
    "def update_color(trace, points, state):\n",
    "    # Compute new color array\n",
    "    new_color = np.array(fig.data[0].marker.color)\n",
    "    new_color[points.point_inds] = color_toggle.index\n",
    "    #print(points)\n",
    "    with fig.batch_update():\n",
    "        # Update scatter color\n",
    "        fig.data[0].marker.color = new_color\n",
    "\n",
    "        # Update parcats colors\n",
    "        fig.data[1].line.color = new_color\n",
    "        \n",
    "        # Update table\n",
    "        tx = data.iloc[points.point_inds]\n",
    "        fig.data[2].cells =  dict(values= tx.T, format= [\"\",\"\",\".2f\",\".2f\",\".2f\",\".2f\",\".2f\",\".2f\",\"\"])\n",
    "\n",
    "# Register callback on scatter selection...\n",
    "fig.data[0].on_selection(update_color)\n",
    "# and parcats click\n",
    "fig.data[1].on_click(update_color)\n",
    "\n",
    "# Display figure\n",
    "widgets.VBox([color_toggle, fig])\n"
   ]
  },
  {
   "cell_type": "code",
   "execution_count": null,
   "id": "031c43c2-7aef-441f-b2f5-467966ddb5d2",
   "metadata": {},
   "outputs": [],
   "source": []
  },
  {
   "cell_type": "code",
   "execution_count": null,
   "id": "9c4564b7-0dfe-42fc-ad3f-d197cc896997",
   "metadata": {},
   "outputs": [],
   "source": []
  }
 ],
 "metadata": {
  "kernelspec": {
   "display_name": "Python 3 (ipykernel)",
   "language": "python",
   "name": "python3"
  },
  "language_info": {
   "codemirror_mode": {
    "name": "ipython",
    "version": 3
   },
   "file_extension": ".py",
   "mimetype": "text/x-python",
   "name": "python",
   "nbconvert_exporter": "python",
   "pygments_lexer": "ipython3",
   "version": "3.9.11"
  }
 },
 "nbformat": 4,
 "nbformat_minor": 5
}
