{
 "cells": [
  {
   "cell_type": "code",
   "execution_count": 2,
   "id": "e08ba36e",
   "metadata": {},
   "outputs": [
    {
     "data": {
      "text/html": [
       "<div>\n",
       "<style scoped>\n",
       "    .dataframe tbody tr th:only-of-type {\n",
       "        vertical-align: middle;\n",
       "    }\n",
       "\n",
       "    .dataframe tbody tr th {\n",
       "        vertical-align: top;\n",
       "    }\n",
       "\n",
       "    .dataframe thead th {\n",
       "        text-align: right;\n",
       "    }\n",
       "</style>\n",
       "<table border=\"1\" class=\"dataframe\">\n",
       "  <thead>\n",
       "    <tr style=\"text-align: right;\">\n",
       "      <th></th>\n",
       "      <th>lat</th>\n",
       "      <th>lon</th>\n",
       "    </tr>\n",
       "  </thead>\n",
       "  <tbody>\n",
       "    <tr>\n",
       "      <th>0</th>\n",
       "      <td>48.6330</td>\n",
       "      <td>-93.9667</td>\n",
       "    </tr>\n",
       "    <tr>\n",
       "      <th>1</th>\n",
       "      <td>48.7330</td>\n",
       "      <td>-94.6167</td>\n",
       "    </tr>\n",
       "    <tr>\n",
       "      <th>2</th>\n",
       "      <td>45.1947</td>\n",
       "      <td>-93.3257</td>\n",
       "    </tr>\n",
       "    <tr>\n",
       "      <th>3</th>\n",
       "      <td>45.1962</td>\n",
       "      <td>-93.2755</td>\n",
       "    </tr>\n",
       "  </tbody>\n",
       "</table>\n",
       "</div>"
      ],
      "text/plain": [
       "       lat      lon\n",
       "0  48.6330 -93.9667\n",
       "1  48.7330 -94.6167\n",
       "2  45.1947 -93.3257\n",
       "3  45.1962 -93.2755"
      ]
     },
     "execution_count": 2,
     "metadata": {},
     "output_type": "execute_result"
    }
   ],
   "source": [
    "import requests\n",
    "import urllib\n",
    "import pandas as pd\n",
    "import traceback\n",
    "# USGS Elevation Point Query Service\n",
    "url = r'https://nationalmap.gov/epqs/pqs.php?'\n",
    "\n",
    "# coordinates with known elevation \n",
    "lat = [48.633, 48.733, 45.1947, 45.1962]\n",
    "lon = [-93.9667, -94.6167, -93.3257, -93.2755]\n",
    "\n",
    "# create data frame\n",
    "df = pd.DataFrame({\n",
    "    'lat': lat,\n",
    "    'lon': lon\n",
    "})\n",
    "\n",
    "def elevation_function(df, lat_column, lon_column):\n",
    "    \"\"\"Query service using lat, lon. add the elevation values as a new column.\"\"\"\n",
    "    elevations = []\n",
    "    for lat, lon in zip(df[lat_column], df[lon_column]):\n",
    "\n",
    "        # define rest query params\n",
    "        params = {\n",
    "            'output': 'json',\n",
    "            'x': lon,\n",
    "            'y': lat,\n",
    "            'units': 'Meters'\n",
    "        }\n",
    "\n",
    "        # format query string and return query value\n",
    "        result = requests.get((url + urllib.parse.urlencode(params)))\n",
    "        elevations.append(result.json()['USGS_Elevation_Point_Query_Service']['Elevation_Query']['Elevation'])\n",
    "\n",
    "    df['elev_meters'] = elevations\n",
    "\n",
    "#elevation_function(df, 'lat', 'lon')\n",
    "df.head()"
   ]
  },
  {
   "cell_type": "code",
   "execution_count": 3,
   "id": "239d4f69",
   "metadata": {},
   "outputs": [],
   "source": [
    " # define rest query params\n",
    "params = {\n",
    "    'output': 'json',\n",
    "    'x': -93.9667,\n",
    "    'y': 48.633,\n",
    "    'units': 'Meters'\n",
    "}\n",
    "\n",
    "# format query string and return query value\n",
    "#result = requests.get((url + urllib.parse.urlencode(params)))\n",
    "#result.json()['USGS_Elevation_Point_Query_Service']['Elevation_Query']['Elevation']"
   ]
  },
  {
   "cell_type": "code",
   "execution_count": 4,
   "id": "3b9e2ba2",
   "metadata": {},
   "outputs": [],
   "source": [
    "\"\"\"\n",
    "OBJETIVO: Centralizar los resultados, generar metricas adecuadas a cada modelo para luego poder compararlos.\n",
    "          De esta forma obtener el modelo mas adecuado para el proyecto.\n",
    "\"\"\"\n",
    "Autor='Diego Paredes'"
   ]
  },
  {
   "cell_type": "code",
   "execution_count": 5,
   "id": "84fad3f8",
   "metadata": {},
   "outputs": [],
   "source": [
    "\"\"\"\n",
    "from netCDF4 import Dataset, num2date\n",
    "import cartopy.crs as ccrs\n",
    "import cartopy.feature as cf\n",
    "\"\"\"\n",
    "\n",
    "from sklearn.metrics import ConfusionMatrixDisplay\n",
    "#from sklearn.utils import shuffle\n",
    "#from sklearn.model_selection import train_test_split\n",
    "\n",
    "import matplotlib.pyplot as plt\n",
    "import pandas as pd\n",
    "import seaborn as sns\n",
    "import hiplot as hip\n",
    "import plotly.express as px\n",
    "import plotly.graph_objects as go\n",
    "import ipywidgets as widgets\n",
    "\n",
    "\n",
    "#import re\n",
    "import numpy as np\n",
    "import glob\n",
    "import time\n",
    "import os"
   ]
  },
  {
   "cell_type": "code",
   "execution_count": 6,
   "id": "9d7159b2",
   "metadata": {},
   "outputs": [
    {
     "data": {
      "text/plain": [
       "'C:/Users/Shounen/Desktop/Ciclo XI/Tesis 2/FinalTesis/Tesis2-DiegoParedes'"
      ]
     },
     "execution_count": 6,
     "metadata": {},
     "output_type": "execute_result"
    }
   ],
   "source": [
    "\"\"\"\n",
    "DEFINIMOS EL PATH DEL PROYECTO \n",
    "\"\"\"\n",
    "with open('../../path_base.txt') as f:\n",
    "    path_base = f.read()\n",
    "path_base"
   ]
  },
  {
   "cell_type": "code",
   "execution_count": 7,
   "id": "783dd693",
   "metadata": {},
   "outputs": [],
   "source": [
    "def crearDir(path, newDir):\n",
    "    try:\n",
    "        pathT = os.path.join(path, newDir)\n",
    "        os.mkdir(pathT)\n",
    "        return pathT\n",
    "    except FileExistsError:\n",
    "        return pathT\n",
    "        pass\n",
    "    except:\n",
    "        print(f\"No se pudo crear el directorio: {newDir}\")\n",
    "        pritn(f'Path base: {path}')\n",
    "        pritn(f'Nuevo    : {newDir}')        \n",
    "        return None"
   ]
  },
  {
   "cell_type": "code",
   "execution_count": 8,
   "id": "bd651d91",
   "metadata": {},
   "outputs": [],
   "source": [
    "def analizarProject(path_base,project ,df= None):\n",
    "    if not df:\n",
    "        df = pd.read_csv(f'{path_base}/Archivos/Reportes/Entrenamiento/Clasificacion/Reporte-TOTAL.csv')    \n",
    "    df = df[df['idTest']==project] \n",
    "    \n",
    "    \"\"\" GRAFICA DE LOSS \"\"\"\n",
    "    fig = go.Figure()    \n",
    "    fig.add_trace( go.Scatter(mode='lines',x=df[\"epoca\"], y=df[\"loss\"], name='Train')) \n",
    "    fig.add_trace( go.Scatter(mode='lines',x=df[\"epoca\"], y=df[\"val_loss\"], name='Valid')) \n",
    "    fig.update_layout(title={'text':'Grafica de Loss por epoca'}, xaxis={'title': 'EPOCAS'},\n",
    "                      yaxis={'title': 'LOSS'})\n",
    "    fig.show()       \n",
    "    \n",
    "    \"\"\" GRAFICA DE ACC BAL \"\"\"       \n",
    "\n",
    "    fig = go.Figure()    \n",
    "    fig.add_trace( go.Scatter(mode='lines',x=df[\"epoca\"], y=df[\"train_acc_bal\"], name='Train')) \n",
    "    fig.add_trace( go.Scatter(mode='lines',x=df[\"epoca\"], y=df[\"acc_bal\"], name='Valid')) \n",
    "    fig.update_layout(title={'text':'Grafica de Balanced Acc por epoca'}, xaxis={'title': 'EPOCAS'},\n",
    "                      yaxis={'title': 'BAL_ACC'})\n",
    "    fig.show() \n",
    "  \n",
    "    return None            "
   ]
  },
  {
   "cell_type": "code",
   "execution_count": 9,
   "id": "b01f468e",
   "metadata": {},
   "outputs": [],
   "source": [
    "def graficaClasificacion(df, limites=[[0,1],[0,1]], name='V1' ,cuadrantes = True, legenda =True, train=False, legendName=[True,'idTest'], cant=0):\n",
    "    \n",
    "    \"\"\" GRAFICA DE DISPERSION \"\"\" \n",
    "    if not cant:\n",
    "        cant = len(df)\n",
    "    for j in df[:cant].index: \n",
    "        if train:\n",
    "            x = df['train_TNR'][j]\n",
    "            y = df['train_TPR'][j]  \n",
    "        else:\n",
    "            x = df['TNR'][j]\n",
    "            y = df['TPR'][j]\n",
    "        plt.plot(x,y , marker='o',label = f\"{df[legendName[1]][j]}\")              \n",
    "    \n",
    "    if legendName[0]:\n",
    "        plt.legend(loc=(1.1,-0.1), title= 'Label')\n",
    "\n",
    "    \"\"\" CUADRANTES Y LIMITES \"\"\"\n",
    "    x = np.linspace(0, 1, 100)\n",
    "    plt.plot(x, x + 0, '--r')  \n",
    "    if cuadrantes:\n",
    "        plt.plot(x, [0.5]*100, '--k')  \n",
    "        plt.plot([0.5]*100, x, '--k') \n",
    "    \n",
    "    plt.xlim(limites[0][0],limites[0][1])\n",
    "    plt.ylim(limites[1][0],limites[1][1])\n",
    "    \n",
    "    \"\"\" LEGENDA \"\"\"\n",
    "    if train:\n",
    "        plt.title(f'Scatter TPR vs TNR (Train Data)')\n",
    "    else:\n",
    "        plt.title('Grafica de TPR vs TNR (Validacion)') #(f'Scatter TPR vs TNR (Validation Data)')\n",
    "    plt.ylabel('TPR (C02)')\n",
    "    plt.xlabel('TNR (M02)')\n",
    "    plt.grid(linestyle='--')\n",
    "\n",
    "    #plt.savefig(f'{path_base}/Archivos/Reportes/Plots/ClasificacionModeloComparacion.png')\n",
    "\n",
    "    plt.show()"
   ]
  },
  {
   "cell_type": "code",
   "execution_count": 10,
   "id": "bf34d360",
   "metadata": {},
   "outputs": [],
   "source": [
    "import re"
   ]
  },
  {
   "cell_type": "code",
   "execution_count": 11,
   "id": "0387f861",
   "metadata": {},
   "outputs": [],
   "source": [
    "# Reune los resultados de los diferentes archivos (Requiere tipo de modelo en params)\n",
    "def summaryResultsFile(path_base, params):\n",
    "    resultados = {}\n",
    "    \n",
    "    \"\"\" OBTENEMOS LOS ARCHIVOS DE RESULTADOS \"\"\"\n",
    "    model = params['model']\n",
    "    modelPath = f'{params[\"resultDir\"]}/'   \n",
    "    os.chdir(modelPath)\n",
    "    listFiles = list(glob.glob('**/**/*.xlsx'))\n",
    "    #listFiles= listFiles[:-3]\n",
    "\n",
    "    results = pd.DataFrame()\n",
    "    projects = pd.DataFrame()\n",
    "    \n",
    "    \"\"\" RECORREMOS LOS ARCHIVOS EXCEL DE RESULTADOS \"\"\"\n",
    "    for file in listFiles:        \n",
    "        \"\"\" VARIABLES GENERALES \"\"\"\n",
    "        try:\n",
    "            dfGeneral = pd.read_excel(file, sheet_name='Informacion', nrows=1, keep_default_na=False)\n",
    "        except Exception:\n",
    "            print(file)\n",
    "            print(traceback.format_exc())           \n",
    "            return\n",
    "        idProject = file.split('-')[-1].split('.')[0]\n",
    "        dfGeneral['idProject']=idProject        \n",
    "        projects = pd.concat([projects,dfGeneral],axis=0,ignore_index=True)\n",
    "        \n",
    "        \n",
    "        dfHP = pd.read_excel(file, sheet_name='Informacion', skiprows=3)               \n",
    "        dfTestParams = pd.read_excel(file, sheet_name='Informacion', nrows=3) \n",
    "        excelTemp = pd.read_excel(file,sheet_name=None)\n",
    "        \n",
    "        \"\"\" RECORREMOS LAS HOJAS DE CADA EXCEL \"\"\"\n",
    "        for k,v in excelTemp.items():\n",
    "            if k != 'Informacion':\n",
    "                # Numero Y ID de la prueba\n",
    "                numT, idTest = k.split('-')\n",
    "                dfTemp = excelTemp[k]\n",
    "                # Hiperparametros de la prueba\n",
    "                dfTemp['epoca'] = dfTemp['Unnamed: 0']\n",
    "                dfTemp['idTest'] = idTest\n",
    "                dfTemp['idProject'] = idProject\n",
    "                dfTemp['directory'] = dfTestParams['directory']\n",
    "                \n",
    "                for iC in dfHP.columns[1:]:\n",
    "                    dfTemp[f'P-{iC}'] = dfHP.loc[[int(numT)]][iC].iloc[0]\n",
    "                    \n",
    "                \n",
    "                # Datos dependiente del modelo\n",
    "                if model == 'Clasificacion':    \n",
    "                    dfTemp.columns = [re.sub('[0-9]','',x) for x in dfTemp.columns]\n",
    "              \n",
    "                    dfTemp['TNR'] = dfTemp['val_TN'] / (dfTemp['val_TN']+dfTemp['val_FP']) # Recall de la clase 0 (M02)\n",
    "                    dfTemp['TPR'] =    dfTemp['val_TP'] / (dfTemp['val_TP']+dfTemp['val_FN'])  # Recall de la clase 1 (C02)\n",
    "                    \n",
    "                    dfTemp['FDR'] = dfTemp['val_FP'] / (dfTemp['val_FP']+dfTemp['val_TP']) # False discovery rate\n",
    "                    dfTemp['FOR'] = dfTemp['val_FN'] / (dfTemp['val_FN']+dfTemp['val_TN']) # False discovery rate\n",
    "                    dfTemp['FDR_FOR'] =  (dfTemp['FDR'] + dfTemp['FOR']) / 2 \n",
    "                    \n",
    "                    dfTemp['acc_bal'] =  (dfTemp['TNR'] + dfTemp['TPR']) / 2 \n",
    "                    \n",
    "                    \n",
    "                    dfTemp['train_TNR'] = dfTemp['TN'] / (dfTemp['TN']+dfTemp['FP']) # Recall de la clase 0 (M02)\n",
    "                    dfTemp['train_TPR'] =    dfTemp['TP'] / (dfTemp['TP']+dfTemp['FN'])  # Recall de la clase 1 (C02)\n",
    "                    dfTemp['train_acc_bal'] =  (dfTemp['train_TNR'] + dfTemp['train_TPR']) / 2        \n",
    "                    \n",
    "                    dfTemp['avg_acc_bal'] =  (dfTemp['train_acc_bal'] + dfTemp['acc_bal']) / 2        \n",
    "                    \n",
    "                elif model== 'Regresion':\n",
    "                    pass\n",
    "                else:\n",
    "                    print(f'ERROR: No se encuentra el tipo de modelo {model}')\n",
    "                \n",
    "                # Reunimos los resultados\n",
    "                results = pd.concat([results,dfTemp],axis=0,ignore_index=True)\n",
    "    results = results.fillna(0)\n",
    "    \"\"\" GRABAMOS LOS RESULTADOS \"\"\"\n",
    "    results.to_csv(f'{path_base}/Archivos/Reportes/Entrenamiento/{model}/Reporte-TOTAL.csv',index=False)\n",
    "    projects.to_csv(f'{path_base}/Archivos/Reportes/Entrenamiento/{model}/Proyectos.csv',index=False)\n",
    "   \n",
    "    return results\n"
   ]
  },
  {
   "cell_type": "code",
   "execution_count": 12,
   "id": "c0fd6de3",
   "metadata": {},
   "outputs": [],
   "source": [
    "# Obteine el mejor resultado de un conjunto de epocas segun criterio (params)\n",
    "def summaryStats(path_base, params):      \n",
    "    model = params['model']\n",
    "    \n",
    "    \"\"\" REUNIMOS LA INFORMACION \"\"\"\n",
    "    if params['redoStats']:\n",
    "        print(\"Se va rehacer el dataset....\")\n",
    "        df = summaryResultsFile(path_base, params)\n",
    "    else:\n",
    "        df = pd.read_csv(f'{path_base}/Archivos/Reportes/Entrenamiento/{model}/Reporte-TOTAL.csv')           \n",
    "    \n",
    "    \"\"\" FILTRAMOS SEGUN LOS PARAMS \"\"\"\n",
    "    if params['drop']:\n",
    "        df = df[~df[params['drop'][0]].isin(params['drop'][1])]\n",
    "    if params['select']:\n",
    "        df = df[df[params['select'][0]].isin(params['select'][1])]\n",
    "    \n",
    "    \"\"\" SELECCION DE LOS MEJORES SEGUN CRITERIO \"\"\"\n",
    "    groupDF = df.groupby('idTest')\n",
    "    \n",
    "    bestResults = pd.DataFrame(columns = df.columns)    \n",
    "    for idTest, dfG in groupDF:\n",
    "        if not params['ascending']:\n",
    "            dfTemp = dfG[dfG[params['criterio']]==dfG[params['criterio']].max()]        \n",
    "        else:\n",
    "            dfTemp = dfG[dfG[params['criterio']]==dfG[params['criterio']].min()]        \n",
    "            \n",
    "        if dfTemp.empty:            \n",
    "            print(f'EROOR: No se encontro DF para idTest: {idTest}')          \n",
    "        else:\n",
    "            bestResults = pd.concat([bestResults,dfTemp],axis=0)\n",
    "    \n",
    "    \n",
    "    \n",
    "    # Guardamos los resutlados\n",
    "    bestResults = bestResults.sort_values(params[\"criterio\"],ascending=params[\"ascending\"])\n",
    "    bestResults.to_csv(f'{path_base}/Archivos/Reportes/Entrenamiento/{model}/Reporte-BEST_{params[\"criterio\"]}.csv')\n",
    "\n",
    "    #bestResults = bestResults.groupby('idTest').max().reset_index()\n",
    "    \"\"\"  GRAFICAS \"\"\"\n",
    "    if params['grafica']:\n",
    "        graficaClasificacion(bestResults, train=params['train'], cant=params['maxNum'])\n",
    "    \n",
    "    \"\"\" FILTRAMOS LAS COLUMNAS A ENTREGAR \"\"\"\n",
    "    if model == 'Clasificacion':\n",
    "        columns = ['idTest','epoca','TNR','TPR','acc_bal','train_TNR','train_TPR','train_acc_bal','FDR_FOR']    \n",
    "    else:\n",
    "        print(f'ERROR: No se definio correctamente el tipo de modelo en parametros')\n",
    "        \n",
    "    bestResults.loc[bestResults['P-inputs'] == \"['imagen', 'umb1', 'dato', 'altura']\", 'P-inputs'] = \"['imagen', 'dato', 'umb1', 'altura']\"\n",
    "    uniqueHP = []\n",
    "    if params['filterHP']:\n",
    "        hpList = [e for e in bestResults.columns if ('P-' in e) and (e not in ['P-runs','P-dsTName','P-outputs'])]\n",
    "\n",
    "        for iHP in hpList:\n",
    "            listUni = bestResults[iHP].unique()\n",
    "            if len(listUni)>1:\n",
    "                columns.append(iHP)\n",
    "            else:\n",
    "                uniqueHP.append(iHP)\n",
    "    \n",
    "    uniqueDF = bestResults[uniqueHP].head(1).T\n",
    "    uniqueDF.rename(columns={uniqueDF.columns[0]:'VALORES'}, inplace=True)\n",
    "    print('HIPERPARAMETROS UNICOS...')\n",
    "    print(uniqueDF)    \n",
    "    return bestResults[columns]"
   ]
  },
  {
   "cell_type": "code",
   "execution_count": 13,
   "id": "ae6f04da",
   "metadata": {},
   "outputs": [],
   "source": [
    "#cod = '20220627_10'\n",
    "def repairFile(cod):\n",
    "    dirP = f'{path_base}/Archivos/Resultados/Clasificacion/RNN/Clasificacion-{cod}'\n",
    "    fileExcel = f'{dirP}/_Stats-Clasificacion-{cod}.xlsx'\n",
    "\n",
    "    os.chdir(dirP)\n",
    "    csvFiles = list(glob.glob('*.csv'))\n",
    "    idTest = ['20220627_102320','20220627_151807','20220627_172156','20220627_214257','20220628_020513','20220628_061741']\n",
    "\n",
    "    for f in csvFiles:\n",
    "        objT = pd.read_pickle(f)\n",
    "        _num = f[-5:-4]\n",
    "        _id = idTest[int(_num)]\n",
    "\n",
    "        with pd.ExcelWriter(fileExcel, mode=\"a\", engine=\"openpyxl\", if_sheet_exists='overlay') as writer:                    \n",
    "            tempDF = pd.DataFrame(objT)\n",
    "            tempDF.columns = ['loss', 'acc', 'TP', 'TN', 'FP','FN','FDR'\n",
    "                            'val_loss','val_acc','val_TP','val_TN','val_FP','val_FN']\n",
    "            tempDF.to_excel(writer,startrow=0,sheet_name=f'{_num}-{_id}')"
   ]
  },
  {
   "cell_type": "code",
   "execution_count": 14,
   "id": "98577184-2ccf-4102-a679-1b4d6efafdde",
   "metadata": {},
   "outputs": [],
   "source": [
    "#bestResults[bestResults.index.isin([4283,4593,4782,4049,4049,4105])].to_excel('HOLA.xlsx')"
   ]
  },
  {
   "cell_type": "code",
   "execution_count": 15,
   "id": "2de12a96-a3d7-44ed-80a5-104fb8f24e13",
   "metadata": {},
   "outputs": [],
   "source": [
    "#graficaClasificacion(bestResults[bestResults.index.isin([4283,4593,4782,4049,4049,4105])], train=params['train'], cant=params['maxNum'])"
   ]
  },
  {
   "cell_type": "code",
   "execution_count": 16,
   "id": "a335761c-e347-4514-8f06-dd56d0e09a3e",
   "metadata": {},
   "outputs": [],
   "source": [
    "#graficaClasificacion(bestResults, train=params['train'], cant=params['maxNum'])"
   ]
  },
  {
   "cell_type": "code",
   "execution_count": 17,
   "id": "87729674-f8fa-4b88-a57c-0e845b1d2e10",
   "metadata": {},
   "outputs": [
    {
     "name": "stdout",
     "output_type": "stream",
     "text": [
      "Se va rehacer el dataset....\n"
     ]
    },
    {
     "data": {
      "image/png": "[encoded data removed]",
      "text/plain": [
       "<Figure size 432x288 with 1 Axes>"
      ]
     },
     "metadata": {
      "needs_background": "light"
     },
     "output_type": "display_data"
    },
    {
     "name": "stdout",
     "output_type": "stream",
     "text": [
      "HIPERPARAMETROS UNICOS...\n",
      "                          VALORES\n",
      "P-loss        binary_crossentropy\n",
      "P-normLayer                  True\n",
      "P-dense_tipo                 RELU\n",
      "P-canales                       3\n",
      "2519\n"
     ]
    },
    {
     "data": {
      "text/html": [
       "<div>\n",
       "<style scoped>\n",
       "    .dataframe tbody tr th:only-of-type {\n",
       "        vertical-align: middle;\n",
       "    }\n",
       "\n",
       "    .dataframe tbody tr th {\n",
       "        vertical-align: top;\n",
       "    }\n",
       "\n",
       "    .dataframe thead th {\n",
       "        text-align: right;\n",
       "    }\n",
       "</style>\n",
       "<table border=\"1\" class=\"dataframe\">\n",
       "  <thead>\n",
       "    <tr style=\"text-align: right;\">\n",
       "      <th></th>\n",
       "      <th>idTest</th>\n",
       "      <th>epoca</th>\n",
       "      <th>TNR</th>\n",
       "      <th>TPR</th>\n",
       "      <th>acc_bal</th>\n",
       "      <th>train_TNR</th>\n",
       "      <th>train_TPR</th>\n",
       "      <th>train_acc_bal</th>\n",
       "      <th>FDR_FOR</th>\n",
       "      <th>P-inputs</th>\n",
       "      <th>...</th>\n",
       "      <th>P-droupout</th>\n",
       "      <th>P-maxPool</th>\n",
       "      <th>P-rnn_tipo</th>\n",
       "      <th>P-rnn_units</th>\n",
       "      <th>P-dense_cant</th>\n",
       "      <th>P-dense_units</th>\n",
       "      <th>P-kernel_regularizer</th>\n",
       "      <th>P-dense_droupout</th>\n",
       "      <th>P-tiempos</th>\n",
       "      <th>P-margen</th>\n",
       "    </tr>\n",
       "  </thead>\n",
       "  <tbody>\n",
       "    <tr>\n",
       "      <th>406</th>\n",
       "      <td>20241126_091203</td>\n",
       "      <td>185</td>\n",
       "      <td>1.0</td>\n",
       "      <td>0.822014</td>\n",
       "      <td>0.911007</td>\n",
       "      <td>0.848958</td>\n",
       "      <td>0.85625</td>\n",
       "      <td>0.852604</td>\n",
       "      <td>0.475</td>\n",
       "      <td>['imagen', '_dato', '_umb1', '_altura']</td>\n",
       "      <td>...</td>\n",
       "      <td>[0.1, 0.3, 0.2, 0.2, 0.1, 0.1]</td>\n",
       "      <td>[False, False, False, False, False, False]</td>\n",
       "      <td>CONV3D</td>\n",
       "      <td>16</td>\n",
       "      <td>4</td>\n",
       "      <td>[64, 32, 16, 8]</td>\n",
       "      <td>[0, 0, 0, 0]</td>\n",
       "      <td>[0.3, 0.2, 0.1, 0]</td>\n",
       "      <td>6</td>\n",
       "      <td>12</td>\n",
       "    </tr>\n",
       "    <tr>\n",
       "      <th>598</th>\n",
       "      <td>20241127_080653</td>\n",
       "      <td>177</td>\n",
       "      <td>1.0</td>\n",
       "      <td>0.809524</td>\n",
       "      <td>0.904762</td>\n",
       "      <td>0.865625</td>\n",
       "      <td>0.857292</td>\n",
       "      <td>0.861458</td>\n",
       "      <td>0.476562</td>\n",
       "      <td>['imagen', '_dato', '_umb1', '_altura']</td>\n",
       "      <td>...</td>\n",
       "      <td>[0.1, 0.3, 0.2, 0.2, 0.1, 0.1]</td>\n",
       "      <td>[False, False, False, False, False, False]</td>\n",
       "      <td>CONV3D</td>\n",
       "      <td>16</td>\n",
       "      <td>4</td>\n",
       "      <td>[64, 32, 16, 8]</td>\n",
       "      <td>[0, 0, 0, 0]</td>\n",
       "      <td>[0.3, 0.2, 0.1, 0]</td>\n",
       "      <td>6</td>\n",
       "      <td>12</td>\n",
       "    </tr>\n",
       "    <tr>\n",
       "      <th>178</th>\n",
       "      <td>20241126_012437</td>\n",
       "      <td>157</td>\n",
       "      <td>1.0</td>\n",
       "      <td>0.79313</td>\n",
       "      <td>0.896565</td>\n",
       "      <td>0.916667</td>\n",
       "      <td>0.822917</td>\n",
       "      <td>0.869792</td>\n",
       "      <td>0.478339</td>\n",
       "      <td>['imagen', '_dato', '_umb1', '_altura']</td>\n",
       "      <td>...</td>\n",
       "      <td>[0.1, 0.3, 0.2, 0.2, 0.1, 0.1]</td>\n",
       "      <td>[False, False, False, False, False, False]</td>\n",
       "      <td>CONV3D</td>\n",
       "      <td>8</td>\n",
       "      <td>4</td>\n",
       "      <td>[64, 32, 16, 8]</td>\n",
       "      <td>[0, 0, 0, 0]</td>\n",
       "      <td>[0.3, 0.2, 0.1, 0]</td>\n",
       "      <td>6</td>\n",
       "      <td>10</td>\n",
       "    </tr>\n",
       "    <tr>\n",
       "      <th>4671</th>\n",
       "      <td>20230709_112005</td>\n",
       "      <td>99</td>\n",
       "      <td>0.75</td>\n",
       "      <td>0.959407</td>\n",
       "      <td>0.854703</td>\n",
       "      <td>0.433333</td>\n",
       "      <td>0.965625</td>\n",
       "      <td>0.699479</td>\n",
       "      <td>0.427447</td>\n",
       "      <td>['imagen', 'dato', 'umb1', 'altura']</td>\n",
       "      <td>...</td>\n",
       "      <td>[0.2, 0.3]</td>\n",
       "      <td>[False, False]</td>\n",
       "      <td>LSTM</td>\n",
       "      <td>64</td>\n",
       "      <td>2</td>\n",
       "      <td>[128, 64]</td>\n",
       "      <td>0</td>\n",
       "      <td>0</td>\n",
       "      <td>3</td>\n",
       "      <td>10</td>\n",
       "    </tr>\n",
       "    <tr>\n",
       "      <th>4117</th>\n",
       "      <td>20241030_101704</td>\n",
       "      <td>145</td>\n",
       "      <td>0.911111</td>\n",
       "      <td>0.792616</td>\n",
       "      <td>0.851864</td>\n",
       "      <td>0.892127</td>\n",
       "      <td>0.870793</td>\n",
       "      <td>0.88146</td>\n",
       "      <td>0.470969</td>\n",
       "      <td>['imagen', '_dato', '_umb1', '_altura']</td>\n",
       "      <td>...</td>\n",
       "      <td>[0.1, 0.3, 0.2, 0.2, 0.1, 0.1]</td>\n",
       "      <td>[False, False, False, False, False, False]</td>\n",
       "      <td>LSTM</td>\n",
       "      <td>16</td>\n",
       "      <td>4</td>\n",
       "      <td>[64, 32, 16, 8]</td>\n",
       "      <td>[0, 0, 0, 0]</td>\n",
       "      <td>[0.3, 0.2, 0.1, 0]</td>\n",
       "      <td>6</td>\n",
       "      <td>12</td>\n",
       "    </tr>\n",
       "    <tr>\n",
       "      <th>10511</th>\n",
       "      <td>20240403_144912</td>\n",
       "      <td>11</td>\n",
       "      <td>0.75</td>\n",
       "      <td>0.952381</td>\n",
       "      <td>0.85119</td>\n",
       "      <td>0.145833</td>\n",
       "      <td>0.489583</td>\n",
       "      <td>0.317708</td>\n",
       "      <td>0.436941</td>\n",
       "      <td>['imagen', 'dato', 'umb1', 'altura']</td>\n",
       "      <td>...</td>\n",
       "      <td>[0.2, 0.1, 0.2, 0.1]</td>\n",
       "      <td>[False, False, False, False]</td>\n",
       "      <td>LSTM</td>\n",
       "      <td>16</td>\n",
       "      <td>4</td>\n",
       "      <td>[128, 64, 32, 16]</td>\n",
       "      <td>0</td>\n",
       "      <td>0</td>\n",
       "      <td>5</td>\n",
       "      <td>8</td>\n",
       "    </tr>\n",
       "    <tr>\n",
       "      <th>10268</th>\n",
       "      <td>20240403_033405</td>\n",
       "      <td>21</td>\n",
       "      <td>0.75</td>\n",
       "      <td>0.949258</td>\n",
       "      <td>0.849629</td>\n",
       "      <td>0.042708</td>\n",
       "      <td>0.578125</td>\n",
       "      <td>0.310417</td>\n",
       "      <td>0.44042</td>\n",
       "      <td>['imagen', 'dato', 'umb1', 'altura']</td>\n",
       "      <td>...</td>\n",
       "      <td>[0.2, 0.1, 0.2, 0.1]</td>\n",
       "      <td>[False, False, False, False]</td>\n",
       "      <td>LSTM</td>\n",
       "      <td>16</td>\n",
       "      <td>4</td>\n",
       "      <td>[128, 64, 32, 16]</td>\n",
       "      <td>0</td>\n",
       "      <td>0</td>\n",
       "      <td>5</td>\n",
       "      <td>4</td>\n",
       "    </tr>\n",
       "    <tr>\n",
       "      <th>7628</th>\n",
       "      <td>20240325_231109</td>\n",
       "      <td>86</td>\n",
       "      <td>0.75</td>\n",
       "      <td>0.947697</td>\n",
       "      <td>0.848849</td>\n",
       "      <td>0.314583</td>\n",
       "      <td>0.958333</td>\n",
       "      <td>0.636458</td>\n",
       "      <td>0.442022</td>\n",
       "      <td>['imagen', 'dato', 'umb1', 'altura']</td>\n",
       "      <td>...</td>\n",
       "      <td>[0.2, 0.1, 0.2, 0.1]</td>\n",
       "      <td>[False, False, False, False]</td>\n",
       "      <td>LSTM</td>\n",
       "      <td>32</td>\n",
       "      <td>3</td>\n",
       "      <td>[128, 64, 32]</td>\n",
       "      <td>0</td>\n",
       "      <td>0</td>\n",
       "      <td>6</td>\n",
       "      <td>10</td>\n",
       "    </tr>\n",
       "    <tr>\n",
       "      <th>11110</th>\n",
       "      <td>20240404_050409</td>\n",
       "      <td>241</td>\n",
       "      <td>0.75</td>\n",
       "      <td>0.942233</td>\n",
       "      <td>0.846116</td>\n",
       "      <td>0.321875</td>\n",
       "      <td>0.986458</td>\n",
       "      <td>0.654167</td>\n",
       "      <td>0.447023</td>\n",
       "      <td>['imagen', 'dato', 'umb1', 'altura']</td>\n",
       "      <td>...</td>\n",
       "      <td>[0.2, 0.1, 0.2, 0.1]</td>\n",
       "      <td>[False, False, False, False]</td>\n",
       "      <td>LSTM</td>\n",
       "      <td>16</td>\n",
       "      <td>4</td>\n",
       "      <td>[128, 64, 32, 16]</td>\n",
       "      <td>0</td>\n",
       "      <td>0</td>\n",
       "      <td>4</td>\n",
       "      <td>8</td>\n",
       "    </tr>\n",
       "    <tr>\n",
       "      <th>9493</th>\n",
       "      <td>20240328_181454</td>\n",
       "      <td>82</td>\n",
       "      <td>0.75</td>\n",
       "      <td>0.942233</td>\n",
       "      <td>0.846116</td>\n",
       "      <td>0.435417</td>\n",
       "      <td>0.890625</td>\n",
       "      <td>0.663021</td>\n",
       "      <td>0.447023</td>\n",
       "      <td>['imagen', 'dato', 'altura']</td>\n",
       "      <td>...</td>\n",
       "      <td>[0.2, 0.1]</td>\n",
       "      <td>[False, False]</td>\n",
       "      <td>LSTM</td>\n",
       "      <td>16</td>\n",
       "      <td>4</td>\n",
       "      <td>[128, 64, 32, 16]</td>\n",
       "      <td>0</td>\n",
       "      <td>0</td>\n",
       "      <td>4</td>\n",
       "      <td>8</td>\n",
       "    </tr>\n",
       "  </tbody>\n",
       "</table>\n",
       "<p>10 rows × 28 columns</p>\n",
       "</div>"
      ],
      "text/plain": [
       "                idTest epoca       TNR       TPR   acc_bal train_TNR  \\\n",
       "406    20241126_091203   185       1.0  0.822014  0.911007  0.848958   \n",
       "598    20241127_080653   177       1.0  0.809524  0.904762  0.865625   \n",
       "178    20241126_012437   157       1.0   0.79313  0.896565  0.916667   \n",
       "4671   20230709_112005    99      0.75  0.959407  0.854703  0.433333   \n",
       "4117   20241030_101704   145  0.911111  0.792616  0.851864  0.892127   \n",
       "10511  20240403_144912    11      0.75  0.952381   0.85119  0.145833   \n",
       "10268  20240403_033405    21      0.75  0.949258  0.849629  0.042708   \n",
       "7628   20240325_231109    86      0.75  0.947697  0.848849  0.314583   \n",
       "11110  20240404_050409   241      0.75  0.942233  0.846116  0.321875   \n",
       "9493   20240328_181454    82      0.75  0.942233  0.846116  0.435417   \n",
       "\n",
       "      train_TPR train_acc_bal   FDR_FOR  \\\n",
       "406     0.85625      0.852604     0.475   \n",
       "598    0.857292      0.861458  0.476562   \n",
       "178    0.822917      0.869792  0.478339   \n",
       "4671   0.965625      0.699479  0.427447   \n",
       "4117   0.870793       0.88146  0.470969   \n",
       "10511  0.489583      0.317708  0.436941   \n",
       "10268  0.578125      0.310417   0.44042   \n",
       "7628   0.958333      0.636458  0.442022   \n",
       "11110  0.986458      0.654167  0.447023   \n",
       "9493   0.890625      0.663021  0.447023   \n",
       "\n",
       "                                      P-inputs  ...  \\\n",
       "406    ['imagen', '_dato', '_umb1', '_altura']  ...   \n",
       "598    ['imagen', '_dato', '_umb1', '_altura']  ...   \n",
       "178    ['imagen', '_dato', '_umb1', '_altura']  ...   \n",
       "4671      ['imagen', 'dato', 'umb1', 'altura']  ...   \n",
       "4117   ['imagen', '_dato', '_umb1', '_altura']  ...   \n",
       "10511     ['imagen', 'dato', 'umb1', 'altura']  ...   \n",
       "10268     ['imagen', 'dato', 'umb1', 'altura']  ...   \n",
       "7628      ['imagen', 'dato', 'umb1', 'altura']  ...   \n",
       "11110     ['imagen', 'dato', 'umb1', 'altura']  ...   \n",
       "9493              ['imagen', 'dato', 'altura']  ...   \n",
       "\n",
       "                           P-droupout  \\\n",
       "406    [0.1, 0.3, 0.2, 0.2, 0.1, 0.1]   \n",
       "598    [0.1, 0.3, 0.2, 0.2, 0.1, 0.1]   \n",
       "178    [0.1, 0.3, 0.2, 0.2, 0.1, 0.1]   \n",
       "4671                       [0.2, 0.3]   \n",
       "4117   [0.1, 0.3, 0.2, 0.2, 0.1, 0.1]   \n",
       "10511            [0.2, 0.1, 0.2, 0.1]   \n",
       "10268            [0.2, 0.1, 0.2, 0.1]   \n",
       "7628             [0.2, 0.1, 0.2, 0.1]   \n",
       "11110            [0.2, 0.1, 0.2, 0.1]   \n",
       "9493                       [0.2, 0.1]   \n",
       "\n",
       "                                        P-maxPool P-rnn_tipo P-rnn_units  \\\n",
       "406    [False, False, False, False, False, False]     CONV3D          16   \n",
       "598    [False, False, False, False, False, False]     CONV3D          16   \n",
       "178    [False, False, False, False, False, False]     CONV3D           8   \n",
       "4671                               [False, False]       LSTM          64   \n",
       "4117   [False, False, False, False, False, False]       LSTM          16   \n",
       "10511                [False, False, False, False]       LSTM          16   \n",
       "10268                [False, False, False, False]       LSTM          16   \n",
       "7628                 [False, False, False, False]       LSTM          32   \n",
       "11110                [False, False, False, False]       LSTM          16   \n",
       "9493                               [False, False]       LSTM          16   \n",
       "\n",
       "      P-dense_cant      P-dense_units P-kernel_regularizer  \\\n",
       "406              4    [64, 32, 16, 8]         [0, 0, 0, 0]   \n",
       "598              4    [64, 32, 16, 8]         [0, 0, 0, 0]   \n",
       "178              4    [64, 32, 16, 8]         [0, 0, 0, 0]   \n",
       "4671             2          [128, 64]                    0   \n",
       "4117             4    [64, 32, 16, 8]         [0, 0, 0, 0]   \n",
       "10511            4  [128, 64, 32, 16]                    0   \n",
       "10268            4  [128, 64, 32, 16]                    0   \n",
       "7628             3      [128, 64, 32]                    0   \n",
       "11110            4  [128, 64, 32, 16]                    0   \n",
       "9493             4  [128, 64, 32, 16]                    0   \n",
       "\n",
       "         P-dense_droupout P-tiempos P-margen  \n",
       "406    [0.3, 0.2, 0.1, 0]         6       12  \n",
       "598    [0.3, 0.2, 0.1, 0]         6       12  \n",
       "178    [0.3, 0.2, 0.1, 0]         6       10  \n",
       "4671                    0         3       10  \n",
       "4117   [0.3, 0.2, 0.1, 0]         6       12  \n",
       "10511                   0         5        8  \n",
       "10268                   0         5        4  \n",
       "7628                    0         6       10  \n",
       "11110                   0         4        8  \n",
       "9493                    0         4        8  \n",
       "\n",
       "[10 rows x 28 columns]"
      ]
     },
     "execution_count": 17,
     "metadata": {},
     "output_type": "execute_result"
    }
   ],
   "source": [
    "params = {\n",
    "    # General\n",
    "    'resultDir': f'{path_base}/Archivos/Resultados/Clasificacion', # Direcotrio de resultados    \n",
    "    'redoStats': True, #True, #True,        # True : Rehace las estadisticas, caso contrario solo lee los archivos de reportes\n",
    "    'drop'     : ['idTest',['20240326_224209', '20240326_050743']], #['idTest',['20240326_224209', '20230710_181720']],#['P-rnn_tipo',['LSTM']],    'idTest', ['20230706_044401']\n",
    "    'select'   : ['P-dsTName' , ['CLASE_TrainDS_3','XXXXX_V2','CLASE_TrainDS_1']], #['P-dsTName' , ['XXXXX_V2']], #['P-dsTName' , ['CLASE_TrainDS_3']],\n",
    "       \n",
    "    # Stats\n",
    "    'model'    : 'Clasificacion',  \n",
    "    'criterio' : 'acc_bal',       # avg_acc_bal Para filtrar el mejor modelo de las epocas en cada test\n",
    "    'ascending': False,           # True = Max segun el criterio\n",
    "    'filterHP' : True,            # Muestra solo las columnas de HP que varia\n",
    "    \n",
    "    # Graficas\n",
    "    'grafica'  : True,\n",
    "    'train'    : False,\n",
    "    'maxNum'   : 5,              # 0 = TODOS los modelos\n",
    "}\n",
    "\n",
    "\n",
    "bestResults = summaryStats(path_base, params)\n",
    "print(len(bestResults))\n",
    "bestResults.head(10)#[(bestResults['TNR']!=0) & (bestResults['TPR']!=0)].head(30)"
   ]
  },
  {
   "cell_type": "code",
   "execution_count": 24,
   "id": "df8fe3c8-bcf2-4dd1-934e-351800809e85",
   "metadata": {},
   "outputs": [
    {
     "data": {
      "text/html": [
       "<div>\n",
       "<style scoped>\n",
       "    .dataframe tbody tr th:only-of-type {\n",
       "        vertical-align: middle;\n",
       "    }\n",
       "\n",
       "    .dataframe tbody tr th {\n",
       "        vertical-align: top;\n",
       "    }\n",
       "\n",
       "    .dataframe thead th {\n",
       "        text-align: right;\n",
       "    }\n",
       "</style>\n",
       "<table border=\"1\" class=\"dataframe\">\n",
       "  <thead>\n",
       "    <tr style=\"text-align: right;\">\n",
       "      <th></th>\n",
       "      <th></th>\n",
       "      <th></th>\n",
       "      <th>epoca</th>\n",
       "      <th>TNR</th>\n",
       "      <th>TPR</th>\n",
       "      <th>train_TNR</th>\n",
       "      <th>train_TPR</th>\n",
       "      <th>train_acc_bal</th>\n",
       "      <th>P-inputs</th>\n",
       "    </tr>\n",
       "    <tr>\n",
       "      <th>idTest</th>\n",
       "      <th>P-rnn_tipo</th>\n",
       "      <th>acc_bal</th>\n",
       "      <th></th>\n",
       "      <th></th>\n",
       "      <th></th>\n",
       "      <th></th>\n",
       "      <th></th>\n",
       "      <th></th>\n",
       "      <th></th>\n",
       "    </tr>\n",
       "  </thead>\n",
       "  <tbody>\n",
       "    <tr>\n",
       "      <th>20230709_112005</th>\n",
       "      <th>LSTM</th>\n",
       "      <th>0.854703</th>\n",
       "      <td>99</td>\n",
       "      <td>0.750000</td>\n",
       "      <td>0.959407</td>\n",
       "      <td>0.433333</td>\n",
       "      <td>0.965625</td>\n",
       "      <td>0.699479</td>\n",
       "      <td>['imagen', 'dato', 'umb1', 'altura']</td>\n",
       "    </tr>\n",
       "    <tr>\n",
       "      <th>20240325_231109</th>\n",
       "      <th>LSTM</th>\n",
       "      <th>0.848849</th>\n",
       "      <td>86</td>\n",
       "      <td>0.750000</td>\n",
       "      <td>0.947697</td>\n",
       "      <td>0.314583</td>\n",
       "      <td>0.958333</td>\n",
       "      <td>0.636458</td>\n",
       "      <td>['imagen', 'dato', 'umb1', 'altura']</td>\n",
       "    </tr>\n",
       "    <tr>\n",
       "      <th>20240326_104321</th>\n",
       "      <th>LSTM</th>\n",
       "      <th>0.845336</th>\n",
       "      <td>96</td>\n",
       "      <td>0.750000</td>\n",
       "      <td>0.940671</td>\n",
       "      <td>0.220833</td>\n",
       "      <td>0.995833</td>\n",
       "      <td>0.608333</td>\n",
       "      <td>['imagen', 'dato', 'umb1', 'altura']</td>\n",
       "    </tr>\n",
       "    <tr>\n",
       "      <th>20240323_184159</th>\n",
       "      <th>LSTM</th>\n",
       "      <th>0.843384</th>\n",
       "      <td>26</td>\n",
       "      <td>0.750000</td>\n",
       "      <td>0.936768</td>\n",
       "      <td>0.329167</td>\n",
       "      <td>0.963542</td>\n",
       "      <td>0.646354</td>\n",
       "      <td>['imagen', 'dato', 'umb1', 'altura']</td>\n",
       "    </tr>\n",
       "    <tr>\n",
       "      <th>20240325_185354</th>\n",
       "      <th>LSTM</th>\n",
       "      <th>0.840262</th>\n",
       "      <td>20</td>\n",
       "      <td>0.750000</td>\n",
       "      <td>0.930523</td>\n",
       "      <td>0.433333</td>\n",
       "      <td>0.934375</td>\n",
       "      <td>0.683854</td>\n",
       "      <td>['imagen', 'dato', 'altura']</td>\n",
       "    </tr>\n",
       "    <tr>\n",
       "      <th>20240326_080400</th>\n",
       "      <th>LSTM</th>\n",
       "      <th>0.837920</th>\n",
       "      <td>78</td>\n",
       "      <td>0.750000</td>\n",
       "      <td>0.925839</td>\n",
       "      <td>0.437500</td>\n",
       "      <td>0.921875</td>\n",
       "      <td>0.679688</td>\n",
       "      <td>['imagen', 'dato', 'umb1', 'altura']</td>\n",
       "    </tr>\n",
       "    <tr>\n",
       "      <th>20240326_182709</th>\n",
       "      <th>LSTM</th>\n",
       "      <th>0.803181</th>\n",
       "      <td>66</td>\n",
       "      <td>0.750000</td>\n",
       "      <td>0.856362</td>\n",
       "      <td>0.439583</td>\n",
       "      <td>0.882292</td>\n",
       "      <td>0.660937</td>\n",
       "      <td>['imagen', 'dato', 'umb1', 'altura']</td>\n",
       "    </tr>\n",
       "    <tr>\n",
       "      <th>20240321_102026</th>\n",
       "      <th>LSTM</th>\n",
       "      <th>0.541667</th>\n",
       "      <td>9</td>\n",
       "      <td>0.083333</td>\n",
       "      <td>1.000000</td>\n",
       "      <td>0.035417</td>\n",
       "      <td>1.000000</td>\n",
       "      <td>0.517708</td>\n",
       "      <td>['imagen', 'dato', 'umb1', 'altura']</td>\n",
       "    </tr>\n",
       "    <tr>\n",
       "      <th>20240321_201753</th>\n",
       "      <th>LSTM</th>\n",
       "      <th>0.541667</th>\n",
       "      <td>21</td>\n",
       "      <td>0.083333</td>\n",
       "      <td>1.000000</td>\n",
       "      <td>0.033333</td>\n",
       "      <td>1.000000</td>\n",
       "      <td>0.512500</td>\n",
       "      <td>['imagen', 'dato', 'umb1', 'altura']</td>\n",
       "    </tr>\n",
       "    <tr>\n",
       "      <th>20240322_080849</th>\n",
       "      <th>LSTM</th>\n",
       "      <th>0.541667</th>\n",
       "      <td>6</td>\n",
       "      <td>0.083333</td>\n",
       "      <td>1.000000</td>\n",
       "      <td>0.030208</td>\n",
       "      <td>1.000000</td>\n",
       "      <td>0.515104</td>\n",
       "      <td>['imagen', 'dato', 'umb1', 'altura']</td>\n",
       "    </tr>\n",
       "    <tr>\n",
       "      <th>20240321_000829</th>\n",
       "      <th>LSTM</th>\n",
       "      <th>0.541667</th>\n",
       "      <td>7</td>\n",
       "      <td>0.083333</td>\n",
       "      <td>1.000000</td>\n",
       "      <td>0.033333</td>\n",
       "      <td>1.000000</td>\n",
       "      <td>0.516667</td>\n",
       "      <td>['imagen', 'dato', 'umb1', 'altura']</td>\n",
       "    </tr>\n",
       "    <tr>\n",
       "      <th>20240322_201902</th>\n",
       "      <th>LSTM</th>\n",
       "      <th>0.540886</th>\n",
       "      <td>3</td>\n",
       "      <td>0.083333</td>\n",
       "      <td>0.998439</td>\n",
       "      <td>0.033333</td>\n",
       "      <td>0.900000</td>\n",
       "      <td>0.466667</td>\n",
       "      <td>['imagen', 'dato', 'umb1', 'altura']</td>\n",
       "    </tr>\n",
       "    <tr>\n",
       "      <th>20240326_162654</th>\n",
       "      <th>LSTM</th>\n",
       "      <th>0.500781</th>\n",
       "      <td>0</td>\n",
       "      <td>1.000000</td>\n",
       "      <td>0.001561</td>\n",
       "      <td>1.000000</td>\n",
       "      <td>0.000000</td>\n",
       "      <td>0.500000</td>\n",
       "      <td>['imagen', 'dato', 'umb1', 'altura']</td>\n",
       "    </tr>\n",
       "    <tr>\n",
       "      <th>20240327_093949</th>\n",
       "      <th>LSTM</th>\n",
       "      <th>0.500000</th>\n",
       "      <td>104</td>\n",
       "      <td>1.000000</td>\n",
       "      <td>1.000000</td>\n",
       "      <td>0.765625</td>\n",
       "      <td>1.000000</td>\n",
       "      <td>0.833333</td>\n",
       "      <td>['imagen', 'dato', 'umb1', 'altura']</td>\n",
       "    </tr>\n",
       "    <tr>\n",
       "      <th>20240325_125743</th>\n",
       "      <th>LSTM</th>\n",
       "      <th>0.500000</th>\n",
       "      <td>71</td>\n",
       "      <td>1.000000</td>\n",
       "      <td>1.000000</td>\n",
       "      <td>0.882292</td>\n",
       "      <td>1.000000</td>\n",
       "      <td>0.941146</td>\n",
       "      <td>['imagen', 'dato', 'altura']</td>\n",
       "    </tr>\n",
       "    <tr>\n",
       "      <th>20240325_145931</th>\n",
       "      <th>LSTM</th>\n",
       "      <th>0.500000</th>\n",
       "      <td>70</td>\n",
       "      <td>1.000000</td>\n",
       "      <td>0.000000</td>\n",
       "      <td>1.000000</td>\n",
       "      <td>0.997917</td>\n",
       "      <td>0.570833</td>\n",
       "      <td>['imagen', 'dato', 'umb1']</td>\n",
       "    </tr>\n",
       "    <tr>\n",
       "      <th>20240325_103457</th>\n",
       "      <th>LSTM</th>\n",
       "      <th>0.500000</th>\n",
       "      <td>70</td>\n",
       "      <td>1.000000</td>\n",
       "      <td>0.000000</td>\n",
       "      <td>1.000000</td>\n",
       "      <td>0.983333</td>\n",
       "      <td>0.568229</td>\n",
       "      <td>['imagen', 'dato', 'umb1']</td>\n",
       "    </tr>\n",
       "    <tr>\n",
       "      <th>20240324_132347</th>\n",
       "      <th>LSTM</th>\n",
       "      <th>0.500000</th>\n",
       "      <td>249</td>\n",
       "      <td>1.000000</td>\n",
       "      <td>1.000000</td>\n",
       "      <td>0.762500</td>\n",
       "      <td>1.000000</td>\n",
       "      <td>0.801562</td>\n",
       "      <td>['imagen', 'dato', 'umb1', 'altura']</td>\n",
       "    </tr>\n",
       "    <tr>\n",
       "      <th>20240323_080503</th>\n",
       "      <th>LSTM</th>\n",
       "      <th>0.500000</th>\n",
       "      <td>249</td>\n",
       "      <td>1.000000</td>\n",
       "      <td>1.000000</td>\n",
       "      <td>1.000000</td>\n",
       "      <td>1.000000</td>\n",
       "      <td>0.784375</td>\n",
       "      <td>['imagen', 'dato', 'umb1', 'altura']</td>\n",
       "    </tr>\n",
       "    <tr>\n",
       "      <th>20240327_141931</th>\n",
       "      <th>LSTM</th>\n",
       "      <th>0.500000</th>\n",
       "      <td>100</td>\n",
       "      <td>1.000000</td>\n",
       "      <td>0.000000</td>\n",
       "      <td>1.000000</td>\n",
       "      <td>0.933333</td>\n",
       "      <td>0.700000</td>\n",
       "      <td>['imagen', 'dato', 'umb1', 'altura']</td>\n",
       "    </tr>\n",
       "  </tbody>\n",
       "</table>\n",
       "</div>"
      ],
      "text/plain": [
       "                                     epoca       TNR       TPR  train_TNR  \\\n",
       "idTest          P-rnn_tipo acc_bal                                          \n",
       "20230709_112005 LSTM       0.854703     99  0.750000  0.959407   0.433333   \n",
       "20240325_231109 LSTM       0.848849     86  0.750000  0.947697   0.314583   \n",
       "20240326_104321 LSTM       0.845336     96  0.750000  0.940671   0.220833   \n",
       "20240323_184159 LSTM       0.843384     26  0.750000  0.936768   0.329167   \n",
       "20240325_185354 LSTM       0.840262     20  0.750000  0.930523   0.433333   \n",
       "20240326_080400 LSTM       0.837920     78  0.750000  0.925839   0.437500   \n",
       "20240326_182709 LSTM       0.803181     66  0.750000  0.856362   0.439583   \n",
       "20240321_102026 LSTM       0.541667      9  0.083333  1.000000   0.035417   \n",
       "20240321_201753 LSTM       0.541667     21  0.083333  1.000000   0.033333   \n",
       "20240322_080849 LSTM       0.541667      6  0.083333  1.000000   0.030208   \n",
       "20240321_000829 LSTM       0.541667      7  0.083333  1.000000   0.033333   \n",
       "20240322_201902 LSTM       0.540886      3  0.083333  0.998439   0.033333   \n",
       "20240326_162654 LSTM       0.500781      0  1.000000  0.001561   1.000000   \n",
       "20240327_093949 LSTM       0.500000    104  1.000000  1.000000   0.765625   \n",
       "20240325_125743 LSTM       0.500000     71  1.000000  1.000000   0.882292   \n",
       "20240325_145931 LSTM       0.500000     70  1.000000  0.000000   1.000000   \n",
       "20240325_103457 LSTM       0.500000     70  1.000000  0.000000   1.000000   \n",
       "20240324_132347 LSTM       0.500000    249  1.000000  1.000000   0.762500   \n",
       "20240323_080503 LSTM       0.500000    249  1.000000  1.000000   1.000000   \n",
       "20240327_141931 LSTM       0.500000    100  1.000000  0.000000   1.000000   \n",
       "\n",
       "                                     train_TPR  train_acc_bal  \\\n",
       "idTest          P-rnn_tipo acc_bal                              \n",
       "20230709_112005 LSTM       0.854703   0.965625       0.699479   \n",
       "20240325_231109 LSTM       0.848849   0.958333       0.636458   \n",
       "20240326_104321 LSTM       0.845336   0.995833       0.608333   \n",
       "20240323_184159 LSTM       0.843384   0.963542       0.646354   \n",
       "20240325_185354 LSTM       0.840262   0.934375       0.683854   \n",
       "20240326_080400 LSTM       0.837920   0.921875       0.679688   \n",
       "20240326_182709 LSTM       0.803181   0.882292       0.660937   \n",
       "20240321_102026 LSTM       0.541667   1.000000       0.517708   \n",
       "20240321_201753 LSTM       0.541667   1.000000       0.512500   \n",
       "20240322_080849 LSTM       0.541667   1.000000       0.515104   \n",
       "20240321_000829 LSTM       0.541667   1.000000       0.516667   \n",
       "20240322_201902 LSTM       0.540886   0.900000       0.466667   \n",
       "20240326_162654 LSTM       0.500781   0.000000       0.500000   \n",
       "20240327_093949 LSTM       0.500000   1.000000       0.833333   \n",
       "20240325_125743 LSTM       0.500000   1.000000       0.941146   \n",
       "20240325_145931 LSTM       0.500000   0.997917       0.570833   \n",
       "20240325_103457 LSTM       0.500000   0.983333       0.568229   \n",
       "20240324_132347 LSTM       0.500000   1.000000       0.801562   \n",
       "20240323_080503 LSTM       0.500000   1.000000       0.784375   \n",
       "20240327_141931 LSTM       0.500000   0.933333       0.700000   \n",
       "\n",
       "                                                                 P-inputs  \n",
       "idTest          P-rnn_tipo acc_bal                                         \n",
       "20230709_112005 LSTM       0.854703  ['imagen', 'dato', 'umb1', 'altura']  \n",
       "20240325_231109 LSTM       0.848849  ['imagen', 'dato', 'umb1', 'altura']  \n",
       "20240326_104321 LSTM       0.845336  ['imagen', 'dato', 'umb1', 'altura']  \n",
       "20240323_184159 LSTM       0.843384  ['imagen', 'dato', 'umb1', 'altura']  \n",
       "20240325_185354 LSTM       0.840262          ['imagen', 'dato', 'altura']  \n",
       "20240326_080400 LSTM       0.837920  ['imagen', 'dato', 'umb1', 'altura']  \n",
       "20240326_182709 LSTM       0.803181  ['imagen', 'dato', 'umb1', 'altura']  \n",
       "20240321_102026 LSTM       0.541667  ['imagen', 'dato', 'umb1', 'altura']  \n",
       "20240321_201753 LSTM       0.541667  ['imagen', 'dato', 'umb1', 'altura']  \n",
       "20240322_080849 LSTM       0.541667  ['imagen', 'dato', 'umb1', 'altura']  \n",
       "20240321_000829 LSTM       0.541667  ['imagen', 'dato', 'umb1', 'altura']  \n",
       "20240322_201902 LSTM       0.540886  ['imagen', 'dato', 'umb1', 'altura']  \n",
       "20240326_162654 LSTM       0.500781  ['imagen', 'dato', 'umb1', 'altura']  \n",
       "20240327_093949 LSTM       0.500000  ['imagen', 'dato', 'umb1', 'altura']  \n",
       "20240325_125743 LSTM       0.500000          ['imagen', 'dato', 'altura']  \n",
       "20240325_145931 LSTM       0.500000            ['imagen', 'dato', 'umb1']  \n",
       "20240325_103457 LSTM       0.500000            ['imagen', 'dato', 'umb1']  \n",
       "20240324_132347 LSTM       0.500000  ['imagen', 'dato', 'umb1', 'altura']  \n",
       "20240323_080503 LSTM       0.500000  ['imagen', 'dato', 'umb1', 'altura']  \n",
       "20240327_141931 LSTM       0.500000  ['imagen', 'dato', 'umb1', 'altura']  "
      ]
     },
     "execution_count": 24,
     "metadata": {},
     "output_type": "execute_result"
    }
   ],
   "source": [
    "bestResults[['idTest', 'epoca', 'TNR', 'TPR', 'acc_bal', 'train_TNR', 'train_TPR',\n",
    "       'train_acc_bal','P-inputs','P-rnn_tipo']].groupby(['idTest','P-rnn_tipo', 'acc_bal']).max().head(20).sort_values('acc_bal', ascending=False)"
   ]
  },
  {
   "cell_type": "code",
   "execution_count": null,
   "id": "33ae6953-dd6e-4aa2-bb1d-e2f3244c67ea",
   "metadata": {},
   "outputs": [],
   "source": []
  },
  {
   "cell_type": "code",
   "execution_count": 19,
   "id": "d879cddf-45a3-4f1c-803f-df5f841a5049",
   "metadata": {},
   "outputs": [
    {
     "name": "stdout",
     "output_type": "stream",
     "text": [
      "Se va rehacer el dataset....\n"
     ]
    },
    {
     "data": {
      "image/png": "[encoded data removed]",
      "text/plain": [
       "<Figure size 432x288 with 1 Axes>"
      ]
     },
     "metadata": {
      "needs_background": "light"
     },
     "output_type": "display_data"
    },
    {
     "name": "stdout",
     "output_type": "stream",
     "text": [
      "HIPERPARAMETROS UNICOS...\n",
      "                           VALORES\n",
      "P-loss         binary_crossentropy\n",
      "P-normLayer                   True\n",
      "P-pre_trained                   []\n",
      "P-dense_tipo                  RELU\n",
      "P-canales                        3\n",
      "1127\n"
     ]
    },
    {
     "data": {
      "text/html": [
       "<div>\n",
       "<style scoped>\n",
       "    .dataframe tbody tr th:only-of-type {\n",
       "        vertical-align: middle;\n",
       "    }\n",
       "\n",
       "    .dataframe tbody tr th {\n",
       "        vertical-align: top;\n",
       "    }\n",
       "\n",
       "    .dataframe thead th {\n",
       "        text-align: right;\n",
       "    }\n",
       "</style>\n",
       "<table border=\"1\" class=\"dataframe\">\n",
       "  <thead>\n",
       "    <tr style=\"text-align: right;\">\n",
       "      <th></th>\n",
       "      <th>idTest</th>\n",
       "      <th>epoca</th>\n",
       "      <th>TNR</th>\n",
       "      <th>TPR</th>\n",
       "      <th>acc_bal</th>\n",
       "      <th>train_TNR</th>\n",
       "      <th>train_TPR</th>\n",
       "      <th>train_acc_bal</th>\n",
       "      <th>FDR_FOR</th>\n",
       "      <th>P-inputs</th>\n",
       "      <th>...</th>\n",
       "      <th>P-droupout</th>\n",
       "      <th>P-maxPool</th>\n",
       "      <th>P-rnn_tipo</th>\n",
       "      <th>P-rnn_units</th>\n",
       "      <th>P-dense_cant</th>\n",
       "      <th>P-dense_units</th>\n",
       "      <th>P-kernel_regularizer</th>\n",
       "      <th>P-dense_droupout</th>\n",
       "      <th>P-tiempos</th>\n",
       "      <th>P-margen</th>\n",
       "    </tr>\n",
       "  </thead>\n",
       "  <tbody>\n",
       "    <tr>\n",
       "      <th>406</th>\n",
       "      <td>20241126_091203</td>\n",
       "      <td>185</td>\n",
       "      <td>1.0</td>\n",
       "      <td>0.822014</td>\n",
       "      <td>0.911007</td>\n",
       "      <td>0.848958</td>\n",
       "      <td>0.85625</td>\n",
       "      <td>0.852604</td>\n",
       "      <td>0.475</td>\n",
       "      <td>['imagen', '_dato', '_umb1', '_altura']</td>\n",
       "      <td>...</td>\n",
       "      <td>[0.1, 0.3, 0.2, 0.2, 0.1, 0.1]</td>\n",
       "      <td>[False, False, False, False, False, False]</td>\n",
       "      <td>CONV3D</td>\n",
       "      <td>16</td>\n",
       "      <td>4</td>\n",
       "      <td>[64, 32, 16, 8]</td>\n",
       "      <td>[0, 0, 0, 0]</td>\n",
       "      <td>[0.3, 0.2, 0.1, 0]</td>\n",
       "      <td>6</td>\n",
       "      <td>12</td>\n",
       "    </tr>\n",
       "    <tr>\n",
       "      <th>598</th>\n",
       "      <td>20241127_080653</td>\n",
       "      <td>177</td>\n",
       "      <td>1.0</td>\n",
       "      <td>0.809524</td>\n",
       "      <td>0.904762</td>\n",
       "      <td>0.865625</td>\n",
       "      <td>0.857292</td>\n",
       "      <td>0.861458</td>\n",
       "      <td>0.476562</td>\n",
       "      <td>['imagen', '_dato', '_umb1', '_altura']</td>\n",
       "      <td>...</td>\n",
       "      <td>[0.1, 0.3, 0.2, 0.2, 0.1, 0.1]</td>\n",
       "      <td>[False, False, False, False, False, False]</td>\n",
       "      <td>CONV3D</td>\n",
       "      <td>16</td>\n",
       "      <td>4</td>\n",
       "      <td>[64, 32, 16, 8]</td>\n",
       "      <td>[0, 0, 0, 0]</td>\n",
       "      <td>[0.3, 0.2, 0.1, 0]</td>\n",
       "      <td>6</td>\n",
       "      <td>12</td>\n",
       "    </tr>\n",
       "    <tr>\n",
       "      <th>4715</th>\n",
       "      <td>20241129_012609</td>\n",
       "      <td>143</td>\n",
       "      <td>0.953488</td>\n",
       "      <td>0.766273</td>\n",
       "      <td>0.859881</td>\n",
       "      <td>0.91129</td>\n",
       "      <td>0.854839</td>\n",
       "      <td>0.883065</td>\n",
       "      <td>0.447976</td>\n",
       "      <td>['imagen', '_dato', '_umb1', '_altura']</td>\n",
       "      <td>...</td>\n",
       "      <td>[0.1, 0.3, 0.2, 0.2, 0.1, 0.1]</td>\n",
       "      <td>[False, False, False, False, False, False]</td>\n",
       "      <td>LSTM</td>\n",
       "      <td>8</td>\n",
       "      <td>4</td>\n",
       "      <td>[64, 32, 16, 8]</td>\n",
       "      <td>[0, 0, 0, 0]</td>\n",
       "      <td>[0.3, 0.2, 0.1, 0]</td>\n",
       "      <td>6</td>\n",
       "      <td>10</td>\n",
       "    </tr>\n",
       "    <tr>\n",
       "      <th>4117</th>\n",
       "      <td>20241030_101704</td>\n",
       "      <td>145</td>\n",
       "      <td>0.911111</td>\n",
       "      <td>0.792616</td>\n",
       "      <td>0.851864</td>\n",
       "      <td>0.892127</td>\n",
       "      <td>0.870793</td>\n",
       "      <td>0.88146</td>\n",
       "      <td>0.470969</td>\n",
       "      <td>['imagen', '_dato', '_umb1', '_altura']</td>\n",
       "      <td>...</td>\n",
       "      <td>[0.1, 0.3, 0.2, 0.2, 0.1, 0.1]</td>\n",
       "      <td>[False, False, False, False, False, False]</td>\n",
       "      <td>LSTM</td>\n",
       "      <td>16</td>\n",
       "      <td>4</td>\n",
       "      <td>[64, 32, 16, 8]</td>\n",
       "      <td>[0, 0, 0, 0]</td>\n",
       "      <td>[0.3, 0.2, 0.1, 0]</td>\n",
       "      <td>6</td>\n",
       "      <td>12</td>\n",
       "    </tr>\n",
       "    <tr>\n",
       "      <th>4311</th>\n",
       "      <td>20241031_131438</td>\n",
       "      <td>139</td>\n",
       "      <td>0.911111</td>\n",
       "      <td>0.71236</td>\n",
       "      <td>0.811735</td>\n",
       "      <td>0.866587</td>\n",
       "      <td>0.844651</td>\n",
       "      <td>0.855619</td>\n",
       "      <td>0.479021</td>\n",
       "      <td>['imagen', '_dato', '_umb1', '_altura']</td>\n",
       "      <td>...</td>\n",
       "      <td>[0.1, 0.3, 0.2, 0.2, 0.1, 0.1]</td>\n",
       "      <td>[False, False, False, False, False, False]</td>\n",
       "      <td>LSTM</td>\n",
       "      <td>8</td>\n",
       "      <td>4</td>\n",
       "      <td>[64, 32, 16, 8]</td>\n",
       "      <td>[0, 0, 0, 0]</td>\n",
       "      <td>[0.3, 0.2, 0.1, 0]</td>\n",
       "      <td>6</td>\n",
       "      <td>12</td>\n",
       "    </tr>\n",
       "  </tbody>\n",
       "</table>\n",
       "<p>5 rows × 27 columns</p>\n",
       "</div>"
      ],
      "text/plain": [
       "               idTest epoca       TNR       TPR   acc_bal train_TNR train_TPR  \\\n",
       "406   20241126_091203   185       1.0  0.822014  0.911007  0.848958   0.85625   \n",
       "598   20241127_080653   177       1.0  0.809524  0.904762  0.865625  0.857292   \n",
       "4715  20241129_012609   143  0.953488  0.766273  0.859881   0.91129  0.854839   \n",
       "4117  20241030_101704   145  0.911111  0.792616  0.851864  0.892127  0.870793   \n",
       "4311  20241031_131438   139  0.911111   0.71236  0.811735  0.866587  0.844651   \n",
       "\n",
       "     train_acc_bal   FDR_FOR                                 P-inputs  ...  \\\n",
       "406       0.852604     0.475  ['imagen', '_dato', '_umb1', '_altura']  ...   \n",
       "598       0.861458  0.476562  ['imagen', '_dato', '_umb1', '_altura']  ...   \n",
       "4715      0.883065  0.447976  ['imagen', '_dato', '_umb1', '_altura']  ...   \n",
       "4117       0.88146  0.470969  ['imagen', '_dato', '_umb1', '_altura']  ...   \n",
       "4311      0.855619  0.479021  ['imagen', '_dato', '_umb1', '_altura']  ...   \n",
       "\n",
       "                          P-droupout  \\\n",
       "406   [0.1, 0.3, 0.2, 0.2, 0.1, 0.1]   \n",
       "598   [0.1, 0.3, 0.2, 0.2, 0.1, 0.1]   \n",
       "4715  [0.1, 0.3, 0.2, 0.2, 0.1, 0.1]   \n",
       "4117  [0.1, 0.3, 0.2, 0.2, 0.1, 0.1]   \n",
       "4311  [0.1, 0.3, 0.2, 0.2, 0.1, 0.1]   \n",
       "\n",
       "                                       P-maxPool P-rnn_tipo P-rnn_units  \\\n",
       "406   [False, False, False, False, False, False]     CONV3D          16   \n",
       "598   [False, False, False, False, False, False]     CONV3D          16   \n",
       "4715  [False, False, False, False, False, False]       LSTM           8   \n",
       "4117  [False, False, False, False, False, False]       LSTM          16   \n",
       "4311  [False, False, False, False, False, False]       LSTM           8   \n",
       "\n",
       "     P-dense_cant    P-dense_units P-kernel_regularizer    P-dense_droupout  \\\n",
       "406             4  [64, 32, 16, 8]         [0, 0, 0, 0]  [0.3, 0.2, 0.1, 0]   \n",
       "598             4  [64, 32, 16, 8]         [0, 0, 0, 0]  [0.3, 0.2, 0.1, 0]   \n",
       "4715            4  [64, 32, 16, 8]         [0, 0, 0, 0]  [0.3, 0.2, 0.1, 0]   \n",
       "4117            4  [64, 32, 16, 8]         [0, 0, 0, 0]  [0.3, 0.2, 0.1, 0]   \n",
       "4311            4  [64, 32, 16, 8]         [0, 0, 0, 0]  [0.3, 0.2, 0.1, 0]   \n",
       "\n",
       "     P-tiempos P-margen  \n",
       "406          6       12  \n",
       "598          6       12  \n",
       "4715         6       10  \n",
       "4117         6       12  \n",
       "4311         6       12  \n",
       "\n",
       "[5 rows x 27 columns]"
      ]
     },
     "execution_count": 19,
     "metadata": {},
     "output_type": "execute_result"
    }
   ],
   "source": [
    "params = {\n",
    "    # General\n",
    "    'resultDir': f'{path_base}/Archivos/Resultados/Clasificacion', # Direcotrio de resultados    \n",
    "    'redoStats': True, #True, #True,        # True : Rehace las estadisticas, caso contrario solo lee los archivos de reportes\n",
    "    'drop'     : ['idTest',['20241126_012437','20240326_224209', '20240326_050743']], #['idTest',['20240326_224209', '20230710_181720']],#['P-rnn_tipo',['LSTM']],    'idTest', ['20230706_044401']\n",
    "    'select'   :['P-dsTName' , ['CLASE_TrainDS_1']], #['P-dsTName' , ['XXXXX_V2']], #['P-dsTName' , ['CLASE_TrainDS_3']],\n",
    "       \n",
    "    # Stats\n",
    "    'model'    : 'Clasificacion',  \n",
    "    'criterio' : 'acc_bal',       # avg_acc_bal Para filtrar el mejor modelo de las epocas en cada test\n",
    "    'ascending': False,           # True = Max segun el criterio\n",
    "    'filterHP' : True,            # Muestra solo las columnas de HP que varia\n",
    "    \n",
    "    # Graficas\n",
    "    'grafica'  : True,\n",
    "    'train'    : False,\n",
    "    'maxNum'   : 6,              # 0 = TODOS los modelos\n",
    "}\n",
    "\n",
    "\n",
    "bestResults = summaryStats(path_base, params)\n",
    "print(len(bestResults))\n",
    "bestResults.head(5)#[(bestResults['TNR']!=0) & (bestResults['TPR']!=0)].head(30)"
   ]
  },
  {
   "cell_type": "code",
   "execution_count": 47,
   "id": "1b5e1b50-6412-4c84-98d1-22b65e7c3b31",
   "metadata": {},
   "outputs": [
    {
     "data": {
      "text/plain": [
       "{'idTest': {1684: '20241028_213953'},\n",
       " 'epoca': {1684: 194},\n",
       " 'TNR': {1684: 0.9111111111111111},\n",
       " 'TPR': {1684: 0.6754414125200642},\n",
       " 'acc_bal': {1684: 0.7932762618155876},\n",
       " 'train_TNR': {1684: 0.9188701923076923},\n",
       " 'train_TPR': {1684: 0.7836538461538461},\n",
       " 'train_acc_bal': {1684: 0.8512620192307692},\n",
       " 'FDR_FOR': {1684: 0.48146207458820645},\n",
       " 'P-inputs': {1684: \"['imagen', '_dato', '_umb1', '_altura']\"},\n",
       " 'P-lr': {1684: 0.001},\n",
       " 'P-batchNorm': {1684: True},\n",
       " 'P-cnn_cant': {1684: 6},\n",
       " 'P-cnn_units': {1684: '[16, 32, 64, 32, 16, 8]'},\n",
       " 'P-droupout': {1684: '[0.1, 0.3, 0.2, 0.2, 0.1, 0.1]'},\n",
       " 'P-maxPool': {1684: '[False, False, False, False, False, False]'},\n",
       " 'P-rnn_tipo': {1684: 'CONV3D'},\n",
       " 'P-rnn_units': {1684: 16},\n",
       " 'P-dense_cant': {1684: 4},\n",
       " 'P-dense_units': {1684: '[64, 32, 16, 8]'},\n",
       " 'P-tiempos': {1684: 6},\n",
       " 'P-margen': {1684: 12},\n",
       " 'P-dense_droupout': {1684: '[0.3, 0.2, 0.1, 0]'},\n",
       " 'P-optimizer': {1684: 'Adam'},\n",
       " 'P-lr_schedule': {1684: 0.0},\n",
       " 'P-kernel_regularizer': {1684: '[0, 0, 0, 0]'},\n",
       " 'P-lr_decay': {1684: 0.94}}"
      ]
     },
     "execution_count": 47,
     "metadata": {},
     "output_type": "execute_result"
    }
   ],
   "source": [
    "bestResults[bestResults['idTest']=='20241028_213953'].to_dict()"
   ]
  },
  {
   "cell_type": "code",
   "execution_count": 41,
   "id": "cad7530a-ee55-43b5-b7fb-b67743693b2d",
   "metadata": {},
   "outputs": [
    {
     "data": {
      "text/plain": [
       "(0.9586260733801717, 0.75)"
      ]
     },
     "execution_count": 41,
     "metadata": {},
     "output_type": "execute_result"
    }
   ],
   "source": [
    "1228/(1228+53),9/12"
   ]
  },
  {
   "cell_type": "code",
   "execution_count": 42,
   "id": "a24547bd-5723-4570-a44f-f31dfe5fa61f",
   "metadata": {},
   "outputs": [
    {
     "data": {
      "text/plain": [
       "0.8543130366900855"
      ]
     },
     "execution_count": 42,
     "metadata": {},
     "output_type": "execute_result"
    }
   ],
   "source": [
    "(0.958626073380171+0.75)/2"
   ]
  },
  {
   "cell_type": "code",
   "execution_count": 43,
   "id": "c30a5dc8-9181-45dd-b80f-e569910dfa60",
   "metadata": {},
   "outputs": [
    {
     "data": {
      "text/html": [
       "<div>\n",
       "<style scoped>\n",
       "    .dataframe tbody tr th:only-of-type {\n",
       "        vertical-align: middle;\n",
       "    }\n",
       "\n",
       "    .dataframe tbody tr th {\n",
       "        vertical-align: top;\n",
       "    }\n",
       "\n",
       "    .dataframe thead th {\n",
       "        text-align: right;\n",
       "    }\n",
       "</style>\n",
       "<table border=\"1\" class=\"dataframe\">\n",
       "  <thead>\n",
       "    <tr style=\"text-align: right;\">\n",
       "      <th></th>\n",
       "      <th></th>\n",
       "      <th>epoca</th>\n",
       "      <th>TNR</th>\n",
       "      <th>TPR</th>\n",
       "      <th>acc_bal</th>\n",
       "      <th>train_TNR</th>\n",
       "      <th>train_TPR</th>\n",
       "      <th>train_acc_bal</th>\n",
       "      <th>P-inputs</th>\n",
       "    </tr>\n",
       "    <tr>\n",
       "      <th>idTest</th>\n",
       "      <th>P-rnn_tipo</th>\n",
       "      <th></th>\n",
       "      <th></th>\n",
       "      <th></th>\n",
       "      <th></th>\n",
       "      <th></th>\n",
       "      <th></th>\n",
       "      <th></th>\n",
       "      <th></th>\n",
       "    </tr>\n",
       "  </thead>\n",
       "  <tbody>\n",
       "    <tr>\n",
       "      <th>20240924_235431</th>\n",
       "      <th>LSTM</th>\n",
       "      <td>62</td>\n",
       "      <td>0.866667</td>\n",
       "      <td>0.589085</td>\n",
       "      <td>0.727876</td>\n",
       "      <td>0.624099</td>\n",
       "      <td>0.667668</td>\n",
       "      <td>0.645883</td>\n",
       "      <td>['imagen', 'dato', 'umb1', 'altura']</td>\n",
       "    </tr>\n",
       "    <tr>\n",
       "      <th>20240927_152142</th>\n",
       "      <th>CONV3D</th>\n",
       "      <td>97</td>\n",
       "      <td>0.733333</td>\n",
       "      <td>0.708507</td>\n",
       "      <td>0.720920</td>\n",
       "      <td>0.256010</td>\n",
       "      <td>0.733774</td>\n",
       "      <td>0.494892</td>\n",
       "      <td>['imagen', 'dato', 'umb1', 'altura']</td>\n",
       "    </tr>\n",
       "    <tr>\n",
       "      <th>20240923_101614</th>\n",
       "      <th>LSTM</th>\n",
       "      <td>129</td>\n",
       "      <td>0.866667</td>\n",
       "      <td>0.573355</td>\n",
       "      <td>0.720011</td>\n",
       "      <td>0.636118</td>\n",
       "      <td>0.617188</td>\n",
       "      <td>0.626653</td>\n",
       "      <td>['imagen', 'dato', 'umb1', 'altura']</td>\n",
       "    </tr>\n",
       "    <tr>\n",
       "      <th>20240926_181051</th>\n",
       "      <th>CONV3D</th>\n",
       "      <td>81</td>\n",
       "      <td>0.866667</td>\n",
       "      <td>0.569181</td>\n",
       "      <td>0.717924</td>\n",
       "      <td>0.292067</td>\n",
       "      <td>0.738281</td>\n",
       "      <td>0.515174</td>\n",
       "      <td>['imagen', 'dato', 'umb1', 'altura']</td>\n",
       "    </tr>\n",
       "    <tr>\n",
       "      <th>20241004_070526</th>\n",
       "      <th>LSTM</th>\n",
       "      <td>27</td>\n",
       "      <td>0.888889</td>\n",
       "      <td>0.546067</td>\n",
       "      <td>0.717478</td>\n",
       "      <td>0.748798</td>\n",
       "      <td>0.490685</td>\n",
       "      <td>0.619742</td>\n",
       "      <td>['imagen', '_dato', '_umb1', '_altura']</td>\n",
       "    </tr>\n",
       "    <tr>\n",
       "      <th>20240926_230328</th>\n",
       "      <th>CONV3D</th>\n",
       "      <td>26</td>\n",
       "      <td>0.955556</td>\n",
       "      <td>0.446228</td>\n",
       "      <td>0.700892</td>\n",
       "      <td>0.655048</td>\n",
       "      <td>0.608774</td>\n",
       "      <td>0.631911</td>\n",
       "      <td>['imagen', 'dato', 'umb1', 'altura']</td>\n",
       "    </tr>\n",
       "    <tr>\n",
       "      <th>20240926_093952</th>\n",
       "      <th>CONV3D</th>\n",
       "      <td>110</td>\n",
       "      <td>0.955556</td>\n",
       "      <td>0.444623</td>\n",
       "      <td>0.700089</td>\n",
       "      <td>0.657452</td>\n",
       "      <td>0.586839</td>\n",
       "      <td>0.622145</td>\n",
       "      <td>['imagen', 'dato', 'umb1', 'altura']</td>\n",
       "    </tr>\n",
       "    <tr>\n",
       "      <th>20240926_012637</th>\n",
       "      <th>CONV3D</th>\n",
       "      <td>46</td>\n",
       "      <td>1.000000</td>\n",
       "      <td>0.088283</td>\n",
       "      <td>0.544141</td>\n",
       "      <td>0.118690</td>\n",
       "      <td>0.981671</td>\n",
       "      <td>0.550180</td>\n",
       "      <td>['imagen', 'dato', 'umb1', 'altura']</td>\n",
       "    </tr>\n",
       "    <tr>\n",
       "      <th>20240924_043001</th>\n",
       "      <th>LSTM</th>\n",
       "      <td>137</td>\n",
       "      <td>0.111111</td>\n",
       "      <td>0.971108</td>\n",
       "      <td>0.541109</td>\n",
       "      <td>0.083233</td>\n",
       "      <td>0.987981</td>\n",
       "      <td>0.535607</td>\n",
       "      <td>['imagen', 'dato', 'umb1', 'altura']</td>\n",
       "    </tr>\n",
       "    <tr>\n",
       "      <th>20241003_044337</th>\n",
       "      <th>CONV3D</th>\n",
       "      <td>33</td>\n",
       "      <td>1.000000</td>\n",
       "      <td>0.020225</td>\n",
       "      <td>0.510112</td>\n",
       "      <td>0.995192</td>\n",
       "      <td>0.012320</td>\n",
       "      <td>0.503756</td>\n",
       "      <td>['imagen', 'dato', 'umb1', 'altura']</td>\n",
       "    </tr>\n",
       "    <tr>\n",
       "      <th>20240922_223935</th>\n",
       "      <th>LSTM</th>\n",
       "      <td>42</td>\n",
       "      <td>1.000000</td>\n",
       "      <td>0.009631</td>\n",
       "      <td>0.504815</td>\n",
       "      <td>0.611779</td>\n",
       "      <td>0.402644</td>\n",
       "      <td>0.507212</td>\n",
       "      <td>['imagen', 'dato', 'umb1', 'altura']</td>\n",
       "    </tr>\n",
       "    <tr>\n",
       "      <th>20241002_214602</th>\n",
       "      <th>CONV3D</th>\n",
       "      <td>5</td>\n",
       "      <td>1.000000</td>\n",
       "      <td>0.008347</td>\n",
       "      <td>0.504173</td>\n",
       "      <td>0.732572</td>\n",
       "      <td>0.879207</td>\n",
       "      <td>0.805889</td>\n",
       "      <td>['imagen', 'dato', 'umb1', 'altura']</td>\n",
       "    </tr>\n",
       "    <tr>\n",
       "      <th>20240925_221222</th>\n",
       "      <th>CONV3D</th>\n",
       "      <td>8</td>\n",
       "      <td>1.000000</td>\n",
       "      <td>0.007705</td>\n",
       "      <td>0.503852</td>\n",
       "      <td>0.520132</td>\n",
       "      <td>0.444111</td>\n",
       "      <td>0.482121</td>\n",
       "      <td>['imagen', 'dato', 'umb1', 'altura']</td>\n",
       "    </tr>\n",
       "    <tr>\n",
       "      <th>20241004_005025</th>\n",
       "      <th>CONV3D</th>\n",
       "      <td>50</td>\n",
       "      <td>1.000000</td>\n",
       "      <td>0.000000</td>\n",
       "      <td>0.500000</td>\n",
       "      <td>0.786659</td>\n",
       "      <td>1.000000</td>\n",
       "      <td>0.875751</td>\n",
       "      <td>['imagen', '_dato', '_umb1', '_altura']</td>\n",
       "    </tr>\n",
       "    <tr>\n",
       "      <th>20241004_211425</th>\n",
       "      <th>CONV3D</th>\n",
       "      <td>100</td>\n",
       "      <td>1.000000</td>\n",
       "      <td>0.000000</td>\n",
       "      <td>0.500000</td>\n",
       "      <td>0.770733</td>\n",
       "      <td>0.984675</td>\n",
       "      <td>0.877704</td>\n",
       "      <td>['imagen', '_dato', '_umb1', '_altura']</td>\n",
       "    </tr>\n",
       "    <tr>\n",
       "      <th>20240922_220825</th>\n",
       "      <th>CONV3D</th>\n",
       "      <td>0</td>\n",
       "      <td>1.000000</td>\n",
       "      <td>0.000000</td>\n",
       "      <td>0.500000</td>\n",
       "      <td>0.731370</td>\n",
       "      <td>1.000000</td>\n",
       "      <td>0.865685</td>\n",
       "      <td>['imagen', 'dato', 'umb1', 'altura']</td>\n",
       "    </tr>\n",
       "    <tr>\n",
       "      <th>20241003_183311</th>\n",
       "      <th>CONV3D</th>\n",
       "      <td>50</td>\n",
       "      <td>1.000000</td>\n",
       "      <td>0.000000</td>\n",
       "      <td>0.500000</td>\n",
       "      <td>1.000000</td>\n",
       "      <td>0.997596</td>\n",
       "      <td>0.888972</td>\n",
       "      <td>['imagen', '_dato', '_umb1', '_altura']</td>\n",
       "    </tr>\n",
       "    <tr>\n",
       "      <th>20240928_143843</th>\n",
       "      <th>CONV3D</th>\n",
       "      <td>50</td>\n",
       "      <td>1.000000</td>\n",
       "      <td>0.000000</td>\n",
       "      <td>0.500000</td>\n",
       "      <td>1.000000</td>\n",
       "      <td>0.980769</td>\n",
       "      <td>0.942007</td>\n",
       "      <td>['imagen', 'dato', 'umb1', 'altura']</td>\n",
       "    </tr>\n",
       "    <tr>\n",
       "      <th>20240928_081740</th>\n",
       "      <th>CONV3D</th>\n",
       "      <td>50</td>\n",
       "      <td>1.000000</td>\n",
       "      <td>0.000000</td>\n",
       "      <td>0.500000</td>\n",
       "      <td>1.000000</td>\n",
       "      <td>1.000000</td>\n",
       "      <td>0.818810</td>\n",
       "      <td>['imagen', 'dato', 'umb1', 'altura']</td>\n",
       "    </tr>\n",
       "    <tr>\n",
       "      <th>20241005_092241</th>\n",
       "      <th>CONV3D</th>\n",
       "      <td>103</td>\n",
       "      <td>1.000000</td>\n",
       "      <td>1.000000</td>\n",
       "      <td>0.500000</td>\n",
       "      <td>0.828125</td>\n",
       "      <td>1.000000</td>\n",
       "      <td>0.858474</td>\n",
       "      <td>['imagen', '_dato', '_umb1', '_altura']</td>\n",
       "    </tr>\n",
       "  </tbody>\n",
       "</table>\n",
       "</div>"
      ],
      "text/plain": [
       "                            epoca       TNR       TPR   acc_bal  train_TNR  \\\n",
       "idTest          P-rnn_tipo                                                   \n",
       "20240924_235431 LSTM           62  0.866667  0.589085  0.727876   0.624099   \n",
       "20240927_152142 CONV3D         97  0.733333  0.708507  0.720920   0.256010   \n",
       "20240923_101614 LSTM          129  0.866667  0.573355  0.720011   0.636118   \n",
       "20240926_181051 CONV3D         81  0.866667  0.569181  0.717924   0.292067   \n",
       "20241004_070526 LSTM           27  0.888889  0.546067  0.717478   0.748798   \n",
       "20240926_230328 CONV3D         26  0.955556  0.446228  0.700892   0.655048   \n",
       "20240926_093952 CONV3D        110  0.955556  0.444623  0.700089   0.657452   \n",
       "20240926_012637 CONV3D         46  1.000000  0.088283  0.544141   0.118690   \n",
       "20240924_043001 LSTM          137  0.111111  0.971108  0.541109   0.083233   \n",
       "20241003_044337 CONV3D         33  1.000000  0.020225  0.510112   0.995192   \n",
       "20240922_223935 LSTM           42  1.000000  0.009631  0.504815   0.611779   \n",
       "20241002_214602 CONV3D          5  1.000000  0.008347  0.504173   0.732572   \n",
       "20240925_221222 CONV3D          8  1.000000  0.007705  0.503852   0.520132   \n",
       "20241004_005025 CONV3D         50  1.000000  0.000000  0.500000   0.786659   \n",
       "20241004_211425 CONV3D        100  1.000000  0.000000  0.500000   0.770733   \n",
       "20240922_220825 CONV3D          0  1.000000  0.000000  0.500000   0.731370   \n",
       "20241003_183311 CONV3D         50  1.000000  0.000000  0.500000   1.000000   \n",
       "20240928_143843 CONV3D         50  1.000000  0.000000  0.500000   1.000000   \n",
       "20240928_081740 CONV3D         50  1.000000  0.000000  0.500000   1.000000   \n",
       "20241005_092241 CONV3D        103  1.000000  1.000000  0.500000   0.828125   \n",
       "\n",
       "                            train_TPR  train_acc_bal  \\\n",
       "idTest          P-rnn_tipo                             \n",
       "20240924_235431 LSTM         0.667668       0.645883   \n",
       "20240927_152142 CONV3D       0.733774       0.494892   \n",
       "20240923_101614 LSTM         0.617188       0.626653   \n",
       "20240926_181051 CONV3D       0.738281       0.515174   \n",
       "20241004_070526 LSTM         0.490685       0.619742   \n",
       "20240926_230328 CONV3D       0.608774       0.631911   \n",
       "20240926_093952 CONV3D       0.586839       0.622145   \n",
       "20240926_012637 CONV3D       0.981671       0.550180   \n",
       "20240924_043001 LSTM         0.987981       0.535607   \n",
       "20241003_044337 CONV3D       0.012320       0.503756   \n",
       "20240922_223935 LSTM         0.402644       0.507212   \n",
       "20241002_214602 CONV3D       0.879207       0.805889   \n",
       "20240925_221222 CONV3D       0.444111       0.482121   \n",
       "20241004_005025 CONV3D       1.000000       0.875751   \n",
       "20241004_211425 CONV3D       0.984675       0.877704   \n",
       "20240922_220825 CONV3D       1.000000       0.865685   \n",
       "20241003_183311 CONV3D       0.997596       0.888972   \n",
       "20240928_143843 CONV3D       0.980769       0.942007   \n",
       "20240928_081740 CONV3D       1.000000       0.818810   \n",
       "20241005_092241 CONV3D       1.000000       0.858474   \n",
       "\n",
       "                                                           P-inputs  \n",
       "idTest          P-rnn_tipo                                           \n",
       "20240924_235431 LSTM           ['imagen', 'dato', 'umb1', 'altura']  \n",
       "20240927_152142 CONV3D         ['imagen', 'dato', 'umb1', 'altura']  \n",
       "20240923_101614 LSTM           ['imagen', 'dato', 'umb1', 'altura']  \n",
       "20240926_181051 CONV3D         ['imagen', 'dato', 'umb1', 'altura']  \n",
       "20241004_070526 LSTM        ['imagen', '_dato', '_umb1', '_altura']  \n",
       "20240926_230328 CONV3D         ['imagen', 'dato', 'umb1', 'altura']  \n",
       "20240926_093952 CONV3D         ['imagen', 'dato', 'umb1', 'altura']  \n",
       "20240926_012637 CONV3D         ['imagen', 'dato', 'umb1', 'altura']  \n",
       "20240924_043001 LSTM           ['imagen', 'dato', 'umb1', 'altura']  \n",
       "20241003_044337 CONV3D         ['imagen', 'dato', 'umb1', 'altura']  \n",
       "20240922_223935 LSTM           ['imagen', 'dato', 'umb1', 'altura']  \n",
       "20241002_214602 CONV3D         ['imagen', 'dato', 'umb1', 'altura']  \n",
       "20240925_221222 CONV3D         ['imagen', 'dato', 'umb1', 'altura']  \n",
       "20241004_005025 CONV3D      ['imagen', '_dato', '_umb1', '_altura']  \n",
       "20241004_211425 CONV3D      ['imagen', '_dato', '_umb1', '_altura']  \n",
       "20240922_220825 CONV3D         ['imagen', 'dato', 'umb1', 'altura']  \n",
       "20241003_183311 CONV3D      ['imagen', '_dato', '_umb1', '_altura']  \n",
       "20240928_143843 CONV3D         ['imagen', 'dato', 'umb1', 'altura']  \n",
       "20240928_081740 CONV3D         ['imagen', 'dato', 'umb1', 'altura']  \n",
       "20241005_092241 CONV3D      ['imagen', '_dato', '_umb1', '_altura']  "
      ]
     },
     "execution_count": 43,
     "metadata": {},
     "output_type": "execute_result"
    }
   ],
   "source": [
    "bestResults[['idTest', 'epoca', 'TNR', 'TPR', 'acc_bal', 'train_TNR', 'train_TPR',\n",
    "       'train_acc_bal','P-inputs','P-rnn_tipo']].groupby(['idTest','P-rnn_tipo']).max().head(20).sort_values('acc_bal', ascending=False)"
   ]
  },
  {
   "cell_type": "code",
   "execution_count": null,
   "id": "8be4c9df-c169-4525-a012-5b8d8d1d8e77",
   "metadata": {},
   "outputs": [],
   "source": []
  },
  {
   "cell_type": "code",
   "execution_count": 22,
   "id": "257a71c2-b9f0-4651-9682-1e8c5bf9d45f",
   "metadata": {
    "collapsed": true,
    "jupyter": {
     "outputs_hidden": true
    },
    "tags": []
   },
   "outputs": [
    {
     "name": "stdout",
     "output_type": "stream",
     "text": [
      "Se va rehacer el dataset....\n"
     ]
    },
    {
     "data": {
      "image/png": "[encoded data removed]",
      "text/plain": [
       "<Figure size 432x288 with 1 Axes>"
      ]
     },
     "metadata": {
      "needs_background": "light"
     },
     "output_type": "display_data"
    },
    {
     "name": "stdout",
     "output_type": "stream",
     "text": [
      "HIPERPARAMETROS UNICOS...\n",
      "                           VALORES\n",
      "P-loss         binary_crossentropy\n",
      "P-normLayer                   True\n",
      "P-pre_trained                   []\n",
      "P-dense_tipo                  RELU\n",
      "P-canales                        3\n",
      "1122\n"
     ]
    },
    {
     "data": {
      "text/html": [
       "<div>\n",
       "<style scoped>\n",
       "    .dataframe tbody tr th:only-of-type {\n",
       "        vertical-align: middle;\n",
       "    }\n",
       "\n",
       "    .dataframe tbody tr th {\n",
       "        vertical-align: top;\n",
       "    }\n",
       "\n",
       "    .dataframe thead th {\n",
       "        text-align: right;\n",
       "    }\n",
       "</style>\n",
       "<table border=\"1\" class=\"dataframe\">\n",
       "  <thead>\n",
       "    <tr style=\"text-align: right;\">\n",
       "      <th></th>\n",
       "      <th>idTest</th>\n",
       "      <th>epoca</th>\n",
       "      <th>TNR</th>\n",
       "      <th>TPR</th>\n",
       "      <th>acc_bal</th>\n",
       "      <th>train_TNR</th>\n",
       "      <th>train_TPR</th>\n",
       "      <th>train_acc_bal</th>\n",
       "      <th>FDR_FOR</th>\n",
       "      <th>P-inputs</th>\n",
       "      <th>...</th>\n",
       "      <th>P-rnn_units</th>\n",
       "      <th>P-dense_cant</th>\n",
       "      <th>P-dense_units</th>\n",
       "      <th>P-tiempos</th>\n",
       "      <th>P-margen</th>\n",
       "      <th>P-dense_droupout</th>\n",
       "      <th>P-optimizer</th>\n",
       "      <th>P-lr_schedule</th>\n",
       "      <th>P-kernel_regularizer</th>\n",
       "      <th>P-lr_decay</th>\n",
       "    </tr>\n",
       "  </thead>\n",
       "  <tbody>\n",
       "    <tr>\n",
       "      <th>3496</th>\n",
       "      <td>20241030_101704</td>\n",
       "      <td>145</td>\n",
       "      <td>0.911111</td>\n",
       "      <td>0.792616</td>\n",
       "      <td>0.851864</td>\n",
       "      <td>0.892127</td>\n",
       "      <td>0.870793</td>\n",
       "      <td>0.88146</td>\n",
       "      <td>0.470969</td>\n",
       "      <td>['imagen', '_dato', '_umb1', '_altura']</td>\n",
       "      <td>...</td>\n",
       "      <td>16</td>\n",
       "      <td>4</td>\n",
       "      <td>[64, 32, 16, 8]</td>\n",
       "      <td>6</td>\n",
       "      <td>12</td>\n",
       "      <td>[0.3, 0.2, 0.1, 0]</td>\n",
       "      <td>Adam</td>\n",
       "      <td>0.0</td>\n",
       "      <td>[0, 0, 0, 0]</td>\n",
       "      <td>0.94</td>\n",
       "    </tr>\n",
       "    <tr>\n",
       "      <th>3690</th>\n",
       "      <td>20241031_131438</td>\n",
       "      <td>139</td>\n",
       "      <td>0.911111</td>\n",
       "      <td>0.71236</td>\n",
       "      <td>0.811735</td>\n",
       "      <td>0.866587</td>\n",
       "      <td>0.844651</td>\n",
       "      <td>0.855619</td>\n",
       "      <td>0.479021</td>\n",
       "      <td>['imagen', '_dato', '_umb1', '_altura']</td>\n",
       "      <td>...</td>\n",
       "      <td>8</td>\n",
       "      <td>4</td>\n",
       "      <td>[64, 32, 16, 8]</td>\n",
       "      <td>6</td>\n",
       "      <td>12</td>\n",
       "      <td>[0.3, 0.2, 0.1, 0]</td>\n",
       "      <td>Adam</td>\n",
       "      <td>0.0</td>\n",
       "      <td>[0, 0, 0, 0]</td>\n",
       "      <td>0.94</td>\n",
       "    </tr>\n",
       "    <tr>\n",
       "      <th>1684</th>\n",
       "      <td>20241028_213953</td>\n",
       "      <td>194</td>\n",
       "      <td>0.911111</td>\n",
       "      <td>0.675441</td>\n",
       "      <td>0.793276</td>\n",
       "      <td>0.91887</td>\n",
       "      <td>0.783654</td>\n",
       "      <td>0.851262</td>\n",
       "      <td>0.481462</td>\n",
       "      <td>['imagen', '_dato', '_umb1', '_altura']</td>\n",
       "      <td>...</td>\n",
       "      <td>16</td>\n",
       "      <td>4</td>\n",
       "      <td>[64, 32, 16, 8]</td>\n",
       "      <td>6</td>\n",
       "      <td>12</td>\n",
       "      <td>[0.3, 0.2, 0.1, 0]</td>\n",
       "      <td>Adam</td>\n",
       "      <td>0.0</td>\n",
       "      <td>[0, 0, 0, 0]</td>\n",
       "      <td>0.94</td>\n",
       "    </tr>\n",
       "    <tr>\n",
       "      <th>1451</th>\n",
       "      <td>20241027_124016</td>\n",
       "      <td>161</td>\n",
       "      <td>0.911111</td>\n",
       "      <td>0.663242</td>\n",
       "      <td>0.787177</td>\n",
       "      <td>0.920072</td>\n",
       "      <td>0.688101</td>\n",
       "      <td>0.804087</td>\n",
       "      <td>0.482159</td>\n",
       "      <td>['imagen', '_dato', '_umb1', '_altura']</td>\n",
       "      <td>...</td>\n",
       "      <td>16</td>\n",
       "      <td>4</td>\n",
       "      <td>[64, 32, 16, 8]</td>\n",
       "      <td>6</td>\n",
       "      <td>12</td>\n",
       "      <td>[0.3, 0.2, 0.1, 0]</td>\n",
       "      <td>Adam</td>\n",
       "      <td>0.0</td>\n",
       "      <td>[0, 0, 0, 0]</td>\n",
       "      <td>0.94</td>\n",
       "    </tr>\n",
       "    <tr>\n",
       "      <th>3042</th>\n",
       "      <td>20241018_170233</td>\n",
       "      <td>91</td>\n",
       "      <td>0.911111</td>\n",
       "      <td>0.599037</td>\n",
       "      <td>0.755074</td>\n",
       "      <td>0.838942</td>\n",
       "      <td>0.601262</td>\n",
       "      <td>0.720102</td>\n",
       "      <td>0.485178</td>\n",
       "      <td>['imagen', '_dato', '_umb1', '_altura']</td>\n",
       "      <td>...</td>\n",
       "      <td>16</td>\n",
       "      <td>4</td>\n",
       "      <td>[64, 32, 16, 8]</td>\n",
       "      <td>6</td>\n",
       "      <td>8</td>\n",
       "      <td>[0.3, 0.2, 0.1, 0]</td>\n",
       "      <td>Adam</td>\n",
       "      <td>0.1</td>\n",
       "      <td>[0, 0, 0, 0]</td>\n",
       "      <td>0.0</td>\n",
       "    </tr>\n",
       "    <tr>\n",
       "      <th>3039</th>\n",
       "      <td>20241018_170233</td>\n",
       "      <td>88</td>\n",
       "      <td>0.911111</td>\n",
       "      <td>0.599037</td>\n",
       "      <td>0.755074</td>\n",
       "      <td>0.836839</td>\n",
       "      <td>0.597356</td>\n",
       "      <td>0.717097</td>\n",
       "      <td>0.485178</td>\n",
       "      <td>['imagen', '_dato', '_umb1', '_altura']</td>\n",
       "      <td>...</td>\n",
       "      <td>16</td>\n",
       "      <td>4</td>\n",
       "      <td>[64, 32, 16, 8]</td>\n",
       "      <td>6</td>\n",
       "      <td>8</td>\n",
       "      <td>[0.3, 0.2, 0.1, 0]</td>\n",
       "      <td>Adam</td>\n",
       "      <td>0.1</td>\n",
       "      <td>[0, 0, 0, 0]</td>\n",
       "      <td>0.0</td>\n",
       "    </tr>\n",
       "    <tr>\n",
       "      <th>3040</th>\n",
       "      <td>20241018_170233</td>\n",
       "      <td>89</td>\n",
       "      <td>0.911111</td>\n",
       "      <td>0.599037</td>\n",
       "      <td>0.755074</td>\n",
       "      <td>0.836839</td>\n",
       "      <td>0.598558</td>\n",
       "      <td>0.717698</td>\n",
       "      <td>0.485178</td>\n",
       "      <td>['imagen', '_dato', '_umb1', '_altura']</td>\n",
       "      <td>...</td>\n",
       "      <td>16</td>\n",
       "      <td>4</td>\n",
       "      <td>[64, 32, 16, 8]</td>\n",
       "      <td>6</td>\n",
       "      <td>8</td>\n",
       "      <td>[0.3, 0.2, 0.1, 0]</td>\n",
       "      <td>Adam</td>\n",
       "      <td>0.1</td>\n",
       "      <td>[0, 0, 0, 0]</td>\n",
       "      <td>0.0</td>\n",
       "    </tr>\n",
       "    <tr>\n",
       "      <th>4381</th>\n",
       "      <td>20240924_235431</td>\n",
       "      <td>62</td>\n",
       "      <td>0.866667</td>\n",
       "      <td>0.589085</td>\n",
       "      <td>0.727876</td>\n",
       "      <td>0.624099</td>\n",
       "      <td>0.667668</td>\n",
       "      <td>0.645883</td>\n",
       "      <td>0.486846</td>\n",
       "      <td>['imagen', 'dato', 'umb1', 'altura']</td>\n",
       "      <td>...</td>\n",
       "      <td>16</td>\n",
       "      <td>4</td>\n",
       "      <td>[128, 64, 32, 16]</td>\n",
       "      <td>6</td>\n",
       "      <td>12</td>\n",
       "      <td>0</td>\n",
       "      <td>0</td>\n",
       "      <td>0.0</td>\n",
       "      <td>0</td>\n",
       "      <td>0.0</td>\n",
       "    </tr>\n",
       "    <tr>\n",
       "      <th>2367</th>\n",
       "      <td>20240927_152142</td>\n",
       "      <td>97</td>\n",
       "      <td>0.733333</td>\n",
       "      <td>0.708507</td>\n",
       "      <td>0.72092</td>\n",
       "      <td>0.25601</td>\n",
       "      <td>0.733774</td>\n",
       "      <td>0.494892</td>\n",
       "      <td>0.485169</td>\n",
       "      <td>['imagen', 'dato', 'umb1', 'altura']</td>\n",
       "      <td>...</td>\n",
       "      <td>16</td>\n",
       "      <td>4</td>\n",
       "      <td>[128, 64, 32, 16]</td>\n",
       "      <td>6</td>\n",
       "      <td>8</td>\n",
       "      <td>0</td>\n",
       "      <td>0</td>\n",
       "      <td>0.0</td>\n",
       "      <td>0</td>\n",
       "      <td>0.0</td>\n",
       "    </tr>\n",
       "    <tr>\n",
       "      <th>4152</th>\n",
       "      <td>20240923_101614</td>\n",
       "      <td>129</td>\n",
       "      <td>0.866667</td>\n",
       "      <td>0.573355</td>\n",
       "      <td>0.720011</td>\n",
       "      <td>0.636118</td>\n",
       "      <td>0.617188</td>\n",
       "      <td>0.626653</td>\n",
       "      <td>0.48742</td>\n",
       "      <td>['imagen', 'dato', 'umb1', 'altura']</td>\n",
       "      <td>...</td>\n",
       "      <td>16</td>\n",
       "      <td>4</td>\n",
       "      <td>[128, 64, 32, 16]</td>\n",
       "      <td>6</td>\n",
       "      <td>8</td>\n",
       "      <td>0</td>\n",
       "      <td>0</td>\n",
       "      <td>0.0</td>\n",
       "      <td>0</td>\n",
       "      <td>0.0</td>\n",
       "    </tr>\n",
       "    <tr>\n",
       "      <th>2129</th>\n",
       "      <td>20240926_181051</td>\n",
       "      <td>81</td>\n",
       "      <td>0.866667</td>\n",
       "      <td>0.569181</td>\n",
       "      <td>0.717924</td>\n",
       "      <td>0.292067</td>\n",
       "      <td>0.738281</td>\n",
       "      <td>0.515174</td>\n",
       "      <td>0.487566</td>\n",
       "      <td>['imagen', 'dato', 'umb1', 'altura']</td>\n",
       "      <td>...</td>\n",
       "      <td>16</td>\n",
       "      <td>4</td>\n",
       "      <td>[128, 64, 32, 16]</td>\n",
       "      <td>3</td>\n",
       "      <td>12</td>\n",
       "      <td>0</td>\n",
       "      <td>0</td>\n",
       "      <td>0.0</td>\n",
       "      <td>0</td>\n",
       "      <td>0.0</td>\n",
       "    </tr>\n",
       "    <tr>\n",
       "      <th>3878</th>\n",
       "      <td>20241004_070526</td>\n",
       "      <td>27</td>\n",
       "      <td>0.888889</td>\n",
       "      <td>0.546067</td>\n",
       "      <td>0.717478</td>\n",
       "      <td>0.748798</td>\n",
       "      <td>0.490685</td>\n",
       "      <td>0.619742</td>\n",
       "      <td>0.48771</td>\n",
       "      <td>['imagen', '_dato', '_umb1', '_altura']</td>\n",
       "      <td>...</td>\n",
       "      <td>16</td>\n",
       "      <td>4</td>\n",
       "      <td>[128, 64, 32, 16]</td>\n",
       "      <td>6</td>\n",
       "      <td>6</td>\n",
       "      <td>[0.2, 0.3, 0.1, 0]</td>\n",
       "      <td>0</td>\n",
       "      <td>0.0</td>\n",
       "      <td>0</td>\n",
       "      <td>0.0</td>\n",
       "    </tr>\n",
       "    <tr>\n",
       "      <th>2568</th>\n",
       "      <td>20241015_050036</td>\n",
       "      <td>17</td>\n",
       "      <td>0.977778</td>\n",
       "      <td>0.430819</td>\n",
       "      <td>0.704298</td>\n",
       "      <td>0.774339</td>\n",
       "      <td>0.43149</td>\n",
       "      <td>0.602915</td>\n",
       "      <td>0.488264</td>\n",
       "      <td>['imagen', '_dato', '_umb1', '_altura']</td>\n",
       "      <td>...</td>\n",
       "      <td>16</td>\n",
       "      <td>4</td>\n",
       "      <td>[64, 32, 16, 8]</td>\n",
       "      <td>6</td>\n",
       "      <td>6</td>\n",
       "      <td>[0.3, 0.2, 0.1, 0]</td>\n",
       "      <td>Adam</td>\n",
       "      <td>0.2</td>\n",
       "      <td>[0, 0, 0, 0]</td>\n",
       "      <td>0.0</td>\n",
       "    </tr>\n",
       "    <tr>\n",
       "      <th>2162</th>\n",
       "      <td>20240926_230328</td>\n",
       "      <td>26</td>\n",
       "      <td>0.955556</td>\n",
       "      <td>0.446228</td>\n",
       "      <td>0.700892</td>\n",
       "      <td>0.655048</td>\n",
       "      <td>0.608774</td>\n",
       "      <td>0.631911</td>\n",
       "      <td>0.488558</td>\n",
       "      <td>['imagen', 'dato', 'umb1', 'altura']</td>\n",
       "      <td>...</td>\n",
       "      <td>16</td>\n",
       "      <td>4</td>\n",
       "      <td>[128, 64, 32, 16]</td>\n",
       "      <td>6</td>\n",
       "      <td>8</td>\n",
       "      <td>0</td>\n",
       "      <td>0</td>\n",
       "      <td>0.0</td>\n",
       "      <td>0</td>\n",
       "      <td>0.0</td>\n",
       "    </tr>\n",
       "    <tr>\n",
       "      <th>2008</th>\n",
       "      <td>20240926_093952</td>\n",
       "      <td>110</td>\n",
       "      <td>0.955556</td>\n",
       "      <td>0.444623</td>\n",
       "      <td>0.700089</td>\n",
       "      <td>0.657452</td>\n",
       "      <td>0.586839</td>\n",
       "      <td>0.622145</td>\n",
       "      <td>0.488595</td>\n",
       "      <td>['imagen', 'dato', 'umb1', 'altura']</td>\n",
       "      <td>...</td>\n",
       "      <td>16</td>\n",
       "      <td>4</td>\n",
       "      <td>[128, 64, 32, 16]</td>\n",
       "      <td>3</td>\n",
       "      <td>12</td>\n",
       "      <td>0</td>\n",
       "      <td>0</td>\n",
       "      <td>0.0</td>\n",
       "      <td>0</td>\n",
       "      <td>0.0</td>\n",
       "    </tr>\n",
       "  </tbody>\n",
       "</table>\n",
       "<p>15 rows × 27 columns</p>\n",
       "</div>"
      ],
      "text/plain": [
       "               idTest epoca       TNR       TPR   acc_bal train_TNR train_TPR  \\\n",
       "3496  20241030_101704   145  0.911111  0.792616  0.851864  0.892127  0.870793   \n",
       "3690  20241031_131438   139  0.911111   0.71236  0.811735  0.866587  0.844651   \n",
       "1684  20241028_213953   194  0.911111  0.675441  0.793276   0.91887  0.783654   \n",
       "1451  20241027_124016   161  0.911111  0.663242  0.787177  0.920072  0.688101   \n",
       "3042  20241018_170233    91  0.911111  0.599037  0.755074  0.838942  0.601262   \n",
       "3039  20241018_170233    88  0.911111  0.599037  0.755074  0.836839  0.597356   \n",
       "3040  20241018_170233    89  0.911111  0.599037  0.755074  0.836839  0.598558   \n",
       "4381  20240924_235431    62  0.866667  0.589085  0.727876  0.624099  0.667668   \n",
       "2367  20240927_152142    97  0.733333  0.708507   0.72092   0.25601  0.733774   \n",
       "4152  20240923_101614   129  0.866667  0.573355  0.720011  0.636118  0.617188   \n",
       "2129  20240926_181051    81  0.866667  0.569181  0.717924  0.292067  0.738281   \n",
       "3878  20241004_070526    27  0.888889  0.546067  0.717478  0.748798  0.490685   \n",
       "2568  20241015_050036    17  0.977778  0.430819  0.704298  0.774339   0.43149   \n",
       "2162  20240926_230328    26  0.955556  0.446228  0.700892  0.655048  0.608774   \n",
       "2008  20240926_093952   110  0.955556  0.444623  0.700089  0.657452  0.586839   \n",
       "\n",
       "     train_acc_bal   FDR_FOR                                 P-inputs  ...  \\\n",
       "3496       0.88146  0.470969  ['imagen', '_dato', '_umb1', '_altura']  ...   \n",
       "3690      0.855619  0.479021  ['imagen', '_dato', '_umb1', '_altura']  ...   \n",
       "1684      0.851262  0.481462  ['imagen', '_dato', '_umb1', '_altura']  ...   \n",
       "1451      0.804087  0.482159  ['imagen', '_dato', '_umb1', '_altura']  ...   \n",
       "3042      0.720102  0.485178  ['imagen', '_dato', '_umb1', '_altura']  ...   \n",
       "3039      0.717097  0.485178  ['imagen', '_dato', '_umb1', '_altura']  ...   \n",
       "3040      0.717698  0.485178  ['imagen', '_dato', '_umb1', '_altura']  ...   \n",
       "4381      0.645883  0.486846     ['imagen', 'dato', 'umb1', 'altura']  ...   \n",
       "2367      0.494892  0.485169     ['imagen', 'dato', 'umb1', 'altura']  ...   \n",
       "4152      0.626653   0.48742     ['imagen', 'dato', 'umb1', 'altura']  ...   \n",
       "2129      0.515174  0.487566     ['imagen', 'dato', 'umb1', 'altura']  ...   \n",
       "3878      0.619742   0.48771  ['imagen', '_dato', '_umb1', '_altura']  ...   \n",
       "2568      0.602915  0.488264  ['imagen', '_dato', '_umb1', '_altura']  ...   \n",
       "2162      0.631911  0.488558     ['imagen', 'dato', 'umb1', 'altura']  ...   \n",
       "2008      0.622145  0.488595     ['imagen', 'dato', 'umb1', 'altura']  ...   \n",
       "\n",
       "     P-rnn_units P-dense_cant      P-dense_units P-tiempos P-margen  \\\n",
       "3496          16            4    [64, 32, 16, 8]         6       12   \n",
       "3690           8            4    [64, 32, 16, 8]         6       12   \n",
       "1684          16            4    [64, 32, 16, 8]         6       12   \n",
       "1451          16            4    [64, 32, 16, 8]         6       12   \n",
       "3042          16            4    [64, 32, 16, 8]         6        8   \n",
       "3039          16            4    [64, 32, 16, 8]         6        8   \n",
       "3040          16            4    [64, 32, 16, 8]         6        8   \n",
       "4381          16            4  [128, 64, 32, 16]         6       12   \n",
       "2367          16            4  [128, 64, 32, 16]         6        8   \n",
       "4152          16            4  [128, 64, 32, 16]         6        8   \n",
       "2129          16            4  [128, 64, 32, 16]         3       12   \n",
       "3878          16            4  [128, 64, 32, 16]         6        6   \n",
       "2568          16            4    [64, 32, 16, 8]         6        6   \n",
       "2162          16            4  [128, 64, 32, 16]         6        8   \n",
       "2008          16            4  [128, 64, 32, 16]         3       12   \n",
       "\n",
       "        P-dense_droupout P-optimizer P-lr_schedule P-kernel_regularizer  \\\n",
       "3496  [0.3, 0.2, 0.1, 0]        Adam           0.0         [0, 0, 0, 0]   \n",
       "3690  [0.3, 0.2, 0.1, 0]        Adam           0.0         [0, 0, 0, 0]   \n",
       "1684  [0.3, 0.2, 0.1, 0]        Adam           0.0         [0, 0, 0, 0]   \n",
       "1451  [0.3, 0.2, 0.1, 0]        Adam           0.0         [0, 0, 0, 0]   \n",
       "3042  [0.3, 0.2, 0.1, 0]        Adam           0.1         [0, 0, 0, 0]   \n",
       "3039  [0.3, 0.2, 0.1, 0]        Adam           0.1         [0, 0, 0, 0]   \n",
       "3040  [0.3, 0.2, 0.1, 0]        Adam           0.1         [0, 0, 0, 0]   \n",
       "4381                   0           0           0.0                    0   \n",
       "2367                   0           0           0.0                    0   \n",
       "4152                   0           0           0.0                    0   \n",
       "2129                   0           0           0.0                    0   \n",
       "3878  [0.2, 0.3, 0.1, 0]           0           0.0                    0   \n",
       "2568  [0.3, 0.2, 0.1, 0]        Adam           0.2         [0, 0, 0, 0]   \n",
       "2162                   0           0           0.0                    0   \n",
       "2008                   0           0           0.0                    0   \n",
       "\n",
       "     P-lr_decay  \n",
       "3496       0.94  \n",
       "3690       0.94  \n",
       "1684       0.94  \n",
       "1451       0.94  \n",
       "3042        0.0  \n",
       "3039        0.0  \n",
       "3040        0.0  \n",
       "4381        0.0  \n",
       "2367        0.0  \n",
       "4152        0.0  \n",
       "2129        0.0  \n",
       "3878        0.0  \n",
       "2568        0.0  \n",
       "2162        0.0  \n",
       "2008        0.0  \n",
       "\n",
       "[15 rows x 27 columns]"
      ]
     },
     "execution_count": 22,
     "metadata": {},
     "output_type": "execute_result"
    }
   ],
   "source": [
    "params = {\n",
    "    # General\n",
    "    'resultDir': f'{path_base}/Archivos/Resultados/Clasificacion', # Direcotrio de resultados    \n",
    "    'redoStats': True, #True, #True,        # True : Rehace las estadisticas, caso contrario solo lee los archivos de reportes\n",
    "    'drop'     : ['idTest',['20240326_224209', '20240326_050743']], #['idTest',['20240326_224209', '20230710_181720']],#['P-rnn_tipo',['LSTM']],    'idTest', ['20230706_044401']\n",
    "    'select'   :['P-dsTName' , ['CLASE_TrainDS_1']], #['P-dsTName' , ['XXXXX_V2']], #['P-dsTName' , ['CLASE_TrainDS_3']],\n",
    "       \n",
    "    # Stats\n",
    "    'model'    : 'Clasificacion',  \n",
    "    'criterio' : 'acc_bal',       # avg_acc_bal Para filtrar el mejor modelo de las epocas en cada test\n",
    "    'ascending': False,           # True = Max segun el criterio\n",
    "    'filterHP' : True,            # Muestra solo las columnas de HP que varia\n",
    "    \n",
    "    # Graficas\n",
    "    'grafica'  : True,\n",
    "    'train'    : False,\n",
    "    'maxNum'   : 6,              # 0 = TODOS los modelos\n",
    "}\n",
    "\n",
    "\n",
    "bestResults = summaryStats(path_base, params)\n",
    "print(len(bestResults))\n",
    "bestResults.head(15)#[(bestResults['TNR']!=0) & (bestResults['TPR']!=0)].head(30)"
   ]
  },
  {
   "cell_type": "code",
   "execution_count": 49,
   "id": "cd57a281-0421-418a-a4d0-22b480788dd1",
   "metadata": {},
   "outputs": [
    {
     "data": {
      "application/vnd.plotly.v1+json": {
       "config": {
        "plotlyServerURL": "https://plot.ly"
       },
       "data": [
        {
         "mode": "lines",
         "name": "Train",
         "type": "scatter",
         "x": [
          0,
          1,
          2,
          3,
          4,
          5,
          6,
          7,
          8,
          9,
          10,
          11,
          12,
          13,
          14,
          15,
          16,
          17,
          18,
          19,
          20,
          21,
          22,
          23,
          24,
          25,
          26,
          27,
          28,
          29,
          30,
          31,
          32,
          33,
          34,
          35,
          36,
          37,
          38,
          39,
          40,
          41,
          42,
          43,
          44,
          45,
          46,
          47,
          48,
          49,
          50,
          51,
          52,
          53,
          54,
          55,
          56,
          57,
          58,
          59,
          60,
          61,
          62,
          63,
          64,
          65,
          66,
          67,
          68,
          69,
          70,
          71,
          72,
          73,
          74,
          75,
          76,
          77,
          78,
          79,
          80,
          81,
          82,
          83,
          84,
          85,
          86,
          87,
          88,
          89,
          90,
          91,
          92,
          93,
          94,
          95,
          96,
          97,
          98,
          99,
          100,
          101,
          102,
          103,
          104,
          105,
          106,
          107,
          108,
          109,
          110,
          111,
          112,
          113,
          114,
          115,
          116,
          117,
          118,
          119,
          120,
          121,
          122,
          123,
          124,
          125,
          126,
          127,
          128,
          129,
          130,
          131,
          132,
          133,
          134,
          135,
          136,
          137,
          138,
          139,
          140,
          141,
          142,
          143,
          144,
          145,
          146,
          147,
          148,
          149,
          150,
          151,
          152,
          153,
          154,
          155,
          156,
          157,
          158,
          159,
          160,
          161,
          162,
          163,
          164,
          165,
          166,
          167,
          168,
          169,
          170,
          171,
          172,
          173,
          174,
          175,
          176,
          177,
          178,
          179,
          180,
          181,
          182,
          183,
          184,
          185,
          186,
          187,
          188,
          189,
          190,
          191,
          192,
          193,
          194,
          195,
          196,
          197,
          198,
          199
         ],
         "y": [
          0.9610134959220886,
          0.8053212761878967,
          0.713814377784729,
          0.7034618854522705,
          0.7038833498954773,
          0.6998785734176636,
          0.6995742917060852,
          0.6972676515579224,
          0.6976650357246399,
          0.6972328424453735,
          0.6964511871337891,
          0.6967307925224304,
          0.6961005330085754,
          0.695927619934082,
          0.6957092881202698,
          0.695919930934906,
          0.6972360014915466,
          0.6952171325683594,
          0.6963597536087036,
          0.6957539916038513,
          0.6954890489578247,
          0.6949434876441956,
          0.6961166858673096,
          0.6949256658554077,
          0.6950305700302124,
          0.6958782076835632,
          0.695168673992157,
          0.6965176463127136,
          0.6916383504867554,
          0.7013087868690491,
          0.6946525573730469,
          0.6957510709762573,
          0.6943288445472717,
          0.6961861252784729,
          0.6937998533248901,
          0.6950312852859497,
          0.6927406787872314,
          0.6984433531761169,
          0.7000812888145447,
          0.6895580291748047,
          0.6970453858375549,
          0.6923930644989014,
          0.6922953724861145,
          0.6916691064834595,
          0.6896859407424927,
          0.6913637518882751,
          0.6921141743659973,
          0.6874114871025085,
          0.686117947101593,
          0.6968308687210083,
          0.6854846477508545,
          0.6938842535018921,
          0.6829771399497986,
          0.6854977011680603,
          0.658281683921814,
          0.6905826330184937,
          0.6421970129013062,
          0.6948835849761963,
          0.6475128531455994,
          0.6585770845413208,
          0.6350799202919006,
          0.6543014049530029,
          0.6764619946479797,
          0.6123353838920593,
          0.6343508362770081,
          0.619036078453064,
          0.5900322794914246,
          0.577469527721405,
          0.5714629888534546,
          0.5360493063926697,
          0.5227321982383728,
          0.5188362002372742,
          0.5017949342727661,
          0.4984778165817261,
          0.4844985604286194,
          0.4842583239078522,
          0.4734385311603546,
          0.4658863842487335,
          0.4580083787441254,
          0.4580561220645905,
          0.4392703175544739,
          0.4441572427749634,
          0.4418124258518219,
          0.4364891946315765,
          0.4410630464553833,
          0.4367403388023376,
          0.4350314438343048,
          0.4295160174369812,
          0.4237238168716431,
          0.4255793988704681,
          0.4150238931179047,
          0.4130095243453979,
          0.4168294966220856,
          0.4066465497016907,
          0.4138237237930298,
          0.4056788980960846,
          0.4137191474437714,
          0.4092539250850677,
          0.4077848196029663,
          0.3979528546333313,
          0.3951923549175262,
          0.3869594931602478,
          0.3906636834144592,
          0.396462619304657,
          0.3926984071731567,
          0.4022038280963898,
          0.383724719285965,
          0.3855124711990356,
          0.3889976143836975,
          0.3896730840206146,
          0.3871734738349915,
          0.3899118304252625,
          0.3797001540660858,
          0.3770403265953064,
          0.3890123665332794,
          0.3764806091785431,
          0.3769545555114746,
          0.3735652267932892,
          0.3714251220226288,
          0.3704467415809631,
          0.3715434968471527,
          0.3627548515796661,
          0.377138078212738,
          0.3599995970726013,
          0.3656494319438934,
          0.3598814010620117,
          0.3532182276248932,
          0.3538127243518829,
          0.3622457683086395,
          0.3644545674324036,
          0.3598500490188599,
          0.3547312617301941,
          0.3481989502906799,
          0.3488020598888397,
          0.3439015746116638,
          0.3452768623828888,
          0.3397242724895477,
          0.3458595871925354,
          0.3337735235691071,
          0.3518436551094055,
          0.3398066163063049,
          0.3318080008029938,
          0.3420512974262238,
          0.3290180563926697,
          0.3322157263755798,
          0.323621392250061,
          0.3263104259967804,
          0.3254567682743073,
          0.3365424573421478,
          0.3323335349559784,
          0.3373934924602509,
          0.3188155889511108,
          0.323716938495636,
          0.3232626914978027,
          0.3286843299865723,
          0.3249185681343079,
          0.3164616525173187,
          0.3204687237739563,
          0.3136737644672394,
          0.3142271637916565,
          0.3071999847888947,
          0.3052626848220825,
          0.3131653964519501,
          0.3022886514663696,
          0.3113221526145935,
          0.3198622465133667,
          0.2965511977672577,
          0.2965195775032043,
          0.2961111664772034,
          0.2941028475761414,
          0.2972781956195831,
          0.3005383610725403,
          0.2858603298664093,
          0.2912982106208801,
          0.2935896813869476,
          0.293772280216217,
          0.2923285663127899,
          0.3049948513507843,
          0.2836850583553314,
          0.2814322412014008,
          0.2774283587932587,
          0.2830685675144196,
          0.2934703528881073,
          0.2878764569759369,
          0.2910561859607697,
          0.2801888287067413,
          0.2812303900718689,
          0.2678326666355133,
          0.2602279782295227,
          0.2696252465248108,
          0.2826051115989685,
          0.2842918038368225,
          0.2688861191272736,
          0.2659329771995544,
          0.2597698867321014,
          0.2647973895072937,
          0.265678197145462,
          0.2690368890762329,
          0.2687319815158844,
          0.2661371827125549
         ]
        },
        {
         "mode": "lines",
         "name": "Valid",
         "type": "scatter",
         "x": [
          0,
          1,
          2,
          3,
          4,
          5,
          6,
          7,
          8,
          9,
          10,
          11,
          12,
          13,
          14,
          15,
          16,
          17,
          18,
          19,
          20,
          21,
          22,
          23,
          24,
          25,
          26,
          27,
          28,
          29,
          30,
          31,
          32,
          33,
          34,
          35,
          36,
          37,
          38,
          39,
          40,
          41,
          42,
          43,
          44,
          45,
          46,
          47,
          48,
          49,
          50,
          51,
          52,
          53,
          54,
          55,
          56,
          57,
          58,
          59,
          60,
          61,
          62,
          63,
          64,
          65,
          66,
          67,
          68,
          69,
          70,
          71,
          72,
          73,
          74,
          75,
          76,
          77,
          78,
          79,
          80,
          81,
          82,
          83,
          84,
          85,
          86,
          87,
          88,
          89,
          90,
          91,
          92,
          93,
          94,
          95,
          96,
          97,
          98,
          99,
          100,
          101,
          102,
          103,
          104,
          105,
          106,
          107,
          108,
          109,
          110,
          111,
          112,
          113,
          114,
          115,
          116,
          117,
          118,
          119,
          120,
          121,
          122,
          123,
          124,
          125,
          126,
          127,
          128,
          129,
          130,
          131,
          132,
          133,
          134,
          135,
          136,
          137,
          138,
          139,
          140,
          141,
          142,
          143,
          144,
          145,
          146,
          147,
          148,
          149,
          150,
          151,
          152,
          153,
          154,
          155,
          156,
          157,
          158,
          159,
          160,
          161,
          162,
          163,
          164,
          165,
          166,
          167,
          168,
          169,
          170,
          171,
          172,
          173,
          174,
          175,
          176,
          177,
          178,
          179,
          180,
          181,
          182,
          183,
          184,
          185,
          186,
          187,
          188,
          189,
          190,
          191,
          192,
          193,
          194,
          195,
          196,
          197,
          198,
          199
         ],
         "y": [
          0.9514195919036864,
          0.7358726263046265,
          0.6998838782310486,
          0.6930078268051147,
          0.6920822858810425,
          0.6918438076972961,
          0.6922966837882996,
          0.6924508213996887,
          0.6925566792488098,
          0.6927052140235901,
          0.6928367018699646,
          0.6929057240486145,
          0.6930018067359924,
          0.6931058764457703,
          0.6932243704795837,
          0.6949189901351929,
          0.6933428049087524,
          0.6936808228492737,
          0.6934620141983032,
          0.6935121417045593,
          0.6935669183731079,
          0.6944327354431152,
          0.6936582922935486,
          0.6944079995155334,
          0.6958321928977966,
          0.6946775317192078,
          0.6956170201301575,
          0.6942618489265442,
          0.7168889045715332,
          0.6937499642372131,
          0.6947762966156006,
          0.6961694359779358,
          0.7013417482376099,
          0.6972264051437378,
          0.6990436911582947,
          0.6990795731544495,
          0.7078161835670471,
          0.7140000462532043,
          0.6985167264938354,
          0.7196328043937683,
          0.7052074670791626,
          0.7059130072593689,
          0.7142248153686523,
          0.7179843187332153,
          0.7313334345817566,
          0.731011688709259,
          0.721598744392395,
          0.7364514470100403,
          0.7448174357414246,
          0.7542105317115784,
          0.8405957221984863,
          0.7850229740142822,
          0.7942622303962708,
          0.7451273798942566,
          0.8609945774078369,
          0.7559403777122498,
          0.9505401849746704,
          0.7695294618606567,
          0.789115846157074,
          0.7989252805709839,
          0.8660401701927185,
          0.9171307682991028,
          0.7649428248405457,
          0.795455276966095,
          0.8044683933258057,
          0.7310068607330322,
          0.723423182964325,
          0.7217553853988647,
          0.6495766043663025,
          0.6346904635429382,
          0.6197250485420227,
          0.9242797493934632,
          0.6180602312088013,
          0.634239137172699,
          0.602264404296875,
          0.8550015091896057,
          0.7098413109779358,
          0.5282813310623169,
          0.5372830629348755,
          0.5456616282463074,
          0.5868926048278809,
          0.525262176990509,
          0.4885109961032867,
          0.5067239999771118,
          0.5813158750534058,
          0.4998363852500916,
          0.521790087223053,
          0.4840680360794067,
          0.4840007722377777,
          0.4790400564670563,
          0.4898762404918671,
          0.4896970093250275,
          0.5050992369651794,
          0.486060619354248,
          0.4932049810886383,
          0.5427849292755127,
          0.4891694486141205,
          0.4792704582214355,
          0.4770990312099457,
          0.5025621652603149,
          0.4879834055900574,
          0.4882421791553497,
          0.5166205763816833,
          0.5128586888313293,
          0.5235167741775513,
          0.4757249057292938,
          0.5066016912460327,
          0.495699018239975,
          0.511557400226593,
          0.4915115237236023,
          0.4931349456310272,
          0.4815466105937958,
          0.5026355385780334,
          0.4799990057945251,
          0.5000849962234497,
          0.4828698933124542,
          0.4681182503700256,
          0.4801235795021057,
          0.4744113385677338,
          0.5125628709793091,
          0.4926705062389374,
          0.4942553341388702,
          0.5015187859535217,
          0.4795760810375214,
          0.4806919395923615,
          0.4834283292293549,
          0.4848004579544067,
          0.4974988698959351,
          0.5276376008987427,
          0.4845198690891266,
          0.4787356555461884,
          0.4719447493553162,
          0.4912159442901611,
          0.4893831014633179,
          0.4744504988193512,
          0.5054795742034912,
          0.5156088471412659,
          0.4683874249458313,
          0.5131564736366272,
          0.5040802359580994,
          0.4890020489692688,
          0.4615118801593781,
          0.4525367915630341,
          0.4625218510627747,
          0.4718629717826843,
          0.4681614637374878,
          0.4674574136734009,
          0.4705865383148193,
          0.4534590244293213,
          0.4629298150539398,
          0.4670317769050598,
          0.4379163980484009,
          0.4793428182601929,
          0.4469740986824036,
          0.4554336071014404,
          0.4845645129680634,
          0.4725255966186523,
          0.4424630701541901,
          0.4934847354888916,
          0.4614745378494263,
          0.4426911175251007,
          0.4784230589866638,
          0.4621568918228149,
          0.4480222165584564,
          0.460908979177475,
          0.4465303719043732,
          0.443776935338974,
          0.4749337136745453,
          0.4450247287750244,
          0.4513940513134003,
          0.4472609162330627,
          0.4317026436328888,
          0.4283344745635986,
          0.4485547244548798,
          0.4566711187362671,
          0.5054642558097839,
          0.4402627348899841,
          0.4458362758159637,
          0.4277818202972412,
          0.4428485333919525,
          0.4499959647655487,
          0.4834865629673004,
          0.4522889256477356,
          0.4553575217723846,
          0.4442995488643646,
          0.4486953616142273,
          0.4574750065803528,
          0.4358937740325928,
          0.4423643946647644,
          0.4654245972633362,
          0.4985763132572174,
          0.4255089163780212,
          0.444048136472702,
          0.4347153604030609,
          0.459309458732605,
          0.4344709813594818,
          0.4662880599498749,
          0.4567254483699799,
          0.4381290376186371,
          0.4528475403785706
         ]
        }
       ],
       "layout": {
        "autosize": true,
        "template": {
         "data": {
          "bar": [
           {
            "error_x": {
             "color": "#2a3f5f"
            },
            "error_y": {
             "color": "#2a3f5f"
            },
            "marker": {
             "line": {
              "color": "#E5ECF6",
              "width": 0.5
             },
             "pattern": {
              "fillmode": "overlay",
              "size": 10,
              "solidity": 0.2
             }
            },
            "type": "bar"
           }
          ],
          "barpolar": [
           {
            "marker": {
             "line": {
              "color": "#E5ECF6",
              "width": 0.5
             },
             "pattern": {
              "fillmode": "overlay",
              "size": 10,
              "solidity": 0.2
             }
            },
            "type": "barpolar"
           }
          ],
          "carpet": [
           {
            "aaxis": {
             "endlinecolor": "#2a3f5f",
             "gridcolor": "white",
             "linecolor": "white",
             "minorgridcolor": "white",
             "startlinecolor": "#2a3f5f"
            },
            "baxis": {
             "endlinecolor": "#2a3f5f",
             "gridcolor": "white",
             "linecolor": "white",
             "minorgridcolor": "white",
             "startlinecolor": "#2a3f5f"
            },
            "type": "carpet"
           }
          ],
          "choropleth": [
           {
            "colorbar": {
             "outlinewidth": 0,
             "ticks": ""
            },
            "type": "choropleth"
           }
          ],
          "contour": [
           {
            "colorbar": {
             "outlinewidth": 0,
             "ticks": ""
            },
            "colorscale": [
             [
              0,
              "#0d0887"
             ],
             [
              0.1111111111111111,
              "#46039f"
             ],
             [
              0.2222222222222222,
              "#7201a8"
             ],
             [
              0.3333333333333333,
              "#9c179e"
             ],
             [
              0.4444444444444444,
              "#bd3786"
             ],
             [
              0.5555555555555556,
              "#d8576b"
             ],
             [
              0.6666666666666666,
              "#ed7953"
             ],
             [
              0.7777777777777778,
              "#fb9f3a"
             ],
             [
              0.8888888888888888,
              "#fdca26"
             ],
             [
              1,
              "#f0f921"
             ]
            ],
            "type": "contour"
           }
          ],
          "contourcarpet": [
           {
            "colorbar": {
             "outlinewidth": 0,
             "ticks": ""
            },
            "type": "contourcarpet"
           }
          ],
          "heatmap": [
           {
            "colorbar": {
             "outlinewidth": 0,
             "ticks": ""
            },
            "colorscale": [
             [
              0,
              "#0d0887"
             ],
             [
              0.1111111111111111,
              "#46039f"
             ],
             [
              0.2222222222222222,
              "#7201a8"
             ],
             [
              0.3333333333333333,
              "#9c179e"
             ],
             [
              0.4444444444444444,
              "#bd3786"
             ],
             [
              0.5555555555555556,
              "#d8576b"
             ],
             [
              0.6666666666666666,
              "#ed7953"
             ],
             [
              0.7777777777777778,
              "#fb9f3a"
             ],
             [
              0.8888888888888888,
              "#fdca26"
             ],
             [
              1,
              "#f0f921"
             ]
            ],
            "type": "heatmap"
           }
          ],
          "heatmapgl": [
           {
            "colorbar": {
             "outlinewidth": 0,
             "ticks": ""
            },
            "colorscale": [
             [
              0,
              "#0d0887"
             ],
             [
              0.1111111111111111,
              "#46039f"
             ],
             [
              0.2222222222222222,
              "#7201a8"
             ],
             [
              0.3333333333333333,
              "#9c179e"
             ],
             [
              0.4444444444444444,
              "#bd3786"
             ],
             [
              0.5555555555555556,
              "#d8576b"
             ],
             [
              0.6666666666666666,
              "#ed7953"
             ],
             [
              0.7777777777777778,
              "#fb9f3a"
             ],
             [
              0.8888888888888888,
              "#fdca26"
             ],
             [
              1,
              "#f0f921"
             ]
            ],
            "type": "heatmapgl"
           }
          ],
          "histogram": [
           {
            "marker": {
             "pattern": {
              "fillmode": "overlay",
              "size": 10,
              "solidity": 0.2
             }
            },
            "type": "histogram"
           }
          ],
          "histogram2d": [
           {
            "colorbar": {
             "outlinewidth": 0,
             "ticks": ""
            },
            "colorscale": [
             [
              0,
              "#0d0887"
             ],
             [
              0.1111111111111111,
              "#46039f"
             ],
             [
              0.2222222222222222,
              "#7201a8"
             ],
             [
              0.3333333333333333,
              "#9c179e"
             ],
             [
              0.4444444444444444,
              "#bd3786"
             ],
             [
              0.5555555555555556,
              "#d8576b"
             ],
             [
              0.6666666666666666,
              "#ed7953"
             ],
             [
              0.7777777777777778,
              "#fb9f3a"
             ],
             [
              0.8888888888888888,
              "#fdca26"
             ],
             [
              1,
              "#f0f921"
             ]
            ],
            "type": "histogram2d"
           }
          ],
          "histogram2dcontour": [
           {
            "colorbar": {
             "outlinewidth": 0,
             "ticks": ""
            },
            "colorscale": [
             [
              0,
              "#0d0887"
             ],
             [
              0.1111111111111111,
              "#46039f"
             ],
             [
              0.2222222222222222,
              "#7201a8"
             ],
             [
              0.3333333333333333,
              "#9c179e"
             ],
             [
              0.4444444444444444,
              "#bd3786"
             ],
             [
              0.5555555555555556,
              "#d8576b"
             ],
             [
              0.6666666666666666,
              "#ed7953"
             ],
             [
              0.7777777777777778,
              "#fb9f3a"
             ],
             [
              0.8888888888888888,
              "#fdca26"
             ],
             [
              1,
              "#f0f921"
             ]
            ],
            "type": "histogram2dcontour"
           }
          ],
          "mesh3d": [
           {
            "colorbar": {
             "outlinewidth": 0,
             "ticks": ""
            },
            "type": "mesh3d"
           }
          ],
          "parcoords": [
           {
            "line": {
             "colorbar": {
              "outlinewidth": 0,
              "ticks": ""
             }
            },
            "type": "parcoords"
           }
          ],
          "pie": [
           {
            "automargin": true,
            "type": "pie"
           }
          ],
          "scatter": [
           {
            "fillpattern": {
             "fillmode": "overlay",
             "size": 10,
             "solidity": 0.2
            },
            "type": "scatter"
           }
          ],
          "scatter3d": [
           {
            "line": {
             "colorbar": {
              "outlinewidth": 0,
              "ticks": ""
             }
            },
            "marker": {
             "colorbar": {
              "outlinewidth": 0,
              "ticks": ""
             }
            },
            "type": "scatter3d"
           }
          ],
          "scattercarpet": [
           {
            "marker": {
             "colorbar": {
              "outlinewidth": 0,
              "ticks": ""
             }
            },
            "type": "scattercarpet"
           }
          ],
          "scattergeo": [
           {
            "marker": {
             "colorbar": {
              "outlinewidth": 0,
              "ticks": ""
             }
            },
            "type": "scattergeo"
           }
          ],
          "scattergl": [
           {
            "marker": {
             "colorbar": {
              "outlinewidth": 0,
              "ticks": ""
             }
            },
            "type": "scattergl"
           }
          ],
          "scattermapbox": [
           {
            "marker": {
             "colorbar": {
              "outlinewidth": 0,
              "ticks": ""
             }
            },
            "type": "scattermapbox"
           }
          ],
          "scatterpolar": [
           {
            "marker": {
             "colorbar": {
              "outlinewidth": 0,
              "ticks": ""
             }
            },
            "type": "scatterpolar"
           }
          ],
          "scatterpolargl": [
           {
            "marker": {
             "colorbar": {
              "outlinewidth": 0,
              "ticks": ""
             }
            },
            "type": "scatterpolargl"
           }
          ],
          "scatterternary": [
           {
            "marker": {
             "colorbar": {
              "outlinewidth": 0,
              "ticks": ""
             }
            },
            "type": "scatterternary"
           }
          ],
          "surface": [
           {
            "colorbar": {
             "outlinewidth": 0,
             "ticks": ""
            },
            "colorscale": [
             [
              0,
              "#0d0887"
             ],
             [
              0.1111111111111111,
              "#46039f"
             ],
             [
              0.2222222222222222,
              "#7201a8"
             ],
             [
              0.3333333333333333,
              "#9c179e"
             ],
             [
              0.4444444444444444,
              "#bd3786"
             ],
             [
              0.5555555555555556,
              "#d8576b"
             ],
             [
              0.6666666666666666,
              "#ed7953"
             ],
             [
              0.7777777777777778,
              "#fb9f3a"
             ],
             [
              0.8888888888888888,
              "#fdca26"
             ],
             [
              1,
              "#f0f921"
             ]
            ],
            "type": "surface"
           }
          ],
          "table": [
           {
            "cells": {
             "fill": {
              "color": "#EBF0F8"
             },
             "line": {
              "color": "white"
             }
            },
            "header": {
             "fill": {
              "color": "#C8D4E3"
             },
             "line": {
              "color": "white"
             }
            },
            "type": "table"
           }
          ]
         },
         "layout": {
          "annotationdefaults": {
           "arrowcolor": "#2a3f5f",
           "arrowhead": 0,
           "arrowwidth": 1
          },
          "autotypenumbers": "strict",
          "coloraxis": {
           "colorbar": {
            "outlinewidth": 0,
            "ticks": ""
           }
          },
          "colorscale": {
           "diverging": [
            [
             0,
             "#8e0152"
            ],
            [
             0.1,
             "#c51b7d"
            ],
            [
             0.2,
             "#de77ae"
            ],
            [
             0.3,
             "#f1b6da"
            ],
            [
             0.4,
             "#fde0ef"
            ],
            [
             0.5,
             "#f7f7f7"
            ],
            [
             0.6,
             "#e6f5d0"
            ],
            [
             0.7,
             "#b8e186"
            ],
            [
             0.8,
             "#7fbc41"
            ],
            [
             0.9,
             "#4d9221"
            ],
            [
             1,
             "#276419"
            ]
           ],
           "sequential": [
            [
             0,
             "#0d0887"
            ],
            [
             0.1111111111111111,
             "#46039f"
            ],
            [
             0.2222222222222222,
             "#7201a8"
            ],
            [
             0.3333333333333333,
             "#9c179e"
            ],
            [
             0.4444444444444444,
             "#bd3786"
            ],
            [
             0.5555555555555556,
             "#d8576b"
            ],
            [
             0.6666666666666666,
             "#ed7953"
            ],
            [
             0.7777777777777778,
             "#fb9f3a"
            ],
            [
             0.8888888888888888,
             "#fdca26"
            ],
            [
             1,
             "#f0f921"
            ]
           ],
           "sequentialminus": [
            [
             0,
             "#0d0887"
            ],
            [
             0.1111111111111111,
             "#46039f"
            ],
            [
             0.2222222222222222,
             "#7201a8"
            ],
            [
             0.3333333333333333,
             "#9c179e"
            ],
            [
             0.4444444444444444,
             "#bd3786"
            ],
            [
             0.5555555555555556,
             "#d8576b"
            ],
            [
             0.6666666666666666,
             "#ed7953"
            ],
            [
             0.7777777777777778,
             "#fb9f3a"
            ],
            [
             0.8888888888888888,
             "#fdca26"
            ],
            [
             1,
             "#f0f921"
            ]
           ]
          },
          "colorway": [
           "#636efa",
           "#EF553B",
           "#00cc96",
           "#ab63fa",
           "#FFA15A",
           "#19d3f3",
           "#FF6692",
           "#B6E880",
           "#FF97FF",
           "#FECB52"
          ],
          "font": {
           "color": "#2a3f5f"
          },
          "geo": {
           "bgcolor": "white",
           "lakecolor": "white",
           "landcolor": "#E5ECF6",
           "showlakes": true,
           "showland": true,
           "subunitcolor": "white"
          },
          "hoverlabel": {
           "align": "left"
          },
          "hovermode": "closest",
          "mapbox": {
           "style": "light"
          },
          "paper_bgcolor": "white",
          "plot_bgcolor": "#E5ECF6",
          "polar": {
           "angularaxis": {
            "gridcolor": "white",
            "linecolor": "white",
            "ticks": ""
           },
           "bgcolor": "#E5ECF6",
           "radialaxis": {
            "gridcolor": "white",
            "linecolor": "white",
            "ticks": ""
           }
          },
          "scene": {
           "xaxis": {
            "backgroundcolor": "#E5ECF6",
            "gridcolor": "white",
            "gridwidth": 2,
            "linecolor": "white",
            "showbackground": true,
            "ticks": "",
            "zerolinecolor": "white"
           },
           "yaxis": {
            "backgroundcolor": "#E5ECF6",
            "gridcolor": "white",
            "gridwidth": 2,
            "linecolor": "white",
            "showbackground": true,
            "ticks": "",
            "zerolinecolor": "white"
           },
           "zaxis": {
            "backgroundcolor": "#E5ECF6",
            "gridcolor": "white",
            "gridwidth": 2,
            "linecolor": "white",
            "showbackground": true,
            "ticks": "",
            "zerolinecolor": "white"
           }
          },
          "shapedefaults": {
           "line": {
            "color": "#2a3f5f"
           }
          },
          "ternary": {
           "aaxis": {
            "gridcolor": "white",
            "linecolor": "white",
            "ticks": ""
           },
           "baxis": {
            "gridcolor": "white",
            "linecolor": "white",
            "ticks": ""
           },
           "bgcolor": "#E5ECF6",
           "caxis": {
            "gridcolor": "white",
            "linecolor": "white",
            "ticks": ""
           }
          },
          "title": {
           "x": 0.05
          },
          "xaxis": {
           "automargin": true,
           "gridcolor": "white",
           "linecolor": "white",
           "ticks": "",
           "title": {
            "standoff": 15
           },
           "zerolinecolor": "white",
           "zerolinewidth": 2
          },
          "yaxis": {
           "automargin": true,
           "gridcolor": "white",
           "linecolor": "white",
           "ticks": "",
           "title": {
            "standoff": 15
           },
           "zerolinecolor": "white",
           "zerolinewidth": 2
          }
         }
        },
        "title": {
         "text": "Grafica de Loss por epoca"
        },
        "xaxis": {
         "autorange": true,
         "range": [
          0,
          199
         ],
         "title": {
          "text": "EPOCAS"
         },
         "type": "linear"
        },
        "yaxis": {
         "autorange": true,
         "range": [
          0.22081190844376877,
          0.9999714742104212
         ],
         "title": {
          "text": "LOSS"
         },
         "type": "linear"
        }
       }
      },
      "image/png": "[encoded data removed]",
      "text/html": [
       "<div>                            <div id=\"b8730509-c1ab-4a83-a2b6-21b9db896c13\" class=\"plotly-graph-div\" style=\"height:525px; width:100%;\"></div>            <script type=\"text/javascript\">                require([\"plotly\"], function(Plotly) {                    window.PLOTLYENV=window.PLOTLYENV || {};                                    if (document.getElementById(\"b8730509-c1ab-4a83-a2b6-21b9db896c13\")) {                    Plotly.newPlot(                        \"b8730509-c1ab-4a83-a2b6-21b9db896c13\",                        [{\"mode\":\"lines\",\"name\":\"Train\",\"x\":[0,1,2,3,4,5,6,7,8,9,10,11,12,13,14,15,16,17,18,19,20,21,22,23,24,25,26,27,28,29,30,31,32,33,34,35,36,37,38,39,40,41,42,43,44,45,46,47,48,49,50,51,52,53,54,55,56,57,58,59,60,61,62,63,64,65,66,67,68,69,70,71,72,73,74,75,76,77,78,79,80,81,82,83,84,85,86,87,88,89,90,91,92,93,94,95,96,97,98,99,100,101,102,103,104,105,106,107,108,109,110,111,112,113,114,115,116,117,118,119,120,121,122,123,124,125,126,127,128,129,130,131,132,133,134,135,136,137,138,139,140,141,142,143,144,145,146,147,148,149,150,151,152,153,154,155,156,157,158,159,160,161,162,163,164,165,166,167,168,169,170,171,172,173,174,175,176,177,178,179,180,181,182,183,184,185,186,187,188,189,190,191,192,193,194,195,196,197,198,199],\"y\":[0.9610134959220886,0.8053212761878967,0.713814377784729,0.7034618854522705,0.7038833498954773,0.6998785734176636,0.6995742917060852,0.6972676515579224,0.6976650357246399,0.6972328424453735,0.6964511871337891,0.6967307925224304,0.6961005330085754,0.695927619934082,0.6957092881202698,0.695919930934906,0.6972360014915466,0.6952171325683594,0.6963597536087036,0.6957539916038513,0.6954890489578247,0.6949434876441956,0.6961166858673096,0.6949256658554077,0.6950305700302124,0.6958782076835632,0.695168673992157,0.6965176463127136,0.6916383504867554,0.7013087868690491,0.6946525573730469,0.6957510709762573,0.6943288445472717,0.6961861252784729,0.6937998533248901,0.6950312852859497,0.6927406787872314,0.6984433531761169,0.7000812888145447,0.6895580291748047,0.6970453858375549,0.6923930644989014,0.6922953724861145,0.6916691064834595,0.6896859407424927,0.6913637518882751,0.6921141743659973,0.6874114871025085,0.686117947101593,0.6968308687210083,0.6854846477508545,0.6938842535018921,0.6829771399497986,0.6854977011680603,0.658281683921814,0.6905826330184937,0.6421970129013062,0.6948835849761963,0.6475128531455994,0.6585770845413208,0.6350799202919006,0.6543014049530029,0.6764619946479797,0.6123353838920593,0.6343508362770081,0.619036078453064,0.5900322794914246,0.577469527721405,0.5714629888534546,0.5360493063926697,0.5227321982383728,0.5188362002372742,0.5017949342727661,0.4984778165817261,0.4844985604286194,0.4842583239078522,0.4734385311603546,0.4658863842487335,0.4580083787441254,0.4580561220645905,0.4392703175544739,0.4441572427749634,0.4418124258518219,0.4364891946315765,0.4410630464553833,0.4367403388023376,0.4350314438343048,0.4295160174369812,0.4237238168716431,0.4255793988704681,0.4150238931179047,0.4130095243453979,0.4168294966220856,0.4066465497016907,0.4138237237930298,0.4056788980960846,0.4137191474437714,0.4092539250850677,0.4077848196029663,0.3979528546333313,0.3951923549175262,0.3869594931602478,0.3906636834144592,0.396462619304657,0.3926984071731567,0.4022038280963898,0.383724719285965,0.3855124711990356,0.3889976143836975,0.3896730840206146,0.3871734738349915,0.3899118304252625,0.3797001540660858,0.3770403265953064,0.3890123665332794,0.3764806091785431,0.3769545555114746,0.3735652267932892,0.3714251220226288,0.3704467415809631,0.3715434968471527,0.3627548515796661,0.377138078212738,0.3599995970726013,0.3656494319438934,0.3598814010620117,0.3532182276248932,0.3538127243518829,0.3622457683086395,0.3644545674324036,0.3598500490188599,0.3547312617301941,0.3481989502906799,0.3488020598888397,0.3439015746116638,0.3452768623828888,0.3397242724895477,0.3458595871925354,0.3337735235691071,0.3518436551094055,0.3398066163063049,0.3318080008029938,0.3420512974262238,0.3290180563926697,0.3322157263755798,0.323621392250061,0.3263104259967804,0.3254567682743073,0.3365424573421478,0.3323335349559784,0.3373934924602509,0.3188155889511108,0.323716938495636,0.3232626914978027,0.3286843299865723,0.3249185681343079,0.3164616525173187,0.3204687237739563,0.3136737644672394,0.3142271637916565,0.3071999847888947,0.3052626848220825,0.3131653964519501,0.3022886514663696,0.3113221526145935,0.3198622465133667,0.2965511977672577,0.2965195775032043,0.2961111664772034,0.2941028475761414,0.2972781956195831,0.3005383610725403,0.2858603298664093,0.2912982106208801,0.2935896813869476,0.293772280216217,0.2923285663127899,0.3049948513507843,0.2836850583553314,0.2814322412014008,0.2774283587932587,0.2830685675144196,0.2934703528881073,0.2878764569759369,0.2910561859607697,0.2801888287067413,0.2812303900718689,0.2678326666355133,0.2602279782295227,0.2696252465248108,0.2826051115989685,0.2842918038368225,0.2688861191272736,0.2659329771995544,0.2597698867321014,0.2647973895072937,0.265678197145462,0.2690368890762329,0.2687319815158844,0.2661371827125549],\"type\":\"scatter\"},{\"mode\":\"lines\",\"name\":\"Valid\",\"x\":[0,1,2,3,4,5,6,7,8,9,10,11,12,13,14,15,16,17,18,19,20,21,22,23,24,25,26,27,28,29,30,31,32,33,34,35,36,37,38,39,40,41,42,43,44,45,46,47,48,49,50,51,52,53,54,55,56,57,58,59,60,61,62,63,64,65,66,67,68,69,70,71,72,73,74,75,76,77,78,79,80,81,82,83,84,85,86,87,88,89,90,91,92,93,94,95,96,97,98,99,100,101,102,103,104,105,106,107,108,109,110,111,112,113,114,115,116,117,118,119,120,121,122,123,124,125,126,127,128,129,130,131,132,133,134,135,136,137,138,139,140,141,142,143,144,145,146,147,148,149,150,151,152,153,154,155,156,157,158,159,160,161,162,163,164,165,166,167,168,169,170,171,172,173,174,175,176,177,178,179,180,181,182,183,184,185,186,187,188,189,190,191,192,193,194,195,196,197,198,199],\"y\":[0.9514195919036864,0.7358726263046265,0.6998838782310486,0.6930078268051147,0.6920822858810425,0.6918438076972961,0.6922966837882996,0.6924508213996887,0.6925566792488098,0.6927052140235901,0.6928367018699646,0.6929057240486145,0.6930018067359924,0.6931058764457703,0.6932243704795837,0.6949189901351929,0.6933428049087524,0.6936808228492737,0.6934620141983032,0.6935121417045593,0.6935669183731079,0.6944327354431152,0.6936582922935486,0.6944079995155334,0.6958321928977966,0.6946775317192078,0.6956170201301575,0.6942618489265442,0.7168889045715332,0.6937499642372131,0.6947762966156006,0.6961694359779358,0.7013417482376099,0.6972264051437378,0.6990436911582947,0.6990795731544495,0.7078161835670471,0.7140000462532043,0.6985167264938354,0.7196328043937683,0.7052074670791626,0.7059130072593689,0.7142248153686523,0.7179843187332153,0.7313334345817566,0.731011688709259,0.721598744392395,0.7364514470100403,0.7448174357414246,0.7542105317115784,0.8405957221984863,0.7850229740142822,0.7942622303962708,0.7451273798942566,0.8609945774078369,0.7559403777122498,0.9505401849746704,0.7695294618606567,0.789115846157074,0.7989252805709839,0.8660401701927185,0.9171307682991028,0.7649428248405457,0.795455276966095,0.8044683933258057,0.7310068607330322,0.723423182964325,0.7217553853988647,0.6495766043663025,0.6346904635429382,0.6197250485420227,0.9242797493934632,0.6180602312088013,0.634239137172699,0.602264404296875,0.8550015091896057,0.7098413109779358,0.5282813310623169,0.5372830629348755,0.5456616282463074,0.5868926048278809,0.525262176990509,0.4885109961032867,0.5067239999771118,0.5813158750534058,0.4998363852500916,0.521790087223053,0.4840680360794067,0.4840007722377777,0.4790400564670563,0.4898762404918671,0.4896970093250275,0.5050992369651794,0.486060619354248,0.4932049810886383,0.5427849292755127,0.4891694486141205,0.4792704582214355,0.4770990312099457,0.5025621652603149,0.4879834055900574,0.4882421791553497,0.5166205763816833,0.5128586888313293,0.5235167741775513,0.4757249057292938,0.5066016912460327,0.495699018239975,0.511557400226593,0.4915115237236023,0.4931349456310272,0.4815466105937958,0.5026355385780334,0.4799990057945251,0.5000849962234497,0.4828698933124542,0.4681182503700256,0.4801235795021057,0.4744113385677338,0.5125628709793091,0.4926705062389374,0.4942553341388702,0.5015187859535217,0.4795760810375214,0.4806919395923615,0.4834283292293549,0.4848004579544067,0.4974988698959351,0.5276376008987427,0.4845198690891266,0.4787356555461884,0.4719447493553162,0.4912159442901611,0.4893831014633179,0.4744504988193512,0.5054795742034912,0.5156088471412659,0.4683874249458313,0.5131564736366272,0.5040802359580994,0.4890020489692688,0.4615118801593781,0.4525367915630341,0.4625218510627747,0.4718629717826843,0.4681614637374878,0.4674574136734009,0.4705865383148193,0.4534590244293213,0.4629298150539398,0.4670317769050598,0.4379163980484009,0.4793428182601929,0.4469740986824036,0.4554336071014404,0.4845645129680634,0.4725255966186523,0.4424630701541901,0.4934847354888916,0.4614745378494263,0.4426911175251007,0.4784230589866638,0.4621568918228149,0.4480222165584564,0.460908979177475,0.4465303719043732,0.443776935338974,0.4749337136745453,0.4450247287750244,0.4513940513134003,0.4472609162330627,0.4317026436328888,0.4283344745635986,0.4485547244548798,0.4566711187362671,0.5054642558097839,0.4402627348899841,0.4458362758159637,0.4277818202972412,0.4428485333919525,0.4499959647655487,0.4834865629673004,0.4522889256477356,0.4553575217723846,0.4442995488643646,0.4486953616142273,0.4574750065803528,0.4358937740325928,0.4423643946647644,0.4654245972633362,0.4985763132572174,0.4255089163780212,0.444048136472702,0.4347153604030609,0.459309458732605,0.4344709813594818,0.4662880599498749,0.4567254483699799,0.4381290376186371,0.4528475403785706],\"type\":\"scatter\"}],                        {\"template\":{\"data\":{\"histogram2dcontour\":[{\"type\":\"histogram2dcontour\",\"colorbar\":{\"outlinewidth\":0,\"ticks\":\"\"},\"colorscale\":[[0.0,\"#0d0887\"],[0.1111111111111111,\"#46039f\"],[0.2222222222222222,\"#7201a8\"],[0.3333333333333333,\"#9c179e\"],[0.4444444444444444,\"#bd3786\"],[0.5555555555555556,\"#d8576b\"],[0.6666666666666666,\"#ed7953\"],[0.7777777777777778,\"#fb9f3a\"],[0.8888888888888888,\"#fdca26\"],[1.0,\"#f0f921\"]]}],\"choropleth\":[{\"type\":\"choropleth\",\"colorbar\":{\"outlinewidth\":0,\"ticks\":\"\"}}],\"histogram2d\":[{\"type\":\"histogram2d\",\"colorbar\":{\"outlinewidth\":0,\"ticks\":\"\"},\"colorscale\":[[0.0,\"#0d0887\"],[0.1111111111111111,\"#46039f\"],[0.2222222222222222,\"#7201a8\"],[0.3333333333333333,\"#9c179e\"],[0.4444444444444444,\"#bd3786\"],[0.5555555555555556,\"#d8576b\"],[0.6666666666666666,\"#ed7953\"],[0.7777777777777778,\"#fb9f3a\"],[0.8888888888888888,\"#fdca26\"],[1.0,\"#f0f921\"]]}],\"heatmap\":[{\"type\":\"heatmap\",\"colorbar\":{\"outlinewidth\":0,\"ticks\":\"\"},\"colorscale\":[[0.0,\"#0d0887\"],[0.1111111111111111,\"#46039f\"],[0.2222222222222222,\"#7201a8\"],[0.3333333333333333,\"#9c179e\"],[0.4444444444444444,\"#bd3786\"],[0.5555555555555556,\"#d8576b\"],[0.6666666666666666,\"#ed7953\"],[0.7777777777777778,\"#fb9f3a\"],[0.8888888888888888,\"#fdca26\"],[1.0,\"#f0f921\"]]}],\"heatmapgl\":[{\"type\":\"heatmapgl\",\"colorbar\":{\"outlinewidth\":0,\"ticks\":\"\"},\"colorscale\":[[0.0,\"#0d0887\"],[0.1111111111111111,\"#46039f\"],[0.2222222222222222,\"#7201a8\"],[0.3333333333333333,\"#9c179e\"],[0.4444444444444444,\"#bd3786\"],[0.5555555555555556,\"#d8576b\"],[0.6666666666666666,\"#ed7953\"],[0.7777777777777778,\"#fb9f3a\"],[0.8888888888888888,\"#fdca26\"],[1.0,\"#f0f921\"]]}],\"contourcarpet\":[{\"type\":\"contourcarpet\",\"colorbar\":{\"outlinewidth\":0,\"ticks\":\"\"}}],\"contour\":[{\"type\":\"contour\",\"colorbar\":{\"outlinewidth\":0,\"ticks\":\"\"},\"colorscale\":[[0.0,\"#0d0887\"],[0.1111111111111111,\"#46039f\"],[0.2222222222222222,\"#7201a8\"],[0.3333333333333333,\"#9c179e\"],[0.4444444444444444,\"#bd3786\"],[0.5555555555555556,\"#d8576b\"],[0.6666666666666666,\"#ed7953\"],[0.7777777777777778,\"#fb9f3a\"],[0.8888888888888888,\"#fdca26\"],[1.0,\"#f0f921\"]]}],\"surface\":[{\"type\":\"surface\",\"colorbar\":{\"outlinewidth\":0,\"ticks\":\"\"},\"colorscale\":[[0.0,\"#0d0887\"],[0.1111111111111111,\"#46039f\"],[0.2222222222222222,\"#7201a8\"],[0.3333333333333333,\"#9c179e\"],[0.4444444444444444,\"#bd3786\"],[0.5555555555555556,\"#d8576b\"],[0.6666666666666666,\"#ed7953\"],[0.7777777777777778,\"#fb9f3a\"],[0.8888888888888888,\"#fdca26\"],[1.0,\"#f0f921\"]]}],\"mesh3d\":[{\"type\":\"mesh3d\",\"colorbar\":{\"outlinewidth\":0,\"ticks\":\"\"}}],\"scatter\":[{\"fillpattern\":{\"fillmode\":\"overlay\",\"size\":10,\"solidity\":0.2},\"type\":\"scatter\"}],\"parcoords\":[{\"type\":\"parcoords\",\"line\":{\"colorbar\":{\"outlinewidth\":0,\"ticks\":\"\"}}}],\"scatterpolargl\":[{\"type\":\"scatterpolargl\",\"marker\":{\"colorbar\":{\"outlinewidth\":0,\"ticks\":\"\"}}}],\"bar\":[{\"error_x\":{\"color\":\"#2a3f5f\"},\"error_y\":{\"color\":\"#2a3f5f\"},\"marker\":{\"line\":{\"color\":\"#E5ECF6\",\"width\":0.5},\"pattern\":{\"fillmode\":\"overlay\",\"size\":10,\"solidity\":0.2}},\"type\":\"bar\"}],\"scattergeo\":[{\"type\":\"scattergeo\",\"marker\":{\"colorbar\":{\"outlinewidth\":0,\"ticks\":\"\"}}}],\"scatterpolar\":[{\"type\":\"scatterpolar\",\"marker\":{\"colorbar\":{\"outlinewidth\":0,\"ticks\":\"\"}}}],\"histogram\":[{\"marker\":{\"pattern\":{\"fillmode\":\"overlay\",\"size\":10,\"solidity\":0.2}},\"type\":\"histogram\"}],\"scattergl\":[{\"type\":\"scattergl\",\"marker\":{\"colorbar\":{\"outlinewidth\":0,\"ticks\":\"\"}}}],\"scatter3d\":[{\"type\":\"scatter3d\",\"line\":{\"colorbar\":{\"outlinewidth\":0,\"ticks\":\"\"}},\"marker\":{\"colorbar\":{\"outlinewidth\":0,\"ticks\":\"\"}}}],\"scattermapbox\":[{\"type\":\"scattermapbox\",\"marker\":{\"colorbar\":{\"outlinewidth\":0,\"ticks\":\"\"}}}],\"scatterternary\":[{\"type\":\"scatterternary\",\"marker\":{\"colorbar\":{\"outlinewidth\":0,\"ticks\":\"\"}}}],\"scattercarpet\":[{\"type\":\"scattercarpet\",\"marker\":{\"colorbar\":{\"outlinewidth\":0,\"ticks\":\"\"}}}],\"carpet\":[{\"aaxis\":{\"endlinecolor\":\"#2a3f5f\",\"gridcolor\":\"white\",\"linecolor\":\"white\",\"minorgridcolor\":\"white\",\"startlinecolor\":\"#2a3f5f\"},\"baxis\":{\"endlinecolor\":\"#2a3f5f\",\"gridcolor\":\"white\",\"linecolor\":\"white\",\"minorgridcolor\":\"white\",\"startlinecolor\":\"#2a3f5f\"},\"type\":\"carpet\"}],\"table\":[{\"cells\":{\"fill\":{\"color\":\"#EBF0F8\"},\"line\":{\"color\":\"white\"}},\"header\":{\"fill\":{\"color\":\"#C8D4E3\"},\"line\":{\"color\":\"white\"}},\"type\":\"table\"}],\"barpolar\":[{\"marker\":{\"line\":{\"color\":\"#E5ECF6\",\"width\":0.5},\"pattern\":{\"fillmode\":\"overlay\",\"size\":10,\"solidity\":0.2}},\"type\":\"barpolar\"}],\"pie\":[{\"automargin\":true,\"type\":\"pie\"}]},\"layout\":{\"autotypenumbers\":\"strict\",\"colorway\":[\"#636efa\",\"#EF553B\",\"#00cc96\",\"#ab63fa\",\"#FFA15A\",\"#19d3f3\",\"#FF6692\",\"#B6E880\",\"#FF97FF\",\"#FECB52\"],\"font\":{\"color\":\"#2a3f5f\"},\"hovermode\":\"closest\",\"hoverlabel\":{\"align\":\"left\"},\"paper_bgcolor\":\"white\",\"plot_bgcolor\":\"#E5ECF6\",\"polar\":{\"bgcolor\":\"#E5ECF6\",\"angularaxis\":{\"gridcolor\":\"white\",\"linecolor\":\"white\",\"ticks\":\"\"},\"radialaxis\":{\"gridcolor\":\"white\",\"linecolor\":\"white\",\"ticks\":\"\"}},\"ternary\":{\"bgcolor\":\"#E5ECF6\",\"aaxis\":{\"gridcolor\":\"white\",\"linecolor\":\"white\",\"ticks\":\"\"},\"baxis\":{\"gridcolor\":\"white\",\"linecolor\":\"white\",\"ticks\":\"\"},\"caxis\":{\"gridcolor\":\"white\",\"linecolor\":\"white\",\"ticks\":\"\"}},\"coloraxis\":{\"colorbar\":{\"outlinewidth\":0,\"ticks\":\"\"}},\"colorscale\":{\"sequential\":[[0.0,\"#0d0887\"],[0.1111111111111111,\"#46039f\"],[0.2222222222222222,\"#7201a8\"],[0.3333333333333333,\"#9c179e\"],[0.4444444444444444,\"#bd3786\"],[0.5555555555555556,\"#d8576b\"],[0.6666666666666666,\"#ed7953\"],[0.7777777777777778,\"#fb9f3a\"],[0.8888888888888888,\"#fdca26\"],[1.0,\"#f0f921\"]],\"sequentialminus\":[[0.0,\"#0d0887\"],[0.1111111111111111,\"#46039f\"],[0.2222222222222222,\"#7201a8\"],[0.3333333333333333,\"#9c179e\"],[0.4444444444444444,\"#bd3786\"],[0.5555555555555556,\"#d8576b\"],[0.6666666666666666,\"#ed7953\"],[0.7777777777777778,\"#fb9f3a\"],[0.8888888888888888,\"#fdca26\"],[1.0,\"#f0f921\"]],\"diverging\":[[0,\"#8e0152\"],[0.1,\"#c51b7d\"],[0.2,\"#de77ae\"],[0.3,\"#f1b6da\"],[0.4,\"#fde0ef\"],[0.5,\"#f7f7f7\"],[0.6,\"#e6f5d0\"],[0.7,\"#b8e186\"],[0.8,\"#7fbc41\"],[0.9,\"#4d9221\"],[1,\"#276419\"]]},\"xaxis\":{\"gridcolor\":\"white\",\"linecolor\":\"white\",\"ticks\":\"\",\"title\":{\"standoff\":15},\"zerolinecolor\":\"white\",\"automargin\":true,\"zerolinewidth\":2},\"yaxis\":{\"gridcolor\":\"white\",\"linecolor\":\"white\",\"ticks\":\"\",\"title\":{\"standoff\":15},\"zerolinecolor\":\"white\",\"automargin\":true,\"zerolinewidth\":2},\"scene\":{\"xaxis\":{\"backgroundcolor\":\"#E5ECF6\",\"gridcolor\":\"white\",\"linecolor\":\"white\",\"showbackground\":true,\"ticks\":\"\",\"zerolinecolor\":\"white\",\"gridwidth\":2},\"yaxis\":{\"backgroundcolor\":\"#E5ECF6\",\"gridcolor\":\"white\",\"linecolor\":\"white\",\"showbackground\":true,\"ticks\":\"\",\"zerolinecolor\":\"white\",\"gridwidth\":2},\"zaxis\":{\"backgroundcolor\":\"#E5ECF6\",\"gridcolor\":\"white\",\"linecolor\":\"white\",\"showbackground\":true,\"ticks\":\"\",\"zerolinecolor\":\"white\",\"gridwidth\":2}},\"shapedefaults\":{\"line\":{\"color\":\"#2a3f5f\"}},\"annotationdefaults\":{\"arrowcolor\":\"#2a3f5f\",\"arrowhead\":0,\"arrowwidth\":1},\"geo\":{\"bgcolor\":\"white\",\"landcolor\":\"#E5ECF6\",\"subunitcolor\":\"white\",\"showland\":true,\"showlakes\":true,\"lakecolor\":\"white\"},\"title\":{\"x\":0.05},\"mapbox\":{\"style\":\"light\"}}},\"title\":{\"text\":\"Grafica de Loss por epoca\"},\"xaxis\":{\"title\":{\"text\":\"EPOCAS\"}},\"yaxis\":{\"title\":{\"text\":\"LOSS\"}}},                        {\"responsive\": true}                    ).then(function(){\n",
       "                            \n",
       "var gd = document.getElementById('b8730509-c1ab-4a83-a2b6-21b9db896c13');\n",
       "var x = new MutationObserver(function (mutations, observer) {{\n",
       "        var display = window.getComputedStyle(gd).display;\n",
       "        if (!display || display === 'none') {{\n",
       "            console.log([gd, 'removed!']);\n",
       "            Plotly.purge(gd);\n",
       "            observer.disconnect();\n",
       "        }}\n",
       "}});\n",
       "\n",
       "// Listen for the removal of the full notebook cells\n",
       "var notebookContainer = gd.closest('#notebook-container');\n",
       "if (notebookContainer) {{\n",
       "    x.observe(notebookContainer, {childList: true});\n",
       "}}\n",
       "\n",
       "// Listen for the clearing of the current output cell\n",
       "var outputEl = gd.closest('.output');\n",
       "if (outputEl) {{\n",
       "    x.observe(outputEl, {childList: true});\n",
       "}}\n",
       "\n",
       "                        })                };                });            </script>        </div>"
      ]
     },
     "metadata": {},
     "output_type": "display_data"
    },
    {
     "data": {
      "application/vnd.plotly.v1+json": {
       "config": {
        "plotlyServerURL": "https://plot.ly"
       },
       "data": [
        {
         "mode": "lines",
         "name": "Train",
         "type": "scatter",
         "x": [
          0,
          1,
          2,
          3,
          4,
          5,
          6,
          7,
          8,
          9,
          10,
          11,
          12,
          13,
          14,
          15,
          16,
          17,
          18,
          19,
          20,
          21,
          22,
          23,
          24,
          25,
          26,
          27,
          28,
          29,
          30,
          31,
          32,
          33,
          34,
          35,
          36,
          37,
          38,
          39,
          40,
          41,
          42,
          43,
          44,
          45,
          46,
          47,
          48,
          49,
          50,
          51,
          52,
          53,
          54,
          55,
          56,
          57,
          58,
          59,
          60,
          61,
          62,
          63,
          64,
          65,
          66,
          67,
          68,
          69,
          70,
          71,
          72,
          73,
          74,
          75,
          76,
          77,
          78,
          79,
          80,
          81,
          82,
          83,
          84,
          85,
          86,
          87,
          88,
          89,
          90,
          91,
          92,
          93,
          94,
          95,
          96,
          97,
          98,
          99,
          100,
          101,
          102,
          103,
          104,
          105,
          106,
          107,
          108,
          109,
          110,
          111,
          112,
          113,
          114,
          115,
          116,
          117,
          118,
          119,
          120,
          121,
          122,
          123,
          124,
          125,
          126,
          127,
          128,
          129,
          130,
          131,
          132,
          133,
          134,
          135,
          136,
          137,
          138,
          139,
          140,
          141,
          142,
          143,
          144,
          145,
          146,
          147,
          148,
          149,
          150,
          151,
          152,
          153,
          154,
          155,
          156,
          157,
          158,
          159,
          160,
          161,
          162,
          163,
          164,
          165,
          166,
          167,
          168,
          169,
          170,
          171,
          172,
          173,
          174,
          175,
          176,
          177,
          178,
          179,
          180,
          181,
          182,
          183,
          184,
          185,
          186,
          187,
          188,
          189,
          190,
          191,
          192,
          193,
          194,
          195,
          196,
          197,
          198,
          199
         ],
         "y": [
          0.5744791666666667,
          0.3317708333333333,
          0.3317708333333333,
          0.3708333333333333,
          0.3625,
          0.3791666666666666,
          0.3588541666666667,
          0.4005208333333333,
          0.359375,
          0.3807291666666667,
          0.3958333333333333,
          0.3427083333333333,
          0.3635416666666667,
          0.3640625,
          0.3874999999999999,
          0.3614583333333333,
          0.3421875,
          0.3583333333333333,
          0.3260416666666667,
          0.31875,
          0.3005208333333333,
          0.3354166666666666,
          0.3104166666666667,
          0.334375,
          0.3375,
          0.3255208333333333,
          0.3307291666666667,
          0.3151041666666667,
          0.378125,
          0.29375,
          0.33125,
          0.3416666666666667,
          0.3333333333333333,
          0.3213541666666666,
          0.3463541666666667,
          0.3380208333333333,
          0.3817708333333333,
          0.4333333333333333,
          0.3036458333333333,
          0.40625,
          0.3718749999999999,
          0.4187499999999999,
          0.4109374999999999,
          0.48125,
          0.5307291666666667,
          0.5213541666666667,
          0.515625,
          0.5322916666666667,
          0.5916666666666667,
          0.5458333333333334,
          0.5552083333333333,
          0.53125,
          0.5536458333333333,
          0.5421875,
          0.6401041666666667,
          0.5401041666666667,
          0.6765625,
          0.5369791666666667,
          0.6401041666666667,
          0.6109375,
          0.653125,
          0.6385416666666667,
          0.5864583333333333,
          0.7,
          0.6510416666666666,
          0.6734375,
          0.7161458333333333,
          0.7197916666666666,
          0.7239583333333333,
          0.746875,
          0.7494791666666667,
          0.7557291666666667,
          0.7682291666666666,
          0.7588541666666667,
          0.7708333333333333,
          0.7838541666666667,
          0.7921875,
          0.7958333333333334,
          0.809375,
          0.8067708333333333,
          0.8229166666666666,
          0.8057291666666666,
          0.8203125,
          0.8192708333333333,
          0.8197916666666667,
          0.8255208333333334,
          0.828125,
          0.8276041666666667,
          0.8307291666666667,
          0.8291666666666666,
          0.8302083333333334,
          0.8307291666666666,
          0.8276041666666667,
          0.8374999999999999,
          0.8291666666666666,
          0.8307291666666666,
          0.8291666666666666,
          0.8348958333333334,
          0.8359375,
          0.8390625,
          0.8395833333333333,
          0.8447916666666666,
          0.840625,
          0.8416666666666667,
          0.8375,
          0.840625,
          0.85,
          0.8479166666666667,
          0.8411458333333333,
          0.84375,
          0.84375,
          0.8494791666666667,
          0.8442708333333333,
          0.8505208333333334,
          0.8390625,
          0.8453125,
          0.8463541666666666,
          0.8479166666666667,
          0.8458333333333333,
          0.8489583333333333,
          0.8515625,
          0.8510416666666667,
          0.8453125,
          0.853125,
          0.8546875,
          0.8520833333333333,
          0.8557291666666667,
          0.8520833333333333,
          0.8453125,
          0.8515625,
          0.8494791666666667,
          0.8489583333333333,
          0.8578125000000001,
          0.8541666666666666,
          0.8598958333333333,
          0.8604166666666666,
          0.8572916666666667,
          0.8557291666666667,
          0.8609374999999999,
          0.8546875,
          0.8604166666666666,
          0.8619791666666666,
          0.8541666666666667,
          0.8661458333333334,
          0.8651041666666667,
          0.8677083333333333,
          0.8661458333333334,
          0.8677083333333333,
          0.8630208333333333,
          0.8713541666666667,
          0.8619791666666667,
          0.8713541666666667,
          0.8677083333333333,
          0.8677083333333333,
          0.8692708333333333,
          0.8697916666666666,
          0.8739583333333334,
          0.8697916666666666,
          0.8661458333333334,
          0.8744791666666667,
          0.8755208333333333,
          0.8786458333333333,
          0.8697916666666666,
          0.8744791666666667,
          0.8739583333333334,
          0.86875,
          0.88125,
          0.8807291666666667,
          0.8822916666666667,
          0.8786458333333333,
          0.8848958333333333,
          0.8807291666666667,
          0.8895833333333334,
          0.8807291666666667,
          0.8848958333333333,
          0.8875,
          0.8755208333333333,
          0.8765625,
          0.884375,
          0.8901041666666667,
          0.8864583333333333,
          0.8864583333333333,
          0.8807291666666667,
          0.8885416666666667,
          0.8869791666666667,
          0.890625,
          0.8911458333333333,
          0.8927083333333333,
          0.9010416666666666,
          0.8953125,
          0.8817708333333334,
          0.8859375,
          0.8921874999999999,
          0.8984375,
          0.9010416666666669,
          0.8927083333333334,
          0.8968750000000001,
          0.8947916666666667,
          0.8864583333333333,
          0.8947916666666667
         ]
        },
        {
         "mode": "lines",
         "name": "Valid",
         "type": "scatter",
         "x": [
          0,
          1,
          2,
          3,
          4,
          5,
          6,
          7,
          8,
          9,
          10,
          11,
          12,
          13,
          14,
          15,
          16,
          17,
          18,
          19,
          20,
          21,
          22,
          23,
          24,
          25,
          26,
          27,
          28,
          29,
          30,
          31,
          32,
          33,
          34,
          35,
          36,
          37,
          38,
          39,
          40,
          41,
          42,
          43,
          44,
          45,
          46,
          47,
          48,
          49,
          50,
          51,
          52,
          53,
          54,
          55,
          56,
          57,
          58,
          59,
          60,
          61,
          62,
          63,
          64,
          65,
          66,
          67,
          68,
          69,
          70,
          71,
          72,
          73,
          74,
          75,
          76,
          77,
          78,
          79,
          80,
          81,
          82,
          83,
          84,
          85,
          86,
          87,
          88,
          89,
          90,
          91,
          92,
          93,
          94,
          95,
          96,
          97,
          98,
          99,
          100,
          101,
          102,
          103,
          104,
          105,
          106,
          107,
          108,
          109,
          110,
          111,
          112,
          113,
          114,
          115,
          116,
          117,
          118,
          119,
          120,
          121,
          122,
          123,
          124,
          125,
          126,
          127,
          128,
          129,
          130,
          131,
          132,
          133,
          134,
          135,
          136,
          137,
          138,
          139,
          140,
          141,
          142,
          143,
          144,
          145,
          146,
          147,
          148,
          149,
          150,
          151,
          152,
          153,
          154,
          155,
          156,
          157,
          158,
          159,
          160,
          161,
          162,
          163,
          164,
          165,
          166,
          167,
          168,
          169,
          170,
          171,
          172,
          173,
          174,
          175,
          176,
          177,
          178,
          179,
          180,
          181,
          182,
          183,
          184,
          185,
          186,
          187,
          188,
          189,
          190,
          191,
          192,
          193,
          194,
          195,
          196,
          197,
          198,
          199
         ],
         "y": [
          0.5,
          0.5,
          0.4954137392661982,
          0.575136612021858,
          0.5532786885245902,
          0.5,
          0.5,
          0.5,
          0.5,
          0.5,
          0.4918032786885246,
          0.5,
          0.5,
          0.5,
          0.5,
          0.5,
          0.5,
          0.5,
          0.5,
          0.5,
          0.5,
          0.5,
          0.5,
          0.5,
          0.5,
          0.5,
          0.5,
          0.5,
          0.5,
          0.5,
          0.5,
          0.5,
          0.5,
          0.5,
          0.5,
          0.5,
          0.5,
          0.5,
          0.5,
          0.5,
          0.623536299765808,
          0.6122170179547228,
          0.6494925839188135,
          0.6409055425448869,
          0.6692037470725996,
          0.6969164715066354,
          0.6764246682279469,
          0.6502732240437159,
          0.5802107728337237,
          0.674863387978142,
          0.463407494145199,
          0.6381733021077283,
          0.4854605776736924,
          0.6892076502732241,
          0.4573575331772053,
          0.6923302107728337,
          0.5511319281811085,
          0.5457650273224044,
          0.7233606557377049,
          0.6365144418423108,
          0.5171740827478533,
          0.6026541764246682,
          0.7298985167837627,
          0.7615144418423108,
          0.7330210772833724,
          0.7861046057767369,
          0.7915690866510539,
          0.7587822014051522,
          0.8056206088992974,
          0.7982045277127244,
          0.8099141295862607,
          0.6467603434816549,
          0.7794691647150663,
          0.8212334113973458,
          0.7903981264637002,
          0.6270491803278688,
          0.664519906323185,
          0.8352849336455894,
          0.8306010928961749,
          0.825526932084309,
          0.8165495706479313,
          0.8446526151444185,
          0.8614363778298204,
          0.8653395784543325,
          0.8188914910226386,
          0.8715846994535519,
          0.845823575331772,
          0.8747072599531616,
          0.8719750195160032,
          0.8731459797033567,
          0.8665105386416863,
          0.8684621389539422,
          0.8579234972677596,
          0.8731459797033567,
          0.8766588602654176,
          0.8653395784543325,
          0.8762685402029664,
          0.8747072599531616,
          0.8661202185792349,
          0.8750975800156128,
          0.8778298204527712,
          0.8392857142857142,
          0.8704137392661984,
          0.8334309133489461,
          0.8758782201405152,
          0.8711943793911008,
          0.8758782201405152,
          0.8766588602654176,
          0.8314793130366901,
          0.8739266198282591,
          0.8369437939110069,
          0.8770491803278688,
          0.8821233411397346,
          0.87743950039032,
          0.8377244340359093,
          0.8797814207650273,
          0.8365534738485558,
          0.8373341139734582,
          0.882903981264637,
          0.8361631537861045,
          0.8400663544106166,
          0.8782201405152225,
          0.8412373145979704,
          0.87743950039032,
          0.8832943013270882,
          0.8809523809523809,
          0.8821233411397346,
          0.8805620608899297,
          0.8766588602654176,
          0.87743950039032,
          0.8793911007025761,
          0.8840749414519906,
          0.8805620608899297,
          0.8836846213895394,
          0.8871975019516003,
          0.8805620608899297,
          0.849824355971897,
          0.8836846213895394,
          0.8797814207650273,
          0.8825136612021858,
          0.89032006245121,
          0.8875878220140515,
          0.8934426229508197,
          0.8887587822014051,
          0.8864168618266979,
          0.8930523028883685,
          0.8879781420765027,
          0.8879781420765027,
          0.8895394223263076,
          0.8864168618266979,
          0.8926619828259172,
          0.8852459016393442,
          0.8447501951600311,
          0.855679156908665,
          0.8852459016393442,
          0.8412373145979704,
          0.8778298204527712,
          0.8965651834504293,
          0.8447501951600311,
          0.8852459016393442,
          0.8911007025761124,
          0.8412373145979704,
          0.8521662763466042,
          0.89032006245121,
          0.8809523809523809,
          0.8914910226385636,
          0.8875878220140515,
          0.846311475409836,
          0.8470921155347384,
          0.8470921155347384,
          0.8844652615144418,
          0.8525565964090553,
          0.8478727556596408,
          0.8494340359094457,
          0.8832943013270882,
          0.8252341920374707,
          0.8840749414519906,
          0.8459211553473849,
          0.8494340359094457,
          0.8914910226385636,
          0.8490437158469946,
          0.7131147540983607,
          0.8361631537861045,
          0.7614168618266979,
          0.8860265417642467,
          0.8797814207650273,
          0.8338212334113972,
          0.7224824355971897,
          0.8486533957845432,
          0.8030835284933646,
          0.8396760343481655,
          0.8899297423887588,
          0.8926619828259172,
          0.7641491022638564,
          0.8128415300546448,
          0.8856362217017955,
          0.8062060889929743,
          0.8314793130366901,
          0.8046448087431695,
          0.8369437939110069
         ]
        }
       ],
       "layout": {
        "autosize": true,
        "template": {
         "data": {
          "bar": [
           {
            "error_x": {
             "color": "#2a3f5f"
            },
            "error_y": {
             "color": "#2a3f5f"
            },
            "marker": {
             "line": {
              "color": "#E5ECF6",
              "width": 0.5
             },
             "pattern": {
              "fillmode": "overlay",
              "size": 10,
              "solidity": 0.2
             }
            },
            "type": "bar"
           }
          ],
          "barpolar": [
           {
            "marker": {
             "line": {
              "color": "#E5ECF6",
              "width": 0.5
             },
             "pattern": {
              "fillmode": "overlay",
              "size": 10,
              "solidity": 0.2
             }
            },
            "type": "barpolar"
           }
          ],
          "carpet": [
           {
            "aaxis": {
             "endlinecolor": "#2a3f5f",
             "gridcolor": "white",
             "linecolor": "white",
             "minorgridcolor": "white",
             "startlinecolor": "#2a3f5f"
            },
            "baxis": {
             "endlinecolor": "#2a3f5f",
             "gridcolor": "white",
             "linecolor": "white",
             "minorgridcolor": "white",
             "startlinecolor": "#2a3f5f"
            },
            "type": "carpet"
           }
          ],
          "choropleth": [
           {
            "colorbar": {
             "outlinewidth": 0,
             "ticks": ""
            },
            "type": "choropleth"
           }
          ],
          "contour": [
           {
            "colorbar": {
             "outlinewidth": 0,
             "ticks": ""
            },
            "colorscale": [
             [
              0,
              "#0d0887"
             ],
             [
              0.1111111111111111,
              "#46039f"
             ],
             [
              0.2222222222222222,
              "#7201a8"
             ],
             [
              0.3333333333333333,
              "#9c179e"
             ],
             [
              0.4444444444444444,
              "#bd3786"
             ],
             [
              0.5555555555555556,
              "#d8576b"
             ],
             [
              0.6666666666666666,
              "#ed7953"
             ],
             [
              0.7777777777777778,
              "#fb9f3a"
             ],
             [
              0.8888888888888888,
              "#fdca26"
             ],
             [
              1,
              "#f0f921"
             ]
            ],
            "type": "contour"
           }
          ],
          "contourcarpet": [
           {
            "colorbar": {
             "outlinewidth": 0,
             "ticks": ""
            },
            "type": "contourcarpet"
           }
          ],
          "heatmap": [
           {
            "colorbar": {
             "outlinewidth": 0,
             "ticks": ""
            },
            "colorscale": [
             [
              0,
              "#0d0887"
             ],
             [
              0.1111111111111111,
              "#46039f"
             ],
             [
              0.2222222222222222,
              "#7201a8"
             ],
             [
              0.3333333333333333,
              "#9c179e"
             ],
             [
              0.4444444444444444,
              "#bd3786"
             ],
             [
              0.5555555555555556,
              "#d8576b"
             ],
             [
              0.6666666666666666,
              "#ed7953"
             ],
             [
              0.7777777777777778,
              "#fb9f3a"
             ],
             [
              0.8888888888888888,
              "#fdca26"
             ],
             [
              1,
              "#f0f921"
             ]
            ],
            "type": "heatmap"
           }
          ],
          "heatmapgl": [
           {
            "colorbar": {
             "outlinewidth": 0,
             "ticks": ""
            },
            "colorscale": [
             [
              0,
              "#0d0887"
             ],
             [
              0.1111111111111111,
              "#46039f"
             ],
             [
              0.2222222222222222,
              "#7201a8"
             ],
             [
              0.3333333333333333,
              "#9c179e"
             ],
             [
              0.4444444444444444,
              "#bd3786"
             ],
             [
              0.5555555555555556,
              "#d8576b"
             ],
             [
              0.6666666666666666,
              "#ed7953"
             ],
             [
              0.7777777777777778,
              "#fb9f3a"
             ],
             [
              0.8888888888888888,
              "#fdca26"
             ],
             [
              1,
              "#f0f921"
             ]
            ],
            "type": "heatmapgl"
           }
          ],
          "histogram": [
           {
            "marker": {
             "pattern": {
              "fillmode": "overlay",
              "size": 10,
              "solidity": 0.2
             }
            },
            "type": "histogram"
           }
          ],
          "histogram2d": [
           {
            "colorbar": {
             "outlinewidth": 0,
             "ticks": ""
            },
            "colorscale": [
             [
              0,
              "#0d0887"
             ],
             [
              0.1111111111111111,
              "#46039f"
             ],
             [
              0.2222222222222222,
              "#7201a8"
             ],
             [
              0.3333333333333333,
              "#9c179e"
             ],
             [
              0.4444444444444444,
              "#bd3786"
             ],
             [
              0.5555555555555556,
              "#d8576b"
             ],
             [
              0.6666666666666666,
              "#ed7953"
             ],
             [
              0.7777777777777778,
              "#fb9f3a"
             ],
             [
              0.8888888888888888,
              "#fdca26"
             ],
             [
              1,
              "#f0f921"
             ]
            ],
            "type": "histogram2d"
           }
          ],
          "histogram2dcontour": [
           {
            "colorbar": {
             "outlinewidth": 0,
             "ticks": ""
            },
            "colorscale": [
             [
              0,
              "#0d0887"
             ],
             [
              0.1111111111111111,
              "#46039f"
             ],
             [
              0.2222222222222222,
              "#7201a8"
             ],
             [
              0.3333333333333333,
              "#9c179e"
             ],
             [
              0.4444444444444444,
              "#bd3786"
             ],
             [
              0.5555555555555556,
              "#d8576b"
             ],
             [
              0.6666666666666666,
              "#ed7953"
             ],
             [
              0.7777777777777778,
              "#fb9f3a"
             ],
             [
              0.8888888888888888,
              "#fdca26"
             ],
             [
              1,
              "#f0f921"
             ]
            ],
            "type": "histogram2dcontour"
           }
          ],
          "mesh3d": [
           {
            "colorbar": {
             "outlinewidth": 0,
             "ticks": ""
            },
            "type": "mesh3d"
           }
          ],
          "parcoords": [
           {
            "line": {
             "colorbar": {
              "outlinewidth": 0,
              "ticks": ""
             }
            },
            "type": "parcoords"
           }
          ],
          "pie": [
           {
            "automargin": true,
            "type": "pie"
           }
          ],
          "scatter": [
           {
            "fillpattern": {
             "fillmode": "overlay",
             "size": 10,
             "solidity": 0.2
            },
            "type": "scatter"
           }
          ],
          "scatter3d": [
           {
            "line": {
             "colorbar": {
              "outlinewidth": 0,
              "ticks": ""
             }
            },
            "marker": {
             "colorbar": {
              "outlinewidth": 0,
              "ticks": ""
             }
            },
            "type": "scatter3d"
           }
          ],
          "scattercarpet": [
           {
            "marker": {
             "colorbar": {
              "outlinewidth": 0,
              "ticks": ""
             }
            },
            "type": "scattercarpet"
           }
          ],
          "scattergeo": [
           {
            "marker": {
             "colorbar": {
              "outlinewidth": 0,
              "ticks": ""
             }
            },
            "type": "scattergeo"
           }
          ],
          "scattergl": [
           {
            "marker": {
             "colorbar": {
              "outlinewidth": 0,
              "ticks": ""
             }
            },
            "type": "scattergl"
           }
          ],
          "scattermapbox": [
           {
            "marker": {
             "colorbar": {
              "outlinewidth": 0,
              "ticks": ""
             }
            },
            "type": "scattermapbox"
           }
          ],
          "scatterpolar": [
           {
            "marker": {
             "colorbar": {
              "outlinewidth": 0,
              "ticks": ""
             }
            },
            "type": "scatterpolar"
           }
          ],
          "scatterpolargl": [
           {
            "marker": {
             "colorbar": {
              "outlinewidth": 0,
              "ticks": ""
             }
            },
            "type": "scatterpolargl"
           }
          ],
          "scatterternary": [
           {
            "marker": {
             "colorbar": {
              "outlinewidth": 0,
              "ticks": ""
             }
            },
            "type": "scatterternary"
           }
          ],
          "surface": [
           {
            "colorbar": {
             "outlinewidth": 0,
             "ticks": ""
            },
            "colorscale": [
             [
              0,
              "#0d0887"
             ],
             [
              0.1111111111111111,
              "#46039f"
             ],
             [
              0.2222222222222222,
              "#7201a8"
             ],
             [
              0.3333333333333333,
              "#9c179e"
             ],
             [
              0.4444444444444444,
              "#bd3786"
             ],
             [
              0.5555555555555556,
              "#d8576b"
             ],
             [
              0.6666666666666666,
              "#ed7953"
             ],
             [
              0.7777777777777778,
              "#fb9f3a"
             ],
             [
              0.8888888888888888,
              "#fdca26"
             ],
             [
              1,
              "#f0f921"
             ]
            ],
            "type": "surface"
           }
          ],
          "table": [
           {
            "cells": {
             "fill": {
              "color": "#EBF0F8"
             },
             "line": {
              "color": "white"
             }
            },
            "header": {
             "fill": {
              "color": "#C8D4E3"
             },
             "line": {
              "color": "white"
             }
            },
            "type": "table"
           }
          ]
         },
         "layout": {
          "annotationdefaults": {
           "arrowcolor": "#2a3f5f",
           "arrowhead": 0,
           "arrowwidth": 1
          },
          "autotypenumbers": "strict",
          "coloraxis": {
           "colorbar": {
            "outlinewidth": 0,
            "ticks": ""
           }
          },
          "colorscale": {
           "diverging": [
            [
             0,
             "#8e0152"
            ],
            [
             0.1,
             "#c51b7d"
            ],
            [
             0.2,
             "#de77ae"
            ],
            [
             0.3,
             "#f1b6da"
            ],
            [
             0.4,
             "#fde0ef"
            ],
            [
             0.5,
             "#f7f7f7"
            ],
            [
             0.6,
             "#e6f5d0"
            ],
            [
             0.7,
             "#b8e186"
            ],
            [
             0.8,
             "#7fbc41"
            ],
            [
             0.9,
             "#4d9221"
            ],
            [
             1,
             "#276419"
            ]
           ],
           "sequential": [
            [
             0,
             "#0d0887"
            ],
            [
             0.1111111111111111,
             "#46039f"
            ],
            [
             0.2222222222222222,
             "#7201a8"
            ],
            [
             0.3333333333333333,
             "#9c179e"
            ],
            [
             0.4444444444444444,
             "#bd3786"
            ],
            [
             0.5555555555555556,
             "#d8576b"
            ],
            [
             0.6666666666666666,
             "#ed7953"
            ],
            [
             0.7777777777777778,
             "#fb9f3a"
            ],
            [
             0.8888888888888888,
             "#fdca26"
            ],
            [
             1,
             "#f0f921"
            ]
           ],
           "sequentialminus": [
            [
             0,
             "#0d0887"
            ],
            [
             0.1111111111111111,
             "#46039f"
            ],
            [
             0.2222222222222222,
             "#7201a8"
            ],
            [
             0.3333333333333333,
             "#9c179e"
            ],
            [
             0.4444444444444444,
             "#bd3786"
            ],
            [
             0.5555555555555556,
             "#d8576b"
            ],
            [
             0.6666666666666666,
             "#ed7953"
            ],
            [
             0.7777777777777778,
             "#fb9f3a"
            ],
            [
             0.8888888888888888,
             "#fdca26"
            ],
            [
             1,
             "#f0f921"
            ]
           ]
          },
          "colorway": [
           "#636efa",
           "#EF553B",
           "#00cc96",
           "#ab63fa",
           "#FFA15A",
           "#19d3f3",
           "#FF6692",
           "#B6E880",
           "#FF97FF",
           "#FECB52"
          ],
          "font": {
           "color": "#2a3f5f"
          },
          "geo": {
           "bgcolor": "white",
           "lakecolor": "white",
           "landcolor": "#E5ECF6",
           "showlakes": true,
           "showland": true,
           "subunitcolor": "white"
          },
          "hoverlabel": {
           "align": "left"
          },
          "hovermode": "closest",
          "mapbox": {
           "style": "light"
          },
          "paper_bgcolor": "white",
          "plot_bgcolor": "#E5ECF6",
          "polar": {
           "angularaxis": {
            "gridcolor": "white",
            "linecolor": "white",
            "ticks": ""
           },
           "bgcolor": "#E5ECF6",
           "radialaxis": {
            "gridcolor": "white",
            "linecolor": "white",
            "ticks": ""
           }
          },
          "scene": {
           "xaxis": {
            "backgroundcolor": "#E5ECF6",
            "gridcolor": "white",
            "gridwidth": 2,
            "linecolor": "white",
            "showbackground": true,
            "ticks": "",
            "zerolinecolor": "white"
           },
           "yaxis": {
            "backgroundcolor": "#E5ECF6",
            "gridcolor": "white",
            "gridwidth": 2,
            "linecolor": "white",
            "showbackground": true,
            "ticks": "",
            "zerolinecolor": "white"
           },
           "zaxis": {
            "backgroundcolor": "#E5ECF6",
            "gridcolor": "white",
            "gridwidth": 2,
            "linecolor": "white",
            "showbackground": true,
            "ticks": "",
            "zerolinecolor": "white"
           }
          },
          "shapedefaults": {
           "line": {
            "color": "#2a3f5f"
           }
          },
          "ternary": {
           "aaxis": {
            "gridcolor": "white",
            "linecolor": "white",
            "ticks": ""
           },
           "baxis": {
            "gridcolor": "white",
            "linecolor": "white",
            "ticks": ""
           },
           "bgcolor": "#E5ECF6",
           "caxis": {
            "gridcolor": "white",
            "linecolor": "white",
            "ticks": ""
           }
          },
          "title": {
           "x": 0.05
          },
          "xaxis": {
           "automargin": true,
           "gridcolor": "white",
           "linecolor": "white",
           "ticks": "",
           "title": {
            "standoff": 15
           },
           "zerolinecolor": "white",
           "zerolinewidth": 2
          },
          "yaxis": {
           "automargin": true,
           "gridcolor": "white",
           "linecolor": "white",
           "ticks": "",
           "title": {
            "standoff": 15
           },
           "zerolinecolor": "white",
           "zerolinewidth": 2
          }
         }
        },
        "title": {
         "text": "Grafica de Balanced Acc por epoca"
        },
        "xaxis": {
         "autorange": true,
         "range": [
          0,
          199
         ],
         "title": {
          "text": "EPOCAS"
         },
         "type": "linear"
        },
        "yaxis": {
         "autorange": true,
         "range": [
          0.2600115740740741,
          0.9347800925925928
         ],
         "title": {
          "text": "BAL_ACC"
         },
         "type": "linear"
        }
       }
      },
      "image/png": "[encoded data removed]",
      "text/html": [
       "<div>                            <div id=\"ca8b6f5d-9adc-4719-842a-a35ef5d4824d\" class=\"plotly-graph-div\" style=\"height:525px; width:100%;\"></div>            <script type=\"text/javascript\">                require([\"plotly\"], function(Plotly) {                    window.PLOTLYENV=window.PLOTLYENV || {};                                    if (document.getElementById(\"ca8b6f5d-9adc-4719-842a-a35ef5d4824d\")) {                    Plotly.newPlot(                        \"ca8b6f5d-9adc-4719-842a-a35ef5d4824d\",                        [{\"mode\":\"lines\",\"name\":\"Train\",\"x\":[0,1,2,3,4,5,6,7,8,9,10,11,12,13,14,15,16,17,18,19,20,21,22,23,24,25,26,27,28,29,30,31,32,33,34,35,36,37,38,39,40,41,42,43,44,45,46,47,48,49,50,51,52,53,54,55,56,57,58,59,60,61,62,63,64,65,66,67,68,69,70,71,72,73,74,75,76,77,78,79,80,81,82,83,84,85,86,87,88,89,90,91,92,93,94,95,96,97,98,99,100,101,102,103,104,105,106,107,108,109,110,111,112,113,114,115,116,117,118,119,120,121,122,123,124,125,126,127,128,129,130,131,132,133,134,135,136,137,138,139,140,141,142,143,144,145,146,147,148,149,150,151,152,153,154,155,156,157,158,159,160,161,162,163,164,165,166,167,168,169,170,171,172,173,174,175,176,177,178,179,180,181,182,183,184,185,186,187,188,189,190,191,192,193,194,195,196,197,198,199],\"y\":[0.5744791666666667,0.3317708333333333,0.3317708333333333,0.3708333333333333,0.3625,0.3791666666666666,0.3588541666666667,0.4005208333333333,0.359375,0.3807291666666667,0.3958333333333333,0.3427083333333333,0.3635416666666667,0.3640625,0.3874999999999999,0.3614583333333333,0.3421875,0.3583333333333333,0.3260416666666667,0.31875,0.3005208333333333,0.3354166666666666,0.3104166666666667,0.334375,0.3375,0.3255208333333333,0.3307291666666667,0.3151041666666667,0.378125,0.29375,0.33125,0.3416666666666667,0.3333333333333333,0.3213541666666666,0.3463541666666667,0.3380208333333333,0.3817708333333333,0.4333333333333333,0.3036458333333333,0.40625,0.3718749999999999,0.4187499999999999,0.4109374999999999,0.48125,0.5307291666666667,0.5213541666666667,0.515625,0.5322916666666667,0.5916666666666667,0.5458333333333334,0.5552083333333333,0.53125,0.5536458333333333,0.5421875,0.6401041666666667,0.5401041666666667,0.6765625,0.5369791666666667,0.6401041666666667,0.6109375,0.653125,0.6385416666666667,0.5864583333333333,0.7,0.6510416666666666,0.6734375,0.7161458333333333,0.7197916666666666,0.7239583333333333,0.746875,0.7494791666666667,0.7557291666666667,0.7682291666666666,0.7588541666666667,0.7708333333333333,0.7838541666666667,0.7921875,0.7958333333333334,0.809375,0.8067708333333333,0.8229166666666666,0.8057291666666666,0.8203125,0.8192708333333333,0.8197916666666667,0.8255208333333334,0.828125,0.8276041666666667,0.8307291666666667,0.8291666666666666,0.8302083333333334,0.8307291666666666,0.8276041666666667,0.8374999999999999,0.8291666666666666,0.8307291666666666,0.8291666666666666,0.8348958333333334,0.8359375,0.8390625,0.8395833333333333,0.8447916666666666,0.840625,0.8416666666666667,0.8375,0.840625,0.85,0.8479166666666667,0.8411458333333333,0.84375,0.84375,0.8494791666666667,0.8442708333333333,0.8505208333333334,0.8390625,0.8453125,0.8463541666666666,0.8479166666666667,0.8458333333333333,0.8489583333333333,0.8515625,0.8510416666666667,0.8453125,0.853125,0.8546875,0.8520833333333333,0.8557291666666667,0.8520833333333333,0.8453125,0.8515625,0.8494791666666667,0.8489583333333333,0.8578125000000001,0.8541666666666666,0.8598958333333333,0.8604166666666666,0.8572916666666667,0.8557291666666667,0.8609374999999999,0.8546875,0.8604166666666666,0.8619791666666666,0.8541666666666667,0.8661458333333334,0.8651041666666667,0.8677083333333333,0.8661458333333334,0.8677083333333333,0.8630208333333333,0.8713541666666667,0.8619791666666667,0.8713541666666667,0.8677083333333333,0.8677083333333333,0.8692708333333333,0.8697916666666666,0.8739583333333334,0.8697916666666666,0.8661458333333334,0.8744791666666667,0.8755208333333333,0.8786458333333333,0.8697916666666666,0.8744791666666667,0.8739583333333334,0.86875,0.88125,0.8807291666666667,0.8822916666666667,0.8786458333333333,0.8848958333333333,0.8807291666666667,0.8895833333333334,0.8807291666666667,0.8848958333333333,0.8875,0.8755208333333333,0.8765625,0.884375,0.8901041666666667,0.8864583333333333,0.8864583333333333,0.8807291666666667,0.8885416666666667,0.8869791666666667,0.890625,0.8911458333333333,0.8927083333333333,0.9010416666666666,0.8953125,0.8817708333333334,0.8859375,0.8921874999999999,0.8984375,0.9010416666666669,0.8927083333333334,0.8968750000000001,0.8947916666666667,0.8864583333333333,0.8947916666666667],\"type\":\"scatter\"},{\"mode\":\"lines\",\"name\":\"Valid\",\"x\":[0,1,2,3,4,5,6,7,8,9,10,11,12,13,14,15,16,17,18,19,20,21,22,23,24,25,26,27,28,29,30,31,32,33,34,35,36,37,38,39,40,41,42,43,44,45,46,47,48,49,50,51,52,53,54,55,56,57,58,59,60,61,62,63,64,65,66,67,68,69,70,71,72,73,74,75,76,77,78,79,80,81,82,83,84,85,86,87,88,89,90,91,92,93,94,95,96,97,98,99,100,101,102,103,104,105,106,107,108,109,110,111,112,113,114,115,116,117,118,119,120,121,122,123,124,125,126,127,128,129,130,131,132,133,134,135,136,137,138,139,140,141,142,143,144,145,146,147,148,149,150,151,152,153,154,155,156,157,158,159,160,161,162,163,164,165,166,167,168,169,170,171,172,173,174,175,176,177,178,179,180,181,182,183,184,185,186,187,188,189,190,191,192,193,194,195,196,197,198,199],\"y\":[0.5,0.5,0.4954137392661982,0.575136612021858,0.5532786885245902,0.5,0.5,0.5,0.5,0.5,0.4918032786885246,0.5,0.5,0.5,0.5,0.5,0.5,0.5,0.5,0.5,0.5,0.5,0.5,0.5,0.5,0.5,0.5,0.5,0.5,0.5,0.5,0.5,0.5,0.5,0.5,0.5,0.5,0.5,0.5,0.5,0.623536299765808,0.6122170179547228,0.6494925839188135,0.6409055425448869,0.6692037470725996,0.6969164715066354,0.6764246682279469,0.6502732240437159,0.5802107728337237,0.674863387978142,0.463407494145199,0.6381733021077283,0.4854605776736924,0.6892076502732241,0.4573575331772053,0.6923302107728337,0.5511319281811085,0.5457650273224044,0.7233606557377049,0.6365144418423108,0.5171740827478533,0.6026541764246682,0.7298985167837627,0.7615144418423108,0.7330210772833724,0.7861046057767369,0.7915690866510539,0.7587822014051522,0.8056206088992974,0.7982045277127244,0.8099141295862607,0.6467603434816549,0.7794691647150663,0.8212334113973458,0.7903981264637002,0.6270491803278688,0.664519906323185,0.8352849336455894,0.8306010928961749,0.825526932084309,0.8165495706479313,0.8446526151444185,0.8614363778298204,0.8653395784543325,0.8188914910226386,0.8715846994535519,0.845823575331772,0.8747072599531616,0.8719750195160032,0.8731459797033567,0.8665105386416863,0.8684621389539422,0.8579234972677596,0.8731459797033567,0.8766588602654176,0.8653395784543325,0.8762685402029664,0.8747072599531616,0.8661202185792349,0.8750975800156128,0.8778298204527712,0.8392857142857142,0.8704137392661984,0.8334309133489461,0.8758782201405152,0.8711943793911008,0.8758782201405152,0.8766588602654176,0.8314793130366901,0.8739266198282591,0.8369437939110069,0.8770491803278688,0.8821233411397346,0.87743950039032,0.8377244340359093,0.8797814207650273,0.8365534738485558,0.8373341139734582,0.882903981264637,0.8361631537861045,0.8400663544106166,0.8782201405152225,0.8412373145979704,0.87743950039032,0.8832943013270882,0.8809523809523809,0.8821233411397346,0.8805620608899297,0.8766588602654176,0.87743950039032,0.8793911007025761,0.8840749414519906,0.8805620608899297,0.8836846213895394,0.8871975019516003,0.8805620608899297,0.849824355971897,0.8836846213895394,0.8797814207650273,0.8825136612021858,0.89032006245121,0.8875878220140515,0.8934426229508197,0.8887587822014051,0.8864168618266979,0.8930523028883685,0.8879781420765027,0.8879781420765027,0.8895394223263076,0.8864168618266979,0.8926619828259172,0.8852459016393442,0.8447501951600311,0.855679156908665,0.8852459016393442,0.8412373145979704,0.8778298204527712,0.8965651834504293,0.8447501951600311,0.8852459016393442,0.8911007025761124,0.8412373145979704,0.8521662763466042,0.89032006245121,0.8809523809523809,0.8914910226385636,0.8875878220140515,0.846311475409836,0.8470921155347384,0.8470921155347384,0.8844652615144418,0.8525565964090553,0.8478727556596408,0.8494340359094457,0.8832943013270882,0.8252341920374707,0.8840749414519906,0.8459211553473849,0.8494340359094457,0.8914910226385636,0.8490437158469946,0.7131147540983607,0.8361631537861045,0.7614168618266979,0.8860265417642467,0.8797814207650273,0.8338212334113972,0.7224824355971897,0.8486533957845432,0.8030835284933646,0.8396760343481655,0.8899297423887588,0.8926619828259172,0.7641491022638564,0.8128415300546448,0.8856362217017955,0.8062060889929743,0.8314793130366901,0.8046448087431695,0.8369437939110069],\"type\":\"scatter\"}],                        {\"template\":{\"data\":{\"histogram2dcontour\":[{\"type\":\"histogram2dcontour\",\"colorbar\":{\"outlinewidth\":0,\"ticks\":\"\"},\"colorscale\":[[0.0,\"#0d0887\"],[0.1111111111111111,\"#46039f\"],[0.2222222222222222,\"#7201a8\"],[0.3333333333333333,\"#9c179e\"],[0.4444444444444444,\"#bd3786\"],[0.5555555555555556,\"#d8576b\"],[0.6666666666666666,\"#ed7953\"],[0.7777777777777778,\"#fb9f3a\"],[0.8888888888888888,\"#fdca26\"],[1.0,\"#f0f921\"]]}],\"choropleth\":[{\"type\":\"choropleth\",\"colorbar\":{\"outlinewidth\":0,\"ticks\":\"\"}}],\"histogram2d\":[{\"type\":\"histogram2d\",\"colorbar\":{\"outlinewidth\":0,\"ticks\":\"\"},\"colorscale\":[[0.0,\"#0d0887\"],[0.1111111111111111,\"#46039f\"],[0.2222222222222222,\"#7201a8\"],[0.3333333333333333,\"#9c179e\"],[0.4444444444444444,\"#bd3786\"],[0.5555555555555556,\"#d8576b\"],[0.6666666666666666,\"#ed7953\"],[0.7777777777777778,\"#fb9f3a\"],[0.8888888888888888,\"#fdca26\"],[1.0,\"#f0f921\"]]}],\"heatmap\":[{\"type\":\"heatmap\",\"colorbar\":{\"outlinewidth\":0,\"ticks\":\"\"},\"colorscale\":[[0.0,\"#0d0887\"],[0.1111111111111111,\"#46039f\"],[0.2222222222222222,\"#7201a8\"],[0.3333333333333333,\"#9c179e\"],[0.4444444444444444,\"#bd3786\"],[0.5555555555555556,\"#d8576b\"],[0.6666666666666666,\"#ed7953\"],[0.7777777777777778,\"#fb9f3a\"],[0.8888888888888888,\"#fdca26\"],[1.0,\"#f0f921\"]]}],\"heatmapgl\":[{\"type\":\"heatmapgl\",\"colorbar\":{\"outlinewidth\":0,\"ticks\":\"\"},\"colorscale\":[[0.0,\"#0d0887\"],[0.1111111111111111,\"#46039f\"],[0.2222222222222222,\"#7201a8\"],[0.3333333333333333,\"#9c179e\"],[0.4444444444444444,\"#bd3786\"],[0.5555555555555556,\"#d8576b\"],[0.6666666666666666,\"#ed7953\"],[0.7777777777777778,\"#fb9f3a\"],[0.8888888888888888,\"#fdca26\"],[1.0,\"#f0f921\"]]}],\"contourcarpet\":[{\"type\":\"contourcarpet\",\"colorbar\":{\"outlinewidth\":0,\"ticks\":\"\"}}],\"contour\":[{\"type\":\"contour\",\"colorbar\":{\"outlinewidth\":0,\"ticks\":\"\"},\"colorscale\":[[0.0,\"#0d0887\"],[0.1111111111111111,\"#46039f\"],[0.2222222222222222,\"#7201a8\"],[0.3333333333333333,\"#9c179e\"],[0.4444444444444444,\"#bd3786\"],[0.5555555555555556,\"#d8576b\"],[0.6666666666666666,\"#ed7953\"],[0.7777777777777778,\"#fb9f3a\"],[0.8888888888888888,\"#fdca26\"],[1.0,\"#f0f921\"]]}],\"surface\":[{\"type\":\"surface\",\"colorbar\":{\"outlinewidth\":0,\"ticks\":\"\"},\"colorscale\":[[0.0,\"#0d0887\"],[0.1111111111111111,\"#46039f\"],[0.2222222222222222,\"#7201a8\"],[0.3333333333333333,\"#9c179e\"],[0.4444444444444444,\"#bd3786\"],[0.5555555555555556,\"#d8576b\"],[0.6666666666666666,\"#ed7953\"],[0.7777777777777778,\"#fb9f3a\"],[0.8888888888888888,\"#fdca26\"],[1.0,\"#f0f921\"]]}],\"mesh3d\":[{\"type\":\"mesh3d\",\"colorbar\":{\"outlinewidth\":0,\"ticks\":\"\"}}],\"scatter\":[{\"fillpattern\":{\"fillmode\":\"overlay\",\"size\":10,\"solidity\":0.2},\"type\":\"scatter\"}],\"parcoords\":[{\"type\":\"parcoords\",\"line\":{\"colorbar\":{\"outlinewidth\":0,\"ticks\":\"\"}}}],\"scatterpolargl\":[{\"type\":\"scatterpolargl\",\"marker\":{\"colorbar\":{\"outlinewidth\":0,\"ticks\":\"\"}}}],\"bar\":[{\"error_x\":{\"color\":\"#2a3f5f\"},\"error_y\":{\"color\":\"#2a3f5f\"},\"marker\":{\"line\":{\"color\":\"#E5ECF6\",\"width\":0.5},\"pattern\":{\"fillmode\":\"overlay\",\"size\":10,\"solidity\":0.2}},\"type\":\"bar\"}],\"scattergeo\":[{\"type\":\"scattergeo\",\"marker\":{\"colorbar\":{\"outlinewidth\":0,\"ticks\":\"\"}}}],\"scatterpolar\":[{\"type\":\"scatterpolar\",\"marker\":{\"colorbar\":{\"outlinewidth\":0,\"ticks\":\"\"}}}],\"histogram\":[{\"marker\":{\"pattern\":{\"fillmode\":\"overlay\",\"size\":10,\"solidity\":0.2}},\"type\":\"histogram\"}],\"scattergl\":[{\"type\":\"scattergl\",\"marker\":{\"colorbar\":{\"outlinewidth\":0,\"ticks\":\"\"}}}],\"scatter3d\":[{\"type\":\"scatter3d\",\"line\":{\"colorbar\":{\"outlinewidth\":0,\"ticks\":\"\"}},\"marker\":{\"colorbar\":{\"outlinewidth\":0,\"ticks\":\"\"}}}],\"scattermapbox\":[{\"type\":\"scattermapbox\",\"marker\":{\"colorbar\":{\"outlinewidth\":0,\"ticks\":\"\"}}}],\"scatterternary\":[{\"type\":\"scatterternary\",\"marker\":{\"colorbar\":{\"outlinewidth\":0,\"ticks\":\"\"}}}],\"scattercarpet\":[{\"type\":\"scattercarpet\",\"marker\":{\"colorbar\":{\"outlinewidth\":0,\"ticks\":\"\"}}}],\"carpet\":[{\"aaxis\":{\"endlinecolor\":\"#2a3f5f\",\"gridcolor\":\"white\",\"linecolor\":\"white\",\"minorgridcolor\":\"white\",\"startlinecolor\":\"#2a3f5f\"},\"baxis\":{\"endlinecolor\":\"#2a3f5f\",\"gridcolor\":\"white\",\"linecolor\":\"white\",\"minorgridcolor\":\"white\",\"startlinecolor\":\"#2a3f5f\"},\"type\":\"carpet\"}],\"table\":[{\"cells\":{\"fill\":{\"color\":\"#EBF0F8\"},\"line\":{\"color\":\"white\"}},\"header\":{\"fill\":{\"color\":\"#C8D4E3\"},\"line\":{\"color\":\"white\"}},\"type\":\"table\"}],\"barpolar\":[{\"marker\":{\"line\":{\"color\":\"#E5ECF6\",\"width\":0.5},\"pattern\":{\"fillmode\":\"overlay\",\"size\":10,\"solidity\":0.2}},\"type\":\"barpolar\"}],\"pie\":[{\"automargin\":true,\"type\":\"pie\"}]},\"layout\":{\"autotypenumbers\":\"strict\",\"colorway\":[\"#636efa\",\"#EF553B\",\"#00cc96\",\"#ab63fa\",\"#FFA15A\",\"#19d3f3\",\"#FF6692\",\"#B6E880\",\"#FF97FF\",\"#FECB52\"],\"font\":{\"color\":\"#2a3f5f\"},\"hovermode\":\"closest\",\"hoverlabel\":{\"align\":\"left\"},\"paper_bgcolor\":\"white\",\"plot_bgcolor\":\"#E5ECF6\",\"polar\":{\"bgcolor\":\"#E5ECF6\",\"angularaxis\":{\"gridcolor\":\"white\",\"linecolor\":\"white\",\"ticks\":\"\"},\"radialaxis\":{\"gridcolor\":\"white\",\"linecolor\":\"white\",\"ticks\":\"\"}},\"ternary\":{\"bgcolor\":\"#E5ECF6\",\"aaxis\":{\"gridcolor\":\"white\",\"linecolor\":\"white\",\"ticks\":\"\"},\"baxis\":{\"gridcolor\":\"white\",\"linecolor\":\"white\",\"ticks\":\"\"},\"caxis\":{\"gridcolor\":\"white\",\"linecolor\":\"white\",\"ticks\":\"\"}},\"coloraxis\":{\"colorbar\":{\"outlinewidth\":0,\"ticks\":\"\"}},\"colorscale\":{\"sequential\":[[0.0,\"#0d0887\"],[0.1111111111111111,\"#46039f\"],[0.2222222222222222,\"#7201a8\"],[0.3333333333333333,\"#9c179e\"],[0.4444444444444444,\"#bd3786\"],[0.5555555555555556,\"#d8576b\"],[0.6666666666666666,\"#ed7953\"],[0.7777777777777778,\"#fb9f3a\"],[0.8888888888888888,\"#fdca26\"],[1.0,\"#f0f921\"]],\"sequentialminus\":[[0.0,\"#0d0887\"],[0.1111111111111111,\"#46039f\"],[0.2222222222222222,\"#7201a8\"],[0.3333333333333333,\"#9c179e\"],[0.4444444444444444,\"#bd3786\"],[0.5555555555555556,\"#d8576b\"],[0.6666666666666666,\"#ed7953\"],[0.7777777777777778,\"#fb9f3a\"],[0.8888888888888888,\"#fdca26\"],[1.0,\"#f0f921\"]],\"diverging\":[[0,\"#8e0152\"],[0.1,\"#c51b7d\"],[0.2,\"#de77ae\"],[0.3,\"#f1b6da\"],[0.4,\"#fde0ef\"],[0.5,\"#f7f7f7\"],[0.6,\"#e6f5d0\"],[0.7,\"#b8e186\"],[0.8,\"#7fbc41\"],[0.9,\"#4d9221\"],[1,\"#276419\"]]},\"xaxis\":{\"gridcolor\":\"white\",\"linecolor\":\"white\",\"ticks\":\"\",\"title\":{\"standoff\":15},\"zerolinecolor\":\"white\",\"automargin\":true,\"zerolinewidth\":2},\"yaxis\":{\"gridcolor\":\"white\",\"linecolor\":\"white\",\"ticks\":\"\",\"title\":{\"standoff\":15},\"zerolinecolor\":\"white\",\"automargin\":true,\"zerolinewidth\":2},\"scene\":{\"xaxis\":{\"backgroundcolor\":\"#E5ECF6\",\"gridcolor\":\"white\",\"linecolor\":\"white\",\"showbackground\":true,\"ticks\":\"\",\"zerolinecolor\":\"white\",\"gridwidth\":2},\"yaxis\":{\"backgroundcolor\":\"#E5ECF6\",\"gridcolor\":\"white\",\"linecolor\":\"white\",\"showbackground\":true,\"ticks\":\"\",\"zerolinecolor\":\"white\",\"gridwidth\":2},\"zaxis\":{\"backgroundcolor\":\"#E5ECF6\",\"gridcolor\":\"white\",\"linecolor\":\"white\",\"showbackground\":true,\"ticks\":\"\",\"zerolinecolor\":\"white\",\"gridwidth\":2}},\"shapedefaults\":{\"line\":{\"color\":\"#2a3f5f\"}},\"annotationdefaults\":{\"arrowcolor\":\"#2a3f5f\",\"arrowhead\":0,\"arrowwidth\":1},\"geo\":{\"bgcolor\":\"white\",\"landcolor\":\"#E5ECF6\",\"subunitcolor\":\"white\",\"showland\":true,\"showlakes\":true,\"lakecolor\":\"white\"},\"title\":{\"x\":0.05},\"mapbox\":{\"style\":\"light\"}}},\"title\":{\"text\":\"Grafica de Balanced Acc por epoca\"},\"xaxis\":{\"title\":{\"text\":\"EPOCAS\"}},\"yaxis\":{\"title\":{\"text\":\"BAL_ACC\"}}},                        {\"responsive\": true}                    ).then(function(){\n",
       "                            \n",
       "var gd = document.getElementById('ca8b6f5d-9adc-4719-842a-a35ef5d4824d');\n",
       "var x = new MutationObserver(function (mutations, observer) {{\n",
       "        var display = window.getComputedStyle(gd).display;\n",
       "        if (!display || display === 'none') {{\n",
       "            console.log([gd, 'removed!']);\n",
       "            Plotly.purge(gd);\n",
       "            observer.disconnect();\n",
       "        }}\n",
       "}});\n",
       "\n",
       "// Listen for the removal of the full notebook cells\n",
       "var notebookContainer = gd.closest('#notebook-container');\n",
       "if (notebookContainer) {{\n",
       "    x.observe(notebookContainer, {childList: true});\n",
       "}}\n",
       "\n",
       "// Listen for the clearing of the current output cell\n",
       "var outputEl = gd.closest('.output');\n",
       "if (outputEl) {{\n",
       "    x.observe(outputEl, {childList: true});\n",
       "}}\n",
       "\n",
       "                        })                };                });            </script>        </div>"
      ]
     },
     "metadata": {},
     "output_type": "display_data"
    }
   ],
   "source": [
    "analizarProject(path_base, '20241126_012437')"
   ]
  },
  {
   "cell_type": "code",
   "execution_count": null,
   "id": "64d63c3f-b431-4774-bddf-5e6c547b770d",
   "metadata": {},
   "outputs": [],
   "source": []
  },
  {
   "cell_type": "code",
   "execution_count": 18,
   "id": "e45d4e9f-2c8f-4ae9-bfc5-645a935f21cf",
   "metadata": {},
   "outputs": [
    {
     "ename": "Exception",
     "evalue": "Hola",
     "output_type": "error",
     "traceback": [
      "\u001b[1;31m---------------------------------------------------------------------------\u001b[0m",
      "\u001b[1;31mException\u001b[0m                                 Traceback (most recent call last)",
      "Input \u001b[1;32mIn [18]\u001b[0m, in \u001b[0;36m<cell line: 1>\u001b[1;34m()\u001b[0m\n\u001b[1;32m----> 1\u001b[0m \u001b[38;5;28;01mraise\u001b[39;00m \u001b[38;5;167;01mException\u001b[39;00m(\u001b[38;5;124m'\u001b[39m\u001b[38;5;124mHola\u001b[39m\u001b[38;5;124m'\u001b[39m)\n",
      "\u001b[1;31mException\u001b[0m: Hola"
     ]
    }
   ],
   "source": [
    "raise Exception('Hola')"
   ]
  },
  {
   "cell_type": "code",
   "execution_count": 19,
   "id": "5f798a4a-c7b6-48c7-b0f7-e6d43e112018",
   "metadata": {},
   "outputs": [
    {
     "data": {
      "text/plain": [
       "{'idTest': {1451: '20241027_124016'},\n",
       " 'epoca': {1451: 161},\n",
       " 'TNR': {1451: 0.9111111111111111},\n",
       " 'TPR': {1451: 0.6632423756019261},\n",
       " 'acc_bal': {1451: 0.7871767433565187},\n",
       " 'train_TNR': {1451: 0.9200721153846154},\n",
       " 'train_TPR': {1451: 0.6881009615384616},\n",
       " 'train_acc_bal': {1451: 0.8040865384615385},\n",
       " 'FDR_FOR': {1451: 0.48215884412533794},\n",
       " 'P-inputs': {1451: \"['imagen', '_dato', '_umb1', '_altura']\"},\n",
       " 'P-lr': {1451: 0.001},\n",
       " 'P-batchNorm': {1451: True},\n",
       " 'P-cnn_cant': {1451: 6},\n",
       " 'P-cnn_units': {1451: '[16, 32, 64, 32, 16, 8]'},\n",
       " 'P-droupout': {1451: '[0.1, 0.3, 0.2, 0.2, 0.1, 0.1]'},\n",
       " 'P-maxPool': {1451: '[False, False, False, False, False, False]'},\n",
       " 'P-rnn_tipo': {1451: 'CONV3D'},\n",
       " 'P-dense_cant': {1451: 4},\n",
       " 'P-dense_units': {1451: '[64, 32, 16, 8]'},\n",
       " 'P-tiempos': {1451: 6},\n",
       " 'P-margen': {1451: 12},\n",
       " 'P-dense_droupout': {1451: '[0.3, 0.2, 0.1, 0]'},\n",
       " 'P-optimizer': {1451: 'Adam'},\n",
       " 'P-lr_schedule': {1451: 0.0},\n",
       " 'P-kernel_regularizer': {1451: '[0, 0, 0, 0]'},\n",
       " 'P-lr_decay': {1451: 0.94}}"
      ]
     },
     "execution_count": 19,
     "metadata": {},
     "output_type": "execute_result"
    }
   ],
   "source": [
    "bestResults[bestResults['idTest'] == '20241027_124016'].head(1).to_dict()"
   ]
  },
  {
   "cell_type": "code",
   "execution_count": null,
   "id": "41728775-390e-4af8-bc71-c44b836eceb6",
   "metadata": {
    "tags": []
   },
   "outputs": [],
   "source": [
    "a = [\n",
    " 'P-extra_inputs' , #'P-inputs',\n",
    " 'P-lr',\n",
    " ##'P-normLayer', \n",
    " ##'P-pre_trained', \n",
    " 'P-cnn_units', \n",
    " #'P-cnn_cant', \n",
    " 'P-rnn_units', # -\n",
    " #'P-dense_cant',\n",
    " 'P-dense_units',\n",
    " 'P-time_frames', #'P-tiempos',\n",
    " 'P-size_-window (px)', #'P-margen',\n",
    " ##'acc_bal'\n",
    "]"
   ]
  },
  {
   "cell_type": "code",
   "execution_count": null,
   "id": "547a32e8-7c79-4ee6-b317-b772cc55cf9e",
   "metadata": {},
   "outputs": [],
   "source": [
    "bestResults['P-inputs'].unique()"
   ]
  },
  {
   "cell_type": "code",
   "execution_count": null,
   "id": "8588a0d1-b5d7-461c-aba8-e14f5f99ab6e",
   "metadata": {},
   "outputs": [],
   "source": [
    "bestResults.rename(columns={'P-tiempos': 'P-time_frames'}, inplace=True)\n",
    "bestResults.rename(columns={'P-tiempos': 'P-time_frames'}, inplace=True)\n",
    "bestResults.rename(columns={'P-margen': 'P-size_-window (px)'}, inplace=True)\n",
    "bestResults.rename(columns={'P-inputs': 'P-extra_inputs'}, inplace=True)\n",
    "valores_a_reemplazar = {\"['imagen', 'dato', 'umb1', 'altura']\" : \"['stat90', 'altitude']\" , \n",
    "                        \"['imagen', 'dato', 'altura']\" : \"['altitude']\" ,\n",
    "                        \"['imagen', 'dato', 'umb1']\" : \"['stat90']\",\n",
    "                       }\n",
    "bestResults['P-extra_inputs'] = bestResults['P-extra_inputs'].replace(valores_a_reemplazar)"
   ]
  },
  {
   "cell_type": "code",
   "execution_count": null,
   "id": "48774d0e-ac59-45f2-ace8-a15802d62cb2",
   "metadata": {},
   "outputs": [],
   "source": [
    "def plotly_parallel_coordinates(df, cols=[], color='acc_bal'):\n",
    "    if not cols:\n",
    "        cols =  [x for x in df.columns if ('__' in x) and (x != 'acc_bal')]\n",
    "    \n",
    "    data = []\n",
    "    for col in cols:\n",
    "        try:\n",
    "            df[f'__{col}'] = df[col].astype(float)\n",
    "            \n",
    "            text_values = list(df[f'__{col}'].unique())\n",
    "            original_values = list(df[f'{col}'].unique())\n",
    "        except ValueError:\n",
    "            uniques_values = list(df[col].unique())\n",
    "            df[f'__{col}'] = df[col].apply(lambda x : uniques_values.index(x))    \n",
    "            \n",
    "            text_values = [x for x in range(len(uniques_values))]\n",
    "            original_values = list(df[f'{col}'].unique())\n",
    "            \n",
    "        dict_values = {\n",
    "            'label' : col,\n",
    "            'range' : [df[f'__{col}'].min(), df[f'__{col}'].max()],\n",
    "            'values' : df[f'__{col}'],     \n",
    "            \n",
    "            'tickvals' : text_values, #[1,2,4,5],\n",
    "            'ticktext' : original_values, #['text 1', 'text 2', 'text 3', 'text 4']\n",
    "            \n",
    "        }\n",
    "        data.append(dict_values)\n",
    "        \n",
    "    fig = go.Figure(data=\n",
    "        go.Parcoords(            \n",
    "            line = dict(color = df[color],\n",
    "                   #colorscale = 'Electric',\n",
    "                   showscale = True,\n",
    "                   cmin = df[color].min(),\n",
    "                   cmax = df[color].max()),\n",
    "            dimensions = data)\n",
    "    )\n",
    "    \n",
    "    \n",
    "   \n",
    "    fig.update_layout(\n",
    "        width=100,\n",
    "        font=dict(size=20),  # Tamaño general de la fuente\n",
    "        #title=dict(text='Gráfico de Coordenadas Paralelas', font=dict(size=20)),  # Tamaño del título\n",
    "        margin=dict(l=60, r=10, t=40, b=10)  # Ajustar márgenes\n",
    "    )\n",
    "    \n",
    "    fig.show()\n",
    "plotly_parallel_coordinates(bestResults, cols=a, color='acc_bal')"
   ]
  },
  {
   "cell_type": "code",
   "execution_count": null,
   "id": "f06966de-4f94-4002-b5a6-b5e20e0781df",
   "metadata": {},
   "outputs": [],
   "source": [
    "len(bestResults['idTest'].unique())"
   ]
  },
  {
   "cell_type": "code",
   "execution_count": null,
   "id": "01ea460f-9946-4e23-b869-fe5850fcca16",
   "metadata": {},
   "outputs": [],
   "source": [
    "plotly_parallel_coordinates(bestResults, cols=a, color='acc_bal')"
   ]
  },
  {
   "cell_type": "code",
   "execution_count": null,
   "id": "914c611c-18df-4ba6-ac1f-1ac1f83ed007",
   "metadata": {},
   "outputs": [],
   "source": [
    "bestResults['idTest'].nunique()"
   ]
  },
  {
   "cell_type": "code",
   "execution_count": null,
   "id": "2dcfef20-fbfc-4723-8a70-eb01e7cdc114",
   "metadata": {},
   "outputs": [],
   "source": [
    "bestResults"
   ]
  },
  {
   "cell_type": "code",
   "execution_count": null,
   "id": "4bbf3d06-9ef9-4812-83fd-23c86cd649b9",
   "metadata": {},
   "outputs": [],
   "source": [
    "#cols = [x for x in _data.columns if ('__' in x) and (x != '__acc_bal')]\n",
    "#fig = px.parallel_coordinates(_data, color=\"__acc_bal\",\n",
    "#                              dimensions=cols)\n",
    "#fig.show()"
   ]
  },
  {
   "cell_type": "code",
   "execution_count": null,
   "id": "0765067c",
   "metadata": {},
   "outputs": [],
   "source": [
    "bestResults[bestResults['idTest']=='20240326_224209'].to_dict()"
   ]
  },
  {
   "cell_type": "code",
   "execution_count": null,
   "id": "42ddf1a1",
   "metadata": {},
   "outputs": [],
   "source": [
    "import pickle"
   ]
  },
  {
   "cell_type": "code",
   "execution_count": null,
   "id": "13136ae8",
   "metadata": {},
   "outputs": [],
   "source": [
    "df = pd.read_csv(f'{path_base}/Archivos/Reportes/Entrenamiento/Clasificacion/Reporte-TOTAL.csv')  \n",
    "df.columns"
   ]
  },
  {
   "cell_type": "code",
   "execution_count": null,
   "id": "50272f06",
   "metadata": {},
   "outputs": [],
   "source": [
    "df[df['idTest']=='20230709_112005'][['loss', 'acc', 'TP', 'TN', 'FP', 'FN', 'val_loss',\n",
    "       'val_acc', 'val_TP', 'val_TN', 'val_FP', 'val_FN', 'epoca', 'idTest',\n",
    "       'idProject', 'directory', 'P-dsTName']].tail(1)"
   ]
  },
  {
   "cell_type": "code",
   "execution_count": null,
   "id": "d9c8d460-04bb-48b0-8fc4-41453cf1e106",
   "metadata": {},
   "outputs": [],
   "source": [
    "df[df['idTest']=='20230710_224918'][['loss', 'acc', 'TP', 'TN', 'FP', 'FN', 'val_loss',\n",
    "       'val_acc', 'val_TP', 'val_TN', 'val_FP', 'val_FN', 'epoca', 'idTest',\n",
    "       'idProject', 'directory', 'P-dsTName']].tail(1)"
   ]
  },
  {
   "cell_type": "code",
   "execution_count": null,
   "id": "135f183c",
   "metadata": {},
   "outputs": [],
   "source": [
    "\"\"\"\n",
    "Analizamos un proyecto de clasifiacion a mas detalle\n",
    "\"\"\""
   ]
  },
  {
   "cell_type": "code",
   "execution_count": null,
   "id": "b11a2d7e",
   "metadata": {},
   "outputs": [],
   "source": [
    "analizarProject(path_base, '20240924_235431')"
   ]
  },
  {
   "cell_type": "code",
   "execution_count": null,
   "id": "ab5893e3",
   "metadata": {},
   "outputs": [],
   "source": [
    "data = bestResults.copy()\n",
    "data.loc[data['P-inputs'] == \"['imagen', 'umb1', 'dato', 'altura']\", 'P-inputs'] = \"['imagen', 'dato', 'umb1', 'altura']\"\n",
    "data['P-inputs'] = data['P-inputs'].str.replace(\"'imagen', 'dato'\",\"+\")\n",
    "#data = data.drop(['P-droupout','P-maxPool','P-cnn_units','P-cnn_cant'], axis=1)\n",
    "\n",
    "col = [e for e in data.columns if 'P-' in e]\n",
    "col.append('acc_bal')\n",
    "_data = data[col]\n",
    "\n",
    "def groupAcc(x):\n",
    "    if x < 0.6:\n",
    "        return 0\n",
    "    elif x < 0.7:\n",
    "        return 1\n",
    "    else:\n",
    "        return 2\n",
    "\n",
    "    \n",
    "_data['Acc'] = _data['acc_bal'].apply(lambda x : groupAcc(x))"
   ]
  },
  {
   "cell_type": "code",
   "execution_count": null,
   "id": "f869d330-7aba-40f9-a605-047be4d120e7",
   "metadata": {},
   "outputs": [],
   "source": [
    "_data['acc_bal'].max()"
   ]
  },
  {
   "cell_type": "code",
   "execution_count": null,
   "id": "524556d9-eefa-42a1-8df8-113bd94b2351",
   "metadata": {},
   "outputs": [],
   "source": [
    "a = [\n",
    "#'P-inputs',\n",
    " 'P-lr',\n",
    " 'P-normLayer',\n",
    " 'P-cnn_units',\n",
    " #'P-droupout',\n",
    " #'P-maxPool',\n",
    " #'P-rnn_tipo',\n",
    " #'P-rnn_units',\n",
    " #'P-dense_cant',\n",
    " #'P-dense_units',\n",
    " 'P-tiempos',\n",
    " 'P-margen',\n",
    "# 'acc_bal'\n",
    "]\n",
    "#col[:-1]"
   ]
  },
  {
   "cell_type": "code",
   "execution_count": null,
   "id": "efbdc801-b6bf-40cd-91ba-e15d9bf3b217",
   "metadata": {},
   "outputs": [],
   "source": [
    "fig = px.parallel_categories(_data, color='Acc', dimensions=col[:-1],  color_continuous_scale=px.colors.diverging.Fall)\n",
    "fig.show()"
   ]
  },
  {
   "cell_type": "code",
   "execution_count": null,
   "id": "3294f357",
   "metadata": {},
   "outputs": [],
   "source": [
    "fig = px.parallel_categories(_data, color='Acc', dimensions=a,  color_continuous_scale=px.colors.diverging.Fall)\n",
    "fig.show()"
   ]
  },
  {
   "cell_type": "code",
   "execution_count": null,
   "id": "6f2367f8",
   "metadata": {},
   "outputs": [],
   "source": [
    "\n",
    "\n",
    "cars_df = data#pd.read_csv('https://raw.githubusercontent.com/plotly/datasets/master/imports-85.csv')\n",
    "\n",
    "col = [e for e in data.columns if 'P-' in e]\n",
    "\n",
    "# Build parcats dimensions\n",
    "categorical_dimensions = col\n",
    "\n",
    "dimensions = [dict(values=cars_df[label], label=label) for label in categorical_dimensions]\n",
    "\n",
    "# Build colorscale\n",
    "color = np.zeros(len(cars_df), dtype='uint8')\n",
    "colorscale = [[0, 'gray'], [0.33, 'gray'],\n",
    "              [0.33, 'firebrick'], [0.66, 'firebrick'],\n",
    "              [0.66, 'blue'], [1.0, 'blue']]\n",
    "cmin = -0.5\n",
    "cmax = 2.5\n",
    "\n",
    "# Build figure as FigureWidget\n",
    "fig = go.FigureWidget(\n",
    "    data=[go.Scatter(x=cars_df['TNR'], y=cars_df['TPR'],\n",
    "                marker={'color': color, 'cmin': cmin, 'cmax': cmax,\n",
    "                        'colorscale': colorscale, 'showscale': True,\n",
    "                        'colorbar': {'tickvals': [0, 1, 2], 'ticktext': ['None', 'Red', 'Blue']}},\n",
    "                     mode='markers'),\n",
    "\n",
    "          go.Parcats(domain={'y': [0.3, 0.5]}, dimensions=dimensions,\n",
    "                   line={'colorscale': colorscale, 'cmin': cmin,\n",
    "                         'cmax': cmax, 'color': color, 'shape': 'hspline'}),\n",
    "         go.Table(domain={'y': [0, 0.28]}, header=dict(values=data.columns),\n",
    "                 cells=dict(values=[[0]]*len(data.columns), format = [\".2f\"])\n",
    "                 )],\n",
    "    layout = {\n",
    "        'shapes': [\n",
    "            # Line Horizontal\n",
    "            {\n",
    "                'type': 'line','x0': 0,'y0': 0.5,'x1': 1,'y1': 0.5,'line': {'color': 'rgb(50, 171, 96)','width': 1},\n",
    "            },\n",
    "            {\n",
    "                'type': 'line','x0': 0.5,'y0': 0,'x1': 0.5 ,'y1': 1,'line': {'color': 'rgb(50, 171, 96)','width': 1},\n",
    "            },\n",
    "            {\n",
    "                'type': 'line','x0': 0,'y0': 0,'x1': 1 ,'y1': 1,'line': {'color': 'rgb(50, 171, 96)','width': 1},\n",
    "            }\n",
    "        ],\n",
    "    'showlegend': False\n",
    "}\n",
    "    \n",
    ")\n",
    "\n",
    "fig.update_layout(title={'text':'TNP VS TNR DE ESTADISTICAS DE VALIDACION'},height=1000, xaxis={'title': 'TNR', 'domain': [0.1,0.9]},\n",
    "                  yaxis={'title': 'TPR', 'domain': [0.6, 1]},\n",
    "                  dragmode='lasso', hovermode='closest', yaxis_range=[0,1], xaxis_range=[0,1])\n",
    "\n",
    "# Build color selection widget\n",
    "color_toggle = widgets.ToggleButtons(\n",
    "    options=['None', 'Red', 'Blue'],\n",
    "    index=1, description='Brush Color:', disabled=False)\n",
    "\n",
    "# Update color callback\n",
    "def update_color(trace, points, state):\n",
    "    # Compute new color array\n",
    "    new_color = np.array(fig.data[0].marker.color)\n",
    "    new_color[points.point_inds] = color_toggle.index\n",
    "    #print(points)\n",
    "    with fig.batch_update():\n",
    "        # Update scatter color\n",
    "        fig.data[0].marker.color = new_color\n",
    "\n",
    "        # Update parcats colors\n",
    "        fig.data[1].line.color = new_color\n",
    "        \n",
    "        # Update table\n",
    "        tx = data.iloc[points.point_inds]\n",
    "        fig.data[2].cells =  dict(values= tx.T, format= [\"\",\"\",\".2f\",\".2f\",\".2f\",\".2f\",\".2f\",\".2f\",\"\"])\n",
    "\n",
    "# Register callback on scatter selection...\n",
    "fig.data[0].on_selection(update_color)\n",
    "# and parcats click\n",
    "fig.data[1].on_click(update_color)\n",
    "\n",
    "# Display figure\n",
    "widgets.VBox([color_toggle, fig])\n"
   ]
  },
  {
   "cell_type": "code",
   "execution_count": null,
   "id": "031c43c2-7aef-441f-b2f5-467966ddb5d2",
   "metadata": {},
   "outputs": [],
   "source": []
  },
  {
   "cell_type": "code",
   "execution_count": null,
   "id": "9c4564b7-0dfe-42fc-ad3f-d197cc896997",
   "metadata": {},
   "outputs": [],
   "source": []
  }
 ],
 "metadata": {
  "kernelspec": {
   "display_name": "Python 3 (ipykernel)",
   "language": "python",
   "name": "python3"
  },
  "language_info": {
   "codemirror_mode": {
    "name": "ipython",
    "version": 3
   },
   "file_extension": ".py",
   "mimetype": "text/x-python",
   "name": "python",
   "nbconvert_exporter": "python",
   "pygments_lexer": "ipython3",
   "version": "3.9.11"
  }
 },
 "nbformat": 4,
 "nbformat_minor": 5
}
