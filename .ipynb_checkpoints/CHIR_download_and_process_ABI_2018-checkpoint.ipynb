{
 "cells": [
  {
   "cell_type": "code",
   "execution_count": 9,
   "metadata": {
    "colab": {
     "base_uri": "https://localhost:8080/"
    },
    "id": "HkEQP6soW_fD",
    "outputId": "3e087d7f-a77d-4013-bc56-4352c83d1001"
   },
   "outputs": [
    {
     "name": "stdout",
     "output_type": "stream",
     "text": [
      "Drive already mounted at /content/drive; to attempt to forcibly remount, call drive.mount(\"/content/drive\", force_remount=True).\n"
     ]
    }
   ],
   "source": [
    "from google.colab import drive\n",
    "drive.mount('/content/drive')#, force_remount=True)"
   ]
  },
  {
   "cell_type": "code",
   "execution_count": 10,
   "metadata": {
    "id": "QVAw8cSYWzzE"
   },
   "outputs": [],
   "source": [
    "%%capture\n",
    "!pip install GOES\n",
    "!pip install pyresample"
   ]
  },
  {
   "cell_type": "code",
   "execution_count": 11,
   "metadata": {
    "id": "4tN9_c9bW_bs"
   },
   "outputs": [],
   "source": [
    "import datetime\n",
    "import os\n",
    "\n",
    "import numpy as np\n",
    "import GOES\n",
    "import pyproj as pyproj\n",
    "from pyresample import utils\n",
    "from pyresample.geometry import SwathDefinition\n",
    "from pyresample.kd_tree import resample_nearest\n",
    "from pyresample import bilinear\n",
    "from netCDF4 import Dataset, date2num"
   ]
  },
  {
   "cell_type": "code",
   "execution_count": 12,
   "metadata": {
    "id": "56Xffh6jW_iK"
   },
   "outputs": [],
   "source": [
    "def get_bucket(Satellite, Product, DateTime, channel):\n",
    "    DateTime = datetime.datetime.strptime(DateTime,'%Y%m%d-%H%M%S')\n",
    "    pattern = 'gs://gcp-public-data-goes-'+Satellite+'/'+Product+DateTime.strftime('/%Y/%j/%H/')+'*C'+channel+'*s'+DateTime.strftime('%Y%j%H')+'*'\n",
    "    list = !gsutil ls $pattern\n",
    "    return list;"
   ]
  },
  {
   "cell_type": "code",
   "execution_count": 13,
   "metadata": {
    "id": "jrzrtwRwXCz_"
   },
   "outputs": [],
   "source": [
    "def reproject(CMI, LonCen, LatCen, LonCenCyl, LatCenCyl):\n",
    "    Prj = pyproj.Proj('+proj=eqc +lat_ts=0 +lat_0=0 +lon_0=0 +x_0=0 +y_0=0 +a=6378.137 +b=6378.137 +units=km')\n",
    "    AreaID = 'cyl'\n",
    "    AreaName = 'cyl'\n",
    "    ProjID = 'cyl'\n",
    "    Proj4Args = '+proj=eqc +lat_ts=0 +lat_0=0 +lon_0=0 +x_0=0 +y_0=0 +a=6378.137 +b=6378.137 +units=km'\n",
    "\n",
    "    ny, nx = LonCenCyl.shape\n",
    "    SW = Prj(LonCenCyl.min(), LatCenCyl.min())\n",
    "    NE = Prj(LonCenCyl.max(), LatCenCyl.max())\n",
    "    area_extent = [SW[0], SW[1], NE[0], NE[1]]\n",
    "\n",
    "    AreaDef = utils.get_area_def(AreaID, AreaName, ProjID, Proj4Args, nx, ny, area_extent)\n",
    "\n",
    "    SwathDef = SwathDefinition(lons=LonCen, lats=LatCen)\n",
    "    #CMICyl = resample_nearest(SwathDef, CMI, AreaDef, radius_of_influence=6000, fill_value=np.nan, epsilon=0, reduce_data=False)\n",
    "    CMICyl = bilinear.resample_bilinear(CMI, SwathDef, AreaDef, radius=6000, fill_value=np.nan, reduce_data=False, segments=None, epsilon=0) # nprocs=1, neighbours=32\n",
    "\n",
    "    return CMICyl;"
   ]
  },
  {
   "cell_type": "code",
   "execution_count": 14,
   "metadata": {
    "id": "3rfYTa7hXC3C"
   },
   "outputs": [],
   "source": [
    "def save_density_as_nc(Field, FieldName, LonsCen, LatsCen, DateTimeField, NameOutputFile, OutputPath=''):\n",
    "\n",
    "   # creates netcdf file\n",
    "   dataset = Dataset(OutputPath+NameOutputFile, 'w', format='NETCDF4')\n",
    "\n",
    "   # Dimensions - Is necessary that dimension have this names\n",
    "   dataset.createDimension('time', None)\n",
    "   #dataset.createDimension('level', None)\n",
    "   dataset.createDimension('latitude', LatsCen.shape[0])\n",
    "   dataset.createDimension('longitude', LonsCen.shape[1])\n",
    "\n",
    "   # Variables - Is necessary that dimension variables have this names\n",
    "   times_file = dataset.createVariable('time', np.float64, ('time',))\n",
    "   #level_file = dataset.createVariable('level', np.float32, ('level',))\n",
    "   lats_file = dataset.createVariable('latitude', LatsCen.dtype.type, ('latitude',))\n",
    "   lons_file = dataset.createVariable('longitude', LonsCen.dtype.type, ('longitude',))\n",
    "\n",
    "   parameter01 = dataset.createVariable('CMI', Field.dtype.type, ('latitude', 'longitude'), zlib=True) #, least_significant_digit=2)\n",
    "\n",
    "   # Variable attributes\n",
    "   times_file.standard_name = 'time'\n",
    "   times_file.long_name = 'time'\n",
    "   times_file.units = 'hours since 2000-1-1 00:00:00'\n",
    "   times_file.calendar = 'standard'\n",
    "   times_file.axis = 'T'\n",
    "\n",
    "   #level_file.standard_name = 'level'\n",
    "   #level_file.long_name = 'level'\n",
    "   #level_file.units = 'millibars'\n",
    "   #level_file.positive = 'down'\n",
    "   #level_file.axis = 'Z'\n",
    "\n",
    "   lats_file.standard_name = 'latitude'\n",
    "   lats_file.long_name = 'latitude'\n",
    "   lats_file.units = 'degrees_north'\n",
    "   lats_file.axis = 'Y'\n",
    "\n",
    "   lons_file.standard_name = 'longitude'\n",
    "   lons_file.long_name = 'longitude'\n",
    "   lons_file.units = 'degrees_east'\n",
    "   lons_file.axis = 'X'\n",
    "\n",
    "   parameter01.standard_name = 'BT in CYl'#'{} density'.format(FieldName)\n",
    "   parameter01.long_name = 'BT' #'{} density of GLM'.format(FieldName)\n",
    "   parameter01.units = 'K' #'{} CMI in 2x2 Km'.format(FieldName)\n",
    "   parameter01.axis = 'YX'\n",
    "\n",
    "   # Writing variables\n",
    "   times_file[:] = date2num(DateTimeField, units = times_file.units, calendar = times_file.calendar)\n",
    "   #level_file[:] = 1000.0 #level0[:]\n",
    "   lats_file[:] = LatsCen[:,0]\n",
    "   lons_file[:] = LonsCen[0,:]\n",
    "   parameter01[:,:] = Field\n",
    "\n",
    "   # Global attributes\n",
    "   dataset.description = 'GOES-16 Satellite'\n",
    "   dataset.source = 'NOAA-NASA'\n",
    "   dataset.author = 'Joao Henry Huaman Chinchay (joaohenry23@gmail.com)'\n",
    "   dataset.close()"
   ]
  },
  {
   "cell_type": "code",
   "execution_count": 15,
   "metadata": {
    "colab": {
     "base_uri": "https://localhost:8080/"
    },
    "id": "ZdvnqnDdXC9A",
    "outputId": "6be5e444-5731-4e99-ef95-e02270621599"
   },
   "outputs": [
    {
     "name": "stdout",
     "output_type": "stream",
     "text": [
      " \n",
      "20180101-0000   -   20180101-0100  -  \u001b[92mDiurnal time\u001b[0m\n",
      "  Calculates navigation!!!\n",
      "(1588, 1371)\n",
      "(1588, 1371)\n",
      "  OR_ABI-L2-CMIPF-M3C13_G16_s20180010000387_e20180010011165_c20180010011246.nc   27.27 MB  20180101-0000  \u001b[92mfile accepted\u001b[0m\n",
      "  OR_ABI-L2-CMIPF-M3C13_G16_s20180010015387_e20180010026165_c20180010026246.nc   27.28 MB  20180101-0015  \u001b[92mfile accepted\u001b[0m\n",
      "  OR_ABI-L2-CMIPF-M3C13_G16_s20180010030387_e20180010041165_c20180010041245.nc   27.28 MB  20180101-0030  \u001b[92mfile accepted\u001b[0m\n",
      "  OR_ABI-L2-CMIPF-M3C13_G16_s20180010045387_e20180010056165_c20180010056242.nc   27.29 MB  20180101-0045  \u001b[92mfile accepted\u001b[0m\n",
      " \n",
      "20180101-0100   -   20180101-0200  -  \u001b[92mDiurnal time\u001b[0m\n",
      "  OR_ABI-L2-CMIPF-M3C13_G16_s20180010100387_e20180010111165_c20180010111244.nc   27.29 MB  20180101-0100  \u001b[92mfile accepted\u001b[0m\n",
      "  OR_ABI-L2-CMIPF-M3C13_G16_s20180010115387_e20180010126166_c20180010126242.nc   27.30 MB  20180101-0115  \u001b[92mfile accepted\u001b[0m\n",
      "  OR_ABI-L2-CMIPF-M3C13_G16_s20180010130387_e20180010141165_c20180010141240.nc   27.31 MB  20180101-0130  \u001b[92mfile accepted\u001b[0m\n",
      "  OR_ABI-L2-CMIPF-M3C13_G16_s20180010145387_e20180010156165_c20180010156245.nc   27.32 MB  20180101-0145  \u001b[92mfile accepted\u001b[0m\n",
      " \n",
      "116\n"
     ]
    }
   ],
   "source": [
    "path_download = ''\n",
    "path_output = '/content/drive/MyDrive/GOES16/ABI_Cyl/'\n",
    "\n",
    "'''\n",
    "CH02pixresol = 1.0 # resolution of fileout\n",
    "'''\n",
    "\n",
    "# this parameters are used to create a GLM navigation of 2D, then navigation is changed to 1 km\n",
    "pixresol = 2.0\n",
    "domain = [-88.0,-63.0,-25.0,5.0] #[-90.0,-30.0,-60.0,15.0]\n",
    "xmin, xmax = 80, 1030 # -83.54954954954955 -66.45045045045045\n",
    "ymin, ymax = 700, 1900 # -20.225225225225227 1.3783783783783794\n",
    "\n",
    "ch = '13' # valid channels: '07','08','09','10','11',...,'16'\n",
    "MinFileSize = 10.0 # Megabytes\n",
    "DateTimeIni = '20180101-000000'\n",
    "DateTimeFin = '20180101-010000'\n",
    "\n",
    "\n",
    "time = datetime.datetime.now()\n",
    "\n",
    "# ------------------\n",
    "# here define the corners of pixels where will accumulate the lightnings\n",
    "\n",
    "lat_cor = 14.0+np.arange(3665)*(-pixresol/111.0) #np.arange(14.0,-52.01,-pixresol/111.0)\n",
    "lon_cor = -85.0+np.arange(2945)*(pixresol/111.0) #-84.0+np.arange(2897)*(pixresol/111.0) #-84.0+np.arange(2889)*(pixresol/111.0) #np.arange(-84.0,-31.98,pixresol/111.0)\n",
    "lat_cen = lat_cor[:-1]-(pixresol/2.0)/111.0\n",
    "lon_cen = lon_cor[:-1]+(pixresol/2.0)/111.0\n",
    "lon_cor, lat_cor = np.meshgrid(lon_cor,lat_cor)\n",
    "lon_cen, lat_cen = np.meshgrid(lon_cen,lat_cen)\n",
    "\n",
    "lon_cor, lat_cor = lon_cor[ymin:ymax+1,xmin:xmax+1], lat_cor[ymin:ymax+1,xmin:xmax+1]\n",
    "lon_cen, lat_cen = lon_cen[ymin:ymax,xmin:xmax], lat_cen[ymin:ymax,xmin:xmax]\n",
    "\n",
    "'''\n",
    "npy, npx = lon_cen.shape\n",
    "lat_cor1km_all = np.linspace(lat_cor.max(),lat_cor.min(),int(npy*4/CH02pixresol+1))\n",
    "lon_cor1km_all = np.linspace(lon_cor.min(),lon_cor.max(),int(npx*4/CH02pixresol+1))\n",
    "lon_cen, lat_cen = np.meshgrid(lon_cor1km_all[1::2], lat_cor1km_all[1::2])\n",
    "lon_cor, lat_cor = np.meshgrid(lon_cor1km_all[0::2], lat_cor1km_all[0::2])\n",
    "\n",
    "\n",
    "del lat_cor1km_all, lon_cor1km_all\n",
    "'''\n",
    "\n",
    "#print('Cyl domain:')\n",
    "#print(lon_cen.min(),lon_cen.max())\n",
    "#print(lat_cen.min(),lat_cen.max())\n",
    "#print(' ')\n",
    "# ------------------\n",
    "\n",
    "DateTimeIni = datetime.datetime.strptime(DateTimeIni,'%Y%m%d-%H%M%S')\n",
    "DateTimeFin = datetime.datetime.strptime(DateTimeFin,'%Y%m%d-%H%M%S')\n",
    "\n",
    "SatLon = None\n",
    "\n",
    "while DateTimeIni <= DateTimeFin:\n",
    "\n",
    "    print(' ')\n",
    "\n",
    "    #if DateTimeIni.hour >= 10:\n",
    "\n",
    "    print('{:%Y%m%d-%H%M}   -   {:%Y%m%d-%H%M}  -  \\033[92m{}\\033[0m'.format(DateTimeIni, DateTimeIni + datetime.timedelta(hours=1), 'Diurnal time'))\n",
    "    files = get_bucket('16', 'ABI-L2-CMIPF', DateTimeIni.strftime('%Y%m%d-%H%M%S'), ch)\n",
    "\n",
    "    if 'CommandException' in files[0]:\n",
    "        print('  do not exist files')\n",
    "    else:\n",
    "\n",
    "        if os.path.exists(path_output+'C'+ch+DateTimeIni.strftime('/%Y/%m/'))==False:\n",
    "            os.makedirs(path_output+'C'+ch+DateTimeIni.strftime('/%Y/%m/'))\n",
    "\n",
    "        for file in files:\n",
    "\n",
    "            !gsutil -q cp $path_download$file .\n",
    "\n",
    "            FileSize = os.path.getsize(path_download+os.path.basename(file))*0.000001 # convert bytes to megabytes\n",
    "\n",
    "            if FileSize > MinFileSize:\n",
    "\n",
    "                ds = GOES.open_dataset(path_download+os.path.basename(file))\n",
    "\n",
    "                SatLonFile = np.float32(ds.variable('nominal_satellite_subpoint_lon').data)\n",
    "                if SatLon != SatLonFile:\n",
    "                    SatLon = SatLonFile\n",
    "                    print('  Calculates navigation!!!')\n",
    "                    CMI, LonCen, LatCen = ds.image('CMI', lonlat='center', domain=domain)\n",
    "                    domain_in_pixels = CMI.pixels_limits\n",
    "                    mask = np.where(np.isnan(CMI.data)==True, True, False)\n",
    "\n",
    "                    print(LonCen.data.shape)\n",
    "                    '''\n",
    "                    nx, ny = 2, 2\n",
    "                    ysize, xsize = LonCen.data.shape\n",
    "                    LonCen.data = np.mean(LonCen.data.reshape((int(ysize/ny),ny,int(xsize/nx),nx)), axis=(1,3))\n",
    "                    LatCen.data = np.mean(LatCen.data.reshape((int(ysize/ny),ny,int(xsize/nx),nx)), axis=(1,3))\n",
    "                    '''\n",
    "                    print(LonCen.data.shape)\n",
    "\n",
    "                else:\n",
    "                    CMI, _, _ = ds.image('CMI', lonlat='none', domain_in_pixels=domain_in_pixels, nan_mask=mask)\n",
    "\n",
    "\n",
    "                if CMI.time_bounds.data[0] >= DateTimeIni:\n",
    "\n",
    "                    '''\n",
    "                    CMI.data = np.mean(CMI.data.reshape((int(ysize/ny),ny,int(xsize/nx),nx)), axis=(1,3))\n",
    "                    '''\n",
    "\n",
    "                    print('  {}  {:6.2f} MB  {:%Y%m%d-%H%M}  \\033[92m{}\\033[0m'.format(os.path.basename(file),FileSize,CMI.time_bounds.data[0],'file accepted'))\n",
    "                    CMICyl = reproject(CMI.data, LonCen.data, LatCen.data, lon_cen, lat_cen)\n",
    "                    save_density_as_nc((CMICyl*1000).astype(np.int16), 'CMICyl', lon_cen, lat_cen, CMI.time_bounds.data[0], 'G16_C{}_Cyl_{:%Y%m%d-%H%M}.nc'.format(ch,CMI.time_bounds.data[0]), OutputPath=path_output+'C'+ch+(CMI.time_bounds.data[0]).strftime('/%Y/%m/'))\n",
    "                    os.remove(os.path.basename(file))\n",
    "                else:\n",
    "                    print('  {}  \\033[91m{:6.2f} MB\\033[0m  \\033[91m{:%Y%m%d-%H%M}\\033[0m  \\033[91m{}\\033[0m'.format(os.path.basename(file),FileSize,CMI.time_bounds.data[0],'file rejected'))\n",
    "\n",
    "            else:\n",
    "                print('  {}  \\033[91m{:6.2f} MB\\033[0m  {}  \\033[91m{}\\033[0m'.format(os.path.basename(file),FileSize,'             ','file rejected'))\n",
    "\n",
    "\n",
    "    #else:\n",
    "\n",
    "    #    print('{:%Y%m%d-%H%M}   -   {:%Y%m%d-%H%M}  -  \\033[91m{}\\033[0m'.format(DateTimeIni, DateTimeIni + datetime.timedelta(hours=1), 'Nightly time'))\n",
    "\n",
    "\n",
    "    DateTimeIni = DateTimeIni + datetime.timedelta(hours=1)\n",
    "\n",
    "print(' ')\n",
    "print((datetime.datetime.now() - time).seconds)\n"
   ]
  },
  {
   "cell_type": "code",
   "execution_count": 15,
   "metadata": {
    "id": "fUPwMFL5-pin"
   },
   "outputs": [],
   "source": []
  }
 ],
 "metadata": {
  "colab": {
   "collapsed_sections": [],
   "name": "CHIR_download_and_process_ABI_2018.ipynb",
   "provenance": []
  },
  "kernelspec": {
   "display_name": "Python 3 (ipykernel)",
   "language": "python",
   "name": "python3"
  },
  "language_info": {
   "codemirror_mode": {
    "name": "ipython",
    "version": 3
   },
   "file_extension": ".py",
   "mimetype": "text/x-python",
   "name": "python",
   "nbconvert_exporter": "python",
   "pygments_lexer": "ipython3",
   "version": "3.9.11"
  }
 },
 "nbformat": 4,
 "nbformat_minor": 1
}
